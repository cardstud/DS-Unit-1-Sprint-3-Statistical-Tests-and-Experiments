{
  "nbformat": 4,
  "nbformat_minor": 0,
  "metadata": {
    "colab": {
      "name": "Copy of ZstatisticsVideoNotes.ipynb",
      "provenance": [],
      "include_colab_link": true
    },
    "kernelspec": {
      "name": "python3",
      "display_name": "Python 3"
    }
  },
  "cells": [
    {
      "cell_type": "markdown",
      "metadata": {
        "id": "view-in-github",
        "colab_type": "text"
      },
      "source": [
        "<a href=\"https://colab.research.google.com/github/cardstud/DS-Unit-1-Sprint-3-Statistical-Tests-and-Experiments/blob/master/ZstatisticsVideoNotes.ipynb\" target=\"_parent\"><img src=\"https://colab.research.google.com/assets/colab-badge.svg\" alt=\"Open In Colab\"/></a>"
      ]
    },
    {
      "cell_type": "markdown",
      "metadata": {
        "id": "WZAyBBsFJCMW",
        "colab_type": "text"
      },
      "source": [
        "### Getting the WEIGHTED MEAN"
      ]
    },
    {
      "cell_type": "code",
      "metadata": {
        "id": "RdpMpe3xJIQK",
        "colab_type": "code",
        "colab": {}
      },
      "source": [
        "import pandas as pd\n",
        "import numpy as np\n",
        "import matplotlib.pyplot as plt"
      ],
      "execution_count": 0,
      "outputs": []
    },
    {
      "cell_type": "markdown",
      "metadata": {
        "id": "BsGq6l8wYx44",
        "colab_type": "text"
      },
      "source": [
        "### WEIGHTED MEAN"
      ]
    },
    {
      "cell_type": "code",
      "metadata": {
        "id": "y9YO35UogPtZ",
        "colab_type": "code",
        "colab": {}
      },
      "source": [
        "# Calculate weighted average mark\n",
        "data = {'Subject': ['Probability and Distributions', 'Statistical Inference', 'Regression I', 'Regression II'], 'Mark': [65, 81, 78,76], 'Credit Points':[4,4,6,6]}\n",
        "df= pd.DataFrame(data)"
      ],
      "execution_count": 0,
      "outputs": []
    },
    {
      "cell_type": "code",
      "metadata": {
        "id": "S4oHI3Liusql",
        "colab_type": "code",
        "outputId": "22789e5e-51d4-44d3-9f3a-65ab4a6883fe",
        "colab": {
          "base_uri": "https://localhost:8080/",
          "height": 173
        }
      },
      "source": [
        "#data = {'Subject': ['Probability and Distributions', 'Statistical Inference', 'Regression I', 'Regression II'], 'Mark': [65, 81, 78,76], 'Credit Points':[4,4,6,6]}\n",
        "df= pd.DataFrame(data={'Subject': ['Probability and Distributions', 'Statistical Inference', 'Regression I', 'Regression II'], 'Mark': [65, 81, 78,76], 'Credit Points':[4,4,6,6]})\n",
        "df"
      ],
      "execution_count": 0,
      "outputs": [
        {
          "output_type": "execute_result",
          "data": {
            "text/html": [
              "<div>\n",
              "<style scoped>\n",
              "    .dataframe tbody tr th:only-of-type {\n",
              "        vertical-align: middle;\n",
              "    }\n",
              "\n",
              "    .dataframe tbody tr th {\n",
              "        vertical-align: top;\n",
              "    }\n",
              "\n",
              "    .dataframe thead th {\n",
              "        text-align: right;\n",
              "    }\n",
              "</style>\n",
              "<table border=\"1\" class=\"dataframe\">\n",
              "  <thead>\n",
              "    <tr style=\"text-align: right;\">\n",
              "      <th></th>\n",
              "      <th>Subject</th>\n",
              "      <th>Mark</th>\n",
              "      <th>Credit Points</th>\n",
              "    </tr>\n",
              "  </thead>\n",
              "  <tbody>\n",
              "    <tr>\n",
              "      <th>0</th>\n",
              "      <td>Probability and Distributions</td>\n",
              "      <td>65</td>\n",
              "      <td>4</td>\n",
              "    </tr>\n",
              "    <tr>\n",
              "      <th>1</th>\n",
              "      <td>Statistical Inference</td>\n",
              "      <td>81</td>\n",
              "      <td>4</td>\n",
              "    </tr>\n",
              "    <tr>\n",
              "      <th>2</th>\n",
              "      <td>Regression I</td>\n",
              "      <td>78</td>\n",
              "      <td>6</td>\n",
              "    </tr>\n",
              "    <tr>\n",
              "      <th>3</th>\n",
              "      <td>Regression II</td>\n",
              "      <td>76</td>\n",
              "      <td>6</td>\n",
              "    </tr>\n",
              "  </tbody>\n",
              "</table>\n",
              "</div>"
            ],
            "text/plain": [
              "                         Subject  Mark  Credit Points\n",
              "0  Probability and Distributions    65              4\n",
              "1          Statistical Inference    81              4\n",
              "2                   Regression I    78              6\n",
              "3                  Regression II    76              6"
            ]
          },
          "metadata": {
            "tags": []
          },
          "execution_count": 4
        }
      ]
    },
    {
      "cell_type": "code",
      "metadata": {
        "id": "EaDu3_qLHmOA",
        "colab_type": "code",
        "outputId": "21da07aa-e9dd-49ca-f639-6e6c485348ca",
        "colab": {
          "base_uri": "https://localhost:8080/",
          "height": 34
        }
      },
      "source": [
        "# Doing a check to see if mean came out right manually\n",
        "(65*4) + (81*4) + (78*6) + (76*6)"
      ],
      "execution_count": 0,
      "outputs": [
        {
          "output_type": "execute_result",
          "data": {
            "text/plain": [
              "1508"
            ]
          },
          "metadata": {
            "tags": []
          },
          "execution_count": 5
        }
      ]
    },
    {
      "cell_type": "code",
      "metadata": {
        "id": "g-c-EGvvH0cH",
        "colab_type": "code",
        "outputId": "8286a15e-672c-46b7-cb86-a99d30419b07",
        "colab": {
          "base_uri": "https://localhost:8080/",
          "height": 34
        }
      },
      "source": [
        "1508 / 20"
      ],
      "execution_count": 0,
      "outputs": [
        {
          "output_type": "execute_result",
          "data": {
            "text/plain": [
              "75.4"
            ]
          },
          "metadata": {
            "tags": []
          },
          "execution_count": 6
        }
      ]
    },
    {
      "cell_type": "code",
      "metadata": {
        "id": "9g5VySq2i59I",
        "colab_type": "code",
        "outputId": "ea4f4b0d-3520-4028-cc3d-9b3a6f14febd",
        "colab": {
          "base_uri": "https://localhost:8080/",
          "height": 297
        }
      },
      "source": [
        "df.describe()"
      ],
      "execution_count": 0,
      "outputs": [
        {
          "output_type": "execute_result",
          "data": {
            "text/html": [
              "<div>\n",
              "<style scoped>\n",
              "    .dataframe tbody tr th:only-of-type {\n",
              "        vertical-align: middle;\n",
              "    }\n",
              "\n",
              "    .dataframe tbody tr th {\n",
              "        vertical-align: top;\n",
              "    }\n",
              "\n",
              "    .dataframe thead th {\n",
              "        text-align: right;\n",
              "    }\n",
              "</style>\n",
              "<table border=\"1\" class=\"dataframe\">\n",
              "  <thead>\n",
              "    <tr style=\"text-align: right;\">\n",
              "      <th></th>\n",
              "      <th>Mark</th>\n",
              "      <th>Credit Points</th>\n",
              "    </tr>\n",
              "  </thead>\n",
              "  <tbody>\n",
              "    <tr>\n",
              "      <th>count</th>\n",
              "      <td>4.00000</td>\n",
              "      <td>4.000000</td>\n",
              "    </tr>\n",
              "    <tr>\n",
              "      <th>mean</th>\n",
              "      <td>75.00000</td>\n",
              "      <td>5.000000</td>\n",
              "    </tr>\n",
              "    <tr>\n",
              "      <th>std</th>\n",
              "      <td>6.97615</td>\n",
              "      <td>1.154701</td>\n",
              "    </tr>\n",
              "    <tr>\n",
              "      <th>min</th>\n",
              "      <td>65.00000</td>\n",
              "      <td>4.000000</td>\n",
              "    </tr>\n",
              "    <tr>\n",
              "      <th>25%</th>\n",
              "      <td>73.25000</td>\n",
              "      <td>4.000000</td>\n",
              "    </tr>\n",
              "    <tr>\n",
              "      <th>50%</th>\n",
              "      <td>77.00000</td>\n",
              "      <td>5.000000</td>\n",
              "    </tr>\n",
              "    <tr>\n",
              "      <th>75%</th>\n",
              "      <td>78.75000</td>\n",
              "      <td>6.000000</td>\n",
              "    </tr>\n",
              "    <tr>\n",
              "      <th>max</th>\n",
              "      <td>81.00000</td>\n",
              "      <td>6.000000</td>\n",
              "    </tr>\n",
              "  </tbody>\n",
              "</table>\n",
              "</div>"
            ],
            "text/plain": [
              "           Mark  Credit Points\n",
              "count   4.00000       4.000000\n",
              "mean   75.00000       5.000000\n",
              "std     6.97615       1.154701\n",
              "min    65.00000       4.000000\n",
              "25%    73.25000       4.000000\n",
              "50%    77.00000       5.000000\n",
              "75%    78.75000       6.000000\n",
              "max    81.00000       6.000000"
            ]
          },
          "metadata": {
            "tags": []
          },
          "execution_count": 7
        }
      ]
    },
    {
      "cell_type": "code",
      "metadata": {
        "id": "824z_2DjjJpI",
        "colab_type": "code",
        "outputId": "c7ba5230-b884-4b16-d7f7-cff294146fe1",
        "colab": {
          "base_uri": "https://localhost:8080/",
          "height": 119
        }
      },
      "source": [
        "# One way to get mean of this dataset\n",
        "df.groupby(df['Subject']).apply(lambda x: np.average(df['Mark'], weights=df['Credit Points']))"
      ],
      "execution_count": 0,
      "outputs": [
        {
          "output_type": "execute_result",
          "data": {
            "text/plain": [
              "Subject\n",
              "Probability and Distributions    75.4\n",
              "Regression I                     75.4\n",
              "Regression II                    75.4\n",
              "Statistical Inference            75.4\n",
              "dtype: float64"
            ]
          },
          "metadata": {
            "tags": []
          },
          "execution_count": 8
        }
      ]
    },
    {
      "cell_type": "code",
      "metadata": {
        "id": "C_nBSfuyl8_z",
        "colab_type": "code",
        "colab": {}
      },
      "source": [
        "# Another way\n",
        "weighted = (df['Mark']*df['Credit Points']).sum()/df['Credit Points'].sum()"
      ],
      "execution_count": 0,
      "outputs": []
    },
    {
      "cell_type": "code",
      "metadata": {
        "id": "pzXlkIj3mo0L",
        "colab_type": "code",
        "outputId": "ce523798-e6eb-4189-962b-4ee2c4fccaf8",
        "colab": {
          "base_uri": "https://localhost:8080/",
          "height": 34
        }
      },
      "source": [
        "weighted"
      ],
      "execution_count": 0,
      "outputs": [
        {
          "output_type": "execute_result",
          "data": {
            "text/plain": [
              "75.4"
            ]
          },
          "metadata": {
            "tags": []
          },
          "execution_count": 10
        }
      ]
    },
    {
      "cell_type": "code",
      "metadata": {
        "id": "P1-X_YZGHFc2",
        "colab_type": "code",
        "outputId": "bcac8f54-fa7a-4b3f-fa02-164d13fb735f",
        "colab": {
          "base_uri": "https://localhost:8080/",
          "height": 204
        }
      },
      "source": [
        "# Change index to Subject\n",
        "df1 = df.set_index(['Subject'])\n",
        "df1"
      ],
      "execution_count": 0,
      "outputs": [
        {
          "output_type": "execute_result",
          "data": {
            "text/html": [
              "<div>\n",
              "<style scoped>\n",
              "    .dataframe tbody tr th:only-of-type {\n",
              "        vertical-align: middle;\n",
              "    }\n",
              "\n",
              "    .dataframe tbody tr th {\n",
              "        vertical-align: top;\n",
              "    }\n",
              "\n",
              "    .dataframe thead th {\n",
              "        text-align: right;\n",
              "    }\n",
              "</style>\n",
              "<table border=\"1\" class=\"dataframe\">\n",
              "  <thead>\n",
              "    <tr style=\"text-align: right;\">\n",
              "      <th></th>\n",
              "      <th>Mark</th>\n",
              "      <th>Credit Points</th>\n",
              "    </tr>\n",
              "    <tr>\n",
              "      <th>Subject</th>\n",
              "      <th></th>\n",
              "      <th></th>\n",
              "    </tr>\n",
              "  </thead>\n",
              "  <tbody>\n",
              "    <tr>\n",
              "      <th>Probability and Distributions</th>\n",
              "      <td>65</td>\n",
              "      <td>4</td>\n",
              "    </tr>\n",
              "    <tr>\n",
              "      <th>Statistical Inference</th>\n",
              "      <td>81</td>\n",
              "      <td>4</td>\n",
              "    </tr>\n",
              "    <tr>\n",
              "      <th>Regression I</th>\n",
              "      <td>78</td>\n",
              "      <td>6</td>\n",
              "    </tr>\n",
              "    <tr>\n",
              "      <th>Regression II</th>\n",
              "      <td>76</td>\n",
              "      <td>6</td>\n",
              "    </tr>\n",
              "  </tbody>\n",
              "</table>\n",
              "</div>"
            ],
            "text/plain": [
              "                               Mark  Credit Points\n",
              "Subject                                           \n",
              "Probability and Distributions    65              4\n",
              "Statistical Inference            81              4\n",
              "Regression I                     78              6\n",
              "Regression II                    76              6"
            ]
          },
          "metadata": {
            "tags": []
          },
          "execution_count": 11
        }
      ]
    },
    {
      "cell_type": "code",
      "metadata": {
        "id": "uobPu6iZImCk",
        "colab_type": "code",
        "colab": {}
      },
      "source": [
        "# Calculate weighted mean of the df\n",
        "weighted = (df1['Mark']*df1['Credit Points']).sum()/df1['Credit Points'].sum()"
      ],
      "execution_count": 0,
      "outputs": []
    },
    {
      "cell_type": "code",
      "metadata": {
        "id": "g3zHpLQbI2H4",
        "colab_type": "code",
        "outputId": "d468ee6b-84c7-4824-9bf3-f215dc810ce6",
        "colab": {
          "base_uri": "https://localhost:8080/",
          "height": 34
        }
      },
      "source": [
        "weighted"
      ],
      "execution_count": 0,
      "outputs": [
        {
          "output_type": "execute_result",
          "data": {
            "text/plain": [
              "75.4"
            ]
          },
          "metadata": {
            "tags": []
          },
          "execution_count": 13
        }
      ]
    },
    {
      "cell_type": "code",
      "metadata": {
        "id": "wJTzXW-GI5kG",
        "colab_type": "code",
        "outputId": "5f3f7e2e-e121-471c-c7f6-e8c6b806b67f",
        "colab": {
          "base_uri": "https://localhost:8080/",
          "height": 119
        }
      },
      "source": [
        "# Another example\n",
        "df = pd.Series([1.98, 2.03, 2.11, 2.16, 1.88], index = ['X1', 'X2', 'X3', 'X4', 'X5'])\n",
        "df"
      ],
      "execution_count": 0,
      "outputs": [
        {
          "output_type": "execute_result",
          "data": {
            "text/plain": [
              "X1    1.98\n",
              "X2    2.03\n",
              "X3    2.11\n",
              "X4    2.16\n",
              "X5    1.88\n",
              "dtype: float64"
            ]
          },
          "metadata": {
            "tags": []
          },
          "execution_count": 14
        }
      ]
    },
    {
      "cell_type": "code",
      "metadata": {
        "id": "zj6zJBgRL3nw",
        "colab_type": "code",
        "outputId": "fb1fffd9-f829-4a1a-bdbc-541b60471522",
        "colab": {
          "base_uri": "https://localhost:8080/",
          "height": 34
        }
      },
      "source": [
        "df.mean()"
      ],
      "execution_count": 0,
      "outputs": [
        {
          "output_type": "execute_result",
          "data": {
            "text/plain": [
              "2.032"
            ]
          },
          "metadata": {
            "tags": []
          },
          "execution_count": 15
        }
      ]
    },
    {
      "cell_type": "markdown",
      "metadata": {
        "id": "TBiH55YgYrOy",
        "colab_type": "text"
      },
      "source": [
        "### GEOMETRIC MEAN - commonly used with rates of return"
      ]
    },
    {
      "cell_type": "code",
      "metadata": {
        "id": "iewEORCbL4wq",
        "colab_type": "code",
        "colab": {}
      },
      "source": [
        "# My tesla stock gained 10% in Year 1, 20% in Year 2 and 30% in Year 3.\n",
        "#     What is the average yearly rate of return?"
      ],
      "execution_count": 0,
      "outputs": []
    },
    {
      "cell_type": "code",
      "metadata": {
        "id": "TQxOKC0JP107",
        "colab_type": "code",
        "colab": {}
      },
      "source": [
        "#from statistics import geometric_mean\n",
        "from scipy import stats"
      ],
      "execution_count": 0,
      "outputs": []
    },
    {
      "cell_type": "code",
      "metadata": {
        "id": "QTUHd1h1Nc13",
        "colab_type": "code",
        "outputId": "de26981d-23b0-4934-d569-10828c035b48",
        "colab": {
          "base_uri": "https://localhost:8080/",
          "height": 173
        }
      },
      "source": [
        "yearly_return = pd.DataFrame({'Year':[100, 110, 132, 171.60], 'Rate of Return': [100.0, 110.0, 132.0, 171.6]})\n",
        "yearly_return"
      ],
      "execution_count": 0,
      "outputs": [
        {
          "output_type": "execute_result",
          "data": {
            "text/html": [
              "<div>\n",
              "<style scoped>\n",
              "    .dataframe tbody tr th:only-of-type {\n",
              "        vertical-align: middle;\n",
              "    }\n",
              "\n",
              "    .dataframe tbody tr th {\n",
              "        vertical-align: top;\n",
              "    }\n",
              "\n",
              "    .dataframe thead th {\n",
              "        text-align: right;\n",
              "    }\n",
              "</style>\n",
              "<table border=\"1\" class=\"dataframe\">\n",
              "  <thead>\n",
              "    <tr style=\"text-align: right;\">\n",
              "      <th></th>\n",
              "      <th>Year</th>\n",
              "      <th>Rate of Return</th>\n",
              "    </tr>\n",
              "  </thead>\n",
              "  <tbody>\n",
              "    <tr>\n",
              "      <th>0</th>\n",
              "      <td>100.0</td>\n",
              "      <td>100.0</td>\n",
              "    </tr>\n",
              "    <tr>\n",
              "      <th>1</th>\n",
              "      <td>110.0</td>\n",
              "      <td>110.0</td>\n",
              "    </tr>\n",
              "    <tr>\n",
              "      <th>2</th>\n",
              "      <td>132.0</td>\n",
              "      <td>132.0</td>\n",
              "    </tr>\n",
              "    <tr>\n",
              "      <th>3</th>\n",
              "      <td>171.6</td>\n",
              "      <td>171.6</td>\n",
              "    </tr>\n",
              "  </tbody>\n",
              "</table>\n",
              "</div>"
            ],
            "text/plain": [
              "    Year  Rate of Return\n",
              "0  100.0           100.0\n",
              "1  110.0           110.0\n",
              "2  132.0           132.0\n",
              "3  171.6           171.6"
            ]
          },
          "metadata": {
            "tags": []
          },
          "execution_count": 18
        }
      ]
    },
    {
      "cell_type": "code",
      "metadata": {
        "id": "nvelFvyANc4g",
        "colab_type": "code",
        "colab": {}
      },
      "source": [
        "h = stats.gmean(yearly_return)"
      ],
      "execution_count": 0,
      "outputs": []
    },
    {
      "cell_type": "code",
      "metadata": {
        "id": "dINXl47jNc7S",
        "colab_type": "code",
        "outputId": "a6f86eef-4cd4-48e9-a3e8-416b528dcf92",
        "colab": {
          "base_uri": "https://localhost:8080/",
          "height": 34
        }
      },
      "source": [
        "h"
      ],
      "execution_count": 0,
      "outputs": [
        {
          "output_type": "execute_result",
          "data": {
            "text/plain": [
              "array([125.63798861, 125.63798861])"
            ]
          },
          "metadata": {
            "tags": []
          },
          "execution_count": 20
        }
      ]
    },
    {
      "cell_type": "code",
      "metadata": {
        "id": "22a3BV4RZPnC",
        "colab_type": "code",
        "colab": {}
      },
      "source": [
        "# Column wise =     scipy.stats.gmean(df.iloc[:,1:3],axis=0)\n",
        "# Specific column = scipy.stats.gmean(df.loc[:,\"Score1\"])\n",
        "# Row wise =        scipy.stats.gmean(df.iloc[:,1:3],axis=1)"
      ],
      "execution_count": 0,
      "outputs": []
    },
    {
      "cell_type": "code",
      "metadata": {
        "id": "2pj4LOIAXV7h",
        "colab_type": "code",
        "colab": {}
      },
      "source": [
        "#scipy.stats.gmean(df.iloc[:,1:3],axis=0)\n",
        "h = stats.gmean(yearly_return.iloc[:, 1], axis=0)"
      ],
      "execution_count": 0,
      "outputs": []
    },
    {
      "cell_type": "code",
      "metadata": {
        "id": "AG44m8vPYZae",
        "colab_type": "code",
        "outputId": "00e52868-2562-4a35-d9c7-09118f5c0c09",
        "colab": {
          "base_uri": "https://localhost:8080/",
          "height": 34
        }
      },
      "source": [
        "h"
      ],
      "execution_count": 0,
      "outputs": [
        {
          "output_type": "execute_result",
          "data": {
            "text/plain": [
              "125.63798860573131"
            ]
          },
          "metadata": {
            "tags": []
          },
          "execution_count": 23
        }
      ]
    },
    {
      "cell_type": "code",
      "metadata": {
        "id": "XW0qaI4taSlK",
        "colab_type": "code",
        "colab": {}
      },
      "source": [
        "# Answer should be 1.1972, remove one so .19 or 19% "
      ],
      "execution_count": 0,
      "outputs": []
    },
    {
      "cell_type": "markdown",
      "metadata": {
        "id": "Rby7d64EVOBB",
        "colab_type": "text"
      },
      "source": [
        "### HARMONIC MEAN - commonly used with rates"
      ]
    },
    {
      "cell_type": "code",
      "metadata": {
        "id": "a8CT0BHQQfLM",
        "colab_type": "code",
        "colab": {}
      },
      "source": [
        "# I swim one minute of freestyle at 3 km/h, then one minute of breaststroke at 2 km/h. -- fixed time\n",
        "#     What is my average speed"
      ],
      "execution_count": 0,
      "outputs": []
    },
    {
      "cell_type": "code",
      "metadata": {
        "id": "Ksg06pefS8Ic",
        "colab_type": "code",
        "colab": {}
      },
      "source": [
        "# Distance/time --> Average across Fixed time --> Arithmetic mean because it is about fixed time (denominator of distance/time)"
      ],
      "execution_count": 0,
      "outputs": []
    },
    {
      "cell_type": "code",
      "metadata": {
        "id": "dotxBnhkSeLX",
        "colab_type": "code",
        "colab": {}
      },
      "source": [
        "df = pd.DataFrame(data={'Style': ['freestyle', 'breastsroke'], 'Time': [1, 1], 'Speed (km/h)': [3, 2]})"
      ],
      "execution_count": 0,
      "outputs": []
    },
    {
      "cell_type": "code",
      "metadata": {
        "id": "BCFDckoBSeOL",
        "colab_type": "code",
        "outputId": "4db38852-d958-4295-e108-126f9b654e61",
        "colab": {
          "base_uri": "https://localhost:8080/",
          "height": 111
        }
      },
      "source": [
        "df"
      ],
      "execution_count": 0,
      "outputs": [
        {
          "output_type": "execute_result",
          "data": {
            "text/html": [
              "<div>\n",
              "<style scoped>\n",
              "    .dataframe tbody tr th:only-of-type {\n",
              "        vertical-align: middle;\n",
              "    }\n",
              "\n",
              "    .dataframe tbody tr th {\n",
              "        vertical-align: top;\n",
              "    }\n",
              "\n",
              "    .dataframe thead th {\n",
              "        text-align: right;\n",
              "    }\n",
              "</style>\n",
              "<table border=\"1\" class=\"dataframe\">\n",
              "  <thead>\n",
              "    <tr style=\"text-align: right;\">\n",
              "      <th></th>\n",
              "      <th>Style</th>\n",
              "      <th>Time</th>\n",
              "      <th>Speed (km/h)</th>\n",
              "    </tr>\n",
              "  </thead>\n",
              "  <tbody>\n",
              "    <tr>\n",
              "      <th>0</th>\n",
              "      <td>freestyle</td>\n",
              "      <td>1</td>\n",
              "      <td>3</td>\n",
              "    </tr>\n",
              "    <tr>\n",
              "      <th>1</th>\n",
              "      <td>breastsroke</td>\n",
              "      <td>1</td>\n",
              "      <td>2</td>\n",
              "    </tr>\n",
              "  </tbody>\n",
              "</table>\n",
              "</div>"
            ],
            "text/plain": [
              "         Style  Time  Speed (km/h)\n",
              "0    freestyle     1             3\n",
              "1  breastsroke     1             2"
            ]
          },
          "metadata": {
            "tags": []
          },
          "execution_count": 28
        }
      ]
    },
    {
      "cell_type": "code",
      "metadata": {
        "id": "eicF7rKlSeQj",
        "colab_type": "code",
        "outputId": "5e48fc91-e42f-4d82-dab0-76e0509b63fb",
        "colab": {
          "base_uri": "https://localhost:8080/",
          "height": 68
        }
      },
      "source": [
        "# Arithmetic mean\n",
        "df.mean()"
      ],
      "execution_count": 0,
      "outputs": [
        {
          "output_type": "execute_result",
          "data": {
            "text/plain": [
              "Time            1.0\n",
              "Speed (km/h)    2.5\n",
              "dtype: float64"
            ]
          },
          "metadata": {
            "tags": []
          },
          "execution_count": 29
        }
      ]
    },
    {
      "cell_type": "code",
      "metadata": {
        "id": "swlTw0c7SeS1",
        "colab_type": "code",
        "colab": {}
      },
      "source": [
        "# Now, if i swim one lap of freestle at 3 km/h then\n",
        "#   one lap of breaststroke at 2 km/h.\n",
        "# What is average speed\n",
        "\n",
        "# Difference here is that I am swimming a longer lap at 2 km/h so no longer arithmetic mean - fixed distance\n",
        "# Distance/time --> Average across distance --> Harmonic Mean - this is about fixed distance (numerator of distance/time)"
      ],
      "execution_count": 0,
      "outputs": []
    },
    {
      "cell_type": "code",
      "metadata": {
        "id": "sOHVxc6tSeqS",
        "colab_type": "code",
        "colab": {}
      },
      "source": [
        "df1 = pd.DataFrame(data={'Style': ['freestyle', 'breastsroke'], 'Lap': [1, 1], 'Speed (km/h)': [3, 2]})"
      ],
      "execution_count": 0,
      "outputs": []
    },
    {
      "cell_type": "code",
      "metadata": {
        "id": "KOwwM8DrSevX",
        "colab_type": "code",
        "outputId": "96aa56ab-a259-40e2-ce97-c87febceface",
        "colab": {
          "base_uri": "https://localhost:8080/",
          "height": 111
        }
      },
      "source": [
        "df1"
      ],
      "execution_count": 0,
      "outputs": [
        {
          "output_type": "execute_result",
          "data": {
            "text/html": [
              "<div>\n",
              "<style scoped>\n",
              "    .dataframe tbody tr th:only-of-type {\n",
              "        vertical-align: middle;\n",
              "    }\n",
              "\n",
              "    .dataframe tbody tr th {\n",
              "        vertical-align: top;\n",
              "    }\n",
              "\n",
              "    .dataframe thead th {\n",
              "        text-align: right;\n",
              "    }\n",
              "</style>\n",
              "<table border=\"1\" class=\"dataframe\">\n",
              "  <thead>\n",
              "    <tr style=\"text-align: right;\">\n",
              "      <th></th>\n",
              "      <th>Style</th>\n",
              "      <th>Lap</th>\n",
              "      <th>Speed (km/h)</th>\n",
              "    </tr>\n",
              "  </thead>\n",
              "  <tbody>\n",
              "    <tr>\n",
              "      <th>0</th>\n",
              "      <td>freestyle</td>\n",
              "      <td>1</td>\n",
              "      <td>3</td>\n",
              "    </tr>\n",
              "    <tr>\n",
              "      <th>1</th>\n",
              "      <td>breastsroke</td>\n",
              "      <td>1</td>\n",
              "      <td>2</td>\n",
              "    </tr>\n",
              "  </tbody>\n",
              "</table>\n",
              "</div>"
            ],
            "text/plain": [
              "         Style  Lap  Speed (km/h)\n",
              "0    freestyle    1             3\n",
              "1  breastsroke    1             2"
            ]
          },
          "metadata": {
            "tags": []
          },
          "execution_count": 32
        }
      ]
    },
    {
      "cell_type": "code",
      "metadata": {
        "id": "nivbGWFOWoek",
        "colab_type": "code",
        "outputId": "1b070b88-6450-4ab0-b98a-3ecf6b1ec4e4",
        "colab": {
          "base_uri": "https://localhost:8080/",
          "height": 142
        }
      },
      "source": [
        "df2 = df1.set_index(['Style'])\n",
        "df2"
      ],
      "execution_count": 0,
      "outputs": [
        {
          "output_type": "execute_result",
          "data": {
            "text/html": [
              "<div>\n",
              "<style scoped>\n",
              "    .dataframe tbody tr th:only-of-type {\n",
              "        vertical-align: middle;\n",
              "    }\n",
              "\n",
              "    .dataframe tbody tr th {\n",
              "        vertical-align: top;\n",
              "    }\n",
              "\n",
              "    .dataframe thead th {\n",
              "        text-align: right;\n",
              "    }\n",
              "</style>\n",
              "<table border=\"1\" class=\"dataframe\">\n",
              "  <thead>\n",
              "    <tr style=\"text-align: right;\">\n",
              "      <th></th>\n",
              "      <th>Lap</th>\n",
              "      <th>Speed (km/h)</th>\n",
              "    </tr>\n",
              "    <tr>\n",
              "      <th>Style</th>\n",
              "      <th></th>\n",
              "      <th></th>\n",
              "    </tr>\n",
              "  </thead>\n",
              "  <tbody>\n",
              "    <tr>\n",
              "      <th>freestyle</th>\n",
              "      <td>1</td>\n",
              "      <td>3</td>\n",
              "    </tr>\n",
              "    <tr>\n",
              "      <th>breastsroke</th>\n",
              "      <td>1</td>\n",
              "      <td>2</td>\n",
              "    </tr>\n",
              "  </tbody>\n",
              "</table>\n",
              "</div>"
            ],
            "text/plain": [
              "             Lap  Speed (km/h)\n",
              "Style                         \n",
              "freestyle      1             3\n",
              "breastsroke    1             2"
            ]
          },
          "metadata": {
            "tags": []
          },
          "execution_count": 33
        }
      ]
    },
    {
      "cell_type": "code",
      "metadata": {
        "id": "4iute3VtY_QH",
        "colab_type": "code",
        "colab": {}
      },
      "source": [
        "# Column wise     = scipy.stats.hmean(df.iloc[:,1:3],axis=0)\n",
        "# Specifi column  = scipy.stats.hmean(df.loc[:,\"Score1\"])\n",
        "# Row wise        = scipy.stats.hmean(df.iloc[:,1:3],axis=1)"
      ],
      "execution_count": 0,
      "outputs": []
    },
    {
      "cell_type": "code",
      "metadata": {
        "id": "cX04it5YSexv",
        "colab_type": "code",
        "colab": {}
      },
      "source": [
        "g = stats.hmean(df2.iloc[:, \"Speed\"])"
      ],
      "execution_count": 0,
      "outputs": []
    },
    {
      "cell_type": "code",
      "metadata": {
        "id": "edXqcK36Se07",
        "colab_type": "code",
        "colab": {}
      },
      "source": [
        "# Answer should be 2.4"
      ],
      "execution_count": 0,
      "outputs": []
    },
    {
      "cell_type": "markdown",
      "metadata": {
        "id": "qioixaQ9bpuJ",
        "colab_type": "text"
      },
      "source": [
        "### MEDIAN\n",
        "\n",
        "- Definition: The median is the middle number of the series when ordered"
      ]
    },
    {
      "cell_type": "code",
      "metadata": {
        "id": "ErLtO23lbr-d",
        "colab_type": "code",
        "outputId": "30b7eefc-d945-4673-c4da-af20e4b5f545",
        "colab": {
          "base_uri": "https://localhost:8080/",
          "height": 119
        }
      },
      "source": [
        "# Odd set of numbers - just take middle of the ordered list\n",
        "g = pd.Series([10,28,28,53,54])\n",
        "g"
      ],
      "execution_count": 0,
      "outputs": [
        {
          "output_type": "execute_result",
          "data": {
            "text/plain": [
              "0    10\n",
              "1    28\n",
              "2    28\n",
              "3    53\n",
              "4    54\n",
              "dtype: int64"
            ]
          },
          "metadata": {
            "tags": []
          },
          "execution_count": 36
        }
      ]
    },
    {
      "cell_type": "code",
      "metadata": {
        "id": "brlkznPQbsA8",
        "colab_type": "code",
        "outputId": "2eff3775-0159-4fbc-a331-6d5a75481012",
        "colab": {
          "base_uri": "https://localhost:8080/",
          "height": 34
        }
      },
      "source": [
        "g.median()"
      ],
      "execution_count": 0,
      "outputs": [
        {
          "output_type": "execute_result",
          "data": {
            "text/plain": [
              "28.0"
            ]
          },
          "metadata": {
            "tags": []
          },
          "execution_count": 37
        }
      ]
    },
    {
      "cell_type": "code",
      "metadata": {
        "id": "d1TXzfdDbsDZ",
        "colab_type": "code",
        "outputId": "f74cde78-9dc3-4a45-8dea-7119144c2221",
        "colab": {
          "base_uri": "https://localhost:8080/",
          "height": 136
        }
      },
      "source": [
        "# Even set of numbers - take average of the 2 middle numbers\n",
        "h = pd.Series([10,28,28,33,54,59])\n",
        "h"
      ],
      "execution_count": 0,
      "outputs": [
        {
          "output_type": "execute_result",
          "data": {
            "text/plain": [
              "0    10\n",
              "1    28\n",
              "2    28\n",
              "3    33\n",
              "4    54\n",
              "5    59\n",
              "dtype: int64"
            ]
          },
          "metadata": {
            "tags": []
          },
          "execution_count": 38
        }
      ]
    },
    {
      "cell_type": "code",
      "metadata": {
        "id": "NcJSTFXhbsF_",
        "colab_type": "code",
        "outputId": "cd57062d-31ee-401d-8051-77235b89e97a",
        "colab": {
          "base_uri": "https://localhost:8080/",
          "height": 34
        }
      },
      "source": [
        "h.median()"
      ],
      "execution_count": 0,
      "outputs": [
        {
          "output_type": "execute_result",
          "data": {
            "text/plain": [
              "30.5"
            ]
          },
          "metadata": {
            "tags": []
          },
          "execution_count": 39
        }
      ]
    },
    {
      "cell_type": "markdown",
      "metadata": {
        "id": "leCXXNkSdplj",
        "colab_type": "text"
      },
      "source": [
        "### MEAN vs MEDIAN\n",
        "- Symmetric distributions (Bell curve, bimodal distribution) - here the mean will be roughy equal to median\n",
        "- Asymmetric distributions (skewed distributions) -  wherever median is, the mean will be somewhat higher"
      ]
    },
    {
      "cell_type": "code",
      "metadata": {
        "id": "iPzBTMExbsIt",
        "colab_type": "code",
        "outputId": "37a7c9f0-9699-4cf6-a168-0c736069d0d9",
        "colab": {
          "base_uri": "https://localhost:8080/",
          "height": 119
        }
      },
      "source": [
        "# Which is more representative of this series, mean or median?\n",
        "a = pd.Series([10, 28, 28, 33, 540])\n",
        "a"
      ],
      "execution_count": 0,
      "outputs": [
        {
          "output_type": "execute_result",
          "data": {
            "text/plain": [
              "0     10\n",
              "1     28\n",
              "2     28\n",
              "3     33\n",
              "4    540\n",
              "dtype: int64"
            ]
          },
          "metadata": {
            "tags": []
          },
          "execution_count": 40
        }
      ]
    },
    {
      "cell_type": "code",
      "metadata": {
        "id": "WJp00OrEdCmO",
        "colab_type": "code",
        "outputId": "dbb9184f-15d8-4560-b4fe-de941e668861",
        "colab": {
          "base_uri": "https://localhost:8080/",
          "height": 34
        }
      },
      "source": [
        "a.mean()"
      ],
      "execution_count": 0,
      "outputs": [
        {
          "output_type": "execute_result",
          "data": {
            "text/plain": [
              "127.8"
            ]
          },
          "metadata": {
            "tags": []
          },
          "execution_count": 41
        }
      ]
    },
    {
      "cell_type": "code",
      "metadata": {
        "id": "46iFe7LbdCo-",
        "colab_type": "code",
        "outputId": "99792526-3447-4002-8bdc-aba5f0022f0f",
        "colab": {
          "base_uri": "https://localhost:8080/",
          "height": 34
        }
      },
      "source": [
        "a.median()"
      ],
      "execution_count": 0,
      "outputs": [
        {
          "output_type": "execute_result",
          "data": {
            "text/plain": [
              "28.0"
            ]
          },
          "metadata": {
            "tags": []
          },
          "execution_count": 42
        }
      ]
    },
    {
      "cell_type": "code",
      "metadata": {
        "id": "QASgzrLOdCro",
        "colab_type": "code",
        "colab": {}
      },
      "source": [
        "# So which is more reflective of the central tendency of this set? Clearly its the 28, not 127.8\n",
        "#    So median is more representative of a skewed dataset, particularly when its heavily skewed"
      ],
      "execution_count": 0,
      "outputs": []
    },
    {
      "cell_type": "markdown",
      "metadata": {
        "id": "Ya_88MSxe3gs",
        "colab_type": "text"
      },
      "source": [
        "### MODE\n",
        "- Definition: The observation with the highest frequency\n",
        "- Small sample: Mode is not a good representation\n",
        "- Large sample: Mode is good"
      ]
    },
    {
      "cell_type": "code",
      "metadata": {
        "id": "7XRYB59kN95j",
        "colab_type": "code",
        "colab": {}
      },
      "source": [
        "import statistics\n",
        "import pandas as pd"
      ],
      "execution_count": 0,
      "outputs": []
    },
    {
      "cell_type": "code",
      "metadata": {
        "id": "G298oAL9bsLH",
        "colab_type": "code",
        "outputId": "d9f96faf-3595-46c6-a6d9-2b40b5bced91",
        "colab": {
          "base_uri": "https://localhost:8080/",
          "height": 119
        }
      },
      "source": [
        "b = pd.Series([10,28,28,33,54])\n",
        "b"
      ],
      "execution_count": 0,
      "outputs": [
        {
          "output_type": "execute_result",
          "data": {
            "text/plain": [
              "0    10\n",
              "1    28\n",
              "2    28\n",
              "3    33\n",
              "4    54\n",
              "dtype: int64"
            ]
          },
          "metadata": {
            "tags": []
          },
          "execution_count": 44
        }
      ]
    },
    {
      "cell_type": "code",
      "metadata": {
        "id": "VES5qqBfbsNW",
        "colab_type": "code",
        "outputId": "d1c46714-cc14-4704-989b-1fa23050b06d",
        "colab": {
          "base_uri": "https://localhost:8080/",
          "height": 51
        }
      },
      "source": [
        "b.mode()"
      ],
      "execution_count": 0,
      "outputs": [
        {
          "output_type": "execute_result",
          "data": {
            "text/plain": [
              "0    28\n",
              "dtype: int64"
            ]
          },
          "metadata": {
            "tags": []
          },
          "execution_count": 45
        }
      ]
    },
    {
      "cell_type": "code",
      "metadata": {
        "id": "caJJ7pbzfMIH",
        "colab_type": "code",
        "outputId": "961e4272-4c2c-46b6-f882-026e1fc9a437",
        "colab": {
          "base_uri": "https://localhost:8080/",
          "height": 119
        }
      },
      "source": [
        "# Mode is quite fickle..below could say no mode or alternatively could say there are 5 modes each with a frequency of 1\n",
        "c = pd.Series([10,27,28,33,54])\n",
        "c"
      ],
      "execution_count": 0,
      "outputs": [
        {
          "output_type": "execute_result",
          "data": {
            "text/plain": [
              "0    10\n",
              "1    27\n",
              "2    28\n",
              "3    33\n",
              "4    54\n",
              "dtype: int64"
            ]
          },
          "metadata": {
            "tags": []
          },
          "execution_count": 46
        }
      ]
    },
    {
      "cell_type": "code",
      "metadata": {
        "id": "-izl4AzTfXBS",
        "colab_type": "code",
        "outputId": "b11efeb1-09ff-4047-bbd0-e3a3f7fd2786",
        "colab": {
          "base_uri": "https://localhost:8080/",
          "height": 119
        }
      },
      "source": [
        "# No duplicate values so all are the mode with a frequency of 1\n",
        "c.mode()"
      ],
      "execution_count": 0,
      "outputs": [
        {
          "output_type": "execute_result",
          "data": {
            "text/plain": [
              "0    10\n",
              "1    27\n",
              "2    28\n",
              "3    33\n",
              "4    54\n",
              "dtype: int64"
            ]
          },
          "metadata": {
            "tags": []
          },
          "execution_count": 47
        }
      ]
    },
    {
      "cell_type": "code",
      "metadata": {
        "id": "WmgYhVoRfYJ6",
        "colab_type": "code",
        "outputId": "6ee50af7-4a06-407d-9041-2d86a2ae5b50",
        "colab": {
          "base_uri": "https://localhost:8080/",
          "height": 119
        }
      },
      "source": [
        "# Small sample - mode is not good representation \n",
        "d = pd.Series([10,27,28,54,54])\n",
        "d"
      ],
      "execution_count": 0,
      "outputs": [
        {
          "output_type": "execute_result",
          "data": {
            "text/plain": [
              "0    10\n",
              "1    27\n",
              "2    28\n",
              "3    54\n",
              "4    54\n",
              "dtype: int64"
            ]
          },
          "metadata": {
            "tags": []
          },
          "execution_count": 48
        }
      ]
    },
    {
      "cell_type": "code",
      "metadata": {
        "id": "4ruFiK_ofj16",
        "colab_type": "code",
        "outputId": "d6810212-58f6-4efc-a018-5c2d055ce518",
        "colab": {
          "base_uri": "https://localhost:8080/",
          "height": 51
        }
      },
      "source": [
        "d.mode()"
      ],
      "execution_count": 0,
      "outputs": [
        {
          "output_type": "execute_result",
          "data": {
            "text/plain": [
              "0    54\n",
              "dtype: int64"
            ]
          },
          "metadata": {
            "tags": []
          },
          "execution_count": 49
        }
      ]
    },
    {
      "cell_type": "code",
      "metadata": {
        "id": "FH-RFxSBflMJ",
        "colab_type": "code",
        "colab": {}
      },
      "source": [
        "# is 54 a great representation of this dataset?\n",
        "#   No, mode is bad in small datasets"
      ],
      "execution_count": 0,
      "outputs": []
    },
    {
      "cell_type": "code",
      "metadata": {
        "id": "H1viNNc0fsLy",
        "colab_type": "code",
        "outputId": "09cd568a-1edf-4f19-8cfa-88d6bd3a47cc",
        "colab": {
          "base_uri": "https://localhost:8080/",
          "height": 136
        }
      },
      "source": [
        "# Decent size dataset\n",
        "# How many children in your family - census in Australia asked this\n",
        "df = pd.Series( [1.5, 1.8, 1.0, 0.4, 0.2, 0.1], index=['1', '2', '3', '4', '5', '6+'])\n",
        "df"
      ],
      "execution_count": 0,
      "outputs": [
        {
          "output_type": "execute_result",
          "data": {
            "text/plain": [
              "1     1.5\n",
              "2     1.8\n",
              "3     1.0\n",
              "4     0.4\n",
              "5     0.2\n",
              "6+    0.1\n",
              "dtype: float64"
            ]
          },
          "metadata": {
            "tags": []
          },
          "execution_count": 60
        }
      ]
    },
    {
      "cell_type": "code",
      "metadata": {
        "id": "lzPKKdFtfsOT",
        "colab_type": "code",
        "outputId": "48d4dbdb-12c4-4faa-f160-4badcb1d4c92",
        "colab": {
          "base_uri": "https://localhost:8080/",
          "height": 136
        }
      },
      "source": [
        "df.mode()"
      ],
      "execution_count": 0,
      "outputs": [
        {
          "output_type": "execute_result",
          "data": {
            "text/plain": [
              "0    0.1\n",
              "1    0.2\n",
              "2    0.4\n",
              "3    1.0\n",
              "4    1.5\n",
              "5    1.8\n",
              "dtype: float64"
            ]
          },
          "metadata": {
            "tags": []
          },
          "execution_count": 65
        }
      ]
    },
    {
      "cell_type": "code",
      "metadata": {
        "id": "L4MoB-A5fsQu",
        "colab_type": "code",
        "outputId": "d6be1a8f-bafd-48c8-a09e-bd1eb364e493",
        "colab": {
          "base_uri": "https://localhost:8080/",
          "height": 34
        }
      },
      "source": [
        "d.mean()"
      ],
      "execution_count": 0,
      "outputs": [
        {
          "output_type": "execute_result",
          "data": {
            "text/plain": [
              "34.6"
            ]
          },
          "metadata": {
            "tags": []
          },
          "execution_count": 63
        }
      ]
    },
    {
      "cell_type": "code",
      "metadata": {
        "id": "aJszZHLSfsTZ",
        "colab_type": "code",
        "outputId": "abca3638-7248-4633-fcbc-2aa594d10430",
        "colab": {
          "base_uri": "https://localhost:8080/",
          "height": 34
        }
      },
      "source": [
        "d.median()"
      ],
      "execution_count": 0,
      "outputs": [
        {
          "output_type": "execute_result",
          "data": {
            "text/plain": [
              "28.0"
            ]
          },
          "metadata": {
            "tags": []
          },
          "execution_count": 64
        }
      ]
    },
    {
      "cell_type": "code",
      "metadata": {
        "id": "eGRin6fEPCs6",
        "colab_type": "code",
        "outputId": "18e8fcdb-0ca7-4d52-c352-ff4dfe856602",
        "colab": {
          "base_uri": "https://localhost:8080/",
          "height": 235
        }
      },
      "source": [
        "df1 = pd.DataFrame(data={'Kids':[1,2,3,4,5,6], 'Families':[1.5, 1.8, 1.0, 0.4, 0.2, 0.1]})\n",
        "df1"
      ],
      "execution_count": 0,
      "outputs": [
        {
          "output_type": "execute_result",
          "data": {
            "text/html": [
              "<div>\n",
              "<style scoped>\n",
              "    .dataframe tbody tr th:only-of-type {\n",
              "        vertical-align: middle;\n",
              "    }\n",
              "\n",
              "    .dataframe tbody tr th {\n",
              "        vertical-align: top;\n",
              "    }\n",
              "\n",
              "    .dataframe thead th {\n",
              "        text-align: right;\n",
              "    }\n",
              "</style>\n",
              "<table border=\"1\" class=\"dataframe\">\n",
              "  <thead>\n",
              "    <tr style=\"text-align: right;\">\n",
              "      <th></th>\n",
              "      <th>Kids</th>\n",
              "      <th>Families</th>\n",
              "    </tr>\n",
              "  </thead>\n",
              "  <tbody>\n",
              "    <tr>\n",
              "      <th>0</th>\n",
              "      <td>1</td>\n",
              "      <td>1.5</td>\n",
              "    </tr>\n",
              "    <tr>\n",
              "      <th>1</th>\n",
              "      <td>2</td>\n",
              "      <td>1.8</td>\n",
              "    </tr>\n",
              "    <tr>\n",
              "      <th>2</th>\n",
              "      <td>3</td>\n",
              "      <td>1.0</td>\n",
              "    </tr>\n",
              "    <tr>\n",
              "      <th>3</th>\n",
              "      <td>4</td>\n",
              "      <td>0.4</td>\n",
              "    </tr>\n",
              "    <tr>\n",
              "      <th>4</th>\n",
              "      <td>5</td>\n",
              "      <td>0.2</td>\n",
              "    </tr>\n",
              "    <tr>\n",
              "      <th>5</th>\n",
              "      <td>6</td>\n",
              "      <td>0.1</td>\n",
              "    </tr>\n",
              "  </tbody>\n",
              "</table>\n",
              "</div>"
            ],
            "text/plain": [
              "   Kids  Families\n",
              "0     1       1.5\n",
              "1     2       1.8\n",
              "2     3       1.0\n",
              "3     4       0.4\n",
              "4     5       0.2\n",
              "5     6       0.1"
            ]
          },
          "metadata": {
            "tags": []
          },
          "execution_count": 67
        }
      ]
    },
    {
      "cell_type": "code",
      "metadata": {
        "id": "8XFQRYLdPr9j",
        "colab_type": "code",
        "outputId": "0f01a1cc-d466-4792-9a01-9e0ea5889dbc",
        "colab": {
          "base_uri": "https://localhost:8080/",
          "height": 235
        }
      },
      "source": [
        "df1.mode()"
      ],
      "execution_count": 0,
      "outputs": [
        {
          "output_type": "execute_result",
          "data": {
            "text/html": [
              "<div>\n",
              "<style scoped>\n",
              "    .dataframe tbody tr th:only-of-type {\n",
              "        vertical-align: middle;\n",
              "    }\n",
              "\n",
              "    .dataframe tbody tr th {\n",
              "        vertical-align: top;\n",
              "    }\n",
              "\n",
              "    .dataframe thead th {\n",
              "        text-align: right;\n",
              "    }\n",
              "</style>\n",
              "<table border=\"1\" class=\"dataframe\">\n",
              "  <thead>\n",
              "    <tr style=\"text-align: right;\">\n",
              "      <th></th>\n",
              "      <th>Kids</th>\n",
              "      <th>Families</th>\n",
              "    </tr>\n",
              "  </thead>\n",
              "  <tbody>\n",
              "    <tr>\n",
              "      <th>0</th>\n",
              "      <td>1</td>\n",
              "      <td>0.1</td>\n",
              "    </tr>\n",
              "    <tr>\n",
              "      <th>1</th>\n",
              "      <td>2</td>\n",
              "      <td>0.2</td>\n",
              "    </tr>\n",
              "    <tr>\n",
              "      <th>2</th>\n",
              "      <td>3</td>\n",
              "      <td>0.4</td>\n",
              "    </tr>\n",
              "    <tr>\n",
              "      <th>3</th>\n",
              "      <td>4</td>\n",
              "      <td>1.0</td>\n",
              "    </tr>\n",
              "    <tr>\n",
              "      <th>4</th>\n",
              "      <td>5</td>\n",
              "      <td>1.5</td>\n",
              "    </tr>\n",
              "    <tr>\n",
              "      <th>5</th>\n",
              "      <td>6</td>\n",
              "      <td>1.8</td>\n",
              "    </tr>\n",
              "  </tbody>\n",
              "</table>\n",
              "</div>"
            ],
            "text/plain": [
              "   Kids  Families\n",
              "0     1       0.1\n",
              "1     2       0.2\n",
              "2     3       0.4\n",
              "3     4       1.0\n",
              "4     5       1.5\n",
              "5     6       1.8"
            ]
          },
          "metadata": {
            "tags": []
          },
          "execution_count": 68
        }
      ]
    },
    {
      "cell_type": "code",
      "metadata": {
        "id": "LAGGEfEZPuEj",
        "colab_type": "code",
        "outputId": "052262de-ea14-47f1-920c-8ee569ee1a54",
        "colab": {
          "base_uri": "https://localhost:8080/",
          "height": 34
        }
      },
      "source": [
        "df.median()"
      ],
      "execution_count": 0,
      "outputs": [
        {
          "output_type": "execute_result",
          "data": {
            "text/plain": [
              "0.7"
            ]
          },
          "metadata": {
            "tags": []
          },
          "execution_count": 69
        }
      ]
    },
    {
      "cell_type": "code",
      "metadata": {
        "id": "Wk2rMzDIPvLL",
        "colab_type": "code",
        "outputId": "83d84e2e-7153-4b10-f00b-8b43e588c6e2",
        "colab": {
          "base_uri": "https://localhost:8080/",
          "height": 34
        }
      },
      "source": [
        "df.mean()"
      ],
      "execution_count": 0,
      "outputs": [
        {
          "output_type": "execute_result",
          "data": {
            "text/plain": [
              "0.8333333333333334"
            ]
          },
          "metadata": {
            "tags": []
          },
          "execution_count": 70
        }
      ]
    },
    {
      "cell_type": "code",
      "metadata": {
        "id": "0IAdEPApPxK7",
        "colab_type": "code",
        "outputId": "224525f8-6100-4f8b-d158-6ad54c9a4f6a",
        "colab": {
          "base_uri": "https://localhost:8080/",
          "height": 136
        }
      },
      "source": [
        "#df.loc[:,\"Score1\"].mode()\n",
        "df1.loc[:, \"Kids\"].mode()"
      ],
      "execution_count": 0,
      "outputs": [
        {
          "output_type": "execute_result",
          "data": {
            "text/plain": [
              "0    1\n",
              "1    2\n",
              "2    3\n",
              "3    4\n",
              "4    5\n",
              "5    6\n",
              "dtype: int64"
            ]
          },
          "metadata": {
            "tags": []
          },
          "execution_count": 71
        }
      ]
    },
    {
      "cell_type": "code",
      "metadata": {
        "id": "1axCAu8DQJuL",
        "colab_type": "code",
        "outputId": "e7676f6f-5b5b-4d15-c4bf-6faa36102a57",
        "colab": {
          "base_uri": "https://localhost:8080/",
          "height": 34
        }
      },
      "source": [
        "df1.loc[:, \"Kids\"].mean()"
      ],
      "execution_count": 0,
      "outputs": [
        {
          "output_type": "execute_result",
          "data": {
            "text/plain": [
              "3.5"
            ]
          },
          "metadata": {
            "tags": []
          },
          "execution_count": 72
        }
      ]
    },
    {
      "cell_type": "code",
      "metadata": {
        "id": "LTzbHB3MQNnz",
        "colab_type": "code",
        "colab": {}
      },
      "source": [
        ""
      ],
      "execution_count": 0,
      "outputs": []
    },
    {
      "cell_type": "markdown",
      "metadata": {
        "id": "F6rwo7y8QlVc",
        "colab_type": "text"
      },
      "source": [
        "### Positively Skewed\n",
        "- mode < median < mean\n"
      ]
    },
    {
      "cell_type": "markdown",
      "metadata": {
        "id": "etbho5QYUD8N",
        "colab_type": "text"
      },
      "source": [
        "### QUANTILES - just a way to split the datasetup into parts\n",
        "## 2 ways: one to include median, other to exclude. If dataset is large, wont matter.\n",
        "- Quartiles (into quarters)\n",
        "- Deciles (into tenths)\n",
        "- Percentiles (into 100ths)"
      ]
    },
    {
      "cell_type": "code",
      "metadata": {
        "id": "IrYJ-q8XULTI",
        "colab_type": "code",
        "colab": {}
      },
      "source": [
        "import numpy as np\n",
        "# Ordered dataset\n",
        "x = np.arange(4, 190)"
      ],
      "execution_count": 0,
      "outputs": []
    },
    {
      "cell_type": "code",
      "metadata": {
        "id": "PVP8zyq8ULWa",
        "colab_type": "code",
        "outputId": "adc47979-9863-4b3b-e02a-6b11bf837364",
        "colab": {
          "base_uri": "https://localhost:8080/",
          "height": 272
        }
      },
      "source": [
        "x"
      ],
      "execution_count": 0,
      "outputs": [
        {
          "output_type": "execute_result",
          "data": {
            "text/plain": [
              "array([  4,   5,   6,   7,   8,   9,  10,  11,  12,  13,  14,  15,  16,\n",
              "        17,  18,  19,  20,  21,  22,  23,  24,  25,  26,  27,  28,  29,\n",
              "        30,  31,  32,  33,  34,  35,  36,  37,  38,  39,  40,  41,  42,\n",
              "        43,  44,  45,  46,  47,  48,  49,  50,  51,  52,  53,  54,  55,\n",
              "        56,  57,  58,  59,  60,  61,  62,  63,  64,  65,  66,  67,  68,\n",
              "        69,  70,  71,  72,  73,  74,  75,  76,  77,  78,  79,  80,  81,\n",
              "        82,  83,  84,  85,  86,  87,  88,  89,  90,  91,  92,  93,  94,\n",
              "        95,  96,  97,  98,  99, 100, 101, 102, 103, 104, 105, 106, 107,\n",
              "       108, 109, 110, 111, 112, 113, 114, 115, 116, 117, 118, 119, 120,\n",
              "       121, 122, 123, 124, 125, 126, 127, 128, 129, 130, 131, 132, 133,\n",
              "       134, 135, 136, 137, 138, 139, 140, 141, 142, 143, 144, 145, 146,\n",
              "       147, 148, 149, 150, 151, 152, 153, 154, 155, 156, 157, 158, 159,\n",
              "       160, 161, 162, 163, 164, 165, 166, 167, 168, 169, 170, 171, 172,\n",
              "       173, 174, 175, 176, 177, 178, 179, 180, 181, 182, 183, 184, 185,\n",
              "       186, 187, 188, 189])"
            ]
          },
          "metadata": {
            "tags": []
          },
          "execution_count": 74
        }
      ]
    },
    {
      "cell_type": "code",
      "metadata": {
        "id": "w13tnkFIUk3o",
        "colab_type": "code",
        "outputId": "7da89f54-cf3e-483b-f1f4-fb85e9f6d7d7",
        "colab": {
          "base_uri": "https://localhost:8080/",
          "height": 204
        }
      },
      "source": [
        "df = pd.DataFrame(data=x)\n",
        "df.head()"
      ],
      "execution_count": 0,
      "outputs": [
        {
          "output_type": "execute_result",
          "data": {
            "text/html": [
              "<div>\n",
              "<style scoped>\n",
              "    .dataframe tbody tr th:only-of-type {\n",
              "        vertical-align: middle;\n",
              "    }\n",
              "\n",
              "    .dataframe tbody tr th {\n",
              "        vertical-align: top;\n",
              "    }\n",
              "\n",
              "    .dataframe thead th {\n",
              "        text-align: right;\n",
              "    }\n",
              "</style>\n",
              "<table border=\"1\" class=\"dataframe\">\n",
              "  <thead>\n",
              "    <tr style=\"text-align: right;\">\n",
              "      <th></th>\n",
              "      <th>0</th>\n",
              "    </tr>\n",
              "  </thead>\n",
              "  <tbody>\n",
              "    <tr>\n",
              "      <th>0</th>\n",
              "      <td>4</td>\n",
              "    </tr>\n",
              "    <tr>\n",
              "      <th>1</th>\n",
              "      <td>5</td>\n",
              "    </tr>\n",
              "    <tr>\n",
              "      <th>2</th>\n",
              "      <td>6</td>\n",
              "    </tr>\n",
              "    <tr>\n",
              "      <th>3</th>\n",
              "      <td>7</td>\n",
              "    </tr>\n",
              "    <tr>\n",
              "      <th>4</th>\n",
              "      <td>8</td>\n",
              "    </tr>\n",
              "  </tbody>\n",
              "</table>\n",
              "</div>"
            ],
            "text/plain": [
              "   0\n",
              "0  4\n",
              "1  5\n",
              "2  6\n",
              "3  7\n",
              "4  8"
            ]
          },
          "metadata": {
            "tags": []
          },
          "execution_count": 89
        }
      ]
    },
    {
      "cell_type": "code",
      "metadata": {
        "id": "aZ9YDTjuUVhO",
        "colab_type": "code",
        "outputId": "e3d569e0-2c19-4f0b-e080-ad4790a7ca29",
        "colab": {
          "base_uri": "https://localhost:8080/",
          "height": 51
        }
      },
      "source": [
        "# How to describe the dataset\n",
        "df.max()"
      ],
      "execution_count": 0,
      "outputs": [
        {
          "output_type": "execute_result",
          "data": {
            "text/plain": [
              "0    189\n",
              "dtype: int64"
            ]
          },
          "metadata": {
            "tags": []
          },
          "execution_count": 84
        }
      ]
    },
    {
      "cell_type": "code",
      "metadata": {
        "id": "jcniOCFPUdzm",
        "colab_type": "code",
        "outputId": "784e6d2d-3229-4138-fd26-cd1ed1d8ab39",
        "colab": {
          "base_uri": "https://localhost:8080/",
          "height": 51
        }
      },
      "source": [
        "df.min()"
      ],
      "execution_count": 0,
      "outputs": [
        {
          "output_type": "execute_result",
          "data": {
            "text/plain": [
              "0    4\n",
              "dtype: int64"
            ]
          },
          "metadata": {
            "tags": []
          },
          "execution_count": 85
        }
      ]
    },
    {
      "cell_type": "code",
      "metadata": {
        "id": "VsGzMvA_Uedt",
        "colab_type": "code",
        "outputId": "a0297215-9a8a-4eab-b7a8-337d45c5948d",
        "colab": {
          "base_uri": "https://localhost:8080/",
          "height": 51
        }
      },
      "source": [
        "df.mean()"
      ],
      "execution_count": 0,
      "outputs": [
        {
          "output_type": "execute_result",
          "data": {
            "text/plain": [
              "0    96.5\n",
              "dtype: float64"
            ]
          },
          "metadata": {
            "tags": []
          },
          "execution_count": 86
        }
      ]
    },
    {
      "cell_type": "code",
      "metadata": {
        "id": "32pcyI-jUftG",
        "colab_type": "code",
        "outputId": "8a1635a6-3122-4b00-d9ba-8c86b4e204fe",
        "colab": {
          "base_uri": "https://localhost:8080/",
          "height": 51
        }
      },
      "source": [
        "df.median()"
      ],
      "execution_count": 0,
      "outputs": [
        {
          "output_type": "execute_result",
          "data": {
            "text/plain": [
              "0    96.5\n",
              "dtype: float64"
            ]
          },
          "metadata": {
            "tags": []
          },
          "execution_count": 87
        }
      ]
    },
    {
      "cell_type": "code",
      "metadata": {
        "id": "_ey7EG99Ug7O",
        "colab_type": "code",
        "colab": {}
      },
      "source": [
        "df.mode()"
      ],
      "execution_count": 0,
      "outputs": []
    },
    {
      "cell_type": "code",
      "metadata": {
        "id": "dvJeQ956UyST",
        "colab_type": "code",
        "colab": {}
      },
      "source": [
        "# The first quartile is the observation that is one quarter of the way through the ordered dataset\n",
        "# The second quartile would be the median (it's two quarters through dataset)\n",
        "# The third quartile would be the htird quarter of the ordered dataset (is 3 quarters through the dataset)\n",
        "# The fourth quartile is the last quarter of the dataset\n"
      ],
      "execution_count": 0,
      "outputs": []
    },
    {
      "cell_type": "code",
      "metadata": {
        "id": "l0WvxKOEVpPP",
        "colab_type": "code",
        "colab": {}
      },
      "source": [
        "# Decile splits the dataset into 10ths (whereas quartile splits it into quarters)\n",
        "# The first decile is the observation that is one thenth of the way through the dataset\n",
        "# The 2nd decile is two-tenths through the dataset (and so on)"
      ],
      "execution_count": 0,
      "outputs": []
    },
    {
      "cell_type": "code",
      "metadata": {
        "id": "YlHB6uXNWDE-",
        "colab_type": "code",
        "colab": {}
      },
      "source": [
        "# Percentiles split the dataset into 100ths\n",
        "# The first percentile is one percent of the way through the dataset\n",
        "# The second percentile is two percent of the way through the dataset(and so on)"
      ],
      "execution_count": 0,
      "outputs": []
    },
    {
      "cell_type": "code",
      "metadata": {
        "id": "tAxozmenWDDO",
        "colab_type": "code",
        "colab": {}
      },
      "source": [
        "# Example\n",
        "x = pd.Series([2,2,5,6,9,10,13])"
      ],
      "execution_count": 0,
      "outputs": []
    },
    {
      "cell_type": "code",
      "metadata": {
        "id": "xMZNGNuBXBPi",
        "colab_type": "code",
        "outputId": "d4f82d4f-4191-4d91-89f7-b2d33bcf79a6",
        "colab": {
          "base_uri": "https://localhost:8080/",
          "height": 153
        }
      },
      "source": [
        "x"
      ],
      "execution_count": 0,
      "outputs": [
        {
          "output_type": "execute_result",
          "data": {
            "text/plain": [
              "0     2\n",
              "1     2\n",
              "2     5\n",
              "3     6\n",
              "4     9\n",
              "5    10\n",
              "6    13\n",
              "dtype: int64"
            ]
          },
          "metadata": {
            "tags": []
          },
          "execution_count": 91
        }
      ]
    },
    {
      "cell_type": "code",
      "metadata": {
        "id": "9qZLgql3XBm6",
        "colab_type": "code",
        "outputId": "e4d25a08-9c1b-4913-9203-e65d9cb018b6",
        "colab": {
          "base_uri": "https://localhost:8080/",
          "height": 34
        }
      },
      "source": [
        "# Find the five number summary (Min, Q1, Q2, Q3, Max) for the series above\n",
        "x.min()"
      ],
      "execution_count": 0,
      "outputs": [
        {
          "output_type": "execute_result",
          "data": {
            "text/plain": [
              "2"
            ]
          },
          "metadata": {
            "tags": []
          },
          "execution_count": 92
        }
      ]
    },
    {
      "cell_type": "code",
      "metadata": {
        "id": "IIJPUerjXKcC",
        "colab_type": "code",
        "outputId": "f735c0ee-086c-4eaf-f34a-e584af1909b9",
        "colab": {
          "base_uri": "https://localhost:8080/",
          "height": 34
        }
      },
      "source": [
        "x.max()"
      ],
      "execution_count": 0,
      "outputs": [
        {
          "output_type": "execute_result",
          "data": {
            "text/plain": [
              "13"
            ]
          },
          "metadata": {
            "tags": []
          },
          "execution_count": 93
        }
      ]
    },
    {
      "cell_type": "code",
      "metadata": {
        "id": "XuWLf4PfXLEp",
        "colab_type": "code",
        "outputId": "83e4e4ea-558a-43a0-f788-c70dabcafd30",
        "colab": {
          "base_uri": "https://localhost:8080/",
          "height": 34
        }
      },
      "source": [
        "x.median() # which is Q2"
      ],
      "execution_count": 0,
      "outputs": [
        {
          "output_type": "execute_result",
          "data": {
            "text/plain": [
              "6.0"
            ]
          },
          "metadata": {
            "tags": []
          },
          "execution_count": 94
        }
      ]
    },
    {
      "cell_type": "code",
      "metadata": {
        "id": "AH2NbbEIXL7R",
        "colab_type": "code",
        "outputId": "f5c5cfc3-048d-4a98-f226-8a8339ec61ad",
        "colab": {
          "base_uri": "https://localhost:8080/",
          "height": 34
        }
      },
      "source": [
        "x.mean()"
      ],
      "execution_count": 0,
      "outputs": [
        {
          "output_type": "execute_result",
          "data": {
            "text/plain": [
              "6.714285714285714"
            ]
          },
          "metadata": {
            "tags": []
          },
          "execution_count": 95
        }
      ]
    },
    {
      "cell_type": "code",
      "metadata": {
        "id": "NtlELcJgXM8J",
        "colab_type": "code",
        "outputId": "94d25e1e-f286-4c09-b1e4-5e0a2a845ae3",
        "colab": {
          "base_uri": "https://localhost:8080/",
          "height": 85
        }
      },
      "source": [
        "x.quantile([0.25, .5, .75])"
      ],
      "execution_count": 0,
      "outputs": [
        {
          "output_type": "execute_result",
          "data": {
            "text/plain": [
              "0.25    3.5\n",
              "0.50    6.0\n",
              "0.75    9.5\n",
              "dtype: float64"
            ]
          },
          "metadata": {
            "tags": []
          },
          "execution_count": 96
        }
      ]
    },
    {
      "cell_type": "code",
      "metadata": {
        "id": "7HMMMGP1XkXZ",
        "colab_type": "code",
        "outputId": "e727ccec-9c49-4e1f-c824-dd8f00943a79",
        "colab": {
          "base_uri": "https://localhost:8080/",
          "height": 170
        }
      },
      "source": [
        "x.describe()"
      ],
      "execution_count": 0,
      "outputs": [
        {
          "output_type": "execute_result",
          "data": {
            "text/plain": [
              "count     7.000000\n",
              "mean      6.714286\n",
              "std       4.151879\n",
              "min       2.000000\n",
              "25%       3.500000\n",
              "50%       6.000000\n",
              "75%       9.500000\n",
              "max      13.000000\n",
              "dtype: float64"
            ]
          },
          "metadata": {
            "tags": []
          },
          "execution_count": 98
        }
      ]
    },
    {
      "cell_type": "markdown",
      "metadata": {
        "id": "ES2bHZJViEHz",
        "colab_type": "text"
      },
      "source": [
        "### RANGE AND INTERQUARTILE RANGE (IQRs)\n",
        "- Range is the measure of the spread of a dataset. It is the maximum - the minimum value\n",
        "- IQR is the 3rd quartile minus the 1st quartile (Q3 - Q1 = IQR)"
      ]
    },
    {
      "cell_type": "code",
      "metadata": {
        "id": "qD5sgE0zXm4S",
        "colab_type": "code",
        "outputId": "8daf4d7c-7028-453c-d5d0-f5eb1c120925",
        "colab": {
          "base_uri": "https://localhost:8080/",
          "height": 266
        }
      },
      "source": [
        "x = pd.DataFrame(data= [2,2,5,6,9,10,58])\n",
        "x"
      ],
      "execution_count": 0,
      "outputs": [
        {
          "output_type": "execute_result",
          "data": {
            "text/html": [
              "<div>\n",
              "<style scoped>\n",
              "    .dataframe tbody tr th:only-of-type {\n",
              "        vertical-align: middle;\n",
              "    }\n",
              "\n",
              "    .dataframe tbody tr th {\n",
              "        vertical-align: top;\n",
              "    }\n",
              "\n",
              "    .dataframe thead th {\n",
              "        text-align: right;\n",
              "    }\n",
              "</style>\n",
              "<table border=\"1\" class=\"dataframe\">\n",
              "  <thead>\n",
              "    <tr style=\"text-align: right;\">\n",
              "      <th></th>\n",
              "      <th>0</th>\n",
              "    </tr>\n",
              "  </thead>\n",
              "  <tbody>\n",
              "    <tr>\n",
              "      <th>0</th>\n",
              "      <td>2</td>\n",
              "    </tr>\n",
              "    <tr>\n",
              "      <th>1</th>\n",
              "      <td>2</td>\n",
              "    </tr>\n",
              "    <tr>\n",
              "      <th>2</th>\n",
              "      <td>5</td>\n",
              "    </tr>\n",
              "    <tr>\n",
              "      <th>3</th>\n",
              "      <td>6</td>\n",
              "    </tr>\n",
              "    <tr>\n",
              "      <th>4</th>\n",
              "      <td>9</td>\n",
              "    </tr>\n",
              "    <tr>\n",
              "      <th>5</th>\n",
              "      <td>10</td>\n",
              "    </tr>\n",
              "    <tr>\n",
              "      <th>6</th>\n",
              "      <td>58</td>\n",
              "    </tr>\n",
              "  </tbody>\n",
              "</table>\n",
              "</div>"
            ],
            "text/plain": [
              "    0\n",
              "0   2\n",
              "1   2\n",
              "2   5\n",
              "3   6\n",
              "4   9\n",
              "5  10\n",
              "6  58"
            ]
          },
          "metadata": {
            "tags": []
          },
          "execution_count": 108
        }
      ]
    },
    {
      "cell_type": "code",
      "metadata": {
        "id": "ttcmboXajAEF",
        "colab_type": "code",
        "outputId": "fcc9c052-7df3-4d2b-c230-85244bb5eb3d",
        "colab": {
          "base_uri": "https://localhost:8080/",
          "height": 80
        }
      },
      "source": [
        "x.quantile([0.5])"
      ],
      "execution_count": 0,
      "outputs": [
        {
          "output_type": "execute_result",
          "data": {
            "text/html": [
              "<div>\n",
              "<style scoped>\n",
              "    .dataframe tbody tr th:only-of-type {\n",
              "        vertical-align: middle;\n",
              "    }\n",
              "\n",
              "    .dataframe tbody tr th {\n",
              "        vertical-align: top;\n",
              "    }\n",
              "\n",
              "    .dataframe thead th {\n",
              "        text-align: right;\n",
              "    }\n",
              "</style>\n",
              "<table border=\"1\" class=\"dataframe\">\n",
              "  <thead>\n",
              "    <tr style=\"text-align: right;\">\n",
              "      <th></th>\n",
              "      <th>0</th>\n",
              "    </tr>\n",
              "  </thead>\n",
              "  <tbody>\n",
              "    <tr>\n",
              "      <th>0.5</th>\n",
              "      <td>6.0</td>\n",
              "    </tr>\n",
              "  </tbody>\n",
              "</table>\n",
              "</div>"
            ],
            "text/plain": [
              "       0\n",
              "0.5  6.0"
            ]
          },
          "metadata": {
            "tags": []
          },
          "execution_count": 109
        }
      ]
    },
    {
      "cell_type": "code",
      "metadata": {
        "id": "w3P8FX9IjgKa",
        "colab_type": "code",
        "colab": {}
      },
      "source": [
        "q75, q25 = np.percentile(x, [75 ,25])\n",
        "iqr = q75 - q25"
      ],
      "execution_count": 0,
      "outputs": []
    },
    {
      "cell_type": "code",
      "metadata": {
        "id": "VRfd7Dh5kDkS",
        "colab_type": "code",
        "outputId": "09b4650b-4e2c-46f4-8e86-95aab583001f",
        "colab": {
          "base_uri": "https://localhost:8080/",
          "height": 34
        }
      },
      "source": [
        "iqr"
      ],
      "execution_count": 0,
      "outputs": [
        {
          "output_type": "execute_result",
          "data": {
            "text/plain": [
              "6.0"
            ]
          },
          "metadata": {
            "tags": []
          },
          "execution_count": 111
        }
      ]
    },
    {
      "cell_type": "code",
      "metadata": {
        "id": "MpPK5wRqk_8v",
        "colab_type": "code",
        "outputId": "61b2d78a-0af9-4bba-eb25-6d633efdf861",
        "colab": {
          "base_uri": "https://localhost:8080/",
          "height": 34
        }
      },
      "source": [
        "q75 = np.percentile(x, [25])\n",
        "q75"
      ],
      "execution_count": 0,
      "outputs": [
        {
          "output_type": "execute_result",
          "data": {
            "text/plain": [
              "array([3.5])"
            ]
          },
          "metadata": {
            "tags": []
          },
          "execution_count": 115
        }
      ]
    },
    {
      "cell_type": "code",
      "metadata": {
        "id": "jHFhOJU-kEjx",
        "colab_type": "code",
        "colab": {}
      },
      "source": [
        "# Big spread doesnt hurt the IQR where the outlier could change greatly the range"
      ],
      "execution_count": 0,
      "outputs": []
    },
    {
      "cell_type": "markdown",
      "metadata": {
        "id": "OLsHAH5rl-IS",
        "colab_type": "text"
      },
      "source": [
        "### VARIANCE AND STANDARD DEVIATION\n",
        "- Variance is the average squared deviation from the population mean\n",
        "- Standard Deviation\n"
      ]
    },
    {
      "cell_type": "code",
      "metadata": {
        "id": "xjDGogqblMai",
        "colab_type": "code",
        "outputId": "1b64e4d1-db8f-4368-c78a-7a2f2ffb6e7c",
        "colab": {
          "base_uri": "https://localhost:8080/",
          "height": 421
        }
      },
      "source": [
        "# Weekly expenditure on  petrol\n",
        "df = pd.DataFrame(data={'Week': [1,2,3,4,5,6,7,8,9,10,11,12], 'Expenditure': [48.50, 87.40, 19.98, 59.74, 40.87, 105.51, 40.80, 23.10, 98.10, 60.54, 64.81, 48.01]})\n",
        "df"
      ],
      "execution_count": 0,
      "outputs": [
        {
          "output_type": "execute_result",
          "data": {
            "text/html": [
              "<div>\n",
              "<style scoped>\n",
              "    .dataframe tbody tr th:only-of-type {\n",
              "        vertical-align: middle;\n",
              "    }\n",
              "\n",
              "    .dataframe tbody tr th {\n",
              "        vertical-align: top;\n",
              "    }\n",
              "\n",
              "    .dataframe thead th {\n",
              "        text-align: right;\n",
              "    }\n",
              "</style>\n",
              "<table border=\"1\" class=\"dataframe\">\n",
              "  <thead>\n",
              "    <tr style=\"text-align: right;\">\n",
              "      <th></th>\n",
              "      <th>Week</th>\n",
              "      <th>Expenditure</th>\n",
              "    </tr>\n",
              "  </thead>\n",
              "  <tbody>\n",
              "    <tr>\n",
              "      <th>0</th>\n",
              "      <td>1</td>\n",
              "      <td>48.50</td>\n",
              "    </tr>\n",
              "    <tr>\n",
              "      <th>1</th>\n",
              "      <td>2</td>\n",
              "      <td>87.40</td>\n",
              "    </tr>\n",
              "    <tr>\n",
              "      <th>2</th>\n",
              "      <td>3</td>\n",
              "      <td>19.98</td>\n",
              "    </tr>\n",
              "    <tr>\n",
              "      <th>3</th>\n",
              "      <td>4</td>\n",
              "      <td>59.74</td>\n",
              "    </tr>\n",
              "    <tr>\n",
              "      <th>4</th>\n",
              "      <td>5</td>\n",
              "      <td>40.87</td>\n",
              "    </tr>\n",
              "    <tr>\n",
              "      <th>5</th>\n",
              "      <td>6</td>\n",
              "      <td>105.51</td>\n",
              "    </tr>\n",
              "    <tr>\n",
              "      <th>6</th>\n",
              "      <td>7</td>\n",
              "      <td>40.80</td>\n",
              "    </tr>\n",
              "    <tr>\n",
              "      <th>7</th>\n",
              "      <td>8</td>\n",
              "      <td>23.10</td>\n",
              "    </tr>\n",
              "    <tr>\n",
              "      <th>8</th>\n",
              "      <td>9</td>\n",
              "      <td>98.10</td>\n",
              "    </tr>\n",
              "    <tr>\n",
              "      <th>9</th>\n",
              "      <td>10</td>\n",
              "      <td>60.54</td>\n",
              "    </tr>\n",
              "    <tr>\n",
              "      <th>10</th>\n",
              "      <td>11</td>\n",
              "      <td>64.81</td>\n",
              "    </tr>\n",
              "    <tr>\n",
              "      <th>11</th>\n",
              "      <td>12</td>\n",
              "      <td>48.01</td>\n",
              "    </tr>\n",
              "  </tbody>\n",
              "</table>\n",
              "</div>"
            ],
            "text/plain": [
              "    Week  Expenditure\n",
              "0      1        48.50\n",
              "1      2        87.40\n",
              "2      3        19.98\n",
              "3      4        59.74\n",
              "4      5        40.87\n",
              "5      6       105.51\n",
              "6      7        40.80\n",
              "7      8        23.10\n",
              "8      9        98.10\n",
              "9     10        60.54\n",
              "10    11        64.81\n",
              "11    12        48.01"
            ]
          },
          "metadata": {
            "tags": []
          },
          "execution_count": 116
        }
      ]
    },
    {
      "cell_type": "code",
      "metadata": {
        "id": "hCiraKctlMev",
        "colab_type": "code",
        "outputId": "cfea6013-9854-48ab-94fb-06dbc0170457",
        "colab": {
          "base_uri": "https://localhost:8080/",
          "height": 68
        }
      },
      "source": [
        "df.mean()"
      ],
      "execution_count": 0,
      "outputs": [
        {
          "output_type": "execute_result",
          "data": {
            "text/plain": [
              "Week            6.500000\n",
              "Expenditure    58.113333\n",
              "dtype: float64"
            ]
          },
          "metadata": {
            "tags": []
          },
          "execution_count": 120
        }
      ]
    },
    {
      "cell_type": "code",
      "metadata": {
        "id": "qt-_t3WulMhz",
        "colab_type": "code",
        "outputId": "113f6418-b7d3-47a4-e14b-8ef7da6d5280",
        "colab": {
          "base_uri": "https://localhost:8080/",
          "height": 68
        }
      },
      "source": [
        "df.var()"
      ],
      "execution_count": 0,
      "outputs": [
        {
          "output_type": "execute_result",
          "data": {
            "text/plain": [
              "Week            13.000000\n",
              "Expenditure    748.011697\n",
              "dtype: float64"
            ]
          },
          "metadata": {
            "tags": []
          },
          "execution_count": 121
        }
      ]
    },
    {
      "cell_type": "code",
      "metadata": {
        "id": "6B87ikfFlMjO",
        "colab_type": "code",
        "outputId": "939e40cc-5f2a-4a45-bf73-625598283ed9",
        "colab": {
          "base_uri": "https://localhost:8080/",
          "height": 68
        }
      },
      "source": [
        "df.std()"
      ],
      "execution_count": 0,
      "outputs": [
        {
          "output_type": "execute_result",
          "data": {
            "text/plain": [
              "Week            3.605551\n",
              "Expenditure    27.349803\n",
              "dtype: float64"
            ]
          },
          "metadata": {
            "tags": []
          },
          "execution_count": 122
        }
      ]
    },
    {
      "cell_type": "code",
      "metadata": {
        "id": "dve9IXeolMpb",
        "colab_type": "code",
        "colab": {}
      },
      "source": [
        "# Why do we bother with variance (why do we square stuff?)\n",
        "#    Objective: describe the spread of the dataset, the variance\n",
        "#         Could use Range but that can be distorted by outliers\n",
        "#         Could use finding average deviation of the mean, problem is the sum of the negative and positive will equal out and you wil get zero   \n",
        "#         Could take that absolute values of the deviations but not good to do\n",
        "#         Best is to take the average squared deviation from the mean, which is the variance\n",
        "\n",
        "# Why do we divide by n-1\n",
        "#    We wont know where the population mean is so best is to estimate where it is uing the sample mean\n",
        "#    The sample mean is just one POSSIBLE position for the true population mean, mu., at any other position, the sum of squares would be larger\n",
        "#       So we need to take account of that otherwise our estimate of the true variance will be less than it is.\n",
        "#       The smaller denomimator adjusts the variance estimate upwards\n"
      ],
      "execution_count": 0,
      "outputs": []
    },
    {
      "cell_type": "code",
      "metadata": {
        "id": "bQhoAIPsrELI",
        "colab_type": "code",
        "colab": {}
      },
      "source": [
        ""
      ],
      "execution_count": 0,
      "outputs": []
    }
  ]
}