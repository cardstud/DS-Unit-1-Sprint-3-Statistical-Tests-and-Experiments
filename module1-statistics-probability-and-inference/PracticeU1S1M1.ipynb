{
  "nbformat": 4,
  "nbformat_minor": 0,
  "metadata": {
    "colab": {
      "name": "Copy of PracticeU1S1M1.ipynb",
      "provenance": [],
      "include_colab_link": true
    },
    "kernelspec": {
      "name": "python3",
      "display_name": "Python 3"
    }
  },
  "cells": [
    {
      "cell_type": "markdown",
      "metadata": {
        "id": "view-in-github",
        "colab_type": "text"
      },
      "source": [
        "<a href=\"https://colab.research.google.com/github/cardstud/DS-Unit-1-Sprint-3-Statistical-Tests-and-Experiments/blob/master/module1-statistics-probability-and-inference/PracticeU1S1M1.ipynb\" target=\"_parent\"><img src=\"https://colab.research.google.com/assets/colab-badge.svg\" alt=\"Open In Colab\"/></a>"
      ]
    },
    {
      "cell_type": "code",
      "metadata": {
        "id": "6J050Xrq8Vzn",
        "colab_type": "code",
        "colab": {}
      },
      "source": [
        "import numpy as np\n",
        "import pandas as pd"
      ],
      "execution_count": 0,
      "outputs": []
    },
    {
      "cell_type": "code",
      "metadata": {
        "id": "cUb2bxh68Ys2",
        "colab_type": "code",
        "colab": {}
      },
      "source": [
        "# make random sample \n",
        "mu = 0  # mean\n",
        "sigma = 0.1 # standard deviation\n",
        "sample = np.random.normal(mu, sigma, 1000)"
      ],
      "execution_count": 0,
      "outputs": []
    },
    {
      "cell_type": "code",
      "metadata": {
        "id": "_-WydvXk8ins",
        "colab_type": "code",
        "outputId": "a29b7fad-4fe1-4177-ef24-8c55283ace49",
        "colab": {
          "base_uri": "https://localhost:8080/",
          "height": 1000
        }
      },
      "source": [
        "sample"
      ],
      "execution_count": 0,
      "outputs": [
        {
          "output_type": "execute_result",
          "data": {
            "text/plain": [
              "array([-1.94147504e-01, -3.51164411e-02,  1.29522475e-02,  1.95259452e-02,\n",
              "        1.27570223e-01,  6.46608290e-02, -5.61560107e-02,  1.96936899e-02,\n",
              "       -2.21257040e-01,  1.63902023e-01,  7.63009657e-02, -1.42570466e-02,\n",
              "       -1.65780858e-01,  4.62814380e-02,  6.65044234e-02, -7.37670907e-03,\n",
              "       -3.37113160e-02, -9.75194662e-03,  1.70370746e-01,  6.87496105e-02,\n",
              "       -2.08257641e-02, -3.25543164e-03,  4.94708923e-02, -1.01183789e-01,\n",
              "        4.49228848e-02,  1.50271913e-01,  7.02643045e-02, -6.70424426e-02,\n",
              "        6.03568228e-02, -1.23295110e-01,  7.07636510e-02, -1.36641657e-01,\n",
              "        6.01753733e-02, -3.12076893e-01,  3.34936267e-02,  8.89549661e-02,\n",
              "        7.20316080e-02, -1.38541580e-01,  4.14217289e-02,  8.85787155e-02,\n",
              "       -1.75760764e-01, -4.86748216e-03,  1.10888349e-01,  8.70945432e-02,\n",
              "        1.30371279e-01, -1.69166740e-01,  3.08817557e-02,  1.20703812e-01,\n",
              "        3.06746523e-02, -1.95818752e-02,  7.93845814e-02,  6.44119999e-02,\n",
              "       -1.36125431e-02,  1.22376721e-01, -5.23214115e-02,  5.19956687e-02,\n",
              "        1.08937342e-01, -2.46739644e-03, -1.60753572e-03,  1.23771484e-01,\n",
              "       -1.24443492e-01, -6.25445311e-02,  1.15436130e-01,  1.58408439e-02,\n",
              "        1.31607305e-01,  1.62616040e-01,  5.62007293e-02,  1.28910113e-01,\n",
              "       -1.94189820e-02, -3.05416545e-02,  8.05588041e-02,  1.57107443e-01,\n",
              "        1.01764631e-02,  1.96113031e-01, -5.56099682e-02,  1.45511476e-01,\n",
              "        5.74569637e-02,  3.00629005e-02,  2.40305551e-02, -1.91181933e-02,\n",
              "       -4.80945151e-02, -2.89158916e-02,  2.33276955e-02, -1.53500359e-01,\n",
              "       -2.43019487e-02, -1.29521882e-01,  2.47226747e-02,  1.40770911e-01,\n",
              "       -1.21730476e-01,  7.53992973e-02,  1.41151686e-01, -1.33969753e-02,\n",
              "       -1.82557821e-02, -8.64343132e-02,  1.65587990e-02, -6.44556655e-02,\n",
              "        4.32471072e-02,  1.27304845e-01,  1.78281368e-01,  8.55680950e-02,\n",
              "       -4.37711180e-02,  5.02901344e-02,  4.03294088e-02,  1.04673034e-01,\n",
              "       -1.14568444e-01, -6.62410476e-02, -1.23043283e-01,  1.30965810e-02,\n",
              "       -6.23579324e-02, -9.39584067e-03,  2.77275662e-02,  2.30099276e-01,\n",
              "       -2.04309933e-02,  1.08324092e-01, -1.05049641e-01,  1.36096162e-01,\n",
              "       -1.36507853e-01,  1.25206355e-02,  1.01143808e-01,  9.16284187e-02,\n",
              "       -1.36576049e-01, -4.47969952e-02, -3.39388965e-02, -6.66780432e-02,\n",
              "        3.64204418e-02,  7.90250604e-02,  9.00440099e-02,  3.71778734e-02,\n",
              "        1.21962150e-02,  1.82148750e-01,  4.04661239e-02, -3.68394580e-02,\n",
              "       -2.57480169e-02,  2.92923584e-01,  1.22321525e-01,  2.97433468e-02,\n",
              "        2.83595180e-02,  5.21990854e-02, -2.30922713e-02,  4.28507592e-02,\n",
              "       -3.27948664e-02, -1.46420816e-01, -5.18413484e-02, -1.01032766e-01,\n",
              "        4.75405056e-02,  4.55635131e-02,  2.67855942e-02, -6.39230380e-02,\n",
              "       -5.61167306e-02,  3.66300873e-02,  8.67633816e-03,  9.05853023e-02,\n",
              "       -5.68537137e-02, -2.38137529e-02,  8.15923293e-02, -8.95974885e-02,\n",
              "       -3.92605516e-02, -2.54339131e-02,  1.60227338e-01, -1.84625253e-02,\n",
              "       -7.25406754e-02,  7.15911181e-02,  1.13623730e-01,  9.77600735e-02,\n",
              "       -1.15903889e-02, -9.15732238e-02,  1.17314401e-01,  1.07235185e-01,\n",
              "       -4.41335259e-02, -7.87277666e-02,  1.14894992e-01, -1.84787628e-01,\n",
              "        1.09800127e-02, -3.72905675e-02, -7.43211458e-02, -1.14790208e-01,\n",
              "        4.90694811e-02,  6.56002294e-02, -2.56943963e-02, -5.78774313e-02,\n",
              "        2.12713512e-02, -2.29175107e-01, -5.46810268e-02,  2.97902356e-02,\n",
              "        9.08252312e-02,  4.15528248e-02, -1.12984087e-01,  1.36680635e-01,\n",
              "        1.57000970e-02,  9.50633599e-03,  2.42946556e-02, -4.32753555e-02,\n",
              "       -1.01119260e-01,  8.98077108e-02, -9.04695782e-02,  4.94296218e-02,\n",
              "       -3.62488785e-02,  9.70135722e-02,  1.01423808e-02,  1.15491489e-01,\n",
              "        6.59833034e-02,  1.72094038e-01, -3.11519320e-02,  5.32286064e-02,\n",
              "       -8.09307766e-02, -6.71985254e-02,  1.12482643e-01,  1.17677968e-01,\n",
              "        8.44463728e-02, -4.06009192e-02, -1.69923931e-01, -5.47097601e-02,\n",
              "       -8.92372100e-02,  5.16379309e-02, -2.89031339e-02, -2.85567841e-03,\n",
              "       -4.13794144e-02, -9.65856417e-02,  1.25955675e-01, -7.32523951e-02,\n",
              "        1.88196778e-01, -1.01696258e-01,  1.02022756e-01,  1.48663817e-02,\n",
              "       -1.15495062e-02,  6.98921785e-02,  1.31356435e-02,  6.36866906e-02,\n",
              "        7.11333331e-02, -1.03270352e-01, -5.34975432e-02,  1.12516634e-01,\n",
              "        3.67280635e-03,  7.32222381e-03,  2.41345062e-01, -3.05070888e-02,\n",
              "        8.91383285e-02, -8.28278050e-02,  8.93753578e-02,  1.51654299e-01,\n",
              "       -8.37906088e-02,  1.62760478e-01,  2.04404039e-02, -1.84345759e-01,\n",
              "       -6.60618262e-02, -7.77100273e-02, -5.10125351e-02,  3.68028965e-02,\n",
              "       -1.41621736e-01,  1.58912151e-02,  1.71486715e-03, -9.67509312e-02,\n",
              "       -4.62639963e-03,  8.20894936e-02, -2.41627345e-02,  7.86565571e-02,\n",
              "       -9.22959969e-03, -1.01103654e-01, -6.05805774e-02, -4.63499144e-02,\n",
              "        4.25599898e-02,  1.15313204e-01,  1.57770387e-03, -8.94341780e-05,\n",
              "       -1.40102380e-01,  1.62519093e-01, -5.79807264e-02,  1.30293858e-01,\n",
              "       -1.60254017e-01, -7.19692823e-02,  6.14680220e-02, -7.19433027e-02,\n",
              "        7.29555985e-03,  1.64070144e-01, -5.88110114e-02,  1.86188596e-02,\n",
              "       -4.30560250e-02, -2.09341911e-01,  2.03615812e-03, -4.64828482e-02,\n",
              "       -5.32254557e-02, -2.32658225e-01, -2.38984040e-01, -9.71159904e-03,\n",
              "       -1.41500439e-01,  2.18906098e-02,  5.90248115e-02, -1.60295524e-01,\n",
              "       -2.32443047e-02, -3.75631036e-02, -5.16394807e-02, -7.27419014e-02,\n",
              "       -4.57689417e-02,  2.10737809e-01, -1.04609815e-02, -1.05754646e-02,\n",
              "        1.14411799e-01, -4.16371647e-02, -4.67785052e-02, -3.64562841e-02,\n",
              "       -6.28447813e-02,  1.29054740e-01,  5.41899190e-02,  4.51179863e-02,\n",
              "        1.75781092e-02,  1.93777546e-01, -3.54416302e-02, -6.28194542e-03,\n",
              "       -6.17728664e-02, -6.48235742e-02, -1.11328316e-01, -2.77752736e-02,\n",
              "       -3.33450712e-02,  3.48137040e-03, -1.08544045e-01, -4.84689968e-02,\n",
              "       -9.30105471e-02, -6.33655740e-02,  1.20875052e-01,  7.08828499e-02,\n",
              "       -3.39657209e-02,  5.32393647e-02,  1.15839023e-01, -7.43549359e-02,\n",
              "        1.39688589e-02,  1.32738454e-01,  1.48558962e-01, -1.48377740e-02,\n",
              "       -1.25535406e-01, -5.82898476e-03,  7.88646475e-02, -3.52459527e-02,\n",
              "        1.50894153e-01, -2.03779507e-02,  1.33591312e-02,  7.53792628e-02,\n",
              "        1.93420756e-02, -1.25644131e-01,  4.10347705e-02,  4.00024185e-02,\n",
              "       -4.93845295e-02,  2.40131380e-02,  1.25197144e-01,  1.11776414e-01,\n",
              "       -8.83811024e-02, -6.76895700e-02,  3.55066597e-02, -1.54617590e-01,\n",
              "        2.46667227e-02, -4.63243543e-02,  1.63987340e-01,  1.06992508e-01,\n",
              "        9.85182514e-02, -1.05980568e-01,  1.69369641e-01,  3.34141750e-04,\n",
              "       -5.31442991e-02, -8.15779680e-02,  2.84809546e-02,  8.06244060e-02,\n",
              "       -4.56686179e-02, -5.10877293e-03,  9.96540382e-02, -1.19615642e-01,\n",
              "       -1.86774911e-02, -1.69086862e-01, -8.96929619e-02,  9.37093312e-02,\n",
              "        9.61410320e-02, -1.72984701e-02, -2.04593983e-02, -7.59711299e-02,\n",
              "        1.06367429e-01,  2.23685955e-03,  1.87315555e-01, -1.59880866e-02,\n",
              "       -7.46897946e-02, -8.67141239e-02,  2.97613376e-02,  2.18455115e-02,\n",
              "       -1.11153532e-01,  1.55205597e-02,  1.92329933e-01, -1.02760955e-01,\n",
              "       -9.08680835e-02, -4.18340179e-02,  1.99516744e-01,  8.00141295e-02,\n",
              "       -1.47751166e-01, -1.28170043e-01,  2.13830859e-02,  3.96372564e-02,\n",
              "        4.15167981e-02,  4.98402467e-02, -1.05477154e-01, -2.96392465e-01,\n",
              "       -1.51539993e-01,  1.44309999e-02, -6.33602664e-02, -8.53536680e-02,\n",
              "       -3.95079759e-02, -5.44082404e-02,  1.47703844e-01,  7.80548971e-02,\n",
              "       -7.58263024e-03,  8.83801881e-02,  2.84900543e-02,  7.92362215e-02,\n",
              "        7.38994948e-02, -5.00144238e-02,  1.89187530e-01, -4.48545226e-02,\n",
              "       -6.94052041e-03,  1.63676350e-03, -5.68631154e-03,  1.60608368e-01,\n",
              "        3.13729733e-02, -1.18134638e-01, -5.55848007e-02,  1.45363179e-01,\n",
              "        1.71047877e-02, -6.01644837e-02, -1.09215357e-01,  9.83835422e-02,\n",
              "       -1.68495168e-01,  8.69032846e-02,  9.24715100e-02, -1.82643558e-02,\n",
              "        4.07805001e-02, -1.16593484e-01,  9.17667990e-02, -1.84697407e-02,\n",
              "        7.20641941e-02, -9.87682170e-02, -3.27146198e-02, -3.09919270e-02,\n",
              "       -4.59490121e-02,  2.31468744e-01,  5.50972171e-02, -1.40489610e-01,\n",
              "       -1.75204263e-01, -2.29669325e-02,  2.12929265e-01,  6.39924449e-02,\n",
              "        2.22109669e-02,  2.12187200e-01,  6.40238751e-02, -1.14534999e-01,\n",
              "       -1.27649828e-01, -3.72398158e-02, -2.39362620e-01,  6.64938949e-02,\n",
              "       -1.05981089e-01,  5.94551663e-02,  1.16552375e-01, -6.16602596e-02,\n",
              "        5.60671014e-02, -1.91673940e-02,  1.31849102e-01, -1.27075885e-01,\n",
              "       -1.14358637e-01,  1.14750820e-01, -2.59694052e-02,  1.08524947e-01,\n",
              "        1.38365171e-01, -6.67576732e-02, -5.11287419e-02, -2.98278528e-02,\n",
              "       -3.73124318e-02,  3.23227840e-03, -6.77157469e-02,  5.11747075e-02,\n",
              "        3.27815864e-02,  1.10946327e-02,  3.78659316e-02,  4.75194991e-02,\n",
              "        1.00457326e-01, -1.70605194e-01,  3.67542869e-02,  6.52585442e-02,\n",
              "        1.20809747e-01, -9.49813789e-02, -1.02117671e-01, -2.24126946e-02,\n",
              "       -3.01543558e-02,  9.97248542e-03,  1.00567341e-01,  2.08941270e-01,\n",
              "        1.89201582e-01, -1.73111053e-02, -6.45801758e-02, -5.13250825e-02,\n",
              "       -3.39703506e-02,  1.81078306e-01,  4.21350132e-02,  2.48761176e-02,\n",
              "       -1.38110421e-02, -8.38791304e-02, -6.73697755e-02,  9.21255766e-02,\n",
              "        1.39309663e-01,  3.58613740e-02,  2.96995510e-02,  1.16825411e-01,\n",
              "       -1.35808454e-02,  1.33048874e-02,  1.75388215e-01, -9.49334787e-02,\n",
              "        3.58162024e-02,  1.24670942e-01, -1.65957135e-01, -1.15177568e-01,\n",
              "       -8.27799584e-02, -7.90843288e-02,  1.14492111e-01,  6.34121577e-02,\n",
              "        6.38595097e-02,  3.49512954e-02,  9.93131064e-02, -6.55602761e-02,\n",
              "        1.49436563e-02,  9.70781927e-03, -6.68488712e-02, -3.54876376e-02,\n",
              "       -4.59023267e-02, -1.57122043e-01,  1.44059389e-01, -1.89947148e-01,\n",
              "        8.64885218e-02,  9.04663002e-02,  1.56378277e-01,  1.75780531e-01,\n",
              "       -7.02056577e-03,  4.41955221e-02,  8.38900064e-02, -2.99711931e-03,\n",
              "       -4.57214224e-02, -5.79389222e-02,  3.07573348e-02,  1.21697830e-01,\n",
              "        3.45173110e-02,  4.01464270e-02, -7.71223302e-03, -7.76797881e-02,\n",
              "       -2.94503621e-02,  4.05878794e-02, -6.86500816e-02, -7.26216777e-02,\n",
              "       -2.87781870e-02,  1.36104198e-01, -1.44277595e-01,  7.85154793e-02,\n",
              "        5.74410954e-02, -1.68942095e-02,  4.40069983e-02, -1.40671070e-01,\n",
              "       -4.68229687e-02,  9.99999367e-02,  4.72422970e-02,  2.26003122e-01,\n",
              "        1.36416501e-01, -4.38571283e-02,  3.09753022e-03, -7.83638269e-02,\n",
              "        1.66478149e-01,  4.32555572e-02, -9.31299962e-02,  1.50472489e-01,\n",
              "        2.34433609e-02, -1.15563579e-01, -7.70366608e-02,  4.07458685e-02,\n",
              "       -5.37816584e-02,  1.31442552e-01, -8.35731775e-03, -6.43570396e-02,\n",
              "        8.17356985e-02,  1.23497802e-01,  4.18400959e-02, -1.99455632e-01,\n",
              "        3.67708274e-02, -4.94408693e-02,  1.82753947e-01,  1.07823686e-01,\n",
              "        5.88524146e-02,  1.27653206e-02, -1.11008114e-01, -1.71842212e-01,\n",
              "       -2.86693394e-02, -5.29926163e-02, -9.66988793e-02, -1.86868483e-01,\n",
              "       -3.13211785e-02,  9.27292978e-02, -4.19809910e-02, -2.53431302e-02,\n",
              "       -6.97328445e-02, -1.23702725e-01, -6.57609454e-02, -6.60204240e-02,\n",
              "        1.85916053e-01, -5.68484631e-02, -1.22821722e-01, -4.20415329e-03,\n",
              "        8.97585857e-02, -5.25561074e-02, -1.80899642e-02,  4.19490717e-02,\n",
              "        1.16945046e-01,  1.26038065e-01,  6.96550475e-02, -9.59365440e-02,\n",
              "       -2.00082710e-02,  1.39256331e-01,  9.36989924e-02,  1.55419312e-01,\n",
              "        1.47409107e-01, -1.44929392e-02,  9.74134550e-03, -1.15425314e-01,\n",
              "       -1.18684046e-01, -2.61531864e-01, -1.40103978e-02,  5.15304328e-02,\n",
              "       -1.22667631e-02, -1.69949381e-01, -1.42079677e-01, -5.04112615e-03,\n",
              "       -9.50800539e-02,  7.34429142e-02,  6.13270459e-02,  4.60535491e-02,\n",
              "        2.84971183e-02, -1.10129084e-01,  1.78882531e-01, -7.58926327e-02,\n",
              "        7.66862617e-02, -5.37940959e-03,  1.59796307e-01, -1.27220087e-02,\n",
              "       -6.25117977e-02,  2.80955398e-02, -1.22776046e-01,  2.85742210e-02,\n",
              "       -7.43620561e-02,  1.69845335e-02, -1.67219266e-02, -1.50869451e-01,\n",
              "        3.82832341e-02,  7.71479969e-02,  2.77849325e-02, -6.89343266e-02,\n",
              "       -1.43603224e-02, -1.16996850e-01,  9.58888077e-02,  1.58119732e-01,\n",
              "        1.67719191e-01,  1.47181177e-01, -1.00179428e-03,  5.96993191e-04,\n",
              "       -8.57105926e-02,  1.19012543e-01, -1.01109210e-01,  1.63665181e-02,\n",
              "        4.60673590e-02, -1.82575356e-02, -3.85494741e-02,  7.09083225e-02,\n",
              "        2.00870966e-01, -8.38720634e-02, -2.01010441e-01, -6.13993304e-02,\n",
              "        7.93943513e-02, -8.55831984e-02, -7.66543656e-02, -1.05140622e-01,\n",
              "        8.75386141e-02, -7.11513605e-02, -7.69523214e-02, -9.48680433e-02,\n",
              "        4.87192613e-02,  1.45371180e-02, -4.24011058e-02, -1.53333248e-01,\n",
              "        1.26151105e-01, -1.22495955e-01, -9.59905069e-02,  1.08537010e-01,\n",
              "        1.08710002e-01,  9.99490248e-02, -1.68452061e-01,  4.99551833e-02,\n",
              "       -1.68841954e-01,  4.36129170e-02,  3.34591166e-03, -4.16572398e-02,\n",
              "        2.22253825e-01,  9.57351020e-02, -2.83331323e-02, -8.90666550e-02,\n",
              "       -1.37096012e-01,  7.65936573e-02,  2.36884257e-01, -8.82154644e-02,\n",
              "        9.69969297e-02, -6.87432196e-02, -1.10456127e-01,  1.79772279e-01,\n",
              "        7.48528045e-02, -3.19480678e-02,  3.59909287e-03,  2.93398015e-02,\n",
              "       -6.11566456e-02, -2.27820570e-02, -2.44765648e-02, -2.93267053e-02,\n",
              "        2.19823218e-01, -3.67677879e-02,  1.55711008e-02, -1.48242724e-01,\n",
              "       -6.81693213e-02, -2.00653999e-03, -1.53827072e-01,  8.03935224e-02,\n",
              "        3.40150028e-02,  6.11589962e-03,  3.07292621e-02,  2.98138803e-02,\n",
              "        9.73531982e-02, -7.92596926e-02,  1.03256189e-01, -9.39153532e-02,\n",
              "       -5.13956280e-02,  4.16853832e-02, -1.19540007e-01, -3.80277004e-02,\n",
              "        8.00516179e-02, -8.25434649e-03,  9.25696795e-02,  6.01251215e-02,\n",
              "       -1.87319083e-01,  1.75429000e-01, -4.53716264e-02,  6.14691500e-02,\n",
              "       -3.92397429e-02, -2.77602690e-02, -5.72604446e-02,  3.53338034e-02,\n",
              "        6.27870907e-02, -2.38141133e-02,  4.89709323e-02,  2.09983383e-01,\n",
              "        1.15405831e-03,  3.76032673e-02, -1.10463237e-01,  9.14325532e-02,\n",
              "       -2.12394022e-02,  1.20751030e-01, -8.08905460e-02,  4.92006752e-02,\n",
              "        1.19965069e-01,  9.56315960e-03, -6.53586347e-02,  6.00437214e-02,\n",
              "       -2.18369931e-01, -7.95628730e-02, -2.85658278e-02,  1.01427106e-01,\n",
              "        7.78129464e-02, -1.10069455e-01,  1.81190640e-02, -1.31675004e-01,\n",
              "       -3.24152442e-03,  1.54375106e-02,  5.71213125e-02,  6.47688210e-02,\n",
              "       -1.37967044e-01,  4.90559152e-02, -4.55489542e-02,  6.79921584e-03,\n",
              "        1.70199921e-02,  3.87477290e-02, -8.70323043e-02,  4.03404975e-02,\n",
              "       -1.21945596e-01,  8.21189844e-03,  1.15779835e-01,  1.71525824e-03,\n",
              "        1.26931132e-02, -1.14495709e-01,  1.21108690e-02,  2.59904979e-03,\n",
              "       -7.52939193e-02, -6.35460716e-02, -1.33832052e-01,  2.59070640e-02,\n",
              "        9.74996529e-02, -8.24198392e-02,  7.11653167e-02, -1.22961804e-01,\n",
              "       -4.22605777e-02, -1.64748756e-01, -1.21661283e-01,  9.43011325e-02,\n",
              "       -1.03332748e-01,  8.68968273e-02, -8.56150539e-02, -8.14308801e-02,\n",
              "       -1.43051145e-01, -8.63269244e-02, -3.90910839e-02,  1.35792807e-01,\n",
              "       -9.20063950e-02, -2.98571894e-02,  3.58357894e-02, -2.05250672e-01,\n",
              "       -3.53774740e-02,  3.67816952e-02, -3.96857623e-02, -2.07310349e-01,\n",
              "       -1.39513606e-02, -2.67604928e-02,  5.27757526e-02,  1.09301287e-01,\n",
              "       -9.41026068e-03,  6.50589374e-02,  8.43033584e-02,  7.44400828e-02,\n",
              "       -1.44476651e-01, -1.06255854e-01, -8.98151297e-03, -4.50296851e-02,\n",
              "       -2.18210192e-01,  7.39654168e-02,  8.29119148e-02, -1.16476039e-01,\n",
              "       -2.09311512e-01,  1.03254023e-01,  1.20640369e-01,  5.34261779e-02,\n",
              "        7.40987749e-02,  1.95314104e-01,  7.55615792e-02, -1.72374391e-01,\n",
              "       -5.93860942e-03, -1.32622119e-02,  1.31856843e-01,  1.13187763e-01,\n",
              "       -9.25664313e-02, -5.20796620e-02,  1.43840764e-01,  9.45424988e-02,\n",
              "        4.05397175e-02,  1.79915426e-01, -1.54276361e-02,  1.42293074e-01,\n",
              "        4.89870122e-02,  1.16241389e-01, -1.30234240e-01, -1.53362005e-02,\n",
              "        1.27086446e-01,  9.62068626e-02,  7.37979851e-02,  9.81598124e-02,\n",
              "       -8.24517469e-02, -7.11751337e-02, -6.81043511e-02, -9.79771284e-02,\n",
              "       -1.29094716e-01,  1.67187930e-01, -2.51408318e-02,  1.93361034e-02,\n",
              "       -4.91017699e-02,  1.63593549e-01, -3.60305690e-02,  1.57557357e-01,\n",
              "       -1.01620185e-02,  6.99613972e-02, -9.80853466e-02,  5.79044254e-02,\n",
              "        1.09695636e-02, -8.48184675e-02,  1.55446602e-02, -8.30209110e-02,\n",
              "       -9.69424808e-02,  1.74218566e-01, -1.33801552e-01,  4.20188096e-02,\n",
              "        4.17269692e-02, -1.35474510e-01, -9.73407448e-02,  8.79332390e-02,\n",
              "        1.09781440e-01,  2.01144193e-02, -6.19748301e-02, -4.61434192e-02,\n",
              "        4.57374014e-02,  3.06730177e-02,  1.42041663e-03,  3.46551735e-03,\n",
              "        1.80329616e-01,  2.52283341e-01, -6.64260386e-02, -7.52476179e-02,\n",
              "       -5.97659782e-02,  6.52101184e-02, -7.95136855e-02, -1.20224926e-01,\n",
              "        3.98619666e-02,  1.11108870e-02,  3.69389984e-02, -9.76789581e-02,\n",
              "        9.50821739e-02, -8.73079032e-02,  1.22265349e-01, -4.27509845e-02,\n",
              "       -2.46698046e-02, -3.21939690e-02,  4.35886437e-02, -2.66606306e-02,\n",
              "       -9.86839743e-02,  6.76995757e-02,  2.07805315e-01,  1.79551211e-02,\n",
              "       -6.29107880e-02, -5.87377229e-02,  7.30615304e-02,  7.86895621e-02,\n",
              "       -4.33321119e-02,  1.81327664e-01,  7.97285028e-02, -1.02511348e-01,\n",
              "       -7.59604410e-02,  7.91493360e-02,  3.88591763e-03, -8.39201397e-02,\n",
              "        2.29912167e-01, -6.71397204e-02, -6.18186484e-02,  5.54231585e-02,\n",
              "        6.64904048e-02, -1.36390609e-01, -6.61331786e-02,  3.28696642e-02,\n",
              "       -3.36112847e-02, -9.83466653e-02, -1.02523738e-01,  3.87900511e-02,\n",
              "       -3.01706202e-02, -8.48356132e-02,  1.28119925e-01,  1.22121880e-01,\n",
              "       -1.73516748e-02,  7.48305549e-03, -4.95106785e-02, -7.76443772e-02,\n",
              "        6.26728362e-02, -1.23276298e-02,  1.31160074e-01,  1.36621447e-02,\n",
              "        1.93600520e-01, -9.83298078e-02, -4.29084034e-02,  2.79553501e-02,\n",
              "        1.71084961e-01, -7.67171987e-02,  5.06855918e-02, -7.60627893e-02,\n",
              "       -7.06629302e-02,  5.13024654e-02, -7.70497054e-03,  8.00993386e-02,\n",
              "       -1.73558605e-01, -4.72778641e-02, -1.15619595e-01, -3.91465183e-02,\n",
              "       -4.01899199e-02,  2.00471814e-01,  1.05239140e-01,  8.85672328e-02,\n",
              "        9.53389773e-02,  4.90316851e-02,  2.40543195e-02, -5.45905400e-02,\n",
              "        1.88026155e-01, -6.73026589e-02, -1.70618701e-02, -6.17061576e-03,\n",
              "        1.10023385e-01,  6.93507408e-02,  2.12542526e-02, -4.72430158e-03,\n",
              "        1.14428041e-01, -2.48904678e-02,  1.64234414e-02, -1.26088919e-01,\n",
              "       -6.31357445e-02, -7.31821135e-02, -4.38818907e-02,  1.04010354e-02])"
            ]
          },
          "metadata": {
            "tags": []
          },
          "execution_count": 17
        }
      ]
    },
    {
      "cell_type": "code",
      "metadata": {
        "id": "x0dedwm68jRh",
        "colab_type": "code",
        "outputId": "99cf1192-7914-4879-d99e-187510348b24",
        "colab": {
          "base_uri": "https://localhost:8080/",
          "height": 34
        }
      },
      "source": [
        "sample.shape"
      ],
      "execution_count": 0,
      "outputs": [
        {
          "output_type": "execute_result",
          "data": {
            "text/plain": [
              "(1000,)"
            ]
          },
          "metadata": {
            "tags": []
          },
          "execution_count": 8
        }
      ]
    },
    {
      "cell_type": "code",
      "metadata": {
        "id": "ZKT40m2D9T2p",
        "colab_type": "code",
        "outputId": "24538dd4-99d5-436b-e9b6-471c09ef7942",
        "colab": {
          "base_uri": "https://localhost:8080/",
          "height": 34
        }
      },
      "source": [
        "mu - np.mean(sample)"
      ],
      "execution_count": 0,
      "outputs": [
        {
          "output_type": "execute_result",
          "data": {
            "text/plain": [
              "0.00339378033616701"
            ]
          },
          "metadata": {
            "tags": []
          },
          "execution_count": 10
        }
      ]
    },
    {
      "cell_type": "code",
      "metadata": {
        "id": "y5S0rpS881Hz",
        "colab_type": "code",
        "outputId": "a2b0d6e1-b19e-43a1-bbbe-5df8850d3b66",
        "colab": {
          "base_uri": "https://localhost:8080/",
          "height": 34
        }
      },
      "source": [
        "# Verify the mean of the sample\n",
        "abs(mu-np.mean(sample)) <0.01  # threshold we setup is 0.01"
      ],
      "execution_count": 0,
      "outputs": [
        {
          "output_type": "execute_result",
          "data": {
            "text/plain": [
              "True"
            ]
          },
          "metadata": {
            "tags": []
          },
          "execution_count": 11
        }
      ]
    },
    {
      "cell_type": "code",
      "metadata": {
        "id": "jZCC5XtI9nOw",
        "colab_type": "code",
        "outputId": "f8a85a05-860e-4c93-80b0-bd7669f8afc5",
        "colab": {
          "base_uri": "https://localhost:8080/",
          "height": 34
        }
      },
      "source": [
        "sigma - np.std(sample)"
      ],
      "execution_count": 0,
      "outputs": [
        {
          "output_type": "execute_result",
          "data": {
            "text/plain": [
              "0.004287762972811041"
            ]
          },
          "metadata": {
            "tags": []
          },
          "execution_count": 13
        }
      ]
    },
    {
      "cell_type": "code",
      "metadata": {
        "id": "K0zfZZce9A9v",
        "colab_type": "code",
        "outputId": "bc14ac31-b7ed-4e6a-f087-e826bccdd32f",
        "colab": {
          "base_uri": "https://localhost:8080/",
          "height": 34
        }
      },
      "source": [
        "# Verify the variance of our sample\n",
        "abs(sigma-np.std(sample, ddof=1)) <0.01    # ddof = degrees of freedom"
      ],
      "execution_count": 0,
      "outputs": [
        {
          "output_type": "execute_result",
          "data": {
            "text/plain": [
              "True"
            ]
          },
          "metadata": {
            "tags": []
          },
          "execution_count": 12
        }
      ]
    },
    {
      "cell_type": "code",
      "metadata": {
        "id": "nRLufyjK9k87",
        "colab_type": "code",
        "outputId": "8e672188-2463-4cf6-acd8-1daae39cd94c",
        "colab": {
          "base_uri": "https://localhost:8080/",
          "height": 284
        }
      },
      "source": [
        "import seaborn as sns\n",
        "from matplotlib import style\n",
        "\n",
        "style.use('fivethirtyeight')\n",
        "\n",
        "ax = sns.distplot(sample, color='r')\n",
        "ax.axvline(np.percentile(sample, 97.5), 0)\n",
        "ax.axvline(np.percentile(sample, 2.5), 0);"
      ],
      "execution_count": 0,
      "outputs": [
        {
          "output_type": "display_data",
          "data": {
            "image/png": "[encoded data removed]",
            "text/plain": [
              "<Figure size 432x288 with 1 Axes>"
            ]
          },
          "metadata": {
            "tags": []
          }
        }
      ]
    },
    {
      "cell_type": "code",
      "metadata": {
        "id": "FqzK0Vg-DCeH",
        "colab_type": "code",
        "outputId": "7a27fc12-25ec-4ddf-ba00-6aba9731464b",
        "colab": {
          "base_uri": "https://localhost:8080/",
          "height": 1000
        }
      },
      "source": [
        "# Do this for just one person\n",
        "person1_cals = np.random.normal(2500, 100, size=365)\n",
        "person1_cals"
      ],
      "execution_count": 0,
      "outputs": [
        {
          "output_type": "execute_result",
          "data": {
            "text/plain": [
              "array([2418.02183801, 2533.72074864, 2412.4352809 , 2462.058165  ,\n",
              "       2620.60771001, 2431.76052567, 2394.9184802 , 2457.92266956,\n",
              "       2628.4890541 , 2571.17363332, 2321.40443103, 2657.10054632,\n",
              "       2648.90457339, 2338.13830468, 2334.39121981, 2525.59294042,\n",
              "       2359.94136864, 2435.73701489, 2522.56861852, 2656.24592486,\n",
              "       2486.60918935, 2543.67258582, 2619.67001937, 2597.40491479,\n",
              "       2424.29370098, 2488.46938885, 2558.44267884, 2481.0150665 ,\n",
              "       2401.62193916, 2586.60790145, 2521.90370317, 2425.01452716,\n",
              "       2446.34664142, 2639.30854654, 2552.8338316 , 2480.04327976,\n",
              "       2384.01690478, 2615.91067587, 2485.21796288, 2520.4707956 ,\n",
              "       2302.67219933, 2557.08466802, 2462.0655621 , 2478.2360453 ,\n",
              "       2358.09509252, 2468.98856477, 2514.74071408, 2521.05747414,\n",
              "       2393.32936521, 2481.58806902, 2391.68835582, 2559.62021599,\n",
              "       2553.128636  , 2759.96458619, 2500.63500524, 2618.68939697,\n",
              "       2592.14280705, 2515.17764153, 2291.8484266 , 2415.70641233,\n",
              "       2503.21692398, 2538.07925039, 2552.83401332, 2357.77026256,\n",
              "       2471.46291909, 2325.4375549 , 2545.47381029, 2564.35044735,\n",
              "       2421.8503947 , 2293.16250265, 2317.66347205, 2416.27801316,\n",
              "       2616.55248981, 2534.14643389, 2590.3129387 , 2375.74143242,\n",
              "       2549.4577155 , 2493.64528714, 2521.13441771, 2347.95679019,\n",
              "       2410.49955354, 2578.64454103, 2557.30117441, 2351.63581942,\n",
              "       2600.13168059, 2485.93270686, 2583.41328912, 2484.23332392,\n",
              "       2493.4518031 , 2673.04385862, 2562.78658324, 2501.28042076,\n",
              "       2452.03236805, 2572.58727949, 2572.13784144, 2663.04436151,\n",
              "       2386.86739152, 2528.43510219, 2625.56341053, 2455.6988244 ,\n",
              "       2511.27027786, 2472.74610545, 2409.16866052, 2439.83116656,\n",
              "       2398.58806705, 2626.00516383, 2654.33587666, 2598.67702391,\n",
              "       2427.31543262, 2462.87632101, 2362.27359236, 2562.15460131,\n",
              "       2427.20151358, 2546.99895715, 2454.85487801, 2487.28450541,\n",
              "       2491.67758398, 2521.86036637, 2391.53045456, 2643.1232943 ,\n",
              "       2446.40951109, 2702.5373187 , 2561.50367764, 2606.64277556,\n",
              "       2495.46149168, 2597.12200416, 2387.99845797, 2525.12155859,\n",
              "       2562.07300783, 2520.95814426, 2456.39980236, 2524.59830143,\n",
              "       2427.32454085, 2677.77819324, 2386.96060983, 2547.72989513,\n",
              "       2404.24315653, 2526.4902666 , 2422.87269522, 2459.96095811,\n",
              "       2494.06176276, 2394.29925158, 2325.8360784 , 2432.64573582,\n",
              "       2431.77847993, 2668.80718185, 2532.64036531, 2394.5655144 ,\n",
              "       2623.8976712 , 2600.81803494, 2443.67514782, 2437.53605141,\n",
              "       2493.30442953, 2451.57294375, 2596.27736968, 2324.37858259,\n",
              "       2503.73544047, 2519.20774613, 2365.16870799, 2344.80762895,\n",
              "       2464.79611028, 2468.59512564, 2430.52750448, 2502.8465085 ,\n",
              "       2729.17796659, 2735.03116445, 2380.94535834, 2601.58131423,\n",
              "       2316.0748356 , 2745.02144634, 2701.26415   , 2482.69693199,\n",
              "       2769.09325899, 2477.86088308, 2636.58292228, 2283.54690262,\n",
              "       2635.21248254, 2583.23651855, 2562.75170446, 2481.52293846,\n",
              "       2591.63466084, 2287.651795  , 2369.68872786, 2550.42311777,\n",
              "       2503.4328009 , 2865.75866631, 2303.21387876, 2690.62405299,\n",
              "       2585.59304607, 2487.74175395, 2421.56018711, 2538.6014866 ,\n",
              "       2396.79690306, 2610.278046  , 2572.70759973, 2403.22817201,\n",
              "       2486.25511874, 2482.27059733, 2437.2352985 , 2437.09477703,\n",
              "       2348.86665674, 2388.95127773, 2589.39538167, 2453.56149244,\n",
              "       2435.24501431, 2590.25158002, 2566.68782538, 2546.05728405,\n",
              "       2610.03794161, 2632.55161529, 2477.20118828, 2431.60272857,\n",
              "       2452.61613018, 2485.67081735, 2590.3735611 , 2290.59559644,\n",
              "       2585.51004291, 2592.81931991, 2532.21150899, 2400.00924114,\n",
              "       2515.18765797, 2514.34667409, 2573.47343881, 2547.81118023,\n",
              "       2427.56858756, 2402.58587033, 2580.40964213, 2641.73688193,\n",
              "       2610.07675636, 2628.25409036, 2411.81779299, 2632.88230473,\n",
              "       2523.98506364, 2462.9404923 , 2480.97649427, 2494.39692571,\n",
              "       2419.60526045, 2399.29925673, 2518.46311443, 2600.4158049 ,\n",
              "       2358.88978118, 2391.74710376, 2576.80680771, 2481.64341526,\n",
              "       2288.08806344, 2441.70101615, 2545.22295257, 2512.04574923,\n",
              "       2564.38983146, 2601.87172563, 2673.61105715, 2451.57167826,\n",
              "       2448.61385543, 2336.68592481, 2464.91047594, 2408.06890821,\n",
              "       2543.76526948, 2487.96755973, 2468.77743488, 2557.07028229,\n",
              "       2520.06940127, 2520.62181979, 2392.86417516, 2598.47649722,\n",
              "       2524.09500148, 2405.81466319, 2461.11570042, 2379.56023891,\n",
              "       2622.95920711, 2557.82204435, 2438.57459243, 2500.30754558,\n",
              "       2564.27778796, 2749.93659077, 2492.88890195, 2574.82666735,\n",
              "       2443.30935908, 2540.95319574, 2455.92877032, 2451.07504924,\n",
              "       2462.18130355, 2485.87297067, 2516.1365929 , 2520.61169041,\n",
              "       2394.31501088, 2288.13234951, 2435.41391928, 2501.75662642,\n",
              "       2549.41908772, 2539.27960755, 2615.22220478, 2668.7432398 ,\n",
              "       2410.44831678, 2533.47839465, 2489.12117387, 2467.0593701 ,\n",
              "       2423.88549261, 2681.87083757, 2601.45900851, 2458.08478124,\n",
              "       2576.70192856, 2546.79058029, 2366.48885462, 2508.48370905,\n",
              "       2646.57196245, 2607.91200589, 2572.7986045 , 2451.70507219,\n",
              "       2354.69481588, 2574.3313551 , 2459.03942653, 2645.09658233,\n",
              "       2348.13404934, 2519.729904  , 2652.98121695, 2669.19606862,\n",
              "       2714.2931595 , 2348.67312882, 2481.46816539, 2427.79117179,\n",
              "       2464.64132736, 2503.11164528, 2468.58018085, 2515.96169231,\n",
              "       2621.61659946, 2468.73004897, 2507.20606448, 2618.01018606,\n",
              "       2452.78373703, 2426.62226373, 2411.2445764 , 2441.31753547,\n",
              "       2581.76120862, 2595.43542685, 2644.30668202, 2511.08426604,\n",
              "       2388.26297053, 2458.31608194, 2497.907385  , 2503.01663071,\n",
              "       2369.01171951, 2644.2461479 , 2547.51844488, 2475.35225286,\n",
              "       2573.5055981 , 2514.14266503, 2437.89921071, 2502.95676101,\n",
              "       2505.25311635, 2364.89864521, 2590.87148507, 2698.53992369,\n",
              "       2485.74092883, 2391.813577  , 2597.49255591, 2649.42475974,\n",
              "       2538.84024175, 2448.23931363, 2509.34069491, 2534.76069907,\n",
              "       2645.99834099, 2323.21817267, 2380.84018559, 2622.04432173,\n",
              "       2506.8966392 ])"
            ]
          },
          "metadata": {
            "tags": []
          },
          "execution_count": 29
        }
      ]
    },
    {
      "cell_type": "code",
      "metadata": {
        "id": "MtcR1UciHD5h",
        "colab_type": "code",
        "outputId": "b81c55cd-f98b-4ce4-c2e0-299f88058c23",
        "colab": {
          "base_uri": "https://localhost:8080/",
          "height": 282
        }
      },
      "source": [
        "import matplotlib.pyplot as plt\n",
        "import seaborn as sns\n",
        "plt.hist(person1_cals, bins=20);"
      ],
      "execution_count": 0,
      "outputs": [
        {
          "output_type": "display_data",
          "data": {
            "image/png": "[encoded data removed]",
            "text/plain": [
              "<Figure size 432x288 with 1 Axes>"
            ]
          },
          "metadata": {
            "tags": []
          }
        }
      ]
    },
    {
      "cell_type": "code",
      "metadata": {
        "id": "r7tixZsJICdq",
        "colab_type": "code",
        "outputId": "efd34919-6a65-44a4-d2dd-3714187cffa8",
        "colab": {
          "base_uri": "https://localhost:8080/",
          "height": 34
        }
      },
      "source": [
        "person1_cals.mean()"
      ],
      "execution_count": 0,
      "outputs": [
        {
          "output_type": "execute_result",
          "data": {
            "text/plain": [
              "2503.453036269591"
            ]
          },
          "metadata": {
            "tags": []
          },
          "execution_count": 31
        }
      ]
    },
    {
      "cell_type": "code",
      "metadata": {
        "id": "TkKScue7ILhF",
        "colab_type": "code",
        "colab": {}
      },
      "source": [
        "# lets do it for 200 people\n",
        "N = 200\n",
        "people_cals = [np.random.normal(2500, 100, size=365) for _ in range(N)]"
      ],
      "execution_count": 0,
      "outputs": []
    },
    {
      "cell_type": "code",
      "metadata": {
        "id": "Z7fDxK-NIn4m",
        "colab_type": "code",
        "outputId": "76498e37-e780-4918-87e1-fce6e39d6787",
        "colab": {
          "base_uri": "https://localhost:8080/",
          "height": 187
        }
      },
      "source": [
        "people_mean_cals = [i.mean() for i in people_cals]\n",
        "people_mean_cals[:10]"
      ],
      "execution_count": 0,
      "outputs": [
        {
          "output_type": "execute_result",
          "data": {
            "text/plain": [
              "[2499.520069966479,\n",
              " 2491.122240230656,\n",
              " 2499.904921465235,\n",
              " 2499.52814265558,\n",
              " 2495.863604631696,\n",
              " 2493.0098600787123,\n",
              " 2502.20225207315,\n",
              " 2505.895921842483,\n",
              " 2499.2067078199702,\n",
              " 2514.9587488499]"
            ]
          },
          "metadata": {
            "tags": []
          },
          "execution_count": 37
        }
      ]
    },
    {
      "cell_type": "code",
      "metadata": {
        "id": "8LbFiXyXJIGX",
        "colab_type": "code",
        "outputId": "65e392e6-767c-46b4-9cee-0be4d281a001",
        "colab": {
          "base_uri": "https://localhost:8080/",
          "height": 282
        }
      },
      "source": [
        "plt.hist(people_mean_cals, bins=20);"
      ],
      "execution_count": 0,
      "outputs": [
        {
          "output_type": "display_data",
          "data": {
            "image/png": "[encoded data removed]",
            "text/plain": [
              "<Figure size 432x288 with 1 Axes>"
            ]
          },
          "metadata": {
            "tags": []
          }
        }
      ]
    },
    {
      "cell_type": "markdown",
      "metadata": {
        "id": "-F00e7aulkse",
        "colab_type": "text"
      },
      "source": [
        "### Student's T test"
      ]
    },
    {
      "cell_type": "code",
      "metadata": {
        "id": "DHIvnAXqJe6-",
        "colab_type": "code",
        "colab": {}
      },
      "source": [
        "t_df10 = np.random.standard_t(df=10, size=10)\n",
        "t_df100 = np.random.standard_t(df=100, size=100)\n",
        "t_df1000 = np.random.standard_t(df=1000, size=1000)"
      ],
      "execution_count": 0,
      "outputs": []
    },
    {
      "cell_type": "code",
      "metadata": {
        "id": "80WHBikLlz4o",
        "colab_type": "code",
        "outputId": "36b5aa8e-9fda-4720-ba6c-02e33d15df40",
        "colab": {
          "base_uri": "https://localhost:8080/",
          "height": 272
        }
      },
      "source": [
        "i = 10\n",
        "for sample in [t_df10, t_df100, t_df1000]:\n",
        "  print(f\"t - distribution with {i} degrees of freedom\")\n",
        "  print(\"---\"* 10)\n",
        "  print(f\"Mean: {sample.mean()}\")\n",
        "  print(f\"Standard Deviation: {sample.std()}\")\n",
        "  print(f\"Variance: {sample.var()}\")\n",
        "  i = i * 10\n",
        "  "
      ],
      "execution_count": 0,
      "outputs": [
        {
          "output_type": "stream",
          "text": [
            "t - distribution with 10 degrees of freedom\n",
            "------------------------------\n",
            "Mean: 0.37281515558543754\n",
            "Standard Deviation: 1.0365082893393351\n",
            "Variance: 1.074349433869155\n",
            "t - distribution with 100 degrees of freedom\n",
            "------------------------------\n",
            "Mean: 0.043268613627178196\n",
            "Standard Deviation: 1.04678402097831\n",
            "Variance: 1.0957567865755187\n",
            "t - distribution with 1000 degrees of freedom\n",
            "------------------------------\n",
            "Mean: -0.02454016569981147\n",
            "Standard Deviation: 0.999481663701552\n",
            "Variance: 0.9989635960756224\n"
          ],
          "name": "stdout"
        }
      ]
    },
    {
      "cell_type": "code",
      "metadata": {
        "id": "whkOi8K0n1nh",
        "colab_type": "code",
        "outputId": "ba27677c-2e9c-4fd0-d4ce-84e70546753d",
        "colab": {
          "base_uri": "https://localhost:8080/",
          "height": 34
        }
      },
      "source": [
        "# Other ways instead of using a f string like above\n",
        "print('text1' + ' ' + 'text2')"
      ],
      "execution_count": 0,
      "outputs": [
        {
          "output_type": "stream",
          "text": [
            "text1 text2\n"
          ],
          "name": "stdout"
        }
      ]
    },
    {
      "cell_type": "code",
      "metadata": {
        "id": "HlXuYEbUo2Av",
        "colab_type": "code",
        "outputId": "a3457139-865d-46ef-b6fe-59cdeb1ae159",
        "colab": {
          "base_uri": "https://localhost:8080/",
          "height": 68
        }
      },
      "source": [
        "a = 3.03242\n",
        "print('my number is %s' % a)\n",
        "print('my number is {:.2f}'.format(a))\n",
        "print(f'my number is {a:.1f}')"
      ],
      "execution_count": 0,
      "outputs": [
        {
          "output_type": "stream",
          "text": [
            "my number is 3.03242\n",
            "my number is 3.03\n",
            "my number is 3.0\n"
          ],
          "name": "stdout"
        }
      ]
    },
    {
      "cell_type": "markdown",
      "metadata": {
        "id": "gsTrNRGUpHJY",
        "colab_type": "text"
      },
      "source": [
        "### Perform and interpret a t test\n",
        "\n",
        "\n",
        "Ever thought about how long it takes to make a pancake? Have you ever compared the cooking time of a pancake on each eye of your stove? Is the cooking time different between the different eyes? \n",
        "\n",
        "Now, we can run an experiment and collect a sample of 1,000 pancakes on one eye and another 800 pancakes on the other eye. \n",
        "\n",
        "Assumed we used the same pan, batter, and technique on both eyes:\n",
        "\n",
        "- Our average cooking times were 180 (5 std) and 178.5 (4.25 std) seconds repsectively. \n"
      ]
    },
    {
      "cell_type": "code",
      "metadata": {
        "id": "ozjCYBo4o6NL",
        "colab_type": "code",
        "colab": {}
      },
      "source": [
        "from scipy.stats import ttest_ind, ttest_ind_from_stats, ttest_rel"
      ],
      "execution_count": 0,
      "outputs": []
    },
    {
      "cell_type": "code",
      "metadata": {
        "id": "zUOZ7ZLFtbMT",
        "colab_type": "code",
        "colab": {}
      },
      "source": [
        "del sample # delete sample from earlier"
      ],
      "execution_count": 0,
      "outputs": []
    },
    {
      "cell_type": "code",
      "metadata": {
        "id": "0IMuE9J5pNXX",
        "colab_type": "code",
        "outputId": "6df7d1b8-7320-4cba-da2b-c72153b6160a",
        "colab": {
          "base_uri": "https://localhost:8080/",
          "height": 68
        }
      },
      "source": [
        "mu1 = 180\n",
        "sigma1 = 5\n",
        "n1 = 1000\n",
        "sample1 = np.random.normal(mu1, sigma1, n1)\n",
        "sample1[:10]"
      ],
      "execution_count": 0,
      "outputs": [
        {
          "output_type": "execute_result",
          "data": {
            "text/plain": [
              "array([175.59161896, 176.03903237, 177.02713925, 186.35740991,\n",
              "       176.56777549, 164.60177884, 184.05770811, 176.65302269,\n",
              "       176.55999357, 182.07421228])"
            ]
          },
          "metadata": {
            "tags": []
          },
          "execution_count": 59
        }
      ]
    },
    {
      "cell_type": "code",
      "metadata": {
        "id": "sb7AB-tztDmr",
        "colab_type": "code",
        "outputId": "91e61bb0-e1eb-4d90-a9eb-3de740e7b6b6",
        "colab": {
          "base_uri": "https://localhost:8080/",
          "height": 68
        }
      },
      "source": [
        "mu2 = 178.5\n",
        "sigma2 = 4.25\n",
        "n2 = 800\n",
        "sample2 = np.random.normal(mu2, sigma2, size=n2)\n",
        "sample2[:10]"
      ],
      "execution_count": 0,
      "outputs": [
        {
          "output_type": "execute_result",
          "data": {
            "text/plain": [
              "array([178.14780174, 184.08687866, 169.76550273, 175.047566  ,\n",
              "       181.90714956, 175.49213471, 177.33994898, 182.1914846 ,\n",
              "       175.43317092, 187.58757074])"
            ]
          },
          "metadata": {
            "tags": []
          },
          "execution_count": 61
        }
      ]
    },
    {
      "cell_type": "code",
      "metadata": {
        "id": "uq-1DMrLtR4v",
        "colab_type": "code",
        "colab": {}
      },
      "source": [
        "# Plot distribution using sns\n",
        "import seaborn as sns"
      ],
      "execution_count": 0,
      "outputs": []
    },
    {
      "cell_type": "code",
      "metadata": {
        "id": "ReAUVBoAtrv9",
        "colab_type": "code",
        "outputId": "fb491a64-b11d-406e-d1e9-7a449fa73397",
        "colab": {
          "base_uri": "https://localhost:8080/",
          "height": 282
        }
      },
      "source": [
        "sns.distplot(sample1, color='r')\n",
        "sns.distplot(sample2, color='b');"
      ],
      "execution_count": 0,
      "outputs": [
        {
          "output_type": "display_data",
          "data": {
            "image/png": "[encoded data removed]",
            "text/plain": [
              "<Figure size 432x288 with 1 Axes>"
            ]
          },
          "metadata": {
            "tags": []
          }
        }
      ]
    },
    {
      "cell_type": "markdown",
      "metadata": {
        "id": "ewhMVhrUtr7n",
        "colab_type": "text"
      },
      "source": [
        "# The four parts of T-tests\n",
        "\n",
        "- Null Hypothesis (aka status quo, boring hypothesis): $\\mu1 == \\mu2$  # fail to reject not accept null\n",
        "- Alternative Hypothesis: e.g. $\\mu1 =/= \\mu2$ # reject null\n",
        "- t-statistic\n",
        "- p-value"
      ]
    },
    {
      "cell_type": "code",
      "metadata": {
        "id": "iK-YgeuluYT8",
        "colab_type": "code",
        "outputId": "c378d20c-ef75-4675-b78e-ec0afaa49008",
        "colab": {
          "base_uri": "https://localhost:8080/",
          "height": 34
        }
      },
      "source": [
        "ttest_ind(sample1, sample2)"
      ],
      "execution_count": 0,
      "outputs": [
        {
          "output_type": "execute_result",
          "data": {
            "text/plain": [
              "Ttest_indResult(statistic=7.3396826389629375, pvalue=3.2269865168773886e-13)"
            ]
          },
          "metadata": {
            "tags": []
          },
          "execution_count": 66
        }
      ]
    },
    {
      "cell_type": "code",
      "metadata": {
        "id": "ZxdXY5PKu63l",
        "colab_type": "code",
        "colab": {}
      },
      "source": [
        "# so t statistic = 7.33 and pvalue = 3.22 to the -13, so more noise you have - u either need more data or more detectable differences\n",
        "# Before you run your ttest, you set a threshold first, (dont p-hack), usually 0.05, or 0.1. You reject if you pvalue is less than that threshold"
      ],
      "execution_count": 0,
      "outputs": []
    },
    {
      "cell_type": "code",
      "metadata": {
        "id": "ZM-IVwtMt-gr",
        "colab_type": "code",
        "colab": {}
      },
      "source": [
        "# generating dataset multiple times with loop - also this is a 2 sample test\n",
        "pvalue_list = []  # store p values in this list\n",
        "\n",
        "for _ in range(100):  # iterating 100 times\n",
        "  mu1 = 180  # setting my mean\n",
        "  sigma = 5  #setting my std\n",
        "  n1 = 100  # setting my size\n",
        "  sample1 = np.random.normal(mu1, sigma1, size=n1)  # setting my sample1\n",
        "  \n",
        "  mu2 = 178.5\n",
        "  sigma2 = 4.25\n",
        "  n2 = 80\n",
        "  sample2 = np.random.normal(mu2, sigma2, size=n2)\n",
        "  _, pvalue = ttest_ind(sample1, sample2)\n",
        "  pvalue_list.append(pvalue)"
      ],
      "execution_count": 0,
      "outputs": []
    },
    {
      "cell_type": "code",
      "metadata": {
        "id": "YbiKVwcYt-j4",
        "colab_type": "code",
        "outputId": "a16e9ad7-e2a2-491f-ce07-1d7926b59054",
        "colab": {
          "base_uri": "https://localhost:8080/",
          "height": 282
        }
      },
      "source": [
        "# shows the distribution of p values to show you might get values lower than your threshold and above, why you might be wrong when you fail to reject the null hypothesis\n",
        "plt.scatter(list(range(100)), pvalue_list)\n",
        "plt.axhline(y=0.05, color='r');"
      ],
      "execution_count": 0,
      "outputs": [
        {
          "output_type": "display_data",
          "data": {
            "image/png": "[encoded data removed]",
            "text/plain": [
              "<Figure size 432x288 with 1 Axes>"
            ]
          },
          "metadata": {
            "tags": []
          }
        }
      ]
    },
    {
      "cell_type": "code",
      "metadata": {
        "id": "EZ9OPMOQt-mk",
        "colab_type": "code",
        "outputId": "a98e3b8c-481b-4b5b-bccc-37e82687a2eb",
        "colab": {
          "base_uri": "https://localhost:8080/",
          "height": 34
        }
      },
      "source": [
        "# computer proportions of points above and below the threshold - so have 44 points out of 100 are above threshold\n",
        "pvalue_arr = np.array(pvalue_list)\n",
        "np.sum(pvalue_arr > 0.05)"
      ],
      "execution_count": 0,
      "outputs": [
        {
          "output_type": "execute_result",
          "data": {
            "text/plain": [
              "44"
            ]
          },
          "metadata": {
            "tags": []
          },
          "execution_count": 72
        }
      ]
    },
    {
      "cell_type": "markdown",
      "metadata": {
        "id": "3l1X1Cic8_jb",
        "colab_type": "text"
      },
      "source": [
        "# Type 1 vs Type 2 error\n",
        "https://en.wikipedia.org/wiki/Type_I_and_type_II_errors"
      ]
    },
    {
      "cell_type": "markdown",
      "metadata": {
        "id": "uLV5jnfCCJKG",
        "colab_type": "text"
      },
      "source": [
        "# Test statistic\n",
        "https://blog.minitab.com/blog/statistics-and-quality-data-analysis/what-is-a-t-test-and-why-is-it-like-telling-a-kid-to-clean-up-that-mess-in-the-kitchen\n",
        "\n",
        "https://blog.minitab.com/blog/statistics-and-quality-data-analysis/what-are-t-values-and-p-values-in-statistics\n",
        "\n",
        "# P-value\n",
        "\n",
        "https://stats.stackexchange.com/questions/166323/misunderstanding-a-p-value\n",
        "\n",
        "# One-tailed vs two-tailed\n",
        "https://stats.idre.ucla.edu/other/mult-pkg/faq/general/faq-what-are-the-differences-between-one-tailed-and-two-tailed-tests/\n",
        "\n",
        "https://www.youtube.com/watch?v=VP1bhopNP74\n",
        "\n",
        "# One sample vs two sample\n",
        "\n",
        "https://web.ma.utexas.edu/users/mks/statmistakes/2samplevs1sampletest.html\n",
        "\n",
        "https://blog.minitab.com/blog/adventures-in-statistics-2/understanding-t-tests-1-sample-2-sample-and-paired-t-tests"
      ]
    },
    {
      "cell_type": "code",
      "metadata": {
        "id": "dS3743DkMwIX",
        "colab_type": "code",
        "colab": {}
      },
      "source": [
        "# scipy.stats.ttest_1samp(a, popmean, axis=0, nan_policy='propagate')   1 sample test in scipy"
      ],
      "execution_count": 0,
      "outputs": []
    },
    {
      "cell_type": "markdown",
      "metadata": {
        "id": "xr4fNJPnMnEU",
        "colab_type": "text"
      },
      "source": [
        "# Example dataset\n",
        "https://www.kaggle.com/russellyates88/suicide-rates-overview-1985-to-2016"
      ]
    },
    {
      "cell_type": "code",
      "metadata": {
        "id": "qE3nj1X0t-pn",
        "colab_type": "code",
        "outputId": "f647b65a-9544-4ed0-de7d-40ea2fc657a3",
        "colab": {
          "resources": {
            "http://localhost:8080/nbextensions/google.colab/files.js": {
              "data": "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",
              "ok": true,
              "headers": [
                [
                  "content-type",
                  "application/javascript"
                ]
              ],
              "status": 200,
              "status_text": ""
            }
          },
          "base_uri": "https://localhost:8080/",
          "height": 74
        }
      },
      "source": [
        "# Save file to notebook\n",
        "from google.colab import files\n",
        "uploaded = files.upload()"
      ],
      "execution_count": 0,
      "outputs": [
        {
          "output_type": "display_data",
          "data": {
            "text/html": [
              "\n",
              "     <input type=\"file\" id=\"files-47490d3b-766e-4c89-9f2e-b8a5893bd6b4\" name=\"files[]\" multiple disabled />\n",
              "     <output id=\"result-47490d3b-766e-4c89-9f2e-b8a5893bd6b4\">\n",
              "      Upload widget is only available when the cell has been executed in the\n",
              "      current browser session. Please rerun this cell to enable.\n",
              "      </output>\n",
              "      <script src=\"/nbextensions/google.colab/files.js\"></script> "
            ],
            "text/plain": [
              "<IPython.core.display.HTML object>"
            ]
          },
          "metadata": {
            "tags": []
          }
        },
        {
          "output_type": "stream",
          "text": [
            "Saving master.csv to master.csv\n"
          ],
          "name": "stdout"
        }
      ]
    },
    {
      "cell_type": "code",
      "metadata": {
        "id": "-rcD8fL-Ov7Y",
        "colab_type": "code",
        "outputId": "4102cdbb-424d-4097-cc37-f6350f117ba1",
        "colab": {
          "base_uri": "https://localhost:8080/",
          "height": 204
        }
      },
      "source": [
        "df = pd.read_csv('master.csv')\n",
        "df.head()"
      ],
      "execution_count": 0,
      "outputs": [
        {
          "output_type": "execute_result",
          "data": {
            "text/html": [
              "<div>\n",
              "<style scoped>\n",
              "    .dataframe tbody tr th:only-of-type {\n",
              "        vertical-align: middle;\n",
              "    }\n",
              "\n",
              "    .dataframe tbody tr th {\n",
              "        vertical-align: top;\n",
              "    }\n",
              "\n",
              "    .dataframe thead th {\n",
              "        text-align: right;\n",
              "    }\n",
              "</style>\n",
              "<table border=\"1\" class=\"dataframe\">\n",
              "  <thead>\n",
              "    <tr style=\"text-align: right;\">\n",
              "      <th></th>\n",
              "      <th>country</th>\n",
              "      <th>year</th>\n",
              "      <th>sex</th>\n",
              "      <th>age</th>\n",
              "      <th>suicides_no</th>\n",
              "      <th>population</th>\n",
              "      <th>suicides/100k pop</th>\n",
              "      <th>country-year</th>\n",
              "      <th>HDI for year</th>\n",
              "      <th>gdp_for_year ($)</th>\n",
              "      <th>gdp_per_capita ($)</th>\n",
              "      <th>generation</th>\n",
              "    </tr>\n",
              "  </thead>\n",
              "  <tbody>\n",
              "    <tr>\n",
              "      <th>0</th>\n",
              "      <td>Albania</td>\n",
              "      <td>1987</td>\n",
              "      <td>male</td>\n",
              "      <td>15-24 years</td>\n",
              "      <td>21</td>\n",
              "      <td>312900</td>\n",
              "      <td>6.71</td>\n",
              "      <td>Albania1987</td>\n",
              "      <td>NaN</td>\n",
              "      <td>2,156,624,900</td>\n",
              "      <td>796</td>\n",
              "      <td>Generation X</td>\n",
              "    </tr>\n",
              "    <tr>\n",
              "      <th>1</th>\n",
              "      <td>Albania</td>\n",
              "      <td>1987</td>\n",
              "      <td>male</td>\n",
              "      <td>35-54 years</td>\n",
              "      <td>16</td>\n",
              "      <td>308000</td>\n",
              "      <td>5.19</td>\n",
              "      <td>Albania1987</td>\n",
              "      <td>NaN</td>\n",
              "      <td>2,156,624,900</td>\n",
              "      <td>796</td>\n",
              "      <td>Silent</td>\n",
              "    </tr>\n",
              "    <tr>\n",
              "      <th>2</th>\n",
              "      <td>Albania</td>\n",
              "      <td>1987</td>\n",
              "      <td>female</td>\n",
              "      <td>15-24 years</td>\n",
              "      <td>14</td>\n",
              "      <td>289700</td>\n",
              "      <td>4.83</td>\n",
              "      <td>Albania1987</td>\n",
              "      <td>NaN</td>\n",
              "      <td>2,156,624,900</td>\n",
              "      <td>796</td>\n",
              "      <td>Generation X</td>\n",
              "    </tr>\n",
              "    <tr>\n",
              "      <th>3</th>\n",
              "      <td>Albania</td>\n",
              "      <td>1987</td>\n",
              "      <td>male</td>\n",
              "      <td>75+ years</td>\n",
              "      <td>1</td>\n",
              "      <td>21800</td>\n",
              "      <td>4.59</td>\n",
              "      <td>Albania1987</td>\n",
              "      <td>NaN</td>\n",
              "      <td>2,156,624,900</td>\n",
              "      <td>796</td>\n",
              "      <td>G.I. Generation</td>\n",
              "    </tr>\n",
              "    <tr>\n",
              "      <th>4</th>\n",
              "      <td>Albania</td>\n",
              "      <td>1987</td>\n",
              "      <td>male</td>\n",
              "      <td>25-34 years</td>\n",
              "      <td>9</td>\n",
              "      <td>274300</td>\n",
              "      <td>3.28</td>\n",
              "      <td>Albania1987</td>\n",
              "      <td>NaN</td>\n",
              "      <td>2,156,624,900</td>\n",
              "      <td>796</td>\n",
              "      <td>Boomers</td>\n",
              "    </tr>\n",
              "  </tbody>\n",
              "</table>\n",
              "</div>"
            ],
            "text/plain": [
              "   country  year  ... gdp_per_capita ($)       generation\n",
              "0  Albania  1987  ...                796     Generation X\n",
              "1  Albania  1987  ...                796           Silent\n",
              "2  Albania  1987  ...                796     Generation X\n",
              "3  Albania  1987  ...                796  G.I. Generation\n",
              "4  Albania  1987  ...                796          Boomers\n",
              "\n",
              "[5 rows x 12 columns]"
            ]
          },
          "metadata": {
            "tags": []
          },
          "execution_count": 75
        }
      ]
    },
    {
      "cell_type": "code",
      "metadata": {
        "id": "L5FUSa6VO_Ad",
        "colab_type": "code",
        "outputId": "71ee819c-521f-4084-8863-1f723596d104",
        "colab": {
          "base_uri": "https://localhost:8080/",
          "height": 34
        }
      },
      "source": [
        "# check shape\n",
        "df.shape"
      ],
      "execution_count": 0,
      "outputs": [
        {
          "output_type": "execute_result",
          "data": {
            "text/plain": [
              "(27820, 12)"
            ]
          },
          "metadata": {
            "tags": []
          },
          "execution_count": 76
        }
      ]
    },
    {
      "cell_type": "code",
      "metadata": {
        "id": "LoNqmUytPIKM",
        "colab_type": "code",
        "outputId": "ee89d92a-2b2b-404b-c777-0b76b1fca621",
        "colab": {
          "base_uri": "https://localhost:8080/",
          "height": 34
        }
      },
      "source": [
        "# Check to see what year it goes up to\n",
        "df['year'].max()"
      ],
      "execution_count": 0,
      "outputs": [
        {
          "output_type": "execute_result",
          "data": {
            "text/plain": [
              "2016"
            ]
          },
          "metadata": {
            "tags": []
          },
          "execution_count": 77
        }
      ]
    },
    {
      "cell_type": "code",
      "metadata": {
        "id": "IsE6urwDPSg1",
        "colab_type": "code",
        "outputId": "5e33b5f0-47a2-4752-ee1f-d677c014ce1f",
        "colab": {
          "base_uri": "https://localhost:8080/",
          "height": 391
        }
      },
      "source": [
        "# Check the countries\n",
        "df['country'].unique()"
      ],
      "execution_count": 0,
      "outputs": [
        {
          "output_type": "execute_result",
          "data": {
            "text/plain": [
              "array(['Albania', 'Antigua and Barbuda', 'Argentina', 'Armenia', 'Aruba',\n",
              "       'Australia', 'Austria', 'Azerbaijan', 'Bahamas', 'Bahrain',\n",
              "       'Barbados', 'Belarus', 'Belgium', 'Belize',\n",
              "       'Bosnia and Herzegovina', 'Brazil', 'Bulgaria', 'Cabo Verde',\n",
              "       'Canada', 'Chile', 'Colombia', 'Costa Rica', 'Croatia', 'Cuba',\n",
              "       'Cyprus', 'Czech Republic', 'Denmark', 'Dominica', 'Ecuador',\n",
              "       'El Salvador', 'Estonia', 'Fiji', 'Finland', 'France', 'Georgia',\n",
              "       'Germany', 'Greece', 'Grenada', 'Guatemala', 'Guyana', 'Hungary',\n",
              "       'Iceland', 'Ireland', 'Israel', 'Italy', 'Jamaica', 'Japan',\n",
              "       'Kazakhstan', 'Kiribati', 'Kuwait', 'Kyrgyzstan', 'Latvia',\n",
              "       'Lithuania', 'Luxembourg', 'Macau', 'Maldives', 'Malta',\n",
              "       'Mauritius', 'Mexico', 'Mongolia', 'Montenegro', 'Netherlands',\n",
              "       'New Zealand', 'Nicaragua', 'Norway', 'Oman', 'Panama', 'Paraguay',\n",
              "       'Philippines', 'Poland', 'Portugal', 'Puerto Rico', 'Qatar',\n",
              "       'Republic of Korea', 'Romania', 'Russian Federation',\n",
              "       'Saint Kitts and Nevis', 'Saint Lucia',\n",
              "       'Saint Vincent and Grenadines', 'San Marino', 'Serbia',\n",
              "       'Seychelles', 'Singapore', 'Slovakia', 'Slovenia', 'South Africa',\n",
              "       'Spain', 'Sri Lanka', 'Suriname', 'Sweden', 'Switzerland',\n",
              "       'Thailand', 'Trinidad and Tobago', 'Turkey', 'Turkmenistan',\n",
              "       'Ukraine', 'United Arab Emirates', 'United Kingdom',\n",
              "       'United States', 'Uruguay', 'Uzbekistan'], dtype=object)"
            ]
          },
          "metadata": {
            "tags": []
          },
          "execution_count": 78
        }
      ]
    },
    {
      "cell_type": "code",
      "metadata": {
        "id": "knYCvXgbPJ2s",
        "colab_type": "code",
        "outputId": "bb222b56-34ad-4685-cafa-30da3c6a17da",
        "colab": {
          "base_uri": "https://localhost:8080/",
          "height": 204
        }
      },
      "source": [
        "# Want just 2016 year and split by sex (should be less countries)\n",
        "df_2016 = df[df['year'] == 2016]\n",
        "df_2016.head()"
      ],
      "execution_count": 0,
      "outputs": [
        {
          "output_type": "execute_result",
          "data": {
            "text/html": [
              "<div>\n",
              "<style scoped>\n",
              "    .dataframe tbody tr th:only-of-type {\n",
              "        vertical-align: middle;\n",
              "    }\n",
              "\n",
              "    .dataframe tbody tr th {\n",
              "        vertical-align: top;\n",
              "    }\n",
              "\n",
              "    .dataframe thead th {\n",
              "        text-align: right;\n",
              "    }\n",
              "</style>\n",
              "<table border=\"1\" class=\"dataframe\">\n",
              "  <thead>\n",
              "    <tr style=\"text-align: right;\">\n",
              "      <th></th>\n",
              "      <th>country</th>\n",
              "      <th>year</th>\n",
              "      <th>sex</th>\n",
              "      <th>age</th>\n",
              "      <th>suicides_no</th>\n",
              "      <th>population</th>\n",
              "      <th>suicides/100k pop</th>\n",
              "      <th>country-year</th>\n",
              "      <th>HDI for year</th>\n",
              "      <th>gdp_for_year ($)</th>\n",
              "      <th>gdp_per_capita ($)</th>\n",
              "      <th>generation</th>\n",
              "    </tr>\n",
              "  </thead>\n",
              "  <tbody>\n",
              "    <tr>\n",
              "      <th>1248</th>\n",
              "      <td>Armenia</td>\n",
              "      <td>2016</td>\n",
              "      <td>male</td>\n",
              "      <td>75+ years</td>\n",
              "      <td>12</td>\n",
              "      <td>61956</td>\n",
              "      <td>19.37</td>\n",
              "      <td>Armenia2016</td>\n",
              "      <td>NaN</td>\n",
              "      <td>10,546,135,160</td>\n",
              "      <td>3788</td>\n",
              "      <td>Silent</td>\n",
              "    </tr>\n",
              "    <tr>\n",
              "      <th>1249</th>\n",
              "      <td>Armenia</td>\n",
              "      <td>2016</td>\n",
              "      <td>male</td>\n",
              "      <td>55-74 years</td>\n",
              "      <td>16</td>\n",
              "      <td>237813</td>\n",
              "      <td>6.73</td>\n",
              "      <td>Armenia2016</td>\n",
              "      <td>NaN</td>\n",
              "      <td>10,546,135,160</td>\n",
              "      <td>3788</td>\n",
              "      <td>Boomers</td>\n",
              "    </tr>\n",
              "    <tr>\n",
              "      <th>1250</th>\n",
              "      <td>Armenia</td>\n",
              "      <td>2016</td>\n",
              "      <td>male</td>\n",
              "      <td>35-54 years</td>\n",
              "      <td>16</td>\n",
              "      <td>350633</td>\n",
              "      <td>4.56</td>\n",
              "      <td>Armenia2016</td>\n",
              "      <td>NaN</td>\n",
              "      <td>10,546,135,160</td>\n",
              "      <td>3788</td>\n",
              "      <td>Generation X</td>\n",
              "    </tr>\n",
              "    <tr>\n",
              "      <th>1251</th>\n",
              "      <td>Armenia</td>\n",
              "      <td>2016</td>\n",
              "      <td>male</td>\n",
              "      <td>15-24 years</td>\n",
              "      <td>5</td>\n",
              "      <td>202220</td>\n",
              "      <td>2.47</td>\n",
              "      <td>Armenia2016</td>\n",
              "      <td>NaN</td>\n",
              "      <td>10,546,135,160</td>\n",
              "      <td>3788</td>\n",
              "      <td>Millenials</td>\n",
              "    </tr>\n",
              "    <tr>\n",
              "      <th>1252</th>\n",
              "      <td>Armenia</td>\n",
              "      <td>2016</td>\n",
              "      <td>female</td>\n",
              "      <td>75+ years</td>\n",
              "      <td>2</td>\n",
              "      <td>102414</td>\n",
              "      <td>1.95</td>\n",
              "      <td>Armenia2016</td>\n",
              "      <td>NaN</td>\n",
              "      <td>10,546,135,160</td>\n",
              "      <td>3788</td>\n",
              "      <td>Silent</td>\n",
              "    </tr>\n",
              "  </tbody>\n",
              "</table>\n",
              "</div>"
            ],
            "text/plain": [
              "      country  year  ... gdp_per_capita ($)    generation\n",
              "1248  Armenia  2016  ...               3788        Silent\n",
              "1249  Armenia  2016  ...               3788       Boomers\n",
              "1250  Armenia  2016  ...               3788  Generation X\n",
              "1251  Armenia  2016  ...               3788    Millenials\n",
              "1252  Armenia  2016  ...               3788        Silent\n",
              "\n",
              "[5 rows x 12 columns]"
            ]
          },
          "metadata": {
            "tags": []
          },
          "execution_count": 79
        }
      ]
    },
    {
      "cell_type": "code",
      "metadata": {
        "id": "PpLSZ-ujPa0E",
        "colab_type": "code",
        "outputId": "13a78889-49e4-47f9-a7ed-d620d24f0993",
        "colab": {
          "base_uri": "https://localhost:8080/",
          "height": 34
        }
      },
      "source": [
        "# Check shape again\n",
        "df.shape"
      ],
      "execution_count": 0,
      "outputs": [
        {
          "output_type": "execute_result",
          "data": {
            "text/plain": [
              "(27820, 12)"
            ]
          },
          "metadata": {
            "tags": []
          },
          "execution_count": 80
        }
      ]
    },
    {
      "cell_type": "code",
      "metadata": {
        "id": "E7wEEQAvPeKs",
        "colab_type": "code",
        "outputId": "42fe7013-1b7b-4cc4-f761-7f006ec2a39e",
        "colab": {
          "base_uri": "https://localhost:8080/",
          "height": 85
        }
      },
      "source": [
        "# Check if less countries now for 2016\n",
        "df_2016['country'].unique()"
      ],
      "execution_count": 0,
      "outputs": [
        {
          "output_type": "execute_result",
          "data": {
            "text/plain": [
              "array(['Armenia', 'Austria', 'Croatia', 'Cyprus', 'Czech Republic',\n",
              "       'Grenada', 'Hungary', 'Iceland', 'Lithuania', 'Mauritius',\n",
              "       'Mongolia', 'Netherlands', 'Qatar', 'Romania', 'Sweden',\n",
              "       'Thailand'], dtype=object)"
            ]
          },
          "metadata": {
            "tags": []
          },
          "execution_count": 81
        }
      ]
    },
    {
      "cell_type": "code",
      "metadata": {
        "id": "u62f8o8vPigT",
        "colab_type": "code",
        "colab": {}
      },
      "source": [
        "# Split dataset by sex now\n",
        "df_male = df_2016[df_2016['sex'] == 'male']\n",
        "df_female = df_2016[df_2016['sex'] == 'female']"
      ],
      "execution_count": 0,
      "outputs": []
    },
    {
      "cell_type": "code",
      "metadata": {
        "id": "XKkFAH9JPnNd",
        "colab_type": "code",
        "outputId": "34149e7f-8043-41ef-f73c-e43ab4b938b9",
        "colab": {
          "base_uri": "https://localhost:8080/",
          "height": 34
        }
      },
      "source": [
        "# check shapes\n",
        "df_male.shape"
      ],
      "execution_count": 0,
      "outputs": [
        {
          "output_type": "execute_result",
          "data": {
            "text/plain": [
              "(80, 12)"
            ]
          },
          "metadata": {
            "tags": []
          },
          "execution_count": 84
        }
      ]
    },
    {
      "cell_type": "code",
      "metadata": {
        "id": "6yA0v6wEPtdL",
        "colab_type": "code",
        "outputId": "dc854138-e942-4be1-b080-b90c0b90e2e8",
        "colab": {
          "base_uri": "https://localhost:8080/",
          "height": 34
        }
      },
      "source": [
        "# check shapes\n",
        "df_female.shape"
      ],
      "execution_count": 0,
      "outputs": [
        {
          "output_type": "execute_result",
          "data": {
            "text/plain": [
              "(80, 12)"
            ]
          },
          "metadata": {
            "tags": []
          },
          "execution_count": 83
        }
      ]
    },
    {
      "cell_type": "code",
      "metadata": {
        "id": "7LOJj878PtgK",
        "colab_type": "code",
        "outputId": "b1a5a04b-0e82-4589-8888-ad57ae1fe05d",
        "colab": {
          "base_uri": "https://localhost:8080/",
          "height": 323
        }
      },
      "source": [
        "# Group by two features, country and age and get mean and get the column suicides--groupby country and get mean of the suicides\n",
        "df_female_group = df_female.groupby(['country', 'age'], as_index=False).mean().groupby('country')['suicides/100k pop'].mean()\n",
        "df_female_group"
      ],
      "execution_count": 0,
      "outputs": [
        {
          "output_type": "execute_result",
          "data": {
            "text/plain": [
              "country\n",
              "Armenia            1.174\n",
              "Austria            7.520\n",
              "Croatia            8.374\n",
              "Cyprus             1.012\n",
              "Czech Republic     5.344\n",
              "Grenada            0.000\n",
              "Hungary           10.206\n",
              "Iceland            2.936\n",
              "Lithuania          8.916\n",
              "Mauritius          2.560\n",
              "Mongolia           5.636\n",
              "Netherlands        8.066\n",
              "Qatar              0.576\n",
              "Romania            3.506\n",
              "Sweden             8.204\n",
              "Thailand           3.068\n",
              "Name: suicides/100k pop, dtype: float64"
            ]
          },
          "metadata": {
            "tags": []
          },
          "execution_count": 87
        }
      ]
    },
    {
      "cell_type": "code",
      "metadata": {
        "id": "gtlDSKcYQ0IA",
        "colab_type": "code",
        "outputId": "0b302c97-424b-456f-face-edc15a1e44c6",
        "colab": {
          "base_uri": "https://localhost:8080/",
          "height": 34
        }
      },
      "source": [
        "# Spot checking and they are equal\n",
        "df_female[df_female['country'] == 'Netherlands']['suicides/100k pop'].mean()"
      ],
      "execution_count": 0,
      "outputs": [
        {
          "output_type": "execute_result",
          "data": {
            "text/plain": [
              "8.065999999999999"
            ]
          },
          "metadata": {
            "tags": []
          },
          "execution_count": 89
        }
      ]
    },
    {
      "cell_type": "code",
      "metadata": {
        "id": "6VeXekGzPtiS",
        "colab_type": "code",
        "outputId": "a3be4383-f572-45c5-b49d-c71a24b11439",
        "colab": {
          "base_uri": "https://localhost:8080/",
          "height": 34
        }
      },
      "source": [
        "# double check calculations by subsetting again to spot check\n",
        "df_female[df_female['country'] == 'Armenia']['suicides/100k pop'].mean()"
      ],
      "execution_count": 0,
      "outputs": [
        {
          "output_type": "execute_result",
          "data": {
            "text/plain": [
              "1.174"
            ]
          },
          "metadata": {
            "tags": []
          },
          "execution_count": 88
        }
      ]
    },
    {
      "cell_type": "code",
      "metadata": {
        "id": "mmgNW5XyQnDH",
        "colab_type": "code",
        "outputId": "92954b39-beba-4c61-b929-66016cc19355",
        "colab": {
          "base_uri": "https://localhost:8080/",
          "height": 323
        }
      },
      "source": [
        "df_male_group = df_male.groupby(['country', 'age'], as_index=False).mean().groupby('country')['suicides/100k pop'].mean()\n",
        "df_male_group"
      ],
      "execution_count": 0,
      "outputs": [
        {
          "output_type": "execute_result",
          "data": {
            "text/plain": [
              "country\n",
              "Armenia            6.938\n",
              "Austria           29.126\n",
              "Croatia           34.338\n",
              "Cyprus             8.418\n",
              "Czech Republic    27.008\n",
              "Grenada            0.000\n",
              "Hungary           38.062\n",
              "Iceland           24.678\n",
              "Lithuania         63.428\n",
              "Mauritius         17.300\n",
              "Mongolia          31.242\n",
              "Netherlands       17.412\n",
              "Qatar              2.710\n",
              "Romania           19.760\n",
              "Sweden            19.564\n",
              "Thailand          12.396\n",
              "Name: suicides/100k pop, dtype: float64"
            ]
          },
          "metadata": {
            "tags": []
          },
          "execution_count": 90
        }
      ]
    },
    {
      "cell_type": "code",
      "metadata": {
        "id": "i7t_ddGjQnGP",
        "colab_type": "code",
        "outputId": "50ebbf5d-7769-4d50-9998-03f7749d71cd",
        "colab": {
          "base_uri": "https://localhost:8080/",
          "height": 34
        }
      },
      "source": [
        "# spot check for male\n",
        "df_male[df_male['country'] == 'Armenia']['suicides/100k pop'].mean()"
      ],
      "execution_count": 0,
      "outputs": [
        {
          "output_type": "execute_result",
          "data": {
            "text/plain": [
              "6.938000000000001"
            ]
          },
          "metadata": {
            "tags": []
          },
          "execution_count": 91
        }
      ]
    },
    {
      "cell_type": "code",
      "metadata": {
        "id": "sTOE-uA1QnIu",
        "colab_type": "code",
        "outputId": "36bc1ed3-7e64-47ab-9e3d-9037a3ae3c41",
        "colab": {
          "base_uri": "https://localhost:8080/",
          "height": 34
        }
      },
      "source": [
        "# now have 2 series and can pass into t-test, we have 2 samples, male and female\n",
        "ttest_ind(df_female_group, df_male_group)"
      ],
      "execution_count": 0,
      "outputs": [
        {
          "output_type": "execute_result",
          "data": {
            "text/plain": [
              "Ttest_indResult(statistic=-4.2791492382884435, pvalue=0.00017639850827717496)"
            ]
          },
          "metadata": {
            "tags": []
          },
          "execution_count": 92
        }
      ]
    },
    {
      "cell_type": "code",
      "metadata": {
        "id": "3eSDMrxvQnLk",
        "colab_type": "code",
        "colab": {}
      },
      "source": [
        "# pvalue is small so we can reject the null hypothesis that the suicide rate in this country, Armenia, is the same independently of sex so rejecting null in favor of the alternative hypothesis that they are not the same"
      ],
      "execution_count": 0,
      "outputs": []
    },
    {
      "cell_type": "code",
      "metadata": {
        "id": "mY_XYBJ3R9r_",
        "colab_type": "code",
        "outputId": "b23c179a-04c0-4649-d3e2-c6cbec73d844",
        "colab": {
          "base_uri": "https://localhost:8080/",
          "height": 34
        }
      },
      "source": [
        "# Also the default for equal_var is 2 sample test which is why we didnt need to put it in their, if want 1 sample test, Welch's t-test, need to put: equal_var=False.\n",
        "ttest_ind(df_female_group, df_male_group, equal_var=False)"
      ],
      "execution_count": 0,
      "outputs": [
        {
          "output_type": "execute_result",
          "data": {
            "text/plain": [
              "Ttest_indResult(statistic=-4.2791492382884435, pvalue=0.0005475986477063533)"
            ]
          },
          "metadata": {
            "tags": []
          },
          "execution_count": 96
        }
      ]
    },
    {
      "cell_type": "code",
      "metadata": {
        "id": "0XtBsCUZSCLE",
        "colab_type": "code",
        "colab": {}
      },
      "source": [
        "# When calculating std in numpy, make sure ddof=1"
      ],
      "execution_count": 0,
      "outputs": []
    }
  ]
}