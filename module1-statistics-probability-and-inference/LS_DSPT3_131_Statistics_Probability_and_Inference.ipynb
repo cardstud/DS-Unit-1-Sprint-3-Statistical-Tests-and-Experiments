{
  "nbformat": 4,
  "nbformat_minor": 0,
  "metadata": {
    "colab": {
      "name": "Copy of Copy of LS_DSPT3_131_Statistics_Probability_and_Inference.ipynb",
      "provenance": [],
      "collapsed_sections": [],
      "include_colab_link": true
    },
    "kernelspec": {
      "display_name": "Python 3",
      "language": "python",
      "name": "python3"
    },
    "language_info": {
      "codemirror_mode": {
        "name": "ipython",
        "version": 3
      },
      "file_extension": ".py",
      "mimetype": "text/x-python",
      "name": "python",
      "nbconvert_exporter": "python",
      "pygments_lexer": "ipython3",
      "version": "3.7.3"
    }
  },
  "cells": [
    {
      "cell_type": "markdown",
      "metadata": {
        "id": "view-in-github",
        "colab_type": "text"
      },
      "source": [
        "<a href=\"https://colab.research.google.com/github/cardstud/DS-Unit-1-Sprint-3-Statistical-Tests-and-Experiments/blob/master/module1-statistics-probability-and-inference/LS_DSPT3_131_Statistics_Probability_and_Inference.ipynb\" target=\"_parent\"><img src=\"https://colab.research.google.com/assets/colab-badge.svg\" alt=\"Open In Colab\"/></a>"
      ]
    },
    {
      "cell_type": "markdown",
      "metadata": {
        "colab_type": "text",
        "id": "eJGtmni-DezY"
      },
      "source": [
        "<img align=\"left\" src=\"https://lever-client-logos.s3.amazonaws.com/864372b1-534c-480e-acd5-9711f850815c-1524247202159.png\" width=200>\n",
        "\n",
        "<br></br>\n",
        "<br></br>\n",
        "\n",
        "## *Data Science Unit 1 Sprint 3 Lesson 1*\n",
        "\n",
        "# Statistics, Probability and Inference\n",
        "\n",
        "## Learning Objectives\n",
        "* [Part 1](#p1): Normal Distribution Revisted\n",
        "* [Part 2](#p2): Student's T Test\n",
        "* [Part 3](#p3): Hypothesis Test & Doing it Live"
      ]
    },
    {
      "cell_type": "markdown",
      "metadata": {
        "id": "WOXkk77hbeP5",
        "colab_type": "text"
      },
      "source": [
        "## What is Descriptive Statistics?\n",
        "\n",
        "<https://statistics.laerd.com/statistical-guides/descriptive-inferential-statistics.php>"
      ]
    },
    {
      "cell_type": "code",
      "metadata": {
        "id": "aGsGGy4Mb9IG",
        "colab_type": "code",
        "outputId": "5a6b09b1-086f-4867-ab02-b73864babebe",
        "colab": {
          "base_uri": "https://localhost:8080/",
          "height": 204
        }
      },
      "source": [
        "import pandas as pd\n",
        "df = pd.DataFrame({'a': [1,2,3,4,5], 'b': [2,4,6,8,10], 'c': [1,5,2,7,3]})\n",
        "df.head()"
      ],
      "execution_count": 0,
      "outputs": [
        {
          "output_type": "execute_result",
          "data": {
            "text/html": [
              "<div>\n",
              "<style scoped>\n",
              "    .dataframe tbody tr th:only-of-type {\n",
              "        vertical-align: middle;\n",
              "    }\n",
              "\n",
              "    .dataframe tbody tr th {\n",
              "        vertical-align: top;\n",
              "    }\n",
              "\n",
              "    .dataframe thead th {\n",
              "        text-align: right;\n",
              "    }\n",
              "</style>\n",
              "<table border=\"1\" class=\"dataframe\">\n",
              "  <thead>\n",
              "    <tr style=\"text-align: right;\">\n",
              "      <th></th>\n",
              "      <th>a</th>\n",
              "      <th>b</th>\n",
              "      <th>c</th>\n",
              "    </tr>\n",
              "  </thead>\n",
              "  <tbody>\n",
              "    <tr>\n",
              "      <th>0</th>\n",
              "      <td>1</td>\n",
              "      <td>2</td>\n",
              "      <td>1</td>\n",
              "    </tr>\n",
              "    <tr>\n",
              "      <th>1</th>\n",
              "      <td>2</td>\n",
              "      <td>4</td>\n",
              "      <td>5</td>\n",
              "    </tr>\n",
              "    <tr>\n",
              "      <th>2</th>\n",
              "      <td>3</td>\n",
              "      <td>6</td>\n",
              "      <td>2</td>\n",
              "    </tr>\n",
              "    <tr>\n",
              "      <th>3</th>\n",
              "      <td>4</td>\n",
              "      <td>8</td>\n",
              "      <td>7</td>\n",
              "    </tr>\n",
              "    <tr>\n",
              "      <th>4</th>\n",
              "      <td>5</td>\n",
              "      <td>10</td>\n",
              "      <td>3</td>\n",
              "    </tr>\n",
              "  </tbody>\n",
              "</table>\n",
              "</div>"
            ],
            "text/plain": [
              "   a   b  c\n",
              "0  1   2  1\n",
              "1  2   4  5\n",
              "2  3   6  2\n",
              "3  4   8  7\n",
              "4  5  10  3"
            ]
          },
          "metadata": {
            "tags": []
          },
          "execution_count": 34
        }
      ]
    },
    {
      "cell_type": "code",
      "metadata": {
        "id": "K-73WFB5cI1_",
        "colab_type": "code",
        "outputId": "c9c118f2-f580-4275-879e-807a6c0f0bee",
        "colab": {
          "base_uri": "https://localhost:8080/",
          "height": 297
        }
      },
      "source": [
        "# How can we quickly look at some descriptive statistics of the above dataframe?\n",
        "df.describe()"
      ],
      "execution_count": 0,
      "outputs": [
        {
          "output_type": "execute_result",
          "data": {
            "text/html": [
              "<div>\n",
              "<style scoped>\n",
              "    .dataframe tbody tr th:only-of-type {\n",
              "        vertical-align: middle;\n",
              "    }\n",
              "\n",
              "    .dataframe tbody tr th {\n",
              "        vertical-align: top;\n",
              "    }\n",
              "\n",
              "    .dataframe thead th {\n",
              "        text-align: right;\n",
              "    }\n",
              "</style>\n",
              "<table border=\"1\" class=\"dataframe\">\n",
              "  <thead>\n",
              "    <tr style=\"text-align: right;\">\n",
              "      <th></th>\n",
              "      <th>a</th>\n",
              "      <th>b</th>\n",
              "      <th>c</th>\n",
              "    </tr>\n",
              "  </thead>\n",
              "  <tbody>\n",
              "    <tr>\n",
              "      <th>count</th>\n",
              "      <td>5.000000</td>\n",
              "      <td>5.000000</td>\n",
              "      <td>5.000000</td>\n",
              "    </tr>\n",
              "    <tr>\n",
              "      <th>mean</th>\n",
              "      <td>3.000000</td>\n",
              "      <td>6.000000</td>\n",
              "      <td>3.600000</td>\n",
              "    </tr>\n",
              "    <tr>\n",
              "      <th>std</th>\n",
              "      <td>1.581139</td>\n",
              "      <td>3.162278</td>\n",
              "      <td>2.408319</td>\n",
              "    </tr>\n",
              "    <tr>\n",
              "      <th>min</th>\n",
              "      <td>1.000000</td>\n",
              "      <td>2.000000</td>\n",
              "      <td>1.000000</td>\n",
              "    </tr>\n",
              "    <tr>\n",
              "      <th>25%</th>\n",
              "      <td>2.000000</td>\n",
              "      <td>4.000000</td>\n",
              "      <td>2.000000</td>\n",
              "    </tr>\n",
              "    <tr>\n",
              "      <th>50%</th>\n",
              "      <td>3.000000</td>\n",
              "      <td>6.000000</td>\n",
              "      <td>3.000000</td>\n",
              "    </tr>\n",
              "    <tr>\n",
              "      <th>75%</th>\n",
              "      <td>4.000000</td>\n",
              "      <td>8.000000</td>\n",
              "      <td>5.000000</td>\n",
              "    </tr>\n",
              "    <tr>\n",
              "      <th>max</th>\n",
              "      <td>5.000000</td>\n",
              "      <td>10.000000</td>\n",
              "      <td>7.000000</td>\n",
              "    </tr>\n",
              "  </tbody>\n",
              "</table>\n",
              "</div>"
            ],
            "text/plain": [
              "              a          b         c\n",
              "count  5.000000   5.000000  5.000000\n",
              "mean   3.000000   6.000000  3.600000\n",
              "std    1.581139   3.162278  2.408319\n",
              "min    1.000000   2.000000  1.000000\n",
              "25%    2.000000   4.000000  2.000000\n",
              "50%    3.000000   6.000000  3.000000\n",
              "75%    4.000000   8.000000  5.000000\n",
              "max    5.000000  10.000000  7.000000"
            ]
          },
          "metadata": {
            "tags": []
          },
          "execution_count": 35
        }
      ]
    },
    {
      "cell_type": "code",
      "metadata": {
        "id": "NtL1BzQD6Y_z",
        "colab_type": "code",
        "outputId": "409b85af-1b3d-4762-d25e-60bada77b995",
        "colab": {
          "base_uri": "https://localhost:8080/",
          "height": 85
        }
      },
      "source": [
        "# get mean from each column\n",
        "df.mean()"
      ],
      "execution_count": 0,
      "outputs": [
        {
          "output_type": "execute_result",
          "data": {
            "text/plain": [
              "a    3.0\n",
              "b    6.0\n",
              "c    3.6\n",
              "dtype: float64"
            ]
          },
          "metadata": {
            "tags": []
          },
          "execution_count": 36
        }
      ]
    },
    {
      "cell_type": "code",
      "metadata": {
        "id": "5QPHKrAmNVEB",
        "colab_type": "code",
        "outputId": "a2c8aae3-6d59-4888-c276-0227240cc2f1",
        "colab": {
          "base_uri": "https://localhost:8080/",
          "height": 34
        }
      },
      "source": [
        "# get mean from column a\n",
        "df['a'].mean()"
      ],
      "execution_count": 0,
      "outputs": [
        {
          "output_type": "execute_result",
          "data": {
            "text/plain": [
              "3.0"
            ]
          },
          "metadata": {
            "tags": []
          },
          "execution_count": 37
        }
      ]
    },
    {
      "cell_type": "code",
      "metadata": {
        "id": "LU3Mp1L15hJt",
        "colab_type": "code",
        "outputId": "5b28106d-b8fc-4d4f-e181-28c76727ae92",
        "colab": {
          "base_uri": "https://localhost:8080/",
          "height": 34
        }
      },
      "source": [
        "# Get mean from column b\n",
        "df['b'].mean()"
      ],
      "execution_count": 0,
      "outputs": [
        {
          "output_type": "execute_result",
          "data": {
            "text/plain": [
              "6.0"
            ]
          },
          "metadata": {
            "tags": []
          },
          "execution_count": 38
        }
      ]
    },
    {
      "cell_type": "code",
      "metadata": {
        "id": "poV94zIw6nEW",
        "colab_type": "code",
        "outputId": "fb2a337e-e05c-40fd-db23-a16cd98d2478",
        "colab": {
          "base_uri": "https://localhost:8080/",
          "height": 34
        }
      },
      "source": [
        "# get mean from column c\n",
        "df['c'].mean()"
      ],
      "execution_count": 0,
      "outputs": [
        {
          "output_type": "execute_result",
          "data": {
            "text/plain": [
              "3.6"
            ]
          },
          "metadata": {
            "tags": []
          },
          "execution_count": 39
        }
      ]
    },
    {
      "cell_type": "code",
      "metadata": {
        "id": "iZtTUYxy6A7X",
        "colab_type": "code",
        "outputId": "77c93f3c-19b3-4ac7-c0d9-4be7f6c61261",
        "colab": {
          "base_uri": "https://localhost:8080/",
          "height": 68
        }
      },
      "source": [
        "# Get mean from column a and b\n",
        "df[['a', 'b']].mean()"
      ],
      "execution_count": 0,
      "outputs": [
        {
          "output_type": "execute_result",
          "data": {
            "text/plain": [
              "a    3.0\n",
              "b    6.0\n",
              "dtype: float64"
            ]
          },
          "metadata": {
            "tags": []
          },
          "execution_count": 40
        }
      ]
    },
    {
      "cell_type": "code",
      "metadata": {
        "id": "qwBayxgC6tFL",
        "colab_type": "code",
        "outputId": "5ec3b8c5-a420-4a3f-ed79-869744a69ee9",
        "colab": {
          "base_uri": "https://localhost:8080/",
          "height": 68
        }
      },
      "source": [
        "# Get mean from column a and c\n",
        "df[['a', 'c']].mean()"
      ],
      "execution_count": 0,
      "outputs": [
        {
          "output_type": "execute_result",
          "data": {
            "text/plain": [
              "a    3.0\n",
              "c    3.6\n",
              "dtype: float64"
            ]
          },
          "metadata": {
            "tags": []
          },
          "execution_count": 41
        }
      ]
    },
    {
      "cell_type": "code",
      "metadata": {
        "id": "v5guDEfpNVBB",
        "colab_type": "code",
        "outputId": "b7078d51-fea6-4a1c-c3b7-730078877c01",
        "colab": {
          "base_uri": "https://localhost:8080/",
          "height": 34
        }
      },
      "source": [
        "# Get min\n",
        "df['a'].min()"
      ],
      "execution_count": 0,
      "outputs": [
        {
          "output_type": "execute_result",
          "data": {
            "text/plain": [
              "1"
            ]
          },
          "metadata": {
            "tags": []
          },
          "execution_count": 42
        }
      ]
    },
    {
      "cell_type": "code",
      "metadata": {
        "id": "KPjH9vXFNjCO",
        "colab_type": "code",
        "outputId": "a209a177-f57c-45ee-fcf8-9230aee0d6e8",
        "colab": {
          "base_uri": "https://localhost:8080/",
          "height": 34
        }
      },
      "source": [
        "# Get max\n",
        "df['a'].max()"
      ],
      "execution_count": 0,
      "outputs": [
        {
          "output_type": "execute_result",
          "data": {
            "text/plain": [
              "5"
            ]
          },
          "metadata": {
            "tags": []
          },
          "execution_count": 43
        }
      ]
    },
    {
      "cell_type": "markdown",
      "metadata": {
        "id": "wtobOQescQU6",
        "colab_type": "text"
      },
      "source": [
        "## What is Inferential Statistics?\n",
        "\n",
        "<https://slideplayer.com/slide/5130463/16/images/2/Statistical+Inference.jpg>"
      ]
    },
    {
      "cell_type": "markdown",
      "metadata": {
        "id": "zsb1KMUSc2xe",
        "colab_type": "text"
      },
      "source": [
        "## Hypothesis Testing (T-Tests)"
      ]
    },
    {
      "cell_type": "markdown",
      "metadata": {
        "id": "cOnNrJembf5c",
        "colab_type": "text"
      },
      "source": [
        "\n",
        "\n",
        "Ever thought about how long it takes to make a pancake? Have you ever compared the cooking time of a pancake on each eye of your stove? Is the cooking time different between the different eyes? Now, we can run an experiment and collect a sample of 1,000 pancakes on one eye and another 800 pancakes on the other eye. Assumed we used the same pan, batter, and technique on both eyes. Our average cooking times were 180 (5 std) and 178.5 (4.25 std) seconds repsectively. Now, we can tell those numbers are not identicial, but how confident are we that those numbers are practically the same? How do we know the slight difference isn't caused by some external randomness?\n",
        "\n",
        "Yes, today's lesson will help you figure out how long to cook your pancakes (*theoretically*). Experimentation is up to you; otherwise, you have to accept my data as true. How are going to accomplish this? With probability, statistics, inference and maple syrup (optional). \n",
        "\n",
        "<img src=\"https://images.unsplash.com/photo-1541288097308-7b8e3f58c4c6?ixlib=rb-1.2.1&ixid=eyJhcHBfaWQiOjEyMDd9&auto=format&fit=crop&w=3300&q=80\" width=400>\n",
        "\n"
      ]
    },
    {
      "cell_type": "markdown",
      "metadata": {
        "id": "MOkBDGsWbMRc",
        "colab_type": "text"
      },
      "source": [
        "## Normal Distribution Revisited\n",
        "\n",
        "What is the Normal distribution: A probability distribution of a continuous real valued random-variable. The Normal distribution properties make it useful for the *Central Limit Theorm*, because if we assume a variable follows the normal distribution, we can make certain conclusions based on probabilities."
      ]
    },
    {
      "cell_type": "code",
      "metadata": {
        "id": "BYlq8EYKbMRd",
        "colab_type": "code",
        "colab": {}
      },
      "source": [
        "import numpy as np\n",
        "\n",
        "mu = 0 # mean\n",
        "sigma = 0.1 # standard deviation\n",
        "\n",
        "sample = np.random.normal(mu, sigma, 1000)"
      ],
      "execution_count": 0,
      "outputs": []
    },
    {
      "cell_type": "code",
      "metadata": {
        "id": "bdHYzl1aO79x",
        "colab_type": "code",
        "outputId": "1b240134-67b5-411c-c0e3-f43a40b31496",
        "colab": {
          "base_uri": "https://localhost:8080/",
          "height": 34
        }
      },
      "source": [
        "sample.shape"
      ],
      "execution_count": 0,
      "outputs": [
        {
          "output_type": "execute_result",
          "data": {
            "text/plain": [
              "(1000,)"
            ]
          },
          "metadata": {
            "tags": []
          },
          "execution_count": 45
        }
      ]
    },
    {
      "cell_type": "code",
      "metadata": {
        "id": "POU0-SuQbMRh",
        "colab_type": "code",
        "outputId": "500c1041-fa07-4e58-9dee-b25602995393",
        "colab": {
          "base_uri": "https://localhost:8080/",
          "height": 34
        }
      },
      "source": [
        "# Verify the mean of our sample\n",
        "abs(mu - np.mean(sample)) < 0.01"
      ],
      "execution_count": 0,
      "outputs": [
        {
          "output_type": "execute_result",
          "data": {
            "text/plain": [
              "True"
            ]
          },
          "metadata": {
            "tags": []
          },
          "execution_count": 46
        }
      ]
    },
    {
      "cell_type": "code",
      "metadata": {
        "id": "Ur3hGasTbMRl",
        "colab_type": "code",
        "outputId": "4aded252-c455-4eb9-f744-3e94a8324868",
        "colab": {
          "base_uri": "https://localhost:8080/",
          "height": 34
        }
      },
      "source": [
        "# Verify the variance of our sample\n",
        "abs(sigma - np.std(sample, ddof=1)) < 0.01"
      ],
      "execution_count": 0,
      "outputs": [
        {
          "output_type": "execute_result",
          "data": {
            "text/plain": [
              "True"
            ]
          },
          "metadata": {
            "tags": []
          },
          "execution_count": 47
        }
      ]
    },
    {
      "cell_type": "code",
      "metadata": {
        "id": "GbVV3_TsbMRn",
        "colab_type": "code",
        "outputId": "fe155fc1-6463-48ec-c5d3-3f06f459a2f8",
        "colab": {
          "base_uri": "https://localhost:8080/",
          "height": 282
        }
      },
      "source": [
        "import seaborn as sns\n",
        "from matplotlib import style\n",
        "\n",
        "style.use('fivethirtyeight')\n",
        "\n",
        "ax = sns.distplot(sample, color='r')\n",
        "ax.axvline(np.percentile(sample,97.5),0)\n",
        "ax.axvline(np.percentile(sample,2.5),0);"
      ],
      "execution_count": 0,
      "outputs": [
        {
          "output_type": "display_data",
          "data": {
            "image/png": "[encoded data removed]",
            "text/plain": [
              "<Figure size 432x288 with 1 Axes>"
            ]
          },
          "metadata": {
            "tags": []
          }
        }
      ]
    },
    {
      "cell_type": "markdown",
      "metadata": {
        "id": "D3ZwR9tDc-KX",
        "colab_type": "text"
      },
      "source": [
        "![The Normal Distribution](https://upload.wikimedia.org/wikipedia/commons/thumb/a/a9/Empirical_Rule.PNG/350px-Empirical_Rule.png)"
      ]
    },
    {
      "cell_type": "code",
      "metadata": {
        "id": "FrD-N3OHRho6",
        "colab_type": "code",
        "colab": {}
      },
      "source": [
        "# https://en.wikipedia.org/wiki/Central_limit_theorem"
      ],
      "execution_count": 0,
      "outputs": []
    },
    {
      "cell_type": "code",
      "metadata": {
        "id": "0T0J3oZEMTX2",
        "colab_type": "code",
        "colab": {}
      },
      "source": [
        "# Do for just 1 person\n",
        "person1_cals = np.random.normal(2500, 100, size=365);\n",
        "#person1_cals"
      ],
      "execution_count": 0,
      "outputs": []
    },
    {
      "cell_type": "code",
      "metadata": {
        "id": "7hZK2TnhMTcv",
        "colab_type": "code",
        "outputId": "f685e5d1-1061-457c-82f2-82be1bf0cf79",
        "colab": {
          "base_uri": "https://localhost:8080/",
          "height": 282
        }
      },
      "source": [
        "import matplotlib.pyplot as plt\n",
        "\n",
        "plt.hist(person1_cals, bins=20);"
      ],
      "execution_count": 0,
      "outputs": [
        {
          "output_type": "display_data",
          "data": {
            "image/png": "[encoded data removed]",
            "text/plain": [
              "<Figure size 432x288 with 1 Axes>"
            ]
          },
          "metadata": {
            "tags": []
          }
        }
      ]
    },
    {
      "cell_type": "code",
      "metadata": {
        "id": "wWY1kGRpMTgX",
        "colab_type": "code",
        "outputId": "6747542c-5135-40c0-cf85-6645cd991208",
        "colab": {
          "base_uri": "https://localhost:8080/",
          "height": 34
        }
      },
      "source": [
        "person1_cals.mean()"
      ],
      "execution_count": 0,
      "outputs": [
        {
          "output_type": "execute_result",
          "data": {
            "text/plain": [
              "2513.0386188608613"
            ]
          },
          "metadata": {
            "tags": []
          },
          "execution_count": 52
        }
      ]
    },
    {
      "cell_type": "code",
      "metadata": {
        "id": "gG2kVM5YMTj6",
        "colab_type": "code",
        "colab": {}
      },
      "source": [
        "# Do for 200 people now\n",
        "N = 200\n",
        "people_cals = [np.random.normal(2500, 100, size=365) for _ in range(N)]"
      ],
      "execution_count": 0,
      "outputs": []
    },
    {
      "cell_type": "code",
      "metadata": {
        "id": "8CLCNiabSku-",
        "colab_type": "code",
        "outputId": "38f7b1ef-3ff0-4640-fc3d-72108a5c2160",
        "colab": {
          "base_uri": "https://localhost:8080/",
          "height": 187
        }
      },
      "source": [
        "people_mean_cals = [person.mean() for person in people_cals]\n",
        "people_mean_cals[:10]"
      ],
      "execution_count": 0,
      "outputs": [
        {
          "output_type": "execute_result",
          "data": {
            "text/plain": [
              "[2511.6080614285775,\n",
              " 2504.7113659713036,\n",
              " 2502.698291964197,\n",
              " 2507.3979392249157,\n",
              " 2498.048344896023,\n",
              " 2505.3887533937277,\n",
              " 2501.973470045683,\n",
              " 2492.583756954031,\n",
              " 2494.800374648437,\n",
              " 2503.138141500591]"
            ]
          },
          "metadata": {
            "tags": []
          },
          "execution_count": 54
        }
      ]
    },
    {
      "cell_type": "code",
      "metadata": {
        "id": "qYH2Bns4Sk21",
        "colab_type": "code",
        "outputId": "9aa104cb-908b-4d48-d56a-5caefecdf134",
        "colab": {
          "base_uri": "https://localhost:8080/",
          "height": 282
        }
      },
      "source": [
        "plt.hist(people_mean_cals, bins=20);"
      ],
      "execution_count": 0,
      "outputs": [
        {
          "output_type": "display_data",
          "data": {
            "image/png": "[encoded data removed]",
            "text/plain": [
              "<Figure size 432x288 with 1 Axes>"
            ]
          },
          "metadata": {
            "tags": []
          }
        }
      ]
    },
    {
      "cell_type": "markdown",
      "metadata": {
        "id": "5BvYLMjadAnu",
        "colab_type": "text"
      },
      "source": [
        "# Why do we use the t-distribution in hypothesis tests?\n",
        "\n",
        "![t-distribution-low-dof](https://lambdachops.com/img/t-distribution-low-dof.png)\n",
        "\n",
        "![t-distribution-approximates-normal](https://github.com/ryanallredblog/ryanallredblog.github.io/blob/master/img/t-distribution-approximates-normal.png?raw=true)\n",
        "\n",
        "### Helpful video on why we use the t-distribution\n",
        "\n",
        "<https://www.youtube.com/watch?v=Uv6nGIgZMVw>\n",
        "\n",
        "However, in order to understand it you'll need to understand what a z-score is:\n",
        "\n",
        "A z-score calculates the number of standard deviations an observations lies from the population mean. The problem is that in real-world situations, we don't know what the sample mean is, so we have to turn to using the sample mean to estimate the population mean. Because the sample mean is generated from a sample and used to estimate the population mean with some level of uncertainty, it also has its own distribution a nd spread. This means that for low sample sizes both our estimates of the sample mean and sample population are not very precise, they're kind of spread out. It's this spread that makes the t-distribution wider than the normal distribution for low sample sizes. However, with the larger the sample size, the closer the t-distribution approximates the normal distribution.\n"
      ]
    },
    {
      "cell_type": "markdown",
      "metadata": {
        "colab_type": "text",
        "id": "FMhDKOFND0qY"
      },
      "source": [
        "## Student's T Test\n",
        "\n",
        ">Assuming data come from a Normal distribution, the t test provides a way to test whether the sample mean (that is the mean calculated from the data) is a good estimate of the population mean. \n",
        "\n",
        "The derivation of the t-distribution was first published in 1908 by William Gosset while working for the Guinness Brewery in Dublin. Due to proprietary issues, he had to publish under a pseudonym, and so he used the name Student.\n",
        "\n",
        "The t-distribution is essentially a distribution of means of normaly distributed data. When we use a t-statistic, we are  checking that a mean fails within a certain $\\alpha$ probability of the mean of means."
      ]
    },
    {
      "cell_type": "code",
      "metadata": {
        "colab_type": "code",
        "id": "fQ9rkLJmEbsk",
        "colab": {}
      },
      "source": [
        "t_df10 = np.random.standard_t(df=10, size=10)   # df=10 is 10 degrees of freedom\n",
        "t_df100 = np.random.standard_t(df=100, size=100) # df=100 is 100 degrees of freedom\n",
        "t_df1000 = np.random.standard_t(df=1000, size=1000) # df=1000 is 1000 degrees of freedom"
      ],
      "execution_count": 0,
      "outputs": []
    },
    {
      "cell_type": "code",
      "metadata": {
        "colab_type": "code",
        "id": "RyNKPt_tJk86",
        "outputId": "4b65b4ce-91ef-48be-d39a-28c6d3a5fc33",
        "colab": {
          "base_uri": "https://localhost:8080/",
          "height": 282
        }
      },
      "source": [
        "sns.kdeplot(t_df10, color='r');\n",
        "sns.kdeplot(t_df100, color='y');\n",
        "sns.kdeplot(t_df1000, color='b');"
      ],
      "execution_count": 0,
      "outputs": [
        {
          "output_type": "display_data",
          "data": {
            "image/png": "[encoded data removed]",
            "text/plain": [
              "<Figure size 432x288 with 1 Axes>"
            ]
          },
          "metadata": {
            "tags": []
          }
        }
      ]
    },
    {
      "cell_type": "code",
      "metadata": {
        "id": "pX-vItLAVZeV",
        "colab_type": "code",
        "outputId": "7995f66c-dbe6-4176-f6a7-3c64810401e6",
        "colab": {
          "base_uri": "https://localhost:8080/",
          "height": 34
        }
      },
      "source": [
        "print('text1' + ' ' + 'text2')"
      ],
      "execution_count": 0,
      "outputs": [
        {
          "output_type": "stream",
          "text": [
            "text1 text2\n"
          ],
          "name": "stdout"
        }
      ]
    },
    {
      "cell_type": "code",
      "metadata": {
        "id": "YqTYg77MVk5q",
        "colab_type": "code",
        "colab": {}
      },
      "source": [
        "a = 3.03242"
      ],
      "execution_count": 0,
      "outputs": []
    },
    {
      "cell_type": "code",
      "metadata": {
        "id": "vqwfSbTpVhkZ",
        "colab_type": "code",
        "outputId": "2e6c7b52-1f51-474c-c748-9af38a9483e5",
        "colab": {
          "base_uri": "https://localhost:8080/",
          "height": 68
        }
      },
      "source": [
        "print('my number is %s' % a)\n",
        "print('my number is {:.2f}'.format(a))\n",
        "print(f'my number is {a:.1f}')"
      ],
      "execution_count": 0,
      "outputs": [
        {
          "output_type": "stream",
          "text": [
            "my number is 3.03242\n",
            "my number is 3.03\n",
            "my number is 3.0\n"
          ],
          "name": "stdout"
        }
      ]
    },
    {
      "cell_type": "code",
      "metadata": {
        "colab_type": "code",
        "id": "seQv5unnJvpM",
        "outputId": "6b7a717e-a778-4a64-8bcc-e600559eb097",
        "colab": {
          "base_uri": "https://localhost:8080/",
          "height": 272
        }
      },
      "source": [
        "i = 10\n",
        "for sample in [t_df10, t_df100, t_df1000]:\n",
        "    print(f\"t - distribution with {i} degrees of freedom\")\n",
        "    print(\"---\" * 10)\n",
        "    print(f\"Mean: {sample.mean()}\")\n",
        "    print(f\"Standard Deviation: {sample.std()}\")\n",
        "    print(f\"Variance: {sample.var()}\")\n",
        "    i = i*10"
      ],
      "execution_count": 0,
      "outputs": [
        {
          "output_type": "stream",
          "text": [
            "t - distribution with 10 degrees of freedom\n",
            "------------------------------\n",
            "Mean: 0.4314415263773813\n",
            "Standard Deviation: 0.7266312407376241\n",
            "Variance: 0.527992960015899\n",
            "t - distribution with 100 degrees of freedom\n",
            "------------------------------\n",
            "Mean: -0.03667374736661771\n",
            "Standard Deviation: 0.9977880471430802\n",
            "Variance: 0.9955809870216017\n",
            "t - distribution with 1000 degrees of freedom\n",
            "------------------------------\n",
            "Mean: 0.036361250874330994\n",
            "Standard Deviation: 0.9863744933183521\n",
            "Variance: 0.9729346410690359\n"
          ],
          "name": "stdout"
        }
      ]
    },
    {
      "cell_type": "markdown",
      "metadata": {
        "colab_type": "text",
        "id": "FOvEGMysLaE2"
      },
      "source": [
        "Why is it different from normal? To better reflect the tendencies of small data and situations with unknown population standard deviation. In other words, the normal distribution is still the nice pure ideal (thanks to the central limit theorem), but the t-distribution is much more useful in many real-world situations."
      ]
    },
    {
      "cell_type": "markdown",
      "metadata": {
        "colab_type": "text",
        "id": "1yx_QilAEC6o"
      },
      "source": [
        "## Live Lecture - let's perform and interpret a t-test\n",
        "\n",
        "We'll generate our own data, so we can know and alter the \"ground truth\" that the t-test should find. We will learn about p-values and how to interpret \"statistical significance\" based on the output of a hypothesis test. We will also dig a bit deeper into how the test statistic is calculated based on the sample error, and visually what it looks like to have 1 or 2 \"tailed\" t-tests."
      ]
    },
    {
      "cell_type": "code",
      "metadata": {
        "colab_type": "code",
        "id": "BuysRPs-Ed0v",
        "colab": {}
      },
      "source": [
        "# TODO - during class, but please help!\n",
        "from scipy.stats import ttest_ind, ttest_ind_from_stats, ttest_rel"
      ],
      "execution_count": 0,
      "outputs": []
    },
    {
      "cell_type": "code",
      "metadata": {
        "id": "6lnJrAYjWuib",
        "colab_type": "code",
        "colab": {}
      },
      "source": [
        "# \"Our average cooking times were 180 (5 std) and 178.5 (4.25 std) seconds\""
      ],
      "execution_count": 0,
      "outputs": []
    },
    {
      "cell_type": "code",
      "metadata": {
        "id": "xdVeUw79WupC",
        "colab_type": "code",
        "outputId": "9801ef4b-15bd-49c3-f74a-8a10148b1fd4",
        "colab": {
          "base_uri": "https://localhost:8080/",
          "height": 68
        }
      },
      "source": [
        "mu1 = 180\n",
        "sigma1 = 5\n",
        "n1 = 1000\n",
        "sample1 = np.random.normal(size=n1, scale=sigma1, loc=mu1)\n",
        "sample1[:10]"
      ],
      "execution_count": 0,
      "outputs": [
        {
          "output_type": "execute_result",
          "data": {
            "text/plain": [
              "array([191.76912488, 174.07424703, 189.93061362, 174.40475559,\n",
              "       175.73943351, 176.18463193, 180.67575634, 176.93342245,\n",
              "       177.97482359, 171.74682987])"
            ]
          },
          "metadata": {
            "tags": []
          },
          "execution_count": 68
        }
      ]
    },
    {
      "cell_type": "code",
      "metadata": {
        "id": "760VGLLzWumL",
        "colab_type": "code",
        "outputId": "a207f006-1370-4169-d621-77e5ea120050",
        "colab": {
          "base_uri": "https://localhost:8080/",
          "height": 68
        }
      },
      "source": [
        "mu2 = 178.5\n",
        "sigma2 = 4.25\n",
        "n2 = 800\n",
        "sample2 = np.random.normal(scale=sigma2, loc=mu2, size=n2)\n",
        "sample2[:10]"
      ],
      "execution_count": 0,
      "outputs": [
        {
          "output_type": "execute_result",
          "data": {
            "text/plain": [
              "array([185.85493186, 175.46594739, 188.65126752, 172.2664266 ,\n",
              "       181.42466884, 176.70399376, 188.87688731, 173.13086011,\n",
              "       174.98968138, 179.49389614])"
            ]
          },
          "metadata": {
            "tags": []
          },
          "execution_count": 69
        }
      ]
    },
    {
      "cell_type": "code",
      "metadata": {
        "id": "HmytaSLrWuft",
        "colab_type": "code",
        "colab": {}
      },
      "source": [
        "import seaborn as sns"
      ],
      "execution_count": 0,
      "outputs": []
    },
    {
      "cell_type": "code",
      "metadata": {
        "id": "bJwNXdpjWucN",
        "colab_type": "code",
        "outputId": "bf340c6a-5c19-44c6-d381-6b88b44614ea",
        "colab": {
          "base_uri": "https://localhost:8080/",
          "height": 282
        }
      },
      "source": [
        "sns.distplot(sample1, color='r')\n",
        "sns.distplot(sample2, color='b');"
      ],
      "execution_count": 0,
      "outputs": [
        {
          "output_type": "display_data",
          "data": {
            "image/png": "[encoded data removed]",
            "text/plain": [
              "<Figure size 432x288 with 1 Axes>"
            ]
          },
          "metadata": {
            "tags": []
          }
        }
      ]
    },
    {
      "cell_type": "markdown",
      "metadata": {
        "id": "QdkgrWjcYCjv",
        "colab_type": "text"
      },
      "source": [
        "# The four parts of T-tests\n",
        "\n",
        "- Null Hypothesis (aka status quo, boring hypothesis): $\\mu1 == \\mu2$\n",
        "- Alternative Hypothesis: e.g. $\\mu1 =/= \\mu2$\n",
        "- t-statistic\n",
        "- p-value"
      ]
    },
    {
      "cell_type": "code",
      "metadata": {
        "id": "DPLEP1jGX1wX",
        "colab_type": "code",
        "outputId": "9860ec25-afb5-455a-a99e-3b07b3e313c8",
        "colab": {
          "base_uri": "https://localhost:8080/",
          "height": 34
        }
      },
      "source": [
        "ttest_ind(sample1, sample2)"
      ],
      "execution_count": 0,
      "outputs": [
        {
          "output_type": "execute_result",
          "data": {
            "text/plain": [
              "Ttest_indResult(statistic=5.474022347440532, pvalue=5.018267540738021e-08)"
            ]
          },
          "metadata": {
            "tags": []
          },
          "execution_count": 71
        }
      ]
    },
    {
      "cell_type": "code",
      "metadata": {
        "id": "Knn3724yX1zz",
        "colab_type": "code",
        "colab": {}
      },
      "source": [
        "pvalue_list = []\n",
        "\n",
        "for _ in range(100):\n",
        "  mu1 = 180\n",
        "  sigma = 5\n",
        "  n1 = 100\n",
        "  sample1 = np.random.normal(mu1, sigma1, size=n1)\n",
        "  \n",
        "  mu2 = 178.5\n",
        "  sigma2 = 4.25\n",
        "  n2 = 80\n",
        "  sample2 = np.random.normal(mu2, sigma2, size=n2)\n",
        "  _, pvalue = ttest_ind(sample1, sample2)\n",
        "  pvalue_list.append(pvalue)"
      ],
      "execution_count": 0,
      "outputs": []
    },
    {
      "cell_type": "code",
      "metadata": {
        "id": "hXaN1sqkX1_l",
        "colab_type": "code",
        "outputId": "4ac5787f-2ed9-4022-e788-09365e331ff5",
        "colab": {
          "base_uri": "https://localhost:8080/",
          "height": 299
        }
      },
      "source": [
        "plt.scatter(list(range(100)), pvalue_list)\n",
        "plt.axhline(y=0.05, color='r')"
      ],
      "execution_count": 0,
      "outputs": [
        {
          "output_type": "execute_result",
          "data": {
            "text/plain": [
              "<matplotlib.lines.Line2D at 0x7f479207ecf8>"
            ]
          },
          "metadata": {
            "tags": []
          },
          "execution_count": 74
        },
        {
          "output_type": "display_data",
          "data": {
            "image/png": "[encoded data removed]",
            "text/plain": [
              "<Figure size 432x288 with 1 Axes>"
            ]
          },
          "metadata": {
            "tags": []
          }
        }
      ]
    },
    {
      "cell_type": "code",
      "metadata": {
        "id": "WlOyBGkaX2EA",
        "colab_type": "code",
        "outputId": "358db131-f972-4066-a9e5-0dcaf4e0406b",
        "colab": {
          "base_uri": "https://localhost:8080/",
          "height": 35
        }
      },
      "source": [
        "pvalue_arr = np.array(pvalue_list)\n",
        "np.sum(pvalue_arr > 0.05)"
      ],
      "execution_count": 0,
      "outputs": [
        {
          "output_type": "execute_result",
          "data": {
            "text/plain": [
              "46"
            ]
          },
          "metadata": {
            "tags": []
          },
          "execution_count": 95
        }
      ]
    },
    {
      "cell_type": "markdown",
      "metadata": {
        "id": "JmQYl90sfYsH",
        "colab_type": "text"
      },
      "source": [
        "# Type 1 vs Type 2 error\n",
        "https://en.wikipedia.org/wiki/Type_I_and_type_II_errors"
      ]
    },
    {
      "cell_type": "markdown",
      "metadata": {
        "id": "l_NijhBggsHx",
        "colab_type": "text"
      },
      "source": [
        "# Test statistic\n",
        "https://blog.minitab.com/blog/statistics-and-quality-data-analysis/what-is-a-t-test-and-why-is-it-like-telling-a-kid-to-clean-up-that-mess-in-the-kitchen\n",
        "\n",
        "https://blog.minitab.com/blog/statistics-and-quality-data-analysis/what-are-t-values-and-p-values-in-statistics\n",
        "\n",
        "# P-value\n",
        "\n",
        "https://stats.stackexchange.com/questions/166323/misunderstanding-a-p-value\n",
        "\n",
        "# One-tailed vs two-tailed\n",
        "https://stats.idre.ucla.edu/other/mult-pkg/faq/general/faq-what-are-the-differences-between-one-tailed-and-two-tailed-tests/\n",
        "\n",
        "https://www.youtube.com/watch?v=VP1bhopNP74\n",
        "\n",
        "# One sample vs two sample\n",
        "\n",
        "https://web.ma.utexas.edu/users/mks/statmistakes/2samplevs1sampletest.html\n",
        "\n",
        "https://blog.minitab.com/blog/adventures-in-statistics-2/understanding-t-tests-1-sample-2-sample-and-paired-t-tests\n"
      ]
    },
    {
      "cell_type": "markdown",
      "metadata": {
        "id": "4HuoBAaCjKO0",
        "colab_type": "text"
      },
      "source": [
        "# Example dataset\n",
        "https://www.kaggle.com/russellyates88/suicide-rates-overview-1985-to-2016"
      ]
    },
    {
      "cell_type": "code",
      "metadata": {
        "id": "3YOh_u38jJia",
        "colab_type": "code",
        "outputId": "8daf9922-d3e2-4d0d-98e7-0c484613abd3",
        "colab": {
          "base_uri": "https://localhost:8080/",
          "height": 310
        }
      },
      "source": [
        "df = pd.read_csv('master.csv')\n",
        "df.head()"
      ],
      "execution_count": 0,
      "outputs": [
        {
          "output_type": "execute_result",
          "data": {
            "text/html": [
              "<div>\n",
              "<style scoped>\n",
              "    .dataframe tbody tr th:only-of-type {\n",
              "        vertical-align: middle;\n",
              "    }\n",
              "\n",
              "    .dataframe tbody tr th {\n",
              "        vertical-align: top;\n",
              "    }\n",
              "\n",
              "    .dataframe thead th {\n",
              "        text-align: right;\n",
              "    }\n",
              "</style>\n",
              "<table border=\"1\" class=\"dataframe\">\n",
              "  <thead>\n",
              "    <tr style=\"text-align: right;\">\n",
              "      <th></th>\n",
              "      <th>country</th>\n",
              "      <th>year</th>\n",
              "      <th>sex</th>\n",
              "      <th>age</th>\n",
              "      <th>suicides_no</th>\n",
              "      <th>population</th>\n",
              "      <th>suicides/100k pop</th>\n",
              "      <th>country-year</th>\n",
              "      <th>HDI for year</th>\n",
              "      <th>gdp_for_year ($)</th>\n",
              "      <th>gdp_per_capita ($)</th>\n",
              "      <th>generation</th>\n",
              "    </tr>\n",
              "  </thead>\n",
              "  <tbody>\n",
              "    <tr>\n",
              "      <th>0</th>\n",
              "      <td>Albania</td>\n",
              "      <td>1987</td>\n",
              "      <td>male</td>\n",
              "      <td>15-24 years</td>\n",
              "      <td>21</td>\n",
              "      <td>312900</td>\n",
              "      <td>6.71</td>\n",
              "      <td>Albania1987</td>\n",
              "      <td>NaN</td>\n",
              "      <td>2,156,624,900</td>\n",
              "      <td>796</td>\n",
              "      <td>Generation X</td>\n",
              "    </tr>\n",
              "    <tr>\n",
              "      <th>1</th>\n",
              "      <td>Albania</td>\n",
              "      <td>1987</td>\n",
              "      <td>male</td>\n",
              "      <td>35-54 years</td>\n",
              "      <td>16</td>\n",
              "      <td>308000</td>\n",
              "      <td>5.19</td>\n",
              "      <td>Albania1987</td>\n",
              "      <td>NaN</td>\n",
              "      <td>2,156,624,900</td>\n",
              "      <td>796</td>\n",
              "      <td>Silent</td>\n",
              "    </tr>\n",
              "    <tr>\n",
              "      <th>2</th>\n",
              "      <td>Albania</td>\n",
              "      <td>1987</td>\n",
              "      <td>female</td>\n",
              "      <td>15-24 years</td>\n",
              "      <td>14</td>\n",
              "      <td>289700</td>\n",
              "      <td>4.83</td>\n",
              "      <td>Albania1987</td>\n",
              "      <td>NaN</td>\n",
              "      <td>2,156,624,900</td>\n",
              "      <td>796</td>\n",
              "      <td>Generation X</td>\n",
              "    </tr>\n",
              "    <tr>\n",
              "      <th>3</th>\n",
              "      <td>Albania</td>\n",
              "      <td>1987</td>\n",
              "      <td>male</td>\n",
              "      <td>75+ years</td>\n",
              "      <td>1</td>\n",
              "      <td>21800</td>\n",
              "      <td>4.59</td>\n",
              "      <td>Albania1987</td>\n",
              "      <td>NaN</td>\n",
              "      <td>2,156,624,900</td>\n",
              "      <td>796</td>\n",
              "      <td>G.I. Generation</td>\n",
              "    </tr>\n",
              "    <tr>\n",
              "      <th>4</th>\n",
              "      <td>Albania</td>\n",
              "      <td>1987</td>\n",
              "      <td>male</td>\n",
              "      <td>25-34 years</td>\n",
              "      <td>9</td>\n",
              "      <td>274300</td>\n",
              "      <td>3.28</td>\n",
              "      <td>Albania1987</td>\n",
              "      <td>NaN</td>\n",
              "      <td>2,156,624,900</td>\n",
              "      <td>796</td>\n",
              "      <td>Boomers</td>\n",
              "    </tr>\n",
              "  </tbody>\n",
              "</table>\n",
              "</div>"
            ],
            "text/plain": [
              "   country  year  ... gdp_per_capita ($)       generation\n",
              "0  Albania  1987  ...                796     Generation X\n",
              "1  Albania  1987  ...                796           Silent\n",
              "2  Albania  1987  ...                796     Generation X\n",
              "3  Albania  1987  ...                796  G.I. Generation\n",
              "4  Albania  1987  ...                796          Boomers\n",
              "\n",
              "[5 rows x 12 columns]"
            ]
          },
          "metadata": {
            "tags": []
          },
          "execution_count": 96
        }
      ]
    },
    {
      "cell_type": "code",
      "metadata": {
        "id": "CHBK4zHZgo5E",
        "colab_type": "code",
        "outputId": "96450cb6-65be-4f54-b8ec-621b6e970fb4",
        "colab": {
          "base_uri": "https://localhost:8080/",
          "height": 35
        }
      },
      "source": [
        "df.shape"
      ],
      "execution_count": 0,
      "outputs": [
        {
          "output_type": "execute_result",
          "data": {
            "text/plain": [
              "(27820, 12)"
            ]
          },
          "metadata": {
            "tags": []
          },
          "execution_count": 97
        }
      ]
    },
    {
      "cell_type": "code",
      "metadata": {
        "id": "Ukcxj3m9fYBz",
        "colab_type": "code",
        "outputId": "a208fcbe-8d02-48a9-900d-6b6bfea83113",
        "colab": {
          "base_uri": "https://localhost:8080/",
          "height": 35
        }
      },
      "source": [
        "df['year'].max()"
      ],
      "execution_count": 0,
      "outputs": [
        {
          "output_type": "execute_result",
          "data": {
            "text/plain": [
              "2016"
            ]
          },
          "metadata": {
            "tags": []
          },
          "execution_count": 98
        }
      ]
    },
    {
      "cell_type": "code",
      "metadata": {
        "id": "MIr1dbpdfX9R",
        "colab_type": "code",
        "outputId": "8f747af2-2def-40e7-f4c7-653e347bd11c",
        "colab": {
          "base_uri": "https://localhost:8080/",
          "height": 416
        }
      },
      "source": [
        "df['country'].unique()"
      ],
      "execution_count": 0,
      "outputs": [
        {
          "output_type": "execute_result",
          "data": {
            "text/plain": [
              "array(['Albania', 'Antigua and Barbuda', 'Argentina', 'Armenia', 'Aruba',\n",
              "       'Australia', 'Austria', 'Azerbaijan', 'Bahamas', 'Bahrain',\n",
              "       'Barbados', 'Belarus', 'Belgium', 'Belize',\n",
              "       'Bosnia and Herzegovina', 'Brazil', 'Bulgaria', 'Cabo Verde',\n",
              "       'Canada', 'Chile', 'Colombia', 'Costa Rica', 'Croatia', 'Cuba',\n",
              "       'Cyprus', 'Czech Republic', 'Denmark', 'Dominica', 'Ecuador',\n",
              "       'El Salvador', 'Estonia', 'Fiji', 'Finland', 'France', 'Georgia',\n",
              "       'Germany', 'Greece', 'Grenada', 'Guatemala', 'Guyana', 'Hungary',\n",
              "       'Iceland', 'Ireland', 'Israel', 'Italy', 'Jamaica', 'Japan',\n",
              "       'Kazakhstan', 'Kiribati', 'Kuwait', 'Kyrgyzstan', 'Latvia',\n",
              "       'Lithuania', 'Luxembourg', 'Macau', 'Maldives', 'Malta',\n",
              "       'Mauritius', 'Mexico', 'Mongolia', 'Montenegro', 'Netherlands',\n",
              "       'New Zealand', 'Nicaragua', 'Norway', 'Oman', 'Panama', 'Paraguay',\n",
              "       'Philippines', 'Poland', 'Portugal', 'Puerto Rico', 'Qatar',\n",
              "       'Republic of Korea', 'Romania', 'Russian Federation',\n",
              "       'Saint Kitts and Nevis', 'Saint Lucia',\n",
              "       'Saint Vincent and Grenadines', 'San Marino', 'Serbia',\n",
              "       'Seychelles', 'Singapore', 'Slovakia', 'Slovenia', 'South Africa',\n",
              "       'Spain', 'Sri Lanka', 'Suriname', 'Sweden', 'Switzerland',\n",
              "       'Thailand', 'Trinidad and Tobago', 'Turkey', 'Turkmenistan',\n",
              "       'Ukraine', 'United Arab Emirates', 'United Kingdom',\n",
              "       'United States', 'Uruguay', 'Uzbekistan'], dtype=object)"
            ]
          },
          "metadata": {
            "tags": []
          },
          "execution_count": 99
        }
      ]
    },
    {
      "cell_type": "code",
      "metadata": {
        "id": "Cj0UgYhJkSeb",
        "colab_type": "code",
        "outputId": "3faa8285-c55f-44c2-a0f6-81c46f5b223a",
        "colab": {
          "base_uri": "https://localhost:8080/",
          "height": 275
        }
      },
      "source": [
        "df_2016 = df[df['year'] == 2016]\n",
        "df_2016.head()"
      ],
      "execution_count": 0,
      "outputs": [
        {
          "output_type": "execute_result",
          "data": {
            "text/html": [
              "<div>\n",
              "<style scoped>\n",
              "    .dataframe tbody tr th:only-of-type {\n",
              "        vertical-align: middle;\n",
              "    }\n",
              "\n",
              "    .dataframe tbody tr th {\n",
              "        vertical-align: top;\n",
              "    }\n",
              "\n",
              "    .dataframe thead th {\n",
              "        text-align: right;\n",
              "    }\n",
              "</style>\n",
              "<table border=\"1\" class=\"dataframe\">\n",
              "  <thead>\n",
              "    <tr style=\"text-align: right;\">\n",
              "      <th></th>\n",
              "      <th>country</th>\n",
              "      <th>year</th>\n",
              "      <th>sex</th>\n",
              "      <th>age</th>\n",
              "      <th>suicides_no</th>\n",
              "      <th>population</th>\n",
              "      <th>suicides/100k pop</th>\n",
              "      <th>country-year</th>\n",
              "      <th>HDI for year</th>\n",
              "      <th>gdp_for_year ($)</th>\n",
              "      <th>gdp_per_capita ($)</th>\n",
              "      <th>generation</th>\n",
              "    </tr>\n",
              "  </thead>\n",
              "  <tbody>\n",
              "    <tr>\n",
              "      <th>1248</th>\n",
              "      <td>Armenia</td>\n",
              "      <td>2016</td>\n",
              "      <td>male</td>\n",
              "      <td>75+ years</td>\n",
              "      <td>12</td>\n",
              "      <td>61956</td>\n",
              "      <td>19.37</td>\n",
              "      <td>Armenia2016</td>\n",
              "      <td>NaN</td>\n",
              "      <td>10,546,135,160</td>\n",
              "      <td>3788</td>\n",
              "      <td>Silent</td>\n",
              "    </tr>\n",
              "    <tr>\n",
              "      <th>1249</th>\n",
              "      <td>Armenia</td>\n",
              "      <td>2016</td>\n",
              "      <td>male</td>\n",
              "      <td>55-74 years</td>\n",
              "      <td>16</td>\n",
              "      <td>237813</td>\n",
              "      <td>6.73</td>\n",
              "      <td>Armenia2016</td>\n",
              "      <td>NaN</td>\n",
              "      <td>10,546,135,160</td>\n",
              "      <td>3788</td>\n",
              "      <td>Boomers</td>\n",
              "    </tr>\n",
              "    <tr>\n",
              "      <th>1250</th>\n",
              "      <td>Armenia</td>\n",
              "      <td>2016</td>\n",
              "      <td>male</td>\n",
              "      <td>35-54 years</td>\n",
              "      <td>16</td>\n",
              "      <td>350633</td>\n",
              "      <td>4.56</td>\n",
              "      <td>Armenia2016</td>\n",
              "      <td>NaN</td>\n",
              "      <td>10,546,135,160</td>\n",
              "      <td>3788</td>\n",
              "      <td>Generation X</td>\n",
              "    </tr>\n",
              "    <tr>\n",
              "      <th>1251</th>\n",
              "      <td>Armenia</td>\n",
              "      <td>2016</td>\n",
              "      <td>male</td>\n",
              "      <td>15-24 years</td>\n",
              "      <td>5</td>\n",
              "      <td>202220</td>\n",
              "      <td>2.47</td>\n",
              "      <td>Armenia2016</td>\n",
              "      <td>NaN</td>\n",
              "      <td>10,546,135,160</td>\n",
              "      <td>3788</td>\n",
              "      <td>Millenials</td>\n",
              "    </tr>\n",
              "    <tr>\n",
              "      <th>1252</th>\n",
              "      <td>Armenia</td>\n",
              "      <td>2016</td>\n",
              "      <td>female</td>\n",
              "      <td>75+ years</td>\n",
              "      <td>2</td>\n",
              "      <td>102414</td>\n",
              "      <td>1.95</td>\n",
              "      <td>Armenia2016</td>\n",
              "      <td>NaN</td>\n",
              "      <td>10,546,135,160</td>\n",
              "      <td>3788</td>\n",
              "      <td>Silent</td>\n",
              "    </tr>\n",
              "  </tbody>\n",
              "</table>\n",
              "</div>"
            ],
            "text/plain": [
              "      country  year  ... gdp_per_capita ($)    generation\n",
              "1248  Armenia  2016  ...               3788        Silent\n",
              "1249  Armenia  2016  ...               3788       Boomers\n",
              "1250  Armenia  2016  ...               3788  Generation X\n",
              "1251  Armenia  2016  ...               3788    Millenials\n",
              "1252  Armenia  2016  ...               3788        Silent\n",
              "\n",
              "[5 rows x 12 columns]"
            ]
          },
          "metadata": {
            "tags": []
          },
          "execution_count": 101
        }
      ]
    },
    {
      "cell_type": "code",
      "metadata": {
        "id": "MnhfzJOOkSbE",
        "colab_type": "code",
        "outputId": "a0ba1a1c-62f6-4296-dad2-d06530f1b2cb",
        "colab": {
          "base_uri": "https://localhost:8080/",
          "height": 35
        }
      },
      "source": [
        "df_2016.shape"
      ],
      "execution_count": 0,
      "outputs": [
        {
          "output_type": "execute_result",
          "data": {
            "text/plain": [
              "(160, 12)"
            ]
          },
          "metadata": {
            "tags": []
          },
          "execution_count": 102
        }
      ]
    },
    {
      "cell_type": "code",
      "metadata": {
        "id": "BaHlkdeTkSXv",
        "colab_type": "code",
        "outputId": "6a43aec4-7a58-49ec-ea73-edeb7bc9c0ef",
        "colab": {
          "base_uri": "https://localhost:8080/",
          "height": 90
        }
      },
      "source": [
        "df_2016['country'].unique()"
      ],
      "execution_count": 0,
      "outputs": [
        {
          "output_type": "execute_result",
          "data": {
            "text/plain": [
              "array(['Armenia', 'Austria', 'Croatia', 'Cyprus', 'Czech Republic',\n",
              "       'Grenada', 'Hungary', 'Iceland', 'Lithuania', 'Mauritius',\n",
              "       'Mongolia', 'Netherlands', 'Qatar', 'Romania', 'Sweden',\n",
              "       'Thailand'], dtype=object)"
            ]
          },
          "metadata": {
            "tags": []
          },
          "execution_count": 103
        }
      ]
    },
    {
      "cell_type": "code",
      "metadata": {
        "id": "nyAJ2nBxkofG",
        "colab_type": "code",
        "colab": {}
      },
      "source": [
        "df_male = df_2016[df_2016['sex'] == 'male']\n",
        "df_female = df_2016[df_2016['sex'] == 'female']"
      ],
      "execution_count": 0,
      "outputs": []
    },
    {
      "cell_type": "code",
      "metadata": {
        "id": "o0_zcDimkoz1",
        "colab_type": "code",
        "outputId": "8dec7c72-1c38-4904-e45d-b3267809e5fb",
        "colab": {
          "base_uri": "https://localhost:8080/",
          "height": 35
        }
      },
      "source": [
        "df_male.shape"
      ],
      "execution_count": 0,
      "outputs": [
        {
          "output_type": "execute_result",
          "data": {
            "text/plain": [
              "(80, 12)"
            ]
          },
          "metadata": {
            "tags": []
          },
          "execution_count": 105
        }
      ]
    },
    {
      "cell_type": "code",
      "metadata": {
        "id": "PYjCgzWikov6",
        "colab_type": "code",
        "outputId": "d9b9146f-d8ed-4ea0-dae3-41fd959114ae",
        "colab": {
          "base_uri": "https://localhost:8080/",
          "height": 35
        }
      },
      "source": [
        "df_female.shape"
      ],
      "execution_count": 0,
      "outputs": [
        {
          "output_type": "execute_result",
          "data": {
            "text/plain": [
              "(80, 12)"
            ]
          },
          "metadata": {
            "tags": []
          },
          "execution_count": 106
        }
      ]
    },
    {
      "cell_type": "code",
      "metadata": {
        "id": "Awh5oQyfk4V0",
        "colab_type": "code",
        "colab": {}
      },
      "source": [
        "# Group by two features, country and age and get mean and get the column suicides\n",
        "df_female_group = df_female.groupby(['country', 'age'], as_index=False).mean().groupby('country')['suicides/100k pop'].mean()\n",
        "df_female_group"
      ],
      "execution_count": 0,
      "outputs": []
    },
    {
      "cell_type": "code",
      "metadata": {
        "id": "LA-L1Xbqk4nb",
        "colab_type": "code",
        "outputId": "58b8006a-d428-465e-d1fa-21f4e0e7feb3",
        "colab": {
          "base_uri": "https://localhost:8080/",
          "height": 35
        }
      },
      "source": [
        "df_female[df_female['country'] == 'Armenia']['suicides/100k pop'].mean()"
      ],
      "execution_count": 0,
      "outputs": [
        {
          "output_type": "execute_result",
          "data": {
            "text/plain": [
              "1.174"
            ]
          },
          "metadata": {
            "tags": []
          },
          "execution_count": 113
        }
      ]
    },
    {
      "cell_type": "code",
      "metadata": {
        "id": "9O5J7v6llnko",
        "colab_type": "code",
        "outputId": "146b450a-f084-49a9-f319-86fe8b9b8c60",
        "colab": {
          "base_uri": "https://localhost:8080/",
          "height": 344
        }
      },
      "source": [
        "df_male_group = df_male.groupby(['country', 'age'], as_index=False).mean().groupby('country')['suicides/100k pop'].mean()\n",
        "df_male_group"
      ],
      "execution_count": 0,
      "outputs": [
        {
          "output_type": "execute_result",
          "data": {
            "text/plain": [
              "country\n",
              "Armenia            6.938\n",
              "Austria           29.126\n",
              "Croatia           34.338\n",
              "Cyprus             8.418\n",
              "Czech Republic    27.008\n",
              "Grenada            0.000\n",
              "Hungary           38.062\n",
              "Iceland           24.678\n",
              "Lithuania         63.428\n",
              "Mauritius         17.300\n",
              "Mongolia          31.242\n",
              "Netherlands       17.412\n",
              "Qatar              2.710\n",
              "Romania           19.760\n",
              "Sweden            19.564\n",
              "Thailand          12.396\n",
              "Name: suicides/100k pop, dtype: float64"
            ]
          },
          "metadata": {
            "tags": []
          },
          "execution_count": 114
        }
      ]
    },
    {
      "cell_type": "code",
      "metadata": {
        "id": "6vPvlf6Slqvo",
        "colab_type": "code",
        "outputId": "7f6aaa00-97df-4eb0-b06e-0e16183f5507",
        "colab": {
          "base_uri": "https://localhost:8080/",
          "height": 35
        }
      },
      "source": [
        "df_male[df_male['country'] == 'Armenia']['suicides/100k pop'].mean()"
      ],
      "execution_count": 0,
      "outputs": [
        {
          "output_type": "execute_result",
          "data": {
            "text/plain": [
              "6.938000000000001"
            ]
          },
          "metadata": {
            "tags": []
          },
          "execution_count": 116
        }
      ]
    },
    {
      "cell_type": "code",
      "metadata": {
        "id": "1XN46oMZlxvu",
        "colab_type": "code",
        "outputId": "5ef33dd9-3aa9-4d7d-e11c-39611d166fe6",
        "colab": {
          "base_uri": "https://localhost:8080/",
          "height": 35
        }
      },
      "source": [
        "ttest_ind(df_female_group, df_male_group)"
      ],
      "execution_count": 0,
      "outputs": [
        {
          "output_type": "execute_result",
          "data": {
            "text/plain": [
              "Ttest_indResult(statistic=-4.2791492382884435, pvalue=0.00017639850827717496)"
            ]
          },
          "metadata": {
            "tags": []
          },
          "execution_count": 117
        }
      ]
    },
    {
      "cell_type": "code",
      "metadata": {
        "id": "kc7iccnUlyG3",
        "colab_type": "code",
        "outputId": "af7241ca-9e9c-4f61-fe62-7c79fbf6a2b8",
        "colab": {
          "base_uri": "https://localhost:8080/",
          "height": 35
        }
      },
      "source": [
        "ttest_ind(df_female_group, df_male_group, equal_var=False)"
      ],
      "execution_count": 0,
      "outputs": [
        {
          "output_type": "execute_result",
          "data": {
            "text/plain": [
              "Ttest_indResult(statistic=-4.2791492382884435, pvalue=0.0005475986477063533)"
            ]
          },
          "metadata": {
            "tags": []
          },
          "execution_count": 119
        }
      ]
    },
    {
      "cell_type": "code",
      "metadata": {
        "id": "J47KU4tllyMA",
        "colab_type": "code",
        "colab": {}
      },
      "source": [
        ""
      ],
      "execution_count": 0,
      "outputs": []
    },
    {
      "cell_type": "markdown",
      "metadata": {
        "colab_type": "text",
        "id": "wiq83guLcuAE"
      },
      "source": [
        "# Resources\n",
        "\n",
        "- https://homepage.divms.uiowa.edu/~mbognar/applets/t.html\n",
        "- https://rpsychologist.com/d3/tdist/\n",
        "- https://gallery.shinyapps.io/tdist/\n",
        "- https://en.wikipedia.org/wiki/Standard_deviation#Sample_standard_deviation_of_metabolic_rate_of_northern_fulmars\n",
        "- https://www.khanacademy.org/math/ap-statistics/two-sample-inference/two-sample-t-test-means/v/two-sample-t-test-for-difference-of-means"
      ]
    }
  ]
}