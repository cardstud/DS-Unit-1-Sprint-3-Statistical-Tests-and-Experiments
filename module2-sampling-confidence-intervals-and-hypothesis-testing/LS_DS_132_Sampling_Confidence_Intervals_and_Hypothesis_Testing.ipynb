{
  "nbformat": 4,
  "nbformat_minor": 0,
  "metadata": {
    "colab": {
      "name": "Copy of LS_DS_132_Sampling_Confidence_Intervals_and_Hypothesis_Testing.ipynb",
      "provenance": [],
      "collapsed_sections": [],
      "include_colab_link": true
    },
    "kernelspec": {
      "name": "python3",
      "display_name": "Python 3"
    }
  },
  "cells": [
    {
      "cell_type": "markdown",
      "metadata": {
        "id": "view-in-github",
        "colab_type": "text"
      },
      "source": [
        "<a href=\"https://colab.research.google.com/github/cardstud/DS-Unit-1-Sprint-3-Statistical-Tests-and-Experiments/blob/master/module2-sampling-confidence-intervals-and-hypothesis-testing/LS_DS_132_Sampling_Confidence_Intervals_and_Hypothesis_Testing.ipynb\" target=\"_parent\"><img src=\"https://colab.research.google.com/assets/colab-badge.svg\" alt=\"Open In Colab\"/></a>"
      ]
    },
    {
      "cell_type": "markdown",
      "metadata": {
        "id": "838Dmw1kM2LK",
        "colab_type": "text"
      },
      "source": [
        "# Lambda School Data Science Module 132\n",
        "## Sampling, Confidence Intervals, and Hypothesis Testing"
      ]
    },
    {
      "cell_type": "markdown",
      "metadata": {
        "id": "dbcPKIo5M6Ny",
        "colab_type": "text"
      },
      "source": [
        "## Prepare - examine other available hypothesis tests\n",
        "\n",
        "If you had to pick a single hypothesis test in your toolbox, t-test would probably be the best choice - but the good news is you don't have to pick just one! Here's some of the others to be aware of:"
      ]
    },
    {
      "cell_type": "code",
      "metadata": {
        "id": "tlBel8j9M6tB",
        "colab_type": "code",
        "outputId": "a175a391-a9bd-4cf7-b801-2a7a9e47a429",
        "colab": {
          "base_uri": "https://localhost:8080/",
          "height": 187
        }
      },
      "source": [
        "import numpy as np\n",
        "from scipy.stats import chisquare  # One-way chi square test\n",
        "\n",
        "# Chi square can take any crosstab/table and test the independence of rows/cols\n",
        "# The null hypothesis is that the rows/cols are independent -> low chi square\n",
        "# The alternative is that there is a dependence -> high chi square\n",
        "# Be aware! Chi square does *not* tell you direction/causation\n",
        "\n",
        "ind_obs = np.array([[1, 1], [2, 2]]).T\n",
        "print(ind_obs)\n",
        "print(chisquare(ind_obs, axis=None))\n",
        "\n",
        "# above- we fail to reject null hypothesis pvalue = 0.8810148425137847 so rows/cols --so independent\n",
        "\n",
        "dep_obs = np.array([[16, 18, 16, 14, 12, 12], [32, 24, 16, 28, 20, 24]]).T\n",
        "print(dep_obs)\n",
        "print(chisquare(dep_obs, axis=None))\n",
        "\n",
        "# above - low likelyhood we would see this data so we reject null hypotheis--something happening but we dont know"
      ],
      "execution_count": 0,
      "outputs": [
        {
          "output_type": "stream",
          "text": [
            "[[1 2]\n",
            " [1 2]]\n",
            "Power_divergenceResult(statistic=0.6666666666666666, pvalue=0.8810148425137847)\n",
            "[[16 32]\n",
            " [18 24]\n",
            " [16 16]\n",
            " [14 28]\n",
            " [12 20]\n",
            " [12 24]]\n",
            "Power_divergenceResult(statistic=23.31034482758621, pvalue=0.015975692534127565)\n"
          ],
          "name": "stdout"
        }
      ]
    },
    {
      "cell_type": "code",
      "metadata": {
        "id": "nN0BdNiDPxbk",
        "colab_type": "code",
        "colab": {}
      },
      "source": [
        "# Distribution tests:\n",
        "# We often assume that something is normal, but it can be important to *check*\n",
        "\n",
        "# For example, later on with predictive modeling, a typical assumption is that\n",
        "# residuals (prediction errors) are normal - checking is a good diagnostic\n",
        "\n",
        "from scipy.stats import normaltest\n",
        "# Poisson models arrival times and is related to the binomial (coinflip)\n",
        "sample = np.random.poisson(5, 1000)\n",
        "\n",
        "# this is very important--"
      ],
      "execution_count": 0,
      "outputs": []
    },
    {
      "cell_type": "code",
      "metadata": {
        "id": "Wh-ebLSkci-f",
        "colab_type": "code",
        "outputId": "978a0468-cbd1-4d10-a12d-30e0eec3bdd9",
        "colab": {
          "base_uri": "https://localhost:8080/",
          "height": 320
        }
      },
      "source": [
        "import matplotlib.pyplot as plt\n",
        "plt.hist(sample)"
      ],
      "execution_count": 0,
      "outputs": [
        {
          "output_type": "execute_result",
          "data": {
            "text/plain": [
              "(array([ 42.,  79., 328., 175., 136., 167.,  31.,  36.,   3.,   3.]),\n",
              " array([ 0. ,  1.4,  2.8,  4.2,  5.6,  7. ,  8.4,  9.8, 11.2, 12.6, 14. ]),\n",
              " <a list of 10 Patch objects>)"
            ]
          },
          "metadata": {
            "tags": []
          },
          "execution_count": 14
        },
        {
          "output_type": "display_data",
          "data": {
            "image/png": "[encoded data removed]",
            "text/plain": [
              "<Figure size 432x288 with 1 Axes>"
            ]
          },
          "metadata": {
            "tags": []
          }
        }
      ]
    },
    {
      "cell_type": "code",
      "metadata": {
        "id": "Xi8k_lzQdKKJ",
        "colab_type": "code",
        "outputId": "0d5fbea7-9940-4828-999d-ea74b81032c3",
        "colab": {
          "base_uri": "https://localhost:8080/",
          "height": 34
        }
      },
      "source": [
        "print(normaltest(sample))  # Pretty clearly not normal so with a very small p value we know that this data is not a normal distribution"
      ],
      "execution_count": 0,
      "outputs": [
        {
          "output_type": "stream",
          "text": [
            "NormaltestResult(statistic=49.13207389384102, pvalue=2.1434122661072156e-11)\n"
          ],
          "name": "stdout"
        }
      ]
    },
    {
      "cell_type": "code",
      "metadata": {
        "id": "eNw_VatUdfTJ",
        "colab_type": "code",
        "colab": {}
      },
      "source": [
        "# Get this function to work - determine which data columns in dataset are not distribut\n",
        "def my_func(df):\n",
        "  interesting_cols = []\n",
        "  if # check if type of column is numerical so fix this line with the if\n",
        "  for col in df.columns:\n",
        "    _, pvalue = normaltest(df['col'])\n",
        "    if pvalue > p_thres:\n",
        "      interesting_cols.append(pvalue)\n",
        "  return interesting_cols"
      ],
      "execution_count": 0,
      "outputs": []
    },
    {
      "cell_type": "code",
      "metadata": {
        "id": "P5t0WhkDReFO",
        "colab_type": "code",
        "outputId": "a6d613d4-5f46-412c-e4b6-880dd0d18fe8",
        "colab": {
          "base_uri": "https://localhost:8080/",
          "height": 51
        }
      },
      "source": [
        "# Kruskal-Wallis H-test - compare the median rank between 2+ groups\n",
        "# Can be applied to ranking decisions/outcomes/recommendations\n",
        "# The underlying math comes from chi-square distribution, and is best for n>5\n",
        "from scipy.stats import kruskal\n",
        "\n",
        "x1 = [1, 3, 5, 7, 9]\n",
        "y1 = [2, 4, 6, 8, 10]\n",
        "print(kruskal(x1, y1))  # x1 is a little better, but not \"significantly\" so\n",
        "\n",
        "x2 = [1, 1, 1]\n",
        "y2 = [2, 2, 2]\n",
        "z = [2, 2]  # Hey, a third group, and of different size!\n",
        "print(kruskal(x2, y2, z))  # x clearly dominates"
      ],
      "execution_count": 0,
      "outputs": [
        {
          "output_type": "stream",
          "text": [
            "KruskalResult(statistic=0.2727272727272734, pvalue=0.6015081344405895)\n",
            "KruskalResult(statistic=7.0, pvalue=0.0301973834223185)\n"
          ],
          "name": "stdout"
        }
      ]
    },
    {
      "cell_type": "markdown",
      "metadata": {
        "id": "7pT3IP36Rh0b",
        "colab_type": "text"
      },
      "source": [
        "And there's many more! `scipy.stats` is fairly comprehensive, though there are even more available if you delve into the extended world of statistics packages. As tests get increasingly obscure and specialized, the importance of knowing them by heart becomes small - but being able to look them up and figure them out when they *are* relevant is still important."
      ]
    },
    {
      "cell_type": "markdown",
      "metadata": {
        "id": "3JqroCQYQqhy",
        "colab_type": "text"
      },
      "source": [
        "## T-test Assumptions\n",
        "\n",
        "<https://statistics.laerd.com/statistical-guides/independent-t-test-statistical-guide.php>\n",
        "\n",
        "- Independence of means\n",
        "\n",
        "Are the means of our voting data independent (do not affect the outcome of one another)?\n",
        "  \n",
        "The best way to increase thel likelihood of our means being independent is to randomly sample (which we did not do).\n"
      ]
    },
    {
      "cell_type": "code",
      "metadata": {
        "id": "sqy2hEFRZnvI",
        "colab_type": "code",
        "colab": {}
      },
      "source": [
        "from scipy.stats import ttest_ind\n",
        "\n",
        "?ttest_ind"
      ],
      "execution_count": 0,
      "outputs": []
    },
    {
      "cell_type": "markdown",
      "metadata": {
        "id": "xI-PcK5sZ1A9",
        "colab_type": "text"
      },
      "source": [
        "- \"Homogeneity\" of Variance? \n",
        "\n",
        "Is the magnitude of the variance between the two roughly the same?\n",
        "\n",
        "I think we're OK on this one for the voting data, although it probably could be better, one party was larger than the other.\n",
        "\n",
        "If we suspect this to be a problem then we can use Welch's T-test"
      ]
    },
    {
      "cell_type": "code",
      "metadata": {
        "id": "P02dL0waauN5",
        "colab_type": "code",
        "colab": {}
      },
      "source": [
        "?ttest_ind"
      ],
      "execution_count": 0,
      "outputs": []
    },
    {
      "cell_type": "markdown",
      "metadata": {
        "id": "tjgoHHwGayoC",
        "colab_type": "text"
      },
      "source": [
        "- \"Dependent Variable\" (sample means) are Distributed Normally\n",
        "\n",
        "<https://stats.stackexchange.com/questions/9573/t-test-for-non-normal-when-n50>\n",
        "\n",
        "Lots of statistical tests depend on normal distributions. We can test for normality using Scipy as was shown above.\n",
        "\n",
        "This assumption is often assumed even if the assumption is a weak one. If you strongly suspect that things are not normally distributed, you can transform your data to get it looking more normal and then run your test. This problem typically goes away for large sample sizes (yay Central Limit Theorem) and is often why you don't hear it brought up. People declare the assumption to be satisfied either way. \n",
        "\n"
      ]
    },
    {
      "cell_type": "code",
      "metadata": {
        "id": "Mdq2_cdsmpQP",
        "colab_type": "code",
        "colab": {}
      },
      "source": [
        "import matplotlib.pyplot as plt"
      ],
      "execution_count": 0,
      "outputs": []
    },
    {
      "cell_type": "code",
      "metadata": {
        "id": "GdhSQPSJmpTN",
        "colab_type": "code",
        "outputId": "29fd34d0-dc56-4485-d04a-465fc3354dc1",
        "colab": {
          "base_uri": "https://localhost:8080/",
          "height": 34
        }
      },
      "source": [
        "skittles_fac_1 = np.random.normal(50, 5, size=100)\n",
        "skittles_fac_1 = skittles_fac_1.round().astype(int)\n",
        "skittles_fac_1[:10]"
      ],
      "execution_count": 0,
      "outputs": [
        {
          "output_type": "execute_result",
          "data": {
            "text/plain": [
              "array([51, 45, 49, 52, 51, 57, 46, 47, 56, 57])"
            ]
          },
          "metadata": {
            "tags": []
          },
          "execution_count": 23
        }
      ]
    },
    {
      "cell_type": "code",
      "metadata": {
        "id": "ALFdVs4-mpVq",
        "colab_type": "code",
        "outputId": "ecf247b5-011d-494b-a23b-5e0c871c016f",
        "colab": {
          "base_uri": "https://localhost:8080/",
          "height": 34
        }
      },
      "source": [
        "skittles_fac_1.mean()"
      ],
      "execution_count": 0,
      "outputs": [
        {
          "output_type": "execute_result",
          "data": {
            "text/plain": [
              "51.39"
            ]
          },
          "metadata": {
            "tags": []
          },
          "execution_count": 24
        }
      ]
    },
    {
      "cell_type": "code",
      "metadata": {
        "id": "6FmGBKiDmpYW",
        "colab_type": "code",
        "outputId": "534a4ba6-8ee9-4d05-dcf6-2118a032757a",
        "colab": {
          "base_uri": "https://localhost:8080/",
          "height": 269
        }
      },
      "source": [
        "plt.hist(skittles_fac_1, bins=15);"
      ],
      "execution_count": 0,
      "outputs": [
        {
          "output_type": "display_data",
          "data": {
            "image/png": "[encoded data removed]",
            "text/plain": [
              "<Figure size 432x288 with 1 Axes>"
            ]
          },
          "metadata": {
            "tags": []
          }
        }
      ]
    },
    {
      "cell_type": "code",
      "metadata": {
        "id": "KhlJNUJPmpa2",
        "colab_type": "code",
        "outputId": "bf856c4c-dc17-485a-b6c9-56880820bbc9",
        "colab": {
          "base_uri": "https://localhost:8080/",
          "height": 34
        }
      },
      "source": [
        "skittles_fac_2 = np.random.normal(49.3, 5.5, size=100)\n",
        "skittles_fac_2 = skittles_fac_2.round().astype(int)\n",
        "skittles_fac_2[:10]"
      ],
      "execution_count": 0,
      "outputs": [
        {
          "output_type": "execute_result",
          "data": {
            "text/plain": [
              "array([55, 50, 43, 45, 52, 48, 47, 41, 47, 38])"
            ]
          },
          "metadata": {
            "tags": []
          },
          "execution_count": 26
        }
      ]
    },
    {
      "cell_type": "code",
      "metadata": {
        "id": "mENoZBKFmpdb",
        "colab_type": "code",
        "outputId": "94c83c45-858d-4d76-92cc-5db3d3006ade",
        "colab": {
          "base_uri": "https://localhost:8080/",
          "height": 269
        }
      },
      "source": [
        "plt.hist(skittles_fac_2, bins=15);"
      ],
      "execution_count": 0,
      "outputs": [
        {
          "output_type": "display_data",
          "data": {
            "image/png": "[encoded data removed]",
            "text/plain": [
              "<Figure size 432x288 with 1 Axes>"
            ]
          },
          "metadata": {
            "tags": []
          }
        }
      ]
    },
    {
      "cell_type": "code",
      "metadata": {
        "id": "w3uvg15snR4Q",
        "colab_type": "code",
        "outputId": "775f1bdb-b887-498c-8646-7e5ef1c80dde",
        "colab": {
          "base_uri": "https://localhost:8080/",
          "height": 34
        }
      },
      "source": [
        "# The null hypothesis was that the means of both of these distributions were the same so since threshold is .05, and pvalue is below that, i reject null hypothesis\n",
        "ttest_ind(skittles_fac_1, skittles_fac_2)"
      ],
      "execution_count": 0,
      "outputs": [
        {
          "output_type": "execute_result",
          "data": {
            "text/plain": [
              "Ttest_indResult(statistic=3.88603400367645, pvalue=0.00013892954338173182)"
            ]
          },
          "metadata": {
            "tags": []
          },
          "execution_count": 31
        }
      ]
    },
    {
      "cell_type": "code",
      "metadata": {
        "id": "xzPrQ6oenR6t",
        "colab_type": "code",
        "outputId": "4d2cd2a4-73db-4443-926c-dee042fab40c",
        "colab": {
          "base_uri": "https://localhost:8080/",
          "height": 34
        }
      },
      "source": [
        "ttest_ind(skittles_fac_1, skittles_fac_2, equal_var=False) # if you reduce the sample sizes, you will notice difference between the pvalue of this and one above when using equal_var=False"
      ],
      "execution_count": 0,
      "outputs": [
        {
          "output_type": "execute_result",
          "data": {
            "text/plain": [
              "Ttest_indResult(statistic=3.88603400367645, pvalue=0.000140433310911283)"
            ]
          },
          "metadata": {
            "tags": []
          },
          "execution_count": 32
        }
      ]
    },
    {
      "cell_type": "markdown",
      "metadata": {
        "id": "2ppa0HTRpUyu",
        "colab_type": "text"
      },
      "source": [
        "# T-test doesn't say anything about the difference variances (standard deviations) - only their means"
      ]
    },
    {
      "cell_type": "code",
      "metadata": {
        "id": "oQ6dwn9bnR9M",
        "colab_type": "code",
        "outputId": "44fd29a7-74ae-4664-88d3-9837e45e14ce",
        "colab": {
          "base_uri": "https://localhost:8080/",
          "height": 34
        }
      },
      "source": [
        "skittles_fac_1 = np.random.normal(50, 2, size=1000)\n",
        "skittles_fac_1 = skittles_fac_1.round().astype(int)\n",
        "skittles_fac_1[:10]"
      ],
      "execution_count": 0,
      "outputs": [
        {
          "output_type": "execute_result",
          "data": {
            "text/plain": [
              "array([52, 49, 50, 51, 51, 54, 53, 53, 49, 54])"
            ]
          },
          "metadata": {
            "tags": []
          },
          "execution_count": 44
        }
      ]
    },
    {
      "cell_type": "code",
      "metadata": {
        "id": "_pITAmt2nR_q",
        "colab_type": "code",
        "outputId": "61e1bfe7-c800-4c3f-8697-1c2354934504",
        "colab": {
          "base_uri": "https://localhost:8080/",
          "height": 34
        }
      },
      "source": [
        "skittles_fac_2 = np.random.normal(50, 5, size=1000)\n",
        "skittles_fac_2 = skittles_fac_2.round().astype(int)\n",
        "skittles_fac_2[:10]"
      ],
      "execution_count": 0,
      "outputs": [
        {
          "output_type": "execute_result",
          "data": {
            "text/plain": [
              "array([51, 52, 50, 61, 50, 39, 50, 54, 53, 58])"
            ]
          },
          "metadata": {
            "tags": []
          },
          "execution_count": 45
        }
      ]
    },
    {
      "cell_type": "code",
      "metadata": {
        "id": "GF-UYUmXnSB-",
        "colab_type": "code",
        "outputId": "5f10457e-860d-4db3-ef2e-c7d8b481fa96",
        "colab": {
          "base_uri": "https://localhost:8080/",
          "height": 270
        }
      },
      "source": [
        "plt.hist(skittles_fac_1, alpha=0.5, color='b', density=True)  # divides every bucket by 1000\n",
        "plt.hist(skittles_fac_2, alpha=0.5, color='r', density=True);"
      ],
      "execution_count": 0,
      "outputs": [
        {
          "output_type": "display_data",
          "data": {
            "image/png": "[encoded data removed]",
            "text/plain": [
              "<Figure size 432x288 with 1 Axes>"
            ]
          },
          "metadata": {
            "tags": []
          }
        }
      ]
    },
    {
      "cell_type": "code",
      "metadata": {
        "id": "kBufnS7hnSER",
        "colab_type": "code",
        "outputId": "5c827456-2ee3-4fe3-a72a-60e3b3ebafec",
        "colab": {
          "base_uri": "https://localhost:8080/",
          "height": 34
        }
      },
      "source": [
        "# We have two sample distributions, lets run ttest\n",
        "ttest_ind(skittles_fac_1, skittles_fac_2)"
      ],
      "execution_count": 0,
      "outputs": [
        {
          "output_type": "execute_result",
          "data": {
            "text/plain": [
              "Ttest_indResult(statistic=1.2693356613738722, pvalue=0.20446920675345354)"
            ]
          },
          "metadata": {
            "tags": []
          },
          "execution_count": 47
        }
      ]
    },
    {
      "cell_type": "markdown",
      "metadata": {
        "id": "ksxVnQvoqjr8",
        "colab_type": "text"
      },
      "source": [
        "# KS-test"
      ]
    },
    {
      "cell_type": "code",
      "metadata": {
        "id": "A3NmxefEqkuM",
        "colab_type": "code",
        "colab": {}
      },
      "source": [
        "# https://en.wikipedia.org/wiki/Kolmogorov%E2%80%93Smirnov_test"
      ],
      "execution_count": 0,
      "outputs": []
    },
    {
      "cell_type": "code",
      "metadata": {
        "id": "PGCWeAb_qkwu",
        "colab_type": "code",
        "colab": {}
      },
      "source": [
        "from scipy.stats import ks_2samp"
      ],
      "execution_count": 0,
      "outputs": []
    },
    {
      "cell_type": "code",
      "metadata": {
        "id": "OI2Zha6mqkzQ",
        "colab_type": "code",
        "outputId": "01f23ba9-e9c0-4b64-e313-6c3d2320beb4",
        "colab": {
          "base_uri": "https://localhost:8080/",
          "height": 34
        }
      },
      "source": [
        "# using two sample test\n",
        "ks_2samp(skittles_fac_1, skittles_fac_2)"
      ],
      "execution_count": 0,
      "outputs": [
        {
          "output_type": "execute_result",
          "data": {
            "text/plain": [
              "Ks_2sampResult(statistic=0.226, pvalue=8.66144540069212e-23)"
            ]
          },
          "metadata": {
            "tags": []
          },
          "execution_count": 49
        }
      ]
    },
    {
      "cell_type": "code",
      "metadata": {
        "id": "9cRqoGZzqk17",
        "colab_type": "code",
        "colab": {}
      },
      "source": [
        "# the null hypothesis for the same dataset, between the two tests, ttest and ks-test, are not the same\n",
        "# For t-test the null is that the two means of two samles are the same, and since high pvalue, we fail to reject null\n",
        "# For k-s test, the null is that the two distributions are the same and since low pvalue, we reject null because they are not the same"
      ],
      "execution_count": 0,
      "outputs": []
    },
    {
      "cell_type": "code",
      "metadata": {
        "id": "kfjgNIvhqk4q",
        "colab_type": "code",
        "colab": {}
      },
      "source": [
        "# ks not only tells us the relationship between the two means but also aobut the shape between the two distributions"
      ],
      "execution_count": 0,
      "outputs": []
    },
    {
      "cell_type": "code",
      "metadata": {
        "id": "xQX0-lHTmpgU",
        "colab_type": "code",
        "colab": {}
      },
      "source": [
        "# Lets generate a function to create two distributions\n",
        "def get_two_norm_dist(mus, sigmas, sizes):\n",
        "  dist_list = []\n",
        "  for i in range(2): # 2 since we want two distributions\n",
        "    dist = np.random.normal(mus[i], sigmas[i], size=sizes[i]) # creates the distribution on 1st iteration, then iterates again for second one\n",
        "    dist = dist.round().astype(int)  # rounds into integer\n",
        "    dist_list.append(dist)\n",
        "  return dist_list"
      ],
      "execution_count": 0,
      "outputs": []
    },
    {
      "cell_type": "code",
      "metadata": {
        "id": "pQUQ-S7JvlVg",
        "colab_type": "code",
        "colab": {}
      },
      "source": [
        "dist_1, dist_2 = get_two_norm_dist(mus=(50, 50), sigmas=(3, 3.3), sizes=(1000, 500))"
      ],
      "execution_count": 0,
      "outputs": []
    },
    {
      "cell_type": "code",
      "metadata": {
        "id": "s3z5-_ojvlYO",
        "colab_type": "code",
        "outputId": "216643e7-a140-41e5-caf9-e3ceb325f907",
        "colab": {
          "base_uri": "https://localhost:8080/",
          "height": 34
        }
      },
      "source": [
        "# Run a ttest\n",
        "ttest_ind(dist_1, dist_2)"
      ],
      "execution_count": 0,
      "outputs": [
        {
          "output_type": "execute_result",
          "data": {
            "text/plain": [
              "Ttest_indResult(statistic=-0.5308156226425543, pvalue=0.5956252375712838)"
            ]
          },
          "metadata": {
            "tags": []
          },
          "execution_count": 54
        }
      ]
    },
    {
      "cell_type": "code",
      "metadata": {
        "id": "eGIrgfBQvlbM",
        "colab_type": "code",
        "outputId": "bf220163-82b9-41a3-b583-4a259167b1e4",
        "colab": {
          "base_uri": "https://localhost:8080/",
          "height": 34
        }
      },
      "source": [
        "# Run K-S test\n",
        "ks_2samp(dist_1, dist_2)"
      ],
      "execution_count": 0,
      "outputs": [
        {
          "output_type": "execute_result",
          "data": {
            "text/plain": [
              "Ks_2sampResult(statistic=0.036, pvalue=0.7762818525386279)"
            ]
          },
          "metadata": {
            "tags": []
          },
          "execution_count": 55
        }
      ]
    },
    {
      "cell_type": "markdown",
      "metadata": {
        "id": "E7dx95CDwy-a",
        "colab_type": "text"
      },
      "source": [
        "## Fair vs unfair dice example"
      ]
    },
    {
      "cell_type": "code",
      "metadata": {
        "id": "u-84dc-2wzkb",
        "colab_type": "code",
        "colab": {}
      },
      "source": [
        "unfair_die = np.array(150*[1] + 130*[2] + 50*[3] + 50*[4] + 130*[5] + 150*[6])"
      ],
      "execution_count": 0,
      "outputs": []
    },
    {
      "cell_type": "code",
      "metadata": {
        "id": "YtwnJVWjwzn6",
        "colab_type": "code",
        "outputId": "a5052554-5290-4647-aa71-cf43803d4240",
        "colab": {
          "base_uri": "https://localhost:8080/",
          "height": 34
        }
      },
      "source": [
        "unfair_die.shape"
      ],
      "execution_count": 0,
      "outputs": [
        {
          "output_type": "execute_result",
          "data": {
            "text/plain": [
              "(660,)"
            ]
          },
          "metadata": {
            "tags": []
          },
          "execution_count": 65
        }
      ]
    },
    {
      "cell_type": "code",
      "metadata": {
        "id": "lXgJWB_WxxJY",
        "colab_type": "code",
        "outputId": "e56c46e1-5e2e-497c-8acd-72eda354719b",
        "colab": {
          "base_uri": "https://localhost:8080/",
          "height": 34
        }
      },
      "source": [
        "unfair_die.mean()"
      ],
      "execution_count": 0,
      "outputs": [
        {
          "output_type": "execute_result",
          "data": {
            "text/plain": [
              "3.5"
            ]
          },
          "metadata": {
            "tags": []
          },
          "execution_count": 66
        }
      ]
    },
    {
      "cell_type": "code",
      "metadata": {
        "id": "INz843BQwzqy",
        "colab_type": "code",
        "colab": {}
      },
      "source": [
        "fair_die = np.array(110*[1] + 110*[2] + 110*[3] + 110*[4] + 110*[5] + 110*[6])"
      ],
      "execution_count": 0,
      "outputs": []
    },
    {
      "cell_type": "code",
      "metadata": {
        "id": "JhHF9CM4wztU",
        "colab_type": "code",
        "outputId": "13e2acca-8bbb-4610-9739-8bcf8beb57c5",
        "colab": {
          "base_uri": "https://localhost:8080/",
          "height": 34
        }
      },
      "source": [
        "fair_die.shape"
      ],
      "execution_count": 0,
      "outputs": [
        {
          "output_type": "execute_result",
          "data": {
            "text/plain": [
              "(660,)"
            ]
          },
          "metadata": {
            "tags": []
          },
          "execution_count": 68
        }
      ]
    },
    {
      "cell_type": "code",
      "metadata": {
        "id": "bViXUzrhw9Dq",
        "colab_type": "code",
        "outputId": "5a3ec276-b77b-404c-cd2b-37b4278ceebd",
        "colab": {
          "base_uri": "https://localhost:8080/",
          "height": 34
        }
      },
      "source": [
        "fair_die.mean()"
      ],
      "execution_count": 0,
      "outputs": [
        {
          "output_type": "execute_result",
          "data": {
            "text/plain": [
              "3.5"
            ]
          },
          "metadata": {
            "tags": []
          },
          "execution_count": 69
        }
      ]
    },
    {
      "cell_type": "code",
      "metadata": {
        "id": "ROl_x7sWwzwD",
        "colab_type": "code",
        "outputId": "602fb11e-67e5-4446-c861-809dc4e30c06",
        "colab": {
          "base_uri": "https://localhost:8080/",
          "height": 34
        }
      },
      "source": [
        "ttest_ind(unfair_die, fair_die) #pvalue is highest possible value of 1"
      ],
      "execution_count": 0,
      "outputs": [
        {
          "output_type": "execute_result",
          "data": {
            "text/plain": [
              "Ttest_indResult(statistic=0.0, pvalue=1.0)"
            ]
          },
          "metadata": {
            "tags": []
          },
          "execution_count": 72
        }
      ]
    },
    {
      "cell_type": "code",
      "metadata": {
        "id": "omE6TzNZwzyi",
        "colab_type": "code",
        "outputId": "64e02c44-592d-4a82-8016-9c177dd1907b",
        "colab": {
          "base_uri": "https://localhost:8080/",
          "height": 34
        }
      },
      "source": [
        "ks_2samp(unfair_die, fair_die) # pvalue is really low--shows that this test can detect difference in distributions when means are identical"
      ],
      "execution_count": 0,
      "outputs": [
        {
          "output_type": "execute_result",
          "data": {
            "text/plain": [
              "Ks_2sampResult(statistic=0.09090909090909091, pvalue=0.008524685542396894)"
            ]
          },
          "metadata": {
            "tags": []
          },
          "execution_count": 73
        }
      ]
    },
    {
      "cell_type": "markdown",
      "metadata": {
        "id": "bvvPV-RJN2vA",
        "colab_type": "text"
      },
      "source": [
        "## Central Limit Theorem\n",
        "\n"
      ]
    },
    {
      "cell_type": "code",
      "metadata": {
        "id": "0G4Py1RVy8vv",
        "colab_type": "code",
        "outputId": "8abb4401-00e5-4472-851f-9a17e478c7eb",
        "colab": {
          "base_uri": "https://localhost:8080/",
          "height": 51
        }
      },
      "source": [
        "np.random.binomial(n=1, p=.5, size=n_size) # pulled this out of the below function to look at it"
      ],
      "execution_count": 0,
      "outputs": [
        {
          "output_type": "execute_result",
          "data": {
            "text/plain": [
              "array([0, 0, 0, 0, 0, 0, 0, 0, 1, 1, 1, 1, 0, 0, 0, 1, 0, 1, 1, 0, 0, 1,\n",
              "       0, 1, 0, 1, 0, 1, 1, 0])"
            ]
          },
          "metadata": {
            "tags": []
          },
          "execution_count": 77
        }
      ]
    },
    {
      "cell_type": "code",
      "metadata": {
        "id": "FBLoOF8qOJeJ",
        "colab_type": "code",
        "outputId": "d3688631-ec61-4e64-95cb-6064bdf3d5d8",
        "colab": {
          "base_uri": "https://localhost:8080/",
          "height": 71
        }
      },
      "source": [
        "import numpy as np\n",
        "import matplotlib.pyplot as plt\n",
        "import pandas as pd\n",
        "\n",
        "N = 20000   # N is the number of samples i draw from distribution\n",
        "n_size = 30 # n is size of the sample\n",
        "sample_means = []\n",
        "for x in range(0,N):\n",
        "  coinflips = np.random.binomial(n=1, p=.5, size=n_size)  # each sample contains 15 flips that are either 0 or 1. The 0.4 was the mean of the first sample of 15 flips, etc\n",
        "  one_sample = coinflips\n",
        "  sample_means.append(coinflips.mean())\n",
        "\n",
        "print(len(sample_means))\n",
        "print(sample_means)"
      ],
      "execution_count": 0,
      "outputs": [
        {
          "output_type": "stream",
          "text": [
            "20000\n",
            "[0.43333333333333335, 0.4666666666666667, 0.5, 0.4666666666666667, 0.5666666666666667, 0.4666666666666667, 0.5333333333333333, 0.5333333333333333, 0.43333333333333335, 0.5333333333333333, 0.4, 0.5, 0.36666666666666664, 0.4666666666666667, 0.6666666666666666, 0.4, 0.4, 0.3333333333333333, 0.5, 0.5333333333333333, 0.5, 0.36666666666666664, 0.5333333333333333, 0.6, 0.3, 0.4, 0.6333333333333333, 0.6, 0.6, 0.5, 0.3333333333333333, 0.5333333333333333, 0.4666666666666667, 0.4, 0.4666666666666667, 0.5, 0.6666666666666666, 0.3, 0.6, 0.26666666666666666, 0.4, 0.43333333333333335, 0.43333333333333335, 0.5, 0.6333333333333333, 0.4666666666666667, 0.5333333333333333, 0.43333333333333335, 0.4, 0.6, 0.5333333333333333, 0.5, 0.6, 0.5, 0.4, 0.4666666666666667, 0.4666666666666667, 0.4666666666666667, 0.6, 0.4666666666666667, 0.36666666666666664, 0.5666666666666667, 0.36666666666666664, 0.36666666666666664, 0.4666666666666667, 0.5666666666666667, 0.5, 0.5666666666666667, 0.4666666666666667, 0.5333333333333333, 0.5666666666666667, 0.4666666666666667, 0.4, 0.4, 0.43333333333333335, 0.5666666666666667, 0.3, 0.43333333333333335, 0.43333333333333335, 0.4, 0.5, 0.43333333333333335, 0.5333333333333333, 0.5333333333333333, 0.5, 0.6, 0.4666666666666667, 0.6, 0.6666666666666666, 0.7, 0.43333333333333335, 0.5333333333333333, 0.5, 0.5, 0.43333333333333335, 0.5, 0.5, 0.36666666666666664, 0.3, 0.5333333333333333, 0.5, 0.6333333333333333, 0.5, 0.36666666666666664, 0.43333333333333335, 0.5333333333333333, 0.36666666666666664, 0.5333333333333333, 0.5, 0.6666666666666666, 0.3333333333333333, 0.43333333333333335, 0.5, 0.4666666666666667, 0.6333333333333333, 0.43333333333333335, 0.3333333333333333, 0.6333333333333333, 0.5, 0.5666666666666667, 0.4, 0.3333333333333333, 0.5, 0.5, 0.5333333333333333, 0.43333333333333335, 0.4666666666666667, 0.6666666666666666, 0.5666666666666667, 0.4666666666666667, 0.36666666666666664, 0.5, 0.5666666666666667, 0.4666666666666667, 0.36666666666666664, 0.6, 0.5, 0.3333333333333333, 0.5333333333333333, 0.5, 0.4666666666666667, 0.3333333333333333, 0.5333333333333333, 0.6333333333333333, 0.4666666666666667, 0.4666666666666667, 0.6666666666666666, 0.6, 0.5666666666666667, 0.4, 0.4666666666666667, 0.4666666666666667, 0.4, 0.36666666666666664, 0.6333333333333333, 0.6333333333333333, 0.5666666666666667, 0.5666666666666667, 0.4666666666666667, 0.4666666666666667, 0.43333333333333335, 0.4666666666666667, 0.5666666666666667, 0.4, 0.3333333333333333, 0.36666666666666664, 0.5333333333333333, 0.43333333333333335, 0.5, 0.5, 0.36666666666666664, 0.4, 0.43333333333333335, 0.23333333333333334, 0.4666666666666667, 0.43333333333333335, 0.6, 0.6, 0.5666666666666667, 0.6333333333333333, 0.5333333333333333, 0.4, 0.5, 0.6, 0.5, 0.6333333333333333, 0.4666666666666667, 0.5, 0.43333333333333335, 0.4, 0.4666666666666667, 0.6666666666666666, 0.3, 0.4666666666666667, 0.4, 0.36666666666666664, 0.7, 0.4666666666666667, 0.43333333333333335, 0.6, 0.4666666666666667, 0.5, 0.6, 0.5666666666666667, 0.5666666666666667, 0.5666666666666667, 0.5666666666666667, 0.6333333333333333, 0.5, 0.4, 0.3333333333333333, 0.4666666666666667, 0.5666666666666667, 0.4, 0.6, 0.43333333333333335, 0.5, 0.5666666666666667, 0.4666666666666667, 0.36666666666666664, 0.6666666666666666, 0.5333333333333333, 0.6333333333333333, 0.23333333333333334, 0.6, 0.6, 0.5666666666666667, 0.5666666666666667, 0.43333333333333335, 0.43333333333333335, 0.4, 0.5666666666666667, 0.6, 0.36666666666666664, 0.5333333333333333, 0.6, 0.43333333333333335, 0.43333333333333335, 0.6, 0.5, 0.5666666666666667, 0.5333333333333333, 0.6333333333333333, 0.6333333333333333, 0.43333333333333335, 0.6, 0.5333333333333333, 0.5, 0.5333333333333333, 0.5, 0.4, 0.4666666666666667, 0.5666666666666667, 0.6666666666666666, 0.3333333333333333, 0.5333333333333333, 0.5333333333333333, 0.6666666666666666, 0.4, 0.36666666666666664, 0.5, 0.6, 0.5333333333333333, 0.4, 0.5666666666666667, 0.43333333333333335, 0.43333333333333335, 0.6, 0.43333333333333335, 0.5333333333333333, 0.43333333333333335, 0.4666666666666667, 0.4666666666666667, 0.43333333333333335, 0.5666666666666667, 0.6666666666666666, 0.3333333333333333, 0.4666666666666667, 0.5666666666666667, 0.4, 0.43333333333333335, 0.4, 0.6, 0.5666666666666667, 0.5, 0.4, 0.5666666666666667, 0.4666666666666667, 0.6333333333333333, 0.4666666666666667, 0.4666666666666667, 0.7, 0.6, 0.7333333333333333, 0.4666666666666667, 0.5, 0.4, 0.5, 0.6, 0.4, 0.43333333333333335, 0.5, 0.26666666666666666, 0.6333333333333333, 0.43333333333333335, 0.5666666666666667, 0.4666666666666667, 0.5, 0.4666666666666667, 0.43333333333333335, 0.5333333333333333, 0.43333333333333335, 0.43333333333333335, 0.5666666666666667, 0.43333333333333335, 0.26666666666666666, 0.36666666666666664, 0.4666666666666667, 0.4666666666666667, 0.5666666666666667, 0.5666666666666667, 0.6, 0.5333333333333333, 0.4, 0.4666666666666667, 0.6666666666666666, 0.36666666666666664, 0.4, 0.6333333333333333, 0.5, 0.43333333333333335, 0.4666666666666667, 0.43333333333333335, 0.43333333333333335, 0.5, 0.4, 0.6, 0.5, 0.5, 0.4, 0.43333333333333335, 0.43333333333333335, 0.5, 0.3333333333333333, 0.4666666666666667, 0.36666666666666664, 0.5333333333333333, 0.7, 0.4, 0.5, 0.4666666666666667, 0.43333333333333335, 0.43333333333333335, 0.5, 0.5666666666666667, 0.4666666666666667, 0.6333333333333333, 0.5, 0.4666666666666667, 0.43333333333333335, 0.4, 0.43333333333333335, 0.4666666666666667, 0.43333333333333335, 0.5333333333333333, 0.4666666666666667, 0.43333333333333335, 0.4666666666666667, 0.4, 0.4666666666666667, 0.5666666666666667, 0.5666666666666667, 0.5333333333333333, 0.5333333333333333, 0.43333333333333335, 0.4, 0.43333333333333335, 0.4, 0.5, 0.5333333333333333, 0.5, 0.4666666666666667, 0.5666666666666667, 0.4, 0.5333333333333333, 0.4, 0.43333333333333335, 0.5, 0.43333333333333335, 0.5333333333333333, 0.4666666666666667, 0.4666666666666667, 0.6333333333333333, 0.5, 0.4666666666666667, 0.5333333333333333, 0.4, 0.43333333333333335, 0.4666666666666667, 0.4666666666666667, 0.5333333333333333, 0.4, 0.5666666666666667, 0.6, 0.4666666666666667, 0.6333333333333333, 0.43333333333333335, 0.5666666666666667, 0.43333333333333335, 0.36666666666666664, 0.36666666666666664, 0.43333333333333335, 0.5666666666666667, 0.5666666666666667, 0.5666666666666667, 0.3, 0.4666666666666667, 0.6, 0.43333333333333335, 0.6, 0.43333333333333335, 0.5666666666666667, 0.5, 0.43333333333333335, 0.6666666666666666, 0.6, 0.7333333333333333, 0.43333333333333335, 0.5, 0.43333333333333335, 0.5, 0.4666666666666667, 0.3, 0.5, 0.4, 0.6333333333333333, 0.6, 0.4, 0.7, 0.5333333333333333, 0.4666666666666667, 0.4666666666666667, 0.43333333333333335, 0.5, 0.6, 0.5333333333333333, 0.5666666666666667, 0.5666666666666667, 0.5666666666666667, 0.6333333333333333, 0.5, 0.5333333333333333, 0.5666666666666667, 0.4666666666666667, 0.43333333333333335, 0.5333333333333333, 0.5, 0.3, 0.5, 0.5666666666666667, 0.5, 0.4, 0.5, 0.5333333333333333, 0.5, 0.4666666666666667, 0.5333333333333333, 0.6333333333333333, 0.5, 0.5333333333333333, 0.5333333333333333, 0.6, 0.6333333333333333, 0.4, 0.4, 0.5, 0.4666666666666667, 0.43333333333333335, 0.4666666666666667, 0.5, 0.5333333333333333, 0.6, 0.4666666666666667, 0.3333333333333333, 0.4666666666666667, 0.6666666666666666, 0.4666666666666667, 0.5666666666666667, 0.43333333333333335, 0.5666666666666667, 0.6333333333333333, 0.4666666666666667, 0.5, 0.36666666666666664, 0.5666666666666667, 0.6, 0.43333333333333335, 0.5666666666666667, 0.5333333333333333, 0.6666666666666666, 0.4, 0.5333333333333333, 0.6666666666666666, 0.6333333333333333, 0.6333333333333333, 0.5333333333333333, 0.4, 0.5, 0.43333333333333335, 0.43333333333333335, 0.4, 0.5, 0.4666666666666667, 0.5333333333333333, 0.43333333333333335, 0.43333333333333335, 0.4, 0.4666666666666667, 0.5333333333333333, 0.3333333333333333, 0.4, 0.5, 0.5666666666666667, 0.5666666666666667, 0.5, 0.5, 0.43333333333333335, 0.4666666666666667, 0.5, 0.5666666666666667, 0.5, 0.6333333333333333, 0.4666666666666667, 0.5333333333333333, 0.5, 0.5333333333333333, 0.43333333333333335, 0.5333333333333333, 0.5, 0.5, 0.43333333333333335, 0.3333333333333333, 0.6, 0.43333333333333335, 0.4666666666666667, 0.6333333333333333, 0.3333333333333333, 0.4, 0.5666666666666667, 0.3, 0.4, 0.5666666666666667, 0.5, 0.4666666666666667, 0.43333333333333335, 0.4, 0.6666666666666666, 0.4, 0.36666666666666664, 0.43333333333333335, 0.5, 0.5, 0.4666666666666667, 0.6666666666666666, 0.3333333333333333, 0.4, 0.5, 0.5, 0.5333333333333333, 0.4666666666666667, 0.43333333333333335, 0.26666666666666666, 0.4, 0.4666666666666667, 0.4, 0.5333333333333333, 0.4666666666666667, 0.6, 0.7, 0.6, 0.4, 0.5333333333333333, 0.5, 0.5, 0.5, 0.4666666666666667, 0.5333333333333333, 0.4, 0.4666666666666667, 0.5, 0.5, 0.5666666666666667, 0.6, 0.4666666666666667, 0.6666666666666666, 0.5333333333333333, 0.5, 0.6, 0.6333333333333333, 0.4, 0.5333333333333333, 0.5666666666666667, 0.5333333333333333, 0.5333333333333333, 0.5333333333333333, 0.4666666666666667, 0.6, 0.43333333333333335, 0.5, 0.43333333333333335, 0.4666666666666667, 0.5333333333333333, 0.5666666666666667, 0.4, 0.7333333333333333, 0.5333333333333333, 0.6666666666666666, 0.4666666666666667, 0.5333333333333333, 0.43333333333333335, 0.5333333333333333, 0.4666666666666667, 0.4666666666666667, 0.43333333333333335, 0.5, 0.6666666666666666, 0.5666666666666667, 0.5, 0.43333333333333335, 0.4666666666666667, 0.6333333333333333, 0.5333333333333333, 0.5, 0.5666666666666667, 0.7333333333333333, 0.5, 0.5, 0.4, 0.26666666666666666, 0.43333333333333335, 0.4666666666666667, 0.5, 0.4, 0.43333333333333335, 0.6, 0.5, 0.6333333333333333, 0.5666666666666667, 0.4, 0.6, 0.5333333333333333, 0.5666666666666667, 0.4, 0.43333333333333335, 0.5666666666666667, 0.36666666666666664, 0.4, 0.6666666666666666, 0.5666666666666667, 0.4666666666666667, 0.4666666666666667, 0.6, 0.5, 0.5333333333333333, 0.5, 0.4, 0.36666666666666664, 0.5, 0.5, 0.5666666666666667, 0.43333333333333335, 0.5333333333333333, 0.4, 0.43333333333333335, 0.43333333333333335, 0.6, 0.5333333333333333, 0.6, 0.6, 0.5, 0.5666666666666667, 0.5, 0.6333333333333333, 0.5333333333333333, 0.43333333333333335, 0.5, 0.5333333333333333, 0.4, 0.5, 0.6, 0.6, 0.5666666666666667, 0.5333333333333333, 0.5, 0.43333333333333335, 0.5, 0.5333333333333333, 0.4666666666666667, 0.4, 0.4666666666666667, 0.5333333333333333, 0.5666666666666667, 0.4, 0.3333333333333333, 0.4, 0.43333333333333335, 0.43333333333333335, 0.4666666666666667, 0.5, 0.36666666666666664, 0.6, 0.6333333333333333, 0.43333333333333335, 0.5, 0.4, 0.36666666666666664, 0.6666666666666666, 0.6, 0.5, 0.43333333333333335, 0.5666666666666667, 0.3333333333333333, 0.36666666666666664, 0.5666666666666667, 0.43333333333333335, 0.6, 0.43333333333333335, 0.36666666666666664, 0.43333333333333335, 0.4666666666666667, 0.5333333333333333, 0.6, 0.5666666666666667, 0.6, 0.4666666666666667, 0.6333333333333333, 0.6, 0.36666666666666664, 0.5333333333333333, 0.4, 0.5333333333333333, 0.5333333333333333, 0.5333333333333333, 0.43333333333333335, 0.43333333333333335, 0.5333333333333333, 0.5333333333333333, 0.6666666666666666, 0.5333333333333333, 0.43333333333333335, 0.5, 0.5333333333333333, 0.3333333333333333, 0.43333333333333335, 0.6666666666666666, 0.43333333333333335, 0.43333333333333335, 0.4666666666666667, 0.43333333333333335, 0.5666666666666667, 0.6, 0.43333333333333335, 0.5666666666666667, 0.5666666666666667, 0.5, 0.43333333333333335, 0.3333333333333333, 0.5, 0.6, 0.4666666666666667, 0.5, 0.4, 0.7, 0.43333333333333335, 0.4666666666666667, 0.5, 0.3333333333333333, 0.5, 0.4666666666666667, 0.6333333333333333, 0.4666666666666667, 0.4666666666666667, 0.43333333333333335, 0.36666666666666664, 0.6, 0.6666666666666666, 0.6, 0.4666666666666667, 0.5333333333333333, 0.5666666666666667, 0.4666666666666667, 0.7, 0.6333333333333333, 0.5333333333333333, 0.5, 0.3333333333333333, 0.5666666666666667, 0.6, 0.36666666666666664, 0.4, 0.5666666666666667, 0.4666666666666667, 0.5666666666666667, 0.5, 0.4666666666666667, 0.43333333333333335, 0.4666666666666667, 0.6333333333333333, 0.5666666666666667, 0.5666666666666667, 0.4, 0.5, 0.5333333333333333, 0.5666666666666667, 0.4666666666666667, 0.5333333333333333, 0.5, 0.4666666666666667, 0.43333333333333335, 0.43333333333333335, 0.5333333333333333, 0.4, 0.4666666666666667, 0.5, 0.4, 0.5333333333333333, 0.6333333333333333, 0.6333333333333333, 0.4666666666666667, 0.6, 0.5666666666666667, 0.6, 0.7333333333333333, 0.5666666666666667, 0.4666666666666667, 0.3, 0.5666666666666667, 0.5, 0.4666666666666667, 0.5333333333333333, 0.4666666666666667, 0.7, 0.36666666666666664, 0.43333333333333335, 0.6, 0.5333333333333333, 0.43333333333333335, 0.5, 0.5333333333333333, 0.5333333333333333, 0.4, 0.4666666666666667, 0.5, 0.5333333333333333, 0.5, 0.5, 0.36666666666666664, 0.5333333333333333, 0.5, 0.5666666666666667, 0.6, 0.6, 0.5333333333333333, 0.43333333333333335, 0.6, 0.5333333333333333, 0.5, 0.6, 0.4, 0.6, 0.4666666666666667, 0.4666666666666667, 0.5333333333333333, 0.5, 0.5, 0.5333333333333333, 0.36666666666666664, 0.5666666666666667, 0.5333333333333333, 0.5, 0.43333333333333335, 0.5333333333333333, 0.5666666666666667, 0.5, 0.3333333333333333, 0.43333333333333335, 0.36666666666666664, 0.4666666666666667, 0.4, 0.36666666666666664, 0.5666666666666667, 0.5, 0.4, 0.5, 0.6333333333333333, 0.3333333333333333, 0.43333333333333335, 0.5, 0.5, 0.5, 0.4666666666666667, 0.4666666666666667, 0.6, 0.43333333333333335, 0.5, 0.4, 0.4666666666666667, 0.4, 0.6, 0.5, 0.5333333333333333, 0.43333333333333335, 0.4666666666666667, 0.6333333333333333, 0.5333333333333333, 0.5666666666666667, 0.4, 0.4666666666666667, 0.5, 0.4666666666666667, 0.4666666666666667, 0.36666666666666664, 0.5666666666666667, 0.5333333333333333, 0.5, 0.5333333333333333, 0.4666666666666667, 0.6, 0.3333333333333333, 0.5, 0.5, 0.6333333333333333, 0.5, 0.5, 0.5, 0.5, 0.4666666666666667, 0.4666666666666667, 0.7333333333333333, 0.5666666666666667, 0.4666666666666667, 0.5, 0.6, 0.36666666666666664, 0.5, 0.4666666666666667, 0.43333333333333335, 0.4, 0.43333333333333335, 0.6666666666666666, 0.6333333333333333, 0.5666666666666667, 0.5666666666666667, 0.5, 0.5, 0.6333333333333333, 0.5333333333333333, 0.4, 0.5, 0.4666666666666667, 0.5, 0.7, 0.5333333333333333, 0.6333333333333333, 0.5, 0.5333333333333333, 0.5, 0.6, 0.4666666666666667, 0.5333333333333333, 0.4, 0.5, 0.43333333333333335, 0.43333333333333335, 0.4666666666666667, 0.5333333333333333, 0.6333333333333333, 0.5333333333333333, 0.5, 0.43333333333333335, 0.5666666666666667, 0.43333333333333335, 0.36666666666666664, 0.43333333333333335, 0.4666666666666667, 0.3333333333333333, 0.7333333333333333, 0.43333333333333335, 0.43333333333333335, 0.5, 0.5666666666666667, 0.3, 0.5333333333333333, 0.4666666666666667, 0.5666666666666667, 0.5333333333333333, 0.43333333333333335, 0.6333333333333333, 0.5333333333333333, 0.3, 0.6666666666666666, 0.4666666666666667, 0.6333333333333333, 0.5333333333333333, 0.4, 0.4666666666666667, 0.5666666666666667, 0.4666666666666667, 0.4, 0.3333333333333333, 0.4, 0.6, 0.5333333333333333, 0.5666666666666667, 0.5666666666666667, 0.5333333333333333, 0.43333333333333335, 0.5666666666666667, 0.5333333333333333, 0.5666666666666667, 0.5333333333333333, 0.6, 0.4, 0.6666666666666666, 0.5333333333333333, 0.43333333333333335, 0.5333333333333333, 0.4666666666666667, 0.6333333333333333, 0.36666666666666664, 0.5, 0.5666666666666667, 0.3333333333333333, 0.4, 0.5333333333333333, 0.43333333333333335, 0.5, 0.5333333333333333, 0.5, 0.5333333333333333, 0.4666666666666667, 0.5, 0.43333333333333335, 0.4666666666666667, 0.4666666666666667, 0.4666666666666667, 0.43333333333333335, 0.36666666666666664, 0.36666666666666664, 0.5666666666666667, 0.43333333333333335, 0.43333333333333335, 0.5333333333333333, 0.6, 0.4666666666666667, 0.5666666666666667, 0.4666666666666667, 0.5, 0.4, 0.3333333333333333, 0.5666666666666667, 0.5333333333333333, 0.4666666666666667, 0.43333333333333335, 0.5666666666666667, 0.5, 0.26666666666666666, 0.3333333333333333, 0.3333333333333333, 0.6333333333333333, 0.36666666666666664, 0.6, 0.5666666666666667, 0.4666666666666667, 0.5, 0.5333333333333333, 0.6333333333333333, 0.4666666666666667, 0.6333333333333333, 0.36666666666666664, 0.6, 0.43333333333333335, 0.5, 0.3333333333333333, 0.4666666666666667, 0.4666666666666667, 0.6333333333333333, 0.4666666666666667, 0.6, 0.4666666666666667, 0.6, 0.3333333333333333, 0.5333333333333333, 0.5666666666666667, 0.43333333333333335, 0.5, 0.4, 0.43333333333333335, 0.5333333333333333, 0.4666666666666667, 0.4, 0.43333333333333335, 0.4666666666666667, 0.6, 0.5333333333333333, 0.4, 0.5666666666666667, 0.5666666666666667, 0.3, 0.5, 0.4, 0.6, 0.6, 0.5666666666666667, 0.43333333333333335, 0.5, 0.43333333333333335, 0.5, 0.3333333333333333, 0.5333333333333333, 0.3333333333333333, 0.3, 0.5666666666666667, 0.5333333333333333, 0.36666666666666664, 0.6, 0.5333333333333333, 0.4666666666666667, 0.5666666666666667, 0.5333333333333333, 0.6, 0.4666666666666667, 0.4, 0.5, 0.6, 0.4, 0.6, 0.6666666666666666, 0.5, 0.4, 0.6333333333333333, 0.6666666666666666, 0.3333333333333333, 0.4666666666666667, 0.4666666666666667, 0.4666666666666667, 0.7, 0.5333333333333333, 0.43333333333333335, 0.6, 0.4666666666666667, 0.4666666666666667, 0.5666666666666667, 0.6, 0.5666666666666667, 0.4666666666666667, 0.5, 0.6666666666666666, 0.5333333333333333, 0.5333333333333333, 0.4666666666666667, 0.6666666666666666, 0.5, 0.6, 0.5, 0.6, 0.36666666666666664, 0.6, 0.3333333333333333, 0.43333333333333335, 0.5, 0.36666666666666664, 0.5666666666666667, 0.5666666666666667, 0.36666666666666664, 0.5333333333333333, 0.43333333333333335, 0.6, 0.5333333333333333, 0.5333333333333333, 0.4666666666666667, 0.4666666666666667, 0.5, 0.5666666666666667, 0.5333333333333333, 0.5333333333333333, 0.4, 0.5666666666666667, 0.5333333333333333, 0.4666666666666667, 0.6, 0.3333333333333333, 0.6333333333333333, 0.5666666666666667, 0.6, 0.4, 0.43333333333333335, 0.43333333333333335, 0.6, 0.23333333333333334, 0.6, 0.5666666666666667, 0.6333333333333333, 0.5333333333333333, 0.6666666666666666, 0.36666666666666664, 0.5333333333333333, 0.5, 0.5333333333333333, 0.6666666666666666, 0.4666666666666667, 0.4, 0.4666666666666667, 0.43333333333333335, 0.4, 0.5, 0.4666666666666667, 0.43333333333333335, 0.4666666666666667, 0.5333333333333333, 0.5333333333333333, 0.4666666666666667, 0.6333333333333333, 0.4666666666666667, 0.3333333333333333, 0.5333333333333333, 0.4666666666666667, 0.5, 0.5, 0.6666666666666666, 0.3333333333333333, 0.5333333333333333, 0.5, 0.4, 0.5333333333333333, 0.5333333333333333, 0.5, 0.3333333333333333, 0.4666666666666667, 0.43333333333333335, 0.6, 0.5666666666666667, 0.4, 0.5333333333333333, 0.4666666666666667, 0.6, 0.4, 0.4666666666666667, 0.36666666666666664, 0.4666666666666667, 0.5, 0.3333333333333333, 0.5666666666666667, 0.6333333333333333, 0.5333333333333333, 0.5333333333333333, 0.4666666666666667, 0.43333333333333335, 0.43333333333333335, 0.5333333333333333, 0.6666666666666666, 0.5, 0.4666666666666667, 0.5, 0.43333333333333335, 0.4666666666666667, 0.36666666666666664, 0.5666666666666667, 0.36666666666666664, 0.6666666666666666, 0.5, 0.4666666666666667, 0.4, 0.6, 0.4666666666666667, 0.5666666666666667, 0.5333333333333333, 0.5, 0.4666666666666667, 0.5333333333333333, 0.6666666666666666, 0.5666666666666667, 0.5666666666666667, 0.6, 0.5333333333333333, 0.5, 0.36666666666666664, 0.5, 0.6666666666666666, 0.5666666666666667, 0.6, 0.5, 0.6, 0.3333333333333333, 0.5333333333333333, 0.5333333333333333, 0.43333333333333335, 0.5666666666666667, 0.5666666666666667, 0.5333333333333333, 0.43333333333333335, 0.5666666666666667, 0.4, 0.5, 0.5, 0.3, 0.5333333333333333, 0.6333333333333333, 0.5, 0.5, 0.4666666666666667, 0.6333333333333333, 0.6666666666666666, 0.5333333333333333, 0.5666666666666667, 0.5666666666666667, 0.43333333333333335, 0.6, 0.6, 0.5666666666666667, 0.5, 0.5666666666666667, 0.6333333333333333, 0.6333333333333333, 0.4666666666666667, 0.43333333333333335, 0.36666666666666664, 0.5666666666666667, 0.5, 0.4, 0.5666666666666667, 0.4, 0.5333333333333333, 0.36666666666666664, 0.5, 0.43333333333333335, 0.6, 0.6, 0.43333333333333335, 0.7, 0.43333333333333335, 0.6, 0.4666666666666667, 0.4, 0.43333333333333335, 0.5666666666666667, 0.4, 0.5333333333333333, 0.4666666666666667, 0.5333333333333333, 0.5333333333333333, 0.4, 0.36666666666666664, 0.5333333333333333, 0.5, 0.5666666666666667, 0.4, 0.5666666666666667, 0.5666666666666667, 0.5333333333333333, 0.4666666666666667, 0.43333333333333335, 0.5, 0.43333333333333335, 0.5, 0.5666666666666667, 0.4666666666666667, 0.5666666666666667, 0.4666666666666667, 0.5666666666666667, 0.36666666666666664, 0.3333333333333333, 0.3, 0.3, 0.43333333333333335, 0.6666666666666666, 0.4666666666666667, 0.43333333333333335, 0.43333333333333335, 0.36666666666666664, 0.4666666666666667, 0.5333333333333333, 0.4, 0.6, 0.5666666666666667, 0.5, 0.43333333333333335, 0.7, 0.6666666666666666, 0.6, 0.6333333333333333, 0.36666666666666664, 0.7333333333333333, 0.5333333333333333, 0.36666666666666664, 0.26666666666666666, 0.4666666666666667, 0.7, 0.5, 0.6666666666666666, 0.5333333333333333, 0.5666666666666667, 0.5, 0.6666666666666666, 0.5, 0.5, 0.36666666666666664, 0.4666666666666667, 0.4, 0.4, 0.5, 0.43333333333333335, 0.5, 0.5666666666666667, 0.6333333333333333, 0.6666666666666666, 0.6666666666666666, 0.43333333333333335, 0.4, 0.4, 0.4666666666666667, 0.6333333333333333, 0.4666666666666667, 0.5333333333333333, 0.5333333333333333, 0.43333333333333335, 0.5, 0.5, 0.5, 0.7333333333333333, 0.3, 0.43333333333333335, 0.4666666666666667, 0.36666666666666664, 0.5333333333333333, 0.5666666666666667, 0.3333333333333333, 0.5333333333333333, 0.6, 0.36666666666666664, 0.6666666666666666, 0.5, 0.5666666666666667, 0.5333333333333333, 0.36666666666666664, 0.43333333333333335, 0.43333333333333335, 0.4666666666666667, 0.43333333333333335, 0.5333333333333333, 0.5333333333333333, 0.4666666666666667, 0.6, 0.5666666666666667, 0.4, 0.43333333333333335, 0.4666666666666667, 0.4666666666666667, 0.5, 0.5333333333333333, 0.6333333333333333, 0.6, 0.5333333333333333, 0.5, 0.3333333333333333, 0.4, 0.6333333333333333, 0.6, 0.6, 0.7, 0.43333333333333335, 0.43333333333333335, 0.5333333333333333, 0.3333333333333333, 0.5333333333333333, 0.4, 0.5, 0.6, 0.43333333333333335, 0.5, 0.6, 0.5333333333333333, 0.6, 0.43333333333333335, 0.6666666666666666, 0.43333333333333335, 0.5, 0.43333333333333335, 0.4, 0.5666666666666667, 0.4, 0.43333333333333335, 0.4666666666666667, 0.6333333333333333, 0.5666666666666667, 0.5666666666666667, 0.5333333333333333, 0.5, 0.43333333333333335, 0.5, 0.6, 0.6333333333333333, 0.36666666666666664, 0.5333333333333333, 0.5333333333333333, 0.36666666666666664, 0.5, 0.5666666666666667, 0.43333333333333335, 0.5, 0.43333333333333335, 0.6333333333333333, 0.5, 0.5, 0.6333333333333333, 0.6666666666666666, 0.5333333333333333, 0.26666666666666666, 0.4666666666666667, 0.4666666666666667, 0.5333333333333333, 0.5333333333333333, 0.4, 0.6, 0.6333333333333333, 0.5333333333333333, 0.5666666666666667, 0.43333333333333335, 0.6, 0.5333333333333333, 0.4666666666666667, 0.7, 0.5333333333333333, 0.4, 0.5666666666666667, 0.3333333333333333, 0.7, 0.3333333333333333, 0.5, 0.5, 0.5333333333333333, 0.5666666666666667, 0.4, 0.4666666666666667, 0.4666666666666667, 0.4666666666666667, 0.3333333333333333, 0.5333333333333333, 0.43333333333333335, 0.6666666666666666, 0.5, 0.4, 0.5666666666666667, 0.4666666666666667, 0.5666666666666667, 0.43333333333333335, 0.6, 0.5, 0.5666666666666667, 0.43333333333333335, 0.5, 0.43333333333333335, 0.5333333333333333, 0.43333333333333335, 0.43333333333333335, 0.4, 0.23333333333333334, 0.6666666666666666, 0.5666666666666667, 0.43333333333333335, 0.43333333333333335, 0.5666666666666667, 0.6666666666666666, 0.4, 0.5333333333333333, 0.4666666666666667, 0.5333333333333333, 0.36666666666666664, 0.5666666666666667, 0.5333333333333333, 0.6333333333333333, 0.6, 0.3333333333333333, 0.6, 0.3333333333333333, 0.5, 0.6, 0.5333333333333333, 0.6, 0.6333333333333333, 0.5333333333333333, 0.43333333333333335, 0.5333333333333333, 0.6, 0.36666666666666664, 0.5333333333333333, 0.5666666666666667, 0.43333333333333335, 0.4666666666666667, 0.36666666666666664, 0.4, 0.36666666666666664, 0.5, 0.5333333333333333, 0.4, 0.4, 0.4, 0.5666666666666667, 0.5666666666666667, 0.5666666666666667, 0.4666666666666667, 0.6333333333333333, 0.36666666666666664, 0.4, 0.5666666666666667, 0.5666666666666667, 0.5666666666666667, 0.3333333333333333, 0.5, 0.6, 0.6, 0.6333333333333333, 0.4, 0.5333333333333333, 0.4, 0.43333333333333335, 0.43333333333333335, 0.5333333333333333, 0.43333333333333335, 0.5666666666666667, 0.4, 0.4666666666666667, 0.43333333333333335, 0.43333333333333335, 0.5, 0.4, 0.5333333333333333, 0.4, 0.6333333333333333, 0.5333333333333333, 0.6333333333333333, 0.43333333333333335, 0.6333333333333333, 0.4, 0.06666666666666667, 0.5666666666666667, 0.5333333333333333, 0.36666666666666664, 0.43333333333333335, 0.4666666666666667, 0.7, 0.5333333333333333, 0.5333333333333333, 0.43333333333333335, 0.3333333333333333, 0.5, 0.6, 0.4666666666666667, 0.5, 0.43333333333333335, 0.43333333333333335, 0.5, 0.4666666666666667, 0.5666666666666667, 0.43333333333333335, 0.43333333333333335, 0.5666666666666667, 0.6333333333333333, 0.5333333333333333, 0.5333333333333333, 0.43333333333333335, 0.6, 0.5666666666666667, 0.5333333333333333, 0.43333333333333335, 0.4666666666666667, 0.43333333333333335, 0.6333333333333333, 0.43333333333333335, 0.5, 0.5333333333333333, 0.3333333333333333, 0.4666666666666667, 0.6666666666666666, 0.5666666666666667, 0.5666666666666667, 0.43333333333333335, 0.5666666666666667, 0.4666666666666667, 0.36666666666666664, 0.4666666666666667, 0.4, 0.43333333333333335, 0.5333333333333333, 0.5, 0.5333333333333333, 0.5, 0.36666666666666664, 0.43333333333333335, 0.43333333333333335, 0.5333333333333333, 0.5666666666666667, 0.4666666666666667, 0.4666666666666667, 0.36666666666666664, 0.6333333333333333, 0.4, 0.4, 0.6, 0.43333333333333335, 0.6, 0.5, 0.5, 0.3, 0.5, 0.4666666666666667, 0.5333333333333333, 0.6666666666666666, 0.4666666666666667, 0.6, 0.4666666666666667, 0.4, 0.6666666666666666, 0.6333333333333333, 0.5666666666666667, 0.4, 0.6, 0.43333333333333335, 0.3333333333333333, 0.3333333333333333, 0.4, 0.4, 0.4, 0.43333333333333335, 0.5, 0.5666666666666667, 0.3333333333333333, 0.5333333333333333, 0.6333333333333333, 0.5666666666666667, 0.5, 0.4666666666666667, 0.6, 0.5, 0.43333333333333335, 0.4, 0.4666666666666667, 0.7666666666666667, 0.4, 0.6333333333333333, 0.6333333333333333, 0.3333333333333333, 0.6, 0.4, 0.5, 0.4, 0.36666666666666664, 0.4666666666666667, 0.5, 0.5666666666666667, 0.43333333333333335, 0.4666666666666667, 0.5666666666666667, 0.6, 0.6, 0.7, 0.36666666666666664, 0.3, 0.5666666666666667, 0.4, 0.6666666666666666, 0.43333333333333335, 0.43333333333333335, 0.5, 0.5, 0.6666666666666666, 0.43333333333333335, 0.5333333333333333, 0.5, 0.6, 0.3333333333333333, 0.43333333333333335, 0.5666666666666667, 0.4666666666666667, 0.4, 0.5, 0.5, 0.5333333333333333, 0.36666666666666664, 0.6, 0.43333333333333335, 0.5, 0.5, 0.36666666666666664, 0.5666666666666667, 0.4666666666666667, 0.6, 0.5333333333333333, 0.6333333333333333, 0.6, 0.6333333333333333, 0.5333333333333333, 0.5333333333333333, 0.5333333333333333, 0.4, 0.36666666666666664, 0.6, 0.7666666666666667, 0.43333333333333335, 0.43333333333333335, 0.4666666666666667, 0.5, 0.2, 0.43333333333333335, 0.43333333333333335, 0.4666666666666667, 0.36666666666666664, 0.6, 0.5, 0.43333333333333335, 0.4666666666666667, 0.5333333333333333, 0.6, 0.43333333333333335, 0.5333333333333333, 0.5666666666666667, 0.5, 0.5666666666666667, 0.5, 0.5666666666666667, 0.5, 0.5333333333333333, 0.6, 0.36666666666666664, 0.5, 0.5333333333333333, 0.43333333333333335, 0.5666666666666667, 0.5333333333333333, 0.4666666666666667, 0.4666666666666667, 0.6333333333333333, 0.5, 0.6, 0.7, 0.4666666666666667, 0.6, 0.4666666666666667, 0.43333333333333335, 0.36666666666666664, 0.5666666666666667, 0.6, 0.5333333333333333, 0.3333333333333333, 0.5666666666666667, 0.5666666666666667, 0.36666666666666664, 0.5, 0.5666666666666667, 0.4666666666666667, 0.4, 0.6, 0.5, 0.5333333333333333, 0.4, 0.5, 0.5666666666666667, 0.5, 0.6, 0.3333333333333333, 0.5, 0.4666666666666667, 0.4666666666666667, 0.36666666666666664, 0.6, 0.4666666666666667, 0.36666666666666664, 0.5666666666666667, 0.6666666666666666, 0.4, 0.5333333333333333, 0.3333333333333333, 0.5, 0.5333333333333333, 0.43333333333333335, 0.6, 0.4, 0.43333333333333335, 0.36666666666666664, 0.36666666666666664, 0.36666666666666664, 0.5666666666666667, 0.5, 0.4666666666666667, 0.4666666666666667, 0.43333333333333335, 0.4, 0.5333333333333333, 0.6333333333333333, 0.36666666666666664, 0.43333333333333335, 0.5, 0.4, 0.5, 0.6666666666666666, 0.6, 0.5, 0.43333333333333335, 0.4, 0.5, 0.5333333333333333, 0.3333333333333333, 0.6, 0.5, 0.5, 0.5, 0.5666666666666667, 0.7666666666666667, 0.6, 0.5333333333333333, 0.5333333333333333, 0.4666666666666667, 0.5, 0.3, 0.6, 0.36666666666666664, 0.3, 0.36666666666666664, 0.43333333333333335, 0.5333333333333333, 0.5, 0.5666666666666667, 0.5666666666666667, 0.3, 0.6333333333333333, 0.6666666666666666, 0.3333333333333333, 0.5666666666666667, 0.43333333333333335, 0.4, 0.4, 0.5, 0.4666666666666667, 0.5666666666666667, 0.6666666666666666, 0.4, 0.6333333333333333, 0.36666666666666664, 0.6, 0.43333333333333335, 0.6666666666666666, 0.26666666666666666, 0.6333333333333333, 0.4666666666666667, 0.4666666666666667, 0.43333333333333335, 0.43333333333333335, 0.5, 0.5666666666666667, 0.5666666666666667, 0.4, 0.4, 0.5333333333333333, 0.5, 0.6, 0.5, 0.6666666666666666, 0.4666666666666667, 0.5, 0.6333333333333333, 0.6, 0.5333333333333333, 0.43333333333333335, 0.5, 0.5, 0.4666666666666667, 0.4666666666666667, 0.5, 0.4666666666666667, 0.5, 0.6333333333333333, 0.5666666666666667, 0.5333333333333333, 0.6333333333333333, 0.3, 0.5666666666666667, 0.4666666666666667, 0.4, 0.5666666666666667, 0.4666666666666667, 0.5, 0.4666666666666667, 0.4666666666666667, 0.5, 0.6, 0.4666666666666667, 0.5666666666666667, 0.5, 0.5, 0.5, 0.5666666666666667, 0.5666666666666667, 0.36666666666666664, 0.5666666666666667, 0.5, 0.43333333333333335, 0.4666666666666667, 0.5333333333333333, 0.5666666666666667, 0.5333333333333333, 0.5333333333333333, 0.5666666666666667, 0.43333333333333335, 0.5, 0.5333333333333333, 0.5, 0.6333333333333333, 0.5666666666666667, 0.6333333333333333, 0.5333333333333333, 0.5, 0.6666666666666666, 0.5333333333333333, 0.6333333333333333, 0.5, 0.5, 0.4, 0.4666666666666667, 0.5333333333333333, 0.4666666666666667, 0.4, 0.5333333333333333, 0.43333333333333335, 0.5, 0.5, 0.5666666666666667, 0.43333333333333335, 0.4666666666666667, 0.4, 0.43333333333333335, 0.6, 0.4666666666666667, 0.6666666666666666, 0.4666666666666667, 0.5666666666666667, 0.4, 0.4666666666666667, 0.4666666666666667, 0.5333333333333333, 0.7666666666666667, 0.4666666666666667, 0.3333333333333333, 0.6333333333333333, 0.4, 0.5, 0.43333333333333335, 0.36666666666666664, 0.4666666666666667, 0.6333333333333333, 0.6333333333333333, 0.6, 0.5, 0.6, 0.4, 0.36666666666666664, 0.5666666666666667, 0.6, 0.6333333333333333, 0.4666666666666667, 0.6333333333333333, 0.5333333333333333, 0.4666666666666667, 0.5, 0.4666666666666667, 0.5, 0.5333333333333333, 0.4, 0.5666666666666667, 0.6, 0.36666666666666664, 0.5666666666666667, 0.6333333333333333, 0.43333333333333335, 0.36666666666666664, 0.43333333333333335, 0.6333333333333333, 0.4, 0.3333333333333333, 0.6333333333333333, 0.5, 0.6, 0.4, 0.4666666666666667, 0.26666666666666666, 0.5, 0.6666666666666666, 0.5666666666666667, 0.5333333333333333, 0.6, 0.5333333333333333, 0.3333333333333333, 0.4666666666666667, 0.5, 0.5333333333333333, 0.5, 0.5333333333333333, 0.43333333333333335, 0.4666666666666667, 0.4, 0.5333333333333333, 0.43333333333333335, 0.6, 0.5333333333333333, 0.36666666666666664, 0.6, 0.4, 0.5333333333333333, 0.43333333333333335, 0.6, 0.5, 0.36666666666666664, 0.4666666666666667, 0.36666666666666664, 0.43333333333333335, 0.5666666666666667, 0.3333333333333333, 0.6, 0.4666666666666667, 0.43333333333333335, 0.6333333333333333, 0.6, 0.36666666666666664, 0.5333333333333333, 0.6, 0.4666666666666667, 0.4666666666666667, 0.4666666666666667, 0.4666666666666667, 0.4666666666666667, 0.36666666666666664, 0.4, 0.43333333333333335, 0.7, 0.5333333333333333, 0.5333333333333333, 0.5333333333333333, 0.5333333333333333, 0.6333333333333333, 0.5, 0.6333333333333333, 0.43333333333333335, 0.5333333333333333, 0.4, 0.43333333333333335, 0.4666666666666667, 0.5, 0.4666666666666667, 0.5, 0.5, 0.5333333333333333, 0.5666666666666667, 0.5666666666666667, 0.5, 0.4, 0.6333333333333333, 0.4666666666666667, 0.6, 0.4666666666666667, 0.36666666666666664, 0.6333333333333333, 0.6333333333333333, 0.5, 0.6, 0.3333333333333333, 0.43333333333333335, 0.5666666666666667, 0.3333333333333333, 0.5, 0.5, 0.6666666666666666, 0.4666666666666667, 0.3333333333333333, 0.5666666666666667, 0.5, 0.6, 0.43333333333333335, 0.5333333333333333, 0.5, 0.36666666666666664, 0.5, 0.3333333333333333, 0.4666666666666667, 0.6, 0.5666666666666667, 0.5, 0.5333333333333333, 0.5333333333333333, 0.4, 0.5666666666666667, 0.5, 0.7, 0.4666666666666667, 0.36666666666666664, 0.4666666666666667, 0.3333333333333333, 0.4, 0.4666666666666667, 0.6, 0.5333333333333333, 0.5666666666666667, 0.5333333333333333, 0.4666666666666667, 0.5666666666666667, 0.4666666666666667, 0.36666666666666664, 0.4666666666666667, 0.7333333333333333, 0.6333333333333333, 0.5333333333333333, 0.5333333333333333, 0.4666666666666667, 0.5333333333333333, 0.5333333333333333, 0.5666666666666667, 0.5666666666666667, 0.4, 0.5333333333333333, 0.5, 0.4666666666666667, 0.5333333333333333, 0.43333333333333335, 0.5666666666666667, 0.36666666666666664, 0.5, 0.4666666666666667, 0.5, 0.6333333333333333, 0.4666666666666667, 0.43333333333333335, 0.36666666666666664, 0.5333333333333333, 0.6, 0.4666666666666667, 0.6333333333333333, 0.43333333333333335, 0.4666666666666667, 0.5, 0.6, 0.43333333333333335, 0.5, 0.6333333333333333, 0.5333333333333333, 0.36666666666666664, 0.4666666666666667, 0.43333333333333335, 0.5666666666666667, 0.5333333333333333, 0.6666666666666666, 0.4666666666666667, 0.6333333333333333, 0.5, 0.36666666666666664, 0.4, 0.36666666666666664, 0.5, 0.5333333333333333, 0.5333333333333333, 0.5666666666666667, 0.5, 0.3, 0.43333333333333335, 0.5, 0.5333333333333333, 0.4666666666666667, 0.4, 0.5333333333333333, 0.6666666666666666, 0.5666666666666667, 0.4666666666666667, 0.4666666666666667, 0.5666666666666667, 0.43333333333333335, 0.4666666666666667, 0.4666666666666667, 0.5666666666666667, 0.5, 0.4, 0.3333333333333333, 0.4666666666666667, 0.6, 0.5666666666666667, 0.4666666666666667, 0.5333333333333333, 0.5666666666666667, 0.3, 0.5666666666666667, 0.4666666666666667, 0.5333333333333333, 0.4666666666666667, 0.5, 0.6666666666666666, 0.4666666666666667, 0.5, 0.5, 0.5333333333333333, 0.4, 0.43333333333333335, 0.4, 0.6, 0.4, 0.6, 0.5, 0.6, 0.43333333333333335, 0.5, 0.4, 0.43333333333333335, 0.5666666666666667, 0.36666666666666664, 0.7, 0.5333333333333333, 0.5333333333333333, 0.4, 0.43333333333333335, 0.3333333333333333, 0.5, 0.5333333333333333, 0.4666666666666667, 0.6, 0.6, 0.5333333333333333, 0.5, 0.6666666666666666, 0.36666666666666664, 0.7333333333333333, 0.5, 0.5333333333333333, 0.4666666666666667, 0.6, 0.5333333333333333, 0.6666666666666666, 0.4, 0.6, 0.6666666666666666, 0.6, 0.5666666666666667, 0.5, 0.5333333333333333, 0.36666666666666664, 0.4, 0.6333333333333333, 0.7333333333333333, 0.5666666666666667, 0.43333333333333335, 0.5666666666666667, 0.4, 0.5666666666666667, 0.5333333333333333, 0.36666666666666664, 0.5666666666666667, 0.5, 0.5333333333333333, 0.4666666666666667, 0.6, 0.7333333333333333, 0.5666666666666667, 0.3333333333333333, 0.6333333333333333, 0.5, 0.6333333333333333, 0.5333333333333333, 0.4, 0.6, 0.5666666666666667, 0.5666666666666667, 0.36666666666666664, 0.5666666666666667, 0.43333333333333335, 0.3333333333333333, 0.5333333333333333, 0.4, 0.43333333333333335, 0.5333333333333333, 0.5, 0.5333333333333333, 0.5333333333333333, 0.36666666666666664, 0.43333333333333335, 0.23333333333333334, 0.7, 0.4, 0.5333333333333333, 0.3, 0.36666666666666664, 0.6, 0.4, 0.4, 0.36666666666666664, 0.5666666666666667, 0.7333333333333333, 0.4666666666666667, 0.5666666666666667, 0.36666666666666664, 0.4, 0.5, 0.4, 0.36666666666666664, 0.4, 0.3333333333333333, 0.5333333333333333, 0.26666666666666666, 0.5, 0.5333333333333333, 0.36666666666666664, 0.6333333333333333, 0.4666666666666667, 0.5666666666666667, 0.5, 0.5666666666666667, 0.4, 0.4666666666666667, 0.43333333333333335, 0.6, 0.5666666666666667, 0.43333333333333335, 0.6, 0.5333333333333333, 0.4666666666666667, 0.6333333333333333, 0.43333333333333335, 0.5666666666666667, 0.4, 0.6333333333333333, 0.43333333333333335, 0.6, 0.6333333333333333, 0.5333333333333333, 0.5, 0.4666666666666667, 0.6, 0.26666666666666666, 0.4, 0.3333333333333333, 0.5333333333333333, 0.3333333333333333, 0.5, 0.43333333333333335, 0.5333333333333333, 0.5666666666666667, 0.5333333333333333, 0.36666666666666664, 0.3333333333333333, 0.26666666666666666, 0.3333333333333333, 0.3333333333333333, 0.6, 0.4666666666666667, 0.4, 0.36666666666666664, 0.5, 0.43333333333333335, 0.4666666666666667, 0.4, 0.4, 0.5333333333333333, 0.5, 0.5, 0.6, 0.43333333333333335, 0.5333333333333333, 0.43333333333333335, 0.7, 0.5, 0.5, 0.43333333333333335, 0.5, 0.6, 0.4666666666666667, 0.43333333333333335, 0.43333333333333335, 0.6, 0.36666666666666664, 0.6, 0.5333333333333333, 0.26666666666666666, 0.4666666666666667, 0.4666666666666667, 0.4, 0.4, 0.6666666666666666, 0.4666666666666667, 0.3333333333333333, 0.5, 0.36666666666666664, 0.5333333333333333, 0.4, 0.5333333333333333, 0.6, 0.5666666666666667, 0.43333333333333335, 0.43333333333333335, 0.5333333333333333, 0.36666666666666664, 0.5, 0.5333333333333333, 0.4666666666666667, 0.5, 0.5, 0.6, 0.5, 0.4, 0.4, 0.4666666666666667, 0.5, 0.6333333333333333, 0.5666666666666667, 0.4666666666666667, 0.6333333333333333, 0.43333333333333335, 0.4666666666666667, 0.4666666666666667, 0.43333333333333335, 0.5, 0.4666666666666667, 0.6333333333333333, 0.36666666666666664, 0.6666666666666666, 0.5666666666666667, 0.4666666666666667, 0.5, 0.3, 0.36666666666666664, 0.6, 0.4, 0.6, 0.43333333333333335, 0.5333333333333333, 0.6, 0.3333333333333333, 0.43333333333333335, 0.6666666666666666, 0.43333333333333335, 0.5, 0.5333333333333333, 0.4666666666666667, 0.5, 0.5666666666666667, 0.5, 0.43333333333333335, 0.4, 0.5, 0.6, 0.5333333333333333, 0.5333333333333333, 0.43333333333333335, 0.36666666666666664, 0.5, 0.43333333333333335, 0.23333333333333334, 0.36666666666666664, 0.4666666666666667, 0.5666666666666667, 0.43333333333333335, 0.36666666666666664, 0.5, 0.5333333333333333, 0.5666666666666667, 0.5333333333333333, 0.3, 0.6, 0.4, 0.3, 0.5, 0.43333333333333335, 0.5666666666666667, 0.7, 0.4666666666666667, 0.6666666666666666, 0.4, 0.5666666666666667, 0.5, 0.5333333333333333, 0.4666666666666667, 0.43333333333333335, 0.6333333333333333, 0.5666666666666667, 0.4, 0.5, 0.36666666666666664, 0.43333333333333335, 0.5666666666666667, 0.36666666666666664, 0.5, 0.5, 0.4666666666666667, 0.4, 0.6666666666666666, 0.43333333333333335, 0.4, 0.5333333333333333, 0.6333333333333333, 0.6666666666666666, 0.43333333333333335, 0.36666666666666664, 0.5666666666666667, 0.36666666666666664, 0.4666666666666667, 0.5, 0.4, 0.6666666666666666, 0.5333333333333333, 0.5333333333333333, 0.43333333333333335, 0.36666666666666664, 0.5666666666666667, 0.5333333333333333, 0.4666666666666667, 0.43333333333333335, 0.36666666666666664, 0.5, 0.4, 0.6, 0.5333333333333333, 0.4, 0.4666666666666667, 0.4666666666666667, 0.6, 0.6, 0.43333333333333335, 0.36666666666666664, 0.6, 0.5333333333333333, 0.6666666666666666, 0.5, 0.5333333333333333, 0.5666666666666667, 0.5333333333333333, 0.5, 0.3, 0.43333333333333335, 0.6333333333333333, 0.4, 0.5333333333333333, 0.6666666666666666, 0.36666666666666664, 0.4666666666666667, 0.4666666666666667, 0.5333333333333333, 0.5, 0.4666666666666667, 0.5333333333333333, 0.5, 0.3333333333333333, 0.5333333333333333, 0.43333333333333335, 0.43333333333333335, 0.5, 0.5666666666666667, 0.5, 0.4666666666666667, 0.4, 0.5666666666666667, 0.3, 0.43333333333333335, 0.5, 0.5666666666666667, 0.43333333333333335, 0.4666666666666667, 0.43333333333333335, 0.5, 0.5666666666666667, 0.6, 0.4666666666666667, 0.5, 0.4, 0.7, 0.4666666666666667, 0.4, 0.5333333333333333, 0.5, 0.5, 0.5333333333333333, 0.43333333333333335, 0.43333333333333335, 0.4, 0.4666666666666667, 0.4666666666666667, 0.4, 0.43333333333333335, 0.43333333333333335, 0.5666666666666667, 0.4666666666666667, 0.6, 0.43333333333333335, 0.6333333333333333, 0.4, 0.43333333333333335, 0.36666666666666664, 0.5, 0.6, 0.4666666666666667, 0.5333333333333333, 0.6333333333333333, 0.43333333333333335, 0.43333333333333335, 0.5333333333333333, 0.3, 0.4666666666666667, 0.4, 0.4, 0.6, 0.5333333333333333, 0.5333333333333333, 0.3333333333333333, 0.5333333333333333, 0.5, 0.4, 0.5333333333333333, 0.6333333333333333, 0.5666666666666667, 0.6333333333333333, 0.6333333333333333, 0.36666666666666664, 0.5666666666666667, 0.43333333333333335, 0.5666666666666667, 0.4666666666666667, 0.4666666666666667, 0.43333333333333335, 0.5666666666666667, 0.7333333333333333, 0.7, 0.5, 0.4, 0.5, 0.4, 0.6, 0.6, 0.43333333333333335, 0.5333333333333333, 0.5, 0.5, 0.4, 0.36666666666666664, 0.36666666666666664, 0.4666666666666667, 0.5333333333333333, 0.4666666666666667, 0.4666666666666667, 0.6, 0.5333333333333333, 0.5333333333333333, 0.5, 0.43333333333333335, 0.5, 0.36666666666666664, 0.5, 0.5666666666666667, 0.43333333333333335, 0.36666666666666664, 0.3333333333333333, 0.6, 0.5666666666666667, 0.4666666666666667, 0.5666666666666667, 0.4666666666666667, 0.5333333333333333, 0.6, 0.36666666666666664, 0.5666666666666667, 0.5666666666666667, 0.5, 0.4666666666666667, 0.5, 0.5666666666666667, 0.43333333333333335, 0.43333333333333335, 0.4666666666666667, 0.4666666666666667, 0.26666666666666666, 0.5666666666666667, 0.5666666666666667, 0.5, 0.6333333333333333, 0.5666666666666667, 0.5333333333333333, 0.6, 0.5333333333333333, 0.5333333333333333, 0.5, 0.6, 0.6333333333333333, 0.43333333333333335, 0.4666666666666667, 0.43333333333333335, 0.5, 0.5666666666666667, 0.4666666666666667, 0.4, 0.5, 0.5666666666666667, 0.3333333333333333, 0.6, 0.5666666666666667, 0.5333333333333333, 0.5333333333333333, 0.3, 0.4666666666666667, 0.5, 0.5333333333333333, 0.5333333333333333, 0.3, 0.5, 0.5333333333333333, 0.5666666666666667, 0.4666666666666667, 0.5, 0.5666666666666667, 0.4, 0.43333333333333335, 0.4, 0.7, 0.5333333333333333, 0.6, 0.5, 0.4666666666666667, 0.4666666666666667, 0.4666666666666667, 0.43333333333333335, 0.5333333333333333, 0.5666666666666667, 0.36666666666666664, 0.5666666666666667, 0.3333333333333333, 0.5, 0.43333333333333335, 0.5666666666666667, 0.43333333333333335, 0.4, 0.4666666666666667, 0.6333333333333333, 0.4666666666666667, 0.5, 0.5, 0.4666666666666667, 0.4666666666666667, 0.6, 0.5666666666666667, 0.5, 0.6666666666666666, 0.5, 0.43333333333333335, 0.43333333333333335, 0.5333333333333333, 0.4666666666666667, 0.4, 0.5333333333333333, 0.4, 0.4666666666666667, 0.5666666666666667, 0.6333333333333333, 0.36666666666666664, 0.5, 0.4, 0.5333333333333333, 0.3333333333333333, 0.4666666666666667, 0.5666666666666667, 0.43333333333333335, 0.5, 0.43333333333333335, 0.5, 0.7333333333333333, 0.6, 0.5, 0.6666666666666666, 0.4, 0.4, 0.5666666666666667, 0.6, 0.5, 0.7, 0.43333333333333335, 0.4, 0.5666666666666667, 0.6, 0.5333333333333333, 0.4, 0.6, 0.6333333333333333, 0.3333333333333333, 0.43333333333333335, 0.5333333333333333, 0.5333333333333333, 0.5666666666666667, 0.5333333333333333, 0.6, 0.5333333333333333, 0.4, 0.7666666666666667, 0.4666666666666667, 0.5, 0.4, 0.4666666666666667, 0.4666666666666667, 0.4, 0.7, 0.5666666666666667, 0.5, 0.4666666666666667, 0.43333333333333335, 0.5333333333333333, 0.5, 0.4, 0.43333333333333335, 0.6, 0.5333333333333333, 0.7666666666666667, 0.6333333333333333, 0.5333333333333333, 0.43333333333333335, 0.36666666666666664, 0.4, 0.5666666666666667, 0.6, 0.4666666666666667, 0.5333333333333333, 0.3333333333333333, 0.5, 0.4666666666666667, 0.5666666666666667, 0.43333333333333335, 0.5333333333333333, 0.36666666666666664, 0.4666666666666667, 0.4666666666666667, 0.4666666666666667, 0.5333333333333333, 0.5666666666666667, 0.36666666666666664, 0.6333333333333333, 0.4666666666666667, 0.36666666666666664, 0.5666666666666667, 0.4, 0.5, 0.5666666666666667, 0.7, 0.4, 0.5666666666666667, 0.5333333333333333, 0.7333333333333333, 0.43333333333333335, 0.26666666666666666, 0.5333333333333333, 0.5666666666666667, 0.6, 0.4666666666666667, 0.5, 0.43333333333333335, 0.6666666666666666, 0.4, 0.5333333333333333, 0.5, 0.5666666666666667, 0.4, 0.4666666666666667, 0.7, 0.5666666666666667, 0.5333333333333333, 0.5666666666666667, 0.4, 0.43333333333333335, 0.5333333333333333, 0.3333333333333333, 0.5, 0.5333333333333333, 0.4666666666666667, 0.5333333333333333, 0.4666666666666667, 0.6, 0.4666666666666667, 0.6333333333333333, 0.43333333333333335, 0.3333333333333333, 0.4666666666666667, 0.4, 0.5, 0.4, 0.7, 0.36666666666666664, 0.5666666666666667, 0.4, 0.5333333333333333, 0.4666666666666667, 0.5666666666666667, 0.43333333333333335, 0.43333333333333335, 0.5333333333333333, 0.4, 0.5, 0.6, 0.5666666666666667, 0.43333333333333335, 0.5333333333333333, 0.5, 0.5333333333333333, 0.5, 0.6, 0.5666666666666667, 0.5666666666666667, 0.5666666666666667, 0.43333333333333335, 0.5333333333333333, 0.5333333333333333, 0.5, 0.36666666666666664, 0.43333333333333335, 0.4, 0.7, 0.43333333333333335, 0.4666666666666667, 0.5, 0.6666666666666666, 0.5666666666666667, 0.5333333333333333, 0.4666666666666667, 0.5333333333333333, 0.4666666666666667, 0.43333333333333335, 0.6, 0.36666666666666664, 0.5666666666666667, 0.5666666666666667, 0.4666666666666667, 0.3333333333333333, 0.4666666666666667, 0.26666666666666666, 0.43333333333333335, 0.5666666666666667, 0.4, 0.5, 0.4666666666666667, 0.5, 0.4, 0.5, 0.4666666666666667, 0.43333333333333335, 0.5, 0.43333333333333335, 0.43333333333333335, 0.43333333333333335, 0.36666666666666664, 0.6666666666666666, 0.5666666666666667, 0.5333333333333333, 0.5, 0.7, 0.4, 0.43333333333333335, 0.6, 0.43333333333333335, 0.6333333333333333, 0.6, 0.5333333333333333, 0.5666666666666667, 0.6, 0.5333333333333333, 0.4666666666666667, 0.36666666666666664, 0.6333333333333333, 0.5, 0.5333333333333333, 0.5666666666666667, 0.5666666666666667, 0.43333333333333335, 0.36666666666666664, 0.36666666666666664, 0.5, 0.5666666666666667, 0.6666666666666666, 0.5666666666666667, 0.7, 0.5666666666666667, 0.43333333333333335, 0.5333333333333333, 0.4666666666666667, 0.43333333333333335, 0.36666666666666664, 0.6, 0.5666666666666667, 0.5, 0.36666666666666664, 0.43333333333333335, 0.5, 0.6333333333333333, 0.4, 0.5333333333333333, 0.5, 0.5666666666666667, 0.5666666666666667, 0.43333333333333335, 0.6, 0.5, 0.5333333333333333, 0.5, 0.5333333333333333, 0.6666666666666666, 0.5333333333333333, 0.43333333333333335, 0.6, 0.5333333333333333, 0.5333333333333333, 0.5, 0.4666666666666667, 0.36666666666666664, 0.4, 0.4, 0.43333333333333335, 0.6, 0.4, 0.5333333333333333, 0.3, 0.5666666666666667, 0.6333333333333333, 0.5333333333333333, 0.5333333333333333, 0.5666666666666667, 0.5666666666666667, 0.4666666666666667, 0.5, 0.4, 0.5333333333333333, 0.43333333333333335, 0.5333333333333333, 0.43333333333333335, 0.36666666666666664, 0.4, 0.5, 0.5, 0.5333333333333333, 0.6, 0.5, 0.43333333333333335, 0.4666666666666667, 0.43333333333333335, 0.43333333333333335, 0.4666666666666667, 0.5, 0.5333333333333333, 0.5, 0.5, 0.7333333333333333, 0.5, 0.5666666666666667, 0.5, 0.5333333333333333, 0.5, 0.43333333333333335, 0.43333333333333335, 0.3, 0.43333333333333335, 0.6333333333333333, 0.5, 0.5666666666666667, 0.6333333333333333, 0.5, 0.4666666666666667, 0.4666666666666667, 0.7, 0.5, 0.3, 0.3333333333333333, 0.36666666666666664, 0.5333333333333333, 0.5333333333333333, 0.4666666666666667, 0.3333333333333333, 0.4666666666666667, 0.4666666666666667, 0.5333333333333333, 0.6333333333333333, 0.5, 0.36666666666666664, 0.4, 0.6333333333333333, 0.5, 0.6, 0.4666666666666667, 0.6, 0.43333333333333335, 0.5333333333333333, 0.5333333333333333, 0.4666666666666667, 0.43333333333333335, 0.4, 0.23333333333333334, 0.5, 0.6, 0.36666666666666664, 0.5333333333333333, 0.6, 0.4, 0.4, 0.26666666666666666, 0.36666666666666664, 0.5666666666666667, 0.6, 0.6333333333333333, 0.4666666666666667, 0.5, 0.4666666666666667, 0.36666666666666664, 0.43333333333333335, 0.6666666666666666, 0.6333333333333333, 0.6333333333333333, 0.5666666666666667, 0.5, 0.5333333333333333, 0.4666666666666667, 0.4, 0.4666666666666667, 0.5, 0.43333333333333335, 0.5666666666666667, 0.6, 0.6333333333333333, 0.5, 0.5, 0.4666666666666667, 0.6, 0.4666666666666667, 0.6, 0.6, 0.6, 0.43333333333333335, 0.5666666666666667, 0.5666666666666667, 0.6, 0.4666666666666667, 0.4, 0.5333333333333333, 0.43333333333333335, 0.6666666666666666, 0.5, 0.6, 0.6666666666666666, 0.5333333333333333, 0.43333333333333335, 0.5333333333333333, 0.5666666666666667, 0.5666666666666667, 0.43333333333333335, 0.5666666666666667, 0.5666666666666667, 0.4, 0.5333333333333333, 0.4, 0.4666666666666667, 0.5333333333333333, 0.4666666666666667, 0.5333333333333333, 0.4666666666666667, 0.4666666666666667, 0.4666666666666667, 0.5333333333333333, 0.3333333333333333, 0.5333333333333333, 0.4, 0.43333333333333335, 0.6666666666666666, 0.43333333333333335, 0.4666666666666667, 0.5, 0.5333333333333333, 0.36666666666666664, 0.3, 0.6, 0.4, 0.5666666666666667, 0.5333333333333333, 0.5666666666666667, 0.5333333333333333, 0.5, 0.36666666666666664, 0.4666666666666667, 0.6666666666666666, 0.6333333333333333, 0.6333333333333333, 0.36666666666666664, 0.5333333333333333, 0.4, 0.5666666666666667, 0.43333333333333335, 0.5, 0.5333333333333333, 0.4, 0.5, 0.5, 0.5333333333333333, 0.5666666666666667, 0.4666666666666667, 0.5, 0.4666666666666667, 0.5333333333333333, 0.5, 0.3333333333333333, 0.5333333333333333, 0.6, 0.3333333333333333, 0.43333333333333335, 0.43333333333333335, 0.5666666666666667, 0.6333333333333333, 0.6333333333333333, 0.4, 0.5, 0.43333333333333335, 0.3, 0.5666666666666667, 0.5666666666666667, 0.4666666666666667, 0.6, 0.43333333333333335, 0.5, 0.43333333333333335, 0.4666666666666667, 0.4666666666666667, 0.4, 0.5666666666666667, 0.4666666666666667, 0.5333333333333333, 0.6, 0.26666666666666666, 0.4, 0.5666666666666667, 0.36666666666666664, 0.5, 0.5, 0.5333333333333333, 0.6333333333333333, 0.5, 0.5666666666666667, 0.5666666666666667, 0.5333333333333333, 0.5333333333333333, 0.5, 0.6333333333333333, 0.5, 0.6, 0.4666666666666667, 0.5, 0.5, 0.5333333333333333, 0.4666666666666667, 0.5333333333333333, 0.4666666666666667, 0.43333333333333335, 0.5333333333333333, 0.5333333333333333, 0.5666666666666667, 0.4, 0.43333333333333335, 0.43333333333333335, 0.6, 0.4666666666666667, 0.4666666666666667, 0.6, 0.5333333333333333, 0.43333333333333335, 0.6333333333333333, 0.4, 0.26666666666666666, 0.6666666666666666, 0.5333333333333333, 0.43333333333333335, 0.5333333333333333, 0.3333333333333333, 0.43333333333333335, 0.5333333333333333, 0.36666666666666664, 0.4, 0.5333333333333333, 0.4, 0.5333333333333333, 0.5666666666666667, 0.6333333333333333, 0.5666666666666667, 0.5, 0.5333333333333333, 0.6333333333333333, 0.4666666666666667, 0.5333333333333333, 0.6, 0.6666666666666666, 0.5666666666666667, 0.5, 0.3333333333333333, 0.4, 0.4, 0.5333333333333333, 0.4666666666666667, 0.4, 0.43333333333333335, 0.43333333333333335, 0.43333333333333335, 0.7, 0.7, 0.5666666666666667, 0.36666666666666664, 0.5, 0.5, 0.3333333333333333, 0.43333333333333335, 0.4, 0.5333333333333333, 0.36666666666666664, 0.5666666666666667, 0.3333333333333333, 0.5666666666666667, 0.5, 0.6666666666666666, 0.43333333333333335, 0.5333333333333333, 0.5666666666666667, 0.6, 0.43333333333333335, 0.6666666666666666, 0.5, 0.5333333333333333, 0.6, 0.6, 0.36666666666666664, 0.5, 0.4666666666666667, 0.5666666666666667, 0.5666666666666667, 0.36666666666666664, 0.5, 0.4666666666666667, 0.36666666666666664, 0.43333333333333335, 0.4666666666666667, 0.36666666666666664, 0.4, 0.5333333333333333, 0.4, 0.43333333333333335, 0.5666666666666667, 0.3333333333333333, 0.4666666666666667, 0.6, 0.43333333333333335, 0.6333333333333333, 0.6, 0.4666666666666667, 0.4, 0.4666666666666667, 0.5666666666666667, 0.6666666666666666, 0.43333333333333335, 0.43333333333333335, 0.5333333333333333, 0.4666666666666667, 0.5, 0.6, 0.5333333333333333, 0.5, 0.4666666666666667, 0.4666666666666667, 0.4666666666666667, 0.4666666666666667, 0.5333333333333333, 0.6333333333333333, 0.5, 0.5333333333333333, 0.5333333333333333, 0.5333333333333333, 0.5666666666666667, 0.43333333333333335, 0.6, 0.6333333333333333, 0.5333333333333333, 0.5, 0.4666666666666667, 0.43333333333333335, 0.4666666666666667, 0.4, 0.5, 0.5333333333333333, 0.6, 0.5333333333333333, 0.5, 0.6666666666666666, 0.5333333333333333, 0.5, 0.5333333333333333, 0.5666666666666667, 0.7333333333333333, 0.5666666666666667, 0.5333333333333333, 0.6666666666666666, 0.43333333333333335, 0.5666666666666667, 0.3, 0.4, 0.7333333333333333, 0.5333333333333333, 0.6, 0.4666666666666667, 0.4666666666666667, 0.6, 0.5, 0.4666666666666667, 0.36666666666666664, 0.5666666666666667, 0.5333333333333333, 0.7666666666666667, 0.43333333333333335, 0.6333333333333333, 0.5, 0.4666666666666667, 0.5333333333333333, 0.3333333333333333, 0.4, 0.43333333333333335, 0.43333333333333335, 0.5, 0.5666666666666667, 0.5666666666666667, 0.4666666666666667, 0.5666666666666667, 0.4666666666666667, 0.43333333333333335, 0.4, 0.6333333333333333, 0.5, 0.43333333333333335, 0.6, 0.43333333333333335, 0.5333333333333333, 0.4666666666666667, 0.5333333333333333, 0.36666666666666664, 0.43333333333333335, 0.5333333333333333, 0.4, 0.4, 0.3333333333333333, 0.5666666666666667, 0.4, 0.5, 0.5333333333333333, 0.4, 0.5333333333333333, 0.4, 0.36666666666666664, 0.4, 0.6, 0.5, 0.5333333333333333, 0.6, 0.6666666666666666, 0.5666666666666667, 0.6333333333333333, 0.4666666666666667, 0.4, 0.5333333333333333, 0.5666666666666667, 0.5333333333333333, 0.4666666666666667, 0.4666666666666667, 0.4666666666666667, 0.4, 0.4666666666666667, 0.43333333333333335, 0.4666666666666667, 0.5333333333333333, 0.6, 0.4, 0.5, 0.5333333333333333, 0.5666666666666667, 0.4666666666666667, 0.43333333333333335, 0.4666666666666667, 0.36666666666666664, 0.6333333333333333, 0.4, 0.4666666666666667, 0.6, 0.36666666666666664, 0.5333333333333333, 0.6, 0.4666666666666667, 0.6333333333333333, 0.6333333333333333, 0.5333333333333333, 0.4666666666666667, 0.4666666666666667, 0.4, 0.4666666666666667, 0.5333333333333333, 0.4, 0.4666666666666667, 0.43333333333333335, 0.5333333333333333, 0.6, 0.5, 0.4666666666666667, 0.43333333333333335, 0.5666666666666667, 0.5333333333333333, 0.4, 0.5, 0.4, 0.4666666666666667, 0.5333333333333333, 0.4, 0.6, 0.6333333333333333, 0.4666666666666667, 0.4666666666666667, 0.5666666666666667, 0.36666666666666664, 0.5333333333333333, 0.7333333333333333, 0.43333333333333335, 0.43333333333333335, 0.4, 0.5333333333333333, 0.5, 0.5666666666666667, 0.6333333333333333, 0.5, 0.6, 0.36666666666666664, 0.43333333333333335, 0.43333333333333335, 0.36666666666666664, 0.43333333333333335, 0.5666666666666667, 0.43333333333333335, 0.6, 0.5666666666666667, 0.5666666666666667, 0.5333333333333333, 0.5333333333333333, 0.4, 0.4666666666666667, 0.6333333333333333, 0.5333333333333333, 0.6333333333333333, 0.5666666666666667, 0.5666666666666667, 0.4666666666666667, 0.4666666666666667, 0.5, 0.4666666666666667, 0.6, 0.5666666666666667, 0.5666666666666667, 0.5, 0.5333333333333333, 0.6333333333333333, 0.43333333333333335, 0.4666666666666667, 0.4666666666666667, 0.5666666666666667, 0.5333333333333333, 0.6333333333333333, 0.5, 0.4, 0.4666666666666667, 0.6333333333333333, 0.5, 0.5333333333333333, 0.36666666666666664, 0.43333333333333335, 0.43333333333333335, 0.5666666666666667, 0.43333333333333335, 0.5333333333333333, 0.6, 0.43333333333333335, 0.6, 0.5333333333333333, 0.43333333333333335, 0.5666666666666667, 0.6333333333333333, 0.4, 0.4666666666666667, 0.5, 0.36666666666666664, 0.6333333333333333, 0.43333333333333335, 0.4666666666666667, 0.5333333333333333, 0.5666666666666667, 0.6333333333333333, 0.5333333333333333, 0.6, 0.43333333333333335, 0.6333333333333333, 0.43333333333333335, 0.43333333333333335, 0.5, 0.5666666666666667, 0.43333333333333335, 0.5, 0.7, 0.6, 0.5, 0.5666666666666667, 0.6333333333333333, 0.5333333333333333, 0.26666666666666666, 0.7, 0.4666666666666667, 0.5666666666666667, 0.5333333333333333, 0.43333333333333335, 0.4666666666666667, 0.5333333333333333, 0.5333333333333333, 0.4666666666666667, 0.5666666666666667, 0.5333333333333333, 0.6666666666666666, 0.4666666666666667, 0.5, 0.5333333333333333, 0.5333333333333333, 0.6666666666666666, 0.5, 0.4666666666666667, 0.4666666666666667, 0.5666666666666667, 0.4666666666666667, 0.5, 0.5333333333333333, 0.5666666666666667, 0.5333333333333333, 0.4666666666666667, 0.6666666666666666, 0.5666666666666667, 0.5666666666666667, 0.6666666666666666, 0.3333333333333333, 0.5666666666666667, 0.3333333333333333, 0.36666666666666664, 0.4666666666666667, 0.5666666666666667, 0.6666666666666666, 0.4666666666666667, 0.6, 0.5666666666666667, 0.43333333333333335, 0.4, 0.4666666666666667, 0.4666666666666667, 0.4666666666666667, 0.5333333333333333, 0.5666666666666667, 0.6, 0.4666666666666667, 0.43333333333333335, 0.6666666666666666, 0.5333333333333333, 0.4, 0.6666666666666666, 0.36666666666666664, 0.5666666666666667, 0.43333333333333335, 0.4666666666666667, 0.5333333333333333, 0.5, 0.5, 0.5, 0.6666666666666666, 0.5, 0.6, 0.7333333333333333, 0.36666666666666664, 0.43333333333333335, 0.5333333333333333, 0.4666666666666667, 0.5, 0.43333333333333335, 0.5333333333333333, 0.5, 0.43333333333333335, 0.5333333333333333, 0.3, 0.5, 0.6, 0.5666666666666667, 0.5, 0.43333333333333335, 0.5666666666666667, 0.6, 0.4, 0.5666666666666667, 0.4666666666666667, 0.4666666666666667, 0.43333333333333335, 0.26666666666666666, 0.5333333333333333, 0.4666666666666667, 0.4666666666666667, 0.26666666666666666, 0.5666666666666667, 0.6666666666666666, 0.5666666666666667, 0.6666666666666666, 0.4666666666666667, 0.5, 0.5333333333333333, 0.43333333333333335, 0.3333333333333333, 0.6, 0.6, 0.5333333333333333, 0.43333333333333335, 0.43333333333333335, 0.5333333333333333, 0.6333333333333333, 0.3333333333333333, 0.5333333333333333, 0.5666666666666667, 0.4, 0.5666666666666667, 0.43333333333333335, 0.4, 0.5333333333333333, 0.5666666666666667, 0.6333333333333333, 0.43333333333333335, 0.5, 0.5666666666666667, 0.4666666666666667, 0.6, 0.5333333333333333, 0.43333333333333335, 0.5, 0.5333333333333333, 0.6, 0.4666666666666667, 0.5333333333333333, 0.4, 0.5666666666666667, 0.5666666666666667, 0.43333333333333335, 0.5333333333333333, 0.5333333333333333, 0.4666666666666667, 0.5, 0.43333333333333335, 0.36666666666666664, 0.43333333333333335, 0.5333333333333333, 0.4, 0.43333333333333335, 0.4666666666666667, 0.3333333333333333, 0.3333333333333333, 0.5666666666666667, 0.6666666666666666, 0.6, 0.43333333333333335, 0.5333333333333333, 0.4, 0.5333333333333333, 0.4666666666666667, 0.4, 0.43333333333333335, 0.4666666666666667, 0.4, 0.5666666666666667, 0.5, 0.5333333333333333, 0.5666666666666667, 0.5, 0.43333333333333335, 0.4666666666666667, 0.4666666666666667, 0.5, 0.7, 0.6, 0.6, 0.5333333333333333, 0.6333333333333333, 0.7333333333333333, 0.5333333333333333, 0.36666666666666664, 0.5, 0.3, 0.5333333333333333, 0.36666666666666664, 0.6333333333333333, 0.36666666666666664, 0.5333333333333333, 0.4, 0.5, 0.5, 0.4, 0.5, 0.43333333333333335, 0.6333333333333333, 0.4666666666666667, 0.6333333333333333, 0.5333333333333333, 0.43333333333333335, 0.6, 0.5333333333333333, 0.6333333333333333, 0.3, 0.4666666666666667, 0.6666666666666666, 0.5333333333333333, 0.5666666666666667, 0.43333333333333335, 0.43333333333333335, 0.5, 0.6, 0.4666666666666667, 0.6, 0.5666666666666667, 0.43333333333333335, 0.43333333333333335, 0.4666666666666667, 0.4, 0.3333333333333333, 0.43333333333333335, 0.6666666666666666, 0.4666666666666667, 0.6, 0.6, 0.5, 0.5333333333333333, 0.5333333333333333, 0.5, 0.43333333333333335, 0.6, 0.4, 0.5666666666666667, 0.36666666666666664, 0.6333333333333333, 0.7333333333333333, 0.5, 0.5, 0.5333333333333333, 0.5333333333333333, 0.5, 0.5666666666666667, 0.6, 0.5666666666666667, 0.5, 0.43333333333333335, 0.5333333333333333, 0.3333333333333333, 0.43333333333333335, 0.4666666666666667, 0.5333333333333333, 0.5, 0.5, 0.4666666666666667, 0.4666666666666667, 0.5333333333333333, 0.6, 0.5, 0.5, 0.43333333333333335, 0.5333333333333333, 0.4666666666666667, 0.6333333333333333, 0.36666666666666664, 0.36666666666666664, 0.6, 0.23333333333333334, 0.5, 0.26666666666666666, 0.5, 0.36666666666666664, 0.43333333333333335, 0.36666666666666664, 0.7, 0.4, 0.5333333333333333, 0.4666666666666667, 0.6, 0.8666666666666667, 0.3333333333333333, 0.5, 0.36666666666666664, 0.5333333333333333, 0.4666666666666667, 0.4666666666666667, 0.4666666666666667, 0.4666666666666667, 0.4666666666666667, 0.5666666666666667, 0.6, 0.5666666666666667, 0.5333333333333333, 0.4666666666666667, 0.6, 0.23333333333333334, 0.6666666666666666, 0.36666666666666664, 0.5666666666666667, 0.4666666666666667, 0.5, 0.5, 0.5666666666666667, 0.5333333333333333, 0.6333333333333333, 0.36666666666666664, 0.43333333333333335, 0.5666666666666667, 0.4, 0.5, 0.4666666666666667, 0.5666666666666667, 0.36666666666666664, 0.4666666666666667, 0.5666666666666667, 0.4, 0.5666666666666667, 0.6, 0.43333333333333335, 0.4666666666666667, 0.4666666666666667, 0.5333333333333333, 0.6666666666666666, 0.5333333333333333, 0.6, 0.5, 0.4666666666666667, 0.43333333333333335, 0.43333333333333335, 0.43333333333333335, 0.4666666666666667, 0.5, 0.6, 0.36666666666666664, 0.6, 0.5, 0.5666666666666667, 0.4, 0.4666666666666667, 0.5333333333333333, 0.6, 0.4666666666666667, 0.5666666666666667, 0.5333333333333333, 0.5, 0.36666666666666664, 0.4, 0.5666666666666667, 0.5333333333333333, 0.7, 0.4666666666666667, 0.6, 0.5666666666666667, 0.5, 0.5333333333333333, 0.4, 0.5333333333333333, 0.5333333333333333, 0.6, 0.4, 0.4, 0.4, 0.6666666666666666, 0.5, 0.5, 0.3333333333333333, 0.5666666666666667, 0.43333333333333335, 0.43333333333333335, 0.6333333333333333, 0.5, 0.43333333333333335, 0.5666666666666667, 0.5333333333333333, 0.36666666666666664, 0.6666666666666666, 0.4666666666666667, 0.5333333333333333, 0.6333333333333333, 0.3, 0.6333333333333333, 0.5, 0.6333333333333333, 0.5, 0.7, 0.5, 0.5333333333333333, 0.5666666666666667, 0.5333333333333333, 0.5666666666666667, 0.5, 0.5, 0.2, 0.4, 0.5666666666666667, 0.4666666666666667, 0.4666666666666667, 0.5333333333333333, 0.6, 0.5, 0.5333333333333333, 0.5333333333333333, 0.5666666666666667, 0.36666666666666664, 0.4666666666666667, 0.6, 0.6333333333333333, 0.4, 0.43333333333333335, 0.5, 0.5666666666666667, 0.5666666666666667, 0.6, 0.5, 0.6, 0.6, 0.4666666666666667, 0.5, 0.43333333333333335, 0.4666666666666667, 0.6333333333333333, 0.6, 0.43333333333333335, 0.5, 0.5666666666666667, 0.7, 0.4666666666666667, 0.43333333333333335, 0.4666666666666667, 0.43333333333333335, 0.6, 0.5333333333333333, 0.36666666666666664, 0.36666666666666664, 0.7, 0.6, 0.6, 0.3333333333333333, 0.4666666666666667, 0.5666666666666667, 0.5333333333333333, 0.5666666666666667, 0.6333333333333333, 0.43333333333333335, 0.43333333333333335, 0.4, 0.5666666666666667, 0.4666666666666667, 0.43333333333333335, 0.5666666666666667, 0.5666666666666667, 0.5, 0.4666666666666667, 0.6, 0.5, 0.5, 0.5666666666666667, 0.4, 0.5666666666666667, 0.5666666666666667, 0.6333333333333333, 0.5, 0.5333333333333333, 0.4666666666666667, 0.5333333333333333, 0.6, 0.5, 0.6333333333333333, 0.5666666666666667, 0.5666666666666667, 0.6, 0.4666666666666667, 0.43333333333333335, 0.43333333333333335, 0.6666666666666666, 0.6, 0.4, 0.4666666666666667, 0.6333333333333333, 0.6, 0.43333333333333335, 0.5, 0.36666666666666664, 0.5333333333333333, 0.6666666666666666, 0.5666666666666667, 0.4, 0.4666666666666667, 0.5666666666666667, 0.4666666666666667, 0.43333333333333335, 0.3333333333333333, 0.5666666666666667, 0.5, 0.7333333333333333, 0.5666666666666667, 0.36666666666666664, 0.43333333333333335, 0.5666666666666667, 0.4666666666666667, 0.4, 0.43333333333333335, 0.4, 0.6, 0.6333333333333333, 0.5333333333333333, 0.5666666666666667, 0.4, 0.43333333333333335, 0.26666666666666666, 0.4, 0.43333333333333335, 0.6666666666666666, 0.5333333333333333, 0.4666666666666667, 0.4, 0.4, 0.6333333333333333, 0.5666666666666667, 0.5, 0.5, 0.4, 0.4666666666666667, 0.6, 0.4666666666666667, 0.5333333333333333, 0.43333333333333335, 0.6333333333333333, 0.4, 0.43333333333333335, 0.43333333333333335, 0.36666666666666664, 0.5333333333333333, 0.36666666666666664, 0.6333333333333333, 0.5666666666666667, 0.4, 0.6666666666666666, 0.6333333333333333, 0.5, 0.5666666666666667, 0.5666666666666667, 0.5666666666666667, 0.3333333333333333, 0.5, 0.6666666666666666, 0.4666666666666667, 0.3333333333333333, 0.4, 0.6, 0.6, 0.5666666666666667, 0.43333333333333335, 0.43333333333333335, 0.7333333333333333, 0.3333333333333333, 0.6333333333333333, 0.4, 0.5, 0.6, 0.4, 0.4666666666666667, 0.4666666666666667, 0.5666666666666667, 0.4, 0.6, 0.36666666666666664, 0.5333333333333333, 0.5333333333333333, 0.4, 0.4, 0.4, 0.36666666666666664, 0.4, 0.5, 0.5666666666666667, 0.5666666666666667, 0.6, 0.7333333333333333, 0.5, 0.5666666666666667, 0.4666666666666667, 0.4666666666666667, 0.4, 0.4666666666666667, 0.4666666666666667, 0.3333333333333333, 0.43333333333333335, 0.5333333333333333, 0.5, 0.5, 0.4, 0.4666666666666667, 0.5666666666666667, 0.4666666666666667, 0.7, 0.5666666666666667, 0.4666666666666667, 0.4, 0.36666666666666664, 0.5333333333333333, 0.5333333333333333, 0.5, 0.5666666666666667, 0.6666666666666666, 0.6, 0.3333333333333333, 0.5666666666666667, 0.36666666666666664, 0.6333333333333333, 0.7, 0.43333333333333335, 0.6, 0.6, 0.6, 0.5333333333333333, 0.5, 0.5, 0.5666666666666667, 0.5, 0.4666666666666667, 0.36666666666666664, 0.5333333333333333, 0.5, 0.5, 0.5666666666666667, 0.5, 0.43333333333333335, 0.5666666666666667, 0.6333333333333333, 0.4666666666666667, 0.5333333333333333, 0.3333333333333333, 0.4666666666666667, 0.43333333333333335, 0.5333333333333333, 0.4, 0.3, 0.6333333333333333, 0.36666666666666664, 0.5, 0.5333333333333333, 0.5, 0.36666666666666664, 0.4666666666666667, 0.5, 0.4, 0.36666666666666664, 0.6333333333333333, 0.4666666666666667, 0.6333333333333333, 0.3333333333333333, 0.6, 0.5, 0.5666666666666667, 0.5333333333333333, 0.4666666666666667, 0.6666666666666666, 0.6666666666666666, 0.4666666666666667, 0.5333333333333333, 0.43333333333333335, 0.5666666666666667, 0.43333333333333335, 0.36666666666666664, 0.4666666666666667, 0.5333333333333333, 0.3333333333333333, 0.4, 0.6, 0.5333333333333333, 0.26666666666666666, 0.4, 0.5333333333333333, 0.5, 0.43333333333333335, 0.5333333333333333, 0.36666666666666664, 0.4, 0.4, 0.4666666666666667, 0.36666666666666664, 0.43333333333333335, 0.6, 0.5666666666666667, 0.5333333333333333, 0.4, 0.43333333333333335, 0.43333333333333335, 0.36666666666666664, 0.43333333333333335, 0.5333333333333333, 0.5333333333333333, 0.5666666666666667, 0.5666666666666667, 0.4, 0.5333333333333333, 0.4666666666666667, 0.6, 0.5, 0.4666666666666667, 0.6, 0.4666666666666667, 0.6, 0.4666666666666667, 0.5, 0.4666666666666667, 0.4666666666666667, 0.43333333333333335, 0.4, 0.3, 0.3333333333333333, 0.4666666666666667, 0.4666666666666667, 0.36666666666666664, 0.4666666666666667, 0.6, 0.5666666666666667, 0.5, 0.4666666666666667, 0.6333333333333333, 0.4, 0.4666666666666667, 0.6333333333333333, 0.4, 0.5333333333333333, 0.4, 0.4, 0.5333333333333333, 0.6333333333333333, 0.5666666666666667, 0.4, 0.36666666666666664, 0.5, 0.4, 0.5, 0.6333333333333333, 0.43333333333333335, 0.6, 0.3, 0.5666666666666667, 0.4666666666666667, 0.6, 0.5666666666666667, 0.5666666666666667, 0.6, 0.4, 0.6, 0.5666666666666667, 0.6333333333333333, 0.5333333333333333, 0.5, 0.5, 0.5, 0.5333333333333333, 0.36666666666666664, 0.43333333333333335, 0.6, 0.4666666666666667, 0.4666666666666667, 0.5, 0.5, 0.6, 0.5666666666666667, 0.5333333333333333, 0.6, 0.4666666666666667, 0.6, 0.4, 0.4666666666666667, 0.5666666666666667, 0.4666666666666667, 0.5666666666666667, 0.7, 0.43333333333333335, 0.5666666666666667, 0.5666666666666667, 0.5666666666666667, 0.43333333333333335, 0.5333333333333333, 0.5333333333333333, 0.4666666666666667, 0.5, 0.5333333333333333, 0.43333333333333335, 0.4666666666666667, 0.5333333333333333, 0.5, 0.5, 0.5666666666666667, 0.5333333333333333, 0.5333333333333333, 0.43333333333333335, 0.36666666666666664, 0.23333333333333334, 0.43333333333333335, 0.5333333333333333, 0.5333333333333333, 0.3, 0.5333333333333333, 0.5333333333333333, 0.5333333333333333, 0.5, 0.5, 0.5, 0.4666666666666667, 0.6, 0.43333333333333335, 0.43333333333333335, 0.4, 0.4666666666666667, 0.6, 0.6, 0.6666666666666666, 0.6, 0.36666666666666664, 0.43333333333333335, 0.5666666666666667, 0.5666666666666667, 0.5, 0.5, 0.4666666666666667, 0.5666666666666667, 0.36666666666666664, 0.5, 0.5666666666666667, 0.36666666666666664, 0.43333333333333335, 0.6, 0.4666666666666667, 0.5, 0.5666666666666667, 0.43333333333333335, 0.6333333333333333, 0.5666666666666667, 0.5333333333333333, 0.5333333333333333, 0.4666666666666667, 0.4, 0.6333333333333333, 0.6333333333333333, 0.43333333333333335, 0.5666666666666667, 0.5, 0.5333333333333333, 0.4666666666666667, 0.5666666666666667, 0.4666666666666667, 0.4666666666666667, 0.6, 0.5, 0.43333333333333335, 0.36666666666666664, 0.5, 0.5333333333333333, 0.5, 0.6, 0.4666666666666667, 0.4, 0.4, 0.5333333333333333, 0.6, 0.6333333333333333, 0.5, 0.5333333333333333, 0.36666666666666664, 0.4666666666666667, 0.6, 0.5333333333333333, 0.36666666666666664, 0.6, 0.4666666666666667, 0.6333333333333333, 0.5666666666666667, 0.43333333333333335, 0.43333333333333335, 0.5666666666666667, 0.5, 0.5, 0.4666666666666667, 0.36666666666666664, 0.3333333333333333, 0.5666666666666667, 0.4, 0.4666666666666667, 0.5666666666666667, 0.6, 0.7, 0.5666666666666667, 0.5, 0.43333333333333335, 0.5333333333333333, 0.5333333333333333, 0.5333333333333333, 0.5333333333333333, 0.5333333333333333, 0.43333333333333335, 0.5666666666666667, 0.43333333333333335, 0.4666666666666667, 0.5333333333333333, 0.5, 0.43333333333333335, 0.3333333333333333, 0.4666666666666667, 0.4, 0.5333333333333333, 0.36666666666666664, 0.6333333333333333, 0.4, 0.36666666666666664, 0.43333333333333335, 0.43333333333333335, 0.43333333333333335, 0.5, 0.6333333333333333, 0.6333333333333333, 0.5, 0.5, 0.43333333333333335, 0.36666666666666664, 0.6333333333333333, 0.5666666666666667, 0.5, 0.5, 0.3333333333333333, 0.43333333333333335, 0.36666666666666664, 0.6, 0.3333333333333333, 0.36666666666666664, 0.6, 0.5333333333333333, 0.6, 0.4, 0.43333333333333335, 0.4, 0.4, 0.6333333333333333, 0.6, 0.5, 0.5, 0.5, 0.43333333333333335, 0.6, 0.36666666666666664, 0.5333333333333333, 0.36666666666666664, 0.5, 0.7666666666666667, 0.6, 0.5, 0.6, 0.5, 0.5, 0.36666666666666664, 0.4666666666666667, 0.4, 0.6, 0.5, 0.36666666666666664, 0.6, 0.5, 0.6, 0.4, 0.5333333333333333, 0.7, 0.4666666666666667, 0.43333333333333335, 0.5333333333333333, 0.6666666666666666, 0.6333333333333333, 0.36666666666666664, 0.5, 0.43333333333333335, 0.6, 0.5666666666666667, 0.5333333333333333, 0.4666666666666667, 0.6, 0.3, 0.6333333333333333, 0.5666666666666667, 0.6, 0.5, 0.6, 0.4666666666666667, 0.6, 0.5333333333333333, 0.5, 0.6666666666666666, 0.5333333333333333, 0.4666666666666667, 0.3333333333333333, 0.6666666666666666, 0.5, 0.4, 0.4666666666666667, 0.5333333333333333, 0.5, 0.5333333333333333, 0.3333333333333333, 0.5333333333333333, 0.5333333333333333, 0.5666666666666667, 0.5, 0.4666666666666667, 0.6, 0.7, 0.3333333333333333, 0.5666666666666667, 0.6666666666666666, 0.5, 0.4666666666666667, 0.4666666666666667, 0.5333333333333333, 0.3, 0.4666666666666667, 0.5, 0.6, 0.6, 0.4666666666666667, 0.4, 0.5666666666666667, 0.5333333333333333, 0.43333333333333335, 0.6, 0.4, 0.36666666666666664, 0.5666666666666667, 0.36666666666666664, 0.36666666666666664, 0.5666666666666667, 0.5, 0.43333333333333335, 0.7, 0.4666666666666667, 0.6, 0.6666666666666666, 0.5666666666666667, 0.5333333333333333, 0.6, 0.5, 0.3333333333333333, 0.43333333333333335, 0.5, 0.5333333333333333, 0.5666666666666667, 0.3333333333333333, 0.6, 0.5333333333333333, 0.4666666666666667, 0.5333333333333333, 0.4, 0.4666666666666667, 0.4, 0.5, 0.6, 0.4666666666666667, 0.4, 0.6333333333333333, 0.5666666666666667, 0.6333333333333333, 0.5333333333333333, 0.5333333333333333, 0.43333333333333335, 0.6333333333333333, 0.6, 0.43333333333333335, 0.5, 0.6, 0.43333333333333335, 0.43333333333333335, 0.6666666666666666, 0.6, 0.6666666666666666, 0.4666666666666667, 0.6666666666666666, 0.6666666666666666, 0.5, 0.6, 0.4, 0.5666666666666667, 0.5333333333333333, 0.5333333333333333, 0.6666666666666666, 0.6, 0.43333333333333335, 0.5333333333333333, 0.5333333333333333, 0.5, 0.43333333333333335, 0.5333333333333333, 0.4, 0.4666666666666667, 0.5, 0.43333333333333335, 0.4, 0.4666666666666667, 0.6, 0.43333333333333335, 0.5333333333333333, 0.5, 0.4666666666666667, 0.3333333333333333, 0.5666666666666667, 0.5666666666666667, 0.5666666666666667, 0.43333333333333335, 0.5333333333333333, 0.36666666666666664, 0.43333333333333335, 0.5, 0.5, 0.5666666666666667, 0.43333333333333335, 0.4, 0.36666666666666664, 0.6, 0.6, 0.4666666666666667, 0.4666666666666667, 0.4, 0.5333333333333333, 0.6333333333333333, 0.5666666666666667, 0.5333333333333333, 0.6, 0.4666666666666667, 0.4, 0.5, 0.6, 0.43333333333333335, 0.43333333333333335, 0.3333333333333333, 0.5333333333333333, 0.5, 0.36666666666666664, 0.3, 0.5666666666666667, 0.3333333333333333, 0.5666666666666667, 0.6333333333333333, 0.6666666666666666, 0.4666666666666667, 0.5, 0.43333333333333335, 0.5333333333333333, 0.4, 0.3, 0.4, 0.5666666666666667, 0.5666666666666667, 0.43333333333333335, 0.4666666666666667, 0.6, 0.5333333333333333, 0.4666666666666667, 0.6, 0.36666666666666664, 0.36666666666666664, 0.5, 0.4666666666666667, 0.6, 0.5, 0.6333333333333333, 0.43333333333333335, 0.6333333333333333, 0.5, 0.4, 0.43333333333333335, 0.36666666666666664, 0.3333333333333333, 0.4666666666666667, 0.7, 0.43333333333333335, 0.5, 0.5666666666666667, 0.5, 0.6333333333333333, 0.4, 0.5333333333333333, 0.4666666666666667, 0.5333333333333333, 0.5333333333333333, 0.4666666666666667, 0.6333333333333333, 0.5333333333333333, 0.43333333333333335, 0.4666666666666667, 0.5666666666666667, 0.4666666666666667, 0.4666666666666667, 0.5333333333333333, 0.4, 0.6, 0.6, 0.4666666666666667, 0.5, 0.5666666666666667, 0.5666666666666667, 0.6, 0.5333333333333333, 0.5666666666666667, 0.4666666666666667, 0.4, 0.5, 0.43333333333333335, 0.5333333333333333, 0.6, 0.6666666666666666, 0.43333333333333335, 0.43333333333333335, 0.6, 0.6333333333333333, 0.43333333333333335, 0.5333333333333333, 0.6, 0.4, 0.6666666666666666, 0.4, 0.5, 0.43333333333333335, 0.4666666666666667, 0.6, 0.4, 0.4666666666666667, 0.43333333333333335, 0.4666666666666667, 0.6333333333333333, 0.5, 0.5666666666666667, 0.5666666666666667, 0.4, 0.5333333333333333, 0.43333333333333335, 0.5666666666666667, 0.5, 0.4666666666666667, 0.5, 0.5, 0.5, 0.43333333333333335, 0.7, 0.3333333333333333, 0.5666666666666667, 0.7333333333333333, 0.5666666666666667, 0.6666666666666666, 0.5, 0.7333333333333333, 0.43333333333333335, 0.43333333333333335, 0.4666666666666667, 0.4666666666666667, 0.6333333333333333, 0.43333333333333335, 0.7666666666666667, 0.4666666666666667, 0.6, 0.5666666666666667, 0.36666666666666664, 0.4, 0.5666666666666667, 0.5666666666666667, 0.6, 0.36666666666666664, 0.36666666666666664, 0.5, 0.4666666666666667, 0.5666666666666667, 0.6666666666666666, 0.6, 0.5333333333333333, 0.5666666666666667, 0.43333333333333335, 0.5333333333333333, 0.4666666666666667, 0.5333333333333333, 0.5, 0.5333333333333333, 0.5, 0.5, 0.6, 0.4, 0.43333333333333335, 0.5333333333333333, 0.5333333333333333, 0.5666666666666667, 0.5, 0.7, 0.4666666666666667, 0.4666666666666667, 0.5666666666666667, 0.36666666666666664, 0.6333333333333333, 0.43333333333333335, 0.4, 0.5, 0.5, 0.4666666666666667, 0.4666666666666667, 0.43333333333333335, 0.7, 0.5, 0.43333333333333335, 0.5, 0.5333333333333333, 0.5, 0.5333333333333333, 0.3333333333333333, 0.6333333333333333, 0.5333333333333333, 0.6333333333333333, 0.43333333333333335, 0.3333333333333333, 0.5, 0.4666666666666667, 0.6333333333333333, 0.4666666666666667, 0.5, 0.5666666666666667, 0.36666666666666664, 0.36666666666666664, 0.6333333333333333, 0.5333333333333333, 0.5666666666666667, 0.5, 0.5333333333333333, 0.5, 0.6, 0.5, 0.5666666666666667, 0.5666666666666667, 0.4666666666666667, 0.5, 0.43333333333333335, 0.5333333333333333, 0.5, 0.5, 0.5666666666666667, 0.4666666666666667, 0.4, 0.5666666666666667, 0.6, 0.6, 0.4666666666666667, 0.5666666666666667, 0.4666666666666667, 0.4666666666666667, 0.5333333333333333, 0.4, 0.4666666666666667, 0.5333333333333333, 0.4666666666666667, 0.4, 0.5333333333333333, 0.5333333333333333, 0.43333333333333335, 0.7, 0.5, 0.4666666666666667, 0.3333333333333333, 0.4666666666666667, 0.4, 0.5333333333333333, 0.5333333333333333, 0.5666666666666667, 0.5333333333333333, 0.5333333333333333, 0.4, 0.43333333333333335, 0.5333333333333333, 0.5, 0.4666666666666667, 0.6333333333333333, 0.5, 0.4666666666666667, 0.4, 0.5, 0.3333333333333333, 0.36666666666666664, 0.5333333333333333, 0.5333333333333333, 0.7, 0.5, 0.4666666666666667, 0.5666666666666667, 0.4666666666666667, 0.43333333333333335, 0.6333333333333333, 0.4666666666666667, 0.6, 0.5, 0.5, 0.5, 0.5333333333333333, 0.4666666666666667, 0.4, 0.4, 0.4666666666666667, 0.6, 0.5333333333333333, 0.6, 0.36666666666666664, 0.5666666666666667, 0.43333333333333335, 0.6, 0.5, 0.43333333333333335, 0.5, 0.4, 0.6333333333333333, 0.6, 0.5333333333333333, 0.43333333333333335, 0.4, 0.5, 0.5333333333333333, 0.5, 0.5666666666666667, 0.5666666666666667, 0.43333333333333335, 0.4, 0.5333333333333333, 0.4, 0.43333333333333335, 0.6, 0.6666666666666666, 0.4, 0.5, 0.6, 0.5666666666666667, 0.43333333333333335, 0.5, 0.36666666666666664, 0.6333333333333333, 0.5666666666666667, 0.6666666666666666, 0.5, 0.5333333333333333, 0.6333333333333333, 0.6666666666666666, 0.5, 0.36666666666666664, 0.5, 0.43333333333333335, 0.5333333333333333, 0.43333333333333335, 0.5, 0.5, 0.5, 0.6, 0.4, 0.4, 0.36666666666666664, 0.36666666666666664, 0.5, 0.7333333333333333, 0.43333333333333335, 0.4666666666666667, 0.6, 0.6333333333333333, 0.36666666666666664, 0.4666666666666667, 0.6, 0.36666666666666664, 0.36666666666666664, 0.43333333333333335, 0.43333333333333335, 0.5666666666666667, 0.43333333333333335, 0.6, 0.5333333333333333, 0.4, 0.6666666666666666, 0.4666666666666667, 0.3333333333333333, 0.5, 0.5333333333333333, 0.5333333333333333, 0.4666666666666667, 0.6, 0.5666666666666667, 0.3333333333333333, 0.5333333333333333, 0.7, 0.4666666666666667, 0.4666666666666667, 0.43333333333333335, 0.3, 0.43333333333333335, 0.5666666666666667, 0.4666666666666667, 0.5, 0.5666666666666667, 0.5666666666666667, 0.5333333333333333, 0.36666666666666664, 0.5, 0.4, 0.43333333333333335, 0.5, 0.6, 0.5333333333333333, 0.5666666666666667, 0.43333333333333335, 0.5, 0.6, 0.6, 0.4666666666666667, 0.6333333333333333, 0.5333333333333333, 0.4, 0.4666666666666667, 0.5333333333333333, 0.36666666666666664, 0.5, 0.7, 0.4666666666666667, 0.6, 0.6333333333333333, 0.3, 0.36666666666666664, 0.5, 0.4, 0.43333333333333335, 0.6, 0.5333333333333333, 0.43333333333333335, 0.6333333333333333, 0.4666666666666667, 0.4, 0.5333333333333333, 0.5333333333333333, 0.6, 0.5333333333333333, 0.6333333333333333, 0.4, 0.3, 0.4666666666666667, 0.4, 0.6666666666666666, 0.5333333333333333, 0.4666666666666667, 0.5, 0.5, 0.4666666666666667, 0.36666666666666664, 0.6333333333333333, 0.5, 0.4666666666666667, 0.5333333333333333, 0.5666666666666667, 0.4, 0.4, 0.5, 0.5666666666666667, 0.5, 0.6333333333333333, 0.4666666666666667, 0.43333333333333335, 0.7, 0.43333333333333335, 0.6, 0.4666666666666667, 0.4666666666666667, 0.5, 0.5, 0.6333333333333333, 0.6333333333333333, 0.43333333333333335, 0.3, 0.5333333333333333, 0.5666666666666667, 0.5, 0.7333333333333333, 0.43333333333333335, 0.6, 0.43333333333333335, 0.5, 0.5, 0.5666666666666667, 0.5666666666666667, 0.3333333333333333, 0.6, 0.4666666666666667, 0.5, 0.43333333333333335, 0.4666666666666667, 0.5333333333333333, 0.5, 0.4, 0.7333333333333333, 0.6333333333333333, 0.5, 0.43333333333333335, 0.5666666666666667, 0.5666666666666667, 0.5, 0.4666666666666667, 0.43333333333333335, 0.43333333333333335, 0.43333333333333335, 0.36666666666666664, 0.5333333333333333, 0.36666666666666664, 0.6333333333333333, 0.5333333333333333, 0.36666666666666664, 0.5666666666666667, 0.5, 0.5333333333333333, 0.5666666666666667, 0.4, 0.43333333333333335, 0.5666666666666667, 0.43333333333333335, 0.5333333333333333, 0.43333333333333335, 0.43333333333333335, 0.3333333333333333, 0.5333333333333333, 0.6333333333333333, 0.4, 0.5666666666666667, 0.5666666666666667, 0.5666666666666667, 0.5333333333333333, 0.5666666666666667, 0.3333333333333333, 0.5, 0.5333333333333333, 0.6, 0.4666666666666667, 0.36666666666666664, 0.6, 0.43333333333333335, 0.43333333333333335, 0.5, 0.5666666666666667, 0.3, 0.26666666666666666, 0.5, 0.6666666666666666, 0.5, 0.5, 0.36666666666666664, 0.5333333333333333, 0.6, 0.5666666666666667, 0.5333333333333333, 0.4, 0.5666666666666667, 0.6, 0.36666666666666664, 0.4666666666666667, 0.5, 0.4666666666666667, 0.4, 0.5, 0.5666666666666667, 0.4666666666666667, 0.5, 0.5, 0.5, 0.5, 0.6, 0.4666666666666667, 0.6, 0.5333333333333333, 0.5666666666666667, 0.7, 0.3333333333333333, 0.5, 0.5333333333333333, 0.5333333333333333, 0.5, 0.5333333333333333, 0.5, 0.3333333333333333, 0.4666666666666667, 0.4666666666666667, 0.5666666666666667, 0.43333333333333335, 0.36666666666666664, 0.6, 0.36666666666666664, 0.5666666666666667, 0.5, 0.6333333333333333, 0.6333333333333333, 0.43333333333333335, 0.43333333333333335, 0.5, 0.4666666666666667, 0.5333333333333333, 0.5333333333333333, 0.6, 0.7, 0.5, 0.5666666666666667, 0.4666666666666667, 0.5333333333333333, 0.5666666666666667, 0.4666666666666667, 0.6, 0.6333333333333333, 0.5, 0.5666666666666667, 0.5, 0.6, 0.6, 0.5, 0.5, 0.5666666666666667, 0.4666666666666667, 0.7666666666666667, 0.36666666666666664, 0.36666666666666664, 0.2, 0.4666666666666667, 0.5, 0.7, 0.43333333333333335, 0.4666666666666667, 0.7333333333333333, 0.6, 0.5333333333333333, 0.6333333333333333, 0.43333333333333335, 0.5666666666666667, 0.6, 0.5, 0.5333333333333333, 0.6, 0.4, 0.43333333333333335, 0.5, 0.6333333333333333, 0.5666666666666667, 0.5, 0.5, 0.43333333333333335, 0.4666666666666667, 0.6, 0.43333333333333335, 0.6666666666666666, 0.5, 0.4666666666666667, 0.5, 0.43333333333333335, 0.5, 0.5666666666666667, 0.5, 0.36666666666666664, 0.43333333333333335, 0.36666666666666664, 0.6333333333333333, 0.6, 0.4666666666666667, 0.26666666666666666, 0.5333333333333333, 0.4, 0.5666666666666667, 0.5666666666666667, 0.5, 0.4, 0.4, 0.3333333333333333, 0.5, 0.5333333333333333, 0.5666666666666667, 0.5333333333333333, 0.43333333333333335, 0.3333333333333333, 0.5666666666666667, 0.5, 0.4, 0.6, 0.5333333333333333, 0.5333333333333333, 0.5666666666666667, 0.36666666666666664, 0.5, 0.6, 0.43333333333333335, 0.6, 0.5333333333333333, 0.4666666666666667, 0.6, 0.5333333333333333, 0.5333333333333333, 0.36666666666666664, 0.4, 0.4666666666666667, 0.6, 0.5333333333333333, 0.6, 0.6333333333333333, 0.5, 0.5666666666666667, 0.5333333333333333, 0.4666666666666667, 0.43333333333333335, 0.4666666666666667, 0.4, 0.6333333333333333, 0.5666666666666667, 0.5333333333333333, 0.5666666666666667, 0.43333333333333335, 0.43333333333333335, 0.6333333333333333, 0.6333333333333333, 0.4, 0.5666666666666667, 0.5666666666666667, 0.5, 0.5666666666666667, 0.5, 0.6666666666666666, 0.5666666666666667, 0.6666666666666666, 0.5666666666666667, 0.3333333333333333, 0.6, 0.5, 0.4666666666666667, 0.4, 0.4666666666666667, 0.6333333333333333, 0.4666666666666667, 0.4, 0.5666666666666667, 0.5666666666666667, 0.6666666666666666, 0.3, 0.6, 0.5, 0.3333333333333333, 0.6333333333333333, 0.43333333333333335, 0.6333333333333333, 0.5333333333333333, 0.6666666666666666, 0.6, 0.6, 0.5666666666666667, 0.5333333333333333, 0.4666666666666667, 0.5, 0.6, 0.5, 0.6666666666666666, 0.6, 0.5333333333333333, 0.4666666666666667, 0.36666666666666664, 0.5, 0.4, 0.43333333333333335, 0.43333333333333335, 0.5666666666666667, 0.6333333333333333, 0.4666666666666667, 0.5666666666666667, 0.6333333333333333, 0.4666666666666667, 0.4666666666666667, 0.5666666666666667, 0.4666666666666667, 0.4, 0.5666666666666667, 0.4666666666666667, 0.6, 0.5, 0.6333333333333333, 0.4666666666666667, 0.43333333333333335, 0.5666666666666667, 0.4, 0.4666666666666667, 0.5, 0.4666666666666667, 0.5666666666666667, 0.5333333333333333, 0.6666666666666666, 0.5333333333333333, 0.4666666666666667, 0.43333333333333335, 0.5333333333333333, 0.43333333333333335, 0.4, 0.6333333333333333, 0.6666666666666666, 0.5, 0.43333333333333335, 0.5333333333333333, 0.43333333333333335, 0.5666666666666667, 0.43333333333333335, 0.5, 0.5, 0.5, 0.6, 0.5, 0.3333333333333333, 0.43333333333333335, 0.6, 0.3333333333333333, 0.5333333333333333, 0.5333333333333333, 0.5666666666666667, 0.5, 0.3333333333333333, 0.36666666666666664, 0.6, 0.3333333333333333, 0.5333333333333333, 0.4666666666666667, 0.43333333333333335, 0.5666666666666667, 0.6, 0.6, 0.5, 0.5666666666666667, 0.5, 0.5, 0.6, 0.5, 0.6666666666666666, 0.7333333333333333, 0.5666666666666667, 0.6333333333333333, 0.5333333333333333, 0.5666666666666667, 0.6, 0.5333333333333333, 0.4666666666666667, 0.6, 0.5, 0.36666666666666664, 0.5333333333333333, 0.4666666666666667, 0.7, 0.5333333333333333, 0.43333333333333335, 0.6, 0.5, 0.5, 0.36666666666666664, 0.5, 0.43333333333333335, 0.43333333333333335, 0.6333333333333333, 0.5, 0.43333333333333335, 0.3333333333333333, 0.6, 0.4, 0.43333333333333335, 0.6333333333333333, 0.5666666666666667, 0.3333333333333333, 0.7, 0.36666666666666664, 0.36666666666666664, 0.4666666666666667, 0.5666666666666667, 0.5666666666666667, 0.4, 0.5666666666666667, 0.43333333333333335, 0.43333333333333335, 0.43333333333333335, 0.5, 0.36666666666666664, 0.43333333333333335, 0.5333333333333333, 0.36666666666666664, 0.5333333333333333, 0.4666666666666667, 0.4666666666666667, 0.5333333333333333, 0.6333333333333333, 0.4666666666666667, 0.5, 0.6, 0.5, 0.5, 0.5, 0.6, 0.5, 0.5, 0.43333333333333335, 0.6, 0.4666666666666667, 0.4666666666666667, 0.5, 0.6, 0.6, 0.3333333333333333, 0.36666666666666664, 0.5, 0.5333333333333333, 0.5666666666666667, 0.5, 0.5, 0.4666666666666667, 0.43333333333333335, 0.43333333333333335, 0.5333333333333333, 0.4666666666666667, 0.6333333333333333, 0.7, 0.4666666666666667, 0.36666666666666664, 0.5666666666666667, 0.5, 0.4, 0.5666666666666667, 0.36666666666666664, 0.4666666666666667, 0.3333333333333333, 0.6, 0.6666666666666666, 0.5, 0.6, 0.6333333333333333, 0.4666666666666667, 0.4, 0.6, 0.6, 0.7, 0.5333333333333333, 0.5666666666666667, 0.5333333333333333, 0.6333333333333333, 0.5, 0.5666666666666667, 0.5333333333333333, 0.6333333333333333, 0.5, 0.4666666666666667, 0.5, 0.4666666666666667, 0.5333333333333333, 0.7666666666666667, 0.6333333333333333, 0.4666666666666667, 0.7, 0.5, 0.5666666666666667, 0.43333333333333335, 0.5333333333333333, 0.4, 0.5666666666666667, 0.5, 0.43333333333333335, 0.5, 0.5333333333333333, 0.5, 0.6333333333333333, 0.4666666666666667, 0.4, 0.4666666666666667, 0.7, 0.43333333333333335, 0.6, 0.5666666666666667, 0.4666666666666667, 0.5666666666666667, 0.43333333333333335, 0.43333333333333335, 0.43333333333333335, 0.6, 0.5333333333333333, 0.5333333333333333, 0.6, 0.4, 0.4666666666666667, 0.43333333333333335, 0.43333333333333335, 0.5, 0.5333333333333333, 0.5666666666666667, 0.43333333333333335, 0.43333333333333335, 0.43333333333333335, 0.6, 0.5333333333333333, 0.5333333333333333, 0.5, 0.4, 0.4, 0.43333333333333335, 0.4666666666666667, 0.5, 0.4666666666666667, 0.3, 0.5, 0.5, 0.7, 0.5, 0.6333333333333333, 0.6, 0.5333333333333333, 0.5666666666666667, 0.6666666666666666, 0.5666666666666667, 0.6666666666666666, 0.5, 0.5333333333333333, 0.4666666666666667, 0.5333333333333333, 0.4666666666666667, 0.4666666666666667, 0.36666666666666664, 0.36666666666666664, 0.5, 0.6, 0.5, 0.36666666666666664, 0.4666666666666667, 0.4666666666666667, 0.5, 0.4666666666666667, 0.6, 0.43333333333333335, 0.43333333333333335, 0.4666666666666667, 0.6666666666666666, 0.43333333333333335, 0.5, 0.5333333333333333, 0.4666666666666667, 0.6333333333333333, 0.5666666666666667, 0.5, 0.4666666666666667, 0.4, 0.3, 0.6, 0.5666666666666667, 0.4, 0.5666666666666667, 0.3333333333333333, 0.5333333333333333, 0.5666666666666667, 0.5, 0.4666666666666667, 0.6, 0.36666666666666664, 0.5666666666666667, 0.43333333333333335, 0.6666666666666666, 0.43333333333333335, 0.5333333333333333, 0.5666666666666667, 0.5, 0.5333333333333333, 0.5, 0.5, 0.26666666666666666, 0.5, 0.36666666666666664, 0.4666666666666667, 0.6333333333333333, 0.5333333333333333, 0.43333333333333335, 0.6, 0.5333333333333333, 0.43333333333333335, 0.6333333333333333, 0.4666666666666667, 0.5, 0.3333333333333333, 0.3333333333333333, 0.4666666666666667, 0.43333333333333335, 0.5, 0.5666666666666667, 0.4, 0.5, 0.5, 0.5666666666666667, 0.5333333333333333, 0.4666666666666667, 0.4666666666666667, 0.5333333333333333, 0.4666666666666667, 0.5666666666666667, 0.4, 0.5666666666666667, 0.43333333333333335, 0.4, 0.5666666666666667, 0.43333333333333335, 0.6, 0.26666666666666666, 0.7, 0.5333333333333333, 0.5, 0.5, 0.43333333333333335, 0.6, 0.36666666666666664, 0.5, 0.5666666666666667, 0.4, 0.43333333333333335, 0.6, 0.5333333333333333, 0.3, 0.5666666666666667, 0.6, 0.4, 0.5333333333333333, 0.4, 0.6666666666666666, 0.3333333333333333, 0.5333333333333333, 0.6, 0.4666666666666667, 0.4666666666666667, 0.4, 0.6, 0.4666666666666667, 0.5666666666666667, 0.7333333333333333, 0.6333333333333333, 0.43333333333333335, 0.6333333333333333, 0.5666666666666667, 0.43333333333333335, 0.6333333333333333, 0.6, 0.5, 0.5, 0.4666666666666667, 0.5, 0.6333333333333333, 0.5, 0.5, 0.36666666666666664, 0.36666666666666664, 0.6, 0.4666666666666667, 0.5, 0.5666666666666667, 0.4666666666666667, 0.4, 0.43333333333333335, 0.5333333333333333, 0.4666666666666667, 0.4666666666666667, 0.5333333333333333, 0.43333333333333335, 0.4, 0.5666666666666667, 0.6333333333333333, 0.5666666666666667, 0.5666666666666667, 0.5666666666666667, 0.5666666666666667, 0.6, 0.4, 0.6666666666666666, 0.4666666666666667, 0.7, 0.4666666666666667, 0.4, 0.5, 0.5666666666666667, 0.4666666666666667, 0.4666666666666667, 0.3333333333333333, 0.6, 0.5333333333333333, 0.43333333333333335, 0.5666666666666667, 0.5, 0.4, 0.5333333333333333, 0.43333333333333335, 0.6666666666666666, 0.5, 0.6, 0.5333333333333333, 0.6333333333333333, 0.5, 0.4, 0.4666666666666667, 0.7333333333333333, 0.5333333333333333, 0.4666666666666667, 0.5666666666666667, 0.4, 0.43333333333333335, 0.43333333333333335, 0.5, 0.26666666666666666, 0.4, 0.5666666666666667, 0.5333333333333333, 0.4, 0.43333333333333335, 0.43333333333333335, 0.5666666666666667, 0.4666666666666667, 0.5333333333333333, 0.36666666666666664, 0.6666666666666666, 0.3333333333333333, 0.6333333333333333, 0.5, 0.5333333333333333, 0.5666666666666667, 0.5666666666666667, 0.5333333333333333, 0.43333333333333335, 0.6, 0.43333333333333335, 0.5666666666666667, 0.43333333333333335, 0.5333333333333333, 0.4, 0.5333333333333333, 0.5666666666666667, 0.5666666666666667, 0.3333333333333333, 0.5, 0.4666666666666667, 0.5, 0.43333333333333335, 0.5666666666666667, 0.43333333333333335, 0.4666666666666667, 0.6, 0.36666666666666664, 0.5, 0.5666666666666667, 0.3, 0.6666666666666666, 0.5333333333333333, 0.4, 0.4666666666666667, 0.5, 0.4666666666666667, 0.5, 0.5, 0.5333333333333333, 0.6333333333333333, 0.5, 0.6666666666666666, 0.4666666666666667, 0.5, 0.43333333333333335, 0.5333333333333333, 0.5666666666666667, 0.5, 0.6333333333333333, 0.5, 0.3333333333333333, 0.4666666666666667, 0.5, 0.4666666666666667, 0.6, 0.3333333333333333, 0.6, 0.5666666666666667, 0.5666666666666667, 0.43333333333333335, 0.4666666666666667, 0.4666666666666667, 0.4666666666666667, 0.5666666666666667, 0.5, 0.5666666666666667, 0.3, 0.5, 0.5666666666666667, 0.5, 0.5333333333333333, 0.3333333333333333, 0.43333333333333335, 0.6, 0.5666666666666667, 0.4, 0.5666666666666667, 0.5, 0.5666666666666667, 0.4666666666666667, 0.6, 0.43333333333333335, 0.4, 0.36666666666666664, 0.36666666666666664, 0.5666666666666667, 0.36666666666666664, 0.6, 0.43333333333333335, 0.7333333333333333, 0.4, 0.4666666666666667, 0.5, 0.4, 0.5, 0.5333333333333333, 0.6333333333333333, 0.5666666666666667, 0.6, 0.4666666666666667, 0.5, 0.4666666666666667, 0.4, 0.6, 0.4666666666666667, 0.6333333333333333, 0.5333333333333333, 0.6333333333333333, 0.5333333333333333, 0.43333333333333335, 0.4666666666666667, 0.36666666666666664, 0.6, 0.4, 0.6, 0.5666666666666667, 0.4666666666666667, 0.5333333333333333, 0.43333333333333335, 0.6666666666666666, 0.5333333333333333, 0.6666666666666666, 0.5666666666666667, 0.6333333333333333, 0.4666666666666667, 0.36666666666666664, 0.5666666666666667, 0.4666666666666667, 0.6333333333333333, 0.6, 0.5666666666666667, 0.5666666666666667, 0.5, 0.43333333333333335, 0.36666666666666664, 0.5333333333333333, 0.5666666666666667, 0.5333333333333333, 0.6, 0.6, 0.5333333333333333, 0.43333333333333335, 0.5666666666666667, 0.5666666666666667, 0.4666666666666667, 0.5333333333333333, 0.4, 0.36666666666666664, 0.4666666666666667, 0.4, 0.5333333333333333, 0.43333333333333335, 0.4666666666666667, 0.4, 0.5666666666666667, 0.5, 0.6333333333333333, 0.43333333333333335, 0.4, 0.4666666666666667, 0.4666666666666667, 0.4666666666666667, 0.4666666666666667, 0.36666666666666664, 0.4, 0.5, 0.4666666666666667, 0.36666666666666664, 0.6, 0.5333333333333333, 0.5666666666666667, 0.5333333333333333, 0.4666666666666667, 0.4666666666666667, 0.5666666666666667, 0.5333333333333333, 0.5333333333333333, 0.43333333333333335, 0.5, 0.6, 0.6666666666666666, 0.43333333333333335, 0.4666666666666667, 0.7, 0.4666666666666667, 0.4, 0.5666666666666667, 0.5666666666666667, 0.6, 0.5, 0.5, 0.4666666666666667, 0.4666666666666667, 0.5666666666666667, 0.6666666666666666, 0.5666666666666667, 0.5, 0.4666666666666667, 0.43333333333333335, 0.5666666666666667, 0.6, 0.4666666666666667, 0.4666666666666667, 0.6, 0.5666666666666667, 0.4666666666666667, 0.4666666666666667, 0.5333333333333333, 0.5666666666666667, 0.4666666666666667, 0.5333333333333333, 0.4666666666666667, 0.5333333333333333, 0.5666666666666667, 0.5333333333333333, 0.5333333333333333, 0.5333333333333333, 0.43333333333333335, 0.4666666666666667, 0.5333333333333333, 0.6666666666666666, 0.43333333333333335, 0.7, 0.3333333333333333, 0.5, 0.4666666666666667, 0.6666666666666666, 0.5666666666666667, 0.4, 0.5, 0.43333333333333335, 0.4, 0.5666666666666667, 0.3, 0.43333333333333335, 0.43333333333333335, 0.4666666666666667, 0.5333333333333333, 0.4666666666666667, 0.6333333333333333, 0.36666666666666664, 0.6, 0.43333333333333335, 0.43333333333333335, 0.43333333333333335, 0.6, 0.4666666666666667, 0.43333333333333335, 0.3333333333333333, 0.5, 0.43333333333333335, 0.4, 0.5333333333333333, 0.43333333333333335, 0.5333333333333333, 0.3333333333333333, 0.5333333333333333, 0.7, 0.6, 0.5333333333333333, 0.5666666666666667, 0.6, 0.3333333333333333, 0.4666666666666667, 0.4666666666666667, 0.3333333333333333, 0.5, 0.6666666666666666, 0.6333333333333333, 0.5666666666666667, 0.6333333333333333, 0.4666666666666667, 0.3333333333333333, 0.4666666666666667, 0.36666666666666664, 0.6, 0.43333333333333335, 0.5333333333333333, 0.4666666666666667, 0.5333333333333333, 0.6333333333333333, 0.4666666666666667, 0.5333333333333333, 0.3333333333333333, 0.5666666666666667, 0.6333333333333333, 0.5, 0.5333333333333333, 0.5333333333333333, 0.5333333333333333, 0.43333333333333335, 0.5666666666666667, 0.4, 0.5, 0.6, 0.5333333333333333, 0.36666666666666664, 0.6, 0.4666666666666667, 0.4, 0.6666666666666666, 0.5333333333333333, 0.5333333333333333, 0.6333333333333333, 0.5333333333333333, 0.6, 0.6, 0.5333333333333333, 0.5666666666666667, 0.5333333333333333, 0.43333333333333335, 0.43333333333333335, 0.5, 0.6, 0.4, 0.4666666666666667, 0.6333333333333333, 0.4, 0.5, 0.5333333333333333, 0.4666666666666667, 0.4666666666666667, 0.5, 0.36666666666666664, 0.43333333333333335, 0.5, 0.7, 0.5333333333333333, 0.5666666666666667, 0.6, 0.6666666666666666, 0.5333333333333333, 0.5, 0.5333333333333333, 0.5, 0.5, 0.7, 0.43333333333333335, 0.5, 0.4666666666666667, 0.6, 0.6333333333333333, 0.4, 0.43333333333333335, 0.26666666666666666, 0.4, 0.7666666666666667, 0.5, 0.7, 0.6333333333333333, 0.4666666666666667, 0.43333333333333335, 0.6, 0.43333333333333335, 0.3333333333333333, 0.6, 0.6, 0.3333333333333333, 0.5666666666666667, 0.5333333333333333, 0.4, 0.3, 0.5, 0.5333333333333333, 0.5333333333333333, 0.5666666666666667, 0.5666666666666667, 0.7, 0.5333333333333333, 0.4, 0.5333333333333333, 0.5, 0.6333333333333333, 0.5, 0.43333333333333335, 0.5333333333333333, 0.6333333333333333, 0.4666666666666667, 0.5666666666666667, 0.6333333333333333, 0.6333333333333333, 0.5333333333333333, 0.36666666666666664, 0.4666666666666667, 0.6, 0.4666666666666667, 0.43333333333333335, 0.4, 0.4666666666666667, 0.5, 0.4666666666666667, 0.5, 0.5, 0.5666666666666667, 0.43333333333333335, 0.5666666666666667, 0.5333333333333333, 0.5333333333333333, 0.4, 0.4666666666666667, 0.3333333333333333, 0.43333333333333335, 0.5666666666666667, 0.4666666666666667, 0.5666666666666667, 0.5333333333333333, 0.4666666666666667, 0.5666666666666667, 0.5, 0.5333333333333333, 0.43333333333333335, 0.26666666666666666, 0.43333333333333335, 0.6, 0.5, 0.5666666666666667, 0.5666666666666667, 0.5, 0.43333333333333335, 0.5666666666666667, 0.5, 0.5666666666666667, 0.5666666666666667, 0.5333333333333333, 0.5666666666666667, 0.43333333333333335, 0.5333333333333333, 0.3333333333333333, 0.5666666666666667, 0.5666666666666667, 0.5, 0.4, 0.5666666666666667, 0.43333333333333335, 0.4666666666666667, 0.4666666666666667, 0.36666666666666664, 0.5, 0.5333333333333333, 0.5, 0.4666666666666667, 0.5, 0.5333333333333333, 0.5333333333333333, 0.43333333333333335, 0.4, 0.23333333333333334, 0.5, 0.43333333333333335, 0.6333333333333333, 0.5333333333333333, 0.3333333333333333, 0.6333333333333333, 0.4666666666666667, 0.5333333333333333, 0.4666666666666667, 0.5, 0.5, 0.3333333333333333, 0.5333333333333333, 0.5, 0.43333333333333335, 0.5333333333333333, 0.5333333333333333, 0.6333333333333333, 0.3333333333333333, 0.36666666666666664, 0.5333333333333333, 0.3, 0.6333333333333333, 0.43333333333333335, 0.6666666666666666, 0.4666666666666667, 0.6, 0.4, 0.4666666666666667, 0.4, 0.5333333333333333, 0.5333333333333333, 0.6, 0.43333333333333335, 0.7, 0.5666666666666667, 0.4, 0.4666666666666667, 0.6333333333333333, 0.6, 0.5333333333333333, 0.4666666666666667, 0.5, 0.5333333333333333, 0.5, 0.5333333333333333, 0.36666666666666664, 0.5, 0.4666666666666667, 0.5333333333333333, 0.6666666666666666, 0.36666666666666664, 0.3333333333333333, 0.36666666666666664, 0.4666666666666667, 0.36666666666666664, 0.5, 0.5, 0.5333333333333333, 0.6, 0.5333333333333333, 0.7333333333333333, 0.5666666666666667, 0.4, 0.4, 0.4666666666666667, 0.5666666666666667, 0.6333333333333333, 0.7, 0.5333333333333333, 0.5666666666666667, 0.5666666666666667, 0.4666666666666667, 0.43333333333333335, 0.5333333333333333, 0.4, 0.5333333333333333, 0.3333333333333333, 0.4666666666666667, 0.43333333333333335, 0.4666666666666667, 0.43333333333333335, 0.4666666666666667, 0.6, 0.4, 0.5333333333333333, 0.5666666666666667, 0.6, 0.43333333333333335, 0.5, 0.4666666666666667, 0.5, 0.5, 0.4666666666666667, 0.5666666666666667, 0.5666666666666667, 0.6, 0.5, 0.5333333333333333, 0.5333333333333333, 0.5666666666666667, 0.43333333333333335, 0.6333333333333333, 0.5, 0.4666666666666667, 0.7, 0.5333333333333333, 0.6666666666666666, 0.5666666666666667, 0.4666666666666667, 0.4, 0.4666666666666667, 0.3, 0.6, 0.5333333333333333, 0.4, 0.5666666666666667, 0.5666666666666667, 0.43333333333333335, 0.43333333333333335, 0.5666666666666667, 0.43333333333333335, 0.5666666666666667, 0.5333333333333333, 0.4, 0.5666666666666667, 0.5333333333333333, 0.43333333333333335, 0.4, 0.4666666666666667, 0.5666666666666667, 0.5, 0.7333333333333333, 0.6, 0.36666666666666664, 0.4666666666666667, 0.5666666666666667, 0.36666666666666664, 0.5333333333333333, 0.5, 0.23333333333333334, 0.6, 0.7666666666666667, 0.6, 0.5, 0.6, 0.5, 0.5333333333333333, 0.4666666666666667, 0.4666666666666667, 0.6, 0.4666666666666667, 0.7, 0.7333333333333333, 0.5333333333333333, 0.5666666666666667, 0.6666666666666666, 0.5333333333333333, 0.7333333333333333, 0.43333333333333335, 0.5, 0.4666666666666667, 0.4666666666666667, 0.5666666666666667, 0.6, 0.43333333333333335, 0.4666666666666667, 0.4666666666666667, 0.5, 0.36666666666666664, 0.3333333333333333, 0.6333333333333333, 0.5, 0.43333333333333335, 0.6333333333333333, 0.43333333333333335, 0.3333333333333333, 0.43333333333333335, 0.6333333333333333, 0.4666666666666667, 0.4, 0.3333333333333333, 0.6, 0.4, 0.6, 0.5333333333333333, 0.6666666666666666, 0.6, 0.4, 0.5666666666666667, 0.36666666666666664, 0.5, 0.5, 0.5, 0.5333333333333333, 0.4, 0.6333333333333333, 0.5333333333333333, 0.5, 0.5333333333333333, 0.43333333333333335, 0.6, 0.5, 0.5333333333333333, 0.5, 0.6333333333333333, 0.6333333333333333, 0.6666666666666666, 0.5333333333333333, 0.3333333333333333, 0.5333333333333333, 0.5666666666666667, 0.4666666666666667, 0.6333333333333333, 0.5666666666666667, 0.7666666666666667, 0.5666666666666667, 0.5333333333333333, 0.6, 0.5666666666666667, 0.4666666666666667, 0.4, 0.4666666666666667, 0.36666666666666664, 0.43333333333333335, 0.43333333333333335, 0.6, 0.5, 0.5333333333333333, 0.5333333333333333, 0.6333333333333333, 0.5, 0.4, 0.5, 0.5, 0.5, 0.6666666666666666, 0.6333333333333333, 0.5666666666666667, 0.5333333333333333, 0.5, 0.4, 0.4, 0.43333333333333335, 0.6666666666666666, 0.5666666666666667, 0.6666666666666666, 0.5, 0.6, 0.36666666666666664, 0.6, 0.43333333333333335, 0.5333333333333333, 0.5, 0.6, 0.4666666666666667, 0.5333333333333333, 0.43333333333333335, 0.43333333333333335, 0.43333333333333335, 0.5666666666666667, 0.4, 0.5666666666666667, 0.5333333333333333, 0.6333333333333333, 0.43333333333333335, 0.5333333333333333, 0.5333333333333333, 0.6, 0.5666666666666667, 0.43333333333333335, 0.36666666666666664, 0.5666666666666667, 0.6333333333333333, 0.4, 0.6, 0.43333333333333335, 0.6666666666666666, 0.3333333333333333, 0.36666666666666664, 0.36666666666666664, 0.4666666666666667, 0.43333333333333335, 0.4, 0.4666666666666667, 0.4666666666666667, 0.5666666666666667, 0.6333333333333333, 0.4666666666666667, 0.4, 0.6, 0.6, 0.6, 0.6, 0.43333333333333335, 0.4, 0.5666666666666667, 0.5333333333333333, 0.36666666666666664, 0.5333333333333333, 0.5666666666666667, 0.4, 0.6333333333333333, 0.5333333333333333, 0.6, 0.4666666666666667, 0.43333333333333335, 0.5666666666666667, 0.6333333333333333, 0.4, 0.36666666666666664, 0.7, 0.5, 0.4, 0.4, 0.4, 0.5, 0.5, 0.5, 0.5333333333333333, 0.6666666666666666, 0.4666666666666667, 0.3333333333333333, 0.6333333333333333, 0.6, 0.7, 0.3333333333333333, 0.6, 0.6666666666666666, 0.4666666666666667, 0.5333333333333333, 0.6333333333333333, 0.43333333333333335, 0.5333333333333333, 0.4666666666666667, 0.43333333333333335, 0.5, 0.5, 0.5333333333333333, 0.5333333333333333, 0.6333333333333333, 0.4, 0.5666666666666667, 0.6, 0.4666666666666667, 0.4666666666666667, 0.43333333333333335, 0.5, 0.5333333333333333, 0.43333333333333335, 0.43333333333333335, 0.5666666666666667, 0.6, 0.4666666666666667, 0.3333333333333333, 0.4, 0.4666666666666667, 0.43333333333333335, 0.5, 0.5, 0.4, 0.4, 0.36666666666666664, 0.5333333333333333, 0.4666666666666667, 0.5, 0.36666666666666664, 0.43333333333333335, 0.6, 0.43333333333333335, 0.5333333333333333, 0.3, 0.6666666666666666, 0.5, 0.4666666666666667, 0.5333333333333333, 0.4666666666666667, 0.43333333333333335, 0.5666666666666667, 0.4666666666666667, 0.4666666666666667, 0.5, 0.5, 0.5, 0.36666666666666664, 0.5, 0.36666666666666664, 0.43333333333333335, 0.6, 0.5, 0.5333333333333333, 0.6, 0.8, 0.4666666666666667, 0.5, 0.5, 0.5666666666666667, 0.6333333333333333, 0.4666666666666667, 0.5, 0.43333333333333335, 0.5666666666666667, 0.5333333333333333, 0.4, 0.4, 0.5333333333333333, 0.6333333333333333, 0.5333333333333333, 0.43333333333333335, 0.43333333333333335, 0.5333333333333333, 0.4, 0.6, 0.5, 0.4666666666666667, 0.6, 0.43333333333333335, 0.7, 0.6333333333333333, 0.5666666666666667, 0.3333333333333333, 0.5, 0.6333333333333333, 0.7, 0.5333333333333333, 0.43333333333333335, 0.5, 0.4666666666666667, 0.5333333333333333, 0.5, 0.5, 0.4666666666666667, 0.43333333333333335, 0.5333333333333333, 0.4666666666666667, 0.5, 0.5666666666666667, 0.43333333333333335, 0.6, 0.36666666666666664, 0.3333333333333333, 0.43333333333333335, 0.43333333333333335, 0.5333333333333333, 0.5, 0.3333333333333333, 0.4, 0.5666666666666667, 0.5, 0.4, 0.5666666666666667, 0.6333333333333333, 0.5, 0.43333333333333335, 0.43333333333333335, 0.5666666666666667, 0.5666666666666667, 0.5666666666666667, 0.4666666666666667, 0.5, 0.36666666666666664, 0.5666666666666667, 0.4666666666666667, 0.6, 0.5333333333333333, 0.5, 0.43333333333333335, 0.5333333333333333, 0.5333333333333333, 0.5, 0.6, 0.5, 0.5, 0.5, 0.43333333333333335, 0.6666666666666666, 0.3, 0.6, 0.4666666666666667, 0.3, 0.43333333333333335, 0.3, 0.6333333333333333, 0.36666666666666664, 0.6666666666666666, 0.7, 0.5666666666666667, 0.4666666666666667, 0.6, 0.4, 0.5, 0.43333333333333335, 0.6333333333333333, 0.5, 0.4, 0.4, 0.5333333333333333, 0.5666666666666667, 0.5, 0.4666666666666667, 0.5, 0.43333333333333335, 0.5, 0.5, 0.5666666666666667, 0.6333333333333333, 0.4, 0.5, 0.43333333333333335, 0.4, 0.5666666666666667, 0.43333333333333335, 0.36666666666666664, 0.5666666666666667, 0.4666666666666667, 0.7, 0.5666666666666667, 0.5666666666666667, 0.4666666666666667, 0.5, 0.4666666666666667, 0.3333333333333333, 0.16666666666666666, 0.5333333333333333, 0.4666666666666667, 0.43333333333333335, 0.5, 0.5333333333333333, 0.5333333333333333, 0.4666666666666667, 0.43333333333333335, 0.6333333333333333, 0.5666666666666667, 0.6, 0.36666666666666664, 0.4666666666666667, 0.36666666666666664, 0.4, 0.5, 0.5333333333333333, 0.7, 0.5333333333333333, 0.5, 0.5333333333333333, 0.4666666666666667, 0.6333333333333333, 0.4666666666666667, 0.5333333333333333, 0.5666666666666667, 0.6666666666666666, 0.6666666666666666, 0.6666666666666666, 0.5333333333333333, 0.5, 0.4666666666666667, 0.4, 0.5, 0.5333333333333333, 0.4666666666666667, 0.7, 0.5333333333333333, 0.5333333333333333, 0.4666666666666667, 0.43333333333333335, 0.6333333333333333, 0.4666666666666667, 0.5, 0.5666666666666667, 0.5666666666666667, 0.6666666666666666, 0.5, 0.43333333333333335, 0.4, 0.5, 0.4, 0.5333333333333333, 0.6666666666666666, 0.5333333333333333, 0.4666666666666667, 0.4666666666666667, 0.5333333333333333, 0.5, 0.4, 0.4666666666666667, 0.5666666666666667, 0.7666666666666667, 0.5666666666666667, 0.5666666666666667, 0.4, 0.43333333333333335, 0.5, 0.5333333333333333, 0.5666666666666667, 0.3333333333333333, 0.4, 0.5666666666666667, 0.43333333333333335, 0.5666666666666667, 0.4666666666666667, 0.5, 0.5666666666666667, 0.6, 0.6, 0.6, 0.43333333333333335, 0.6, 0.6333333333333333, 0.5, 0.5333333333333333, 0.5666666666666667, 0.4, 0.43333333333333335, 0.43333333333333335, 0.43333333333333335, 0.5, 0.36666666666666664, 0.6333333333333333, 0.5, 0.6, 0.6, 0.5, 0.4666666666666667, 0.4666666666666667, 0.6666666666666666, 0.4, 0.36666666666666664, 0.4666666666666667, 0.5666666666666667, 0.5333333333333333, 0.4666666666666667, 0.2, 0.43333333333333335, 0.4666666666666667, 0.43333333333333335, 0.5333333333333333, 0.5, 0.5666666666666667, 0.5666666666666667, 0.4666666666666667, 0.43333333333333335, 0.5333333333333333, 0.5, 0.5666666666666667, 0.6333333333333333, 0.43333333333333335, 0.5, 0.6666666666666666, 0.4666666666666667, 0.6, 0.4666666666666667, 0.6333333333333333, 0.5, 0.5666666666666667, 0.4, 0.43333333333333335, 0.4, 0.4666666666666667, 0.3333333333333333, 0.5333333333333333, 0.43333333333333335, 0.7333333333333333, 0.5, 0.4, 0.5, 0.4, 0.6, 0.5333333333333333, 0.5, 0.6, 0.5333333333333333, 0.5666666666666667, 0.5333333333333333, 0.6333333333333333, 0.4, 0.3333333333333333, 0.5, 0.5333333333333333, 0.6, 0.5, 0.4666666666666667, 0.5666666666666667, 0.5333333333333333, 0.43333333333333335, 0.5666666666666667, 0.5333333333333333, 0.43333333333333335, 0.4666666666666667, 0.5666666666666667, 0.6, 0.5, 0.6, 0.6, 0.5666666666666667, 0.5, 0.6, 0.5666666666666667, 0.6, 0.5333333333333333, 0.3, 0.26666666666666666, 0.5666666666666667, 0.7, 0.5333333333333333, 0.43333333333333335, 0.4, 0.43333333333333335, 0.3, 0.5333333333333333, 0.6666666666666666, 0.6333333333333333, 0.6333333333333333, 0.4, 0.43333333333333335, 0.43333333333333335, 0.4666666666666667, 0.5666666666666667, 0.5333333333333333, 0.7666666666666667, 0.4, 0.6, 0.36666666666666664, 0.36666666666666664, 0.5, 0.4, 0.4666666666666667, 0.3, 0.5333333333333333, 0.4666666666666667, 0.5333333333333333, 0.4666666666666667, 0.5333333333333333, 0.5333333333333333, 0.5, 0.43333333333333335, 0.4666666666666667, 0.4, 0.43333333333333335, 0.5333333333333333, 0.5, 0.5333333333333333, 0.36666666666666664, 0.7333333333333333, 0.6, 0.5333333333333333, 0.5333333333333333, 0.5333333333333333, 0.43333333333333335, 0.43333333333333335, 0.7333333333333333, 0.7, 0.5666666666666667, 0.5666666666666667, 0.5666666666666667, 0.36666666666666664, 0.6, 0.3, 0.43333333333333335, 0.5333333333333333, 0.4, 0.4, 0.5333333333333333, 0.5333333333333333, 0.5, 0.43333333333333335, 0.5333333333333333, 0.5666666666666667, 0.5666666666666667, 0.6333333333333333, 0.3333333333333333, 0.4, 0.6, 0.4666666666666667, 0.5666666666666667, 0.5, 0.4666666666666667, 0.5333333333333333, 0.5, 0.5333333333333333, 0.5666666666666667, 0.3333333333333333, 0.43333333333333335, 0.6, 0.5666666666666667, 0.4666666666666667, 0.43333333333333335, 0.5, 0.6, 0.4666666666666667, 0.4666666666666667, 0.36666666666666664, 0.4, 0.3333333333333333, 0.4, 0.4666666666666667, 0.4666666666666667, 0.4666666666666667, 0.4666666666666667, 0.3333333333333333, 0.43333333333333335, 0.5666666666666667, 0.43333333333333335, 0.6, 0.6, 0.5333333333333333, 0.36666666666666664, 0.6, 0.4, 0.5666666666666667, 0.5333333333333333, 0.5, 0.4666666666666667, 0.5, 0.6, 0.36666666666666664, 0.4666666666666667, 0.5333333333333333, 0.4, 0.4666666666666667, 0.4, 0.43333333333333335, 0.5, 0.4666666666666667, 0.3333333333333333, 0.4666666666666667, 0.4666666666666667, 0.3333333333333333, 0.5333333333333333, 0.5, 0.5, 0.4, 0.5333333333333333, 0.4666666666666667, 0.43333333333333335, 0.43333333333333335, 0.5333333333333333, 0.43333333333333335, 0.4, 0.6333333333333333, 0.5, 0.36666666666666664, 0.5333333333333333, 0.7, 0.6, 0.5666666666666667, 0.5333333333333333, 0.36666666666666664, 0.3333333333333333, 0.36666666666666664, 0.5666666666666667, 0.4, 0.4666666666666667, 0.43333333333333335, 0.6, 0.6333333333333333, 0.43333333333333335, 0.4666666666666667, 0.43333333333333335, 0.5, 0.4, 0.6666666666666666, 0.5, 0.6, 0.36666666666666664, 0.6, 0.6, 0.5, 0.36666666666666664, 0.5, 0.5, 0.43333333333333335, 0.43333333333333335, 0.4666666666666667, 0.7333333333333333, 0.5333333333333333, 0.43333333333333335, 0.5, 0.5, 0.7, 0.5, 0.5333333333333333, 0.5, 0.4666666666666667, 0.4666666666666667, 0.36666666666666664, 0.4666666666666667, 0.5, 0.4666666666666667, 0.36666666666666664, 0.5333333333333333, 0.43333333333333335, 0.5666666666666667, 0.4666666666666667, 0.5666666666666667, 0.5666666666666667, 0.5, 0.43333333333333335, 0.4666666666666667, 0.6, 0.5333333333333333, 0.4666666666666667, 0.4, 0.6, 0.5666666666666667, 0.6, 0.5, 0.6, 0.5666666666666667, 0.4666666666666667, 0.6, 0.6, 0.3333333333333333, 0.5, 0.5666666666666667, 0.5666666666666667, 0.3, 0.36666666666666664, 0.6, 0.6, 0.4666666666666667, 0.4666666666666667, 0.4666666666666667, 0.5333333333333333, 0.43333333333333335, 0.4666666666666667, 0.5, 0.4666666666666667, 0.36666666666666664, 0.5333333333333333, 0.5, 0.4, 0.4666666666666667, 0.5333333333333333, 0.5333333333333333, 0.5, 0.43333333333333335, 0.6333333333333333, 0.4666666666666667, 0.5333333333333333, 0.5333333333333333, 0.5666666666666667, 0.6, 0.7, 0.6666666666666666, 0.6, 0.5333333333333333, 0.6, 0.5666666666666667, 0.5333333333333333, 0.5333333333333333, 0.36666666666666664, 0.5666666666666667, 0.5666666666666667, 0.7333333333333333, 0.43333333333333335, 0.5, 0.43333333333333335, 0.5, 0.4, 0.5, 0.5, 0.43333333333333335, 0.4, 0.5666666666666667, 0.4666666666666667, 0.4, 0.4666666666666667, 0.36666666666666664, 0.5666666666666667, 0.6666666666666666, 0.4666666666666667, 0.7333333333333333, 0.5, 0.5, 0.6, 0.4666666666666667, 0.6333333333333333, 0.6, 0.5333333333333333, 0.5, 0.5666666666666667, 0.5666666666666667, 0.4666666666666667, 0.36666666666666664, 0.7, 0.6333333333333333, 0.5, 0.4666666666666667, 0.5333333333333333, 0.5, 0.5666666666666667, 0.4, 0.5666666666666667, 0.6, 0.43333333333333335, 0.6, 0.5333333333333333, 0.43333333333333335, 0.5333333333333333, 0.5, 0.5666666666666667, 0.6, 0.4666666666666667, 0.6333333333333333, 0.43333333333333335, 0.5, 0.5666666666666667, 0.5666666666666667, 0.4666666666666667, 0.43333333333333335, 0.4666666666666667, 0.5333333333333333, 0.5, 0.3333333333333333, 0.5, 0.7, 0.4, 0.5666666666666667, 0.5333333333333333, 0.5, 0.5333333333333333, 0.5, 0.6, 0.4, 0.5, 0.5333333333333333, 0.5666666666666667, 0.5333333333333333, 0.5333333333333333, 0.5666666666666667, 0.7333333333333333, 0.43333333333333335, 0.4666666666666667, 0.3, 0.3333333333333333, 0.5333333333333333, 0.4666666666666667, 0.6666666666666666, 0.5, 0.4666666666666667, 0.4666666666666667, 0.4, 0.5, 0.43333333333333335, 0.4666666666666667, 0.4666666666666667, 0.5, 0.4666666666666667, 0.36666666666666664, 0.5, 0.4666666666666667, 0.5666666666666667, 0.3333333333333333, 0.4666666666666667, 0.5333333333333333, 0.5, 0.43333333333333335, 0.5, 0.6, 0.5666666666666667, 0.5666666666666667, 0.4, 0.3333333333333333, 0.5666666666666667, 0.36666666666666664, 0.4, 0.5666666666666667, 0.4, 0.5333333333333333, 0.3, 0.5666666666666667, 0.5, 0.26666666666666666, 0.26666666666666666, 0.6333333333333333, 0.3333333333333333, 0.5666666666666667, 0.5666666666666667, 0.5333333333333333, 0.5, 0.4666666666666667, 0.5333333333333333, 0.5333333333333333, 0.5666666666666667, 0.5, 0.5, 0.5333333333333333, 0.4, 0.4, 0.5333333333333333, 0.4666666666666667, 0.5333333333333333, 0.6, 0.4, 0.4, 0.5, 0.7, 0.5666666666666667, 0.36666666666666664, 0.5666666666666667, 0.43333333333333335, 0.6, 0.5333333333333333, 0.4, 0.4, 0.4, 0.5666666666666667, 0.3, 0.5333333333333333, 0.6333333333333333, 0.5666666666666667, 0.5666666666666667, 0.43333333333333335, 0.5, 0.4666666666666667, 0.5333333333333333, 0.5333333333333333, 0.43333333333333335, 0.6, 0.5333333333333333, 0.5666666666666667, 0.4, 0.5666666666666667, 0.6, 0.5333333333333333, 0.6, 0.5666666666666667, 0.5, 0.6, 0.43333333333333335, 0.5666666666666667, 0.5666666666666667, 0.5333333333333333, 0.6333333333333333, 0.5333333333333333, 0.43333333333333335, 0.43333333333333335, 0.6, 0.4666666666666667, 0.4666666666666667, 0.36666666666666664, 0.36666666666666664, 0.5333333333333333, 0.5, 0.3333333333333333, 0.5, 0.4666666666666667, 0.43333333333333335, 0.4666666666666667, 0.4, 0.5, 0.4666666666666667, 0.3, 0.3333333333333333, 0.3333333333333333, 0.43333333333333335, 0.5666666666666667, 0.6, 0.6, 0.5, 0.6, 0.5333333333333333, 0.43333333333333335, 0.5666666666666667, 0.4666666666666667, 0.43333333333333335, 0.5, 0.6333333333333333, 0.4, 0.7, 0.4666666666666667, 0.4, 0.6, 0.3, 0.36666666666666664, 0.5666666666666667, 0.3333333333333333, 0.4666666666666667, 0.4666666666666667, 0.43333333333333335, 0.5333333333333333, 0.4, 0.5666666666666667, 0.5, 0.5666666666666667, 0.5333333333333333, 0.5666666666666667, 0.5, 0.5333333333333333, 0.36666666666666664, 0.3, 0.5, 0.5, 0.5333333333333333, 0.6333333333333333, 0.43333333333333335, 0.43333333333333335, 0.43333333333333335, 0.5333333333333333, 0.43333333333333335, 0.5666666666666667, 0.5666666666666667, 0.5, 0.5, 0.5333333333333333, 0.5, 0.4666666666666667, 0.5, 0.4666666666666667, 0.3333333333333333, 0.5, 0.6, 0.4666666666666667, 0.4, 0.6333333333333333, 0.5333333333333333, 0.5, 0.4666666666666667, 0.5, 0.6, 0.4, 0.6333333333333333, 0.36666666666666664, 0.5, 0.5666666666666667, 0.43333333333333335, 0.5333333333333333, 0.5666666666666667, 0.4, 0.5666666666666667, 0.36666666666666664, 0.6666666666666666, 0.43333333333333335, 0.3333333333333333, 0.5666666666666667, 0.5, 0.6, 0.43333333333333335, 0.36666666666666664, 0.5666666666666667, 0.6, 0.5333333333333333, 0.6, 0.5666666666666667, 0.4666666666666667, 0.43333333333333335, 0.5333333333333333, 0.5333333333333333, 0.5333333333333333, 0.3333333333333333, 0.5, 0.5666666666666667, 0.4, 0.6, 0.4666666666666667, 0.36666666666666664, 0.6333333333333333, 0.5666666666666667, 0.5, 0.3333333333333333, 0.36666666666666664, 0.43333333333333335, 0.4666666666666667, 0.5, 0.6, 0.4666666666666667, 0.5666666666666667, 0.4666666666666667, 0.5, 0.36666666666666664, 0.4666666666666667, 0.4, 0.6333333333333333, 0.6, 0.5333333333333333, 0.5, 0.5666666666666667, 0.5666666666666667, 0.5333333333333333, 0.4666666666666667, 0.5, 0.4666666666666667, 0.3333333333333333, 0.4666666666666667, 0.5666666666666667, 0.36666666666666664, 0.6666666666666666, 0.3, 0.6333333333333333, 0.43333333333333335, 0.5666666666666667, 0.26666666666666666, 0.5, 0.4666666666666667, 0.43333333333333335, 0.5333333333333333, 0.5666666666666667, 0.6, 0.5, 0.43333333333333335, 0.4666666666666667, 0.5666666666666667, 0.5, 0.4666666666666667, 0.36666666666666664, 0.6, 0.5, 0.4666666666666667, 0.36666666666666664, 0.5333333333333333, 0.6333333333333333, 0.5, 0.43333333333333335, 0.3333333333333333, 0.5666666666666667, 0.5666666666666667, 0.5666666666666667, 0.5333333333333333, 0.5666666666666667, 0.6, 0.5, 0.4, 0.5333333333333333, 0.5, 0.4666666666666667, 0.4666666666666667, 0.4666666666666667, 0.3333333333333333, 0.5333333333333333, 0.6666666666666666, 0.4666666666666667, 0.6, 0.5, 0.5, 0.6, 0.3333333333333333, 0.4666666666666667, 0.5666666666666667, 0.5333333333333333, 0.4666666666666667, 0.5, 0.5333333333333333, 0.43333333333333335, 0.5333333333333333, 0.5, 0.5333333333333333, 0.5333333333333333, 0.5666666666666667, 0.5333333333333333, 0.5333333333333333, 0.4, 0.4666666666666667, 0.5, 0.4, 0.6333333333333333, 0.6, 0.4, 0.4666666666666667, 0.4, 0.4, 0.5, 0.6333333333333333, 0.36666666666666664, 0.26666666666666666, 0.6333333333333333, 0.6333333333333333, 0.4666666666666667, 0.5, 0.5666666666666667, 0.6666666666666666, 0.6, 0.6333333333333333, 0.6, 0.5666666666666667, 0.4666666666666667, 0.43333333333333335, 0.5666666666666667, 0.4666666666666667, 0.6333333333333333, 0.5, 0.5, 0.5666666666666667, 0.36666666666666664, 0.4666666666666667, 0.5666666666666667, 0.4666666666666667, 0.4666666666666667, 0.5666666666666667, 0.5666666666666667, 0.6333333333333333, 0.4666666666666667, 0.6, 0.5333333333333333, 0.7, 0.43333333333333335, 0.4, 0.6333333333333333, 0.6666666666666666, 0.6666666666666666, 0.4, 0.43333333333333335, 0.43333333333333335, 0.6, 0.5333333333333333, 0.5333333333333333, 0.5333333333333333, 0.43333333333333335, 0.5666666666666667, 0.6333333333333333, 0.6333333333333333, 0.5666666666666667, 0.36666666666666664, 0.4666666666666667, 0.5, 0.43333333333333335, 0.5, 0.5666666666666667, 0.5666666666666667, 0.5, 0.4666666666666667, 0.5, 0.6333333333333333, 0.4666666666666667, 0.4, 0.4666666666666667, 0.6333333333333333, 0.3, 0.6, 0.43333333333333335, 0.36666666666666664, 0.4666666666666667, 0.6, 0.5666666666666667, 0.5666666666666667, 0.7, 0.6666666666666666, 0.3, 0.43333333333333335, 0.5666666666666667, 0.6333333333333333, 0.4666666666666667, 0.6666666666666666, 0.43333333333333335, 0.7333333333333333, 0.4666666666666667, 0.6, 0.6333333333333333, 0.4666666666666667, 0.5, 0.36666666666666664, 0.4666666666666667, 0.5333333333333333, 0.5, 0.5, 0.5, 0.5333333333333333, 0.5333333333333333, 0.5333333333333333, 0.5333333333333333, 0.43333333333333335, 0.5, 0.43333333333333335, 0.5, 0.5, 0.5333333333333333, 0.5333333333333333, 0.5666666666666667, 0.43333333333333335, 0.6, 0.36666666666666664, 0.6666666666666666, 0.5333333333333333, 0.6, 0.5, 0.6333333333333333, 0.5666666666666667, 0.43333333333333335, 0.5333333333333333, 0.4, 0.43333333333333335, 0.5, 0.4666666666666667, 0.4, 0.4666666666666667, 0.5, 0.3, 0.5666666666666667, 0.43333333333333335, 0.43333333333333335, 0.6666666666666666, 0.5333333333333333, 0.5666666666666667, 0.5333333333333333, 0.4666666666666667, 0.4666666666666667, 0.5, 0.4666666666666667, 0.43333333333333335, 0.6666666666666666, 0.3333333333333333, 0.6, 0.4666666666666667, 0.5333333333333333, 0.7, 0.4666666666666667, 0.4, 0.5333333333333333, 0.5, 0.36666666666666664, 0.5, 0.4666666666666667, 0.26666666666666666, 0.5, 0.5666666666666667, 0.5666666666666667, 0.5333333333333333, 0.4666666666666667, 0.5333333333333333, 0.43333333333333335, 0.43333333333333335, 0.4666666666666667, 0.5333333333333333, 0.4666666666666667, 0.4, 0.5333333333333333, 0.36666666666666664, 0.5, 0.3, 0.6333333333333333, 0.4, 0.6666666666666666, 0.5, 0.5333333333333333, 0.6666666666666666, 0.43333333333333335, 0.5333333333333333, 0.43333333333333335, 0.5, 0.3333333333333333, 0.4, 0.3333333333333333, 0.4666666666666667, 0.6, 0.2, 0.5666666666666667, 0.5, 0.36666666666666664, 0.5666666666666667, 0.5666666666666667, 0.6333333333333333, 0.5, 0.4, 0.4, 0.5666666666666667, 0.6666666666666666, 0.4666666666666667, 0.5666666666666667, 0.5333333333333333, 0.5, 0.4666666666666667, 0.5333333333333333, 0.7, 0.6, 0.5, 0.4666666666666667, 0.23333333333333334, 0.5, 0.4666666666666667, 0.4, 0.5333333333333333, 0.4666666666666667, 0.4666666666666667, 0.5666666666666667, 0.5333333333333333, 0.3333333333333333, 0.4, 0.5333333333333333, 0.5, 0.5333333333333333, 0.43333333333333335, 0.4666666666666667, 0.5666666666666667, 0.5333333333333333, 0.5, 0.6333333333333333, 0.6, 0.4, 0.5, 0.36666666666666664, 0.5666666666666667, 0.6333333333333333, 0.6, 0.5666666666666667, 0.6, 0.6333333333333333, 0.6, 0.5666666666666667, 0.4666666666666667, 0.5333333333333333, 0.5, 0.43333333333333335, 0.6333333333333333, 0.5333333333333333, 0.6, 0.3, 0.5, 0.4, 0.5333333333333333, 0.36666666666666664, 0.6, 0.6, 0.6333333333333333, 0.5666666666666667, 0.5333333333333333, 0.43333333333333335, 0.5666666666666667, 0.4, 0.4666666666666667, 0.4666666666666667, 0.36666666666666664, 0.4666666666666667, 0.4, 0.36666666666666664, 0.5, 0.5333333333333333, 0.43333333333333335, 0.5, 0.6333333333333333, 0.3333333333333333, 0.6, 0.4, 0.43333333333333335, 0.6, 0.5666666666666667, 0.5333333333333333, 0.6, 0.5333333333333333, 0.4666666666666667, 0.5, 0.43333333333333335, 0.5333333333333333, 0.5666666666666667, 0.5666666666666667, 0.6, 0.4666666666666667, 0.4, 0.43333333333333335, 0.4666666666666667, 0.4, 0.4666666666666667, 0.5333333333333333, 0.4666666666666667, 0.4, 0.4666666666666667, 0.4666666666666667, 0.6, 0.6333333333333333, 0.5666666666666667, 0.7333333333333333, 0.5, 0.43333333333333335, 0.4666666666666667, 0.5666666666666667, 0.5, 0.4666666666666667, 0.5, 0.6666666666666666, 0.5, 0.5333333333333333, 0.6, 0.6333333333333333, 0.7, 0.5666666666666667, 0.3, 0.5333333333333333, 0.5333333333333333, 0.4666666666666667, 0.5, 0.4666666666666667, 0.5666666666666667, 0.4, 0.5, 0.5, 0.4666666666666667, 0.43333333333333335, 0.5333333333333333, 0.5, 0.5333333333333333, 0.3, 0.5, 0.5, 0.6, 0.5, 0.5666666666666667, 0.5666666666666667, 0.3, 0.4, 0.6333333333333333, 0.5, 0.43333333333333335, 0.4, 0.4666666666666667, 0.4666666666666667, 0.5333333333333333, 0.43333333333333335, 0.4666666666666667, 0.6, 0.5, 0.43333333333333335, 0.43333333333333335, 0.5666666666666667, 0.5, 0.6, 0.5666666666666667, 0.5666666666666667, 0.4666666666666667, 0.5666666666666667, 0.5, 0.4666666666666667, 0.5, 0.6333333333333333, 0.5, 0.6666666666666666, 0.5333333333333333, 0.43333333333333335, 0.43333333333333335, 0.36666666666666664, 0.4, 0.43333333333333335, 0.6666666666666666, 0.5666666666666667, 0.43333333333333335, 0.5666666666666667, 0.43333333333333335, 0.36666666666666664, 0.3, 0.3333333333333333, 0.5666666666666667, 0.43333333333333335, 0.4, 0.43333333333333335, 0.5666666666666667, 0.5333333333333333, 0.6, 0.6333333333333333, 0.43333333333333335, 0.5333333333333333, 0.3333333333333333, 0.7333333333333333, 0.5, 0.5, 0.4, 0.5, 0.4666666666666667, 0.4666666666666667, 0.4666666666666667, 0.5333333333333333, 0.4666666666666667, 0.5666666666666667, 0.5333333333333333, 0.5333333333333333, 0.43333333333333335, 0.4, 0.5, 0.5, 0.26666666666666666, 0.5, 0.6, 0.5666666666666667, 0.4666666666666667, 0.43333333333333335, 0.6333333333333333, 0.5333333333333333, 0.7333333333333333, 0.3333333333333333, 0.5, 0.4666666666666667, 0.7333333333333333, 0.5333333333333333, 0.5666666666666667, 0.6, 0.4666666666666667, 0.43333333333333335, 0.4666666666666667, 0.4666666666666667, 0.43333333333333335, 0.5666666666666667, 0.5333333333333333, 0.6, 0.4666666666666667, 0.6, 0.4666666666666667, 0.5666666666666667, 0.4, 0.5333333333333333, 0.5, 0.5333333333333333, 0.3, 0.3333333333333333, 0.4666666666666667, 0.5333333333333333, 0.5, 0.5, 0.4666666666666667, 0.4666666666666667, 0.4, 0.6, 0.43333333333333335, 0.6, 0.4, 0.5333333333333333, 0.6333333333333333, 0.4666666666666667, 0.43333333333333335, 0.4666666666666667, 0.6, 0.5333333333333333, 0.4, 0.5, 0.6, 0.4, 0.4666666666666667, 0.4666666666666667, 0.4666666666666667, 0.4666666666666667, 0.5333333333333333, 0.5, 0.4666666666666667, 0.5, 0.6, 0.4, 0.6666666666666666, 0.5, 0.5666666666666667, 0.4666666666666667, 0.5666666666666667, 0.5, 0.36666666666666664, 0.3, 0.6666666666666666, 0.5, 0.4, 0.5666666666666667, 0.43333333333333335, 0.4666666666666667, 0.3333333333333333, 0.5666666666666667, 0.6, 0.6, 0.4, 0.5333333333333333, 0.5666666666666667, 0.4666666666666667, 0.5, 0.4666666666666667, 0.43333333333333335, 0.4666666666666667, 0.6, 0.5, 0.6666666666666666, 0.4666666666666667, 0.6333333333333333, 0.5333333333333333, 0.6, 0.4666666666666667, 0.43333333333333335, 0.43333333333333335, 0.7333333333333333, 0.6, 0.3, 0.5, 0.4, 0.43333333333333335, 0.5666666666666667, 0.43333333333333335, 0.4666666666666667, 0.7, 0.5666666666666667, 0.4666666666666667, 0.5666666666666667, 0.6333333333333333, 0.5666666666666667, 0.43333333333333335, 0.43333333333333335, 0.5666666666666667, 0.4666666666666667, 0.4666666666666667, 0.5666666666666667, 0.36666666666666664, 0.5666666666666667, 0.43333333333333335, 0.6666666666666666, 0.4666666666666667, 0.3, 0.36666666666666664, 0.4666666666666667, 0.6333333333333333, 0.5666666666666667, 0.26666666666666666, 0.5, 0.5, 0.6333333333333333, 0.4666666666666667, 0.5333333333333333, 0.5666666666666667, 0.5666666666666667, 0.6333333333333333, 0.4, 0.6333333333333333, 0.5333333333333333, 0.5, 0.6333333333333333, 0.43333333333333335, 0.6333333333333333, 0.5333333333333333, 0.5, 0.5666666666666667, 0.4666666666666667, 0.36666666666666664, 0.5, 0.5666666666666667, 0.5666666666666667, 0.5333333333333333, 0.5, 0.5666666666666667, 0.5, 0.5333333333333333, 0.4, 0.5, 0.5666666666666667, 0.43333333333333335, 0.5666666666666667, 0.5333333333333333, 0.43333333333333335, 0.43333333333333335, 0.5333333333333333, 0.5333333333333333, 0.43333333333333335, 0.4, 0.5666666666666667, 0.4666666666666667, 0.5333333333333333, 0.6666666666666666, 0.4666666666666667, 0.43333333333333335, 0.4666666666666667, 0.5333333333333333, 0.4666666666666667, 0.4666666666666667, 0.43333333333333335, 0.4666666666666667, 0.6666666666666666, 0.6, 0.5, 0.4, 0.4, 0.43333333333333335, 0.36666666666666664, 0.5333333333333333, 0.6, 0.4666666666666667, 0.6333333333333333, 0.5, 0.3, 0.5, 0.5666666666666667, 0.43333333333333335, 0.4666666666666667, 0.3, 0.5333333333333333, 0.43333333333333335, 0.5, 0.4666666666666667, 0.6, 0.43333333333333335, 0.5, 0.7, 0.4, 0.4666666666666667, 0.43333333333333335, 0.5333333333333333, 0.6, 0.4, 0.4, 0.43333333333333335, 0.6666666666666666, 0.5333333333333333, 0.4, 0.36666666666666664, 0.5, 0.4666666666666667, 0.43333333333333335, 0.3, 0.6, 0.4666666666666667, 0.5333333333333333, 0.5333333333333333, 0.43333333333333335, 0.3333333333333333, 0.5666666666666667, 0.43333333333333335, 0.5333333333333333, 0.5666666666666667, 0.6, 0.43333333333333335, 0.5666666666666667, 0.36666666666666664, 0.4, 0.4, 0.4, 0.5666666666666667, 0.4666666666666667, 0.4666666666666667, 0.6, 0.3333333333333333, 0.6, 0.5666666666666667, 0.43333333333333335, 0.4666666666666667, 0.4666666666666667, 0.4, 0.4666666666666667, 0.5666666666666667, 0.5, 0.6333333333333333, 0.3333333333333333, 0.4666666666666667, 0.5666666666666667, 0.5333333333333333, 0.5333333333333333, 0.36666666666666664, 0.4, 0.43333333333333335, 0.5666666666666667, 0.4666666666666667, 0.5666666666666667, 0.4, 0.43333333333333335, 0.4666666666666667, 0.36666666666666664, 0.6, 0.4666666666666667, 0.43333333333333335, 0.5333333333333333, 0.36666666666666664, 0.36666666666666664, 0.5666666666666667, 0.5333333333333333, 0.5, 0.5333333333333333, 0.5, 0.5, 0.6333333333333333, 0.4, 0.6, 0.3333333333333333, 0.6333333333333333, 0.4, 0.4666666666666667, 0.36666666666666664, 0.6, 0.5, 0.36666666666666664, 0.7, 0.5, 0.6333333333333333, 0.5666666666666667, 0.6666666666666666, 0.4666666666666667, 0.4, 0.43333333333333335, 0.5, 0.6, 0.5333333333333333, 0.4666666666666667, 0.5, 0.43333333333333335, 0.5, 0.6333333333333333, 0.5333333333333333, 0.6, 0.4666666666666667, 0.4, 0.4666666666666667, 0.6, 0.4666666666666667, 0.4666666666666667, 0.4, 0.5, 0.4666666666666667, 0.5, 0.36666666666666664, 0.26666666666666666, 0.4666666666666667, 0.4, 0.5, 0.5333333333333333, 0.5333333333333333, 0.5666666666666667, 0.43333333333333335, 0.5333333333333333, 0.4, 0.6333333333333333, 0.43333333333333335, 0.43333333333333335, 0.5333333333333333, 0.36666666666666664, 0.5333333333333333, 0.4666666666666667, 0.4, 0.5666666666666667, 0.5333333333333333, 0.23333333333333334, 0.5333333333333333, 0.5333333333333333, 0.6, 0.43333333333333335, 0.4666666666666667, 0.7, 0.43333333333333335, 0.6, 0.5333333333333333, 0.5, 0.3333333333333333, 0.5, 0.43333333333333335, 0.5333333333333333, 0.4666666666666667, 0.5, 0.5, 0.6, 0.5666666666666667, 0.4666666666666667, 0.4, 0.43333333333333335, 0.43333333333333335, 0.5, 0.5333333333333333, 0.36666666666666664, 0.5333333333333333, 0.4, 0.5, 0.6666666666666666, 0.5666666666666667, 0.4, 0.4666666666666667, 0.36666666666666664, 0.4666666666666667, 0.3333333333333333, 0.5333333333333333, 0.6666666666666666, 0.5, 0.43333333333333335, 0.4666666666666667, 0.5, 0.4666666666666667, 0.4666666666666667, 0.4666666666666667, 0.5333333333333333, 0.5666666666666667, 0.4666666666666667, 0.26666666666666666, 0.5333333333333333, 0.36666666666666664, 0.4666666666666667, 0.43333333333333335, 0.5, 0.4666666666666667, 0.43333333333333335, 0.5333333333333333, 0.5, 0.6, 0.5333333333333333, 0.4666666666666667, 0.6, 0.5, 0.4666666666666667, 0.5666666666666667, 0.6333333333333333, 0.36666666666666664, 0.5333333333333333, 0.6, 0.5333333333333333, 0.5333333333333333, 0.5666666666666667, 0.4666666666666667, 0.5333333333333333, 0.43333333333333335, 0.5, 0.43333333333333335, 0.4, 0.5, 0.4, 0.4, 0.5333333333333333, 0.5333333333333333, 0.6, 0.3333333333333333, 0.43333333333333335, 0.5333333333333333, 0.3, 0.4, 0.6666666666666666, 0.4, 0.5, 0.5333333333333333, 0.3333333333333333, 0.5666666666666667, 0.5, 0.3333333333333333, 0.7, 0.43333333333333335, 0.36666666666666664, 0.5, 0.5, 0.6, 0.5333333333333333, 0.5, 0.5, 0.36666666666666664, 0.6, 0.43333333333333335, 0.5666666666666667, 0.5666666666666667, 0.5, 0.43333333333333335, 0.6, 0.4, 0.6333333333333333, 0.6666666666666666, 0.6666666666666666, 0.43333333333333335, 0.4, 0.43333333333333335, 0.4666666666666667, 0.43333333333333335, 0.36666666666666664, 0.5, 0.5333333333333333, 0.6, 0.5666666666666667, 0.5333333333333333, 0.6, 0.6333333333333333, 0.4, 0.3, 0.36666666666666664, 0.6, 0.4666666666666667, 0.43333333333333335, 0.36666666666666664, 0.5, 0.4666666666666667, 0.6333333333333333, 0.7, 0.43333333333333335, 0.4666666666666667, 0.36666666666666664, 0.6333333333333333, 0.5, 0.4666666666666667, 0.4666666666666667, 0.6333333333333333, 0.5333333333333333, 0.5, 0.5, 0.5, 0.5333333333333333, 0.5333333333333333, 0.5666666666666667, 0.5666666666666667, 0.5, 0.4666666666666667, 0.5666666666666667, 0.4666666666666667, 0.5, 0.3, 0.5, 0.6, 0.4, 0.4666666666666667, 0.4, 0.5666666666666667, 0.36666666666666664, 0.6333333333333333, 0.5, 0.26666666666666666, 0.43333333333333335, 0.4, 0.4666666666666667, 0.43333333333333335, 0.5333333333333333, 0.5, 0.4666666666666667, 0.6333333333333333, 0.43333333333333335, 0.3333333333333333, 0.36666666666666664, 0.4, 0.3333333333333333, 0.7333333333333333, 0.5666666666666667, 0.5666666666666667, 0.5666666666666667, 0.4, 0.4666666666666667, 0.6, 0.7, 0.5666666666666667, 0.3, 0.36666666666666664, 0.5, 0.6, 0.6333333333333333, 0.23333333333333334, 0.4, 0.5333333333333333, 0.6, 0.4666666666666667, 0.4666666666666667, 0.6666666666666666, 0.5333333333333333, 0.5333333333333333, 0.4666666666666667, 0.7333333333333333, 0.5333333333333333, 0.4666666666666667, 0.6, 0.4666666666666667, 0.43333333333333335, 0.6666666666666666, 0.6, 0.5, 0.5666666666666667, 0.43333333333333335, 0.5, 0.43333333333333335, 0.5, 0.5333333333333333, 0.5666666666666667, 0.5333333333333333, 0.4, 0.26666666666666666, 0.5666666666666667, 0.5333333333333333, 0.4666666666666667, 0.5, 0.43333333333333335, 0.4, 0.5666666666666667, 0.5333333333333333, 0.5666666666666667, 0.43333333333333335, 0.43333333333333335, 0.4, 0.43333333333333335, 0.4, 0.4666666666666667, 0.5333333333333333, 0.4, 0.3, 0.43333333333333335, 0.5333333333333333, 0.5, 0.5666666666666667, 0.4666666666666667, 0.4666666666666667, 0.36666666666666664, 0.4666666666666667, 0.5, 0.6666666666666666, 0.5333333333333333, 0.5333333333333333, 0.4, 0.6666666666666666, 0.36666666666666664, 0.4666666666666667, 0.43333333333333335, 0.4666666666666667, 0.5, 0.4, 0.4, 0.6333333333333333, 0.6666666666666666, 0.7, 0.6, 0.43333333333333335, 0.4666666666666667, 0.36666666666666664, 0.4666666666666667, 0.6333333333333333, 0.5666666666666667, 0.43333333333333335, 0.6333333333333333, 0.4666666666666667, 0.5, 0.4666666666666667, 0.5333333333333333, 0.5333333333333333, 0.3, 0.4, 0.4666666666666667, 0.5, 0.4666666666666667, 0.5, 0.4666666666666667, 0.4666666666666667, 0.6, 0.5333333333333333, 0.4, 0.5, 0.4, 0.6333333333333333, 0.3, 0.6666666666666666, 0.5666666666666667, 0.43333333333333335, 0.6, 0.43333333333333335, 0.4666666666666667, 0.5666666666666667, 0.43333333333333335, 0.5666666666666667, 0.3333333333333333, 0.5, 0.5333333333333333, 0.5, 0.5333333333333333, 0.6, 0.4666666666666667, 0.5333333333333333, 0.43333333333333335, 0.5, 0.6, 0.43333333333333335, 0.7, 0.5, 0.6, 0.5, 0.3, 0.5, 0.5333333333333333, 0.36666666666666664, 0.5333333333333333, 0.6, 0.5666666666666667, 0.7333333333333333, 0.3333333333333333, 0.5333333333333333, 0.6, 0.5, 0.5, 0.5666666666666667, 0.5666666666666667, 0.5, 0.5666666666666667, 0.5, 0.4, 0.43333333333333335, 0.5666666666666667, 0.6, 0.43333333333333335, 0.5666666666666667, 0.43333333333333335, 0.36666666666666664, 0.6, 0.4, 0.36666666666666664, 0.3333333333333333, 0.6333333333333333, 0.5333333333333333, 0.6333333333333333, 0.36666666666666664, 0.5, 0.5, 0.43333333333333335, 0.6, 0.5666666666666667, 0.4666666666666667, 0.5666666666666667, 0.5333333333333333, 0.4666666666666667, 0.6333333333333333, 0.3, 0.6, 0.4, 0.4666666666666667, 0.5333333333333333, 0.36666666666666664, 0.43333333333333335, 0.5666666666666667, 0.5333333333333333, 0.5333333333333333, 0.43333333333333335, 0.26666666666666666, 0.43333333333333335, 0.6333333333333333, 0.4, 0.4666666666666667, 0.5333333333333333, 0.5, 0.3333333333333333, 0.6666666666666666, 0.5666666666666667, 0.43333333333333335, 0.36666666666666664, 0.6333333333333333, 0.6, 0.6, 0.6, 0.5666666666666667, 0.5333333333333333, 0.5, 0.43333333333333335, 0.6, 0.4, 0.5, 0.43333333333333335, 0.4666666666666667, 0.4, 0.4666666666666667, 0.5666666666666667, 0.7, 0.4, 0.5333333333333333, 0.2, 0.6333333333333333, 0.5333333333333333, 0.7, 0.5, 0.4, 0.5333333333333333, 0.5333333333333333, 0.5, 0.36666666666666664, 0.43333333333333335, 0.5, 0.5, 0.4666666666666667, 0.4, 0.4666666666666667, 0.4666666666666667, 0.36666666666666664, 0.6, 0.5333333333333333, 0.6666666666666666, 0.4666666666666667, 0.36666666666666664, 0.4, 0.5333333333333333, 0.36666666666666664, 0.4666666666666667, 0.5, 0.43333333333333335, 0.4666666666666667, 0.5666666666666667, 0.4, 0.5333333333333333, 0.4, 0.3333333333333333, 0.5, 0.6, 0.5333333333333333, 0.36666666666666664, 0.6333333333333333, 0.5, 0.5, 0.6333333333333333, 0.26666666666666666, 0.4666666666666667, 0.6333333333333333, 0.5333333333333333, 0.43333333333333335, 0.6666666666666666, 0.43333333333333335, 0.5, 0.3333333333333333, 0.5333333333333333, 0.5666666666666667, 0.6333333333333333, 0.43333333333333335, 0.5666666666666667, 0.4, 0.4, 0.6333333333333333, 0.4666666666666667, 0.5666666666666667, 0.36666666666666664, 0.5666666666666667, 0.5333333333333333, 0.4, 0.5333333333333333, 0.36666666666666664, 0.5, 0.4666666666666667, 0.43333333333333335, 0.4, 0.43333333333333335, 0.6, 0.5666666666666667, 0.7, 0.6, 0.4666666666666667, 0.4666666666666667, 0.43333333333333335, 0.5, 0.5666666666666667, 0.4, 0.4, 0.5, 0.4666666666666667, 0.43333333333333335, 0.4666666666666667, 0.43333333333333335, 0.5333333333333333, 0.4666666666666667, 0.5, 0.6, 0.5333333333333333, 0.5333333333333333, 0.5666666666666667, 0.3, 0.5666666666666667, 0.5666666666666667, 0.6, 0.4666666666666667, 0.4666666666666667, 0.43333333333333335, 0.43333333333333335, 0.4666666666666667, 0.43333333333333335, 0.6, 0.6666666666666666, 0.3333333333333333, 0.4666666666666667, 0.6333333333333333, 0.4666666666666667, 0.5666666666666667, 0.5333333333333333, 0.4666666666666667, 0.3333333333333333, 0.4, 0.43333333333333335, 0.6, 0.5333333333333333, 0.3, 0.5, 0.5, 0.5333333333333333, 0.5333333333333333, 0.4666666666666667, 0.36666666666666664, 0.36666666666666664, 0.36666666666666664, 0.5333333333333333, 0.43333333333333335, 0.4666666666666667, 0.5, 0.5, 0.5666666666666667, 0.4666666666666667, 0.5333333333333333, 0.6666666666666666, 0.4666666666666667, 0.4666666666666667, 0.4, 0.6333333333333333, 0.6333333333333333, 0.3333333333333333, 0.43333333333333335, 0.6, 0.6666666666666666, 0.36666666666666664, 0.6, 0.36666666666666664, 0.6, 0.5333333333333333, 0.4, 0.3333333333333333, 0.43333333333333335, 0.4, 0.8, 0.5666666666666667, 0.43333333333333335, 0.4666666666666667, 0.5333333333333333, 0.4666666666666667, 0.5, 0.43333333333333335, 0.5333333333333333, 0.6333333333333333, 0.43333333333333335, 0.4, 0.5333333333333333, 0.4666666666666667, 0.36666666666666664, 0.43333333333333335, 0.5666666666666667, 0.4666666666666667, 0.43333333333333335, 0.5666666666666667, 0.6, 0.5666666666666667, 0.5333333333333333, 0.7, 0.7333333333333333, 0.4, 0.5666666666666667, 0.6666666666666666, 0.5333333333333333, 0.5666666666666667, 0.4666666666666667, 0.6, 0.5666666666666667, 0.4666666666666667, 0.3, 0.4666666666666667, 0.5, 0.5, 0.4666666666666667, 0.5666666666666667, 0.5333333333333333, 0.5, 0.6, 0.5666666666666667, 0.5, 0.3, 0.6333333333333333, 0.6333333333333333, 0.43333333333333335, 0.36666666666666664, 0.43333333333333335, 0.5, 0.43333333333333335, 0.5333333333333333, 0.36666666666666664, 0.5666666666666667, 0.4666666666666667, 0.36666666666666664, 0.6, 0.5666666666666667, 0.36666666666666664, 0.6333333333333333, 0.4, 0.5, 0.4, 0.4, 0.43333333333333335, 0.43333333333333335, 0.6333333333333333, 0.5, 0.5, 0.5333333333333333, 0.5666666666666667, 0.5333333333333333, 0.4666666666666667, 0.4, 0.4666666666666667, 0.6, 0.5333333333333333, 0.43333333333333335, 0.43333333333333335, 0.5666666666666667, 0.3333333333333333, 0.5, 0.7666666666666667, 0.43333333333333335, 0.5666666666666667, 0.43333333333333335, 0.36666666666666664, 0.6333333333333333, 0.4666666666666667, 0.4666666666666667, 0.43333333333333335, 0.5, 0.43333333333333335, 0.6, 0.4666666666666667, 0.26666666666666666, 0.43333333333333335, 0.6, 0.5333333333333333, 0.4666666666666667, 0.4666666666666667, 0.5333333333333333, 0.4666666666666667, 0.5333333333333333, 0.3333333333333333, 0.4, 0.5666666666666667, 0.36666666666666664, 0.3333333333333333, 0.6, 0.5333333333333333, 0.43333333333333335, 0.5, 0.5, 0.43333333333333335, 0.4666666666666667, 0.43333333333333335, 0.5333333333333333, 0.43333333333333335, 0.4666666666666667, 0.4666666666666667, 0.5666666666666667, 0.5333333333333333, 0.5333333333333333, 0.4, 0.36666666666666664, 0.5333333333333333, 0.4666666666666667, 0.5, 0.6, 0.4666666666666667, 0.4, 0.5666666666666667, 0.5333333333333333, 0.5333333333333333, 0.5, 0.36666666666666664, 0.5333333333333333, 0.6, 0.4, 0.5333333333333333, 0.4666666666666667, 0.6, 0.5, 0.36666666666666664, 0.4, 0.5333333333333333, 0.6, 0.4, 0.3333333333333333, 0.5666666666666667, 0.6, 0.5, 0.4666666666666667, 0.6666666666666666, 0.5, 0.4666666666666667, 0.5666666666666667, 0.6, 0.5666666666666667, 0.5333333333333333, 0.4666666666666667, 0.6, 0.5, 0.4666666666666667, 0.43333333333333335, 0.5666666666666667, 0.6333333333333333, 0.36666666666666664, 0.4666666666666667, 0.5, 0.3333333333333333, 0.7333333333333333, 0.5333333333333333, 0.6333333333333333, 0.43333333333333335, 0.5333333333333333, 0.4666666666666667, 0.4666666666666667, 0.5666666666666667, 0.5, 0.5333333333333333, 0.6, 0.5, 0.3333333333333333, 0.4, 0.36666666666666664, 0.4, 0.4666666666666667, 0.4666666666666667, 0.5666666666666667, 0.3333333333333333, 0.6333333333333333, 0.5, 0.5333333333333333, 0.6, 0.5666666666666667, 0.6, 0.3333333333333333, 0.5333333333333333, 0.4, 0.5666666666666667, 0.5, 0.5666666666666667, 0.5666666666666667, 0.43333333333333335, 0.6, 0.3333333333333333, 0.4666666666666667, 0.5, 0.4666666666666667, 0.43333333333333335, 0.5666666666666667, 0.8333333333333334, 0.6333333333333333, 0.6333333333333333, 0.5, 0.5666666666666667, 0.43333333333333335, 0.6, 0.6, 0.6, 0.5, 0.5, 0.5, 0.4, 0.43333333333333335, 0.26666666666666666, 0.26666666666666666, 0.5333333333333333, 0.4666666666666667, 0.6666666666666666, 0.5, 0.36666666666666664, 0.4666666666666667, 0.4666666666666667, 0.4666666666666667, 0.6, 0.6666666666666666, 0.6333333333333333, 0.6, 0.5666666666666667, 0.5666666666666667, 0.43333333333333335, 0.4666666666666667, 0.5666666666666667, 0.5, 0.5333333333333333, 0.5, 0.6333333333333333, 0.43333333333333335, 0.36666666666666664, 0.4, 0.5, 0.6, 0.6666666666666666, 0.5333333333333333, 0.5, 0.3333333333333333, 0.4666666666666667, 0.3333333333333333, 0.3333333333333333, 0.5666666666666667, 0.5333333333333333, 0.6, 0.43333333333333335, 0.43333333333333335, 0.4666666666666667, 0.5, 0.4, 0.6333333333333333, 0.5333333333333333, 0.3333333333333333, 0.4, 0.4, 0.5, 0.5, 0.5666666666666667, 0.3333333333333333, 0.5333333333333333, 0.4666666666666667, 0.5666666666666667, 0.5333333333333333, 0.5333333333333333, 0.5, 0.4666666666666667, 0.6333333333333333, 0.5666666666666667, 0.4666666666666667, 0.6333333333333333, 0.5666666666666667, 0.6, 0.43333333333333335, 0.4, 0.36666666666666664, 0.6, 0.6, 0.6666666666666666, 0.4666666666666667, 0.6, 0.6, 0.5, 0.5666666666666667, 0.43333333333333335, 0.6333333333333333, 0.5333333333333333, 0.6666666666666666, 0.6333333333333333, 0.6333333333333333, 0.6, 0.3333333333333333, 0.4666666666666667, 0.43333333333333335, 0.5666666666666667, 0.5666666666666667, 0.3, 0.43333333333333335, 0.4666666666666667, 0.5333333333333333, 0.36666666666666664, 0.5666666666666667, 0.6, 0.43333333333333335, 0.5, 0.4, 0.5666666666666667, 0.43333333333333335, 0.4666666666666667, 0.5333333333333333, 0.36666666666666664, 0.5, 0.5666666666666667, 0.4, 0.5, 0.4666666666666667, 0.3333333333333333, 0.43333333333333335, 0.5, 0.6333333333333333, 0.6, 0.43333333333333335, 0.36666666666666664, 0.5, 0.5666666666666667, 0.4666666666666667, 0.6333333333333333, 0.6333333333333333, 0.5666666666666667, 0.5333333333333333, 0.5666666666666667, 0.5666666666666667, 0.6333333333333333, 0.36666666666666664, 0.5333333333333333, 0.4666666666666667, 0.4666666666666667, 0.5, 0.5, 0.26666666666666666, 0.36666666666666664, 0.5666666666666667, 0.3333333333333333, 0.43333333333333335, 0.5, 0.5666666666666667, 0.5333333333333333, 0.4666666666666667, 0.5666666666666667, 0.4, 0.5666666666666667, 0.5333333333333333, 0.6, 0.5666666666666667, 0.6, 0.6, 0.4, 0.43333333333333335, 0.43333333333333335, 0.43333333333333335, 0.43333333333333335, 0.4, 0.4666666666666667, 0.6666666666666666, 0.43333333333333335, 0.5666666666666667, 0.4, 0.36666666666666664, 0.43333333333333335, 0.43333333333333335, 0.4666666666666667, 0.6333333333333333, 0.43333333333333335, 0.4666666666666667, 0.7, 0.6666666666666666, 0.5, 0.4666666666666667, 0.5333333333333333, 0.5666666666666667, 0.5333333333333333, 0.4, 0.5333333333333333, 0.5666666666666667, 0.5666666666666667, 0.5, 0.5333333333333333, 0.43333333333333335, 0.5666666666666667, 0.4666666666666667, 0.5, 0.6666666666666666, 0.4666666666666667, 0.4666666666666667, 0.5, 0.5333333333333333, 0.5666666666666667, 0.5333333333333333, 0.5, 0.36666666666666664, 0.43333333333333335, 0.43333333333333335, 0.5, 0.43333333333333335, 0.36666666666666664, 0.5, 0.4, 0.36666666666666664, 0.4, 0.5333333333333333, 0.5, 0.5666666666666667, 0.5666666666666667, 0.4, 0.36666666666666664, 0.4, 0.4, 0.4666666666666667, 0.5666666666666667, 0.4, 0.4, 0.5333333333333333, 0.5666666666666667, 0.5666666666666667, 0.4, 0.5, 0.5666666666666667, 0.3, 0.5333333333333333, 0.5666666666666667, 0.4666666666666667, 0.5333333333333333, 0.7, 0.6, 0.6, 0.6666666666666666, 0.4666666666666667, 0.6333333333333333, 0.3333333333333333, 0.5, 0.5333333333333333, 0.4666666666666667, 0.5333333333333333, 0.6333333333333333, 0.4666666666666667, 0.36666666666666664, 0.5333333333333333, 0.5666666666666667, 0.6666666666666666, 0.5333333333333333, 0.6, 0.4666666666666667, 0.6333333333333333, 0.6333333333333333, 0.4, 0.5333333333333333, 0.4666666666666667, 0.4, 0.5333333333333333, 0.5333333333333333, 0.4666666666666667, 0.5333333333333333, 0.5666666666666667, 0.6333333333333333, 0.36666666666666664, 0.6666666666666666, 0.6666666666666666, 0.3333333333333333, 0.5666666666666667, 0.5, 0.5, 0.5333333333333333, 0.5333333333333333, 0.4, 0.4666666666666667, 0.5333333333333333, 0.5333333333333333, 0.6, 0.43333333333333335, 0.6333333333333333, 0.4666666666666667, 0.6, 0.43333333333333335, 0.4, 0.43333333333333335, 0.5666666666666667, 0.26666666666666666, 0.5, 0.4666666666666667, 0.5, 0.4, 0.4666666666666667, 0.5666666666666667, 0.5, 0.6, 0.4, 0.3333333333333333, 0.5333333333333333, 0.5666666666666667, 0.43333333333333335, 0.43333333333333335, 0.6, 0.4, 0.5333333333333333, 0.6666666666666666, 0.5, 0.5, 0.5333333333333333, 0.5666666666666667, 0.5666666666666667, 0.5, 0.6, 0.4, 0.6333333333333333, 0.5333333333333333, 0.6666666666666666, 0.5333333333333333, 0.6, 0.6333333333333333, 0.4666666666666667, 0.4666666666666667, 0.5, 0.7333333333333333, 0.4666666666666667, 0.43333333333333335, 0.4, 0.5, 0.36666666666666664, 0.4666666666666667, 0.4666666666666667, 0.4666666666666667, 0.4, 0.7, 0.5, 0.4, 0.5, 0.6, 0.36666666666666664, 0.5666666666666667, 0.5, 0.4666666666666667, 0.6666666666666666, 0.5333333333333333, 0.5333333333333333, 0.5333333333333333, 0.4, 0.4666666666666667, 0.8, 0.5333333333333333, 0.4666666666666667, 0.36666666666666664, 0.3, 0.6666666666666666, 0.4666666666666667, 0.5333333333333333, 0.6, 0.6333333333333333, 0.6333333333333333, 0.5666666666666667, 0.6333333333333333, 0.5, 0.6333333333333333, 0.5, 0.3333333333333333, 0.5666666666666667, 0.6, 0.5333333333333333, 0.5, 0.6333333333333333, 0.6333333333333333, 0.4666666666666667, 0.6333333333333333, 0.4, 0.23333333333333334, 0.5666666666666667, 0.43333333333333335, 0.4666666666666667, 0.5, 0.5666666666666667, 0.43333333333333335, 0.5, 0.4, 0.4666666666666667, 0.43333333333333335, 0.4666666666666667, 0.5666666666666667, 0.43333333333333335, 0.4666666666666667, 0.43333333333333335, 0.5333333333333333, 0.43333333333333335, 0.3333333333333333, 0.5, 0.6, 0.5666666666666667, 0.5666666666666667, 0.5, 0.36666666666666664, 0.6666666666666666, 0.5, 0.5333333333333333, 0.5, 0.5333333333333333, 0.3333333333333333, 0.6, 0.4, 0.5333333333333333, 0.5666666666666667, 0.3, 0.43333333333333335, 0.6, 0.5333333333333333, 0.43333333333333335, 0.3, 0.6, 0.4666666666666667, 0.6, 0.4, 0.6, 0.3, 0.5333333333333333, 0.5666666666666667, 0.36666666666666664, 0.6, 0.5333333333333333, 0.36666666666666664, 0.5, 0.6666666666666666, 0.5, 0.43333333333333335, 0.5, 0.4, 0.6333333333333333, 0.6, 0.5666666666666667, 0.5, 0.4, 0.6, 0.5666666666666667, 0.5333333333333333, 0.6333333333333333, 0.5333333333333333, 0.43333333333333335, 0.5333333333333333, 0.5, 0.4666666666666667, 0.7, 0.6, 0.7, 0.5666666666666667, 0.7, 0.5333333333333333, 0.5333333333333333, 0.3333333333333333, 0.43333333333333335, 0.23333333333333334, 0.5, 0.6333333333333333, 0.5333333333333333, 0.5333333333333333, 0.5666666666666667, 0.5333333333333333, 0.3333333333333333, 0.36666666666666664, 0.6, 0.6, 0.5, 0.5666666666666667, 0.6333333333333333, 0.5666666666666667, 0.3333333333333333, 0.4, 0.4666666666666667, 0.6666666666666666, 0.36666666666666664, 0.4, 0.5666666666666667, 0.6, 0.4666666666666667, 0.5333333333333333, 0.6333333333333333, 0.4666666666666667, 0.5666666666666667, 0.4666666666666667, 0.6333333333333333, 0.5, 0.5666666666666667, 0.5, 0.6333333333333333, 0.5333333333333333, 0.4666666666666667, 0.5666666666666667, 0.43333333333333335, 0.5666666666666667, 0.5666666666666667, 0.4666666666666667, 0.5, 0.43333333333333335, 0.36666666666666664, 0.6, 0.43333333333333335, 0.5333333333333333, 0.5, 0.5, 0.5, 0.5666666666666667, 0.5333333333333333, 0.36666666666666664, 0.6333333333333333, 0.4666666666666667, 0.5666666666666667, 0.43333333333333335, 0.5, 0.3333333333333333, 0.43333333333333335, 0.7, 0.5333333333333333, 0.6, 0.6333333333333333, 0.4, 0.5, 0.5666666666666667, 0.4, 0.6, 0.6, 0.6, 0.5666666666666667, 0.5666666666666667, 0.43333333333333335, 0.5666666666666667, 0.5666666666666667, 0.5, 0.5333333333333333, 0.4, 0.5, 0.43333333333333335, 0.5333333333333333, 0.4666666666666667, 0.43333333333333335, 0.6, 0.4, 0.5666666666666667, 0.5, 0.36666666666666664, 0.43333333333333335, 0.5, 0.6, 0.43333333333333335, 0.5666666666666667, 0.5333333333333333, 0.36666666666666664, 0.6333333333333333, 0.4, 0.43333333333333335, 0.6333333333333333, 0.4, 0.5666666666666667, 0.5666666666666667, 0.43333333333333335, 0.5333333333333333, 0.4, 0.5333333333333333, 0.5333333333333333, 0.4666666666666667, 0.5666666666666667, 0.6, 0.5333333333333333, 0.36666666666666664, 0.6666666666666666, 0.5666666666666667, 0.4, 0.5, 0.6333333333333333, 0.43333333333333335, 0.43333333333333335, 0.4666666666666667, 0.6, 0.5, 0.5, 0.4666666666666667, 0.5, 0.5333333333333333, 0.5666666666666667, 0.3, 0.3333333333333333, 0.4, 0.6333333333333333, 0.5, 0.43333333333333335, 0.5333333333333333, 0.5666666666666667, 0.3333333333333333, 0.36666666666666664, 0.6, 0.4, 0.5666666666666667, 0.4666666666666667, 0.6333333333333333, 0.7, 0.7, 0.36666666666666664, 0.3333333333333333, 0.4666666666666667, 0.3, 0.5666666666666667, 0.6666666666666666, 0.5, 0.5333333333333333, 0.6333333333333333, 0.7333333333333333, 0.6, 0.4666666666666667, 0.4666666666666667, 0.43333333333333335, 0.4666666666666667, 0.4666666666666667, 0.5, 0.43333333333333335, 0.4666666666666667, 0.5, 0.3333333333333333, 0.7, 0.4666666666666667, 0.3333333333333333, 0.3333333333333333, 0.4666666666666667, 0.43333333333333335, 0.5, 0.4666666666666667, 0.6333333333333333, 0.6333333333333333, 0.4, 0.5333333333333333, 0.4, 0.4, 0.36666666666666664, 0.4666666666666667, 0.4666666666666667, 0.5, 0.36666666666666664, 0.5, 0.5, 0.4666666666666667, 0.5666666666666667, 0.5, 0.3333333333333333, 0.4666666666666667, 0.6, 0.4666666666666667, 0.6, 0.43333333333333335, 0.5666666666666667, 0.5, 0.43333333333333335, 0.43333333333333335, 0.7, 0.4666666666666667, 0.5, 0.7666666666666667, 0.6, 0.5333333333333333, 0.5333333333333333, 0.6, 0.3333333333333333, 0.5, 0.5, 0.3333333333333333, 0.5, 0.4666666666666667, 0.5666666666666667, 0.4, 0.5333333333333333, 0.36666666666666664, 0.4, 0.5666666666666667, 0.43333333333333335, 0.4, 0.4666666666666667, 0.6333333333333333, 0.6333333333333333, 0.5666666666666667, 0.43333333333333335, 0.6, 0.5333333333333333, 0.5333333333333333, 0.5333333333333333, 0.5333333333333333, 0.5333333333333333, 0.6, 0.4, 0.5666666666666667, 0.5333333333333333, 0.5333333333333333, 0.6, 0.43333333333333335, 0.4666666666666667, 0.43333333333333335, 0.5, 0.5666666666666667, 0.5333333333333333, 0.5666666666666667, 0.5666666666666667, 0.6, 0.3333333333333333, 0.5666666666666667, 0.4, 0.4, 0.3333333333333333, 0.4, 0.6666666666666666, 0.6, 0.5666666666666667, 0.6666666666666666, 0.4666666666666667, 0.5333333333333333, 0.5666666666666667, 0.5333333333333333, 0.4, 0.26666666666666666, 0.5, 0.5333333333333333, 0.5, 0.6333333333333333, 0.5666666666666667, 0.5, 0.26666666666666666, 0.4666666666666667, 0.36666666666666664, 0.43333333333333335, 0.5, 0.43333333333333335, 0.5, 0.43333333333333335, 0.43333333333333335, 0.43333333333333335, 0.6333333333333333, 0.4, 0.5666666666666667, 0.5, 0.6, 0.5333333333333333, 0.5666666666666667, 0.5666666666666667, 0.5666666666666667, 0.5, 0.43333333333333335, 0.4, 0.4666666666666667, 0.7, 0.5333333333333333, 0.6, 0.5, 0.5666666666666667, 0.6666666666666666, 0.5333333333333333, 0.5666666666666667, 0.6333333333333333, 0.26666666666666666, 0.6333333333333333, 0.43333333333333335, 0.6, 0.4, 0.6333333333333333, 0.4666666666666667, 0.4666666666666667, 0.5333333333333333, 0.6, 0.5333333333333333, 0.5, 0.4666666666666667, 0.4666666666666667, 0.5, 0.5, 0.4666666666666667, 0.5333333333333333, 0.6, 0.43333333333333335, 0.5333333333333333, 0.43333333333333335, 0.4666666666666667, 0.5666666666666667, 0.4666666666666667, 0.5666666666666667, 0.6333333333333333, 0.5666666666666667, 0.5666666666666667, 0.43333333333333335, 0.6, 0.5, 0.5666666666666667, 0.6, 0.5333333333333333, 0.4666666666666667, 0.5, 0.43333333333333335, 0.5, 0.43333333333333335, 0.43333333333333335, 0.43333333333333335, 0.4, 0.3, 0.6, 0.5333333333333333, 0.5, 0.4666666666666667, 0.6, 0.4666666666666667, 0.5666666666666667, 0.43333333333333335, 0.4, 0.6666666666666666, 0.4, 0.36666666666666664, 0.5666666666666667, 0.5, 0.36666666666666664, 0.5, 0.43333333333333335, 0.43333333333333335, 0.5, 0.43333333333333335, 0.6, 0.6666666666666666, 0.6, 0.43333333333333335, 0.6333333333333333, 0.4666666666666667, 0.7, 0.6333333333333333, 0.6333333333333333, 0.6, 0.6, 0.6666666666666666, 0.5333333333333333, 0.3333333333333333, 0.5, 0.6666666666666666, 0.5, 0.5, 0.4, 0.4, 0.43333333333333335, 0.5333333333333333, 0.36666666666666664, 0.4666666666666667, 0.36666666666666664, 0.36666666666666664, 0.4, 0.43333333333333335, 0.36666666666666664, 0.36666666666666664, 0.43333333333333335, 0.5, 0.5, 0.6666666666666666, 0.5, 0.4, 0.5, 0.6333333333333333, 0.7333333333333333, 0.5333333333333333, 0.6333333333333333, 0.5666666666666667, 0.4666666666666667, 0.43333333333333335, 0.5, 0.43333333333333335, 0.3333333333333333, 0.6, 0.43333333333333335, 0.4, 0.5666666666666667, 0.5333333333333333, 0.43333333333333335, 0.36666666666666664, 0.5, 0.5333333333333333, 0.36666666666666664, 0.5, 0.5333333333333333, 0.5333333333333333, 0.3333333333333333, 0.5, 0.4, 0.23333333333333334, 0.4, 0.4, 0.5, 0.5, 0.4, 0.4666666666666667, 0.5666666666666667, 0.4666666666666667, 0.5333333333333333, 0.5, 0.5, 0.6, 0.5333333333333333, 0.6, 0.5666666666666667, 0.4, 0.4666666666666667, 0.3333333333333333, 0.4666666666666667, 0.5333333333333333, 0.36666666666666664, 0.4666666666666667, 0.5333333333333333, 0.4666666666666667, 0.5666666666666667, 0.36666666666666664, 0.5333333333333333, 0.5666666666666667, 0.4666666666666667, 0.6333333333333333, 0.43333333333333335, 0.5666666666666667, 0.4666666666666667, 0.5666666666666667, 0.5333333333333333, 0.5333333333333333, 0.43333333333333335, 0.6, 0.6, 0.4666666666666667, 0.5333333333333333, 0.6, 0.5666666666666667, 0.43333333333333335, 0.5666666666666667, 0.5333333333333333, 0.43333333333333335, 0.4, 0.43333333333333335, 0.4666666666666667, 0.5, 0.7, 0.43333333333333335, 0.5333333333333333, 0.5, 0.5333333333333333, 0.4666666666666667, 0.5666666666666667, 0.5333333333333333, 0.5333333333333333, 0.5333333333333333, 0.5333333333333333, 0.43333333333333335, 0.5, 0.5, 0.43333333333333335, 0.7, 0.5, 0.5666666666666667, 0.5, 0.43333333333333335, 0.5333333333333333, 0.4666666666666667, 0.4666666666666667, 0.5333333333333333, 0.6333333333333333, 0.5333333333333333, 0.4666666666666667, 0.4, 0.43333333333333335, 0.6333333333333333, 0.5, 0.5, 0.5666666666666667, 0.5, 0.43333333333333335, 0.43333333333333335, 0.5666666666666667, 0.5, 0.5, 0.6, 0.4, 0.36666666666666664, 0.5333333333333333, 0.6, 0.6, 0.6666666666666666, 0.3, 0.4666666666666667, 0.4666666666666667, 0.5, 0.4, 0.4, 0.5, 0.36666666666666664, 0.4, 0.3333333333333333, 0.5333333333333333, 0.6, 0.43333333333333335, 0.5666666666666667, 0.4, 0.5, 0.36666666666666664, 0.5333333333333333, 0.4666666666666667, 0.6, 0.6333333333333333, 0.5333333333333333, 0.5666666666666667, 0.4666666666666667, 0.3333333333333333, 0.5, 0.4666666666666667, 0.4666666666666667, 0.4666666666666667, 0.4666666666666667, 0.5, 0.4, 0.36666666666666664, 0.6333333333333333, 0.23333333333333334, 0.36666666666666664, 0.3333333333333333, 0.4666666666666667, 0.36666666666666664, 0.6, 0.43333333333333335, 0.5333333333333333, 0.4, 0.7, 0.5, 0.6333333333333333, 0.5, 0.7333333333333333, 0.5333333333333333, 0.43333333333333335, 0.6333333333333333, 0.5, 0.6333333333333333, 0.5666666666666667, 0.4666666666666667, 0.4, 0.6, 0.4666666666666667, 0.7, 0.3333333333333333, 0.5, 0.5333333333333333, 0.5666666666666667, 0.43333333333333335, 0.6, 0.6333333333333333, 0.6333333333333333, 0.36666666666666664, 0.5, 0.6666666666666666, 0.5333333333333333, 0.36666666666666664, 0.5666666666666667, 0.6, 0.6, 0.3333333333333333, 0.4, 0.4, 0.4666666666666667, 0.36666666666666664, 0.43333333333333335, 0.5, 0.4, 0.36666666666666664, 0.5333333333333333, 0.4666666666666667, 0.6, 0.5, 0.6333333333333333, 0.5333333333333333, 0.6333333333333333, 0.5, 0.7, 0.6333333333333333, 0.36666666666666664, 0.6666666666666666, 0.7, 0.5, 0.43333333333333335, 0.43333333333333335, 0.43333333333333335, 0.6333333333333333, 0.5666666666666667, 0.6, 0.4, 0.4666666666666667, 0.5666666666666667, 0.5, 0.4, 0.7, 0.5666666666666667, 0.4, 0.6333333333333333, 0.5666666666666667, 0.5, 0.4666666666666667, 0.5333333333333333, 0.5, 0.4666666666666667, 0.43333333333333335, 0.43333333333333335, 0.3, 0.5666666666666667, 0.5666666666666667, 0.5333333333333333, 0.5, 0.4666666666666667, 0.5, 0.5333333333333333, 0.6333333333333333, 0.43333333333333335, 0.5, 0.5, 0.7333333333333333, 0.4666666666666667, 0.6, 0.36666666666666664, 0.6333333333333333, 0.5, 0.6, 0.5333333333333333, 0.36666666666666664, 0.4666666666666667, 0.4, 0.4666666666666667, 0.4666666666666667, 0.6, 0.5666666666666667, 0.4666666666666667, 0.5666666666666667, 0.7, 0.5, 0.5666666666666667, 0.5, 0.5, 0.43333333333333335, 0.5333333333333333, 0.4, 0.4, 0.4, 0.3333333333333333, 0.36666666666666664, 0.5333333333333333, 0.5333333333333333, 0.43333333333333335, 0.6333333333333333, 0.4666666666666667, 0.43333333333333335, 0.4, 0.4666666666666667, 0.43333333333333335, 0.6666666666666666, 0.43333333333333335, 0.5666666666666667, 0.4, 0.6, 0.5, 0.5, 0.5, 0.5333333333333333, 0.5666666666666667, 0.4666666666666667, 0.5, 0.43333333333333335, 0.5, 0.36666666666666664, 0.5, 0.5666666666666667, 0.5, 0.5333333333333333, 0.4, 0.5333333333333333, 0.3333333333333333, 0.6333333333333333, 0.4666666666666667, 0.6333333333333333, 0.5666666666666667, 0.4666666666666667, 0.4666666666666667, 0.4, 0.4666666666666667, 0.6333333333333333, 0.36666666666666664, 0.43333333333333335, 0.43333333333333335, 0.5666666666666667, 0.3333333333333333, 0.6333333333333333, 0.5, 0.4, 0.26666666666666666, 0.4, 0.4666666666666667, 0.43333333333333335, 0.5, 0.5666666666666667, 0.5, 0.5, 0.6666666666666666, 0.5333333333333333, 0.43333333333333335, 0.36666666666666664, 0.6, 0.26666666666666666, 0.43333333333333335, 0.6, 0.4666666666666667, 0.43333333333333335, 0.4666666666666667, 0.5, 0.4666666666666667, 0.5, 0.43333333333333335, 0.6, 0.5666666666666667, 0.36666666666666664, 0.6, 0.43333333333333335, 0.5, 0.6, 0.43333333333333335, 0.5333333333333333, 0.5, 0.4666666666666667, 0.6333333333333333, 0.6, 0.5333333333333333, 0.36666666666666664, 0.4666666666666667, 0.4, 0.4666666666666667, 0.5666666666666667, 0.4666666666666667, 0.5333333333333333, 0.4666666666666667, 0.5, 0.5, 0.4666666666666667, 0.5333333333333333, 0.5666666666666667, 0.3, 0.7, 0.4666666666666667, 0.36666666666666664, 0.4666666666666667, 0.5, 0.6, 0.5, 0.4, 0.36666666666666664, 0.5, 0.5333333333333333, 0.5333333333333333, 0.5, 0.4, 0.5, 0.6333333333333333, 0.43333333333333335, 0.6333333333333333, 0.43333333333333335, 0.5, 0.5666666666666667, 0.36666666666666664, 0.36666666666666664, 0.5, 0.43333333333333335, 0.5333333333333333, 0.36666666666666664, 0.6, 0.3333333333333333, 0.5666666666666667, 0.7666666666666667, 0.4, 0.5333333333333333, 0.36666666666666664, 0.3, 0.4, 0.6333333333333333, 0.4666666666666667, 0.43333333333333335, 0.36666666666666664, 0.6, 0.43333333333333335, 0.4, 0.6333333333333333, 0.6, 0.5, 0.5, 0.4666666666666667, 0.6333333333333333, 0.6, 0.4666666666666667, 0.4666666666666667, 0.6333333333333333, 0.5, 0.6, 0.4666666666666667, 0.5333333333333333, 0.6, 0.4666666666666667, 0.4666666666666667, 0.5666666666666667, 0.5666666666666667, 0.5333333333333333, 0.5666666666666667, 0.4666666666666667, 0.5666666666666667, 0.4, 0.6333333333333333, 0.3, 0.36666666666666664, 0.5333333333333333, 0.5333333333333333, 0.5666666666666667, 0.5333333333333333, 0.43333333333333335, 0.5, 0.23333333333333334, 0.6333333333333333, 0.4666666666666667, 0.6, 0.6666666666666666, 0.5, 0.5333333333333333, 0.5333333333333333, 0.4, 0.5333333333333333, 0.6, 0.6333333333333333, 0.3333333333333333, 0.5, 0.3, 0.43333333333333335, 0.4666666666666667, 0.6, 0.5333333333333333, 0.36666666666666664, 0.6333333333333333, 0.5, 0.5666666666666667, 0.5666666666666667, 0.5666666666666667, 0.6333333333333333, 0.43333333333333335, 0.5, 0.5, 0.5333333333333333, 0.4666666666666667, 0.6666666666666666, 0.43333333333333335, 0.4666666666666667, 0.6333333333333333, 0.4666666666666667, 0.6333333333333333, 0.4, 0.3, 0.5666666666666667, 0.5666666666666667, 0.36666666666666664, 0.4, 0.4666666666666667, 0.5666666666666667, 0.36666666666666664, 0.4666666666666667, 0.5333333333333333, 0.5, 0.5, 0.43333333333333335, 0.5666666666666667, 0.5, 0.5333333333333333, 0.4666666666666667, 0.4666666666666667, 0.5, 0.6, 0.4, 0.43333333333333335, 0.4666666666666667, 0.6333333333333333, 0.36666666666666664, 0.6, 0.43333333333333335, 0.5666666666666667, 0.5, 0.5333333333333333, 0.4666666666666667, 0.6666666666666666, 0.4666666666666667, 0.4, 0.5333333333333333, 0.5, 0.4666666666666667, 0.36666666666666664, 0.4, 0.5666666666666667, 0.6333333333333333, 0.6, 0.5, 0.4666666666666667, 0.5, 0.6666666666666666, 0.4666666666666667, 0.5333333333333333, 0.4, 0.5, 0.5333333333333333, 0.6, 0.5333333333333333, 0.6, 0.4, 0.43333333333333335, 0.5333333333333333, 0.6, 0.6, 0.43333333333333335, 0.36666666666666664, 0.5, 0.5, 0.5333333333333333, 0.5333333333333333, 0.5333333333333333, 0.6, 0.43333333333333335, 0.4, 0.4, 0.5, 0.5, 0.5666666666666667, 0.5333333333333333, 0.6333333333333333, 0.4, 0.43333333333333335, 0.4666666666666667, 0.4666666666666667, 0.5666666666666667, 0.5, 0.4666666666666667, 0.43333333333333335, 0.4666666666666667, 0.26666666666666666, 0.5, 0.5666666666666667, 0.4, 0.43333333333333335, 0.43333333333333335, 0.5, 0.4, 0.4666666666666667, 0.3, 0.43333333333333335, 0.5333333333333333, 0.6, 0.5666666666666667, 0.6333333333333333, 0.6, 0.5, 0.5333333333333333, 0.4666666666666667, 0.5, 0.4666666666666667, 0.5, 0.36666666666666664, 0.3333333333333333, 0.36666666666666664, 0.2, 0.43333333333333335, 0.4666666666666667, 0.5333333333333333, 0.5, 0.26666666666666666, 0.4666666666666667, 0.5333333333333333, 0.5, 0.4666666666666667, 0.5, 0.6333333333333333, 0.3333333333333333, 0.43333333333333335, 0.5333333333333333, 0.5666666666666667, 0.5666666666666667, 0.3, 0.6, 0.6, 0.4666666666666667, 0.4666666666666667, 0.6666666666666666, 0.6, 0.5, 0.5, 0.5333333333333333, 0.4666666666666667, 0.5, 0.5333333333333333, 0.6666666666666666, 0.6333333333333333, 0.4666666666666667, 0.43333333333333335, 0.3333333333333333, 0.5666666666666667, 0.4, 0.6, 0.6333333333333333, 0.43333333333333335, 0.7666666666666667, 0.6, 0.5, 0.4666666666666667, 0.4666666666666667, 0.5, 0.4666666666666667, 0.5333333333333333, 0.5666666666666667, 0.43333333333333335, 0.5333333333333333, 0.26666666666666666, 0.5, 0.5, 0.4666666666666667, 0.5666666666666667, 0.43333333333333335, 0.5, 0.3, 0.4666666666666667, 0.5333333333333333, 0.5666666666666667, 0.4666666666666667, 0.5666666666666667, 0.5, 0.6, 0.5, 0.3333333333333333, 0.5, 0.4666666666666667, 0.4, 0.23333333333333334, 0.43333333333333335, 0.5333333333333333, 0.6333333333333333, 0.43333333333333335, 0.5, 0.36666666666666664, 0.36666666666666664, 0.6, 0.4666666666666667, 0.5333333333333333, 0.5666666666666667, 0.5333333333333333, 0.43333333333333335, 0.5, 0.4666666666666667, 0.26666666666666666, 0.6666666666666666, 0.4, 0.43333333333333335, 0.43333333333333335, 0.3, 0.36666666666666664, 0.43333333333333335, 0.4666666666666667, 0.6666666666666666, 0.3, 0.6, 0.4666666666666667, 0.43333333333333335, 0.3, 0.6, 0.4666666666666667, 0.3, 0.43333333333333335, 0.5666666666666667, 0.6666666666666666, 0.7, 0.3333333333333333, 0.43333333333333335, 0.5333333333333333, 0.43333333333333335, 0.43333333333333335, 0.6, 0.43333333333333335, 0.4, 0.4, 0.4, 0.5666666666666667, 0.6666666666666666, 0.5, 0.5333333333333333, 0.5333333333333333, 0.6333333333333333, 0.43333333333333335, 0.3, 0.5333333333333333, 0.5666666666666667, 0.5333333333333333, 0.36666666666666664, 0.5, 0.4666666666666667, 0.5666666666666667, 0.6, 0.36666666666666664, 0.36666666666666664, 0.4666666666666667, 0.6333333333333333, 0.4666666666666667, 0.5666666666666667, 0.5333333333333333, 0.5, 0.6333333333333333, 0.5, 0.5666666666666667, 0.5666666666666667, 0.43333333333333335, 0.43333333333333335, 0.5, 0.5, 0.6, 0.5666666666666667, 0.4666666666666667, 0.5666666666666667, 0.5666666666666667, 0.5333333333333333, 0.4666666666666667, 0.5666666666666667, 0.43333333333333335, 0.43333333333333335, 0.4666666666666667, 0.5333333333333333, 0.4666666666666667, 0.6333333333333333, 0.7333333333333333, 0.5, 0.5333333333333333, 0.3333333333333333, 0.5333333333333333, 0.4, 0.4666666666666667, 0.5333333333333333, 0.4666666666666667, 0.7333333333333333, 0.5, 0.36666666666666664, 0.43333333333333335, 0.3, 0.5666666666666667, 0.4666666666666667, 0.5333333333333333, 0.5, 0.4, 0.5666666666666667, 0.5333333333333333, 0.5, 0.4666666666666667, 0.6, 0.6, 0.36666666666666664, 0.5, 0.5666666666666667, 0.43333333333333335, 0.5, 0.4, 0.4, 0.5, 0.3333333333333333, 0.6, 0.4666666666666667, 0.43333333333333335, 0.5666666666666667, 0.5, 0.5666666666666667, 0.43333333333333335, 0.5333333333333333, 0.5, 0.5333333333333333, 0.5666666666666667, 0.5, 0.6333333333333333, 0.4666666666666667, 0.43333333333333335, 0.6333333333333333, 0.7333333333333333, 0.43333333333333335, 0.5, 0.4666666666666667, 0.6, 0.5, 0.5333333333333333, 0.5666666666666667, 0.6, 0.5666666666666667, 0.43333333333333335, 0.5, 0.6, 0.6333333333333333, 0.5333333333333333, 0.5, 0.5666666666666667, 0.5666666666666667, 0.5, 0.43333333333333335, 0.5333333333333333, 0.5666666666666667, 0.5, 0.6333333333333333, 0.6333333333333333, 0.6, 0.6, 0.5333333333333333, 0.4666666666666667, 0.5, 0.4, 0.3333333333333333, 0.4666666666666667, 0.6666666666666666, 0.5666666666666667, 0.5333333333333333, 0.6, 0.4666666666666667, 0.5333333333333333, 0.4666666666666667, 0.5666666666666667, 0.43333333333333335, 0.43333333333333335, 0.36666666666666664, 0.5666666666666667, 0.3, 0.5333333333333333, 0.3333333333333333, 0.6, 0.5333333333333333, 0.3, 0.5, 0.3333333333333333, 0.4, 0.4, 0.6, 0.43333333333333335, 0.5333333333333333, 0.4, 0.6333333333333333, 0.5, 0.6666666666666666, 0.5, 0.6, 0.4666666666666667, 0.43333333333333335, 0.5333333333333333, 0.4666666666666667, 0.3333333333333333, 0.6, 0.36666666666666664, 0.5, 0.5, 0.4, 0.6, 0.4666666666666667, 0.5, 0.43333333333333335, 0.6, 0.43333333333333335, 0.4666666666666667, 0.43333333333333335, 0.5, 0.3333333333333333, 0.6333333333333333, 0.5666666666666667, 0.43333333333333335, 0.3, 0.7333333333333333, 0.43333333333333335, 0.6, 0.43333333333333335, 0.43333333333333335, 0.5, 0.5333333333333333, 0.5666666666666667, 0.5, 0.36666666666666664, 0.4666666666666667, 0.5333333333333333, 0.4666666666666667, 0.3333333333333333, 0.5333333333333333, 0.6, 0.43333333333333335, 0.4, 0.4, 0.43333333333333335, 0.6666666666666666, 0.4666666666666667, 0.6333333333333333, 0.4, 0.5666666666666667, 0.5666666666666667, 0.5333333333333333, 0.4666666666666667, 0.43333333333333335, 0.5666666666666667, 0.4, 0.6, 0.6, 0.43333333333333335, 0.5, 0.5333333333333333, 0.5666666666666667, 0.5333333333333333, 0.6333333333333333, 0.43333333333333335, 0.4, 0.36666666666666664, 0.3, 0.5333333333333333, 0.43333333333333335, 0.3333333333333333, 0.5666666666666667, 0.5666666666666667, 0.4, 0.5666666666666667, 0.6333333333333333, 0.6666666666666666, 0.5333333333333333, 0.5333333333333333, 0.5666666666666667, 0.4, 0.5333333333333333, 0.5, 0.5, 0.6, 0.5333333333333333, 0.5666666666666667, 0.5666666666666667, 0.6333333333333333, 0.43333333333333335, 0.5666666666666667, 0.36666666666666664, 0.5, 0.4666666666666667, 0.5, 0.36666666666666664, 0.5666666666666667, 0.5333333333333333, 0.6, 0.5, 0.36666666666666664, 0.4666666666666667, 0.5333333333333333, 0.7333333333333333, 0.4666666666666667, 0.5, 0.4, 0.5666666666666667, 0.3333333333333333, 0.6, 0.5666666666666667, 0.5, 0.5666666666666667, 0.4666666666666667, 0.6, 0.36666666666666664, 0.26666666666666666, 0.5333333333333333, 0.5, 0.5, 0.5, 0.26666666666666666, 0.5666666666666667, 0.5333333333333333, 0.43333333333333335, 0.5, 0.6, 0.6333333333333333, 0.5, 0.6333333333333333, 0.4666666666666667, 0.43333333333333335, 0.5333333333333333, 0.36666666666666664, 0.6, 0.43333333333333335, 0.6, 0.5333333333333333, 0.4666666666666667, 0.4, 0.5, 0.43333333333333335, 0.43333333333333335, 0.4, 0.5666666666666667, 0.43333333333333335, 0.5, 0.4, 0.5666666666666667, 0.5666666666666667, 0.43333333333333335, 0.6, 0.6, 0.43333333333333335, 0.43333333333333335, 0.7, 0.5666666666666667, 0.5666666666666667, 0.6666666666666666, 0.4666666666666667, 0.5333333333333333, 0.4, 0.23333333333333334, 0.43333333333333335, 0.5666666666666667, 0.5, 0.3333333333333333, 0.4666666666666667, 0.5333333333333333, 0.5666666666666667, 0.5666666666666667, 0.4666666666666667, 0.36666666666666664, 0.6333333333333333, 0.6333333333333333, 0.5333333333333333, 0.6333333333333333, 0.43333333333333335, 0.4666666666666667, 0.5, 0.5666666666666667, 0.3333333333333333, 0.43333333333333335, 0.5666666666666667, 0.4666666666666667, 0.5333333333333333, 0.6333333333333333, 0.5, 0.6, 0.5, 0.4, 0.5666666666666667, 0.5333333333333333, 0.5333333333333333, 0.4666666666666667, 0.43333333333333335, 0.5666666666666667, 0.6, 0.6666666666666666, 0.7, 0.5666666666666667, 0.4, 0.7666666666666667, 0.5333333333333333, 0.5666666666666667, 0.5666666666666667, 0.4666666666666667, 0.4666666666666667, 0.36666666666666664, 0.5, 0.4666666666666667, 0.5666666666666667, 0.6666666666666666, 0.4666666666666667, 0.5666666666666667, 0.43333333333333335, 0.43333333333333335, 0.4666666666666667, 0.4666666666666667, 0.43333333333333335, 0.5666666666666667, 0.43333333333333335, 0.4666666666666667, 0.43333333333333335, 0.4, 0.5, 0.5, 0.4, 0.6666666666666666, 0.36666666666666664, 0.5, 0.5, 0.4, 0.3333333333333333, 0.5333333333333333, 0.4666666666666667, 0.4666666666666667, 0.5333333333333333, 0.43333333333333335, 0.26666666666666666, 0.43333333333333335, 0.5333333333333333, 0.5666666666666667, 0.6333333333333333, 0.6333333333333333, 0.4, 0.5, 0.5333333333333333, 0.5333333333333333, 0.4666666666666667, 0.3333333333333333, 0.6, 0.43333333333333335, 0.43333333333333335, 0.4666666666666667, 0.43333333333333335, 0.6, 0.5333333333333333, 0.6, 0.5333333333333333, 0.43333333333333335, 0.4, 0.5, 0.5333333333333333, 0.4666666666666667, 0.5666666666666667, 0.5666666666666667, 0.5666666666666667, 0.5666666666666667, 0.5, 0.5333333333333333, 0.5, 0.43333333333333335, 0.4666666666666667, 0.5, 0.43333333333333335, 0.6, 0.5333333333333333, 0.6, 0.4, 0.5, 0.43333333333333335, 0.5, 0.5666666666666667, 0.6666666666666666, 0.5333333333333333, 0.6, 0.5333333333333333, 0.4, 0.5, 0.6, 0.5333333333333333, 0.6, 0.43333333333333335, 0.5333333333333333, 0.4666666666666667, 0.5666666666666667, 0.43333333333333335, 0.5, 0.5666666666666667, 0.5, 0.5, 0.43333333333333335, 0.5333333333333333, 0.43333333333333335, 0.5333333333333333, 0.43333333333333335, 0.5, 0.4, 0.6333333333333333, 0.6, 0.5666666666666667, 0.5, 0.5, 0.6333333333333333, 0.36666666666666664, 0.5666666666666667, 0.5333333333333333, 0.43333333333333335, 0.43333333333333335, 0.43333333333333335, 0.4666666666666667, 0.4, 0.5333333333333333, 0.6333333333333333, 0.5333333333333333, 0.5666666666666667, 0.5, 0.4666666666666667, 0.4666666666666667, 0.5666666666666667, 0.26666666666666666, 0.4666666666666667, 0.5666666666666667, 0.6333333333333333, 0.5, 0.5333333333333333, 0.3333333333333333, 0.6666666666666666, 0.5, 0.5333333333333333, 0.5, 0.5, 0.6333333333333333, 0.3333333333333333, 0.4, 0.5333333333333333, 0.3333333333333333, 0.5333333333333333, 0.5, 0.5, 0.5666666666666667, 0.43333333333333335, 0.36666666666666664, 0.4666666666666667, 0.5333333333333333, 0.36666666666666664, 0.43333333333333335, 0.43333333333333335, 0.5666666666666667, 0.6, 0.5333333333333333, 0.6333333333333333, 0.4, 0.4666666666666667, 0.6, 0.43333333333333335, 0.6666666666666666, 0.5666666666666667, 0.5, 0.6, 0.43333333333333335, 0.5, 0.5666666666666667, 0.43333333333333335, 0.5666666666666667, 0.43333333333333335, 0.5666666666666667, 0.6333333333333333, 0.6, 0.5, 0.3, 0.5666666666666667, 0.43333333333333335, 0.6666666666666666, 0.6666666666666666, 0.43333333333333335, 0.4, 0.5, 0.5, 0.6333333333333333, 0.4666666666666667, 0.43333333333333335, 0.6333333333333333, 0.36666666666666664, 0.5, 0.5333333333333333, 0.6333333333333333, 0.3333333333333333, 0.3333333333333333, 0.5, 0.5666666666666667, 0.36666666666666664, 0.5, 0.7333333333333333, 0.4666666666666667, 0.4666666666666667, 0.26666666666666666, 0.5333333333333333, 0.4, 0.5333333333333333, 0.6666666666666666, 0.3333333333333333, 0.4666666666666667, 0.5, 0.4666666666666667, 0.43333333333333335, 0.36666666666666664, 0.5666666666666667, 0.4, 0.36666666666666664, 0.5, 0.5333333333333333, 0.5, 0.3, 0.43333333333333335, 0.5666666666666667, 0.5, 0.5333333333333333, 0.36666666666666664, 0.5, 0.4666666666666667, 0.5, 0.8, 0.3, 0.5666666666666667, 0.5333333333333333, 0.4666666666666667, 0.36666666666666664, 0.5, 0.5333333333333333, 0.43333333333333335, 0.36666666666666664, 0.4, 0.43333333333333335, 0.5333333333333333, 0.3333333333333333, 0.5333333333333333, 0.4, 0.5666666666666667, 0.5, 0.43333333333333335, 0.43333333333333335, 0.36666666666666664, 0.6666666666666666, 0.5666666666666667, 0.5333333333333333, 0.4666666666666667, 0.36666666666666664, 0.3333333333333333, 0.4666666666666667, 0.5333333333333333, 0.6, 0.43333333333333335, 0.4, 0.6, 0.4666666666666667, 0.5333333333333333, 0.5, 0.43333333333333335, 0.6, 0.5666666666666667, 0.43333333333333335, 0.36666666666666664, 0.6, 0.5333333333333333, 0.4, 0.5, 0.6666666666666666, 0.43333333333333335, 0.4666666666666667, 0.5, 0.36666666666666664, 0.6, 0.4666666666666667, 0.4666666666666667, 0.6333333333333333, 0.5, 0.5333333333333333, 0.4, 0.4666666666666667, 0.4666666666666667, 0.23333333333333334, 0.4666666666666667, 0.6333333333333333, 0.5333333333333333, 0.5333333333333333, 0.4666666666666667, 0.7, 0.26666666666666666, 0.5333333333333333, 0.5666666666666667, 0.5, 0.43333333333333335, 0.5666666666666667, 0.6, 0.5333333333333333, 0.4666666666666667, 0.6, 0.3333333333333333, 0.3, 0.5666666666666667, 0.5333333333333333, 0.5, 0.6, 0.5666666666666667, 0.4666666666666667, 0.5, 0.4, 0.6, 0.43333333333333335, 0.4666666666666667, 0.6333333333333333, 0.5333333333333333, 0.43333333333333335, 0.5666666666666667, 0.3333333333333333, 0.4666666666666667, 0.5333333333333333, 0.5, 0.6, 0.4, 0.5, 0.5333333333333333, 0.6666666666666666, 0.5, 0.43333333333333335, 0.6, 0.5666666666666667, 0.36666666666666664, 0.5, 0.3333333333333333, 0.5333333333333333, 0.4666666666666667, 0.43333333333333335, 0.6666666666666666, 0.5333333333333333, 0.4, 0.4666666666666667, 0.4666666666666667, 0.4666666666666667, 0.5333333333333333, 0.36666666666666664, 0.4, 0.5666666666666667, 0.4666666666666667, 0.5666666666666667, 0.43333333333333335, 0.36666666666666664, 0.5333333333333333, 0.36666666666666664, 0.3333333333333333, 0.6666666666666666, 0.5666666666666667, 0.5, 0.6333333333333333, 0.4666666666666667, 0.6333333333333333, 0.3, 0.4, 0.5, 0.43333333333333335, 0.5333333333333333, 0.5666666666666667, 0.4, 0.6, 0.5333333333333333, 0.6333333333333333, 0.7, 0.5, 0.6, 0.5666666666666667, 0.6333333333333333, 0.4666666666666667, 0.5333333333333333, 0.5666666666666667, 0.3, 0.5333333333333333, 0.4666666666666667, 0.36666666666666664, 0.6333333333333333, 0.5666666666666667, 0.4666666666666667, 0.43333333333333335, 0.4, 0.4666666666666667, 0.4, 0.26666666666666666, 0.5, 0.5666666666666667, 0.6, 0.5666666666666667, 0.4, 0.4666666666666667, 0.3, 0.5333333333333333, 0.3333333333333333, 0.5666666666666667, 0.3333333333333333, 0.6, 0.43333333333333335, 0.5, 0.5, 0.3333333333333333, 0.43333333333333335, 0.4666666666666667, 0.5666666666666667, 0.5666666666666667, 0.4666666666666667, 0.5333333333333333, 0.5, 0.43333333333333335, 0.5, 0.5333333333333333, 0.43333333333333335, 0.4, 0.5, 0.4666666666666667, 0.5666666666666667, 0.5666666666666667, 0.5, 0.43333333333333335, 0.43333333333333335, 0.5, 0.6, 0.4666666666666667, 0.3, 0.5666666666666667, 0.5666666666666667, 0.4666666666666667, 0.6333333333333333, 0.4666666666666667, 0.5, 0.5666666666666667, 0.4666666666666667, 0.4, 0.5, 0.4666666666666667, 0.36666666666666664, 0.5333333333333333, 0.5, 0.4, 0.5, 0.5, 0.4666666666666667, 0.4666666666666667, 0.4666666666666667, 0.5333333333333333, 0.4666666666666667, 0.6, 0.6, 0.26666666666666666, 0.4, 0.43333333333333335, 0.5333333333333333, 0.6333333333333333, 0.5666666666666667, 0.7333333333333333, 0.6, 0.6, 0.5666666666666667, 0.5666666666666667, 0.5333333333333333, 0.3333333333333333, 0.4666666666666667, 0.43333333333333335, 0.6666666666666666, 0.4666666666666667, 0.5, 0.5666666666666667, 0.43333333333333335, 0.26666666666666666, 0.7333333333333333, 0.4666666666666667, 0.6, 0.36666666666666664, 0.43333333333333335, 0.4666666666666667, 0.36666666666666664, 0.4666666666666667, 0.43333333333333335, 0.5333333333333333, 0.6666666666666666, 0.5333333333333333, 0.43333333333333335, 0.5666666666666667, 0.43333333333333335, 0.5333333333333333, 0.4666666666666667, 0.4666666666666667, 0.4, 0.4666666666666667, 0.4666666666666667, 0.5333333333333333, 0.4, 0.4, 0.5333333333333333, 0.43333333333333335, 0.6, 0.43333333333333335, 0.36666666666666664, 0.6333333333333333, 0.5, 0.5666666666666667, 0.4666666666666667, 0.4, 0.4, 0.5, 0.5666666666666667, 0.43333333333333335, 0.4666666666666667, 0.6333333333333333, 0.6, 0.5333333333333333, 0.5, 0.43333333333333335, 0.5333333333333333, 0.5666666666666667, 0.6, 0.43333333333333335, 0.5333333333333333, 0.5, 0.7, 0.5333333333333333, 0.7, 0.5, 0.6333333333333333, 0.6666666666666666, 0.36666666666666664, 0.4666666666666667, 0.4, 0.7666666666666667, 0.5666666666666667, 0.43333333333333335, 0.4666666666666667, 0.5666666666666667, 0.6666666666666666, 0.6666666666666666, 0.4, 0.4, 0.6, 0.5666666666666667, 0.3, 0.4, 0.5666666666666667, 0.5, 0.4666666666666667, 0.5333333333333333, 0.5666666666666667, 0.4, 0.6666666666666666, 0.4, 0.3333333333333333, 0.5666666666666667, 0.6, 0.5, 0.6666666666666666, 0.5, 0.36666666666666664, 0.5, 0.6666666666666666, 0.5333333333333333, 0.5333333333333333, 0.36666666666666664, 0.6, 0.4, 0.7, 0.43333333333333335, 0.6333333333333333, 0.5333333333333333, 0.5333333333333333, 0.43333333333333335, 0.43333333333333335, 0.4666666666666667, 0.23333333333333334, 0.5666666666666667, 0.5333333333333333, 0.36666666666666664, 0.5666666666666667, 0.5333333333333333, 0.4666666666666667, 0.5, 0.5, 0.6666666666666666, 0.5, 0.4, 0.4, 0.5666666666666667, 0.5333333333333333, 0.6, 0.4666666666666667, 0.5333333333333333, 0.4666666666666667, 0.5, 0.3333333333333333, 0.4, 0.4666666666666667, 0.5, 0.4, 0.5, 0.43333333333333335, 0.43333333333333335, 0.36666666666666664, 0.4, 0.43333333333333335, 0.5666666666666667, 0.3333333333333333, 0.26666666666666666, 0.4, 0.5333333333333333, 0.5, 0.6, 0.5666666666666667, 0.5666666666666667, 0.6, 0.6333333333333333, 0.6333333333333333, 0.4666666666666667, 0.5666666666666667, 0.6666666666666666, 0.5, 0.5, 0.5666666666666667, 0.5666666666666667, 0.43333333333333335, 0.5, 0.4, 0.4666666666666667, 0.3333333333333333, 0.4666666666666667, 0.6333333333333333, 0.6, 0.5333333333333333, 0.6333333333333333, 0.5, 0.5666666666666667, 0.5, 0.5, 0.4666666666666667, 0.4666666666666667, 0.43333333333333335, 0.6333333333333333, 0.43333333333333335, 0.5666666666666667, 0.6, 0.5666666666666667, 0.5, 0.5666666666666667, 0.5, 0.4, 0.4666666666666667, 0.4666666666666667, 0.6, 0.6666666666666666, 0.5333333333333333, 0.3333333333333333, 0.4666666666666667, 0.5333333333333333, 0.4666666666666667, 0.43333333333333335, 0.6, 0.5666666666666667, 0.43333333333333335, 0.5, 0.43333333333333335, 0.5333333333333333, 0.5666666666666667, 0.4666666666666667, 0.6666666666666666, 0.4666666666666667, 0.4666666666666667, 0.6, 0.6333333333333333, 0.6, 0.4666666666666667, 0.5666666666666667, 0.43333333333333335, 0.5333333333333333, 0.6, 0.4, 0.5, 0.36666666666666664, 0.5666666666666667, 0.5333333333333333, 0.5333333333333333, 0.5333333333333333, 0.5666666666666667, 0.4666666666666667, 0.43333333333333335, 0.4, 0.6666666666666666, 0.5333333333333333, 0.4666666666666667, 0.4, 0.5666666666666667, 0.5666666666666667, 0.5666666666666667, 0.5333333333333333, 0.6, 0.5333333333333333, 0.36666666666666664, 0.3333333333333333, 0.5666666666666667, 0.5666666666666667, 0.43333333333333335, 0.5, 0.6333333333333333, 0.4666666666666667, 0.5333333333333333, 0.5333333333333333, 0.5, 0.7, 0.36666666666666664, 0.5, 0.36666666666666664, 0.4666666666666667, 0.4, 0.5, 0.4666666666666667, 0.3333333333333333, 0.4666666666666667, 0.43333333333333335, 0.4, 0.4666666666666667, 0.5666666666666667, 0.5666666666666667, 0.4666666666666667, 0.5333333333333333, 0.43333333333333335, 0.6333333333333333, 0.4, 0.6, 0.5333333333333333, 0.43333333333333335, 0.5, 0.43333333333333335, 0.5333333333333333, 0.5, 0.4666666666666667, 0.43333333333333335, 0.5, 0.4666666666666667, 0.5666666666666667, 0.5333333333333333, 0.4666666666666667, 0.7, 0.6333333333333333, 0.4, 0.5333333333333333, 0.4666666666666667, 0.5333333333333333, 0.6, 0.5666666666666667, 0.36666666666666664, 0.6333333333333333, 0.5, 0.5333333333333333, 0.7333333333333333, 0.4666666666666667, 0.3, 0.4, 0.5666666666666667, 0.6333333333333333, 0.6, 0.5, 0.43333333333333335, 0.4666666666666667, 0.6, 0.6666666666666666, 0.43333333333333335, 0.7666666666666667, 0.5, 0.3333333333333333, 0.6, 0.5333333333333333, 0.4, 0.4, 0.4, 0.6, 0.6333333333333333, 0.5, 0.43333333333333335, 0.5, 0.3, 0.43333333333333335, 0.4, 0.5333333333333333, 0.5, 0.7666666666666667, 0.6, 0.4666666666666667, 0.7, 0.4666666666666667, 0.4666666666666667, 0.43333333333333335, 0.6333333333333333, 0.6666666666666666, 0.6333333333333333, 0.5666666666666667, 0.4666666666666667, 0.4, 0.5333333333333333, 0.5, 0.43333333333333335, 0.5333333333333333, 0.5333333333333333, 0.6, 0.3333333333333333, 0.4666666666666667, 0.4, 0.43333333333333335, 0.4666666666666667, 0.6, 0.4, 0.5666666666666667, 0.3333333333333333, 0.6333333333333333, 0.6666666666666666, 0.36666666666666664, 0.4, 0.5, 0.6, 0.4666666666666667, 0.43333333333333335, 0.4666666666666667, 0.4, 0.4, 0.4666666666666667, 0.6, 0.5, 0.5333333333333333, 0.4, 0.4666666666666667, 0.4666666666666667, 0.5666666666666667, 0.5, 0.4, 0.43333333333333335, 0.43333333333333335, 0.6, 0.5333333333333333, 0.6, 0.5, 0.5, 0.3333333333333333, 0.7, 0.4666666666666667, 0.4666666666666667, 0.4666666666666667, 0.4666666666666667, 0.5666666666666667, 0.36666666666666664, 0.5333333333333333, 0.5, 0.5, 0.4666666666666667, 0.6, 0.43333333333333335, 0.5, 0.4, 0.5666666666666667, 0.5666666666666667, 0.36666666666666664, 0.4666666666666667, 0.43333333333333335, 0.43333333333333335, 0.6333333333333333, 0.43333333333333335, 0.6, 0.5333333333333333, 0.5666666666666667, 0.4, 0.5, 0.5, 0.4666666666666667, 0.36666666666666664, 0.5333333333333333, 0.43333333333333335, 0.4666666666666667, 0.5, 0.6666666666666666, 0.4666666666666667, 0.5666666666666667, 0.5666666666666667, 0.4666666666666667, 0.5, 0.4, 0.5333333333333333, 0.4666666666666667, 0.5333333333333333, 0.4666666666666667, 0.4, 0.6, 0.6, 0.4666666666666667, 0.5666666666666667, 0.43333333333333335, 0.43333333333333335, 0.43333333333333335, 0.6666666666666666, 0.6333333333333333, 0.6, 0.4, 0.43333333333333335, 0.5, 0.5333333333333333, 0.6, 0.6333333333333333, 0.4666666666666667, 0.43333333333333335, 0.5666666666666667, 0.5, 0.6333333333333333, 0.36666666666666664, 0.5666666666666667, 0.6, 0.4666666666666667, 0.36666666666666664, 0.5333333333333333, 0.4666666666666667, 0.5, 0.5, 0.5333333333333333, 0.4666666666666667, 0.5666666666666667, 0.4, 0.5333333333333333, 0.6333333333333333, 0.43333333333333335, 0.5333333333333333, 0.6, 0.36666666666666664, 0.5333333333333333, 0.36666666666666664, 0.4666666666666667, 0.6, 0.5666666666666667, 0.43333333333333335, 0.5666666666666667, 0.6666666666666666, 0.5666666666666667, 0.5333333333333333, 0.6, 0.43333333333333335, 0.6, 0.5, 0.4666666666666667, 0.6666666666666666, 0.4, 0.5333333333333333, 0.5, 0.5333333333333333, 0.6, 0.5333333333333333, 0.5333333333333333, 0.4666666666666667, 0.36666666666666664, 0.4666666666666667, 0.5, 0.5, 0.4666666666666667, 0.5, 0.3333333333333333, 0.4, 0.5333333333333333, 0.4666666666666667, 0.6, 0.5, 0.5666666666666667, 0.36666666666666664, 0.6, 0.6, 0.43333333333333335, 0.5666666666666667, 0.4, 0.6, 0.7, 0.4666666666666667, 0.5666666666666667, 0.43333333333333335, 0.4666666666666667, 0.4666666666666667, 0.5333333333333333, 0.5, 0.6, 0.4, 0.36666666666666664, 0.5, 0.5, 0.6333333333333333, 0.43333333333333335, 0.6, 0.6, 0.4, 0.4666666666666667, 0.5333333333333333, 0.5333333333333333, 0.6666666666666666, 0.6, 0.5666666666666667, 0.5333333333333333, 0.4666666666666667, 0.5, 0.5, 0.5, 0.5666666666666667, 0.7, 0.6, 0.36666666666666664, 0.5666666666666667, 0.5333333333333333, 0.4666666666666667, 0.5333333333333333, 0.43333333333333335, 0.5666666666666667, 0.4, 0.4666666666666667, 0.4666666666666667, 0.5666666666666667, 0.5, 0.4, 0.4, 0.5666666666666667, 0.5, 0.4666666666666667, 0.5666666666666667, 0.5333333333333333, 0.5, 0.5333333333333333, 0.5, 0.5, 0.6, 0.5, 0.5333333333333333, 0.5, 0.5, 0.36666666666666664, 0.36666666666666664, 0.36666666666666664, 0.5, 0.6333333333333333, 0.5666666666666667, 0.5, 0.5666666666666667, 0.6666666666666666, 0.4666666666666667, 0.5, 0.5666666666666667, 0.5666666666666667, 0.5333333333333333, 0.7333333333333333, 0.5, 0.3333333333333333, 0.5666666666666667, 0.6, 0.4666666666666667, 0.36666666666666664, 0.5333333333333333, 0.5666666666666667, 0.4, 0.5666666666666667, 0.43333333333333335, 0.4666666666666667, 0.6333333333333333, 0.5333333333333333, 0.5666666666666667, 0.5333333333333333, 0.5333333333333333, 0.5, 0.5666666666666667, 0.43333333333333335, 0.5, 0.5333333333333333, 0.4666666666666667, 0.5, 0.4666666666666667, 0.6, 0.5333333333333333, 0.4666666666666667, 0.5333333333333333, 0.5666666666666667, 0.4666666666666667, 0.4666666666666667, 0.4, 0.5333333333333333, 0.36666666666666664, 0.6, 0.5, 0.5, 0.5666666666666667, 0.5666666666666667, 0.5666666666666667, 0.6, 0.3333333333333333, 0.5666666666666667, 0.5, 0.5333333333333333, 0.43333333333333335, 0.5, 0.4, 0.5, 0.6, 0.5333333333333333, 0.6, 0.4, 0.7, 0.4, 0.5333333333333333, 0.4666666666666667, 0.36666666666666664, 0.4666666666666667, 0.4, 0.5, 0.4, 0.4666666666666667, 0.5, 0.5333333333333333, 0.4, 0.4666666666666667, 0.6, 0.43333333333333335, 0.6666666666666666, 0.36666666666666664, 0.3, 0.5333333333333333, 0.4, 0.4666666666666667, 0.5333333333333333, 0.43333333333333335, 0.36666666666666664, 0.5, 0.4, 0.5666666666666667, 0.5333333333333333, 0.4, 0.43333333333333335, 0.5666666666666667, 0.5, 0.43333333333333335, 0.5666666666666667, 0.6333333333333333, 0.4, 0.5, 0.4666666666666667, 0.6, 0.3, 0.5, 0.5666666666666667, 0.5666666666666667, 0.5666666666666667, 0.5333333333333333, 0.5333333333333333, 0.5, 0.5333333333333333, 0.5333333333333333, 0.4, 0.6666666666666666, 0.6666666666666666, 0.43333333333333335, 0.4666666666666667, 0.36666666666666664, 0.5, 0.4666666666666667, 0.4, 0.5333333333333333, 0.6333333333333333, 0.5666666666666667, 0.4, 0.36666666666666664, 0.4, 0.6, 0.6666666666666666, 0.43333333333333335, 0.5333333333333333, 0.6333333333333333, 0.4666666666666667, 0.5666666666666667, 0.6, 0.6333333333333333, 0.36666666666666664, 0.43333333333333335, 0.5333333333333333, 0.4, 0.3333333333333333, 0.5333333333333333, 0.5, 0.4666666666666667, 0.4666666666666667, 0.6, 0.4666666666666667, 0.36666666666666664, 0.36666666666666664, 0.6333333333333333, 0.5, 0.6333333333333333, 0.4, 0.6333333333333333, 0.5666666666666667, 0.5, 0.5666666666666667, 0.7, 0.4, 0.5333333333333333, 0.6666666666666666, 0.5, 0.6, 0.4666666666666667, 0.4666666666666667, 0.5, 0.5666666666666667, 0.4, 0.5666666666666667, 0.5333333333333333, 0.6333333333333333, 0.7666666666666667, 0.5, 0.6, 0.5, 0.5333333333333333, 0.4666666666666667, 0.5666666666666667, 0.5, 0.5, 0.7, 0.4, 0.4666666666666667, 0.43333333333333335, 0.5333333333333333, 0.5333333333333333, 0.6666666666666666, 0.7, 0.5333333333333333, 0.5333333333333333, 0.5333333333333333, 0.5666666666666667, 0.5, 0.5333333333333333, 0.5333333333333333, 0.4666666666666667, 0.5, 0.4666666666666667, 0.36666666666666664, 0.5666666666666667, 0.6, 0.5666666666666667, 0.5, 0.7, 0.5333333333333333, 0.4666666666666667, 0.6333333333333333, 0.4666666666666667, 0.5, 0.3333333333333333, 0.3, 0.6, 0.5333333333333333, 0.3, 0.43333333333333335, 0.5333333333333333, 0.5, 0.36666666666666664, 0.36666666666666664, 0.5, 0.4, 0.5, 0.6666666666666666, 0.4666666666666667, 0.3333333333333333, 0.5333333333333333, 0.43333333333333335, 0.4666666666666667, 0.5, 0.3333333333333333, 0.5666666666666667, 0.36666666666666664, 0.4666666666666667, 0.7, 0.3333333333333333, 0.4666666666666667, 0.4, 0.5333333333333333, 0.4666666666666667, 0.5333333333333333, 0.43333333333333335, 0.4666666666666667, 0.5333333333333333, 0.6333333333333333, 0.5333333333333333, 0.4, 0.5, 0.4666666666666667, 0.5, 0.43333333333333335, 0.4, 0.5666666666666667, 0.5666666666666667, 0.36666666666666664, 0.6, 0.43333333333333335, 0.4, 0.4, 0.3, 0.5, 0.36666666666666664, 0.5, 0.4666666666666667, 0.43333333333333335, 0.6666666666666666, 0.36666666666666664, 0.5666666666666667, 0.5666666666666667, 0.5, 0.6, 0.4, 0.5, 0.5666666666666667, 0.5333333333333333, 0.5666666666666667, 0.43333333333333335, 0.5666666666666667, 0.5333333333333333, 0.5333333333333333, 0.6, 0.36666666666666664, 0.43333333333333335, 0.5666666666666667, 0.5666666666666667, 0.4666666666666667, 0.5, 0.4666666666666667, 0.5333333333333333, 0.5666666666666667, 0.5, 0.43333333333333335, 0.6, 0.4666666666666667, 0.43333333333333335, 0.43333333333333335, 0.5333333333333333, 0.43333333333333335, 0.43333333333333335, 0.6, 0.4, 0.5, 0.5666666666666667, 0.6666666666666666, 0.6, 0.4, 0.4, 0.43333333333333335, 0.5666666666666667, 0.4, 0.3333333333333333, 0.36666666666666664, 0.43333333333333335, 0.5333333333333333, 0.4666666666666667, 0.5, 0.4666666666666667, 0.5, 0.6, 0.5, 0.43333333333333335, 0.3333333333333333, 0.6, 0.6333333333333333, 0.43333333333333335, 0.6, 0.5333333333333333, 0.5, 0.6333333333333333, 0.5666666666666667, 0.5, 0.26666666666666666, 0.5666666666666667, 0.5, 0.4666666666666667, 0.5666666666666667, 0.5, 0.5666666666666667, 0.5333333333333333, 0.5666666666666667, 0.4666666666666667, 0.6, 0.5, 0.6, 0.5, 0.5333333333333333, 0.5666666666666667, 0.6, 0.36666666666666664, 0.6, 0.6333333333333333, 0.5, 0.5333333333333333, 0.5333333333333333, 0.3, 0.5333333333333333, 0.6, 0.4666666666666667, 0.5, 0.43333333333333335, 0.4, 0.4, 0.6333333333333333, 0.4666666666666667, 0.5666666666666667, 0.5, 0.6, 0.5333333333333333, 0.6666666666666666, 0.6333333333333333, 0.6666666666666666, 0.4666666666666667, 0.4666666666666667, 0.7333333333333333, 0.6, 0.4666666666666667, 0.5666666666666667, 0.4, 0.6333333333333333, 0.3333333333333333, 0.5333333333333333, 0.5, 0.43333333333333335, 0.5333333333333333, 0.6333333333333333, 0.43333333333333335, 0.36666666666666664, 0.4666666666666667, 0.6, 0.5, 0.3, 0.43333333333333335, 0.43333333333333335, 0.5666666666666667, 0.4, 0.5333333333333333, 0.4666666666666667, 0.4, 0.5666666666666667, 0.6, 0.6333333333333333, 0.43333333333333335, 0.5666666666666667, 0.6, 0.5666666666666667, 0.3333333333333333, 0.6, 0.4666666666666667, 0.5333333333333333, 0.5333333333333333, 0.5333333333333333, 0.36666666666666664, 0.5333333333333333, 0.5666666666666667, 0.5666666666666667, 0.5333333333333333, 0.4666666666666667, 0.5, 0.4, 0.4, 0.4, 0.4666666666666667, 0.5, 0.43333333333333335, 0.4, 0.5, 0.5666666666666667, 0.5666666666666667, 0.5, 0.36666666666666664, 0.6, 0.4, 0.6666666666666666, 0.6333333333333333, 0.43333333333333335, 0.4666666666666667, 0.5, 0.43333333333333335, 0.4666666666666667, 0.5333333333333333, 0.6333333333333333, 0.4666666666666667, 0.5, 0.4, 0.6, 0.5333333333333333, 0.36666666666666664, 0.5, 0.6, 0.5666666666666667, 0.5666666666666667, 0.6, 0.5333333333333333, 0.4666666666666667, 0.5666666666666667, 0.36666666666666664, 0.36666666666666664, 0.4666666666666667, 0.5666666666666667, 0.4, 0.6, 0.4666666666666667, 0.5666666666666667, 0.4666666666666667, 0.5, 0.43333333333333335, 0.4666666666666667, 0.5, 0.6666666666666666, 0.5666666666666667, 0.5333333333333333, 0.4, 0.5, 0.5, 0.5, 0.7333333333333333, 0.5333333333333333, 0.43333333333333335, 0.6333333333333333, 0.6, 0.6333333333333333, 0.3333333333333333, 0.43333333333333335, 0.6, 0.43333333333333335, 0.5, 0.6666666666666666, 0.5666666666666667, 0.43333333333333335, 0.7, 0.4666666666666667, 0.6, 0.5333333333333333, 0.5, 0.5333333333333333, 0.5, 0.6666666666666666, 0.4, 0.6, 0.43333333333333335, 0.5, 0.43333333333333335, 0.5666666666666667, 0.5666666666666667, 0.6, 0.5333333333333333, 0.5666666666666667, 0.4666666666666667, 0.3333333333333333, 0.5333333333333333, 0.4, 0.5, 0.5333333333333333, 0.6, 0.5, 0.36666666666666664, 0.4, 0.5, 0.4, 0.6333333333333333, 0.4, 0.3333333333333333, 0.36666666666666664, 0.5666666666666667, 0.4, 0.4666666666666667, 0.5, 0.3333333333333333, 0.6333333333333333, 0.5, 0.4666666666666667, 0.5666666666666667, 0.5, 0.5, 0.6, 0.4666666666666667, 0.5666666666666667, 0.6333333333333333, 0.6333333333333333, 0.4666666666666667, 0.3333333333333333, 0.5, 0.5, 0.3, 0.5, 0.7, 0.5, 0.5333333333333333, 0.5, 0.5, 0.4666666666666667, 0.4666666666666667, 0.5, 0.4, 0.5333333333333333, 0.4666666666666667, 0.43333333333333335, 0.3, 0.5333333333333333, 0.6, 0.5666666666666667, 0.5, 0.43333333333333335, 0.6, 0.4666666666666667, 0.26666666666666666, 0.5, 0.6, 0.6, 0.3333333333333333, 0.4, 0.6333333333333333, 0.4, 0.6, 0.5666666666666667, 0.4, 0.36666666666666664, 0.4666666666666667, 0.5333333333333333, 0.5333333333333333, 0.43333333333333335, 0.4, 0.43333333333333335, 0.5, 0.5, 0.43333333333333335, 0.4666666666666667, 0.4666666666666667, 0.5666666666666667, 0.3333333333333333, 0.43333333333333335, 0.5, 0.5666666666666667, 0.5333333333333333, 0.5666666666666667, 0.5666666666666667, 0.4666666666666667, 0.4, 0.5333333333333333, 0.5666666666666667, 0.5666666666666667, 0.7, 0.36666666666666664, 0.4666666666666667, 0.5666666666666667, 0.43333333333333335, 0.6333333333333333, 0.6, 0.4666666666666667, 0.5, 0.36666666666666664, 0.5666666666666667, 0.5666666666666667, 0.5666666666666667, 0.5, 0.6, 0.4, 0.6, 0.5666666666666667, 0.4, 0.3333333333333333, 0.4666666666666667, 0.5666666666666667, 0.43333333333333335, 0.5333333333333333, 0.5666666666666667, 0.36666666666666664, 0.5, 0.36666666666666664, 0.36666666666666664, 0.43333333333333335, 0.5, 0.43333333333333335, 0.6, 0.43333333333333335, 0.4, 0.5333333333333333, 0.36666666666666664, 0.5, 0.4, 0.5333333333333333, 0.36666666666666664, 0.4666666666666667, 0.5333333333333333, 0.3, 0.4, 0.5333333333333333, 0.5, 0.5, 0.5666666666666667, 0.5333333333333333, 0.6, 0.5333333333333333, 0.4666666666666667, 0.5, 0.5333333333333333, 0.5333333333333333, 0.4, 0.5333333333333333, 0.6666666666666666, 0.43333333333333335, 0.4666666666666667, 0.6666666666666666, 0.6333333333333333, 0.5333333333333333, 0.3333333333333333, 0.7666666666666667, 0.5666666666666667, 0.6333333333333333, 0.4666666666666667, 0.5, 0.5666666666666667, 0.43333333333333335, 0.3333333333333333, 0.4666666666666667, 0.6, 0.43333333333333335, 0.6, 0.4666666666666667, 0.4666666666666667, 0.43333333333333335, 0.43333333333333335, 0.4666666666666667, 0.6333333333333333, 0.43333333333333335, 0.4, 0.43333333333333335, 0.6, 0.4, 0.43333333333333335, 0.5, 0.5, 0.5333333333333333, 0.4, 0.6, 0.5, 0.3333333333333333, 0.43333333333333335, 0.5666666666666667, 0.3333333333333333, 0.5, 0.43333333333333335, 0.4, 0.36666666666666664, 0.4, 0.43333333333333335, 0.4666666666666667, 0.6333333333333333, 0.5333333333333333, 0.4, 0.43333333333333335, 0.5666666666666667, 0.5333333333333333, 0.4, 0.5, 0.4666666666666667, 0.4666666666666667, 0.4666666666666667, 0.6333333333333333, 0.6333333333333333, 0.3, 0.6, 0.5666666666666667, 0.5, 0.6666666666666666, 0.7, 0.6, 0.6, 0.6, 0.36666666666666664, 0.5666666666666667, 0.43333333333333335, 0.6, 0.4, 0.43333333333333335, 0.7333333333333333, 0.4, 0.5333333333333333, 0.5, 0.5, 0.4666666666666667, 0.6, 0.5, 0.4, 0.43333333333333335, 0.5, 0.4666666666666667, 0.3333333333333333, 0.6, 0.4666666666666667, 0.5, 0.4, 0.5333333333333333, 0.4, 0.6, 0.4666666666666667, 0.4, 0.5666666666666667, 0.6666666666666666, 0.5666666666666667, 0.6, 0.3333333333333333, 0.36666666666666664, 0.6, 0.6, 0.5666666666666667, 0.5, 0.5333333333333333, 0.6, 0.4, 0.4, 0.6666666666666666, 0.5333333333333333, 0.5, 0.43333333333333335, 0.6, 0.4, 0.5333333333333333, 0.5, 0.5, 0.4666666666666667, 0.7, 0.43333333333333335, 0.6666666666666666, 0.4, 0.7333333333333333, 0.6666666666666666, 0.6, 0.4666666666666667, 0.5333333333333333, 0.43333333333333335, 0.6333333333333333, 0.5666666666666667, 0.4666666666666667, 0.43333333333333335, 0.43333333333333335, 0.4666666666666667, 0.5666666666666667, 0.4, 0.5, 0.36666666666666664, 0.5666666666666667, 0.5666666666666667, 0.6, 0.5333333333333333, 0.4666666666666667, 0.26666666666666666, 0.6, 0.4666666666666667, 0.36666666666666664, 0.5, 0.4666666666666667, 0.5333333333333333, 0.6666666666666666, 0.43333333333333335, 0.5666666666666667, 0.4666666666666667, 0.5, 0.6, 0.5666666666666667, 0.5333333333333333, 0.6666666666666666, 0.3333333333333333, 0.5, 0.4666666666666667, 0.5, 0.6333333333333333, 0.43333333333333335, 0.4666666666666667, 0.36666666666666664, 0.5333333333333333, 0.36666666666666664, 0.36666666666666664, 0.36666666666666664, 0.5666666666666667, 0.5333333333333333, 0.5, 0.4, 0.4666666666666667, 0.43333333333333335, 0.4666666666666667, 0.4666666666666667, 0.5, 0.4, 0.5666666666666667, 0.3333333333333333, 0.36666666666666664, 0.43333333333333335, 0.5333333333333333, 0.4666666666666667, 0.43333333333333335, 0.5, 0.5, 0.43333333333333335, 0.5, 0.5666666666666667, 0.5333333333333333, 0.4, 0.5333333333333333, 0.5, 0.4, 0.5, 0.5, 0.4, 0.5, 0.4, 0.4, 0.5333333333333333, 0.6, 0.36666666666666664, 0.4, 0.5666666666666667, 0.43333333333333335, 0.5666666666666667, 0.43333333333333335, 0.6, 0.6666666666666666, 0.4, 0.6333333333333333, 0.5, 0.5, 0.3333333333333333, 0.36666666666666664, 0.6666666666666666, 0.4666666666666667, 0.43333333333333335, 0.6, 0.5333333333333333, 0.5, 0.3333333333333333, 0.5666666666666667, 0.6666666666666666, 0.36666666666666664, 0.6333333333333333, 0.4, 0.5666666666666667, 0.4666666666666667, 0.36666666666666664, 0.6333333333333333, 0.5666666666666667, 0.4, 0.5333333333333333, 0.5666666666666667, 0.4666666666666667, 0.43333333333333335, 0.36666666666666664, 0.4666666666666667, 0.7, 0.36666666666666664, 0.4666666666666667, 0.5, 0.3, 0.3333333333333333, 0.5666666666666667, 0.5, 0.4666666666666667, 0.6333333333333333, 0.6333333333333333, 0.5666666666666667, 0.5333333333333333, 0.4, 0.6666666666666666, 0.43333333333333335, 0.6333333333333333, 0.4666666666666667, 0.6, 0.43333333333333335, 0.5, 0.5333333333333333, 0.5666666666666667, 0.5333333333333333, 0.5, 0.6333333333333333, 0.43333333333333335, 0.5, 0.4666666666666667, 0.5333333333333333, 0.43333333333333335, 0.4, 0.4666666666666667, 0.3333333333333333, 0.4666666666666667, 0.5333333333333333, 0.6333333333333333, 0.4666666666666667, 0.4666666666666667, 0.5333333333333333, 0.6, 0.6333333333333333, 0.5666666666666667, 0.7, 0.4666666666666667, 0.5, 0.5666666666666667, 0.6333333333333333, 0.43333333333333335, 0.4, 0.5333333333333333, 0.5, 0.3333333333333333, 0.5333333333333333, 0.4666666666666667, 0.6333333333333333, 0.36666666666666664, 0.5, 0.5666666666666667, 0.6333333333333333, 0.6333333333333333, 0.6, 0.6333333333333333, 0.3, 0.5666666666666667, 0.6, 0.43333333333333335, 0.5, 0.4666666666666667, 0.5333333333333333, 0.5, 0.6, 0.5, 0.43333333333333335, 0.43333333333333335, 0.5333333333333333, 0.4666666666666667, 0.6333333333333333, 0.6666666666666666, 0.5666666666666667, 0.6333333333333333, 0.3, 0.5666666666666667, 0.6, 0.5, 0.4666666666666667, 0.6, 0.5, 0.5, 0.6, 0.5666666666666667, 0.43333333333333335, 0.6, 0.6666666666666666, 0.5, 0.43333333333333335, 0.3333333333333333, 0.5, 0.4666666666666667, 0.4666666666666667, 0.5333333333333333, 0.36666666666666664, 0.6333333333333333, 0.6, 0.43333333333333335, 0.5333333333333333, 0.4666666666666667, 0.5666666666666667, 0.5, 0.4, 0.5, 0.6, 0.5, 0.6333333333333333, 0.36666666666666664, 0.5, 0.36666666666666664, 0.5666666666666667, 0.5333333333333333, 0.5333333333333333, 0.5333333333333333, 0.43333333333333335, 0.4666666666666667, 0.43333333333333335, 0.4666666666666667, 0.4, 0.5333333333333333, 0.5333333333333333, 0.5333333333333333, 0.6333333333333333, 0.43333333333333335, 0.6, 0.5333333333333333, 0.6, 0.4, 0.4666666666666667, 0.5666666666666667, 0.5, 0.4, 0.5666666666666667, 0.6, 0.4666666666666667, 0.3333333333333333, 0.6, 0.5, 0.5333333333333333, 0.3333333333333333, 0.5, 0.5, 0.5333333333333333, 0.6, 0.4, 0.4666666666666667, 0.5, 0.43333333333333335, 0.5, 0.5, 0.5333333333333333, 0.4666666666666667, 0.4, 0.4, 0.7, 0.4666666666666667, 0.4666666666666667, 0.36666666666666664, 0.6333333333333333, 0.4666666666666667, 0.5333333333333333, 0.5333333333333333, 0.5, 0.4666666666666667, 0.43333333333333335, 0.5666666666666667, 0.5333333333333333, 0.6, 0.6, 0.5333333333333333, 0.5, 0.5666666666666667, 0.5, 0.43333333333333335, 0.36666666666666664, 0.6333333333333333, 0.5333333333333333, 0.3, 0.6666666666666666, 0.43333333333333335, 0.5, 0.5666666666666667, 0.4666666666666667, 0.4, 0.4666666666666667, 0.5, 0.6333333333333333, 0.6333333333333333, 0.5, 0.6, 0.5333333333333333, 0.43333333333333335, 0.5333333333333333, 0.5333333333333333, 0.4666666666666667, 0.4666666666666667, 0.4666666666666667, 0.6, 0.36666666666666664, 0.43333333333333335, 0.26666666666666666, 0.36666666666666664, 0.5, 0.6333333333333333, 0.36666666666666664, 0.5333333333333333, 0.5666666666666667, 0.5, 0.6333333333333333, 0.5666666666666667, 0.43333333333333335, 0.6, 0.5, 0.43333333333333335, 0.6333333333333333, 0.36666666666666664, 0.4666666666666667, 0.6, 0.3333333333333333, 0.5333333333333333, 0.4666666666666667, 0.3, 0.4, 0.5, 0.5333333333333333, 0.4, 0.5333333333333333, 0.5666666666666667, 0.5, 0.6333333333333333, 0.4, 0.43333333333333335, 0.5, 0.6, 0.5333333333333333, 0.4, 0.3333333333333333, 0.4666666666666667, 0.5, 0.4, 0.4666666666666667, 0.26666666666666666, 0.4666666666666667, 0.5666666666666667, 0.5333333333333333, 0.36666666666666664, 0.5666666666666667, 0.43333333333333335, 0.5666666666666667, 0.43333333333333335, 0.5666666666666667, 0.4666666666666667, 0.5, 0.6333333333333333, 0.6666666666666666, 0.5, 0.4666666666666667, 0.43333333333333335, 0.5666666666666667, 0.5, 0.5333333333333333, 0.5333333333333333, 0.3, 0.5666666666666667, 0.4666666666666667, 0.6, 0.4666666666666667, 0.4666666666666667, 0.43333333333333335, 0.4, 0.5, 0.43333333333333335, 0.5, 0.5, 0.26666666666666666, 0.4, 0.5333333333333333, 0.4, 0.5333333333333333, 0.43333333333333335, 0.5333333333333333, 0.6333333333333333, 0.4, 0.36666666666666664, 0.3333333333333333, 0.6, 0.5666666666666667, 0.5, 0.6333333333333333, 0.5333333333333333, 0.5333333333333333, 0.6, 0.5333333333333333, 0.5, 0.4, 0.43333333333333335, 0.5666666666666667, 0.5333333333333333, 0.3333333333333333, 0.7, 0.4666666666666667, 0.4666666666666667, 0.5666666666666667, 0.5333333333333333, 0.6333333333333333, 0.5333333333333333, 0.3333333333333333, 0.4, 0.6333333333333333, 0.5666666666666667, 0.43333333333333335, 0.5, 0.43333333333333335, 0.4666666666666667, 0.5333333333333333, 0.43333333333333335, 0.3333333333333333, 0.36666666666666664, 0.5333333333333333, 0.4, 0.5333333333333333, 0.6333333333333333, 0.5333333333333333, 0.5666666666666667, 0.6333333333333333, 0.5333333333333333, 0.6, 0.43333333333333335, 0.5, 0.5, 0.5, 0.5, 0.5333333333333333, 0.6, 0.5, 0.5333333333333333, 0.4666666666666667, 0.5, 0.4666666666666667, 0.5, 0.5, 0.4666666666666667, 0.43333333333333335, 0.4, 0.5333333333333333, 0.5, 0.5333333333333333, 0.6333333333333333, 0.4666666666666667, 0.5333333333333333, 0.4666666666666667, 0.5666666666666667, 0.6, 0.5666666666666667, 0.4666666666666667, 0.6, 0.5333333333333333, 0.5333333333333333, 0.4, 0.5666666666666667, 0.4666666666666667, 0.43333333333333335, 0.7, 0.5666666666666667, 0.4666666666666667, 0.4666666666666667, 0.5333333333333333, 0.4, 0.4666666666666667, 0.4666666666666667, 0.5, 0.4, 0.4666666666666667, 0.43333333333333335, 0.5333333333333333, 0.43333333333333335, 0.5666666666666667, 0.4, 0.5333333333333333, 0.7333333333333333, 0.43333333333333335, 0.5, 0.5, 0.4666666666666667, 0.4666666666666667, 0.6, 0.5333333333333333, 0.7333333333333333, 0.7, 0.4, 0.4, 0.3333333333333333, 0.5333333333333333, 0.4, 0.6, 0.5333333333333333, 0.36666666666666664, 0.4666666666666667, 0.5333333333333333, 0.6, 0.4666666666666667, 0.6, 0.6, 0.5333333333333333, 0.5333333333333333, 0.5333333333333333, 0.4, 0.36666666666666664, 0.5, 0.43333333333333335, 0.4666666666666667, 0.43333333333333335, 0.6, 0.6666666666666666, 0.4666666666666667, 0.7, 0.4666666666666667, 0.5333333333333333, 0.5, 0.43333333333333335, 0.5333333333333333, 0.4, 0.5, 0.4666666666666667, 0.5666666666666667, 0.6, 0.5666666666666667, 0.6333333333333333, 0.5666666666666667, 0.6, 0.4666666666666667, 0.5333333333333333, 0.4, 0.4666666666666667, 0.6333333333333333, 0.5333333333333333, 0.43333333333333335, 0.4666666666666667, 0.7333333333333333, 0.43333333333333335, 0.5333333333333333, 0.5666666666666667, 0.43333333333333335, 0.36666666666666664, 0.6333333333333333, 0.5, 0.6333333333333333, 0.4666666666666667, 0.5, 0.6, 0.5, 0.6, 0.4666666666666667, 0.5666666666666667, 0.5666666666666667, 0.43333333333333335, 0.5, 0.5, 0.5666666666666667, 0.6666666666666666, 0.5, 0.5333333333333333, 0.4666666666666667, 0.6, 0.5666666666666667, 0.4666666666666667, 0.36666666666666664, 0.6333333333333333, 0.4666666666666667, 0.4, 0.5, 0.36666666666666664, 0.43333333333333335, 0.36666666666666664, 0.5666666666666667, 0.6666666666666666, 0.5, 0.5333333333333333, 0.5, 0.43333333333333335, 0.43333333333333335, 0.5, 0.6333333333333333, 0.5, 0.5, 0.36666666666666664, 0.5666666666666667, 0.7666666666666667, 0.4, 0.7333333333333333, 0.5, 0.6666666666666666, 0.6666666666666666, 0.4666666666666667, 0.43333333333333335, 0.5, 0.4666666666666667, 0.4666666666666667, 0.5, 0.5666666666666667, 0.5333333333333333, 0.4, 0.5, 0.4, 0.43333333333333335, 0.36666666666666664, 0.5, 0.4666666666666667, 0.5666666666666667, 0.36666666666666664, 0.5333333333333333, 0.5666666666666667, 0.4, 0.5, 0.5333333333333333, 0.5333333333333333, 0.4666666666666667, 0.5333333333333333, 0.5, 0.3333333333333333, 0.43333333333333335, 0.3333333333333333, 0.4666666666666667, 0.6, 0.5666666666666667, 0.5666666666666667, 0.5, 0.43333333333333335, 0.4666666666666667, 0.5333333333333333, 0.5666666666666667, 0.6, 0.4666666666666667, 0.5, 0.6, 0.5, 0.3333333333333333, 0.5, 0.6, 0.4, 0.5666666666666667, 0.36666666666666664, 0.6, 0.43333333333333335, 0.5666666666666667, 0.4, 0.4666666666666667, 0.5333333333333333, 0.5666666666666667, 0.36666666666666664, 0.5666666666666667, 0.6, 0.5, 0.5333333333333333, 0.36666666666666664, 0.3, 0.3, 0.4, 0.4, 0.43333333333333335, 0.43333333333333335, 0.3, 0.43333333333333335, 0.5, 0.6333333333333333, 0.4666666666666667, 0.5333333333333333, 0.43333333333333335, 0.43333333333333335, 0.43333333333333335, 0.3, 0.6333333333333333, 0.43333333333333335, 0.4666666666666667, 0.4666666666666667, 0.6, 0.43333333333333335, 0.4666666666666667, 0.4666666666666667, 0.3333333333333333, 0.5333333333333333, 0.4, 0.26666666666666666, 0.5, 0.4666666666666667, 0.6, 0.5666666666666667, 0.43333333333333335, 0.4, 0.6, 0.5666666666666667, 0.6, 0.6, 0.43333333333333335, 0.7, 0.43333333333333335, 0.5, 0.4, 0.6, 0.6666666666666666, 0.4666666666666667, 0.6, 0.5, 0.6, 0.6666666666666666, 0.36666666666666664, 0.43333333333333335, 0.36666666666666664, 0.43333333333333335, 0.4666666666666667, 0.6, 0.5, 0.5, 0.5333333333333333, 0.43333333333333335, 0.6, 0.5, 0.6, 0.3333333333333333, 0.5666666666666667, 0.4, 0.5333333333333333, 0.5333333333333333, 0.5, 0.43333333333333335, 0.5333333333333333, 0.5, 0.36666666666666664, 0.6, 0.43333333333333335, 0.5, 0.5666666666666667, 0.3333333333333333, 0.5666666666666667, 0.6, 0.5, 0.3333333333333333, 0.4, 0.5, 0.5333333333333333, 0.43333333333333335, 0.3333333333333333, 0.36666666666666664, 0.5666666666666667, 0.6, 0.5333333333333333, 0.5666666666666667, 0.26666666666666666, 0.7, 0.4666666666666667, 0.4666666666666667, 0.3333333333333333, 0.5666666666666667, 0.6, 0.6, 0.5333333333333333, 0.5666666666666667, 0.5333333333333333, 0.5333333333333333, 0.6333333333333333, 0.4666666666666667, 0.43333333333333335, 0.43333333333333335, 0.4666666666666667, 0.4666666666666667, 0.4, 0.6333333333333333, 0.5, 0.5, 0.5333333333333333, 0.5666666666666667, 0.5333333333333333, 0.5333333333333333, 0.7, 0.36666666666666664, 0.6666666666666666, 0.5666666666666667, 0.4666666666666667, 0.5, 0.5333333333333333, 0.5666666666666667, 0.6, 0.5666666666666667, 0.6666666666666666, 0.6, 0.5666666666666667, 0.36666666666666664, 0.5333333333333333, 0.4666666666666667, 0.6, 0.4666666666666667, 0.43333333333333335, 0.5, 0.43333333333333335, 0.6333333333333333, 0.43333333333333335, 0.4666666666666667, 0.5666666666666667, 0.4, 0.5, 0.4666666666666667, 0.43333333333333335, 0.5, 0.5333333333333333, 0.4, 0.4666666666666667, 0.3, 0.4666666666666667, 0.5, 0.5666666666666667, 0.4, 0.5, 0.6333333333333333, 0.5333333333333333, 0.4666666666666667, 0.4, 0.4666666666666667, 0.5, 0.5666666666666667, 0.5666666666666667, 0.43333333333333335, 0.4, 0.5333333333333333, 0.5333333333333333, 0.5333333333333333, 0.6333333333333333, 0.43333333333333335, 0.5333333333333333, 0.43333333333333335, 0.43333333333333335, 0.43333333333333335, 0.5666666666666667, 0.5333333333333333, 0.5, 0.4, 0.4666666666666667, 0.43333333333333335, 0.5333333333333333, 0.4666666666666667, 0.36666666666666664, 0.5333333333333333, 0.6, 0.3333333333333333, 0.5666666666666667, 0.43333333333333335, 0.5666666666666667, 0.4, 0.5, 0.5333333333333333, 0.6, 0.4666666666666667, 0.5666666666666667, 0.4666666666666667, 0.4666666666666667, 0.5, 0.7, 0.5333333333333333, 0.4666666666666667, 0.5333333333333333, 0.4666666666666667, 0.5333333333333333, 0.43333333333333335, 0.6, 0.5333333333333333, 0.5666666666666667, 0.4, 0.4666666666666667, 0.36666666666666664, 0.5666666666666667, 0.5333333333333333, 0.43333333333333335, 0.5, 0.4666666666666667, 0.6, 0.6, 0.43333333333333335, 0.4666666666666667, 0.5, 0.4, 0.6333333333333333, 0.4666666666666667, 0.43333333333333335, 0.5333333333333333, 0.6333333333333333, 0.4666666666666667, 0.43333333333333335, 0.4666666666666667, 0.5666666666666667, 0.5666666666666667, 0.5333333333333333, 0.5, 0.6666666666666666, 0.5666666666666667, 0.5666666666666667, 0.5, 0.6, 0.5666666666666667, 0.6, 0.5, 0.5, 0.4666666666666667, 0.5666666666666667, 0.4666666666666667, 0.3333333333333333, 0.5666666666666667, 0.5333333333333333, 0.6, 0.5, 0.6, 0.4666666666666667, 0.4666666666666667, 0.6333333333333333, 0.4666666666666667, 0.4666666666666667, 0.43333333333333335, 0.36666666666666664, 0.5, 0.5333333333333333, 0.5666666666666667, 0.5666666666666667, 0.6, 0.4, 0.5, 0.4666666666666667, 0.5666666666666667, 0.5666666666666667, 0.5666666666666667, 0.5333333333333333, 0.6666666666666666, 0.5666666666666667, 0.5, 0.6, 0.36666666666666664, 0.5, 0.36666666666666664, 0.36666666666666664, 0.5, 0.5, 0.5, 0.6333333333333333, 0.4, 0.4666666666666667, 0.3333333333333333, 0.6666666666666666, 0.5, 0.4666666666666667, 0.5333333333333333, 0.5666666666666667, 0.5333333333333333, 0.5, 0.36666666666666664, 0.43333333333333335, 0.6666666666666666, 0.4666666666666667, 0.6333333333333333, 0.5333333333333333, 0.4666666666666667, 0.6333333333333333, 0.6, 0.43333333333333335, 0.5333333333333333, 0.4666666666666667, 0.5333333333333333, 0.5666666666666667, 0.4666666666666667, 0.43333333333333335, 0.3333333333333333, 0.26666666666666666, 0.4, 0.5333333333333333, 0.6, 0.43333333333333335, 0.5666666666666667, 0.5, 0.43333333333333335, 0.5333333333333333, 0.4666666666666667, 0.5, 0.5, 0.5, 0.3333333333333333, 0.43333333333333335, 0.5333333333333333, 0.5, 0.5, 0.5333333333333333, 0.5333333333333333, 0.6333333333333333, 0.4, 0.4666666666666667, 0.5666666666666667, 0.6333333333333333, 0.36666666666666664, 0.5666666666666667, 0.5666666666666667, 0.36666666666666664, 0.4, 0.5, 0.6, 0.4666666666666667, 0.36666666666666664, 0.6, 0.36666666666666664, 0.6333333333333333, 0.4666666666666667, 0.43333333333333335, 0.5333333333333333, 0.4666666666666667, 0.5333333333333333, 0.5333333333333333, 0.6, 0.5, 0.6333333333333333, 0.43333333333333335, 0.5, 0.6, 0.4666666666666667, 0.43333333333333335, 0.6333333333333333, 0.5, 0.5, 0.43333333333333335, 0.5, 0.5, 0.5333333333333333, 0.5333333333333333, 0.5333333333333333, 0.8, 0.6, 0.4666666666666667, 0.5, 0.5666666666666667, 0.5333333333333333, 0.5666666666666667, 0.6, 0.43333333333333335, 0.4666666666666667, 0.5333333333333333, 0.4666666666666667, 0.6, 0.43333333333333335, 0.5, 0.5666666666666667, 0.43333333333333335, 0.6333333333333333, 0.4, 0.3333333333333333, 0.5666666666666667, 0.5666666666666667, 0.6, 0.4, 0.6, 0.5333333333333333, 0.4, 0.5, 0.5333333333333333, 0.5666666666666667, 0.5, 0.3333333333333333, 0.6333333333333333, 0.5666666666666667, 0.6666666666666666, 0.43333333333333335, 0.3333333333333333, 0.4, 0.36666666666666664, 0.6333333333333333, 0.4666666666666667, 0.36666666666666664, 0.6, 0.6, 0.3333333333333333, 0.3, 0.5, 0.5666666666666667, 0.5, 0.4, 0.3333333333333333, 0.4666666666666667, 0.5333333333333333, 0.36666666666666664, 0.4666666666666667, 0.5666666666666667, 0.3333333333333333, 0.4, 0.4666666666666667, 0.4666666666666667, 0.5666666666666667, 0.36666666666666664, 0.5333333333333333, 0.3333333333333333, 0.5, 0.6333333333333333, 0.6666666666666666, 0.6666666666666666, 0.4666666666666667, 0.5, 0.6333333333333333, 0.6666666666666666, 0.7333333333333333, 0.6, 0.6, 0.4, 0.5333333333333333, 0.4666666666666667, 0.5666666666666667, 0.43333333333333335, 0.6, 0.4666666666666667, 0.5666666666666667, 0.6333333333333333, 0.6, 0.6666666666666666, 0.6, 0.6, 0.4666666666666667, 0.43333333333333335, 0.5666666666666667, 0.5, 0.5666666666666667, 0.5, 0.4666666666666667, 0.5666666666666667, 0.43333333333333335, 0.5333333333333333, 0.4666666666666667, 0.43333333333333335, 0.6333333333333333, 0.5333333333333333, 0.5666666666666667, 0.4666666666666667, 0.6, 0.5, 0.4, 0.43333333333333335, 0.5666666666666667, 0.5, 0.43333333333333335, 0.5333333333333333, 0.6666666666666666, 0.5333333333333333, 0.4666666666666667, 0.5, 0.43333333333333335, 0.6, 0.43333333333333335, 0.6666666666666666, 0.5666666666666667, 0.5666666666666667, 0.43333333333333335, 0.43333333333333335, 0.4666666666666667, 0.36666666666666664, 0.6, 0.5333333333333333, 0.6, 0.4666666666666667, 0.5666666666666667, 0.5666666666666667, 0.6, 0.4, 0.4666666666666667, 0.4666666666666667, 0.36666666666666664, 0.5, 0.36666666666666664, 0.6, 0.5666666666666667, 0.43333333333333335, 0.5666666666666667, 0.3333333333333333, 0.5333333333333333, 0.43333333333333335, 0.5666666666666667, 0.6, 0.3333333333333333, 0.6666666666666666, 0.4, 0.7666666666666667, 0.5, 0.5, 0.5333333333333333, 0.5, 0.5666666666666667, 0.6, 0.4666666666666667, 0.26666666666666666, 0.36666666666666664, 0.4, 0.5333333333333333, 0.3333333333333333, 0.6, 0.6666666666666666, 0.5, 0.4, 0.43333333333333335, 0.4666666666666667, 0.5333333333333333, 0.4666666666666667, 0.5333333333333333, 0.5, 0.5, 0.5333333333333333, 0.4666666666666667, 0.36666666666666664, 0.4, 0.4666666666666667, 0.5666666666666667, 0.5666666666666667, 0.6, 0.43333333333333335, 0.3, 0.26666666666666666, 0.6333333333333333, 0.4666666666666667, 0.5333333333333333, 0.3333333333333333, 0.4, 0.43333333333333335, 0.5, 0.43333333333333335, 0.5333333333333333, 0.4, 0.5, 0.4666666666666667, 0.3333333333333333, 0.6, 0.5333333333333333, 0.5666666666666667, 0.5, 0.5, 0.5666666666666667, 0.5, 0.6, 0.4666666666666667, 0.5666666666666667, 0.4, 0.5666666666666667, 0.4666666666666667, 0.43333333333333335, 0.36666666666666664, 0.6, 0.6, 0.43333333333333335, 0.5666666666666667, 0.43333333333333335, 0.6333333333333333, 0.6666666666666666, 0.5, 0.6, 0.5, 0.5, 0.43333333333333335, 0.6666666666666666, 0.3333333333333333, 0.6, 0.43333333333333335, 0.43333333333333335, 0.5666666666666667, 0.36666666666666664, 0.4666666666666667, 0.43333333333333335, 0.4666666666666667, 0.5333333333333333, 0.6666666666666666, 0.4666666666666667, 0.36666666666666664, 0.5, 0.4, 0.5666666666666667, 0.3333333333333333, 0.6, 0.6, 0.5666666666666667, 0.5333333333333333, 0.43333333333333335, 0.5333333333333333, 0.5, 0.5666666666666667, 0.5333333333333333, 0.3, 0.5666666666666667, 0.43333333333333335, 0.6333333333333333, 0.5, 0.3333333333333333, 0.4666666666666667, 0.36666666666666664, 0.6666666666666666, 0.7, 0.4666666666666667, 0.6333333333333333, 0.5666666666666667, 0.6, 0.5, 0.4, 0.6666666666666666, 0.36666666666666664, 0.5666666666666667, 0.6, 0.4666666666666667, 0.43333333333333335, 0.5333333333333333, 0.4, 0.26666666666666666, 0.43333333333333335, 0.5333333333333333, 0.6666666666666666, 0.4666666666666667, 0.4666666666666667, 0.6333333333333333, 0.5666666666666667, 0.6, 0.6, 0.5, 0.5333333333333333, 0.36666666666666664, 0.43333333333333335, 0.4, 0.6, 0.4666666666666667, 0.5, 0.6, 0.4666666666666667, 0.4666666666666667, 0.6, 0.6333333333333333, 0.4666666666666667, 0.6, 0.26666666666666666, 0.36666666666666664, 0.36666666666666664, 0.5666666666666667, 0.6333333333333333, 0.5, 0.5, 0.4, 0.5333333333333333, 0.5, 0.4666666666666667, 0.5333333333333333, 0.5666666666666667, 0.6, 0.6666666666666666, 0.4666666666666667, 0.4666666666666667, 0.5, 0.5, 0.43333333333333335, 0.4, 0.5333333333333333, 0.5333333333333333, 0.5, 0.4666666666666667, 0.4666666666666667, 0.5, 0.5666666666666667, 0.6, 0.6333333333333333, 0.5666666666666667, 0.6, 0.6333333333333333, 0.5666666666666667, 0.6666666666666666, 0.5333333333333333, 0.36666666666666664, 0.5333333333333333, 0.4, 0.5, 0.36666666666666664, 0.5666666666666667, 0.4, 0.4666666666666667, 0.7, 0.5666666666666667, 0.5666666666666667, 0.43333333333333335, 0.5333333333333333, 0.4, 0.4, 0.3333333333333333, 0.5333333333333333, 0.6666666666666666, 0.5333333333333333, 0.5333333333333333, 0.5, 0.5333333333333333, 0.6333333333333333, 0.6, 0.3, 0.4666666666666667, 0.4666666666666667, 0.6333333333333333, 0.43333333333333335, 0.6, 0.5666666666666667, 0.4666666666666667, 0.5666666666666667, 0.5, 0.6, 0.4666666666666667, 0.43333333333333335, 0.4, 0.36666666666666664, 0.26666666666666666, 0.36666666666666664, 0.7, 0.5, 0.4666666666666667, 0.43333333333333335, 0.6666666666666666, 0.4666666666666667, 0.43333333333333335, 0.6, 0.36666666666666664, 0.5333333333333333, 0.5666666666666667, 0.4, 0.4, 0.4, 0.4, 0.5666666666666667, 0.5666666666666667, 0.6333333333333333, 0.43333333333333335, 0.5, 0.43333333333333335, 0.4, 0.26666666666666666, 0.4, 0.5666666666666667, 0.36666666666666664, 0.4666666666666667, 0.5, 0.4, 0.4, 0.4666666666666667, 0.6, 0.6666666666666666, 0.4666666666666667, 0.6666666666666666, 0.4, 0.7333333333333333, 0.5333333333333333, 0.4666666666666667, 0.5333333333333333, 0.6, 0.3, 0.43333333333333335, 0.4, 0.36666666666666664, 0.36666666666666664, 0.6, 0.4, 0.6, 0.5666666666666667, 0.6666666666666666, 0.5666666666666667, 0.43333333333333335, 0.4, 0.6, 0.26666666666666666, 0.5333333333333333, 0.5, 0.5333333333333333, 0.5666666666666667, 0.36666666666666664, 0.5666666666666667, 0.5, 0.43333333333333335, 0.5666666666666667, 0.5333333333333333, 0.5666666666666667, 0.6333333333333333, 0.4, 0.43333333333333335, 0.5333333333333333, 0.7, 0.5, 0.6, 0.43333333333333335, 0.5333333333333333, 0.5, 0.43333333333333335, 0.43333333333333335, 0.3333333333333333, 0.4666666666666667, 0.36666666666666664, 0.6333333333333333, 0.5333333333333333, 0.36666666666666664, 0.43333333333333335, 0.7, 0.5666666666666667, 0.4666666666666667, 0.5333333333333333, 0.6, 0.43333333333333335, 0.36666666666666664, 0.43333333333333335, 0.3333333333333333, 0.4, 0.5, 0.5333333333333333, 0.4, 0.5666666666666667, 0.6666666666666666, 0.6, 0.5, 0.5, 0.5333333333333333, 0.36666666666666664, 0.4666666666666667, 0.5666666666666667, 0.43333333333333335, 0.4, 0.5, 0.43333333333333335, 0.43333333333333335, 0.5333333333333333, 0.5, 0.5, 0.6, 0.5333333333333333, 0.5, 0.3333333333333333, 0.5, 0.4666666666666667, 0.3333333333333333, 0.5, 0.5666666666666667, 0.5666666666666667, 0.6333333333333333, 0.6333333333333333, 0.5333333333333333, 0.4, 0.6, 0.36666666666666664, 0.43333333333333335, 0.36666666666666664, 0.5666666666666667, 0.6, 0.5, 0.5, 0.5666666666666667, 0.4, 0.5666666666666667, 0.5333333333333333, 0.5333333333333333, 0.5666666666666667, 0.4, 0.43333333333333335, 0.4, 0.5, 0.4, 0.4666666666666667, 0.3333333333333333, 0.5333333333333333, 0.5, 0.5666666666666667, 0.6, 0.6, 0.6333333333333333, 0.5, 0.5666666666666667, 0.5666666666666667, 0.3, 0.4666666666666667, 0.5333333333333333, 0.3333333333333333, 0.43333333333333335, 0.5666666666666667, 0.6333333333333333, 0.6, 0.5, 0.5666666666666667, 0.5333333333333333, 0.5333333333333333, 0.3333333333333333, 0.5666666666666667, 0.3333333333333333, 0.6, 0.6, 0.5666666666666667, 0.6666666666666666, 0.5, 0.3, 0.5666666666666667, 0.5333333333333333, 0.5666666666666667, 0.5666666666666667, 0.5, 0.5333333333333333, 0.6, 0.36666666666666664, 0.5, 0.5333333333333333, 0.43333333333333335, 0.5, 0.4666666666666667, 0.6, 0.5333333333333333, 0.3, 0.7333333333333333, 0.5333333333333333, 0.43333333333333335, 0.5666666666666667, 0.5, 0.5666666666666667, 0.36666666666666664, 0.6666666666666666, 0.5666666666666667, 0.4666666666666667, 0.5333333333333333, 0.5, 0.6333333333333333, 0.5, 0.43333333333333335, 0.5, 0.5333333333333333, 0.5, 0.3333333333333333, 0.6333333333333333, 0.5, 0.5333333333333333, 0.5666666666666667, 0.4666666666666667, 0.5666666666666667, 0.6, 0.5666666666666667, 0.36666666666666664, 0.4, 0.4666666666666667, 0.43333333333333335, 0.4, 0.6333333333333333, 0.5, 0.43333333333333335, 0.6, 0.43333333333333335, 0.5, 0.5, 0.5, 0.4666666666666667, 0.6666666666666666, 0.4666666666666667, 0.4666666666666667, 0.5666666666666667, 0.5333333333333333, 0.5, 0.5333333333333333, 0.5, 0.6, 0.43333333333333335, 0.6666666666666666, 0.3333333333333333, 0.4666666666666667, 0.4666666666666667, 0.43333333333333335, 0.5, 0.6333333333333333, 0.4666666666666667, 0.4666666666666667, 0.3, 0.43333333333333335, 0.36666666666666664, 0.5, 0.5333333333333333, 0.5, 0.5666666666666667, 0.6, 0.5, 0.26666666666666666, 0.6666666666666666, 0.4666666666666667, 0.6333333333333333, 0.4, 0.5333333333333333, 0.4, 0.5333333333333333, 0.4, 0.5, 0.5, 0.5, 0.5333333333333333, 0.4, 0.4666666666666667, 0.4, 0.6333333333333333, 0.5333333333333333, 0.5, 0.5666666666666667, 0.5, 0.6, 0.5333333333333333, 0.5, 0.4666666666666667, 0.36666666666666664, 0.6666666666666666, 0.36666666666666664, 0.43333333333333335, 0.43333333333333335, 0.4, 0.4, 0.26666666666666666, 0.43333333333333335, 0.5333333333333333, 0.6666666666666666, 0.7, 0.4666666666666667, 0.43333333333333335, 0.5666666666666667, 0.4666666666666667, 0.6, 0.43333333333333335, 0.3333333333333333, 0.5, 0.5333333333333333, 0.5, 0.6, 0.5, 0.4666666666666667, 0.4666666666666667, 0.5666666666666667, 0.5, 0.5666666666666667, 0.6, 0.5, 0.4, 0.43333333333333335, 0.43333333333333335, 0.6333333333333333, 0.5333333333333333, 0.6333333333333333, 0.6, 0.5333333333333333, 0.3333333333333333, 0.6, 0.4666666666666667, 0.6, 0.4, 0.4666666666666667, 0.43333333333333335, 0.6, 0.5333333333333333, 0.3333333333333333, 0.4, 0.6, 0.5, 0.6333333333333333, 0.5666666666666667, 0.6333333333333333, 0.5, 0.43333333333333335, 0.43333333333333335, 0.4, 0.26666666666666666, 0.5666666666666667, 0.6333333333333333, 0.36666666666666664, 0.6333333333333333, 0.4, 0.4, 0.5333333333333333, 0.4666666666666667, 0.5, 0.5666666666666667, 0.5, 0.43333333333333335, 0.5666666666666667, 0.5666666666666667, 0.5666666666666667, 0.6666666666666666, 0.5, 0.4666666666666667, 0.43333333333333335, 0.3333333333333333, 0.5, 0.5, 0.4666666666666667, 0.6, 0.5666666666666667, 0.43333333333333335, 0.5333333333333333, 0.6333333333333333, 0.6, 0.4, 0.43333333333333335, 0.5333333333333333, 0.5333333333333333, 0.7, 0.6, 0.4666666666666667, 0.4, 0.5666666666666667, 0.6333333333333333, 0.5666666666666667, 0.7, 0.5333333333333333, 0.43333333333333335, 0.36666666666666664, 0.5333333333333333, 0.5, 0.3333333333333333, 0.6333333333333333, 0.6, 0.36666666666666664, 0.5, 0.6, 0.5333333333333333, 0.5666666666666667, 0.6666666666666666, 0.5333333333333333, 0.5, 0.3, 0.5666666666666667, 0.4, 0.5666666666666667, 0.4666666666666667, 0.36666666666666664, 0.5333333333333333, 0.5, 0.6, 0.5666666666666667, 0.4666666666666667, 0.43333333333333335, 0.43333333333333335, 0.6333333333333333, 0.7333333333333333, 0.4666666666666667, 0.5, 0.4, 0.23333333333333334, 0.6, 0.6333333333333333, 0.6666666666666666, 0.5333333333333333, 0.6333333333333333, 0.43333333333333335, 0.4, 0.4, 0.43333333333333335, 0.43333333333333335, 0.5333333333333333, 0.4, 0.5, 0.5333333333333333, 0.5, 0.6333333333333333, 0.5666666666666667, 0.4666666666666667, 0.5, 0.5666666666666667, 0.4666666666666667, 0.5666666666666667, 0.43333333333333335, 0.4666666666666667, 0.3, 0.36666666666666664, 0.43333333333333335, 0.4666666666666667, 0.43333333333333335, 0.5666666666666667, 0.3, 0.4, 0.5333333333333333, 0.5666666666666667, 0.4666666666666667, 0.36666666666666664, 0.4666666666666667, 0.36666666666666664, 0.6666666666666666, 0.4, 0.43333333333333335, 0.6, 0.5333333333333333, 0.5666666666666667, 0.5333333333333333, 0.5, 0.7, 0.4666666666666667, 0.43333333333333335, 0.26666666666666666, 0.5, 0.4666666666666667, 0.5333333333333333, 0.4666666666666667, 0.5666666666666667, 0.6333333333333333, 0.43333333333333335, 0.5333333333333333, 0.3, 0.6, 0.3333333333333333, 0.36666666666666664, 0.6, 0.7, 0.5333333333333333, 0.4666666666666667, 0.5, 0.5333333333333333, 0.6666666666666666, 0.5666666666666667, 0.5666666666666667, 0.6, 0.5, 0.4, 0.4666666666666667, 0.5333333333333333, 0.4666666666666667, 0.5333333333333333, 0.4, 0.4666666666666667, 0.4, 0.4666666666666667, 0.5666666666666667, 0.5333333333333333, 0.5, 0.5, 0.43333333333333335, 0.4666666666666667, 0.5, 0.6, 0.5333333333333333, 0.5666666666666667, 0.5, 0.5666666666666667, 0.5666666666666667, 0.5333333333333333, 0.4666666666666667, 0.26666666666666666, 0.5333333333333333, 0.5333333333333333, 0.4, 0.3, 0.5666666666666667, 0.5, 0.4666666666666667, 0.43333333333333335, 0.5, 0.36666666666666664, 0.5, 0.43333333333333335, 0.5666666666666667, 0.4, 0.5666666666666667, 0.36666666666666664, 0.5666666666666667, 0.5, 0.6, 0.43333333333333335, 0.43333333333333335, 0.5333333333333333, 0.6333333333333333, 0.6, 0.6, 0.3333333333333333, 0.3333333333333333, 0.6, 0.3, 0.43333333333333335, 0.5666666666666667, 0.5666666666666667, 0.4666666666666667, 0.5333333333333333, 0.6666666666666666, 0.5333333333333333, 0.5666666666666667, 0.5, 0.36666666666666664, 0.4, 0.43333333333333335, 0.5, 0.6333333333333333, 0.6333333333333333, 0.5666666666666667, 0.43333333333333335, 0.43333333333333335, 0.6, 0.4, 0.3333333333333333, 0.5, 0.5333333333333333, 0.5, 0.4666666666666667, 0.6333333333333333, 0.5, 0.36666666666666664, 0.3333333333333333, 0.5, 0.5666666666666667, 0.4, 0.6333333333333333, 0.4666666666666667, 0.4666666666666667, 0.6, 0.5, 0.5666666666666667, 0.6333333333333333, 0.4, 0.36666666666666664, 0.5, 0.3, 0.4666666666666667, 0.43333333333333335, 0.5666666666666667, 0.36666666666666664, 0.4, 0.43333333333333335, 0.5333333333333333, 0.5666666666666667, 0.4666666666666667, 0.43333333333333335, 0.43333333333333335, 0.5333333333333333, 0.5, 0.5333333333333333, 0.5666666666666667, 0.5666666666666667, 0.43333333333333335, 0.4666666666666667, 0.36666666666666664, 0.6, 0.43333333333333335, 0.4666666666666667, 0.5666666666666667, 0.4666666666666667, 0.5666666666666667, 0.5333333333333333, 0.5666666666666667, 0.5, 0.4, 0.5666666666666667, 0.4666666666666667, 0.6, 0.4666666666666667, 0.5333333333333333, 0.3, 0.5, 0.6333333333333333, 0.3333333333333333, 0.5333333333333333, 0.6, 0.6666666666666666, 0.5, 0.43333333333333335, 0.5, 0.5, 0.36666666666666664, 0.4, 0.4666666666666667, 0.5, 0.3333333333333333, 0.43333333333333335, 0.5333333333333333, 0.5, 0.4666666666666667, 0.6, 0.43333333333333335, 0.3333333333333333, 0.5666666666666667, 0.4, 0.4, 0.4666666666666667, 0.5, 0.4666666666666667, 0.43333333333333335, 0.5, 0.5666666666666667, 0.5, 0.5333333333333333, 0.23333333333333334, 0.5, 0.4, 0.4, 0.5, 0.7333333333333333, 0.5333333333333333, 0.4666666666666667, 0.5, 0.4666666666666667, 0.4666666666666667, 0.7, 0.5333333333333333, 0.5333333333333333, 0.4666666666666667, 0.43333333333333335, 0.4, 0.5666666666666667, 0.3, 0.5, 0.7, 0.4, 0.5333333333333333, 0.6, 0.4, 0.43333333333333335, 0.5, 0.5333333333333333, 0.4666666666666667, 0.6, 0.4666666666666667, 0.3333333333333333, 0.6, 0.36666666666666664, 0.5, 0.4666666666666667, 0.5666666666666667, 0.36666666666666664, 0.4, 0.5666666666666667, 0.5, 0.43333333333333335, 0.36666666666666664, 0.5, 0.5, 0.5, 0.4666666666666667, 0.43333333333333335, 0.5, 0.5666666666666667, 0.5333333333333333, 0.6, 0.4, 0.6333333333333333, 0.8, 0.6333333333333333, 0.6, 0.4, 0.4, 0.5, 0.5, 0.43333333333333335, 0.5, 0.4666666666666667, 0.5666666666666667, 0.6333333333333333, 0.4666666666666667, 0.6333333333333333, 0.6333333333333333, 0.5333333333333333, 0.4, 0.6666666666666666, 0.43333333333333335, 0.43333333333333335, 0.6, 0.4, 0.36666666666666664, 0.4666666666666667, 0.36666666666666664, 0.5, 0.6333333333333333, 0.5, 0.5333333333333333, 0.5333333333333333, 0.43333333333333335, 0.4666666666666667, 0.43333333333333335, 0.36666666666666664, 0.6333333333333333, 0.6333333333333333, 0.5666666666666667, 0.5333333333333333, 0.5333333333333333, 0.6, 0.6, 0.5333333333333333, 0.5333333333333333, 0.5666666666666667, 0.4666666666666667, 0.4, 0.23333333333333334, 0.6, 0.5666666666666667, 0.36666666666666664, 0.5, 0.5333333333333333, 0.4, 0.4666666666666667, 0.6, 0.6333333333333333, 0.5666666666666667, 0.5666666666666667, 0.6, 0.43333333333333335, 0.5333333333333333, 0.4, 0.5333333333333333, 0.5, 0.5, 0.5666666666666667, 0.43333333333333335, 0.6, 0.5, 0.5333333333333333, 0.5333333333333333, 0.6666666666666666, 0.5, 0.43333333333333335, 0.36666666666666664, 0.5, 0.4, 0.4, 0.3333333333333333, 0.5333333333333333, 0.5, 0.6, 0.43333333333333335, 0.6, 0.43333333333333335, 0.5666666666666667, 0.5, 0.5, 0.5, 0.4666666666666667, 0.5666666666666667, 0.6333333333333333, 0.5333333333333333, 0.5666666666666667, 0.5666666666666667, 0.6333333333333333, 0.5666666666666667, 0.5333333333333333, 0.4666666666666667, 0.5, 0.36666666666666664, 0.5666666666666667, 0.5333333333333333, 0.6666666666666666, 0.4, 0.6666666666666666, 0.4666666666666667, 0.4, 0.5666666666666667, 0.5666666666666667, 0.43333333333333335, 0.5, 0.5666666666666667, 0.5333333333333333, 0.4, 0.43333333333333335, 0.6, 0.7, 0.5333333333333333, 0.5333333333333333, 0.6333333333333333, 0.5666666666666667, 0.5333333333333333, 0.6, 0.5333333333333333, 0.43333333333333335, 0.3, 0.36666666666666664, 0.6, 0.36666666666666664, 0.4, 0.43333333333333335, 0.6666666666666666, 0.4, 0.5666666666666667, 0.36666666666666664, 0.5, 0.5333333333333333, 0.6666666666666666, 0.3333333333333333, 0.7, 0.6, 0.4, 0.6666666666666666, 0.4666666666666667, 0.43333333333333335, 0.4666666666666667, 0.6, 0.5, 0.4666666666666667, 0.6, 0.4666666666666667, 0.5333333333333333, 0.5333333333333333, 0.4, 0.5333333333333333, 0.36666666666666664, 0.43333333333333335, 0.4, 0.4666666666666667, 0.6, 0.7666666666666667, 0.4666666666666667, 0.26666666666666666, 0.4, 0.43333333333333335, 0.43333333333333335, 0.36666666666666664, 0.4666666666666667, 0.5333333333333333, 0.5, 0.5333333333333333, 0.5333333333333333, 0.5, 0.5333333333333333, 0.5666666666666667, 0.4666666666666667, 0.5666666666666667, 0.6666666666666666, 0.4, 0.3333333333333333, 0.4666666666666667, 0.5333333333333333, 0.4666666666666667, 0.5333333333333333, 0.5, 0.5, 0.5666666666666667, 0.6, 0.4666666666666667, 0.4666666666666667, 0.5666666666666667, 0.43333333333333335, 0.5, 0.5333333333333333, 0.5, 0.4666666666666667, 0.6, 0.5666666666666667, 0.43333333333333335, 0.4, 0.4, 0.5666666666666667, 0.5333333333333333, 0.5333333333333333, 0.5666666666666667, 0.43333333333333335, 0.4666666666666667, 0.5333333333333333, 0.5, 0.6666666666666666, 0.4, 0.4, 0.5, 0.6, 0.5666666666666667, 0.5, 0.5333333333333333, 0.5, 0.36666666666666664, 0.5, 0.43333333333333335, 0.4666666666666667, 0.5, 0.4666666666666667, 0.5, 0.5, 0.36666666666666664, 0.5, 0.3, 0.43333333333333335, 0.4, 0.5, 0.6, 0.36666666666666664, 0.5666666666666667, 0.6666666666666666, 0.4, 0.5666666666666667, 0.4666666666666667, 0.5333333333333333, 0.4666666666666667, 0.5, 0.6, 0.4666666666666667, 0.36666666666666664, 0.6666666666666666, 0.36666666666666664, 0.5, 0.5, 0.5, 0.5333333333333333, 0.6333333333333333, 0.43333333333333335, 0.6, 0.6333333333333333, 0.6, 0.5333333333333333, 0.6, 0.6333333333333333, 0.4, 0.5333333333333333, 0.43333333333333335, 0.5, 0.4666666666666667, 0.5666666666666667, 0.6333333333333333, 0.43333333333333335, 0.5, 0.5333333333333333, 0.5666666666666667, 0.6333333333333333, 0.4666666666666667, 0.16666666666666666, 0.5666666666666667, 0.4666666666666667, 0.4666666666666667, 0.4666666666666667, 0.36666666666666664, 0.43333333333333335, 0.5666666666666667, 0.5333333333333333, 0.36666666666666664, 0.5333333333333333, 0.4666666666666667, 0.43333333333333335, 0.43333333333333335, 0.43333333333333335, 0.5333333333333333, 0.36666666666666664, 0.6333333333333333, 0.43333333333333335, 0.6, 0.6, 0.5, 0.4, 0.4, 0.5666666666666667, 0.5666666666666667, 0.43333333333333335, 0.5333333333333333, 0.43333333333333335, 0.5, 0.23333333333333334, 0.3333333333333333, 0.4, 0.4666666666666667, 0.4, 0.6333333333333333, 0.3333333333333333, 0.43333333333333335, 0.6, 0.36666666666666664, 0.5666666666666667, 0.6, 0.5666666666666667, 0.5333333333333333, 0.5, 0.5666666666666667, 0.5333333333333333, 0.43333333333333335, 0.4, 0.5, 0.4666666666666667, 0.6, 0.3333333333333333, 0.5333333333333333, 0.4666666666666667, 0.5666666666666667, 0.6, 0.6, 0.43333333333333335, 0.4, 0.5333333333333333, 0.4666666666666667, 0.4666666666666667, 0.5333333333333333, 0.43333333333333335, 0.5, 0.5, 0.3333333333333333, 0.4666666666666667, 0.6, 0.4666666666666667, 0.3, 0.5333333333333333, 0.6666666666666666, 0.6, 0.6, 0.6, 0.36666666666666664, 0.5333333333333333, 0.5333333333333333, 0.5333333333333333, 0.5, 0.5, 0.6, 0.4666666666666667, 0.5666666666666667, 0.5333333333333333, 0.43333333333333335, 0.5, 0.6333333333333333, 0.43333333333333335, 0.4666666666666667, 0.6, 0.5333333333333333, 0.5, 0.7666666666666667, 0.3333333333333333, 0.5666666666666667, 0.6, 0.6333333333333333, 0.5, 0.5, 0.4, 0.4666666666666667, 0.5333333333333333, 0.5666666666666667, 0.5666666666666667, 0.5333333333333333, 0.3333333333333333, 0.5333333333333333, 0.5666666666666667, 0.5333333333333333, 0.5333333333333333, 0.6333333333333333, 0.4666666666666667, 0.5666666666666667, 0.5, 0.4666666666666667, 0.5666666666666667, 0.5333333333333333, 0.4666666666666667, 0.6, 0.6, 0.36666666666666664, 0.6666666666666666, 0.6666666666666666, 0.4, 0.5, 0.5, 0.36666666666666664, 0.5, 0.5333333333333333, 0.36666666666666664, 0.43333333333333335, 0.43333333333333335, 0.36666666666666664, 0.5333333333333333, 0.6333333333333333, 0.6333333333333333, 0.5333333333333333, 0.6, 0.36666666666666664, 0.36666666666666664, 0.5, 0.5333333333333333, 0.5, 0.5, 0.6, 0.3, 0.5, 0.5333333333333333, 0.7, 0.26666666666666666, 0.5333333333333333, 0.5, 0.5666666666666667, 0.5, 0.6, 0.6333333333333333, 0.5666666666666667, 0.6333333333333333, 0.5333333333333333, 0.5333333333333333, 0.6333333333333333, 0.4666666666666667, 0.5666666666666667, 0.4666666666666667, 0.5, 0.5, 0.4, 0.26666666666666666, 0.43333333333333335, 0.5333333333333333, 0.5333333333333333, 0.4666666666666667, 0.5, 0.4666666666666667, 0.4666666666666667, 0.6, 0.6333333333333333, 0.5333333333333333, 0.5, 0.4666666666666667, 0.5, 0.5666666666666667, 0.5, 0.43333333333333335, 0.5, 0.6, 0.5333333333333333, 0.5, 0.5333333333333333, 0.5, 0.43333333333333335, 0.4666666666666667, 0.5, 0.5333333333333333, 0.26666666666666666, 0.43333333333333335, 0.4666666666666667, 0.3, 0.5333333333333333, 0.5, 0.6, 0.5, 0.36666666666666664, 0.5333333333333333, 0.43333333333333335, 0.7, 0.6, 0.5333333333333333, 0.43333333333333335, 0.4666666666666667, 0.36666666666666664, 0.5, 0.5, 0.5, 0.43333333333333335, 0.5, 0.7666666666666667, 0.3333333333333333, 0.4666666666666667, 0.5333333333333333, 0.6, 0.4666666666666667, 0.3333333333333333, 0.5333333333333333, 0.6333333333333333, 0.43333333333333335, 0.5, 0.5666666666666667, 0.7, 0.4666666666666667, 0.36666666666666664, 0.4666666666666667, 0.6, 0.43333333333333335, 0.5, 0.5333333333333333, 0.43333333333333335, 0.6, 0.4, 0.6, 0.4, 0.4, 0.4, 0.5333333333333333, 0.4666666666666667, 0.6666666666666666, 0.5333333333333333, 0.36666666666666664, 0.5333333333333333, 0.5, 0.4666666666666667, 0.5666666666666667, 0.43333333333333335, 0.5333333333333333, 0.6333333333333333, 0.4, 0.4, 0.5333333333333333, 0.5, 0.5, 0.8, 0.5, 0.5333333333333333, 0.43333333333333335, 0.5666666666666667, 0.5666666666666667, 0.4666666666666667, 0.4666666666666667, 0.43333333333333335, 0.5333333333333333, 0.4666666666666667, 0.5333333333333333, 0.6, 0.6, 0.6, 0.43333333333333335, 0.5, 0.4666666666666667, 0.36666666666666664, 0.5666666666666667, 0.6333333333333333, 0.5333333333333333, 0.4666666666666667, 0.5, 0.4666666666666667, 0.6333333333333333, 0.43333333333333335, 0.5666666666666667, 0.43333333333333335, 0.5666666666666667, 0.5333333333333333, 0.6, 0.4, 0.43333333333333335, 0.5, 0.26666666666666666, 0.4666666666666667, 0.4, 0.3, 0.36666666666666664, 0.36666666666666664, 0.5, 0.5666666666666667, 0.5666666666666667, 0.5333333333333333, 0.5333333333333333, 0.6666666666666666, 0.6, 0.5666666666666667, 0.4666666666666667, 0.5666666666666667, 0.5333333333333333, 0.5333333333333333, 0.3333333333333333, 0.5666666666666667, 0.5, 0.5333333333333333, 0.7, 0.43333333333333335, 0.6, 0.6333333333333333, 0.4, 0.5666666666666667, 0.36666666666666664, 0.6, 0.6666666666666666, 0.6, 0.4, 0.5333333333333333, 0.6, 0.43333333333333335, 0.5, 0.4666666666666667, 0.5333333333333333, 0.36666666666666664, 0.4666666666666667, 0.5666666666666667, 0.4, 0.5666666666666667, 0.4666666666666667, 0.4666666666666667, 0.4666666666666667, 0.6333333333333333, 0.26666666666666666, 0.5, 0.4666666666666667, 0.6333333333333333, 0.5666666666666667, 0.4666666666666667, 0.4, 0.5666666666666667, 0.36666666666666664, 0.4666666666666667, 0.3333333333333333, 0.4, 0.6, 0.5333333333333333, 0.4, 0.4666666666666667, 0.5, 0.6, 0.6333333333333333, 0.6, 0.4666666666666667, 0.43333333333333335, 0.4, 0.5333333333333333, 0.6333333333333333, 0.5, 0.4666666666666667, 0.5666666666666667, 0.6, 0.6, 0.5, 0.43333333333333335, 0.6, 0.4666666666666667, 0.5666666666666667, 0.5333333333333333, 0.5333333333333333, 0.5333333333333333, 0.4666666666666667, 0.43333333333333335, 0.5333333333333333, 0.4666666666666667, 0.5, 0.4, 0.43333333333333335, 0.5666666666666667, 0.5333333333333333, 0.4666666666666667, 0.5, 0.43333333333333335, 0.6333333333333333, 0.5333333333333333, 0.5666666666666667, 0.4, 0.3333333333333333, 0.5333333333333333, 0.43333333333333335, 0.6, 0.5, 0.36666666666666664, 0.4666666666666667, 0.5666666666666667, 0.36666666666666664, 0.5, 0.6, 0.5333333333333333, 0.5333333333333333, 0.5666666666666667, 0.4666666666666667, 0.5, 0.4666666666666667, 0.4, 0.43333333333333335, 0.3, 0.6333333333333333, 0.43333333333333335, 0.4666666666666667, 0.36666666666666664, 0.5666666666666667, 0.4, 0.3333333333333333, 0.6666666666666666, 0.43333333333333335, 0.6, 0.4666666666666667, 0.7, 0.43333333333333335, 0.6, 0.5666666666666667, 0.5, 0.6, 0.5, 0.4666666666666667, 0.5666666666666667, 0.5333333333333333, 0.36666666666666664, 0.36666666666666664, 0.36666666666666664, 0.5666666666666667, 0.5333333333333333, 0.5333333333333333, 0.3333333333333333, 0.3333333333333333, 0.43333333333333335, 0.4666666666666667, 0.5, 0.5666666666666667, 0.5333333333333333, 0.5333333333333333, 0.3333333333333333, 0.4, 0.5666666666666667, 0.36666666666666664, 0.5, 0.4666666666666667, 0.4, 0.5, 0.6, 0.4666666666666667, 0.43333333333333335, 0.6666666666666666, 0.6, 0.43333333333333335, 0.6, 0.5333333333333333, 0.4, 0.5333333333333333, 0.43333333333333335, 0.4, 0.5, 0.43333333333333335, 0.4666666666666667, 0.5333333333333333, 0.4666666666666667, 0.26666666666666666, 0.6, 0.5333333333333333, 0.6, 0.6, 0.4, 0.5333333333333333, 0.5666666666666667, 0.4666666666666667, 0.5, 0.8, 0.4666666666666667, 0.4666666666666667, 0.36666666666666664, 0.5, 0.26666666666666666, 0.5333333333333333, 0.5333333333333333, 0.4, 0.6333333333333333, 0.4666666666666667, 0.5333333333333333, 0.5333333333333333, 0.5333333333333333, 0.6, 0.6, 0.5666666666666667, 0.5, 0.5666666666666667, 0.5, 0.3, 0.4666666666666667, 0.6, 0.5666666666666667, 0.43333333333333335, 0.5666666666666667, 0.6, 0.4, 0.5, 0.5666666666666667, 0.5, 0.23333333333333334, 0.5333333333333333, 0.4, 0.4666666666666667, 0.6, 0.4666666666666667, 0.6, 0.5, 0.5, 0.3, 0.5666666666666667, 0.5, 0.5666666666666667, 0.4666666666666667, 0.4666666666666667, 0.5, 0.5333333333333333, 0.6333333333333333, 0.4, 0.3, 0.5666666666666667, 0.4666666666666667, 0.5, 0.4, 0.4, 0.5333333333333333, 0.4666666666666667, 0.4, 0.4666666666666667, 0.5, 0.5333333333333333, 0.5, 0.4666666666666667, 0.43333333333333335, 0.5333333333333333, 0.5666666666666667, 0.4, 0.36666666666666664, 0.4, 0.5333333333333333, 0.4666666666666667, 0.4, 0.3, 0.4666666666666667, 0.5666666666666667, 0.6333333333333333, 0.5333333333333333, 0.3333333333333333, 0.43333333333333335, 0.5666666666666667, 0.43333333333333335, 0.43333333333333335, 0.4666666666666667, 0.4, 0.5, 0.5666666666666667, 0.5666666666666667, 0.4666666666666667, 0.6, 0.4666666666666667, 0.4666666666666667, 0.4666666666666667, 0.5333333333333333, 0.6666666666666666, 0.7, 0.4, 0.7333333333333333, 0.5, 0.6, 0.5333333333333333, 0.3333333333333333, 0.4666666666666667, 0.6333333333333333, 0.5666666666666667, 0.5666666666666667, 0.6333333333333333, 0.4666666666666667, 0.43333333333333335, 0.43333333333333335, 0.5666666666666667, 0.4, 0.5, 0.5666666666666667, 0.4666666666666667, 0.4666666666666667, 0.5, 0.6666666666666666, 0.4, 0.7, 0.5, 0.5666666666666667, 0.5333333333333333, 0.5333333333333333, 0.5666666666666667, 0.5, 0.4666666666666667, 0.43333333333333335, 0.5666666666666667, 0.4666666666666667, 0.5, 0.5333333333333333, 0.43333333333333335, 0.5666666666666667, 0.26666666666666666, 0.5333333333333333, 0.36666666666666664, 0.6, 0.43333333333333335, 0.4666666666666667, 0.5666666666666667, 0.4, 0.43333333333333335, 0.4666666666666667, 0.3333333333333333, 0.5333333333333333, 0.6, 0.36666666666666664, 0.43333333333333335, 0.5666666666666667, 0.36666666666666664, 0.4666666666666667, 0.4666666666666667, 0.5, 0.5666666666666667, 0.6333333333333333, 0.7, 0.5333333333333333, 0.4, 0.43333333333333335, 0.43333333333333335, 0.6, 0.36666666666666664, 0.7666666666666667, 0.36666666666666664, 0.5333333333333333, 0.4666666666666667, 0.5666666666666667, 0.43333333333333335, 0.4666666666666667, 0.4, 0.4666666666666667, 0.6, 0.5666666666666667, 0.5666666666666667, 0.5, 0.6, 0.4666666666666667, 0.5333333333333333, 0.26666666666666666, 0.7333333333333333, 0.6, 0.7, 0.6333333333333333, 0.5666666666666667, 0.4, 0.5333333333333333, 0.5, 0.6333333333333333, 0.5333333333333333, 0.6666666666666666, 0.43333333333333335, 0.5, 0.43333333333333335, 0.6, 0.5, 0.26666666666666666, 0.43333333333333335, 0.5, 0.26666666666666666, 0.43333333333333335, 0.6666666666666666, 0.5333333333333333, 0.36666666666666664, 0.4666666666666667, 0.5333333333333333, 0.5, 0.4666666666666667, 0.4666666666666667, 0.7, 0.4666666666666667, 0.36666666666666664, 0.5333333333333333, 0.43333333333333335, 0.6333333333333333, 0.5333333333333333, 0.5333333333333333, 0.6333333333333333, 0.43333333333333335, 0.5666666666666667, 0.6, 0.7333333333333333, 0.6333333333333333, 0.36666666666666664, 0.6, 0.5, 0.26666666666666666, 0.4666666666666667, 0.6, 0.5, 0.6666666666666666, 0.5, 0.5333333333333333, 0.43333333333333335, 0.5666666666666667, 0.4666666666666667, 0.5, 0.5666666666666667, 0.43333333333333335, 0.4666666666666667, 0.5333333333333333, 0.6666666666666666, 0.5666666666666667, 0.5666666666666667, 0.4, 0.36666666666666664, 0.6666666666666666, 0.5, 0.4666666666666667, 0.3, 0.3333333333333333, 0.43333333333333335, 0.3, 0.3333333333333333, 0.5333333333333333, 0.5333333333333333, 0.7, 0.5666666666666667, 0.5333333333333333, 0.6, 0.5333333333333333, 0.5666666666666667, 0.43333333333333335, 0.4666666666666667, 0.5, 0.5666666666666667, 0.5333333333333333, 0.4666666666666667, 0.5666666666666667, 0.5, 0.4666666666666667, 0.5333333333333333, 0.5, 0.4, 0.5333333333333333, 0.5, 0.4666666666666667, 0.43333333333333335, 0.4, 0.5666666666666667, 0.5666666666666667, 0.6333333333333333, 0.5666666666666667, 0.5333333333333333, 0.5333333333333333, 0.36666666666666664, 0.6333333333333333, 0.5333333333333333, 0.5333333333333333, 0.5, 0.5333333333333333, 0.5666666666666667, 0.3333333333333333, 0.36666666666666664, 0.43333333333333335, 0.5333333333333333, 0.6, 0.5666666666666667, 0.43333333333333335, 0.43333333333333335, 0.6333333333333333, 0.6, 0.5, 0.5666666666666667, 0.5333333333333333, 0.3, 0.43333333333333335, 0.4666666666666667, 0.5, 0.4666666666666667, 0.26666666666666666, 0.4666666666666667, 0.5666666666666667, 0.43333333333333335, 0.5333333333333333, 0.5333333333333333, 0.43333333333333335, 0.5666666666666667, 0.6, 0.5, 0.5, 0.5333333333333333, 0.3333333333333333, 0.4666666666666667, 0.5666666666666667, 0.4666666666666667, 0.43333333333333335, 0.5333333333333333, 0.3333333333333333, 0.5666666666666667, 0.43333333333333335, 0.5666666666666667, 0.6, 0.6333333333333333, 0.5333333333333333, 0.5, 0.6, 0.5333333333333333, 0.5, 0.5333333333333333, 0.4666666666666667, 0.5333333333333333, 0.6, 0.5, 0.4666666666666667, 0.5333333333333333, 0.5333333333333333, 0.5666666666666667, 0.5, 0.43333333333333335, 0.5333333333333333, 0.5333333333333333, 0.36666666666666664, 0.5, 0.5333333333333333, 0.4, 0.6, 0.4, 0.5666666666666667, 0.6, 0.4, 0.6333333333333333, 0.5, 0.5333333333333333, 0.36666666666666664, 0.5333333333333333, 0.5666666666666667, 0.43333333333333335, 0.5333333333333333, 0.5, 0.5, 0.4, 0.5, 0.4666666666666667, 0.5666666666666667, 0.43333333333333335, 0.4666666666666667, 0.5666666666666667, 0.5, 0.6, 0.4666666666666667, 0.5666666666666667, 0.4, 0.4666666666666667, 0.5, 0.43333333333333335, 0.4, 0.4666666666666667, 0.4666666666666667, 0.43333333333333335, 0.6333333333333333, 0.43333333333333335, 0.4666666666666667, 0.6, 0.43333333333333335, 0.6, 0.5, 0.5333333333333333, 0.5666666666666667, 0.6, 0.43333333333333335, 0.6, 0.4, 0.6333333333333333, 0.5333333333333333, 0.6333333333333333, 0.6, 0.4666666666666667, 0.6666666666666666, 0.5, 0.43333333333333335, 0.5333333333333333, 0.4666666666666667, 0.4666666666666667, 0.6, 0.6, 0.43333333333333335, 0.43333333333333335, 0.43333333333333335, 0.4, 0.5666666666666667, 0.5, 0.43333333333333335, 0.4, 0.5, 0.3, 0.6, 0.6333333333333333, 0.5333333333333333, 0.5, 0.36666666666666664, 0.43333333333333335, 0.4666666666666667, 0.6666666666666666, 0.6333333333333333, 0.5666666666666667, 0.4, 0.5, 0.5, 0.4, 0.5, 0.4, 0.5666666666666667, 0.5333333333333333, 0.43333333333333335, 0.4666666666666667, 0.5333333333333333, 0.43333333333333335, 0.6333333333333333, 0.3333333333333333, 0.5, 0.5666666666666667, 0.43333333333333335, 0.5, 0.4, 0.43333333333333335, 0.5666666666666667, 0.36666666666666664, 0.5333333333333333, 0.43333333333333335, 0.5666666666666667, 0.5, 0.4666666666666667, 0.4, 0.5, 0.5333333333333333, 0.5666666666666667, 0.36666666666666664, 0.36666666666666664, 0.4666666666666667, 0.5333333333333333, 0.3333333333333333, 0.5333333333333333, 0.5333333333333333, 0.6, 0.6333333333333333, 0.4666666666666667, 0.6, 0.7, 0.4, 0.4666666666666667, 0.6, 0.5333333333333333, 0.5666666666666667, 0.43333333333333335, 0.5, 0.4666666666666667, 0.26666666666666666, 0.5333333333333333, 0.3, 0.5, 0.5333333333333333, 0.36666666666666664, 0.43333333333333335, 0.4666666666666667, 0.5666666666666667, 0.36666666666666664, 0.3333333333333333, 0.6, 0.4666666666666667, 0.5, 0.4666666666666667, 0.36666666666666664, 0.4666666666666667, 0.5, 0.5666666666666667, 0.43333333333333335, 0.6333333333333333, 0.4, 0.4666666666666667, 0.4, 0.5, 0.6, 0.4666666666666667, 0.5666666666666667, 0.5, 0.5666666666666667, 0.6333333333333333, 0.43333333333333335, 0.43333333333333335, 0.3333333333333333, 0.5, 0.5, 0.6333333333333333, 0.5, 0.5666666666666667, 0.6666666666666666, 0.5333333333333333, 0.5666666666666667, 0.5333333333333333, 0.5666666666666667, 0.5, 0.4666666666666667, 0.5333333333333333, 0.7666666666666667, 0.43333333333333335, 0.6666666666666666, 0.36666666666666664, 0.5, 0.4666666666666667, 0.4, 0.4666666666666667, 0.43333333333333335, 0.4, 0.4666666666666667, 0.5666666666666667, 0.43333333333333335, 0.4, 0.4, 0.43333333333333335, 0.5, 0.43333333333333335, 0.3333333333333333, 0.43333333333333335, 0.5666666666666667, 0.5333333333333333, 0.3, 0.36666666666666664, 0.43333333333333335, 0.5666666666666667, 0.43333333333333335, 0.5, 0.36666666666666664, 0.4666666666666667, 0.5, 0.43333333333333335, 0.5333333333333333, 0.5, 0.43333333333333335, 0.4666666666666667, 0.5333333333333333, 0.4, 0.3333333333333333, 0.36666666666666664, 0.6, 0.43333333333333335, 0.43333333333333335, 0.5, 0.4666666666666667, 0.5666666666666667, 0.4, 0.4, 0.6666666666666666, 0.43333333333333335, 0.4666666666666667, 0.4, 0.6, 0.5333333333333333, 0.6, 0.5333333333333333, 0.5333333333333333, 0.3333333333333333, 0.5333333333333333, 0.4, 0.5666666666666667, 0.6666666666666666, 0.4, 0.26666666666666666, 0.4666666666666667, 0.4, 0.6, 0.4666666666666667, 0.43333333333333335, 0.6666666666666666, 0.5, 0.5666666666666667, 0.6, 0.4666666666666667, 0.4, 0.43333333333333335, 0.5, 0.5333333333333333, 0.5666666666666667, 0.7, 0.6333333333333333, 0.5333333333333333, 0.4666666666666667, 0.5333333333333333, 0.6666666666666666, 0.36666666666666664, 0.5333333333333333, 0.7, 0.5333333333333333, 0.43333333333333335, 0.6333333333333333, 0.5, 0.43333333333333335, 0.5, 0.4, 0.36666666666666664, 0.43333333333333335, 0.36666666666666664, 0.5666666666666667, 0.4666666666666667, 0.5666666666666667, 0.43333333333333335, 0.4666666666666667, 0.5333333333333333, 0.43333333333333335, 0.6, 0.7666666666666667, 0.43333333333333335, 0.4666666666666667, 0.5, 0.6333333333333333, 0.4666666666666667, 0.4, 0.4666666666666667, 0.6333333333333333, 0.6666666666666666, 0.5, 0.5, 0.5666666666666667, 0.43333333333333335, 0.4, 0.26666666666666666, 0.4, 0.6333333333333333, 0.7, 0.6333333333333333, 0.5666666666666667, 0.5666666666666667, 0.4, 0.6666666666666666, 0.4666666666666667, 0.5333333333333333, 0.43333333333333335, 0.5, 0.3, 0.5666666666666667, 0.5, 0.6333333333333333, 0.5666666666666667, 0.5, 0.4, 0.6, 0.5333333333333333, 0.36666666666666664, 0.5333333333333333, 0.4, 0.4666666666666667, 0.5666666666666667, 0.5333333333333333, 0.5666666666666667, 0.5333333333333333, 0.5333333333333333, 0.4, 0.6666666666666666, 0.4666666666666667, 0.43333333333333335, 0.5, 0.4666666666666667, 0.5666666666666667, 0.4, 0.5333333333333333, 0.5, 0.4, 0.5, 0.43333333333333335, 0.3333333333333333, 0.5333333333333333, 0.4666666666666667, 0.43333333333333335, 0.43333333333333335, 0.4666666666666667, 0.5666666666666667, 0.6333333333333333, 0.5666666666666667, 0.4666666666666667, 0.5666666666666667, 0.4, 0.6333333333333333, 0.4, 0.5, 0.5333333333333333, 0.6666666666666666, 0.43333333333333335, 0.43333333333333335, 0.5333333333333333, 0.5333333333333333, 0.5333333333333333, 0.5, 0.6333333333333333, 0.4, 0.5333333333333333, 0.43333333333333335, 0.5333333333333333, 0.5333333333333333, 0.6, 0.5, 0.36666666666666664, 0.5, 0.5333333333333333, 0.5333333333333333, 0.6, 0.5666666666666667, 0.5333333333333333, 0.5, 0.4, 0.5333333333333333, 0.5666666666666667, 0.5, 0.5, 0.5333333333333333, 0.4, 0.5333333333333333, 0.5, 0.5, 0.5, 0.5333333333333333, 0.36666666666666664, 0.5333333333333333, 0.43333333333333335, 0.5333333333333333, 0.3, 0.4666666666666667, 0.6666666666666666, 0.6333333333333333, 0.4666666666666667, 0.5666666666666667, 0.43333333333333335, 0.5666666666666667, 0.43333333333333335, 0.43333333333333335, 0.43333333333333335, 0.43333333333333335, 0.5666666666666667, 0.43333333333333335, 0.36666666666666664, 0.43333333333333335, 0.4666666666666667, 0.5666666666666667, 0.4, 0.5333333333333333, 0.5, 0.5333333333333333, 0.5333333333333333, 0.3333333333333333, 0.43333333333333335, 0.5333333333333333, 0.6, 0.43333333333333335, 0.5333333333333333, 0.5333333333333333, 0.6666666666666666, 0.4, 0.7, 0.4, 0.3333333333333333, 0.5, 0.5, 0.5, 0.4, 0.4666666666666667, 0.5333333333333333, 0.5666666666666667, 0.5666666666666667, 0.6, 0.5333333333333333, 0.3333333333333333, 0.4666666666666667, 0.6333333333333333, 0.5333333333333333, 0.4666666666666667, 0.3333333333333333, 0.5333333333333333, 0.5666666666666667, 0.4666666666666667, 0.5, 0.5333333333333333, 0.4666666666666667, 0.3333333333333333, 0.4666666666666667, 0.5666666666666667, 0.4, 0.5666666666666667, 0.43333333333333335, 0.5333333333333333, 0.5333333333333333, 0.6, 0.5666666666666667, 0.5333333333333333, 0.5, 0.5, 0.4, 0.5333333333333333, 0.5333333333333333, 0.6333333333333333, 0.43333333333333335, 0.5, 0.4666666666666667, 0.5, 0.4666666666666667, 0.7, 0.6, 0.6333333333333333, 0.4, 0.5333333333333333, 0.36666666666666664, 0.5333333333333333, 0.6333333333333333, 0.6333333333333333, 0.26666666666666666, 0.4, 0.5666666666666667, 0.4, 0.3, 0.4, 0.4666666666666667, 0.3333333333333333, 0.4, 0.43333333333333335, 0.5333333333333333, 0.43333333333333335, 0.5, 0.5666666666666667, 0.5, 0.4666666666666667, 0.43333333333333335, 0.5, 0.5333333333333333, 0.43333333333333335, 0.6333333333333333, 0.5, 0.5, 0.5, 0.3, 0.43333333333333335, 0.5333333333333333, 0.5, 0.43333333333333335, 0.5666666666666667, 0.43333333333333335, 0.5333333333333333, 0.5666666666666667, 0.3333333333333333, 0.5333333333333333, 0.5666666666666667, 0.4666666666666667, 0.5333333333333333, 0.4666666666666667, 0.36666666666666664, 0.5333333333333333, 0.4, 0.5666666666666667, 0.5333333333333333, 0.43333333333333335, 0.6333333333333333, 0.4666666666666667, 0.43333333333333335, 0.43333333333333335, 0.3, 0.7, 0.5, 0.4, 0.36666666666666664, 0.6333333333333333, 0.5, 0.5, 0.5666666666666667, 0.5333333333333333, 0.5666666666666667, 0.5, 0.5, 0.4666666666666667, 0.4666666666666667, 0.5, 0.4666666666666667, 0.6, 0.4, 0.43333333333333335, 0.4, 0.6333333333333333, 0.4666666666666667, 0.5, 0.6333333333333333, 0.4, 0.3333333333333333, 0.5, 0.5333333333333333, 0.4666666666666667, 0.5, 0.36666666666666664, 0.5, 0.5666666666666667, 0.5, 0.5, 0.6, 0.6, 0.4666666666666667, 0.6333333333333333, 0.5333333333333333, 0.43333333333333335, 0.4666666666666667, 0.5, 0.4666666666666667, 0.4, 0.5, 0.4666666666666667, 0.4666666666666667, 0.6, 0.4, 0.5333333333333333, 0.4, 0.7, 0.5, 0.5333333333333333, 0.4, 0.36666666666666664, 0.6, 0.4, 0.6666666666666666, 0.43333333333333335, 0.5333333333333333, 0.6666666666666666, 0.36666666666666664, 0.43333333333333335, 0.6, 0.6, 0.43333333333333335, 0.6333333333333333, 0.4, 0.4, 0.5333333333333333, 0.5, 0.5666666666666667, 0.5, 0.5333333333333333, 0.4666666666666667, 0.5, 0.6333333333333333, 0.3333333333333333, 0.5, 0.6666666666666666, 0.43333333333333335, 0.4, 0.5, 0.6666666666666666, 0.4666666666666667, 0.4666666666666667, 0.5, 0.3, 0.6666666666666666, 0.43333333333333335, 0.4666666666666667, 0.6, 0.5666666666666667, 0.5333333333333333, 0.4666666666666667, 0.5666666666666667, 0.4666666666666667, 0.43333333333333335, 0.5666666666666667, 0.5666666666666667, 0.43333333333333335, 0.4666666666666667, 0.5666666666666667, 0.4, 0.43333333333333335, 0.26666666666666666, 0.4666666666666667, 0.6666666666666666, 0.5666666666666667, 0.5333333333333333, 0.43333333333333335, 0.5333333333333333, 0.6333333333333333, 0.5, 0.4666666666666667, 0.4666666666666667, 0.7333333333333333, 0.4, 0.5666666666666667, 0.5, 0.4666666666666667, 0.4, 0.5, 0.5333333333333333, 0.43333333333333335, 0.5333333333333333, 0.5, 0.4, 0.3333333333333333, 0.4, 0.5333333333333333, 0.5, 0.43333333333333335, 0.6333333333333333, 0.36666666666666664, 0.5, 0.6, 0.5, 0.43333333333333335, 0.5, 0.8, 0.5666666666666667, 0.4666666666666667, 0.4, 0.5333333333333333, 0.43333333333333335, 0.4666666666666667, 0.36666666666666664, 0.43333333333333335, 0.4666666666666667, 0.6, 0.5, 0.5666666666666667, 0.6, 0.5, 0.36666666666666664, 0.5333333333333333, 0.36666666666666664, 0.43333333333333335, 0.5333333333333333, 0.3, 0.5666666666666667, 0.4666666666666667, 0.5333333333333333, 0.43333333333333335, 0.5333333333333333, 0.36666666666666664, 0.43333333333333335, 0.6333333333333333, 0.43333333333333335, 0.5333333333333333, 0.36666666666666664, 0.4666666666666667, 0.5666666666666667, 0.6, 0.43333333333333335, 0.43333333333333335, 0.6666666666666666, 0.3333333333333333, 0.4666666666666667, 0.43333333333333335, 0.5666666666666667, 0.5, 0.5, 0.5666666666666667, 0.6, 0.4666666666666667, 0.4666666666666667, 0.43333333333333335, 0.5666666666666667, 0.6333333333333333, 0.5, 0.4, 0.5333333333333333, 0.6333333333333333, 0.6, 0.4, 0.5, 0.4666666666666667, 0.4666666666666667, 0.4, 0.5, 0.43333333333333335, 0.5, 0.5333333333333333, 0.4666666666666667, 0.5666666666666667, 0.43333333333333335, 0.5, 0.4, 0.5333333333333333, 0.5666666666666667, 0.5, 0.5666666666666667, 0.36666666666666664, 0.5, 0.4, 0.5666666666666667, 0.43333333333333335, 0.6333333333333333, 0.3, 0.5, 0.6, 0.5, 0.7, 0.5, 0.5333333333333333, 0.5, 0.5333333333333333, 0.6, 0.5666666666666667, 0.6, 0.5666666666666667, 0.5666666666666667, 0.3333333333333333, 0.43333333333333335, 0.4666666666666667, 0.43333333333333335, 0.4666666666666667, 0.36666666666666664, 0.6333333333333333, 0.5333333333333333, 0.3, 0.7, 0.43333333333333335, 0.3, 0.4666666666666667, 0.43333333333333335, 0.6, 0.43333333333333335, 0.36666666666666664, 0.43333333333333335, 0.3, 0.6666666666666666, 0.43333333333333335, 0.4, 0.5, 0.4666666666666667, 0.5333333333333333, 0.26666666666666666, 0.43333333333333335, 0.6, 0.4666666666666667, 0.5666666666666667, 0.5333333333333333, 0.5333333333333333, 0.6333333333333333, 0.7333333333333333, 0.43333333333333335, 0.6, 0.5, 0.3, 0.4, 0.43333333333333335, 0.5, 0.5, 0.7, 0.4, 0.5, 0.6, 0.36666666666666664, 0.5333333333333333, 0.4666666666666667, 0.5333333333333333, 0.4, 0.5, 0.5333333333333333, 0.43333333333333335, 0.4666666666666667, 0.36666666666666664, 0.5333333333333333, 0.5, 0.4666666666666667, 0.4666666666666667, 0.5, 0.5, 0.6, 0.5333333333333333, 0.43333333333333335, 0.43333333333333335, 0.6333333333333333, 0.43333333333333335, 0.6, 0.6333333333333333, 0.5, 0.5666666666666667, 0.4666666666666667, 0.4, 0.6, 0.3, 0.5333333333333333, 0.3333333333333333, 0.4666666666666667, 0.4, 0.5, 0.4666666666666667, 0.5333333333333333, 0.5333333333333333, 0.4, 0.36666666666666664, 0.6, 0.4666666666666667, 0.3, 0.4, 0.5666666666666667, 0.7333333333333333, 0.43333333333333335, 0.5666666666666667, 0.4666666666666667, 0.43333333333333335, 0.6, 0.5, 0.43333333333333335, 0.43333333333333335, 0.3333333333333333, 0.6666666666666666, 0.5333333333333333, 0.3333333333333333, 0.5333333333333333, 0.6, 0.5666666666666667, 0.5666666666666667, 0.5, 0.5666666666666667, 0.43333333333333335, 0.5333333333333333, 0.4, 0.5333333333333333, 0.5, 0.4666666666666667, 0.6666666666666666, 0.4666666666666667, 0.3333333333333333, 0.5666666666666667, 0.4, 0.5, 0.5, 0.5333333333333333, 0.5, 0.43333333333333335, 0.5666666666666667, 0.5, 0.4, 0.5333333333333333, 0.5666666666666667, 0.4666666666666667, 0.6333333333333333, 0.6, 0.36666666666666664, 0.5, 0.3333333333333333, 0.4, 0.6666666666666666, 0.5333333333333333, 0.36666666666666664, 0.5666666666666667, 0.4666666666666667, 0.5666666666666667, 0.5, 0.5666666666666667, 0.6666666666666666, 0.5333333333333333, 0.5, 0.5, 0.4666666666666667, 0.43333333333333335, 0.43333333333333335, 0.4, 0.6333333333333333, 0.4666666666666667, 0.5333333333333333, 0.5666666666666667, 0.4666666666666667, 0.5, 0.6333333333333333, 0.6666666666666666, 0.6666666666666666, 0.6, 0.6333333333333333, 0.6333333333333333, 0.3333333333333333, 0.4, 0.4, 0.4666666666666667, 0.36666666666666664, 0.6, 0.6333333333333333, 0.4, 0.4666666666666667, 0.36666666666666664, 0.5666666666666667, 0.4666666666666667, 0.5333333333333333, 0.7333333333333333, 0.5666666666666667, 0.5333333333333333, 0.5, 0.5666666666666667, 0.5666666666666667, 0.4666666666666667, 0.4666666666666667, 0.5333333333333333, 0.43333333333333335, 0.5, 0.5666666666666667, 0.5333333333333333, 0.3333333333333333, 0.4666666666666667, 0.4666666666666667, 0.3333333333333333, 0.4, 0.5, 0.6333333333333333, 0.43333333333333335, 0.4, 0.4, 0.4, 0.5666666666666667, 0.5666666666666667, 0.5333333333333333, 0.43333333333333335, 0.5333333333333333, 0.4666666666666667, 0.6666666666666666, 0.7, 0.3, 0.5, 0.5333333333333333, 0.4666666666666667, 0.4, 0.43333333333333335, 0.4666666666666667, 0.43333333333333335, 0.5333333333333333, 0.5666666666666667, 0.5666666666666667, 0.4666666666666667, 0.5, 0.4, 0.5666666666666667, 0.4666666666666667, 0.5666666666666667, 0.5, 0.43333333333333335, 0.3333333333333333, 0.5333333333333333, 0.4666666666666667, 0.36666666666666664, 0.43333333333333335, 0.4, 0.5, 0.5666666666666667, 0.5333333333333333, 0.5333333333333333, 0.6, 0.5, 0.5666666666666667, 0.4666666666666667, 0.3333333333333333, 0.6, 0.5, 0.6666666666666666, 0.4666666666666667, 0.4666666666666667, 0.43333333333333335, 0.6666666666666666, 0.6, 0.4, 0.5333333333333333, 0.3, 0.6333333333333333, 0.4666666666666667, 0.6333333333333333, 0.5, 0.43333333333333335, 0.6666666666666666, 0.6333333333333333, 0.4666666666666667, 0.6, 0.3, 0.5333333333333333, 0.36666666666666664, 0.43333333333333335, 0.5666666666666667, 0.5333333333333333, 0.6, 0.43333333333333335, 0.4666666666666667, 0.5, 0.6333333333333333, 0.5, 0.5, 0.6666666666666666, 0.43333333333333335, 0.43333333333333335, 0.5666666666666667, 0.6, 0.7666666666666667, 0.36666666666666664, 0.43333333333333335, 0.4666666666666667, 0.3, 0.5666666666666667, 0.7, 0.5, 0.5, 0.7, 0.43333333333333335, 0.5666666666666667, 0.4666666666666667, 0.4666666666666667, 0.6, 0.43333333333333335, 0.5, 0.5, 0.4666666666666667, 0.5, 0.36666666666666664, 0.5, 0.3, 0.4, 0.5333333333333333, 0.5666666666666667, 0.4666666666666667, 0.43333333333333335, 0.6, 0.5, 0.6333333333333333, 0.5666666666666667, 0.5666666666666667, 0.5333333333333333, 0.6333333333333333, 0.5333333333333333, 0.36666666666666664, 0.4, 0.43333333333333335, 0.4, 0.5, 0.4666666666666667, 0.5666666666666667, 0.6, 0.4, 0.5333333333333333, 0.5333333333333333, 0.6, 0.5333333333333333, 0.5, 0.5666666666666667, 0.5666666666666667, 0.5333333333333333, 0.5333333333333333, 0.5333333333333333, 0.5333333333333333, 0.4, 0.3333333333333333, 0.5, 0.3, 0.5333333333333333, 0.5333333333333333, 0.3333333333333333, 0.5333333333333333, 0.6333333333333333, 0.5666666666666667, 0.4, 0.4, 0.26666666666666666, 0.5666666666666667, 0.36666666666666664, 0.4, 0.23333333333333334, 0.6, 0.43333333333333335, 0.5666666666666667, 0.6333333333333333, 0.5, 0.4666666666666667, 0.6333333333333333, 0.4666666666666667, 0.6, 0.6, 0.4, 0.43333333333333335, 0.4666666666666667, 0.4666666666666667, 0.5333333333333333, 0.5, 0.6333333333333333, 0.26666666666666666, 0.6333333333333333, 0.5333333333333333, 0.5, 0.5, 0.5333333333333333, 0.4666666666666667, 0.36666666666666664, 0.5666666666666667, 0.5, 0.3333333333333333, 0.5333333333333333, 0.6333333333333333, 0.4666666666666667, 0.5, 0.6666666666666666, 0.4666666666666667, 0.4666666666666667, 0.43333333333333335, 0.36666666666666664, 0.5666666666666667, 0.4666666666666667, 0.5333333333333333, 0.5, 0.4, 0.4, 0.5666666666666667, 0.43333333333333335, 0.5, 0.6, 0.3333333333333333, 0.4666666666666667, 0.5333333333333333, 0.5666666666666667, 0.5, 0.4, 0.4, 0.5, 0.5, 0.5, 0.36666666666666664, 0.23333333333333334, 0.5, 0.3333333333333333, 0.6, 0.6, 0.4666666666666667, 0.36666666666666664, 0.5333333333333333, 0.6333333333333333, 0.5333333333333333, 0.4666666666666667, 0.5333333333333333, 0.6, 0.4, 0.5, 0.6666666666666666, 0.43333333333333335, 0.4, 0.5333333333333333, 0.4666666666666667, 0.6, 0.5666666666666667, 0.6666666666666666, 0.5333333333333333, 0.36666666666666664, 0.5, 0.6, 0.4666666666666667, 0.6333333333333333, 0.36666666666666664, 0.4666666666666667, 0.4, 0.5, 0.5666666666666667, 0.4666666666666667, 0.43333333333333335, 0.43333333333333335, 0.5333333333333333, 0.5, 0.5333333333333333, 0.5, 0.5, 0.43333333333333335, 0.5333333333333333, 0.5333333333333333, 0.4666666666666667, 0.7, 0.7333333333333333, 0.4, 0.5666666666666667, 0.36666666666666664, 0.5333333333333333, 0.5666666666666667, 0.43333333333333335, 0.43333333333333335, 0.4666666666666667, 0.5, 0.7, 0.4, 0.5, 0.5333333333333333, 0.43333333333333335, 0.5333333333333333, 0.36666666666666664, 0.6333333333333333, 0.5333333333333333, 0.43333333333333335, 0.5333333333333333, 0.36666666666666664, 0.36666666666666664, 0.7666666666666667, 0.43333333333333335, 0.6, 0.6, 0.4, 0.43333333333333335, 0.43333333333333335, 0.5, 0.5666666666666667, 0.5, 0.5, 0.6, 0.5666666666666667, 0.36666666666666664, 0.7, 0.43333333333333335, 0.4, 0.5666666666666667, 0.5, 0.5, 0.5333333333333333, 0.5333333333333333, 0.43333333333333335, 0.5, 0.4666666666666667, 0.3333333333333333, 0.4666666666666667, 0.43333333333333335, 0.4666666666666667, 0.5, 0.5, 0.4666666666666667, 0.5333333333333333, 0.4, 0.4, 0.6, 0.36666666666666664, 0.5, 0.4, 0.4, 0.43333333333333335, 0.5, 0.4666666666666667, 0.4, 0.5333333333333333, 0.5333333333333333, 0.4, 0.43333333333333335, 0.6, 0.5333333333333333, 0.4666666666666667, 0.5, 0.5, 0.5666666666666667, 0.5, 0.6, 0.4666666666666667, 0.3333333333333333, 0.5, 0.6333333333333333, 0.5, 0.5, 0.4666666666666667, 0.5333333333333333, 0.5666666666666667, 0.5333333333333333, 0.5, 0.6, 0.3333333333333333, 0.4, 0.5666666666666667, 0.4, 0.5333333333333333, 0.6333333333333333, 0.43333333333333335, 0.5, 0.43333333333333335, 0.5666666666666667, 0.4666666666666667, 0.4, 0.5333333333333333, 0.6, 0.4666666666666667, 0.4666666666666667, 0.5666666666666667, 0.4666666666666667, 0.6333333333333333, 0.6666666666666666, 0.6333333333333333, 0.4, 0.5333333333333333, 0.5666666666666667, 0.5333333333333333, 0.4666666666666667, 0.4666666666666667, 0.36666666666666664, 0.4, 0.36666666666666664, 0.6, 0.36666666666666664, 0.5, 0.5, 0.4, 0.5666666666666667, 0.3333333333333333, 0.5666666666666667, 0.4, 0.5, 0.4666666666666667, 0.4666666666666667, 0.43333333333333335, 0.3333333333333333, 0.5333333333333333, 0.5666666666666667, 0.4, 0.3333333333333333, 0.36666666666666664, 0.5, 0.4, 0.5666666666666667, 0.4, 0.36666666666666664, 0.5, 0.5666666666666667, 0.5666666666666667, 0.5, 0.36666666666666664, 0.5, 0.5666666666666667, 0.5333333333333333, 0.5333333333333333, 0.6, 0.43333333333333335, 0.5333333333333333, 0.36666666666666664, 0.3, 0.7, 0.5, 0.6666666666666666, 0.3333333333333333, 0.4666666666666667, 0.4666666666666667, 0.5333333333333333, 0.5666666666666667, 0.43333333333333335, 0.4666666666666667, 0.5, 0.43333333333333335, 0.4666666666666667, 0.6, 0.5333333333333333, 0.43333333333333335, 0.4666666666666667, 0.6333333333333333, 0.6, 0.5, 0.5, 0.43333333333333335, 0.5, 0.4666666666666667, 0.5, 0.5333333333333333, 0.43333333333333335, 0.3333333333333333, 0.4, 0.43333333333333335, 0.43333333333333335, 0.5666666666666667, 0.5666666666666667, 0.4, 0.5, 0.6, 0.7666666666666667, 0.5, 0.6, 0.43333333333333335, 0.43333333333333335, 0.5, 0.5, 0.4, 0.5666666666666667, 0.43333333333333335, 0.6, 0.4, 0.3333333333333333, 0.6666666666666666, 0.6, 0.5666666666666667, 0.5666666666666667, 0.6, 0.6, 0.5666666666666667, 0.5666666666666667, 0.4, 0.5, 0.6333333333333333, 0.6, 0.6, 0.5, 0.43333333333333335, 0.5333333333333333, 0.5666666666666667, 0.4, 0.43333333333333335, 0.5333333333333333, 0.6, 0.4, 0.6333333333333333, 0.3, 0.5, 0.4, 0.6666666666666666, 0.5, 0.43333333333333335, 0.5333333333333333, 0.36666666666666664, 0.5666666666666667, 0.5333333333333333, 0.5, 0.4666666666666667, 0.5, 0.7, 0.5333333333333333, 0.5, 0.5, 0.6, 0.5666666666666667, 0.4, 0.5333333333333333, 0.6, 0.5666666666666667, 0.5333333333333333, 0.5666666666666667, 0.43333333333333335, 0.36666666666666664, 0.5, 0.4, 0.5, 0.6, 0.5666666666666667, 0.4666666666666667, 0.4666666666666667, 0.5333333333333333, 0.6666666666666666, 0.4, 0.4, 0.5666666666666667, 0.36666666666666664, 0.5333333333333333, 0.5333333333333333, 0.43333333333333335, 0.43333333333333335, 0.5, 0.4666666666666667, 0.4, 0.5333333333333333, 0.43333333333333335, 0.4666666666666667, 0.5, 0.4, 0.36666666666666664, 0.43333333333333335, 0.43333333333333335, 0.4666666666666667, 0.7333333333333333, 0.4666666666666667, 0.5666666666666667, 0.6, 0.5, 0.5, 0.4666666666666667, 0.6666666666666666, 0.3, 0.5333333333333333, 0.4666666666666667, 0.5666666666666667, 0.6333333333333333, 0.36666666666666664, 0.6666666666666666, 0.6, 0.5333333333333333, 0.4666666666666667, 0.5333333333333333, 0.5666666666666667, 0.3, 0.7, 0.36666666666666664, 0.43333333333333335, 0.5333333333333333, 0.5333333333333333, 0.5333333333333333, 0.4666666666666667, 0.6666666666666666, 0.5666666666666667, 0.5333333333333333, 0.5, 0.5666666666666667, 0.6, 0.5, 0.5333333333333333, 0.4, 0.43333333333333335, 0.5, 0.5333333333333333, 0.5333333333333333, 0.5666666666666667, 0.5666666666666667, 0.4666666666666667, 0.5, 0.3, 0.5666666666666667, 0.2, 0.5333333333333333, 0.5, 0.5666666666666667, 0.5, 0.36666666666666664, 0.5666666666666667, 0.4666666666666667, 0.5666666666666667, 0.4, 0.5, 0.4666666666666667, 0.5333333333333333, 0.3, 0.5333333333333333, 0.43333333333333335, 0.7, 0.5, 0.4, 0.43333333333333335, 0.4666666666666667, 0.36666666666666664, 0.5333333333333333, 0.6666666666666666, 0.36666666666666664, 0.5666666666666667, 0.43333333333333335, 0.6, 0.5666666666666667, 0.3333333333333333, 0.4666666666666667, 0.4, 0.43333333333333335, 0.5, 0.4, 0.5, 0.4666666666666667, 0.5333333333333333, 0.5666666666666667, 0.5333333333333333, 0.36666666666666664, 0.5666666666666667, 0.16666666666666666, 0.5666666666666667, 0.7333333333333333, 0.5, 0.5, 0.6, 0.36666666666666664, 0.43333333333333335, 0.5333333333333333, 0.5666666666666667, 0.43333333333333335, 0.6, 0.6, 0.43333333333333335, 0.5666666666666667, 0.5333333333333333, 0.3333333333333333, 0.6, 0.5666666666666667, 0.43333333333333335, 0.5333333333333333, 0.4, 0.5666666666666667, 0.5, 0.5, 0.6, 0.5333333333333333, 0.5, 0.43333333333333335, 0.5666666666666667, 0.4666666666666667, 0.5333333333333333, 0.3, 0.43333333333333335, 0.5333333333333333, 0.5333333333333333, 0.5333333333333333, 0.4, 0.5, 0.5666666666666667, 0.5333333333333333, 0.4666666666666667, 0.5333333333333333, 0.5333333333333333, 0.5666666666666667, 0.3333333333333333, 0.36666666666666664, 0.6333333333333333, 0.4666666666666667, 0.5333333333333333, 0.5333333333333333, 0.5666666666666667, 0.6666666666666666, 0.5, 0.5666666666666667, 0.4, 0.5, 0.4666666666666667, 0.4, 0.6, 0.5, 0.3333333333333333, 0.4, 0.5, 0.36666666666666664, 0.5333333333333333, 0.43333333333333335, 0.5666666666666667, 0.5, 0.43333333333333335, 0.5, 0.3333333333333333, 0.5666666666666667, 0.7, 0.5666666666666667, 0.6333333333333333, 0.5666666666666667, 0.7, 0.5666666666666667, 0.5, 0.36666666666666664, 0.5666666666666667, 0.6, 0.4666666666666667, 0.4666666666666667, 0.4, 0.3333333333333333, 0.36666666666666664, 0.5333333333333333, 0.4, 0.23333333333333334, 0.36666666666666664, 0.43333333333333335, 0.5333333333333333, 0.5, 0.5, 0.43333333333333335, 0.43333333333333335, 0.4666666666666667, 0.5333333333333333, 0.4, 0.5666666666666667, 0.4666666666666667, 0.5, 0.3333333333333333, 0.43333333333333335, 0.5666666666666667, 0.43333333333333335, 0.36666666666666664, 0.4666666666666667, 0.5, 0.6, 0.6, 0.6, 0.4, 0.43333333333333335, 0.5333333333333333, 0.6, 0.4, 0.6333333333333333, 0.3333333333333333, 0.5333333333333333, 0.5666666666666667, 0.5, 0.43333333333333335, 0.36666666666666664, 0.26666666666666666, 0.5666666666666667, 0.3, 0.6666666666666666, 0.5666666666666667, 0.5666666666666667, 0.43333333333333335, 0.5333333333333333, 0.5, 0.5333333333333333, 0.43333333333333335, 0.5666666666666667, 0.5, 0.43333333333333335, 0.5, 0.4666666666666667, 0.5333333333333333, 0.4666666666666667, 0.4666666666666667, 0.5666666666666667, 0.5333333333333333, 0.3333333333333333, 0.36666666666666664, 0.4, 0.5333333333333333, 0.5, 0.4, 0.36666666666666664, 0.4666666666666667, 0.5333333333333333, 0.5, 0.4, 0.4, 0.4, 0.5666666666666667, 0.4, 0.4, 0.43333333333333335, 0.5333333333333333, 0.5666666666666667, 0.36666666666666664, 0.5, 0.5, 0.5, 0.43333333333333335, 0.7333333333333333, 0.5, 0.4, 0.6333333333333333, 0.5666666666666667, 0.4, 0.36666666666666664, 0.5666666666666667, 0.6, 0.6, 0.5333333333333333, 0.5, 0.4, 0.5666666666666667, 0.5333333333333333, 0.5, 0.5, 0.6333333333333333, 0.5333333333333333, 0.4666666666666667, 0.5666666666666667, 0.6, 0.6666666666666666, 0.6, 0.3, 0.5666666666666667, 0.4666666666666667, 0.5, 0.5666666666666667, 0.4666666666666667, 0.43333333333333335, 0.4666666666666667, 0.5666666666666667, 0.5666666666666667, 0.6, 0.5333333333333333, 0.5333333333333333, 0.5666666666666667, 0.5333333333333333, 0.5666666666666667, 0.4, 0.6666666666666666, 0.6, 0.43333333333333335, 0.43333333333333335, 0.6666666666666666, 0.5333333333333333, 0.4666666666666667, 0.6333333333333333, 0.4, 0.5666666666666667, 0.36666666666666664, 0.4666666666666667, 0.4, 0.3333333333333333, 0.6666666666666666, 0.5666666666666667, 0.4, 0.43333333333333335, 0.5333333333333333, 0.3333333333333333, 0.43333333333333335, 0.6, 0.5666666666666667, 0.5, 0.43333333333333335, 0.7333333333333333, 0.4666666666666667, 0.7, 0.5, 0.5, 0.5666666666666667, 0.43333333333333335, 0.7, 0.6333333333333333, 0.43333333333333335, 0.6666666666666666, 0.4, 0.5333333333333333, 0.43333333333333335, 0.4666666666666667, 0.36666666666666664, 0.6666666666666666, 0.4666666666666667, 0.3333333333333333, 0.43333333333333335, 0.43333333333333335, 0.3333333333333333, 0.4666666666666667, 0.36666666666666664, 0.5, 0.4666666666666667, 0.5333333333333333, 0.4666666666666667, 0.5, 0.6333333333333333, 0.5, 0.4, 0.5333333333333333, 0.5, 0.4666666666666667, 0.4, 0.5333333333333333, 0.5333333333333333, 0.5333333333333333, 0.4666666666666667, 0.4, 0.5333333333333333, 0.43333333333333335, 0.6, 0.5, 0.4666666666666667, 0.5666666666666667, 0.4666666666666667, 0.5, 0.4, 0.5333333333333333, 0.6666666666666666, 0.36666666666666664, 0.5333333333333333, 0.6, 0.5333333333333333, 0.5666666666666667, 0.5, 0.43333333333333335, 0.6, 0.6, 0.6, 0.5666666666666667, 0.4666666666666667, 0.4666666666666667, 0.7, 0.5, 0.5666666666666667, 0.5333333333333333, 0.5666666666666667, 0.36666666666666664, 0.4666666666666667, 0.43333333333333335, 0.5333333333333333, 0.5, 0.4666666666666667, 0.6, 0.6333333333333333, 0.36666666666666664, 0.5, 0.5666666666666667, 0.5, 0.4666666666666667, 0.5, 0.5333333333333333, 0.5333333333333333, 0.4, 0.5666666666666667, 0.43333333333333335, 0.4666666666666667, 0.6333333333333333, 0.5666666666666667, 0.43333333333333335, 0.6666666666666666, 0.6666666666666666, 0.5666666666666667, 0.5, 0.4666666666666667, 0.26666666666666666, 0.5666666666666667, 0.5, 0.6, 0.5333333333333333, 0.4, 0.6666666666666666, 0.36666666666666664, 0.5, 0.5333333333333333, 0.4666666666666667, 0.4666666666666667, 0.43333333333333335, 0.6666666666666666, 0.4666666666666667, 0.4666666666666667, 0.4, 0.5, 0.5, 0.5666666666666667, 0.6, 0.5333333333333333, 0.6666666666666666, 0.6666666666666666, 0.5666666666666667, 0.5, 0.5666666666666667, 0.5, 0.4666666666666667, 0.4666666666666667, 0.3333333333333333, 0.43333333333333335, 0.5, 0.4666666666666667, 0.6666666666666666, 0.5666666666666667, 0.6, 0.5333333333333333, 0.5, 0.5, 0.4666666666666667, 0.5666666666666667, 0.5, 0.6333333333333333, 0.43333333333333335, 0.6, 0.5, 0.5666666666666667, 0.5, 0.6333333333333333, 0.36666666666666664, 0.3, 0.4666666666666667, 0.3333333333333333, 0.6, 0.5, 0.36666666666666664, 0.43333333333333335, 0.5, 0.4666666666666667, 0.5333333333333333, 0.5, 0.5666666666666667, 0.5, 0.5333333333333333, 0.6, 0.4666666666666667, 0.6333333333333333, 0.3333333333333333, 0.5333333333333333, 0.5, 0.5333333333333333, 0.43333333333333335, 0.6666666666666666, 0.5666666666666667, 0.5333333333333333, 0.6, 0.36666666666666664, 0.3333333333333333, 0.6333333333333333, 0.5666666666666667, 0.6333333333333333, 0.5666666666666667, 0.5333333333333333, 0.36666666666666664, 0.43333333333333335, 0.4, 0.43333333333333335, 0.4666666666666667, 0.4666666666666667, 0.4666666666666667, 0.5666666666666667, 0.5, 0.5, 0.4666666666666667, 0.3333333333333333, 0.5333333333333333, 0.4666666666666667, 0.5, 0.26666666666666666, 0.5, 0.43333333333333335, 0.4666666666666667, 0.36666666666666664, 0.4, 0.6, 0.5, 0.6, 0.4666666666666667, 0.26666666666666666, 0.6333333333333333, 0.5666666666666667, 0.5, 0.5, 0.3333333333333333, 0.5, 0.4, 0.5333333333333333, 0.5333333333333333, 0.5, 0.5, 0.5666666666666667, 0.3, 0.3333333333333333, 0.5333333333333333, 0.4666666666666667, 0.4666666666666667, 0.4666666666666667, 0.4666666666666667, 0.6333333333333333, 0.5, 0.4666666666666667, 0.4666666666666667, 0.4666666666666667, 0.4666666666666667, 0.5, 0.6, 0.6, 0.4666666666666667, 0.43333333333333335, 0.43333333333333335, 0.5, 0.5333333333333333, 0.4666666666666667, 0.5, 0.43333333333333335, 0.4666666666666667, 0.5666666666666667, 0.3333333333333333, 0.5, 0.4, 0.43333333333333335, 0.5666666666666667, 0.5333333333333333, 0.6333333333333333, 0.36666666666666664, 0.36666666666666664, 0.5666666666666667, 0.4, 0.4666666666666667, 0.5333333333333333, 0.5, 0.6, 0.5333333333333333, 0.36666666666666664, 0.4666666666666667, 0.4666666666666667, 0.5, 0.5, 0.5333333333333333, 0.4, 0.4666666666666667, 0.5333333333333333, 0.6333333333333333, 0.43333333333333335, 0.43333333333333335, 0.5, 0.3333333333333333, 0.4, 0.5666666666666667, 0.4666666666666667, 0.6, 0.5, 0.43333333333333335, 0.4, 0.5666666666666667, 0.4, 0.43333333333333335, 0.5, 0.5333333333333333, 0.5333333333333333, 0.6333333333333333, 0.6, 0.4, 0.5666666666666667, 0.5, 0.43333333333333335, 0.5, 0.5333333333333333, 0.4, 0.5, 0.36666666666666664, 0.5666666666666667, 0.5, 0.6666666666666666, 0.5, 0.43333333333333335, 0.6333333333333333, 0.43333333333333335, 0.5, 0.4, 0.5333333333333333, 0.43333333333333335, 0.4666666666666667, 0.5, 0.5, 0.43333333333333335, 0.6666666666666666, 0.5, 0.5, 0.43333333333333335, 0.6, 0.6333333333333333, 0.5, 0.6, 0.5, 0.5666666666666667, 0.6, 0.6, 0.5, 0.6, 0.5666666666666667, 0.5, 0.4666666666666667, 0.5, 0.4666666666666667, 0.4, 0.3333333333333333, 0.4666666666666667, 0.4666666666666667, 0.43333333333333335, 0.5, 0.4, 0.5666666666666667, 0.4, 0.6666666666666666, 0.5666666666666667, 0.5, 0.5666666666666667, 0.4666666666666667, 0.5333333333333333, 0.5, 0.5333333333333333, 0.3333333333333333, 0.43333333333333335, 0.5666666666666667, 0.4, 0.6333333333333333, 0.7, 0.5333333333333333, 0.5333333333333333, 0.6666666666666666, 0.5666666666666667, 0.5, 0.5333333333333333, 0.4, 0.5333333333333333, 0.4, 0.5333333333333333, 0.5, 0.5, 0.4666666666666667, 0.3, 0.5666666666666667, 0.4666666666666667, 0.5, 0.5333333333333333, 0.6, 0.5333333333333333, 0.5666666666666667, 0.5, 0.43333333333333335, 0.5333333333333333, 0.5666666666666667, 0.4, 0.5666666666666667, 0.5333333333333333, 0.4666666666666667, 0.6333333333333333, 0.6, 0.5333333333333333, 0.36666666666666664, 0.5333333333333333, 0.5, 0.4666666666666667, 0.5333333333333333, 0.5666666666666667, 0.6, 0.7666666666666667, 0.5, 0.6, 0.5333333333333333, 0.3333333333333333, 0.4666666666666667, 0.4666666666666667, 0.6, 0.5333333333333333, 0.36666666666666664, 0.5333333333333333, 0.43333333333333335, 0.3, 0.7, 0.26666666666666666, 0.4, 0.43333333333333335, 0.5, 0.5666666666666667, 0.5333333333333333, 0.5, 0.5, 0.4666666666666667, 0.36666666666666664, 0.5333333333333333, 0.5333333333333333, 0.5666666666666667, 0.5666666666666667, 0.4666666666666667, 0.4666666666666667, 0.36666666666666664, 0.5333333333333333, 0.4666666666666667, 0.4, 0.6666666666666666, 0.5666666666666667, 0.6333333333333333, 0.5, 0.4, 0.3333333333333333, 0.4666666666666667, 0.4, 0.43333333333333335, 0.6666666666666666, 0.5333333333333333, 0.4666666666666667, 0.5, 0.4666666666666667, 0.5, 0.4666666666666667, 0.5, 0.3333333333333333, 0.5333333333333333, 0.5333333333333333, 0.36666666666666664, 0.6333333333333333, 0.6666666666666666, 0.4666666666666667, 0.43333333333333335, 0.5333333333333333, 0.5666666666666667, 0.7, 0.6333333333333333, 0.4666666666666667, 0.43333333333333335, 0.5, 0.36666666666666664, 0.5666666666666667, 0.6, 0.5333333333333333, 0.4666666666666667, 0.43333333333333335, 0.5666666666666667, 0.5333333333333333, 0.4666666666666667, 0.4666666666666667, 0.5666666666666667, 0.5, 0.5, 0.4666666666666667, 0.6, 0.5666666666666667, 0.5333333333333333, 0.5, 0.3333333333333333, 0.5666666666666667, 0.36666666666666664, 0.5333333333333333, 0.4666666666666667, 0.5333333333333333, 0.6333333333333333, 0.3333333333333333, 0.4, 0.4666666666666667, 0.4666666666666667, 0.5, 0.5333333333333333, 0.43333333333333335, 0.6, 0.4, 0.6, 0.3, 0.4666666666666667, 0.36666666666666664, 0.4666666666666667, 0.5333333333333333, 0.43333333333333335, 0.4666666666666667, 0.5666666666666667, 0.3333333333333333, 0.6333333333333333, 0.4, 0.4, 0.5333333333333333, 0.5333333333333333, 0.6666666666666666, 0.36666666666666664, 0.5333333333333333, 0.5, 0.5666666666666667, 0.4, 0.4666666666666667, 0.36666666666666664, 0.5333333333333333, 0.6333333333333333, 0.6666666666666666, 0.43333333333333335, 0.43333333333333335, 0.6, 0.5333333333333333, 0.4666666666666667, 0.4666666666666667, 0.5333333333333333, 0.4666666666666667, 0.5, 0.5, 0.3333333333333333, 0.36666666666666664, 0.5333333333333333, 0.5333333333333333, 0.6333333333333333, 0.5666666666666667, 0.5333333333333333, 0.36666666666666664, 0.5666666666666667, 0.4666666666666667, 0.6333333333333333, 0.4666666666666667, 0.4, 0.5333333333333333, 0.5, 0.5333333333333333, 0.5, 0.5333333333333333, 0.5666666666666667, 0.4, 0.5666666666666667, 0.5, 0.6, 0.4, 0.4666666666666667, 0.4666666666666667, 0.4, 0.6333333333333333, 0.4666666666666667, 0.5, 0.5, 0.4666666666666667, 0.36666666666666664, 0.6333333333333333, 0.43333333333333335, 0.6666666666666666, 0.4, 0.43333333333333335, 0.5, 0.5, 0.43333333333333335, 0.4, 0.4666666666666667, 0.5333333333333333, 0.4666666666666667, 0.43333333333333335, 0.5, 0.6666666666666666, 0.5666666666666667, 0.43333333333333335, 0.5333333333333333, 0.5, 0.6, 0.6666666666666666, 0.43333333333333335, 0.6, 0.5, 0.36666666666666664, 0.5, 0.5666666666666667, 0.5666666666666667, 0.5666666666666667, 0.4666666666666667, 0.4666666666666667, 0.6333333333333333, 0.5666666666666667, 0.6, 0.5666666666666667, 0.5333333333333333, 0.6666666666666666, 0.7, 0.5, 0.6, 0.5333333333333333, 0.5666666666666667, 0.6333333333333333, 0.4666666666666667, 0.5, 0.5666666666666667, 0.6, 0.5, 0.5666666666666667, 0.5666666666666667, 0.5, 0.5333333333333333, 0.5, 0.4666666666666667, 0.4666666666666667, 0.43333333333333335, 0.5666666666666667, 0.43333333333333335, 0.5666666666666667, 0.6, 0.43333333333333335, 0.5, 0.43333333333333335, 0.43333333333333335, 0.5666666666666667, 0.6, 0.5666666666666667, 0.4, 0.6, 0.6, 0.43333333333333335, 0.4666666666666667, 0.7, 0.5333333333333333, 0.5, 0.6333333333333333, 0.6666666666666666, 0.6666666666666666, 0.5666666666666667, 0.6, 0.4, 0.43333333333333335, 0.4, 0.5666666666666667, 0.5, 0.4, 0.6333333333333333, 0.43333333333333335, 0.4, 0.5333333333333333, 0.6333333333333333, 0.4, 0.6, 0.3, 0.4666666666666667, 0.5, 0.4666666666666667, 0.4666666666666667, 0.6, 0.4666666666666667, 0.6666666666666666, 0.43333333333333335, 0.5666666666666667, 0.6, 0.6, 0.36666666666666664, 0.6666666666666666, 0.4666666666666667, 0.6, 0.4666666666666667, 0.4666666666666667, 0.5666666666666667, 0.5333333333333333, 0.43333333333333335, 0.5333333333333333, 0.6333333333333333, 0.5666666666666667, 0.6, 0.4666666666666667, 0.4666666666666667, 0.5333333333333333, 0.6333333333333333, 0.43333333333333335, 0.43333333333333335, 0.6, 0.43333333333333335, 0.43333333333333335, 0.5, 0.6, 0.6, 0.5333333333333333, 0.3333333333333333, 0.4, 0.43333333333333335, 0.3333333333333333, 0.5, 0.5333333333333333, 0.5666666666666667, 0.5666666666666667, 0.6, 0.6, 0.5333333333333333, 0.5333333333333333, 0.6333333333333333, 0.3333333333333333, 0.4, 0.4666666666666667, 0.43333333333333335, 0.5, 0.4, 0.4, 0.4666666666666667, 0.6333333333333333, 0.5333333333333333, 0.5, 0.5333333333333333, 0.36666666666666664, 0.6, 0.5, 0.6, 0.6, 0.43333333333333335, 0.4666666666666667, 0.5, 0.5666666666666667, 0.5333333333333333, 0.5, 0.5666666666666667, 0.5333333333333333, 0.5333333333333333, 0.4666666666666667, 0.5666666666666667, 0.4666666666666667, 0.5666666666666667, 0.6, 0.6, 0.4, 0.5, 0.36666666666666664, 0.4666666666666667, 0.6, 0.43333333333333335, 0.4, 0.6, 0.5666666666666667, 0.4, 0.5, 0.5333333333333333, 0.43333333333333335, 0.6, 0.7, 0.4666666666666667, 0.5, 0.5, 0.5333333333333333, 0.6333333333333333, 0.36666666666666664, 0.3333333333333333, 0.7666666666666667, 0.4, 0.36666666666666664, 0.36666666666666664, 0.4, 0.5333333333333333, 0.5333333333333333, 0.5333333333333333, 0.5666666666666667, 0.5666666666666667, 0.36666666666666664, 0.3333333333333333, 0.5, 0.3333333333333333, 0.43333333333333335, 0.5, 0.5, 0.36666666666666664, 0.5333333333333333, 0.5666666666666667, 0.43333333333333335, 0.5333333333333333, 0.36666666666666664, 0.5333333333333333, 0.5333333333333333, 0.5666666666666667, 0.5333333333333333, 0.4666666666666667, 0.4, 0.4666666666666667, 0.6666666666666666, 0.5, 0.5, 0.4, 0.5333333333333333, 0.5666666666666667, 0.6333333333333333, 0.4666666666666667, 0.3, 0.5333333333333333, 0.6666666666666666, 0.6, 0.26666666666666666, 0.7, 0.6, 0.5666666666666667, 0.5666666666666667, 0.36666666666666664, 0.43333333333333335, 0.6, 0.43333333333333335, 0.5333333333333333, 0.5666666666666667, 0.4666666666666667, 0.4666666666666667, 0.5, 0.5666666666666667, 0.43333333333333335, 0.43333333333333335, 0.5333333333333333, 0.5333333333333333, 0.4, 0.36666666666666664, 0.6333333333333333, 0.43333333333333335, 0.4666666666666667, 0.43333333333333335, 0.5333333333333333, 0.5, 0.6333333333333333, 0.5, 0.5333333333333333, 0.5333333333333333, 0.5666666666666667, 0.5666666666666667, 0.6, 0.5666666666666667, 0.5333333333333333, 0.43333333333333335, 0.6, 0.43333333333333335, 0.5333333333333333, 0.5, 0.5333333333333333, 0.6333333333333333, 0.4666666666666667, 0.4, 0.5666666666666667, 0.4666666666666667, 0.4666666666666667, 0.3333333333333333, 0.5333333333333333, 0.36666666666666664, 0.6, 0.5, 0.4666666666666667, 0.4666666666666667, 0.43333333333333335, 0.6, 0.36666666666666664, 0.43333333333333335, 0.6, 0.43333333333333335, 0.4666666666666667, 0.4666666666666667, 0.6333333333333333, 0.6333333333333333, 0.4, 0.6, 0.26666666666666666, 0.5, 0.43333333333333335, 0.43333333333333335, 0.6333333333333333, 0.36666666666666664, 0.4666666666666667, 0.3, 0.5, 0.36666666666666664, 0.43333333333333335, 0.6, 0.5333333333333333, 0.5333333333333333, 0.3333333333333333, 0.4666666666666667, 0.5333333333333333, 0.5, 0.4666666666666667, 0.36666666666666664, 0.43333333333333335, 0.6, 0.3333333333333333, 0.6666666666666666, 0.43333333333333335, 0.36666666666666664, 0.5, 0.6666666666666666, 0.43333333333333335, 0.5666666666666667, 0.5333333333333333, 0.5666666666666667, 0.5333333333333333, 0.4, 0.5666666666666667, 0.5, 0.3, 0.4666666666666667, 0.5, 0.36666666666666664, 0.36666666666666664, 0.5333333333333333, 0.4666666666666667, 0.4666666666666667, 0.5666666666666667, 0.5, 0.5666666666666667, 0.5333333333333333, 0.8, 0.6333333333333333, 0.5666666666666667, 0.5, 0.4666666666666667, 0.4666666666666667, 0.5666666666666667, 0.36666666666666664, 0.36666666666666664, 0.4666666666666667, 0.43333333333333335, 0.6333333333333333, 0.5333333333333333, 0.6, 0.5333333333333333, 0.3, 0.5666666666666667, 0.4666666666666667, 0.36666666666666664, 0.5666666666666667, 0.5666666666666667, 0.6, 0.6, 0.5666666666666667, 0.3333333333333333, 0.43333333333333335, 0.4, 0.6333333333333333, 0.5333333333333333, 0.5, 0.5333333333333333, 0.5, 0.6333333333333333, 0.5666666666666667, 0.5333333333333333, 0.6, 0.5, 0.43333333333333335, 0.6, 0.4666666666666667, 0.4666666666666667, 0.5, 0.5, 0.6, 0.43333333333333335, 0.5, 0.5666666666666667, 0.6333333333333333, 0.6666666666666666, 0.6, 0.5666666666666667, 0.4666666666666667, 0.43333333333333335, 0.36666666666666664, 0.4666666666666667, 0.3333333333333333, 0.36666666666666664, 0.43333333333333335, 0.5333333333333333, 0.3, 0.5666666666666667, 0.6666666666666666, 0.4666666666666667, 0.6, 0.5, 0.5, 0.43333333333333335, 0.5333333333333333, 0.4, 0.6, 0.6666666666666666, 0.3333333333333333, 0.4666666666666667, 0.6, 0.6666666666666666, 0.36666666666666664, 0.6333333333333333, 0.43333333333333335, 0.6, 0.6, 0.5, 0.3333333333333333, 0.43333333333333335, 0.43333333333333335, 0.5, 0.3, 0.5333333333333333, 0.7666666666666667, 0.43333333333333335, 0.6, 0.4666666666666667, 0.3, 0.5333333333333333, 0.4666666666666667, 0.5333333333333333, 0.6, 0.5, 0.6, 0.4666666666666667, 0.4666666666666667, 0.5, 0.36666666666666664, 0.6, 0.36666666666666664, 0.4, 0.36666666666666664, 0.43333333333333335, 0.5333333333333333, 0.5666666666666667, 0.5666666666666667, 0.3333333333333333, 0.43333333333333335, 0.6, 0.4666666666666667, 0.6333333333333333, 0.5666666666666667, 0.6333333333333333, 0.43333333333333335, 0.43333333333333335, 0.3333333333333333, 0.5333333333333333, 0.5333333333333333, 0.43333333333333335, 0.5666666666666667, 0.43333333333333335, 0.4666666666666667, 0.13333333333333333, 0.5333333333333333, 0.6333333333333333, 0.3333333333333333, 0.5, 0.43333333333333335, 0.5333333333333333, 0.36666666666666664, 0.4666666666666667, 0.6, 0.5666666666666667, 0.6333333333333333, 0.5, 0.5, 0.36666666666666664, 0.36666666666666664, 0.43333333333333335, 0.43333333333333335, 0.7, 0.5, 0.5, 0.43333333333333335, 0.4666666666666667, 0.4666666666666667, 0.5, 0.5666666666666667, 0.3333333333333333, 0.4666666666666667, 0.6333333333333333, 0.4666666666666667, 0.6, 0.6666666666666666, 0.5666666666666667, 0.6, 0.4, 0.4666666666666667, 0.5333333333333333, 0.5333333333333333, 0.4666666666666667, 0.4666666666666667, 0.4666666666666667, 0.4, 0.4666666666666667, 0.5, 0.6333333333333333, 0.4666666666666667, 0.7333333333333333, 0.5666666666666667, 0.4666666666666667, 0.6666666666666666, 0.43333333333333335, 0.5, 0.4666666666666667, 0.3333333333333333, 0.5666666666666667, 0.43333333333333335, 0.5666666666666667, 0.4, 0.4, 0.6, 0.6, 0.6666666666666666, 0.5333333333333333, 0.8333333333333334, 0.5, 0.6, 0.5666666666666667, 0.6333333333333333, 0.6333333333333333, 0.4666666666666667, 0.36666666666666664, 0.5, 0.4666666666666667, 0.4, 0.4, 0.36666666666666664, 0.6333333333333333, 0.4666666666666667, 0.5666666666666667, 0.43333333333333335, 0.4666666666666667, 0.5666666666666667, 0.5666666666666667, 0.6, 0.5333333333333333, 0.5, 0.5333333333333333, 0.4666666666666667, 0.3333333333333333, 0.5, 0.5666666666666667, 0.5666666666666667, 0.6, 0.4666666666666667, 0.26666666666666666, 0.7333333333333333, 0.5666666666666667, 0.4, 0.4, 0.43333333333333335, 0.4666666666666667, 0.5666666666666667, 0.4, 0.43333333333333335, 0.36666666666666664, 0.5333333333333333, 0.6, 0.7333333333333333, 0.6333333333333333, 0.5333333333333333, 0.5666666666666667, 0.5666666666666667, 0.6, 0.4, 0.43333333333333335, 0.5333333333333333, 0.3333333333333333, 0.7, 0.6666666666666666, 0.36666666666666664, 0.7333333333333333, 0.43333333333333335, 0.5, 0.3, 0.5, 0.6666666666666666, 0.43333333333333335, 0.43333333333333335, 0.3333333333333333, 0.4, 0.6333333333333333, 0.5, 0.4, 0.6333333333333333, 0.5, 0.36666666666666664, 0.36666666666666664, 0.36666666666666664, 0.5666666666666667, 0.5333333333333333, 0.4666666666666667, 0.6, 0.3, 0.5666666666666667, 0.4, 0.4, 0.6, 0.5, 0.36666666666666664, 0.4, 0.6, 0.4, 0.5, 0.5666666666666667, 0.5, 0.5666666666666667, 0.6666666666666666, 0.4666666666666667, 0.5666666666666667, 0.4666666666666667, 0.6333333333333333, 0.7, 0.6666666666666666, 0.3333333333333333, 0.43333333333333335, 0.5, 0.4666666666666667, 0.5, 0.43333333333333335, 0.5, 0.43333333333333335, 0.6666666666666666, 0.5666666666666667, 0.5666666666666667, 0.4666666666666667, 0.3333333333333333, 0.5666666666666667, 0.4, 0.4666666666666667, 0.3333333333333333, 0.4666666666666667, 0.4666666666666667, 0.3333333333333333, 0.43333333333333335, 0.5, 0.5333333333333333, 0.5, 0.5666666666666667, 0.43333333333333335, 0.6333333333333333, 0.6333333333333333, 0.5333333333333333, 0.36666666666666664, 0.6333333333333333, 0.5666666666666667, 0.36666666666666664, 0.5333333333333333, 0.43333333333333335, 0.6666666666666666, 0.4666666666666667, 0.5666666666666667, 0.6, 0.4666666666666667, 0.5666666666666667, 0.4, 0.5666666666666667, 0.5, 0.5, 0.5666666666666667, 0.4666666666666667, 0.5333333333333333, 0.5, 0.36666666666666664, 0.4666666666666667, 0.4666666666666667, 0.43333333333333335, 0.4, 0.36666666666666664, 0.5666666666666667, 0.4666666666666667, 0.5666666666666667, 0.43333333333333335, 0.43333333333333335, 0.36666666666666664, 0.5666666666666667, 0.4666666666666667, 0.4666666666666667, 0.6333333333333333, 0.5, 0.43333333333333335, 0.5333333333333333, 0.4, 0.5, 0.43333333333333335, 0.4666666666666667, 0.6333333333333333, 0.5, 0.5, 0.5666666666666667, 0.36666666666666664, 0.43333333333333335, 0.4666666666666667, 0.6333333333333333, 0.36666666666666664, 0.5333333333333333, 0.36666666666666664, 0.6, 0.3, 0.5, 0.43333333333333335, 0.5666666666666667, 0.6, 0.43333333333333335, 0.5666666666666667, 0.3333333333333333, 0.5666666666666667, 0.6333333333333333, 0.5, 0.4666666666666667, 0.6333333333333333, 0.6333333333333333, 0.5, 0.5666666666666667, 0.5666666666666667, 0.6333333333333333, 0.5, 0.4, 0.6, 0.5, 0.43333333333333335, 0.5333333333333333, 0.5333333333333333, 0.6, 0.36666666666666664, 0.36666666666666664, 0.6666666666666666, 0.6, 0.3333333333333333, 0.4, 0.6333333333333333, 0.6, 0.5, 0.6333333333333333, 0.5666666666666667, 0.4666666666666667, 0.4, 0.6, 0.4666666666666667, 0.6666666666666666, 0.43333333333333335, 0.3333333333333333, 0.36666666666666664, 0.4, 0.5333333333333333, 0.5333333333333333, 0.4, 0.5333333333333333, 0.43333333333333335, 0.5333333333333333, 0.36666666666666664, 0.7333333333333333, 0.5, 0.4666666666666667, 0.6, 0.4666666666666667, 0.6, 0.5, 0.43333333333333335, 0.36666666666666664, 0.6666666666666666, 0.4666666666666667, 0.7, 0.5666666666666667, 0.6333333333333333, 0.3333333333333333, 0.5666666666666667, 0.43333333333333335, 0.6666666666666666, 0.4, 0.43333333333333335, 0.6, 0.4666666666666667, 0.36666666666666664, 0.5, 0.5333333333333333, 0.6666666666666666, 0.5, 0.5, 0.4666666666666667, 0.3333333333333333, 0.3, 0.5666666666666667, 0.4666666666666667, 0.43333333333333335, 0.43333333333333335, 0.5333333333333333, 0.43333333333333335, 0.5333333333333333, 0.5666666666666667, 0.5, 0.6333333333333333, 0.5333333333333333, 0.23333333333333334, 0.5666666666666667, 0.5666666666666667, 0.5, 0.4666666666666667, 0.6333333333333333, 0.6, 0.6, 0.43333333333333335, 0.43333333333333335, 0.4, 0.4666666666666667, 0.43333333333333335, 0.4666666666666667, 0.4666666666666667, 0.5333333333333333, 0.4, 0.4666666666666667, 0.43333333333333335, 0.5333333333333333, 0.5666666666666667, 0.3, 0.5, 0.3333333333333333, 0.5333333333333333, 0.5666666666666667, 0.4, 0.4, 0.4666666666666667, 0.5333333333333333, 0.6666666666666666, 0.5666666666666667, 0.4666666666666667, 0.5333333333333333, 0.5666666666666667, 0.3, 0.6, 0.36666666666666664, 0.6, 0.36666666666666664, 0.5, 0.6333333333333333, 0.6, 0.5, 0.6, 0.43333333333333335, 0.3333333333333333, 0.6, 0.36666666666666664, 0.5666666666666667, 0.4666666666666667, 0.5, 0.5333333333333333, 0.5, 0.5333333333333333, 0.5666666666666667, 0.5, 0.5333333333333333, 0.5333333333333333, 0.3333333333333333, 0.5, 0.5666666666666667, 0.4, 0.6333333333333333, 0.6666666666666666, 0.6333333333333333, 0.6, 0.5333333333333333, 0.5333333333333333, 0.6, 0.6333333333333333, 0.43333333333333335, 0.5333333333333333, 0.5666666666666667, 0.4666666666666667, 0.5333333333333333, 0.36666666666666664, 0.4666666666666667, 0.5, 0.5333333333333333, 0.6, 0.4666666666666667, 0.4, 0.6333333333333333, 0.5333333333333333, 0.5333333333333333, 0.4, 0.6333333333333333, 0.4666666666666667, 0.43333333333333335, 0.4666666666666667, 0.43333333333333335, 0.4666666666666667, 0.5, 0.5, 0.5, 0.5, 0.6, 0.5333333333333333, 0.6, 0.5333333333333333, 0.5, 0.5, 0.36666666666666664, 0.5333333333333333, 0.5333333333333333, 0.6, 0.5666666666666667, 0.5, 0.6, 0.4666666666666667, 0.4, 0.4, 0.6333333333333333, 0.5333333333333333, 0.6, 0.5333333333333333, 0.6, 0.5666666666666667, 0.7, 0.5666666666666667, 0.3333333333333333, 0.5, 0.43333333333333335, 0.5, 0.5, 0.43333333333333335, 0.6333333333333333, 0.3333333333333333, 0.4, 0.5, 0.5, 0.5, 0.36666666666666664, 0.5333333333333333, 0.5333333333333333, 0.7, 0.7, 0.6, 0.5333333333333333, 0.4, 0.5333333333333333, 0.43333333333333335, 0.5666666666666667, 0.43333333333333335, 0.2, 0.5, 0.5, 0.43333333333333335, 0.3333333333333333, 0.5333333333333333, 0.5, 0.5333333333333333, 0.4, 0.5666666666666667, 0.36666666666666664, 0.6, 0.4666666666666667, 0.5666666666666667, 0.36666666666666664, 0.7333333333333333, 0.43333333333333335, 0.4666666666666667, 0.5, 0.4666666666666667, 0.36666666666666664, 0.3333333333333333, 0.5666666666666667, 0.3333333333333333, 0.43333333333333335, 0.26666666666666666, 0.5, 0.5, 0.5333333333333333, 0.5, 0.5333333333333333, 0.5666666666666667, 0.6666666666666666, 0.5666666666666667, 0.43333333333333335, 0.5333333333333333, 0.4, 0.6333333333333333, 0.7666666666666667, 0.5, 0.36666666666666664, 0.5, 0.43333333333333335, 0.5333333333333333, 0.43333333333333335, 0.5, 0.5333333333333333, 0.5666666666666667, 0.4666666666666667, 0.5, 0.3, 0.5, 0.36666666666666664, 0.5666666666666667, 0.43333333333333335, 0.5333333333333333, 0.5, 0.5666666666666667, 0.5, 0.7666666666666667, 0.43333333333333335, 0.43333333333333335, 0.5666666666666667, 0.5666666666666667, 0.5333333333333333, 0.36666666666666664, 0.6, 0.5333333333333333, 0.5333333333333333, 0.4666666666666667, 0.36666666666666664, 0.5333333333333333, 0.5, 0.6, 0.5666666666666667, 0.6, 0.4, 0.5, 0.43333333333333335, 0.6, 0.5666666666666667, 0.5666666666666667, 0.4, 0.43333333333333335, 0.5333333333333333, 0.5333333333333333, 0.6, 0.4, 0.5333333333333333, 0.5333333333333333, 0.5666666666666667, 0.5666666666666667, 0.43333333333333335, 0.5666666666666667, 0.4666666666666667, 0.7333333333333333, 0.6, 0.43333333333333335, 0.5, 0.4666666666666667, 0.4666666666666667, 0.6333333333333333, 0.6, 0.5666666666666667, 0.43333333333333335, 0.4666666666666667, 0.5, 0.5666666666666667, 0.5666666666666667, 0.6, 0.6, 0.4666666666666667, 0.6666666666666666, 0.5333333333333333, 0.5, 0.5333333333333333, 0.5333333333333333, 0.6, 0.4666666666666667, 0.5, 0.36666666666666664, 0.5666666666666667, 0.4666666666666667, 0.6, 0.4666666666666667, 0.5666666666666667, 0.6, 0.4666666666666667, 0.4666666666666667, 0.3333333333333333, 0.7, 0.3, 0.6333333333333333, 0.5, 0.36666666666666664, 0.4, 0.5666666666666667, 0.6666666666666666, 0.6, 0.5, 0.43333333333333335, 0.5333333333333333, 0.4666666666666667, 0.4666666666666667, 0.43333333333333335, 0.5, 0.5333333333333333, 0.6, 0.43333333333333335, 0.5666666666666667, 0.5, 0.6, 0.5, 0.5333333333333333, 0.5666666666666667, 0.6, 0.6, 0.4666666666666667, 0.4, 0.4666666666666667, 0.36666666666666664, 0.5, 0.6, 0.6, 0.43333333333333335, 0.6, 0.6333333333333333, 0.5666666666666667, 0.3333333333333333, 0.5666666666666667, 0.36666666666666664, 0.6333333333333333, 0.5, 0.5666666666666667, 0.5, 0.4666666666666667, 0.5666666666666667, 0.6666666666666666, 0.6, 0.4, 0.3333333333333333, 0.6333333333333333, 0.4666666666666667, 0.6, 0.36666666666666664, 0.4, 0.6, 0.5, 0.43333333333333335, 0.5333333333333333, 0.4666666666666667]\n"
          ],
          "name": "stdout"
        }
      ]
    },
    {
      "cell_type": "code",
      "metadata": {
        "id": "rfeA06evOT2K",
        "colab_type": "code",
        "outputId": "72007400-8c32-4d2a-e948-50dd45566262",
        "colab": {
          "base_uri": "https://localhost:8080/",
          "height": 204
        }
      },
      "source": [
        "df = pd.DataFrame({'single_sample': one_sample})\n",
        "df.head()"
      ],
      "execution_count": 0,
      "outputs": [
        {
          "output_type": "execute_result",
          "data": {
            "text/html": [
              "<div>\n",
              "<style scoped>\n",
              "    .dataframe tbody tr th:only-of-type {\n",
              "        vertical-align: middle;\n",
              "    }\n",
              "\n",
              "    .dataframe tbody tr th {\n",
              "        vertical-align: top;\n",
              "    }\n",
              "\n",
              "    .dataframe thead th {\n",
              "        text-align: right;\n",
              "    }\n",
              "</style>\n",
              "<table border=\"1\" class=\"dataframe\">\n",
              "  <thead>\n",
              "    <tr style=\"text-align: right;\">\n",
              "      <th></th>\n",
              "      <th>single_sample</th>\n",
              "    </tr>\n",
              "  </thead>\n",
              "  <tbody>\n",
              "    <tr>\n",
              "      <th>0</th>\n",
              "      <td>0</td>\n",
              "    </tr>\n",
              "    <tr>\n",
              "      <th>1</th>\n",
              "      <td>0</td>\n",
              "    </tr>\n",
              "    <tr>\n",
              "      <th>2</th>\n",
              "      <td>0</td>\n",
              "    </tr>\n",
              "    <tr>\n",
              "      <th>3</th>\n",
              "      <td>0</td>\n",
              "    </tr>\n",
              "    <tr>\n",
              "      <th>4</th>\n",
              "      <td>0</td>\n",
              "    </tr>\n",
              "  </tbody>\n",
              "</table>\n",
              "</div>"
            ],
            "text/plain": [
              "   single_sample\n",
              "0              0\n",
              "1              0\n",
              "2              0\n",
              "3              0\n",
              "4              0"
            ]
          },
          "metadata": {
            "tags": []
          },
          "execution_count": 85
        }
      ]
    },
    {
      "cell_type": "code",
      "metadata": {
        "id": "GlMSNFX6OmBV",
        "colab_type": "code",
        "outputId": "7ee2e358-24df-4401-e3f7-00dcd9cac453",
        "colab": {
          "base_uri": "https://localhost:8080/",
          "height": 269
        }
      },
      "source": [
        "df.single_sample.hist();"
      ],
      "execution_count": 0,
      "outputs": [
        {
          "output_type": "display_data",
          "data": {
            "image/png": "[encoded data removed]",
            "text/plain": [
              "<Figure size 432x288 with 1 Axes>"
            ]
          },
          "metadata": {
            "tags": []
          }
        }
      ]
    },
    {
      "cell_type": "code",
      "metadata": {
        "id": "Jie4ypgLOs5M",
        "colab_type": "code",
        "outputId": "b77d5d7a-0955-44fc-cc29-7a3a7c2c1652",
        "colab": {
          "base_uri": "https://localhost:8080/",
          "height": 296
        }
      },
      "source": [
        "ax = plt.hist(sample_means, bins=13)\n",
        "plt.title('Distribution of 20,000 sample means \\n (of 8 coinflips each)');"
      ],
      "execution_count": 0,
      "outputs": [
        {
          "output_type": "display_data",
          "data": {
            "image/png": "[encoded data removed]",
            "text/plain": [
              "<Figure size 432x288 with 1 Axes>"
            ]
          },
          "metadata": {
            "tags": []
          }
        }
      ]
    },
    {
      "cell_type": "markdown",
      "metadata": {
        "id": "LsEAjc4rOylm",
        "colab_type": "text"
      },
      "source": [
        "What does the Central Limit Theorem State? That no matter the initial distribution of the population, the distribution of sample means taken will approximate a normal distribution as $n \\rightarrow \\infty$.\n",
        "\n",
        "This has very important implications for hypothesis testing and is precisely the reason why the t-distribution begins to approximate the normal distribution as our sample size increases. "
      ]
    },
    {
      "cell_type": "code",
      "metadata": {
        "id": "F15l-J788ApQ",
        "colab_type": "code",
        "outputId": "51a894df-2a9f-4d44-9697-034213eeeef8",
        "colab": {
          "base_uri": "https://localhost:8080/",
          "height": 71
        }
      },
      "source": [
        "sample_means_small = []\n",
        "sample_means_large = []\n",
        "for x in range(0,3000):\n",
        "  coinflips_small = np.random.binomial(n=1, p=.5, size=20)\n",
        "  coinflips_large = np.random.binomial(n=1, p=.5, size=100)\n",
        "  one_small_sample = coinflips_small\n",
        "  one_small_large = coinflips_large\n",
        "  sample_means_small.append(coinflips_small.mean())\n",
        "  sample_means_large.append(coinflips_large.mean())\n",
        "\n",
        "print(len(sample_means_small))\n",
        "print(sample_means_small)"
      ],
      "execution_count": 0,
      "outputs": [
        {
          "output_type": "stream",
          "text": [
            "3000\n",
            "[0.45, 0.3, 0.6, 0.45, 0.5, 0.7, 0.55, 0.5, 0.5, 0.55, 0.3, 0.45, 0.5, 0.4, 0.35, 0.45, 0.65, 0.5, 0.45, 0.5, 0.5, 0.45, 0.45, 0.45, 0.55, 0.55, 0.65, 0.6, 0.5, 0.45, 0.4, 0.5, 0.55, 0.5, 0.55, 0.55, 0.55, 0.65, 0.3, 0.65, 0.5, 0.4, 0.5, 0.5, 0.55, 0.5, 0.45, 0.3, 0.3, 0.65, 0.25, 0.5, 0.5, 0.65, 0.55, 0.5, 0.35, 0.55, 0.5, 0.4, 0.35, 0.5, 0.55, 0.65, 0.6, 0.45, 0.65, 0.4, 0.5, 0.5, 0.45, 0.35, 0.45, 0.6, 0.5, 0.35, 0.65, 0.6, 0.65, 0.45, 0.4, 0.45, 0.6, 0.4, 0.45, 0.4, 0.2, 0.5, 0.5, 0.5, 0.5, 0.55, 0.5, 0.65, 0.55, 0.55, 0.5, 0.5, 0.25, 0.55, 0.5, 0.55, 0.6, 0.5, 0.75, 0.35, 0.45, 0.6, 0.7, 0.6, 0.45, 0.5, 0.35, 0.5, 0.55, 0.6, 0.3, 0.5, 0.6, 0.5, 0.5, 0.5, 0.45, 0.55, 0.55, 0.35, 0.55, 0.4, 0.45, 0.5, 0.35, 0.35, 0.3, 0.45, 0.4, 0.65, 0.6, 0.55, 0.65, 0.55, 0.5, 0.45, 0.55, 0.65, 0.5, 0.5, 0.7, 0.55, 0.6, 0.3, 0.35, 0.3, 0.45, 0.5, 0.55, 0.55, 0.45, 0.5, 0.5, 0.55, 0.35, 0.45, 0.45, 0.5, 0.3, 0.55, 0.55, 0.5, 0.3, 0.65, 0.65, 0.35, 0.4, 0.45, 0.55, 0.25, 0.45, 0.4, 0.6, 0.65, 0.2, 0.55, 0.35, 0.55, 0.65, 0.3, 0.45, 0.35, 0.3, 0.4, 0.6, 0.45, 0.6, 0.55, 0.55, 0.5, 0.65, 0.5, 0.6, 0.5, 0.6, 0.4, 0.45, 0.5, 0.25, 0.55, 0.6, 0.65, 0.6, 0.5, 0.5, 0.5, 0.5, 0.35, 0.65, 0.55, 0.4, 0.55, 0.35, 0.4, 0.45, 0.5, 0.45, 0.5, 0.3, 0.65, 0.5, 0.5, 0.55, 0.4, 0.7, 0.5, 0.35, 0.5, 0.5, 0.7, 0.3, 0.5, 0.45, 0.3, 0.65, 0.5, 0.6, 0.6, 0.4, 0.4, 0.5, 0.5, 0.35, 0.45, 0.6, 0.6, 0.6, 0.6, 0.55, 0.3, 0.6, 0.3, 0.6, 0.6, 0.55, 0.4, 0.5, 0.45, 0.4, 0.65, 0.5, 0.55, 0.3, 0.5, 0.6, 0.65, 0.3, 0.4, 0.55, 0.6, 0.65, 0.35, 0.45, 0.6, 0.55, 0.4, 0.4, 0.25, 0.4, 0.5, 0.5, 0.5, 0.35, 0.5, 0.45, 0.65, 0.25, 0.65, 0.35, 0.65, 0.55, 0.45, 0.6, 0.5, 0.45, 0.6, 0.45, 0.55, 0.4, 0.55, 0.45, 0.6, 0.35, 0.4, 0.35, 0.55, 0.55, 0.4, 0.6, 0.55, 0.55, 0.5, 0.45, 0.25, 0.6, 0.35, 0.55, 0.25, 0.35, 0.45, 0.45, 0.45, 0.4, 0.4, 0.35, 0.65, 0.45, 0.6, 0.35, 0.5, 0.6, 0.55, 0.45, 0.45, 0.5, 0.55, 0.55, 0.45, 0.65, 0.4, 0.35, 0.7, 0.4, 0.4, 0.5, 0.35, 0.35, 0.4, 0.55, 0.55, 0.55, 0.35, 0.55, 0.4, 0.55, 0.55, 0.15, 0.3, 0.4, 0.5, 0.45, 0.75, 0.15, 0.55, 0.6, 0.45, 0.55, 0.45, 0.55, 0.45, 0.35, 0.6, 0.55, 0.4, 0.55, 0.5, 0.5, 0.55, 0.4, 0.35, 0.55, 0.5, 0.4, 0.7, 0.55, 0.4, 0.5, 0.4, 0.6, 0.6, 0.45, 0.45, 0.3, 0.7, 0.45, 0.65, 0.4, 0.4, 0.35, 0.5, 0.45, 0.65, 0.55, 0.45, 0.4, 0.75, 0.7, 0.3, 0.8, 0.45, 0.4, 0.65, 0.5, 0.55, 0.6, 0.4, 0.55, 0.5, 0.5, 0.5, 0.45, 0.35, 0.7, 0.4, 0.45, 0.5, 0.35, 0.65, 0.5, 0.65, 0.3, 0.5, 0.5, 0.6, 0.45, 0.5, 0.35, 0.5, 0.6, 0.4, 0.55, 0.35, 0.45, 0.55, 0.4, 0.45, 0.45, 0.6, 0.5, 0.45, 0.5, 0.55, 0.6, 0.5, 0.4, 0.4, 0.7, 0.4, 0.55, 0.5, 0.5, 0.6, 0.4, 0.4, 0.5, 0.65, 0.35, 0.45, 0.55, 0.6, 0.25, 0.6, 0.5, 0.45, 0.5, 0.3, 0.35, 0.35, 0.55, 0.4, 0.4, 0.55, 0.55, 0.6, 0.35, 0.35, 0.5, 0.45, 0.35, 0.55, 0.4, 0.2, 0.6, 0.55, 0.4, 0.35, 0.6, 0.45, 0.65, 0.6, 0.55, 0.5, 0.55, 0.45, 0.5, 0.6, 0.6, 0.55, 0.6, 0.45, 0.6, 0.35, 0.7, 0.5, 0.5, 0.65, 0.6, 0.45, 0.45, 0.55, 0.75, 0.3, 0.3, 0.55, 0.4, 0.5, 0.45, 0.55, 0.5, 0.45, 0.55, 0.45, 0.6, 0.4, 0.65, 0.6, 0.55, 0.6, 0.4, 0.55, 0.6, 0.35, 0.5, 0.45, 0.45, 0.5, 0.7, 0.35, 0.55, 0.45, 0.45, 0.55, 0.5, 0.6, 0.7, 0.55, 0.45, 0.45, 0.45, 0.65, 0.55, 0.4, 0.55, 0.45, 0.45, 0.35, 0.35, 0.6, 0.55, 0.4, 0.4, 0.45, 0.75, 0.6, 0.65, 0.5, 0.55, 0.45, 0.5, 0.5, 0.4, 0.3, 0.45, 0.7, 0.5, 0.6, 0.5, 0.45, 0.6, 0.4, 0.55, 0.75, 0.45, 0.7, 0.5, 0.55, 0.6, 0.5, 0.5, 0.65, 0.5, 0.65, 0.35, 0.45, 0.55, 0.65, 0.55, 0.5, 0.5, 0.45, 0.45, 0.7, 0.65, 0.35, 0.4, 0.55, 0.4, 0.35, 0.35, 0.55, 0.5, 0.65, 0.45, 0.55, 0.55, 0.65, 0.6, 0.6, 0.55, 0.6, 0.55, 0.65, 0.4, 0.45, 0.4, 0.45, 0.65, 0.7, 0.6, 0.55, 0.45, 0.65, 0.55, 0.45, 0.5, 0.55, 0.6, 0.5, 0.6, 0.6, 0.5, 0.4, 0.4, 0.4, 0.6, 0.45, 0.4, 0.35, 0.4, 0.55, 0.5, 0.2, 0.35, 0.35, 0.75, 0.8, 0.4, 0.3, 0.55, 0.45, 0.65, 0.6, 0.45, 0.5, 0.4, 0.55, 0.35, 0.5, 0.6, 0.7, 0.3, 0.25, 0.55, 0.45, 0.35, 0.5, 0.65, 0.55, 0.2, 0.55, 0.4, 0.45, 0.6, 0.45, 0.4, 0.6, 0.6, 0.45, 0.45, 0.45, 0.4, 0.6, 0.4, 0.45, 0.55, 0.25, 0.4, 0.5, 0.6, 0.55, 0.7, 0.7, 0.5, 0.65, 0.4, 0.7, 0.45, 0.65, 0.4, 0.65, 0.7, 0.65, 0.25, 0.75, 0.35, 0.55, 0.45, 0.4, 0.5, 0.35, 0.5, 0.4, 0.35, 0.6, 0.65, 0.55, 0.7, 0.35, 0.6, 0.55, 0.55, 0.4, 0.45, 0.5, 0.4, 0.55, 0.5, 0.7, 0.6, 0.55, 0.6, 0.4, 0.35, 0.65, 0.35, 0.55, 0.55, 0.6, 0.3, 0.4, 0.45, 0.45, 0.45, 0.75, 0.5, 0.6, 0.7, 0.45, 0.65, 0.5, 0.7, 0.45, 0.65, 0.5, 0.65, 0.55, 0.3, 0.55, 0.75, 0.35, 0.3, 0.55, 0.55, 0.5, 0.35, 0.3, 0.55, 0.4, 0.5, 0.6, 0.4, 0.55, 0.4, 0.7, 0.5, 0.6, 0.5, 0.55, 0.4, 0.55, 0.6, 0.65, 0.7, 0.4, 0.4, 0.5, 0.35, 0.65, 0.6, 0.5, 0.65, 0.6, 0.7, 0.55, 0.5, 0.45, 0.6, 0.45, 0.55, 0.75, 0.45, 0.5, 0.35, 0.45, 0.5, 0.4, 0.5, 0.65, 0.35, 0.35, 0.5, 0.35, 0.55, 0.4, 0.5, 0.65, 0.45, 0.6, 0.5, 0.4, 0.4, 0.55, 0.55, 0.35, 0.3, 0.75, 0.4, 0.45, 0.35, 0.5, 0.3, 0.7, 0.4, 0.55, 0.6, 0.6, 0.45, 0.55, 0.55, 0.4, 0.55, 0.5, 0.4, 0.5, 0.4, 0.5, 0.3, 0.45, 0.4, 0.6, 0.35, 0.5, 0.5, 0.8, 0.35, 0.35, 0.45, 0.6, 0.65, 0.45, 0.5, 0.75, 0.55, 0.45, 0.25, 0.6, 0.6, 0.55, 0.45, 0.3, 0.25, 0.45, 0.5, 0.5, 0.35, 0.4, 0.45, 0.45, 0.7, 0.65, 0.5, 0.4, 0.6, 0.6, 0.45, 0.6, 0.6, 0.5, 0.65, 0.5, 0.55, 0.45, 0.6, 0.6, 0.6, 0.6, 0.35, 0.7, 0.35, 0.65, 0.45, 0.6, 0.4, 0.25, 0.6, 0.45, 0.6, 0.6, 0.4, 0.65, 0.4, 0.6, 0.6, 0.6, 0.55, 0.5, 0.5, 0.6, 0.6, 0.7, 0.55, 0.5, 0.45, 0.45, 0.55, 0.35, 0.45, 0.5, 0.5, 0.5, 0.65, 0.65, 0.75, 0.6, 0.45, 0.6, 0.45, 0.6, 0.4, 0.5, 0.55, 0.25, 0.4, 0.45, 0.8, 0.5, 0.45, 0.4, 0.55, 0.35, 0.4, 0.45, 0.6, 0.4, 0.4, 0.65, 0.65, 0.7, 0.35, 0.6, 0.5, 0.45, 0.65, 0.5, 0.5, 0.4, 0.35, 0.5, 0.65, 0.45, 0.6, 0.55, 0.45, 0.45, 0.45, 0.35, 0.6, 0.6, 0.4, 0.45, 0.6, 0.35, 0.55, 0.5, 0.5, 0.75, 0.5, 0.55, 0.45, 0.4, 0.45, 0.25, 0.6, 0.5, 0.3, 0.65, 0.55, 0.55, 0.55, 0.6, 0.7, 0.5, 0.5, 0.3, 0.55, 0.5, 0.55, 0.5, 0.45, 0.6, 0.6, 0.45, 0.45, 0.4, 0.45, 0.6, 0.6, 0.55, 0.45, 0.7, 0.55, 0.4, 0.7, 0.45, 0.4, 0.45, 0.8, 0.55, 0.4, 0.25, 0.55, 0.5, 0.55, 0.55, 0.45, 0.55, 0.7, 0.6, 0.55, 0.6, 0.65, 0.4, 0.35, 0.55, 0.45, 0.4, 0.6, 0.35, 0.45, 0.3, 0.45, 0.5, 0.7, 0.45, 0.7, 0.6, 0.4, 0.45, 0.65, 0.45, 0.55, 0.6, 0.65, 0.6, 0.5, 0.55, 0.45, 0.55, 0.45, 0.75, 0.55, 0.55, 0.5, 0.3, 0.45, 0.6, 0.45, 0.7, 0.6, 0.55, 0.35, 0.5, 0.5, 0.65, 0.8, 0.45, 0.65, 0.55, 0.45, 0.3, 0.35, 0.6, 0.55, 0.5, 0.4, 0.25, 0.6, 0.6, 0.55, 0.35, 0.55, 0.55, 0.35, 0.35, 0.55, 0.65, 0.55, 0.55, 0.25, 0.6, 0.25, 0.45, 0.55, 0.6, 0.45, 0.55, 0.6, 0.35, 0.55, 0.55, 0.4, 0.45, 0.35, 0.6, 0.55, 0.6, 0.45, 0.65, 0.3, 0.6, 0.45, 0.6, 0.55, 0.6, 0.55, 0.55, 0.5, 0.7, 0.35, 0.45, 0.4, 0.7, 0.5, 0.4, 0.45, 0.55, 0.45, 0.3, 0.45, 0.4, 0.55, 0.5, 0.25, 0.5, 0.45, 0.55, 0.35, 0.35, 0.55, 0.55, 0.6, 0.6, 0.55, 0.6, 0.45, 0.55, 0.5, 0.3, 0.6, 0.55, 0.55, 0.45, 0.35, 0.45, 0.6, 0.4, 0.45, 0.55, 0.7, 0.45, 0.5, 0.6, 0.8, 0.2, 0.65, 0.4, 0.4, 0.4, 0.5, 0.5, 0.6, 0.65, 0.5, 0.55, 0.4, 0.4, 0.5, 0.4, 0.4, 0.3, 0.45, 0.4, 0.5, 0.65, 0.45, 0.65, 0.5, 0.7, 0.45, 0.55, 0.5, 0.65, 0.5, 0.55, 0.55, 0.45, 0.7, 0.45, 0.45, 0.45, 0.4, 0.7, 0.5, 0.3, 0.35, 0.4, 0.55, 0.2, 0.55, 0.5, 0.55, 0.5, 0.55, 0.4, 0.5, 0.55, 0.5, 0.4, 0.5, 0.45, 0.45, 0.5, 0.65, 0.5, 0.65, 0.45, 0.55, 0.6, 0.55, 0.5, 0.45, 0.55, 0.4, 0.35, 0.45, 0.75, 0.75, 0.35, 0.6, 0.3, 0.45, 0.3, 0.55, 0.5, 0.5, 0.45, 0.5, 0.45, 0.3, 0.6, 0.45, 0.3, 0.55, 0.45, 0.35, 0.55, 0.5, 0.4, 0.35, 0.5, 0.7, 0.45, 0.35, 0.4, 0.55, 0.6, 0.4, 0.35, 0.35, 0.75, 0.45, 0.6, 0.65, 0.35, 0.45, 0.45, 0.6, 0.55, 0.55, 0.55, 0.55, 0.5, 0.65, 0.4, 0.35, 0.65, 0.55, 0.4, 0.5, 0.45, 0.55, 0.5, 0.45, 0.55, 0.45, 0.6, 0.6, 0.6, 0.45, 0.45, 0.5, 0.6, 0.6, 0.5, 0.65, 0.5, 0.65, 0.55, 0.6, 0.55, 0.3, 0.55, 0.45, 0.7, 0.55, 0.5, 0.6, 0.5, 0.6, 0.8, 0.55, 0.5, 0.55, 0.5, 0.6, 0.55, 0.45, 0.4, 0.65, 0.3, 0.45, 0.5, 0.55, 0.35, 0.45, 0.35, 0.4, 0.55, 0.4, 0.55, 0.55, 0.5, 0.35, 0.55, 0.4, 0.4, 0.5, 0.45, 0.6, 0.45, 0.65, 0.5, 0.45, 0.6, 0.25, 0.7, 0.45, 0.6, 0.55, 0.4, 0.5, 0.6, 0.55, 0.5, 0.5, 0.45, 0.4, 0.6, 0.7, 0.5, 0.6, 0.6, 0.55, 0.45, 0.55, 0.5, 0.35, 0.4, 0.6, 0.4, 0.35, 0.45, 0.6, 0.45, 0.45, 0.45, 0.4, 0.35, 0.5, 0.55, 0.55, 0.5, 0.6, 0.5, 0.5, 0.65, 0.7, 0.55, 0.5, 0.55, 0.75, 0.3, 0.55, 0.45, 0.55, 0.3, 0.6, 0.4, 0.45, 0.4, 0.45, 0.45, 0.75, 0.5, 0.55, 0.55, 0.55, 0.55, 0.65, 0.6, 0.7, 0.15, 0.5, 0.5, 0.5, 0.25, 0.5, 0.35, 0.45, 0.15, 0.4, 0.3, 0.45, 0.35, 0.5, 0.45, 0.5, 0.5, 0.65, 0.45, 0.35, 0.35, 0.5, 0.5, 0.45, 0.5, 0.6, 0.3, 0.7, 0.6, 0.5, 0.5, 0.35, 0.6, 0.5, 0.45, 0.5, 0.55, 0.45, 0.5, 0.45, 0.6, 0.6, 0.65, 0.6, 0.65, 0.5, 0.5, 0.45, 0.4, 0.6, 0.55, 0.5, 0.5, 0.45, 0.45, 0.5, 0.5, 0.4, 0.5, 0.65, 0.55, 0.4, 0.65, 0.35, 0.35, 0.45, 0.3, 0.35, 0.6, 0.4, 0.5, 0.6, 0.35, 0.5, 0.45, 0.45, 0.6, 0.55, 0.5, 0.35, 0.65, 0.55, 0.45, 0.65, 0.65, 0.45, 0.25, 0.35, 0.45, 0.45, 0.5, 0.5, 0.35, 0.55, 0.4, 0.5, 0.55, 0.5, 0.6, 0.75, 0.5, 0.3, 0.2, 0.25, 0.35, 0.6, 0.5, 0.45, 0.55, 0.65, 0.6, 0.65, 0.45, 0.45, 0.65, 0.7, 0.6, 0.45, 0.5, 0.4, 0.4, 0.5, 0.55, 0.4, 0.65, 0.45, 0.5, 0.65, 0.55, 0.4, 0.35, 0.6, 0.5, 0.65, 0.35, 0.65, 0.5, 0.35, 0.5, 0.55, 0.65, 0.6, 0.7, 0.5, 0.55, 0.5, 0.4, 0.5, 0.2, 0.75, 0.55, 0.25, 0.6, 0.6, 0.7, 0.5, 0.5, 0.45, 0.45, 0.75, 0.6, 0.65, 0.5, 0.6, 0.55, 0.5, 0.55, 0.45, 0.3, 0.5, 0.65, 0.55, 0.5, 0.6, 0.5, 0.5, 0.45, 0.45, 0.65, 0.35, 0.5, 0.35, 0.65, 0.45, 0.75, 0.5, 0.5, 0.5, 0.55, 0.4, 0.4, 0.45, 0.35, 0.5, 0.5, 0.3, 0.4, 0.55, 0.65, 0.4, 0.4, 0.4, 0.45, 0.2, 0.45, 0.55, 0.45, 0.55, 0.75, 0.5, 0.55, 0.45, 0.35, 0.4, 0.7, 0.6, 0.55, 0.45, 0.55, 0.55, 0.45, 0.45, 0.5, 0.5, 0.8, 0.55, 0.5, 0.5, 0.35, 0.6, 0.7, 0.65, 0.4, 0.55, 0.45, 0.5, 0.5, 0.5, 0.45, 0.4, 0.6, 0.4, 0.55, 0.6, 0.5, 0.6, 0.5, 0.4, 0.3, 0.55, 0.6, 0.65, 0.55, 0.3, 0.5, 0.6, 0.35, 0.45, 0.45, 0.5, 0.3, 0.45, 0.45, 0.5, 0.4, 0.55, 0.6, 0.7, 0.4, 0.4, 0.5, 0.55, 0.6, 0.5, 0.4, 0.55, 0.55, 0.6, 0.45, 0.65, 0.5, 0.5, 0.55, 0.4, 0.4, 0.4, 0.3, 0.65, 0.6, 0.35, 0.55, 0.55, 0.45, 0.45, 0.6, 0.45, 0.35, 0.6, 0.65, 0.4, 0.45, 0.4, 0.6, 0.55, 0.4, 0.65, 0.35, 0.55, 0.55, 0.35, 0.4, 0.55, 0.45, 0.65, 0.5, 0.6, 0.55, 0.25, 0.7, 0.5, 0.5, 0.55, 0.5, 0.6, 0.55, 0.7, 0.6, 0.35, 0.55, 0.7, 0.3, 0.4, 0.6, 0.35, 0.5, 0.65, 0.55, 0.7, 0.45, 0.2, 0.35, 0.55, 0.4, 0.55, 0.4, 0.5, 0.5, 0.55, 0.45, 0.4, 0.45, 0.4, 0.5, 0.55, 0.65, 0.6, 0.5, 0.4, 0.5, 0.55, 0.6, 0.5, 0.5, 0.8, 0.65, 0.7, 0.7, 0.8, 0.7, 0.3, 0.5, 0.45, 0.45, 0.4, 0.4, 0.5, 0.5, 0.65, 0.6, 0.5, 0.5, 0.4, 0.5, 0.65, 0.45, 0.55, 0.4, 0.4, 0.35, 0.45, 0.3, 0.55, 0.4, 0.5, 0.4, 0.6, 0.5, 0.5, 0.5, 0.55, 0.4, 0.45, 0.35, 0.65, 0.65, 0.55, 0.45, 0.6, 0.4, 0.6, 0.3, 0.45, 0.6, 0.5, 0.6, 0.55, 0.75, 0.45, 0.45, 0.65, 0.5, 0.45, 0.5, 0.15, 0.5, 0.7, 0.45, 0.5, 0.5, 0.65, 0.6, 0.55, 0.4, 0.65, 0.5, 0.55, 0.6, 0.4, 0.6, 0.7, 0.55, 0.45, 0.5, 0.4, 0.4, 0.5, 0.4, 0.4, 0.6, 0.55, 0.35, 0.65, 0.5, 0.55, 0.6, 0.5, 0.35, 0.6, 0.35, 0.55, 0.55, 0.7, 0.45, 0.65, 0.65, 0.25, 0.5, 0.6, 0.55, 0.55, 0.5, 0.55, 0.45, 0.4, 0.65, 0.45, 0.45, 0.4, 0.35, 0.6, 0.45, 0.5, 0.45, 0.65, 0.6, 0.55, 0.45, 0.4, 0.2, 0.6, 0.4, 0.55, 0.5, 0.5, 0.6, 0.75, 0.4, 0.5, 0.4, 0.4, 0.45, 0.4, 0.4, 0.5, 0.65, 0.45, 0.5, 0.55, 0.65, 0.55, 0.55, 0.55, 0.3, 0.5, 0.45, 0.45, 0.3, 0.4, 0.5, 0.6, 0.6, 0.6, 0.65, 0.7, 0.7, 0.25, 0.55, 0.45, 0.35, 0.55, 0.4, 0.5, 0.4, 0.5, 0.6, 0.4, 0.6, 0.2, 0.4, 0.6, 0.35, 0.65, 0.7, 0.35, 0.5, 0.55, 0.5, 0.7, 0.55, 0.65, 0.55, 0.5, 0.45, 0.6, 0.45, 0.25, 0.5, 0.45, 0.3, 0.5, 0.45, 0.6, 0.5, 0.5, 0.55, 0.2, 0.7, 0.6, 0.3, 0.35, 0.6, 0.5, 0.45, 0.4, 0.45, 0.65, 0.4, 0.55, 0.6, 0.35, 0.45, 0.65, 0.35, 0.5, 0.5, 0.6, 0.65, 0.5, 0.45, 0.3, 0.8, 0.55, 0.5, 0.45, 0.15, 0.4, 0.65, 0.5, 0.65, 0.55, 0.5, 0.45, 0.5, 0.6, 0.3, 0.6, 0.5, 0.5, 0.45, 0.45, 0.35, 0.55, 0.55, 0.45, 0.45, 0.4, 0.55, 0.55, 0.5, 0.6, 0.5, 0.45, 0.6, 0.55, 0.65, 0.45, 0.5, 0.45, 0.55, 0.45, 0.5, 0.4, 0.45, 0.4, 0.5, 0.4, 0.5, 0.5, 0.45, 0.45, 0.3, 0.5, 0.5, 0.55, 0.45, 0.55, 0.6, 0.6, 0.5, 0.4, 0.35, 0.55, 0.7, 0.45, 0.45, 0.45, 0.75, 0.4, 0.55, 0.3, 0.65, 0.45, 0.35, 0.45, 0.35, 0.5, 0.65, 0.55, 0.55, 0.6, 0.3, 0.5, 0.55, 0.6, 0.35, 0.45, 0.55, 0.5, 0.4, 0.3, 0.3, 0.65, 0.4, 0.5, 0.6, 0.55, 0.65, 0.6, 0.35, 0.35, 0.5, 0.55, 0.5, 0.45, 0.2, 0.5, 0.3, 0.5, 0.4, 0.4, 0.45, 0.7, 0.4, 0.5, 0.3, 0.5, 0.4, 0.4, 0.6, 0.45, 0.55, 0.75, 0.5, 0.65, 0.45, 0.55, 0.6, 0.65, 0.7, 0.45, 0.45, 0.35, 0.7, 0.55, 0.4, 0.75, 0.45, 0.35, 0.35, 0.5, 0.65, 0.5, 0.45, 0.75, 0.35, 0.5, 0.4, 0.6, 0.6, 0.6, 0.5, 0.4, 0.45, 0.7, 0.55, 0.55, 0.45, 0.45, 0.25, 0.65, 0.7, 0.55, 0.45, 0.5, 0.7, 0.6, 0.55, 0.55, 0.45, 0.65, 0.4, 0.55, 0.45, 0.55, 0.35, 0.55, 0.35, 0.65, 0.45, 0.55, 0.6, 0.5, 0.6, 0.55, 0.3, 0.5, 0.5, 0.5, 0.55, 0.45, 0.55, 0.45, 0.5, 0.55, 0.6, 0.4, 0.55, 0.5, 0.45, 0.6, 0.65, 0.7, 0.55, 0.55, 0.55, 0.45, 0.35, 0.3, 0.5, 0.6, 0.35, 0.35, 0.45, 0.55, 0.5, 0.35, 0.7, 0.45, 0.6, 0.5, 0.65, 0.65, 0.5, 0.45, 0.7, 0.4, 0.5, 0.4, 0.35, 0.6, 0.5, 0.35, 0.65, 0.55, 0.3, 0.6, 0.5, 0.5, 0.6, 0.6, 0.4, 0.7, 0.6, 0.6, 0.4, 0.65, 0.45, 0.7, 0.6, 0.85, 0.75, 0.7, 0.5, 0.4, 0.5, 0.55, 0.7, 0.35, 0.45, 0.25, 0.55, 0.65, 0.6, 0.55, 0.55, 0.5, 0.45, 0.25, 0.5, 0.5, 0.6, 0.5, 0.45, 0.5, 0.5, 0.5, 0.55, 0.6, 0.7, 0.45, 0.45, 0.55, 0.55, 0.55, 0.65, 0.6, 0.3, 0.35, 0.55, 0.4, 0.3, 0.5, 0.35, 0.55, 0.5, 0.45, 0.35, 0.3, 0.5, 0.55, 0.55, 0.6, 0.5, 0.6, 0.6, 0.65, 0.2, 0.75, 0.75, 0.65, 0.5, 0.4, 0.6, 0.4, 0.45, 0.5, 0.45, 0.6, 0.5, 0.5, 0.45, 0.4, 0.55, 0.5, 0.35, 0.45, 0.5, 0.35, 0.3, 0.65, 0.5, 0.35, 0.5, 0.4, 0.45, 0.45, 0.45, 0.5, 0.3, 0.45, 0.4, 0.65, 0.4, 0.35, 0.5, 0.4, 0.35, 0.55, 0.25, 0.6, 0.45, 0.35, 0.65, 0.7, 0.75, 0.3, 0.7, 0.35, 0.5, 0.5, 0.45, 0.4, 0.5, 0.55, 0.55, 0.5, 0.5, 0.45, 0.65, 0.45, 0.45, 0.5, 0.35, 0.35, 0.55, 0.5, 0.7, 0.5, 0.65, 0.35, 0.45, 0.55, 0.45, 0.6, 0.25, 0.45, 0.55, 0.45, 0.4, 0.35, 0.7, 0.35, 0.4, 0.35, 0.5, 0.35, 0.5, 0.5, 0.6, 0.4, 0.65, 0.5, 0.5, 0.5, 0.65, 0.55, 0.5, 0.55, 0.7, 0.45, 0.35, 0.6, 0.3, 0.7, 0.65, 0.4, 0.65, 0.3, 0.5, 0.5, 0.5, 0.6, 0.45, 0.3, 0.7, 0.35, 0.45, 0.6, 0.55, 0.4, 0.45, 0.4, 0.45, 0.4, 0.6, 0.4, 0.4, 0.35, 0.5, 0.3, 0.5, 0.45, 0.6, 0.6, 0.5, 0.4, 0.5, 0.5, 0.4, 0.45, 0.45, 0.4, 0.6, 0.5, 0.5, 0.4, 0.3, 0.55, 0.65, 0.3, 0.5, 0.5, 0.55, 0.55, 0.5, 0.5, 0.5, 0.55, 0.4, 0.45, 0.45, 0.45, 0.35, 0.5, 0.65, 0.5, 0.6, 0.45, 0.55, 0.5, 0.2, 0.4, 0.6, 0.35, 0.6, 0.35, 0.25, 0.5, 0.5, 0.4, 0.45, 0.55, 0.6, 0.6, 0.65, 0.55, 0.6, 0.55, 0.5, 0.3, 0.5, 0.3, 0.4, 0.35, 0.6, 0.65, 0.65, 0.3, 0.5, 0.4, 0.55, 0.6, 0.5, 0.55, 0.4, 0.5, 0.35, 0.55, 0.4, 0.45, 0.5, 0.45, 0.55, 0.4, 0.35, 0.35, 0.6, 0.45, 0.5, 0.55, 0.45, 0.6, 0.25, 0.6, 0.55, 0.6, 0.65, 0.65, 0.65, 0.5, 0.6, 0.45, 0.55, 0.5, 0.5, 0.45, 0.6, 0.55, 0.55, 0.3, 0.5, 0.55, 0.3, 0.65, 0.6, 0.5, 0.7, 0.65, 0.5, 0.5, 0.5, 0.5, 0.45, 0.65, 0.55, 0.45, 0.55, 0.65, 0.65, 0.55, 0.45, 0.55, 0.45, 0.45, 0.45, 0.55, 0.55, 0.5, 0.55, 0.3, 0.45, 0.3, 0.55, 0.35, 0.25, 0.6, 0.3, 0.55, 0.65, 0.55, 0.45, 0.35, 0.45, 0.5, 0.45, 0.7, 0.35, 0.6, 0.55, 0.55, 0.55, 0.35, 0.6, 0.45, 0.5, 0.45, 0.45, 0.35, 0.3, 0.35, 0.75, 0.5, 0.7, 0.55, 0.6, 0.4, 0.5, 0.55, 0.25, 0.6, 0.5, 0.25, 0.5, 0.35, 0.5, 0.4, 0.45, 0.6, 0.4, 0.45, 0.5, 0.6, 0.5, 0.5, 0.6, 0.45, 0.55, 0.55, 0.45, 0.45, 0.65, 0.45, 0.4, 0.45, 0.55, 0.5, 0.65, 0.5, 0.5, 0.6, 0.4, 0.45, 0.4, 0.45, 0.45, 0.7, 0.5, 0.55, 0.5, 0.45, 0.55, 0.55, 0.6, 0.55, 0.3, 0.6, 0.4, 0.4, 0.55, 0.5, 0.6, 0.6, 0.6, 0.55, 0.35, 0.4, 0.5, 0.5, 0.35, 0.5, 0.55, 0.55, 0.45, 0.6, 0.75, 0.65, 0.4, 0.4, 0.4, 0.6, 0.35, 0.4, 0.65, 0.5, 0.3, 0.55, 0.35, 0.4, 0.5, 0.65, 0.55, 0.45, 0.4, 0.25, 0.6, 0.55, 0.4, 0.55, 0.4, 0.6, 0.55, 0.65, 0.6, 0.7, 0.7, 0.55, 0.6, 0.7, 0.45, 0.4, 0.35, 0.6, 0.4, 0.4, 0.6, 0.6, 0.4, 0.45, 0.4, 0.55, 0.6, 0.4, 0.65, 0.4, 0.4, 0.35, 0.55, 0.6, 0.35, 0.5, 0.3, 0.4, 0.25, 0.5, 0.4, 0.55, 0.45, 0.55, 0.3, 0.3, 0.7, 0.4, 0.45, 0.6, 0.45, 0.55, 0.75, 0.55, 0.45, 0.55, 0.45, 0.45, 0.5, 0.5, 0.5, 0.45, 0.4, 0.6, 0.35, 0.3, 0.4, 0.6, 0.65, 0.45, 0.55, 0.45, 0.55, 0.45, 0.5, 0.55, 0.6, 0.45, 0.55, 0.45, 0.5, 0.6, 0.5, 0.6, 0.45, 0.6, 0.5, 0.5, 0.7, 0.35, 0.4, 0.3, 0.7, 0.4, 0.5, 0.3, 0.55, 0.6, 0.45, 0.65, 0.35, 0.45, 0.65, 0.4, 0.2, 0.55, 0.4, 0.55, 0.8, 0.65, 0.35, 0.45, 0.3, 0.35, 0.45, 0.5, 0.45, 0.3, 0.4, 0.5, 0.4, 0.55, 0.5, 0.7, 0.45, 0.5, 0.65, 0.4, 0.7, 0.6, 0.55, 0.4, 0.35, 0.55, 0.5, 0.75, 0.55, 0.5, 0.6, 0.55, 0.35, 0.45, 0.55, 0.6, 0.25, 0.6, 0.65, 0.55, 0.45, 0.35, 0.3, 0.2, 0.45, 0.5, 0.4, 0.4, 0.55, 0.75, 0.65, 0.4, 0.6, 0.4, 0.55, 0.5, 0.6, 0.5, 0.65, 0.5, 0.65, 0.4, 0.45, 0.6, 0.45, 0.4, 0.55, 0.6, 0.55, 0.55, 0.5, 0.5, 0.65, 0.55, 0.5, 0.6, 0.5, 0.55, 0.55, 0.3, 0.15, 0.55, 0.65, 0.5, 0.35, 0.55, 0.55, 0.45, 0.45, 0.45, 0.55, 0.45, 0.35, 0.45, 0.5, 0.4, 0.55, 0.55, 0.5, 0.6, 0.3, 0.5, 0.55, 0.65, 0.4, 0.6, 0.5, 0.6, 0.4, 0.35, 0.3, 0.5, 0.45, 0.4, 0.6, 0.55, 0.45, 0.35, 0.5, 0.45, 0.6, 0.4, 0.55, 0.35, 0.2, 0.5, 0.45, 0.45, 0.55, 0.55, 0.7]\n"
          ],
          "name": "stdout"
        }
      ]
    },
    {
      "cell_type": "code",
      "metadata": {
        "colab_type": "code",
        "outputId": "e117fbfd-7fa9-4de3-a44d-7ccae048a1f1",
        "id": "JdES8jXz8kAG",
        "colab": {
          "base_uri": "https://localhost:8080/",
          "height": 269
        }
      },
      "source": [
        "import matplotlib.pyplot as plt\n",
        "import seaborn as sns\n",
        "fix, ax = plt.subplots()\n",
        "for sample in [sample_means_small, sample_means_large]:\n",
        "  sns.distplot(sample)"
      ],
      "execution_count": 0,
      "outputs": [
        {
          "output_type": "display_data",
          "data": {
            "image/png": "[encoded data removed]",
            "text/plain": [
              "<Figure size 432x288 with 1 Axes>"
            ]
          },
          "metadata": {
            "tags": []
          }
        }
      ]
    },
    {
      "cell_type": "markdown",
      "metadata": {
        "id": "EYqo5vZZSFUr",
        "colab_type": "text"
      },
      "source": [
        "## Standard Error of the Mean\n",
        "\n",
        "What does it mean to \"estimate\"? the Population mean?"
      ]
    },
    {
      "cell_type": "code",
      "metadata": {
        "id": "puGXH6vbSIE4",
        "colab_type": "code",
        "outputId": "46c2a939-9e41-4a2b-c327-0de7e1cfcde0",
        "colab": {
          "base_uri": "https://localhost:8080/",
          "height": 34
        }
      },
      "source": [
        "# Generate wait times for 2000 days\n",
        "n_patients = 10*np.random.poisson(2.5, 2000)\n",
        "n_patients"
      ],
      "execution_count": 0,
      "outputs": [
        {
          "output_type": "execute_result",
          "data": {
            "text/plain": [
              "array([40, 20, 10, ..., 30, 10, 30])"
            ]
          },
          "metadata": {
            "tags": []
          },
          "execution_count": 91
        }
      ]
    },
    {
      "cell_type": "code",
      "metadata": {
        "id": "vpzT4gckzzCm",
        "colab_type": "code",
        "outputId": "053c15bd-1fcd-4aad-c047-b6751f5c01a8",
        "colab": {
          "base_uri": "https://localhost:8080/",
          "height": 34
        }
      },
      "source": [
        "# To see all possible values of this distribution (10 to 90 patients)\n",
        "np.unique(n_patients)"
      ],
      "execution_count": 0,
      "outputs": [
        {
          "output_type": "execute_result",
          "data": {
            "text/plain": [
              "array([  0,  10,  20,  30,  40,  50,  60,  70,  80,  90, 100])"
            ]
          },
          "metadata": {
            "tags": []
          },
          "execution_count": 93
        }
      ]
    },
    {
      "cell_type": "code",
      "metadata": {
        "id": "ahdq9jyezzFK",
        "colab_type": "code",
        "outputId": "aa50196d-6396-4f88-84f4-407068f6f939",
        "colab": {
          "base_uri": "https://localhost:8080/",
          "height": 281
        }
      },
      "source": [
        "plt.hist(n_patients)\n",
        "plt.title('Distibution of patients between 10 pm and 11 pm');"
      ],
      "execution_count": 0,
      "outputs": [
        {
          "output_type": "display_data",
          "data": {
            "image/png": "[encoded data removed]",
            "text/plain": [
              "<Figure size 432x288 with 1 Axes>"
            ]
          },
          "metadata": {
            "tags": []
          }
        }
      ]
    },
    {
      "cell_type": "code",
      "metadata": {
        "id": "NS3krjR6zzIO",
        "colab_type": "code",
        "outputId": "21898cff-2fde-4cea-a25c-1304f3d189b8",
        "colab": {
          "base_uri": "https://localhost:8080/",
          "height": 34
        }
      },
      "source": [
        "# Mean in above distribution is closer to left\n",
        "n_patients.mean()"
      ],
      "execution_count": 0,
      "outputs": [
        {
          "output_type": "execute_result",
          "data": {
            "text/plain": [
              "24.865"
            ]
          },
          "metadata": {
            "tags": []
          },
          "execution_count": 97
        }
      ]
    },
    {
      "cell_type": "code",
      "metadata": {
        "id": "obVrGJ2G0aKO",
        "colab_type": "code",
        "outputId": "eb8ab529-3698-4d57-e6e3-d9c689c43ca3",
        "colab": {
          "base_uri": "https://localhost:8080/",
          "height": 34
        }
      },
      "source": [
        "# Median is less than the mean above\n",
        "np.median(n_patients)"
      ],
      "execution_count": 0,
      "outputs": [
        {
          "output_type": "execute_result",
          "data": {
            "text/plain": [
              "20.0"
            ]
          },
          "metadata": {
            "tags": []
          },
          "execution_count": 98
        }
      ]
    },
    {
      "cell_type": "code",
      "metadata": {
        "id": "eGfp01Ww0aNA",
        "colab_type": "code",
        "outputId": "a6d796d4-3f1f-419c-bb72-0a9cde15c756",
        "colab": {
          "base_uri": "https://localhost:8080/",
          "height": 204
        }
      },
      "source": [
        "# Create another sample distribution\n",
        "population = pd.Series(10*np.random.poisson(2.5, 1000000))\n",
        "population[:10]"
      ],
      "execution_count": 0,
      "outputs": [
        {
          "output_type": "execute_result",
          "data": {
            "text/plain": [
              "0    50\n",
              "1    20\n",
              "2    20\n",
              "3    70\n",
              "4    30\n",
              "5    40\n",
              "6    10\n",
              "7    20\n",
              "8    10\n",
              "9    40\n",
              "dtype: int64"
            ]
          },
          "metadata": {
            "tags": []
          },
          "execution_count": 101
        }
      ]
    },
    {
      "cell_type": "code",
      "metadata": {
        "id": "BpUME8y40aQZ",
        "colab_type": "code",
        "colab": {}
      },
      "source": [
        "# generate more samples instead of one using population above\n",
        "sample_means = []\n",
        "for _ in range(1000):\n",
        "  m = population.sample(100).mean()\n",
        "  sample_means.append(m)"
      ],
      "execution_count": 0,
      "outputs": []
    },
    {
      "cell_type": "code",
      "metadata": {
        "id": "C1fDvATazzNw",
        "colab_type": "code",
        "outputId": "2de911bc-3c10-4c81-f4e9-a1fa70753cb9",
        "colab": {
          "base_uri": "https://localhost:8080/",
          "height": 269
        }
      },
      "source": [
        "plt.hist(sample_means, bins=15);"
      ],
      "execution_count": 0,
      "outputs": [
        {
          "output_type": "display_data",
          "data": {
            "image/png": "[encoded data removed]",
            "text/plain": [
              "<Figure size 432x288 with 1 Axes>"
            ]
          },
          "metadata": {
            "tags": []
          }
        }
      ]
    },
    {
      "cell_type": "markdown",
      "metadata": {
        "id": "nfdQf8QYUUmw",
        "colab_type": "text"
      },
      "source": [
        "## Build and Interpret a Confidence Interval\n",
        "\n",
        "<img src=\"https://github.com/ryanallredblog/ryanallredblog.github.io/blob/master/img/Confidence_Interval.png?raw=true\" width=400>"
      ]
    },
    {
      "cell_type": "code",
      "metadata": {
        "id": "k82z6tNT2Aur",
        "colab_type": "code",
        "colab": {}
      },
      "source": [
        "# https://www.youtube.com/watch?v=J1twbrHel3o\n",
        "# https://www.youtube.com/watch?v=hlM7zdf7zwU\n",
        "# https://www.youtube.com/watch?v=27iSnzss2wM"
      ],
      "execution_count": 0,
      "outputs": []
    },
    {
      "cell_type": "code",
      "metadata": {
        "id": "k47hM4eS2BjU",
        "colab_type": "code",
        "outputId": "4a11afc9-8323-4c6c-848f-61438fcfac4e",
        "colab": {
          "base_uri": "https://localhost:8080/",
          "height": 34
        }
      },
      "source": [
        "# Generate a theoretical population and give some context to it, politicians who want to figure out teh outcome of the election will be, 1,000,000 citizens, probability of .45 (two candidates, A and B--45% will vote for A, 55% will vote for B)\n",
        "pop = pd.Series(np.random.binomial(1, p=0.45, size=1000000))\n",
        "pop.sum()"
      ],
      "execution_count": 0,
      "outputs": [
        {
          "output_type": "execute_result",
          "data": {
            "text/plain": [
              "449837"
            ]
          },
          "metadata": {
            "tags": []
          },
          "execution_count": 113
        }
      ]
    },
    {
      "cell_type": "code",
      "metadata": {
        "id": "QcL3Z-2z8PNs",
        "colab_type": "code",
        "colab": {}
      },
      "source": [
        "# So number of people that will vote for A is 449837 for example"
      ],
      "execution_count": 0,
      "outputs": []
    },
    {
      "cell_type": "code",
      "metadata": {
        "id": "tBx71Kf0UjT3",
        "colab_type": "code",
        "colab": {}
      },
      "source": [
        "from scipy import stats\n",
        "\n",
        "def confidence_interval(data, confidence=0.95):\n",
        "  \"\"\"\n",
        "  Calculate a confidence interval around a sample mean for given data.\n",
        "  Using t-distribution and two-tailed test, default 95% confidence. \n",
        "  \n",
        "  Arguments:\n",
        "    data - iterable (list or numpy array) of sample observations\n",
        "    confidence - level of confidence for the interval\n",
        "  \n",
        "  Returns:\n",
        "    tuple of (mean, lower bound, upper bound)\n",
        "  \"\"\"\n",
        "  data = np.array(data)\n",
        "  mean = np.mean(data)\n",
        "  n = len(data)\n",
        "  stderr = stats.sem(data)\n",
        "  interval = stderr * stats.t.ppf((1 + confidence) / 2.0, n - 1)  # stats.t.ppf((1 + confidence) / 2.0, n - 1) this computes t\n",
        "  return (mean, mean - interval, mean + interval)  # returns mean of the data itself, minus the interal-upper and lower bounds"
      ],
      "execution_count": 0,
      "outputs": []
    },
    {
      "cell_type": "code",
      "metadata": {
        "id": "mtj46CuI2L8Z",
        "colab_type": "code",
        "outputId": "e4f0ec26-68ec-4c41-f932-ef8f09261ca3",
        "colab": {
          "base_uri": "https://localhost:8080/",
          "height": 119
        }
      },
      "source": [
        "# sample\n",
        "sample_size = 100  # 100 people in city\n",
        "sample = pop.sample(sample_size)\n",
        "sample.head()"
      ],
      "execution_count": 0,
      "outputs": [
        {
          "output_type": "execute_result",
          "data": {
            "text/plain": [
              "44443     0\n",
              "852258    0\n",
              "4106      0\n",
              "167816    0\n",
              "703543    0\n",
              "dtype: int64"
            ]
          },
          "metadata": {
            "tags": []
          },
          "execution_count": 125
        }
      ]
    },
    {
      "cell_type": "code",
      "metadata": {
        "id": "ugUxUuuj2L_P",
        "colab_type": "code",
        "outputId": "c06eb584-86d0-40f1-faa2-ce5e1953432d",
        "colab": {
          "base_uri": "https://localhost:8080/",
          "height": 34
        }
      },
      "source": [
        "# now we can get our sample mean\n",
        "sample_mean = sample.mean()  # average on how people would vote\n",
        "sample_std = np.std(sample, ddof=1) # set ddof to 1 for the std\n",
        "print(sample_mean, sample_std)"
      ],
      "execution_count": 0,
      "outputs": [
        {
          "output_type": "stream",
          "text": [
            "0.42 0.49604496374885837\n"
          ],
          "name": "stdout"
        }
      ]
    },
    {
      "cell_type": "code",
      "metadata": {
        "id": "Lo7z8RYf2MB3",
        "colab_type": "code",
        "outputId": "bbdb0bb5-808a-4275-988b-6f4177f49f0e",
        "colab": {
          "base_uri": "https://localhost:8080/",
          "height": 34
        }
      },
      "source": [
        "# now calculate the standard error\n",
        "standard_error = sample_std/np.sqrt(sample_size)\n",
        "standard_error"
      ],
      "execution_count": 0,
      "outputs": [
        {
          "output_type": "execute_result",
          "data": {
            "text/plain": [
              "0.049604496374885836"
            ]
          },
          "metadata": {
            "tags": []
          },
          "execution_count": 127
        }
      ]
    },
    {
      "cell_type": "code",
      "metadata": {
        "id": "EuDjui1x2TwO",
        "colab_type": "code",
        "outputId": "c2ca617a-50fb-4b53-fb25-ac24ba885435",
        "colab": {
          "base_uri": "https://localhost:8080/",
          "height": 34
        }
      },
      "source": [
        "# Now let's get the t (upper and lower bounds)\n",
        "t = 1.984 # 95% confidence   # use to get from a table in a book\n",
        "(sample_mean, sample_mean - t*standard_error, sample_mean + t*standard_error)\n",
        "# So what this says, in 95 cases out of 100, on average, 95% will produce range that will contain a population mean of .45 and 5% will have a confidence interval that will not contain the population mean"
      ],
      "execution_count": 0,
      "outputs": [
        {
          "output_type": "execute_result",
          "data": {
            "text/plain": [
              "(0.42, 0.3215846791922265, 0.5184153208077735)"
            ]
          },
          "metadata": {
            "tags": []
          },
          "execution_count": 130
        }
      ]
    },
    {
      "cell_type": "code",
      "metadata": {
        "id": "CnytCgHk2MEk",
        "colab_type": "code",
        "outputId": "3aebab8e-ba40-4f70-fd97-9d83665b6990",
        "colab": {
          "base_uri": "https://localhost:8080/",
          "height": 34
        }
      },
      "source": [
        "# just run this code from function above and compare to above---very close\n",
        "confidence_interval(sample, confidence=0.95)"
      ],
      "execution_count": 0,
      "outputs": [
        {
          "output_type": "execute_result",
          "data": {
            "text/plain": [
              "(0.42, 0.32157391742190056, 0.5184260825780994)"
            ]
          },
          "metadata": {
            "tags": []
          },
          "execution_count": 131
        }
      ]
    },
    {
      "cell_type": "markdown",
      "metadata": {
        "id": "C4rtc8luVUAK",
        "colab_type": "text"
      },
      "source": [
        "## Graphically Represent a Confidence Interval"
      ]
    },
    {
      "cell_type": "code",
      "metadata": {
        "id": "pz6F9_3_VmKr",
        "colab_type": "code",
        "colab": {}
      },
      "source": [
        ""
      ],
      "execution_count": 0,
      "outputs": []
    },
    {
      "cell_type": "markdown",
      "metadata": {
        "id": "_oy0uoBGeoEb",
        "colab_type": "text"
      },
      "source": [
        "## Relationship between Confidence Intervals and T-tests\n",
        "\n",
        "Confidence Interval == Bounds of statistical significance for our t-test\n",
        "\n",
        "A sample mean that falls inside of our confidence interval will \"FAIL TO REJECT\" our null hypothesis\n",
        "\n",
        "A sample mean that falls outside of our confidence interval will \"REJECT\" our null hypothesis"
      ]
    },
    {
      "cell_type": "code",
      "metadata": {
        "id": "izIyVavzfCXS",
        "colab_type": "code",
        "colab": {}
      },
      "source": [
        "from scipy.stats import t, ttest_1samp"
      ],
      "execution_count": 0,
      "outputs": []
    },
    {
      "cell_type": "code",
      "metadata": {
        "id": "Y7HwdMwDfL1N",
        "colab_type": "code",
        "outputId": "43309626-838a-4d17-8507-038e7a0f6b74",
        "colab": {
          "base_uri": "https://localhost:8080/",
          "height": 55
        }
      },
      "source": [
        "import numpy as np\n",
        "\n",
        "coinflip_means = []\n",
        "for x in range(0,100):\n",
        "  coinflips = np.random.binomial(n=1, p=.5, size=30)\n",
        "  coinflip_means.append(coinflips.mean())\n",
        "\n",
        "print(coinflip_means)"
      ],
      "execution_count": 0,
      "outputs": [
        {
          "output_type": "stream",
          "text": [
            "[0.7333333333333333, 0.43333333333333335, 0.5, 0.43333333333333335, 0.5, 0.5, 0.5333333333333333, 0.5, 0.4, 0.43333333333333335, 0.3333333333333333, 0.5333333333333333, 0.5333333333333333, 0.4666666666666667, 0.5, 0.6, 0.6333333333333333, 0.5, 0.3333333333333333, 0.43333333333333335, 0.4666666666666667, 0.43333333333333335, 0.4666666666666667, 0.5333333333333333, 0.43333333333333335, 0.7, 0.7, 0.5333333333333333, 0.5, 0.6666666666666666, 0.43333333333333335, 0.43333333333333335, 0.4, 0.5666666666666667, 0.5333333333333333, 0.6333333333333333, 0.4666666666666667, 0.5333333333333333, 0.36666666666666664, 0.4666666666666667, 0.4, 0.6333333333333333, 0.5666666666666667, 0.5666666666666667, 0.7333333333333333, 0.4, 0.4666666666666667, 0.6, 0.5333333333333333, 0.6333333333333333, 0.4666666666666667, 0.5333333333333333, 0.43333333333333335, 0.5, 0.36666666666666664, 0.4, 0.5666666666666667, 0.5, 0.36666666666666664, 0.5666666666666667, 0.7, 0.43333333333333335, 0.36666666666666664, 0.5666666666666667, 0.5, 0.5333333333333333, 0.5333333333333333, 0.4, 0.36666666666666664, 0.6, 0.6, 0.43333333333333335, 0.3333333333333333, 0.5333333333333333, 0.4666666666666667, 0.3333333333333333, 0.6333333333333333, 0.43333333333333335, 0.43333333333333335, 0.5666666666666667, 0.5666666666666667, 0.5, 0.4666666666666667, 0.5, 0.5333333333333333, 0.43333333333333335, 0.5666666666666667, 0.4, 0.5, 0.4, 0.43333333333333335, 0.5666666666666667, 0.5666666666666667, 0.5, 0.43333333333333335, 0.5666666666666667, 0.5666666666666667, 0.4666666666666667, 0.5, 0.43333333333333335]\n"
          ],
          "name": "stdout"
        }
      ]
    },
    {
      "cell_type": "code",
      "metadata": {
        "id": "nQDo-ZXlfOvR",
        "colab_type": "code",
        "outputId": "c2e8386e-a0c4-49a4-f2ca-447fa92463f9",
        "colab": {
          "base_uri": "https://localhost:8080/",
          "height": 35
        }
      },
      "source": [
        "# Sample Size\n",
        "n = len(coinflip_means)\n",
        "# Degrees of Freedom\n",
        "dof = n-1\n",
        "# The Mean of Means:\n",
        "mean = np.mean(coinflip_means)\n",
        "# Sample Standard Deviation\n",
        "sample_std = np.std(coinflip_means, ddof=1)\n",
        "# Standard Error\n",
        "std_err = sample_std/n**.5\n",
        "\n",
        "CI = t.interval(.95, dof, loc=mean, scale=std_err)\n",
        "print(\"95% Confidence Interval: \", CI)"
      ],
      "execution_count": 0,
      "outputs": [
        {
          "output_type": "stream",
          "text": [
            "95% Confidence Interval:  (0.48189276007256693, 0.5181072399274331)\n"
          ],
          "name": "stdout"
        }
      ]
    },
    {
      "cell_type": "code",
      "metadata": {
        "id": "PiaALHSNfWou",
        "colab_type": "code",
        "outputId": "612dbe6c-be4e-4cbb-9aeb-81309fb54529",
        "colab": {
          "base_uri": "https://localhost:8080/",
          "height": 52
        }
      },
      "source": [
        "'''You can roll your own CI calculation pretty easily. \n",
        "The only thing that's a little bit challenging \n",
        "is understanding the t stat lookup'''\n",
        "\n",
        "# 95% confidence interval\n",
        "t_stat = t.ppf(.975, dof)\n",
        "print(\"t Statistic:\", t_stat)\n",
        "\n",
        "CI = (mean-(t_stat*std_err), mean+(t_stat*std_err))\n",
        "print(\"Confidence Interval\", CI)"
      ],
      "execution_count": 0,
      "outputs": [
        {
          "output_type": "stream",
          "text": [
            "t Statistic: 1.9842169515086827\n",
            "Confidence Interval (0.48189276007256693, 0.5181072399274331)\n"
          ],
          "name": "stdout"
        }
      ]
    },
    {
      "cell_type": "markdown",
      "metadata": {
        "id": "EamZNJhAf-fY",
        "colab_type": "text"
      },
      "source": [
        "A null hypothesis that's just inside of our confidence interval == fail to reject\n",
        "\n"
      ]
    },
    {
      "cell_type": "code",
      "metadata": {
        "id": "cNpzYbjpfirR",
        "colab_type": "code",
        "outputId": "ec1072cb-5130-43c8-c026-df6728f521e8",
        "colab": {
          "base_uri": "https://localhost:8080/",
          "height": 35
        }
      },
      "source": [
        "ttest_1samp(coinflip_means, .49)"
      ],
      "execution_count": 0,
      "outputs": [
        {
          "output_type": "execute_result",
          "data": {
            "text/plain": [
              "Ttest_1sampResult(statistic=1.0958141381351718, pvalue=0.2758187277462794)"
            ]
          },
          "metadata": {
            "tags": []
          },
          "execution_count": 28
        }
      ]
    },
    {
      "cell_type": "markdown",
      "metadata": {
        "id": "hO34mbL9gHn1",
        "colab_type": "text"
      },
      "source": [
        "A null hypothesis that's just outside of our confidence interval == reject\n",
        "\n"
      ]
    },
    {
      "cell_type": "code",
      "metadata": {
        "id": "N4SUjj82gKlv",
        "colab_type": "code",
        "outputId": "8acaad7f-e23a-4c7a-a6aa-dc5c6a19b337",
        "colab": {
          "base_uri": "https://localhost:8080/",
          "height": 35
        }
      },
      "source": [
        "ttest_1samp(coinflip_means, .4818927)"
      ],
      "execution_count": 0,
      "outputs": [
        {
          "output_type": "execute_result",
          "data": {
            "text/plain": [
              "Ttest_1sampResult(statistic=1.9842235343454973, pvalue=0.04999925456754134)"
            ]
          },
          "metadata": {
            "tags": []
          },
          "execution_count": 31
        }
      ]
    },
    {
      "cell_type": "markdown",
      "metadata": {
        "id": "pTIzrkKdUaLl",
        "colab_type": "text"
      },
      "source": [
        "## Run a $\\chi^{2}$ Test \"by hand\" (Using Numpy)"
      ]
    },
    {
      "cell_type": "code",
      "metadata": {
        "id": "DDsovHUyUj3v",
        "colab_type": "code",
        "outputId": "24e603c9-0782-43d4-d41e-0a52e55fd806",
        "colab": {
          "base_uri": "https://localhost:8080/",
          "height": 221
        }
      },
      "source": [
        "# make a crosstab\n",
        "df = pd.read_csv('https://raw.githubusercontent.com/ryanleeallred/datasets/master/adult.csv', na_values=\" ?\")\n",
        "print(df.shape)\n",
        "df.head()"
      ],
      "execution_count": 0,
      "outputs": [
        {
          "output_type": "stream",
          "text": [
            "(32561, 15)\n"
          ],
          "name": "stdout"
        },
        {
          "output_type": "execute_result",
          "data": {
            "text/html": [
              "<div>\n",
              "<style scoped>\n",
              "    .dataframe tbody tr th:only-of-type {\n",
              "        vertical-align: middle;\n",
              "    }\n",
              "\n",
              "    .dataframe tbody tr th {\n",
              "        vertical-align: top;\n",
              "    }\n",
              "\n",
              "    .dataframe thead th {\n",
              "        text-align: right;\n",
              "    }\n",
              "</style>\n",
              "<table border=\"1\" class=\"dataframe\">\n",
              "  <thead>\n",
              "    <tr style=\"text-align: right;\">\n",
              "      <th></th>\n",
              "      <th>age</th>\n",
              "      <th>workclass</th>\n",
              "      <th>fnlwgt</th>\n",
              "      <th>education</th>\n",
              "      <th>education-num</th>\n",
              "      <th>marital-status</th>\n",
              "      <th>occupation</th>\n",
              "      <th>relationship</th>\n",
              "      <th>race</th>\n",
              "      <th>sex</th>\n",
              "      <th>capital-gain</th>\n",
              "      <th>capital-loss</th>\n",
              "      <th>hours-per-week</th>\n",
              "      <th>country</th>\n",
              "      <th>salary</th>\n",
              "    </tr>\n",
              "  </thead>\n",
              "  <tbody>\n",
              "    <tr>\n",
              "      <th>0</th>\n",
              "      <td>39</td>\n",
              "      <td>State-gov</td>\n",
              "      <td>77516</td>\n",
              "      <td>Bachelors</td>\n",
              "      <td>13</td>\n",
              "      <td>Never-married</td>\n",
              "      <td>Adm-clerical</td>\n",
              "      <td>Not-in-family</td>\n",
              "      <td>White</td>\n",
              "      <td>Male</td>\n",
              "      <td>2174</td>\n",
              "      <td>0</td>\n",
              "      <td>40</td>\n",
              "      <td>United-States</td>\n",
              "      <td>&lt;=50K</td>\n",
              "    </tr>\n",
              "    <tr>\n",
              "      <th>1</th>\n",
              "      <td>50</td>\n",
              "      <td>Self-emp-not-inc</td>\n",
              "      <td>83311</td>\n",
              "      <td>Bachelors</td>\n",
              "      <td>13</td>\n",
              "      <td>Married-civ-spouse</td>\n",
              "      <td>Exec-managerial</td>\n",
              "      <td>Husband</td>\n",
              "      <td>White</td>\n",
              "      <td>Male</td>\n",
              "      <td>0</td>\n",
              "      <td>0</td>\n",
              "      <td>13</td>\n",
              "      <td>United-States</td>\n",
              "      <td>&lt;=50K</td>\n",
              "    </tr>\n",
              "    <tr>\n",
              "      <th>2</th>\n",
              "      <td>38</td>\n",
              "      <td>Private</td>\n",
              "      <td>215646</td>\n",
              "      <td>HS-grad</td>\n",
              "      <td>9</td>\n",
              "      <td>Divorced</td>\n",
              "      <td>Handlers-cleaners</td>\n",
              "      <td>Not-in-family</td>\n",
              "      <td>White</td>\n",
              "      <td>Male</td>\n",
              "      <td>0</td>\n",
              "      <td>0</td>\n",
              "      <td>40</td>\n",
              "      <td>United-States</td>\n",
              "      <td>&lt;=50K</td>\n",
              "    </tr>\n",
              "    <tr>\n",
              "      <th>3</th>\n",
              "      <td>53</td>\n",
              "      <td>Private</td>\n",
              "      <td>234721</td>\n",
              "      <td>11th</td>\n",
              "      <td>7</td>\n",
              "      <td>Married-civ-spouse</td>\n",
              "      <td>Handlers-cleaners</td>\n",
              "      <td>Husband</td>\n",
              "      <td>Black</td>\n",
              "      <td>Male</td>\n",
              "      <td>0</td>\n",
              "      <td>0</td>\n",
              "      <td>40</td>\n",
              "      <td>United-States</td>\n",
              "      <td>&lt;=50K</td>\n",
              "    </tr>\n",
              "    <tr>\n",
              "      <th>4</th>\n",
              "      <td>28</td>\n",
              "      <td>Private</td>\n",
              "      <td>338409</td>\n",
              "      <td>Bachelors</td>\n",
              "      <td>13</td>\n",
              "      <td>Married-civ-spouse</td>\n",
              "      <td>Prof-specialty</td>\n",
              "      <td>Wife</td>\n",
              "      <td>Black</td>\n",
              "      <td>Female</td>\n",
              "      <td>0</td>\n",
              "      <td>0</td>\n",
              "      <td>40</td>\n",
              "      <td>Cuba</td>\n",
              "      <td>&lt;=50K</td>\n",
              "    </tr>\n",
              "  </tbody>\n",
              "</table>\n",
              "</div>"
            ],
            "text/plain": [
              "   age          workclass  fnlwgt  ... hours-per-week         country  salary\n",
              "0   39          State-gov   77516  ...             40   United-States   <=50K\n",
              "1   50   Self-emp-not-inc   83311  ...             13   United-States   <=50K\n",
              "2   38            Private  215646  ...             40   United-States   <=50K\n",
              "3   53            Private  234721  ...             40   United-States   <=50K\n",
              "4   28            Private  338409  ...             40            Cuba   <=50K\n",
              "\n",
              "[5 rows x 15 columns]"
            ]
          },
          "metadata": {
            "tags": []
          },
          "execution_count": 132
        }
      ]
    },
    {
      "cell_type": "code",
      "metadata": {
        "id": "4mdONsb__GzZ",
        "colab_type": "code",
        "outputId": "374a4402-656e-4e59-f1ab-44c41fc6f060",
        "colab": {
          "base_uri": "https://localhost:8080/",
          "height": 269
        }
      },
      "source": [
        "df['hours-per-week'].hist(bins=20);  # focus on hours per week"
      ],
      "execution_count": 0,
      "outputs": [
        {
          "output_type": "display_data",
          "data": {
            "image/png": "[encoded data removed]",
            "text/plain": [
              "<Figure size 432x288 with 1 Axes>"
            ]
          },
          "metadata": {
            "tags": []
          }
        }
      ]
    },
    {
      "cell_type": "code",
      "metadata": {
        "id": "aCHVQelc_G2K",
        "colab_type": "code",
        "outputId": "35633d79-897f-4492-b45c-dbd812716dd7",
        "colab": {
          "base_uri": "https://localhost:8080/",
          "height": 173
        }
      },
      "source": [
        "df.describe(exclude='number')"
      ],
      "execution_count": 0,
      "outputs": [
        {
          "output_type": "execute_result",
          "data": {
            "text/html": [
              "<div>\n",
              "<style scoped>\n",
              "    .dataframe tbody tr th:only-of-type {\n",
              "        vertical-align: middle;\n",
              "    }\n",
              "\n",
              "    .dataframe tbody tr th {\n",
              "        vertical-align: top;\n",
              "    }\n",
              "\n",
              "    .dataframe thead th {\n",
              "        text-align: right;\n",
              "    }\n",
              "</style>\n",
              "<table border=\"1\" class=\"dataframe\">\n",
              "  <thead>\n",
              "    <tr style=\"text-align: right;\">\n",
              "      <th></th>\n",
              "      <th>workclass</th>\n",
              "      <th>education</th>\n",
              "      <th>marital-status</th>\n",
              "      <th>occupation</th>\n",
              "      <th>relationship</th>\n",
              "      <th>race</th>\n",
              "      <th>sex</th>\n",
              "      <th>country</th>\n",
              "      <th>salary</th>\n",
              "    </tr>\n",
              "  </thead>\n",
              "  <tbody>\n",
              "    <tr>\n",
              "      <th>count</th>\n",
              "      <td>30725</td>\n",
              "      <td>32561</td>\n",
              "      <td>32561</td>\n",
              "      <td>30718</td>\n",
              "      <td>32561</td>\n",
              "      <td>32561</td>\n",
              "      <td>32561</td>\n",
              "      <td>31978</td>\n",
              "      <td>32561</td>\n",
              "    </tr>\n",
              "    <tr>\n",
              "      <th>unique</th>\n",
              "      <td>8</td>\n",
              "      <td>16</td>\n",
              "      <td>7</td>\n",
              "      <td>14</td>\n",
              "      <td>6</td>\n",
              "      <td>5</td>\n",
              "      <td>2</td>\n",
              "      <td>41</td>\n",
              "      <td>2</td>\n",
              "    </tr>\n",
              "    <tr>\n",
              "      <th>top</th>\n",
              "      <td>Private</td>\n",
              "      <td>HS-grad</td>\n",
              "      <td>Married-civ-spouse</td>\n",
              "      <td>Prof-specialty</td>\n",
              "      <td>Husband</td>\n",
              "      <td>White</td>\n",
              "      <td>Male</td>\n",
              "      <td>United-States</td>\n",
              "      <td>&lt;=50K</td>\n",
              "    </tr>\n",
              "    <tr>\n",
              "      <th>freq</th>\n",
              "      <td>22696</td>\n",
              "      <td>10501</td>\n",
              "      <td>14976</td>\n",
              "      <td>4140</td>\n",
              "      <td>13193</td>\n",
              "      <td>27816</td>\n",
              "      <td>21790</td>\n",
              "      <td>29170</td>\n",
              "      <td>24720</td>\n",
              "    </tr>\n",
              "  </tbody>\n",
              "</table>\n",
              "</div>"
            ],
            "text/plain": [
              "       workclass education       marital-status  ...    sex         country  salary\n",
              "count      30725     32561                32561  ...  32561           31978   32561\n",
              "unique         8        16                    7  ...      2              41       2\n",
              "top      Private   HS-grad   Married-civ-spouse  ...   Male   United-States   <=50K\n",
              "freq       22696     10501                14976  ...  21790           29170   24720\n",
              "\n",
              "[4 rows x 9 columns]"
            ]
          },
          "metadata": {
            "tags": []
          },
          "execution_count": 134
        }
      ]
    },
    {
      "cell_type": "code",
      "metadata": {
        "id": "oGgxPMTK_MMd",
        "colab_type": "code",
        "outputId": "49cc9287-fa96-4121-adee-a018db927379",
        "colab": {
          "base_uri": "https://localhost:8080/",
          "height": 136
        }
      },
      "source": [
        "# see if difference in sex in hours per week worked so turn hours-per-week into a category, nonnumerical and compare to sex\n",
        "cut_points = [0, 9, 19, 29, 39, 49, 500]  # cutoff points for hours per week\n",
        "label_names = ['0-9','10-19','20-29','30-39','40-49','50+'] # splitting it into these buckets\n",
        "df['hours_per_week_categories'] = pd.cut(df['hours-per-week'], cut_points, labels=label_names)\n",
        "df['hours_per_week_categories'].value_counts()"
      ],
      "execution_count": 0,
      "outputs": [
        {
          "output_type": "execute_result",
          "data": {
            "text/plain": [
              "40-49    18336\n",
              "50+       6462\n",
              "30-39     3667\n",
              "20-29     2392\n",
              "10-19     1246\n",
              "0-9        458\n",
              "Name: hours_per_week_categories, dtype: int64"
            ]
          },
          "metadata": {
            "tags": []
          },
          "execution_count": 135
        }
      ]
    },
    {
      "cell_type": "code",
      "metadata": {
        "id": "QdkJ10kr_MPG",
        "colab_type": "code",
        "outputId": "84dff9e7-2761-4f5e-b096-c29d6b2cb53a",
        "colab": {
          "base_uri": "https://localhost:8080/",
          "height": 68
        }
      },
      "source": [
        "df['sex'].value_counts()"
      ],
      "execution_count": 0,
      "outputs": [
        {
          "output_type": "execute_result",
          "data": {
            "text/plain": [
              " Male      21790\n",
              " Female    10771\n",
              "Name: sex, dtype: int64"
            ]
          },
          "metadata": {
            "tags": []
          },
          "execution_count": 136
        }
      ]
    },
    {
      "cell_type": "code",
      "metadata": {
        "id": "eo7kAODz_MRx",
        "colab_type": "code",
        "outputId": "4fd55b8e-49cf-4a40-de9b-d9a4d32129a3",
        "colab": {
          "base_uri": "https://localhost:8080/",
          "height": 173
        }
      },
      "source": [
        "# now create the crosstab\n",
        "df = df.sort_values(by='hours_per_week_categories') # technically not needed but bug in Pandas and totals will be wrong so sorting it to fix that issue\n",
        "# https://github.com/pandas-dev/pandas/issues/25278  \n",
        "contingency_table = pd.crosstab(df['sex'], df['hours_per_week_categories'], margins=True)\n",
        "contingency_table"
      ],
      "execution_count": 0,
      "outputs": [
        {
          "output_type": "execute_result",
          "data": {
            "text/html": [
              "<div>\n",
              "<style scoped>\n",
              "    .dataframe tbody tr th:only-of-type {\n",
              "        vertical-align: middle;\n",
              "    }\n",
              "\n",
              "    .dataframe tbody tr th {\n",
              "        vertical-align: top;\n",
              "    }\n",
              "\n",
              "    .dataframe thead th {\n",
              "        text-align: right;\n",
              "    }\n",
              "</style>\n",
              "<table border=\"1\" class=\"dataframe\">\n",
              "  <thead>\n",
              "    <tr style=\"text-align: right;\">\n",
              "      <th>hours_per_week_categories</th>\n",
              "      <th>0-9</th>\n",
              "      <th>10-19</th>\n",
              "      <th>20-29</th>\n",
              "      <th>30-39</th>\n",
              "      <th>40-49</th>\n",
              "      <th>50+</th>\n",
              "      <th>All</th>\n",
              "    </tr>\n",
              "    <tr>\n",
              "      <th>sex</th>\n",
              "      <th></th>\n",
              "      <th></th>\n",
              "      <th></th>\n",
              "      <th></th>\n",
              "      <th></th>\n",
              "      <th></th>\n",
              "      <th></th>\n",
              "    </tr>\n",
              "  </thead>\n",
              "  <tbody>\n",
              "    <tr>\n",
              "      <th>Female</th>\n",
              "      <td>235</td>\n",
              "      <td>671</td>\n",
              "      <td>1287</td>\n",
              "      <td>1914</td>\n",
              "      <td>5636</td>\n",
              "      <td>1028</td>\n",
              "      <td>10771</td>\n",
              "    </tr>\n",
              "    <tr>\n",
              "      <th>Male</th>\n",
              "      <td>223</td>\n",
              "      <td>575</td>\n",
              "      <td>1105</td>\n",
              "      <td>1753</td>\n",
              "      <td>12700</td>\n",
              "      <td>5434</td>\n",
              "      <td>21790</td>\n",
              "    </tr>\n",
              "    <tr>\n",
              "      <th>All</th>\n",
              "      <td>458</td>\n",
              "      <td>1246</td>\n",
              "      <td>2392</td>\n",
              "      <td>3667</td>\n",
              "      <td>18336</td>\n",
              "      <td>6462</td>\n",
              "      <td>32561</td>\n",
              "    </tr>\n",
              "  </tbody>\n",
              "</table>\n",
              "</div>"
            ],
            "text/plain": [
              "hours_per_week_categories  0-9  10-19  20-29  30-39  40-49   50+    All\n",
              "sex                                                                    \n",
              " Female                    235    671   1287   1914   5636  1028  10771\n",
              " Male                      223    575   1105   1753  12700  5434  21790\n",
              "All                        458   1246   2392   3667  18336  6462  32561"
            ]
          },
          "metadata": {
            "tags": []
          },
          "execution_count": 138
        }
      ]
    },
    {
      "cell_type": "markdown",
      "metadata": {
        "id": "PnkiPHqAACTk",
        "colab_type": "text"
      },
      "source": [
        "## Expected Value Calculation\n",
        "\\begin{align}\n",
        "expected_{i,j} =\\frac{(row_{i\\ total})(column_{j\\ total} ) }{(\\text{total observations})}  \n",
        "\\end{align}"
      ]
    },
    {
      "cell_type": "code",
      "metadata": {
        "id": "6oCzX6lK_MUn",
        "colab_type": "code",
        "outputId": "5a43fe1a-9066-4d6c-e658-a3fbe6aaaab8",
        "colab": {
          "base_uri": "https://localhost:8080/",
          "height": 51
        }
      },
      "source": [
        "row_sums = contingency_table.iloc[0:2, 6].values  # extract 0 row to 2, not including 2\n",
        "col_sums = contingency_table.iloc[2, 0:6].values\n",
        "\n",
        "print(row_sums)\n",
        "print(col_sums)"
      ],
      "execution_count": 0,
      "outputs": [
        {
          "output_type": "stream",
          "text": [
            "[10771 21790]\n",
            "[  458  1246  2392  3667 18336  6462]\n"
          ],
          "name": "stdout"
        }
      ]
    },
    {
      "cell_type": "code",
      "metadata": {
        "id": "-PvfMJvuAHiq",
        "colab_type": "code",
        "outputId": "8f821e5a-5eab-4434-8330-25f47fe0b49c",
        "colab": {
          "base_uri": "https://localhost:8080/",
          "height": 34
        }
      },
      "source": [
        "total = contingency_table.loc['All','All']\n",
        "total"
      ],
      "execution_count": 0,
      "outputs": [
        {
          "output_type": "execute_result",
          "data": {
            "text/plain": [
              "32561"
            ]
          },
          "metadata": {
            "tags": []
          },
          "execution_count": 140
        }
      ]
    },
    {
      "cell_type": "code",
      "metadata": {
        "id": "L6e3atzoAHlE",
        "colab_type": "code",
        "outputId": "70be01e1-b699-4182-cf36-c91d144fc250",
        "colab": {
          "base_uri": "https://localhost:8080/",
          "height": 102
        }
      },
      "source": [
        "# showing how to manually get chi squared, although can do throug scipy\n",
        "expected = []\n",
        "for row_sum in row_sums:\n",
        "  expected_row = []\n",
        "  for column in col_sums:\n",
        "    expected_val = column*row_sum/total\n",
        "    expected_row.append(expected_val)\n",
        "  expected.append(expected_row)\n",
        "  \n",
        "expected = np.array(expected)\n",
        "print(expected.shape)\n",
        "print(expected)"
      ],
      "execution_count": 0,
      "outputs": [
        {
          "output_type": "stream",
          "text": [
            "(2, 6)\n",
            "[[  151.50388502   412.16995793   791.26046497  1213.02346365\n",
            "   6065.44811277  2137.59411566]\n",
            " [  306.49611498   833.83004207  1600.73953503  2453.97653635\n",
            "  12270.55188723  4324.40588434]]\n"
          ],
          "name": "stdout"
        }
      ]
    },
    {
      "cell_type": "markdown",
      "metadata": {
        "id": "mGzBjEjKAOos",
        "colab_type": "text"
      },
      "source": [
        "## Chi-Squared Statistic with Numpy\n",
        "\n",
        "\\begin{align}\n",
        "\\chi^2 = \\sum \\frac{(observed_{i}-expected_{i})^2}{(expected_{i})}\n",
        "\\end{align}\n",
        "\n",
        "For the $observed$ values we will just use a version of our contingency table without the margins as a numpy array. In this way, if our observed values array and our expected values array are the same shape, then we can subtract them and divide them directly which makes the calculations a lot cleaner. No for loops!"
      ]
    },
    {
      "cell_type": "code",
      "metadata": {
        "id": "5BjS4RiiAPSb",
        "colab_type": "code",
        "outputId": "902e5055-4545-43b2-a384-65e0f87d51a2",
        "colab": {
          "base_uri": "https://localhost:8080/",
          "height": 68
        }
      },
      "source": [
        "observed = pd.crosstab(df['sex'], df['hours_per_week_categories']).values\n",
        "print(observed.shape)\n",
        "observed"
      ],
      "execution_count": 0,
      "outputs": [
        {
          "output_type": "stream",
          "text": [
            "(2, 6)\n"
          ],
          "name": "stdout"
        },
        {
          "output_type": "execute_result",
          "data": {
            "text/plain": [
              "array([[  235,   671,  1287,  1914,  5636,  1028],\n",
              "       [  223,   575,  1105,  1753, 12700,  5434]])"
            ]
          },
          "metadata": {
            "tags": []
          },
          "execution_count": 149
        }
      ]
    },
    {
      "cell_type": "code",
      "metadata": {
        "id": "UNmGqrrsAPVJ",
        "colab_type": "code",
        "outputId": "9f75737b-aae3-48dc-d0a4-45e808b927be",
        "colab": {
          "base_uri": "https://localhost:8080/",
          "height": 34
        }
      },
      "source": [
        "chi_square = ((observed - expected)**2/(expected)).sum()\n",
        "chi_square"
      ],
      "execution_count": 0,
      "outputs": [
        {
          "output_type": "execute_result",
          "data": {
            "text/plain": [
              "2287.190943926107"
            ]
          },
          "metadata": {
            "tags": []
          },
          "execution_count": 150
        }
      ]
    },
    {
      "cell_type": "code",
      "metadata": {
        "id": "3ydmYbvTAHoB",
        "colab_type": "code",
        "colab": {}
      },
      "source": [
        "# https://people.smp.uq.edu.au/YoniNazarathy/stat_models_B_course_spring_07/distributions/chisqtab.pdf   ---chi squard table "
      ],
      "execution_count": 0,
      "outputs": []
    },
    {
      "cell_type": "markdown",
      "metadata": {
        "id": "7Igz-XHcVbW3",
        "colab_type": "text"
      },
      "source": [
        "## Run a $\\chi^{2}$ Test using Scipy"
      ]
    },
    {
      "cell_type": "code",
      "metadata": {
        "id": "X52Nwt7AVlvk",
        "colab_type": "code",
        "outputId": "626fbd9a-6c1e-40a3-956c-46b2a56ba4e1",
        "colab": {
          "base_uri": "https://localhost:8080/",
          "height": 1000
        }
      },
      "source": [
        "help(stats.chi2_contingency)"
      ],
      "execution_count": 0,
      "outputs": [
        {
          "output_type": "stream",
          "text": [
            "Help on function chi2_contingency in module scipy.stats.contingency:\n",
            "\n",
            "chi2_contingency(observed, correction=True, lambda_=None)\n",
            "    Chi-square test of independence of variables in a contingency table.\n",
            "    \n",
            "    This function computes the chi-square statistic and p-value for the\n",
            "    hypothesis test of independence of the observed frequencies in the\n",
            "    contingency table [1]_ `observed`.  The expected frequencies are computed\n",
            "    based on the marginal sums under the assumption of independence; see\n",
            "    `scipy.stats.contingency.expected_freq`.  The number of degrees of\n",
            "    freedom is (expressed using numpy functions and attributes)::\n",
            "    \n",
            "        dof = observed.size - sum(observed.shape) + observed.ndim - 1\n",
            "    \n",
            "    \n",
            "    Parameters\n",
            "    ----------\n",
            "    observed : array_like\n",
            "        The contingency table. The table contains the observed frequencies\n",
            "        (i.e. number of occurrences) in each category.  In the two-dimensional\n",
            "        case, the table is often described as an \"R x C table\".\n",
            "    correction : bool, optional\n",
            "        If True, *and* the degrees of freedom is 1, apply Yates' correction\n",
            "        for continuity.  The effect of the correction is to adjust each\n",
            "        observed value by 0.5 towards the corresponding expected value.\n",
            "    lambda_ : float or str, optional.\n",
            "        By default, the statistic computed in this test is Pearson's\n",
            "        chi-squared statistic [2]_.  `lambda_` allows a statistic from the\n",
            "        Cressie-Read power divergence family [3]_ to be used instead.  See\n",
            "        `power_divergence` for details.\n",
            "    \n",
            "    Returns\n",
            "    -------\n",
            "    chi2 : float\n",
            "        The test statistic.\n",
            "    p : float\n",
            "        The p-value of the test\n",
            "    dof : int\n",
            "        Degrees of freedom\n",
            "    expected : ndarray, same shape as `observed`\n",
            "        The expected frequencies, based on the marginal sums of the table.\n",
            "    \n",
            "    See Also\n",
            "    --------\n",
            "    contingency.expected_freq\n",
            "    fisher_exact\n",
            "    chisquare\n",
            "    power_divergence\n",
            "    \n",
            "    Notes\n",
            "    -----\n",
            "    An often quoted guideline for the validity of this calculation is that\n",
            "    the test should be used only if the observed and expected frequencies\n",
            "    in each cell are at least 5.\n",
            "    \n",
            "    This is a test for the independence of different categories of a\n",
            "    population. The test is only meaningful when the dimension of\n",
            "    `observed` is two or more.  Applying the test to a one-dimensional\n",
            "    table will always result in `expected` equal to `observed` and a\n",
            "    chi-square statistic equal to 0.\n",
            "    \n",
            "    This function does not handle masked arrays, because the calculation\n",
            "    does not make sense with missing values.\n",
            "    \n",
            "    Like stats.chisquare, this function computes a chi-square statistic;\n",
            "    the convenience this function provides is to figure out the expected\n",
            "    frequencies and degrees of freedom from the given contingency table.\n",
            "    If these were already known, and if the Yates' correction was not\n",
            "    required, one could use stats.chisquare.  That is, if one calls::\n",
            "    \n",
            "        chi2, p, dof, ex = chi2_contingency(obs, correction=False)\n",
            "    \n",
            "    then the following is true::\n",
            "    \n",
            "        (chi2, p) == stats.chisquare(obs.ravel(), f_exp=ex.ravel(),\n",
            "                                     ddof=obs.size - 1 - dof)\n",
            "    \n",
            "    The `lambda_` argument was added in version 0.13.0 of scipy.\n",
            "    \n",
            "    References\n",
            "    ----------\n",
            "    .. [1] \"Contingency table\",\n",
            "           https://en.wikipedia.org/wiki/Contingency_table\n",
            "    .. [2] \"Pearson's chi-squared test\",\n",
            "           https://en.wikipedia.org/wiki/Pearson%27s_chi-squared_test\n",
            "    .. [3] Cressie, N. and Read, T. R. C., \"Multinomial Goodness-of-Fit\n",
            "           Tests\", J. Royal Stat. Soc. Series B, Vol. 46, No. 3 (1984),\n",
            "           pp. 440-464.\n",
            "    \n",
            "    Examples\n",
            "    --------\n",
            "    A two-way example (2 x 3):\n",
            "    \n",
            "    >>> from scipy.stats import chi2_contingency\n",
            "    >>> obs = np.array([[10, 10, 20], [20, 20, 20]])\n",
            "    >>> chi2_contingency(obs)\n",
            "    (2.7777777777777777,\n",
            "     0.24935220877729619,\n",
            "     2,\n",
            "     array([[ 12.,  12.,  16.],\n",
            "            [ 18.,  18.,  24.]]))\n",
            "    \n",
            "    Perform the test using the log-likelihood ratio (i.e. the \"G-test\")\n",
            "    instead of Pearson's chi-squared statistic.\n",
            "    \n",
            "    >>> g, p, dof, expctd = chi2_contingency(obs, lambda_=\"log-likelihood\")\n",
            "    >>> g, p\n",
            "    (2.7688587616781319, 0.25046668010954165)\n",
            "    \n",
            "    A four-way example (2 x 2 x 2 x 2):\n",
            "    \n",
            "    >>> obs = np.array(\n",
            "    ...     [[[[12, 17],\n",
            "    ...        [11, 16]],\n",
            "    ...       [[11, 12],\n",
            "    ...        [15, 16]]],\n",
            "    ...      [[[23, 15],\n",
            "    ...        [30, 22]],\n",
            "    ...       [[14, 17],\n",
            "    ...        [15, 16]]]])\n",
            "    >>> chi2_contingency(obs)\n",
            "    (8.7584514426741897,\n",
            "     0.64417725029295503,\n",
            "     11,\n",
            "     array([[[[ 14.15462386,  14.15462386],\n",
            "              [ 16.49423111,  16.49423111]],\n",
            "             [[ 11.2461395 ,  11.2461395 ],\n",
            "              [ 13.10500554,  13.10500554]]],\n",
            "            [[[ 19.5591166 ,  19.5591166 ],\n",
            "              [ 22.79202844,  22.79202844]],\n",
            "             [[ 15.54012004,  15.54012004],\n",
            "              [ 18.10873492,  18.10873492]]]]))\n",
            "\n"
          ],
          "name": "stdout"
        }
      ]
    },
    {
      "cell_type": "code",
      "metadata": {
        "id": "N6yWzlFNAZ5T",
        "colab_type": "code",
        "outputId": "5518520b-8340-4e36-a900-a8022b28d172",
        "colab": {
          "base_uri": "https://localhost:8080/",
          "height": 85
        }
      },
      "source": [
        "chi_squared, p_value, dof, expected = stats.chi2_contingency(observed)\n",
        "print(chi_squared, p_value, dof, expected)\n",
        "# chi is 2287, p value so small its 0.0 so can reject it"
      ],
      "execution_count": 0,
      "outputs": [
        {
          "output_type": "stream",
          "text": [
            "2287.190943926107 0.0 5 [[  151.50388502   412.16995793   791.26046497  1213.02346365\n",
            "   6065.44811277  2137.59411566]\n",
            " [  306.49611498   833.83004207  1600.73953503  2453.97653635\n",
            "  12270.55188723  4324.40588434]]\n"
          ],
          "name": "stdout"
        }
      ]
    },
    {
      "cell_type": "markdown",
      "metadata": {
        "id": "2TtVg9c0EpBA",
        "colab_type": "text"
      },
      "source": [
        "Null Hypothesis: Hours worked per week bins is **independent** of sex. \n",
        "\n",
        "Due to a p-value of 0, we REJECT the null hypothesis that hours worked per week and sex are independent, and conclude that there is an association between hours worked per week and sex. "
      ]
    }
  ]
}