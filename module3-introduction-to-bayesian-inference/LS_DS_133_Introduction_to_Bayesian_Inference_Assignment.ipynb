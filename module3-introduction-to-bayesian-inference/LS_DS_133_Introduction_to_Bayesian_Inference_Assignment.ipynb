{
  "nbformat": 4,
  "nbformat_minor": 0,
  "metadata": {
    "colab": {
      "name": "10_08_251pm_LS_DS_133_Introduction_to_Bayesian_Inference_Assignment.ipynb",
      "provenance": [],
      "collapsed_sections": [
        "4HZjanRJE7IQ",
        "enNT_h3FFBkD"
      ],
      "include_colab_link": true
    },
    "kernelspec": {
      "name": "python3",
      "display_name": "Python 3"
    }
  },
  "cells": [
    {
      "cell_type": "markdown",
      "metadata": {
        "id": "view-in-github",
        "colab_type": "text"
      },
      "source": [
        "<a href=\"https://colab.research.google.com/github/cardstud/DS-Unit-1-Sprint-3-Statistical-Tests-and-Experiments/blob/master/module3-introduction-to-bayesian-inference/LS_DS_133_Introduction_to_Bayesian_Inference_Assignment.ipynb\" target=\"_parent\"><img src=\"https://colab.research.google.com/assets/colab-badge.svg\" alt=\"Open In Colab\"/></a>"
      ]
    },
    {
      "cell_type": "markdown",
      "metadata": {
        "id": "H7OLbevlbd_Z",
        "colab_type": "text"
      },
      "source": [
        "# Lambda School Data Science Module 133\n",
        "\n",
        "## Introduction to Bayesian Inference\n",
        "\n",
        "\n"
      ]
    },
    {
      "cell_type": "markdown",
      "metadata": {
        "id": "P-DzzRk5bf0z",
        "colab_type": "text"
      },
      "source": [
        "## Assignment - Code it up!\n",
        "\n",
        "Most of the above was pure math - now write Python code to reproduce the results! This is purposefully open ended - you'll have to think about how you should represent probabilities and events. You can and should look things up, and as a stretch goal - refactor your code into helpful reusable functions!\n",
        "\n",
        "Specific goals/targets:\n",
        "\n",
        "1. Write a function `def prob_drunk_given_positive(prob_drunk_prior, prob_positive, prob_positive_drunk)` that reproduces the example from lecture, and use it to calculate and visualize a range of situations\n",
        "2. Explore `scipy.stats.bayes_mvs` - read its documentation, and experiment with it on data you've tested in other ways earlier this week\n",
        "3. Create a visualization comparing the results of a Bayesian approach to a traditional/frequentist approach\n",
        "4. In your own words, summarize the difference between Bayesian and Frequentist statistics\n",
        "\n",
        "If you're unsure where to start, check out [this blog post of Bayes theorem with Python](https://dataconomy.com/2015/02/introduction-to-bayes-theorem-with-python/) - you could and should create something similar!\n",
        "\n",
        "Stretch goals:\n",
        "\n",
        "- Apply a Bayesian technique to a problem you previously worked (in an assignment or project work) on from a frequentist (standard) perspective\n",
        "- Check out [PyMC3](https://docs.pymc.io/) (note this goes beyond hypothesis tests into modeling) - read the guides and work through some examples\n",
        "- Take PyMC3 further - see if you can build something with it!"
      ]
    },
    {
      "cell_type": "code",
      "metadata": {
        "id": "xpVhZyUnbf7o",
        "colab_type": "code",
        "colab": {}
      },
      "source": [
        "import numpy as np\n",
        "import matplotlib.pyplot as plt\n",
        "from scipy import stats"
      ],
      "execution_count": 0,
      "outputs": []
    },
    {
      "cell_type": "markdown",
      "metadata": {
        "id": "19TlkhPkBlmT",
        "colab_type": "text"
      },
      "source": [
        "### Part 1. Write a function `def prob_drunk_given_positive(prob_drunk_prior, prob_positive, prob_positive_drunk)` that reproduces the example from lecture, and use it to calculate and visualize a range of situations"
      ]
    },
    {
      "cell_type": "code",
      "metadata": {
        "id": "yE1FuXnKXH2Q",
        "colab_type": "code",
        "colab": {}
      },
      "source": [
        "def prob_drunk_given_positive(prob_drunk_prior, prob_neg, prob_positive, num_iter):\n",
        "  posterior_list = []\n",
        "  for i in range(num_iter):\n",
        "    posterior = \n",
        "    posterior_list.append(posterior)\n",
        "  return posterior_list"
      ],
      "execution_count": 0,
      "outputs": []
    },
    {
      "cell_type": "code",
      "metadata": {
        "id": "qZFQOyDlXH5H",
        "colab_type": "code",
        "colab": {
          "base_uri": "https://localhost:8080/",
          "height": 34
        },
        "outputId": "16c84bc2-e204-4c28-9480-b98b9490cf5a"
      },
      "source": [
        "drunk_t = np.random.randint(2, size=1000)\n",
        "np.mean(drunk)"
      ],
      "execution_count": 43,
      "outputs": [
        {
          "output_type": "execute_result",
          "data": {
            "text/plain": [
              "0.51"
            ]
          },
          "metadata": {
            "tags": []
          },
          "execution_count": 43
        }
      ]
    },
    {
      "cell_type": "code",
      "metadata": {
        "id": "LLSTuSV1u1a1",
        "colab_type": "code",
        "colab": {
          "base_uri": "https://localhost:8080/",
          "height": 34
        },
        "outputId": "230c2aa2-d37d-46ce-cc8a-c1ef5d38fdf1"
      },
      "source": [
        "drunk = np.random.binomial(n=1, p=.5, size=1000)\n",
        "np.mean(drunk)"
      ],
      "execution_count": 44,
      "outputs": [
        {
          "output_type": "execute_result",
          "data": {
            "text/plain": [
              "0.487"
            ]
          },
          "metadata": {
            "tags": []
          },
          "execution_count": 44
        }
      ]
    },
    {
      "cell_type": "code",
      "metadata": {
        "id": "W5INND7Hu1dd",
        "colab_type": "code",
        "colab": {}
      },
      "source": [
        "def drunk_pmf(x, p):\n",
        "  if(x == 1):\n",
        "    return p\n",
        "  elif (x==0):\n",
        "    return 1-p\n",
        "  else:\n",
        "    return \"Value not in support of distribution\"\n"
      ],
      "execution_count": 0,
      "outputs": []
    },
    {
      "cell_type": "code",
      "metadata": {
        "id": "2lo4tZMxu1gC",
        "colab_type": "code",
        "colab": {
          "base_uri": "https://localhost:8080/",
          "height": 34
        },
        "outputId": "cec17023-a1c8-4907-faf7-d44b99930658"
      },
      "source": [
        "drunk_pmf(1, .5)"
      ],
      "execution_count": 46,
      "outputs": [
        {
          "output_type": "execute_result",
          "data": {
            "text/plain": [
              "0.5"
            ]
          },
          "metadata": {
            "tags": []
          },
          "execution_count": 46
        }
      ]
    },
    {
      "cell_type": "code",
      "metadata": {
        "id": "A-fJYKRau1ih",
        "colab_type": "code",
        "colab": {
          "base_uri": "https://localhost:8080/",
          "height": 34
        },
        "outputId": "9f9e64ec-f604-4bf7-fee1-a045b9347df1"
      },
      "source": [
        "drunk_pmf(0, .5)"
      ],
      "execution_count": 47,
      "outputs": [
        {
          "output_type": "execute_result",
          "data": {
            "text/plain": [
              "0.5"
            ]
          },
          "metadata": {
            "tags": []
          },
          "execution_count": 47
        }
      ]
    },
    {
      "cell_type": "code",
      "metadata": {
        "id": "ltb8ZAQTu1li",
        "colab_type": "code",
        "colab": {
          "base_uri": "https://localhost:8080/",
          "height": 51
        },
        "outputId": "0fce7d31-a34a-4dd9-8378-18f8ea0d0b21"
      },
      "source": [
        "import scipy.stats as st\n",
        "print(st.bernoulli.pmf(1, .5))\n",
        "print(st.bernoulli.pmf(0, .5))"
      ],
      "execution_count": 48,
      "outputs": [
        {
          "output_type": "stream",
          "text": [
            "0.5\n",
            "0.5\n"
          ],
          "name": "stdout"
        }
      ]
    },
    {
      "cell_type": "code",
      "metadata": {
        "id": "J6_JmL0nvpfy",
        "colab_type": "code",
        "colab": {
          "base_uri": "https://localhost:8080/",
          "height": 34
        },
        "outputId": "7d304ff9-60fa-4f95-91bc-0303da849a33"
      },
      "source": [
        "np.product(st.bernoulli.pmf(drunk_t, .5))"
      ],
      "execution_count": 50,
      "outputs": [
        {
          "output_type": "execute_result",
          "data": {
            "text/plain": [
              "9.332636185032189e-302"
            ]
          },
          "metadata": {
            "tags": []
          },
          "execution_count": 50
        }
      ]
    },
    {
      "cell_type": "code",
      "metadata": {
        "id": "53f0MN4Lvpiv",
        "colab_type": "code",
        "colab": {
          "base_uri": "https://localhost:8080/",
          "height": 274
        },
        "outputId": "561e8a5b-68f6-406a-8000-9fae58be4c89"
      },
      "source": [
        "import matplotlib.pyplot as plt\n",
        "import seaborn as sns\n",
        "%matplotlib inline\n",
        "sns.set(style='ticks', palette='Set2')\n",
        "\n",
        "params = np.linspace(0, 1, 100)\n",
        "p_x = [np.product(st.bernoulli.pmf(drunk_t, p)) for p in params]\n",
        "plt.plot(params, p_x)\n",
        "sns.despine()"
      ],
      "execution_count": 54,
      "outputs": [
        {
          "output_type": "display_data",
          "data": {
            "image/png": "[encoded data removed]",
            "text/plain": [
              "<Figure size 432x288 with 1 Axes>"
            ]
          },
          "metadata": {
            "tags": []
          }
        }
      ]
    },
    {
      "cell_type": "code",
      "metadata": {
        "id": "G6iX3Dfkvpjj",
        "colab_type": "code",
        "colab": {
          "base_uri": "https://localhost:8080/",
          "height": 274
        },
        "outputId": "66243fe5-3226-4e51-91e0-bd19155222a2"
      },
      "source": [
        "# Prior distribution\n",
        "p_drunk = drunk = np.random.binomial(n=1, p=.5, size=1000)\n",
        "p_p_drunk = np.array([np.product(st.bernoulli.pmf(p_drunk, p)) for p in params])\n",
        "plt.plot(params, p_p_drunk)\n",
        "sns.despine()"
      ],
      "execution_count": 56,
      "outputs": [
        {
          "output_type": "display_data",
          "data": {
            "image/png": "[encoded data removed]",
            "text/plain": [
              "<Figure size 432x288 with 1 Axes>"
            ]
          },
          "metadata": {
            "tags": []
          }
        }
      ]
    },
    {
      "cell_type": "code",
      "metadata": {
        "id": "W6sRKtpm0UcA",
        "colab_type": "code",
        "colab": {
          "base_uri": "https://localhost:8080/",
          "height": 293
        },
        "outputId": "70484c90-46a0-49af-94d2-f200129c3c72"
      },
      "source": [
        "drunk_n = drunk = np.random.binomial(n=1, p=.8, size=1000)\n",
        "p_drunk_n = np.array([np.product(st.bernoulli.pmf(drunk_n, p)) for p in params])\n",
        "fig, axes = plt.subplots(2, 1, sharex=True)\n",
        "axes[0].plot(params, p_drunk_n)\n",
        "axes[0].set_title(\"Drunk Sampling Distribution\")\n",
        "axes[1].plot(params, p_p_drunk)\n",
        "axes[1].set_title(\"Drunk Prior Distribution\")\n",
        "sns.despine()\n",
        "plt.tight_layout()"
      ],
      "execution_count": 57,
      "outputs": [
        {
          "output_type": "display_data",
          "data": {
            "image/png": "[encoded data removed]",
            "text/plain": [
              "<Figure size 432x288 with 2 Axes>"
            ]
          },
          "metadata": {
            "tags": []
          }
        }
      ]
    },
    {
      "cell_type": "code",
      "metadata": {
        "id": "jM-RmV4R0Uey",
        "colab_type": "code",
        "colab": {
          "base_uri": "https://localhost:8080/",
          "height": 581
        },
        "outputId": "42e16e71-be2b-4d48-91e9-c3be7247f0d7"
      },
      "source": [
        "def prob_drunk_given_positive(n_params=100, n_sample=100, true_p=.8, prior_p=.5, n_prior=100):\n",
        "    params = np.linspace(0, 1, n_params)\n",
        "    sample = np.random.binomial(n=1, p=true_p, size=n_sample)\n",
        "    likelihood = np.array([np.product(st.bernoulli.pmf(sample, p)) for p in params])\n",
        "    #likelihood = likelihood / np.sum(likelihood)\n",
        "    prior_sample = np.random.binomial(n=1, p=prior_p, size=n_prior)\n",
        "    prior = np.array([np.product(st.bernoulli.pmf(prior_sample, p)) for p in params])\n",
        "    prior = prior / np.sum(prior)\n",
        "    posterior = [prior[i] * likelihood[i] for i in range(prior.shape[0])]\n",
        "    posterior = posterior / np.sum(posterior)\n",
        "     \n",
        "    fig, axes = plt.subplots(3, 1, sharex=True, figsize=(8,8))\n",
        "    axes[0].plot(params, likelihood)\n",
        "    axes[0].set_title(\"Drunk Sampling Distribution\")\n",
        "    axes[1].plot(params, prior)\n",
        "    axes[1].set_title(\"Drunk Prior Distribution\")\n",
        "    axes[2].plot(params, posterior)\n",
        "    axes[2].set_title(\"Drunk Posterior Distribution\")\n",
        "    sns.despine()\n",
        "    plt.tight_layout()\n",
        "     \n",
        "    return posterior\n",
        "  \n",
        "example_post = prob_drunk_given_positive()"
      ],
      "execution_count": 64,
      "outputs": [
        {
          "output_type": "display_data",
          "data": {
            "image/png": "[encoded data removed]",
            "text/plain": [
              "<Figure size 576x576 with 3 Axes>"
            ]
          },
          "metadata": {
            "tags": []
          }
        }
      ]
    },
    {
      "cell_type": "code",
      "metadata": {
        "id": "xzfB_f7I-uAb",
        "colab_type": "code",
        "colab": {
          "base_uri": "https://localhost:8080/",
          "height": 581
        },
        "outputId": "ddf7325b-d152-4482-dd67-55c99b8d196b"
      },
      "source": [
        "moredata_post = prob_drunk_given_positive(n_sample=1000)"
      ],
      "execution_count": 65,
      "outputs": [
        {
          "output_type": "display_data",
          "data": {
            "image/png": "[encoded data removed]",
            "text/plain": [
              "<Figure size 576x576 with 3 Axes>"
            ]
          },
          "metadata": {
            "tags": []
          }
        }
      ]
    },
    {
      "cell_type": "markdown",
      "metadata": {
        "id": "U7cpfhGPBtal",
        "colab_type": "text"
      },
      "source": [
        "### Part 2. Explore `scipy.stats.bayes_mvs` - read its documentation, and experiment with it on data you've tested in other ways earlier this week"
      ]
    },
    {
      "cell_type": "markdown",
      "metadata": {
        "id": "-k7IJOB3B6y1",
        "colab_type": "text"
      },
      "source": [
        "#### scipy.stats.bayes_mvs\n",
        "\n",
        "scipy.stats.bayes_mvs(data, alpha=0.9) (Bayesian confidence intervals for the mean, var, and std.)\n",
        "\n",
        "**Parameters**\n",
        "- **data**: array_like (Input data, if multi-dimensional it is flattened to 1-D by bayes_mvs. Requires 2 or more data points.)\n",
        "- **alpha**: float, optional (Probability that the returned confidence interval contains the true parameter.)\n",
        "\n",
        "**Returns**\n",
        "- **mean_cntr**, **var_cntr**, **std_cntrtuple** (The three results are for the mean, variance and standard deviation, respectively. Each result is a tuple of the form:)\n",
        "-(center, (lower, upper)) (with center the mean of the conditional pdf of the value given the data, and (lower, upper) a confidence interval, centered on the median, containing the estimate to a probability alpha.)\n",
        "\n"
      ]
    },
    {
      "cell_type": "markdown",
      "metadata": {
        "id": "4HZjanRJE7IQ",
        "colab_type": "text"
      },
      "source": [
        "#### Bring in dataset from assignment 2"
      ]
    },
    {
      "cell_type": "code",
      "metadata": {
        "id": "MBixspFh-3GP",
        "colab_type": "code",
        "colab": {}
      },
      "source": [
        "import pandas as pd\n",
        "df = pd.read_csv('https://archive.ics.uci.edu/ml/machine-learning-databases/voting-records/house-votes-84.data', header=None)"
      ],
      "execution_count": 0,
      "outputs": []
    },
    {
      "cell_type": "code",
      "metadata": {
        "id": "jJzJs2-XELyM",
        "colab_type": "code",
        "colab": {}
      },
      "source": [
        "df =df.replace('?', None)\n",
        "df[11][0]='n'"
      ],
      "execution_count": 0,
      "outputs": []
    },
    {
      "cell_type": "code",
      "metadata": {
        "id": "mbpu7UGkEL1M",
        "colab_type": "code",
        "colab": {
          "base_uri": "https://localhost:8080/",
          "height": 204
        },
        "outputId": "792cd8d3-0003-47ee-d2e6-9425c9a9d875"
      },
      "source": [
        "# Change n/y to binary\n",
        "df =df.replace('y', 1)\n",
        "df = df.replace('n', 0)\n",
        "df.head()"
      ],
      "execution_count": 69,
      "outputs": [
        {
          "output_type": "execute_result",
          "data": {
            "text/html": [
              "<div>\n",
              "<style scoped>\n",
              "    .dataframe tbody tr th:only-of-type {\n",
              "        vertical-align: middle;\n",
              "    }\n",
              "\n",
              "    .dataframe tbody tr th {\n",
              "        vertical-align: top;\n",
              "    }\n",
              "\n",
              "    .dataframe thead th {\n",
              "        text-align: right;\n",
              "    }\n",
              "</style>\n",
              "<table border=\"1\" class=\"dataframe\">\n",
              "  <thead>\n",
              "    <tr style=\"text-align: right;\">\n",
              "      <th></th>\n",
              "      <th>0</th>\n",
              "      <th>1</th>\n",
              "      <th>2</th>\n",
              "      <th>3</th>\n",
              "      <th>4</th>\n",
              "      <th>5</th>\n",
              "      <th>6</th>\n",
              "      <th>7</th>\n",
              "      <th>8</th>\n",
              "      <th>9</th>\n",
              "      <th>10</th>\n",
              "      <th>11</th>\n",
              "      <th>12</th>\n",
              "      <th>13</th>\n",
              "      <th>14</th>\n",
              "      <th>15</th>\n",
              "      <th>16</th>\n",
              "    </tr>\n",
              "  </thead>\n",
              "  <tbody>\n",
              "    <tr>\n",
              "      <th>0</th>\n",
              "      <td>republican</td>\n",
              "      <td>0</td>\n",
              "      <td>1</td>\n",
              "      <td>0</td>\n",
              "      <td>1</td>\n",
              "      <td>1</td>\n",
              "      <td>1</td>\n",
              "      <td>0</td>\n",
              "      <td>0</td>\n",
              "      <td>0</td>\n",
              "      <td>1</td>\n",
              "      <td>0</td>\n",
              "      <td>1</td>\n",
              "      <td>1</td>\n",
              "      <td>1</td>\n",
              "      <td>0</td>\n",
              "      <td>1</td>\n",
              "    </tr>\n",
              "    <tr>\n",
              "      <th>1</th>\n",
              "      <td>republican</td>\n",
              "      <td>0</td>\n",
              "      <td>1</td>\n",
              "      <td>0</td>\n",
              "      <td>1</td>\n",
              "      <td>1</td>\n",
              "      <td>1</td>\n",
              "      <td>0</td>\n",
              "      <td>0</td>\n",
              "      <td>0</td>\n",
              "      <td>0</td>\n",
              "      <td>0</td>\n",
              "      <td>1</td>\n",
              "      <td>1</td>\n",
              "      <td>1</td>\n",
              "      <td>0</td>\n",
              "      <td>1</td>\n",
              "    </tr>\n",
              "    <tr>\n",
              "      <th>2</th>\n",
              "      <td>democrat</td>\n",
              "      <td>0</td>\n",
              "      <td>1</td>\n",
              "      <td>1</td>\n",
              "      <td>1</td>\n",
              "      <td>1</td>\n",
              "      <td>1</td>\n",
              "      <td>0</td>\n",
              "      <td>0</td>\n",
              "      <td>0</td>\n",
              "      <td>0</td>\n",
              "      <td>1</td>\n",
              "      <td>0</td>\n",
              "      <td>1</td>\n",
              "      <td>1</td>\n",
              "      <td>0</td>\n",
              "      <td>0</td>\n",
              "    </tr>\n",
              "    <tr>\n",
              "      <th>3</th>\n",
              "      <td>democrat</td>\n",
              "      <td>0</td>\n",
              "      <td>1</td>\n",
              "      <td>1</td>\n",
              "      <td>0</td>\n",
              "      <td>1</td>\n",
              "      <td>1</td>\n",
              "      <td>0</td>\n",
              "      <td>0</td>\n",
              "      <td>0</td>\n",
              "      <td>0</td>\n",
              "      <td>1</td>\n",
              "      <td>0</td>\n",
              "      <td>1</td>\n",
              "      <td>0</td>\n",
              "      <td>0</td>\n",
              "      <td>1</td>\n",
              "    </tr>\n",
              "    <tr>\n",
              "      <th>4</th>\n",
              "      <td>democrat</td>\n",
              "      <td>1</td>\n",
              "      <td>1</td>\n",
              "      <td>1</td>\n",
              "      <td>0</td>\n",
              "      <td>1</td>\n",
              "      <td>1</td>\n",
              "      <td>0</td>\n",
              "      <td>0</td>\n",
              "      <td>0</td>\n",
              "      <td>0</td>\n",
              "      <td>1</td>\n",
              "      <td>0</td>\n",
              "      <td>1</td>\n",
              "      <td>1</td>\n",
              "      <td>1</td>\n",
              "      <td>1</td>\n",
              "    </tr>\n",
              "  </tbody>\n",
              "</table>\n",
              "</div>"
            ],
            "text/plain": [
              "           0   1   2   3   4   5   6   7   8   9   10  11  12  13  14  15  16\n",
              "0  republican   0   1   0   1   1   1   0   0   0   1   0   1   1   1   0   1\n",
              "1  republican   0   1   0   1   1   1   0   0   0   0   0   1   1   1   0   1\n",
              "2    democrat   0   1   1   1   1   1   0   0   0   0   1   0   1   1   0   0\n",
              "3    democrat   0   1   1   0   1   1   0   0   0   0   1   0   1   0   0   1\n",
              "4    democrat   1   1   1   0   1   1   0   0   0   0   1   0   1   1   1   1"
            ]
          },
          "metadata": {
            "tags": []
          },
          "execution_count": 69
        }
      ]
    },
    {
      "cell_type": "code",
      "metadata": {
        "id": "_pVqJJ2JEL33",
        "colab_type": "code",
        "colab": {
          "base_uri": "https://localhost:8080/",
          "height": 204
        },
        "outputId": "5aa071af-37ed-47ef-d1e4-43e0a4fff263"
      },
      "source": [
        "df.columns = ['class', 'infants', 'water_cost', 'budget', 'fee_freeze', 'aid_elsalvador', 'rel_school', 'satellite', 'aid_contras', 'mx_missle', 'immigration', 'cutback', 'education', 'right_to_sue', 'crime', 'duty_free_ex', 'export_south_africa']\n",
        "df.head()"
      ],
      "execution_count": 70,
      "outputs": [
        {
          "output_type": "execute_result",
          "data": {
            "text/html": [
              "<div>\n",
              "<style scoped>\n",
              "    .dataframe tbody tr th:only-of-type {\n",
              "        vertical-align: middle;\n",
              "    }\n",
              "\n",
              "    .dataframe tbody tr th {\n",
              "        vertical-align: top;\n",
              "    }\n",
              "\n",
              "    .dataframe thead th {\n",
              "        text-align: right;\n",
              "    }\n",
              "</style>\n",
              "<table border=\"1\" class=\"dataframe\">\n",
              "  <thead>\n",
              "    <tr style=\"text-align: right;\">\n",
              "      <th></th>\n",
              "      <th>class</th>\n",
              "      <th>infants</th>\n",
              "      <th>water_cost</th>\n",
              "      <th>budget</th>\n",
              "      <th>fee_freeze</th>\n",
              "      <th>aid_elsalvador</th>\n",
              "      <th>rel_school</th>\n",
              "      <th>satellite</th>\n",
              "      <th>aid_contras</th>\n",
              "      <th>mx_missle</th>\n",
              "      <th>immigration</th>\n",
              "      <th>cutback</th>\n",
              "      <th>education</th>\n",
              "      <th>right_to_sue</th>\n",
              "      <th>crime</th>\n",
              "      <th>duty_free_ex</th>\n",
              "      <th>export_south_africa</th>\n",
              "    </tr>\n",
              "  </thead>\n",
              "  <tbody>\n",
              "    <tr>\n",
              "      <th>0</th>\n",
              "      <td>republican</td>\n",
              "      <td>0</td>\n",
              "      <td>1</td>\n",
              "      <td>0</td>\n",
              "      <td>1</td>\n",
              "      <td>1</td>\n",
              "      <td>1</td>\n",
              "      <td>0</td>\n",
              "      <td>0</td>\n",
              "      <td>0</td>\n",
              "      <td>1</td>\n",
              "      <td>0</td>\n",
              "      <td>1</td>\n",
              "      <td>1</td>\n",
              "      <td>1</td>\n",
              "      <td>0</td>\n",
              "      <td>1</td>\n",
              "    </tr>\n",
              "    <tr>\n",
              "      <th>1</th>\n",
              "      <td>republican</td>\n",
              "      <td>0</td>\n",
              "      <td>1</td>\n",
              "      <td>0</td>\n",
              "      <td>1</td>\n",
              "      <td>1</td>\n",
              "      <td>1</td>\n",
              "      <td>0</td>\n",
              "      <td>0</td>\n",
              "      <td>0</td>\n",
              "      <td>0</td>\n",
              "      <td>0</td>\n",
              "      <td>1</td>\n",
              "      <td>1</td>\n",
              "      <td>1</td>\n",
              "      <td>0</td>\n",
              "      <td>1</td>\n",
              "    </tr>\n",
              "    <tr>\n",
              "      <th>2</th>\n",
              "      <td>democrat</td>\n",
              "      <td>0</td>\n",
              "      <td>1</td>\n",
              "      <td>1</td>\n",
              "      <td>1</td>\n",
              "      <td>1</td>\n",
              "      <td>1</td>\n",
              "      <td>0</td>\n",
              "      <td>0</td>\n",
              "      <td>0</td>\n",
              "      <td>0</td>\n",
              "      <td>1</td>\n",
              "      <td>0</td>\n",
              "      <td>1</td>\n",
              "      <td>1</td>\n",
              "      <td>0</td>\n",
              "      <td>0</td>\n",
              "    </tr>\n",
              "    <tr>\n",
              "      <th>3</th>\n",
              "      <td>democrat</td>\n",
              "      <td>0</td>\n",
              "      <td>1</td>\n",
              "      <td>1</td>\n",
              "      <td>0</td>\n",
              "      <td>1</td>\n",
              "      <td>1</td>\n",
              "      <td>0</td>\n",
              "      <td>0</td>\n",
              "      <td>0</td>\n",
              "      <td>0</td>\n",
              "      <td>1</td>\n",
              "      <td>0</td>\n",
              "      <td>1</td>\n",
              "      <td>0</td>\n",
              "      <td>0</td>\n",
              "      <td>1</td>\n",
              "    </tr>\n",
              "    <tr>\n",
              "      <th>4</th>\n",
              "      <td>democrat</td>\n",
              "      <td>1</td>\n",
              "      <td>1</td>\n",
              "      <td>1</td>\n",
              "      <td>0</td>\n",
              "      <td>1</td>\n",
              "      <td>1</td>\n",
              "      <td>0</td>\n",
              "      <td>0</td>\n",
              "      <td>0</td>\n",
              "      <td>0</td>\n",
              "      <td>1</td>\n",
              "      <td>0</td>\n",
              "      <td>1</td>\n",
              "      <td>1</td>\n",
              "      <td>1</td>\n",
              "      <td>1</td>\n",
              "    </tr>\n",
              "  </tbody>\n",
              "</table>\n",
              "</div>"
            ],
            "text/plain": [
              "        class  infants  water_cost  ...  crime  duty_free_ex  export_south_africa\n",
              "0  republican        0           1  ...      1             0                    1\n",
              "1  republican        0           1  ...      1             0                    1\n",
              "2    democrat        0           1  ...      1             0                    0\n",
              "3    democrat        0           1  ...      0             0                    1\n",
              "4    democrat        1           1  ...      1             1                    1\n",
              "\n",
              "[5 rows x 17 columns]"
            ]
          },
          "metadata": {
            "tags": []
          },
          "execution_count": 70
        }
      ]
    },
    {
      "cell_type": "code",
      "metadata": {
        "id": "xJs71ksoEL6m",
        "colab_type": "code",
        "colab": {}
      },
      "source": [
        "df_republican = df[df['class']== 'republican']"
      ],
      "execution_count": 0,
      "outputs": []
    },
    {
      "cell_type": "code",
      "metadata": {
        "id": "SmomMGZxEL9m",
        "colab_type": "code",
        "colab": {}
      },
      "source": [
        "df_democrat = df[df['class']== 'democrat']"
      ],
      "execution_count": 0,
      "outputs": []
    },
    {
      "cell_type": "code",
      "metadata": {
        "id": "wvWJ3j-MEMAA",
        "colab_type": "code",
        "colab": {}
      },
      "source": [
        "from scipy import stats\n",
        "def confidence_interval(data, confidence=0.95):\n",
        "  \"\"\"\n",
        "  Calculate a confidence interval around a sample mean for given data.\n",
        "  Using t-distribution and two-tailed test, default 95% confidence. \n",
        "  \n",
        "  Arguments:\n",
        "    data - iterable (list or numpy array) of sample observations\n",
        "    confidence - level of confidence for the interval\n",
        "  \n",
        "  Returns:\n",
        "    tuple of (mean, lower bound, upper bound)\n",
        "  \"\"\"\n",
        "  data = np.array(data)\n",
        "  mean = np.mean(data)\n",
        "  n = len(data)\n",
        "  stderr = stats.sem(data)\n",
        "  interval = stderr * stats.t.ppf((1 + confidence) / 2.0, n - 1)\n",
        "  return (mean, mean - interval, mean + interval)"
      ],
      "execution_count": 0,
      "outputs": []
    },
    {
      "cell_type": "code",
      "metadata": {
        "id": "iOqcrOYpEMCy",
        "colab_type": "code",
        "colab": {}
      },
      "source": [
        "dem_infants= df_democrat['infants']"
      ],
      "execution_count": 0,
      "outputs": []
    },
    {
      "cell_type": "code",
      "metadata": {
        "id": "I1FcMN8PEMFV",
        "colab_type": "code",
        "colab": {
          "base_uri": "https://localhost:8080/",
          "height": 119
        },
        "outputId": "9a15e45e-b141-4a1b-c804-1b770c13e87e"
      },
      "source": [
        "sample_size = 100\n",
        "sample = dem_infants.sample(sample_size)\n",
        "sample.head()"
      ],
      "execution_count": 75,
      "outputs": [
        {
          "output_type": "execute_result",
          "data": {
            "text/plain": [
              "47     1\n",
              "362    1\n",
              "184    0\n",
              "16     1\n",
              "397    1\n",
              "Name: infants, dtype: int64"
            ]
          },
          "metadata": {
            "tags": []
          },
          "execution_count": 75
        }
      ]
    },
    {
      "cell_type": "code",
      "metadata": {
        "id": "_NTmZJYjEMHy",
        "colab_type": "code",
        "colab": {
          "base_uri": "https://localhost:8080/",
          "height": 34
        },
        "outputId": "b310c468-fb33-42cc-d0d1-c7e55f70d2dd"
      },
      "source": [
        "sample_mean = sample.mean()\n",
        "sample_std = np.std(sample, ddof=1)\n",
        "print(sample_mean, sample_std)"
      ],
      "execution_count": 76,
      "outputs": [
        {
          "output_type": "stream",
          "text": [
            "0.57 0.49756985195624276\n"
          ],
          "name": "stdout"
        }
      ]
    },
    {
      "cell_type": "code",
      "metadata": {
        "id": "j84sINzSEMK0",
        "colab_type": "code",
        "colab": {
          "base_uri": "https://localhost:8080/",
          "height": 34
        },
        "outputId": "12be6049-ff04-477c-c997-ad97dee12861"
      },
      "source": [
        "standard_error = sample_std/np.sqrt(sample_size)\n",
        "standard_error"
      ],
      "execution_count": 77,
      "outputs": [
        {
          "output_type": "execute_result",
          "data": {
            "text/plain": [
              "0.04975698519562428"
            ]
          },
          "metadata": {
            "tags": []
          },
          "execution_count": 77
        }
      ]
    },
    {
      "cell_type": "code",
      "metadata": {
        "id": "LqKbWvEOEMSP",
        "colab_type": "code",
        "colab": {
          "base_uri": "https://localhost:8080/",
          "height": 34
        },
        "outputId": "06dfe540-c21f-45fe-a31c-dfd11cbc0460"
      },
      "source": [
        "t = 1.84\n",
        "(sample_mean, sample_mean - t*standard_error, sample_mean + t*standard_error)"
      ],
      "execution_count": 78,
      "outputs": [
        {
          "output_type": "execute_result",
          "data": {
            "text/plain": [
              "(0.57, 0.4784471472400513, 0.6615528527599486)"
            ]
          },
          "metadata": {
            "tags": []
          },
          "execution_count": 78
        }
      ]
    },
    {
      "cell_type": "code",
      "metadata": {
        "id": "ryN-iWhfEMVg",
        "colab_type": "code",
        "colab": {
          "base_uri": "https://localhost:8080/",
          "height": 34
        },
        "outputId": "e8431a0f-c04f-4917-cc69-dd6fea7ed070"
      },
      "source": [
        "confidence_interval(sample, confidence=0.95)"
      ],
      "execution_count": 79,
      "outputs": [
        {
          "output_type": "execute_result",
          "data": {
            "text/plain": [
              "(0.57, 0.47127134651887564, 0.6687286534811243)"
            ]
          },
          "metadata": {
            "tags": []
          },
          "execution_count": 79
        }
      ]
    },
    {
      "cell_type": "code",
      "metadata": {
        "id": "Txyx759Y-3Jf",
        "colab_type": "code",
        "colab": {
          "base_uri": "https://localhost:8080/",
          "height": 34
        },
        "outputId": "c81b833b-1c3f-4e65-991d-9fb427e70ae4"
      },
      "source": [
        "confidence_interval(dem_infants,confidence=0.95 )"
      ],
      "execution_count": 80,
      "outputs": [
        {
          "output_type": "execute_result",
          "data": {
            "text/plain": [
              "(0.599250936329588, 0.5400909065910334, 0.6584109660681426)"
            ]
          },
          "metadata": {
            "tags": []
          },
          "execution_count": 80
        }
      ]
    },
    {
      "cell_type": "code",
      "metadata": {
        "id": "3bXTLiCjGVN-",
        "colab_type": "code",
        "colab": {}
      },
      "source": [
        "mean1_conf_inter = confidence_interval(dem_infants, confidence=0.95)"
      ],
      "execution_count": 0,
      "outputs": []
    },
    {
      "cell_type": "markdown",
      "metadata": {
        "id": "enNT_h3FFBkD",
        "colab_type": "text"
      },
      "source": [
        "#### Do bayesian this time"
      ]
    },
    {
      "cell_type": "code",
      "metadata": {
        "id": "0jimJ2qW-3MX",
        "colab_type": "code",
        "colab": {}
      },
      "source": [
        "mean_conf_inter,_,_ = stats.bayes_mvs(dem_infants, alpha=0.9)"
      ],
      "execution_count": 0,
      "outputs": []
    },
    {
      "cell_type": "code",
      "metadata": {
        "id": "u2r91rA5-3O_",
        "colab_type": "code",
        "colab": {
          "base_uri": "https://localhost:8080/",
          "height": 34
        },
        "outputId": "68a61cd5-5c0d-4fe7-d6c5-7d5fbcb69ec2"
      },
      "source": [
        "mean_conf_inter"
      ],
      "execution_count": 83,
      "outputs": [
        {
          "output_type": "execute_result",
          "data": {
            "text/plain": [
              "Mean(statistic=0.599250936329588, minmax=(0.549655442170897, 0.6488464304882791))"
            ]
          },
          "metadata": {
            "tags": []
          },
          "execution_count": 83
        }
      ]
    },
    {
      "cell_type": "markdown",
      "metadata": {
        "id": "T2HGXVdSCl6a",
        "colab_type": "text"
      },
      "source": [
        "### Part 3. Create a visualization comparing the results of a Bayesian approach to a traditional/frequentist approach"
      ]
    },
    {
      "cell_type": "code",
      "metadata": {
        "id": "T07hecXm-3Rn",
        "colab_type": "code",
        "colab": {
          "base_uri": "https://localhost:8080/",
          "height": 274
        },
        "outputId": "8a253945-5810-4551-c181-29ab4e9e069e"
      },
      "source": [
        "# Bayesian approach\n",
        "plt.hist(mean_conf_inter);"
      ],
      "execution_count": 89,
      "outputs": [
        {
          "output_type": "display_data",
          "data": {
            "image/png": "[encoded data removed]",
            "text/plain": [
              "<Figure size 432x288 with 1 Axes>"
            ]
          },
          "metadata": {
            "tags": []
          }
        }
      ]
    },
    {
      "cell_type": "code",
      "metadata": {
        "id": "Bft6mHhW-3UU",
        "colab_type": "code",
        "colab": {
          "base_uri": "https://localhost:8080/",
          "height": 274
        },
        "outputId": "790b0ccd-6ac9-4931-b4e3-bd75df189ba6"
      },
      "source": [
        "# Frequentist approach\n",
        "plt.hist(mean1_conf_inter);"
      ],
      "execution_count": 92,
      "outputs": [
        {
          "output_type": "display_data",
          "data": {
            "image/png": "[encoded data removed]",
            "text/plain": [
              "<Figure size 432x288 with 1 Axes>"
            ]
          },
          "metadata": {
            "tags": []
          }
        }
      ]
    },
    {
      "cell_type": "markdown",
      "metadata": {
        "id": "sSf25T0JCtkQ",
        "colab_type": "text"
      },
      "source": [
        "### Part 4. In your own words, summarize the difference between Bayesian and Frequentist statistics"
      ]
    },
    {
      "cell_type": "code",
      "metadata": {
        "id": "-Z9zEBtgvpn6",
        "colab_type": "code",
        "colab": {}
      },
      "source": [
        "# Frequentist will do repeated experiments a large number of times to come to an answer where a Bayesian will use probability but will update it each time they gain more information before coming to an answer"
      ],
      "execution_count": 0,
      "outputs": []
    },
    {
      "cell_type": "markdown",
      "metadata": {
        "id": "uWgWjp3PQ3Sq",
        "colab_type": "text"
      },
      "source": [
        "## Resources"
      ]
    },
    {
      "cell_type": "markdown",
      "metadata": {
        "id": "QRgHqmYIQ9qn",
        "colab_type": "text"
      },
      "source": [
        "- [Worked example of Bayes rule calculation](https://en.wikipedia.org/wiki/Bayes'_theorem#Examples) (helpful as it fully breaks out the denominator)\n",
        "- [Source code for mvsdist in scipy](https://github.com/scipy/scipy/blob/90534919e139d2a81c24bf08341734ff41a3db12/scipy/stats/morestats.py#L139)"
      ]
    }
  ]
}