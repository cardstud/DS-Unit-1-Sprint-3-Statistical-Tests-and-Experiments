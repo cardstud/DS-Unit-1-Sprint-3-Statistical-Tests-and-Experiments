{
  "nbformat": 4,
  "nbformat_minor": 0,
  "metadata": {
    "colab": {
      "name": "Copy of Oct_10_final_U1S3_study_guide.ipynb",
      "provenance": [],
      "collapsed_sections": [
        "-N52bCI-7XOP",
        "n5_pQhZq1QZc",
        "gk8NwmiK5mjj",
        "_mPb5Ozu7Loe",
        "U-LCgvvRrgFy",
        "mGcjXy6g5DJu",
        "98mH0_yD_QNX",
        "VyE3GxOrBsLz",
        "61huCem9EL6i",
        "LqGH2JLnsBud",
        "r8bW5CbCtjoZ",
        "040-UNdT9Ho-",
        "212uDMBy-4km",
        "hTT12S4pCXlh",
        "bltCdnQ2JLd8",
        "5ABIwoZjLMw_",
        "ROHrKitSLnft",
        "ay0BOz_iMuRb",
        "EhrNk-CONV9u",
        "jCBZXfbBN0SH",
        "adaEhQ5xO0k2",
        "JWLsEF3ESGMs",
        "sd8FgDKcgfv8",
        "kNrsmz5Ah3qx",
        "omLJJY8hiYt9",
        "WkalhHWvkdMX",
        "k8AdE1KvnQgl",
        "Bd0KBftmv4gs",
        "oVd8Hn--BaX2",
        "gGDq-YPlIxqI",
        "Ij3CkmszIjRE",
        "wSQE7ZIyQglp",
        "PN1c_PCJRGKd",
        "VT0KVisGS2jS",
        "FzbeLt0sY-IH",
        "R9odkWMpZ7wn",
        "sd3TLpG1aHAW",
        "Z4jJ0hLtSlnL"
      ],
      "include_colab_link": true
    },
    "kernelspec": {
      "name": "python3",
      "display_name": "Python 3"
    }
  },
  "cells": [
    {
      "cell_type": "markdown",
      "metadata": {
        "id": "view-in-github",
        "colab_type": "text"
      },
      "source": [
        "<a href=\"https://colab.research.google.com/github/cardstud/DS-Unit-1-Sprint-3-Statistical-Tests-and-Experiments/blob/master/Oct_10_final_U1S3_study_guide.ipynb\" target=\"_parent\"><img src=\"https://colab.research.google.com/assets/colab-badge.svg\" alt=\"Open In Colab\"/></a>"
      ]
    },
    {
      "cell_type": "code",
      "metadata": {
        "id": "fI8ycF6nzWYM",
        "colab_type": "code",
        "colab": {}
      },
      "source": [
        "# USE FOR SPRINT 3 on 10/13/2019"
      ],
      "execution_count": 0,
      "outputs": []
    },
    {
      "cell_type": "markdown",
      "metadata": {
        "id": "-N52bCI-7XOP",
        "colab_type": "text"
      },
      "source": [
        "## Module 1- Probability, Statistics, and Inference\n",
        "- understanding of fundamental concepts of set theory and probability \n",
        "- permutations \n",
        "- combinations \n",
        "- expected value \n",
        "- variance \n",
        "- binomial distribution\n",
        "- Bernoulli trial\n",
        "- explain the importance of statistics in the context of informing a practical and reliable understanding of data\n"
      ]
    },
    {
      "cell_type": "markdown",
      "metadata": {
        "id": "n5_pQhZq1QZc",
        "colab_type": "text"
      },
      "source": [
        "### Set Theory"
      ]
    },
    {
      "cell_type": "code",
      "metadata": {
        "id": "eNcKTwd91NpR",
        "colab_type": "code",
        "colab": {}
      },
      "source": [
        "import numpy as np\n",
        "import pandas as pd\n",
        "import matplotlib.pyplot as plt"
      ],
      "execution_count": 0,
      "outputs": []
    },
    {
      "cell_type": "code",
      "metadata": {
        "id": "jhOlE9RLzgSI",
        "colab_type": "code",
        "outputId": "feefd8d8-03fb-40b2-9dcb-0eba3210489a",
        "colab": {
          "base_uri": "https://localhost:8080/",
          "height": 35
        }
      },
      "source": [
        "# instantiate a set\n",
        "# empty set\n",
        "my_set = set()\n",
        "set()"
      ],
      "execution_count": 0,
      "outputs": [
        {
          "output_type": "execute_result",
          "data": {
            "text/plain": [
              "set()"
            ]
          },
          "metadata": {
            "tags": []
          },
          "execution_count": 3
        }
      ]
    },
    {
      "cell_type": "code",
      "metadata": {
        "id": "hWepwT182jUm",
        "colab_type": "code",
        "outputId": "1c52b2fb-8626-402d-a119-10d6e3364c9f",
        "colab": {
          "base_uri": "https://localhost:8080/",
          "height": 1000
        }
      },
      "source": [
        "dir(my_set)"
      ],
      "execution_count": 0,
      "outputs": [
        {
          "output_type": "execute_result",
          "data": {
            "text/plain": [
              "['__and__',\n",
              " '__class__',\n",
              " '__contains__',\n",
              " '__delattr__',\n",
              " '__dir__',\n",
              " '__doc__',\n",
              " '__eq__',\n",
              " '__format__',\n",
              " '__ge__',\n",
              " '__getattribute__',\n",
              " '__gt__',\n",
              " '__hash__',\n",
              " '__iand__',\n",
              " '__init__',\n",
              " '__init_subclass__',\n",
              " '__ior__',\n",
              " '__isub__',\n",
              " '__iter__',\n",
              " '__ixor__',\n",
              " '__le__',\n",
              " '__len__',\n",
              " '__lt__',\n",
              " '__ne__',\n",
              " '__new__',\n",
              " '__or__',\n",
              " '__rand__',\n",
              " '__reduce__',\n",
              " '__reduce_ex__',\n",
              " '__repr__',\n",
              " '__ror__',\n",
              " '__rsub__',\n",
              " '__rxor__',\n",
              " '__setattr__',\n",
              " '__sizeof__',\n",
              " '__str__',\n",
              " '__sub__',\n",
              " '__subclasshook__',\n",
              " '__xor__',\n",
              " 'add',\n",
              " 'clear',\n",
              " 'copy',\n",
              " 'difference',\n",
              " 'difference_update',\n",
              " 'discard',\n",
              " 'intersection',\n",
              " 'intersection_update',\n",
              " 'isdisjoint',\n",
              " 'issubset',\n",
              " 'issuperset',\n",
              " 'pop',\n",
              " 'remove',\n",
              " 'symmetric_difference',\n",
              " 'symmetric_difference_update',\n",
              " 'union',\n",
              " 'update']"
            ]
          },
          "metadata": {
            "tags": []
          },
          "execution_count": 4
        }
      ]
    },
    {
      "cell_type": "code",
      "metadata": {
        "id": "wG0Hnloo0T-a",
        "colab_type": "code",
        "outputId": "7536ce16-b79f-4621-9361-ee05bcfcafad",
        "colab": {
          "base_uri": "https://localhost:8080/",
          "height": 35
        }
      },
      "source": [
        "# set from string\n",
        "my_set_str  = set('Python')\n",
        "my_set_str"
      ],
      "execution_count": 0,
      "outputs": [
        {
          "output_type": "execute_result",
          "data": {
            "text/plain": [
              "{'P', 'h', 'n', 'o', 't', 'y'}"
            ]
          },
          "metadata": {
            "tags": []
          },
          "execution_count": 5
        }
      ]
    },
    {
      "cell_type": "code",
      "metadata": {
        "id": "uDGu0bFI0UEj",
        "colab_type": "code",
        "outputId": "4eedc8b6-0599-43a6-f525-24cd25ae2b3f",
        "colab": {
          "base_uri": "https://localhost:8080/",
          "height": 35
        }
      },
      "source": [
        "# set from tuple\n",
        "my_set_tup = set(('a', 'e', 'i', 'o', 'u'))\n",
        "my_set_tup"
      ],
      "execution_count": 0,
      "outputs": [
        {
          "output_type": "execute_result",
          "data": {
            "text/plain": [
              "{'a', 'e', 'i', 'o', 'u'}"
            ]
          },
          "metadata": {
            "tags": []
          },
          "execution_count": 6
        }
      ]
    },
    {
      "cell_type": "code",
      "metadata": {
        "id": "0qC5vleU0tiL",
        "colab_type": "code",
        "outputId": "77325209-4044-490c-8fcb-2f5a75eb5203",
        "colab": {
          "base_uri": "https://localhost:8080/",
          "height": 35
        }
      },
      "source": [
        "# set from list\n",
        "my_set_list = set(['a', 'e', 'i', 'o', 'u'])\n",
        "my_set_list"
      ],
      "execution_count": 0,
      "outputs": [
        {
          "output_type": "execute_result",
          "data": {
            "text/plain": [
              "{'a', 'e', 'i', 'o', 'u'}"
            ]
          },
          "metadata": {
            "tags": []
          },
          "execution_count": 7
        }
      ]
    },
    {
      "cell_type": "code",
      "metadata": {
        "id": "P6MWYJQr01HM",
        "colab_type": "code",
        "outputId": "73fd2df1-377d-42e2-eebd-5f7dabdfb812",
        "colab": {
          "base_uri": "https://localhost:8080/",
          "height": 35
        }
      },
      "source": [
        "# set from range\n",
        "my_set_rang = set(range(5))\n",
        "my_set_rang"
      ],
      "execution_count": 0,
      "outputs": [
        {
          "output_type": "execute_result",
          "data": {
            "text/plain": [
              "{0, 1, 2, 3, 4}"
            ]
          },
          "metadata": {
            "tags": []
          },
          "execution_count": 8
        }
      ]
    },
    {
      "cell_type": "code",
      "metadata": {
        "id": "X46r4bwJ1VoK",
        "colab_type": "code",
        "outputId": "0a3c4e1d-59e0-4c9d-fea0-df78082b0880",
        "colab": {
          "base_uri": "https://localhost:8080/",
          "height": 35
        }
      },
      "source": [
        "# Set from set\n",
        "my_set = set({'a', 'e', 'i', 'o','u'})\n",
        "my_set"
      ],
      "execution_count": 0,
      "outputs": [
        {
          "output_type": "execute_result",
          "data": {
            "text/plain": [
              "{'a', 'e', 'i', 'o', 'u'}"
            ]
          },
          "metadata": {
            "tags": []
          },
          "execution_count": 9
        }
      ]
    },
    {
      "cell_type": "code",
      "metadata": {
        "id": "eXzFBmG51VrO",
        "colab_type": "code",
        "outputId": "b84892fb-b031-49f8-f3c0-3cdab57d4311",
        "colab": {
          "base_uri": "https://localhost:8080/",
          "height": 35
        }
      },
      "source": [
        "# set from a dictionary\n",
        "my_set = set({'a':1, 'e':2, 'i':3, 'o':4, 'u':5})\n",
        "my_set"
      ],
      "execution_count": 0,
      "outputs": [
        {
          "output_type": "execute_result",
          "data": {
            "text/plain": [
              "{'a', 'e', 'i', 'o', 'u'}"
            ]
          },
          "metadata": {
            "tags": []
          },
          "execution_count": 10
        }
      ]
    },
    {
      "cell_type": "code",
      "metadata": {
        "id": "s0qV4MPFzqCf",
        "colab_type": "code",
        "outputId": "126811b9-9ccd-4af9-e93c-3e51ff7d1e8d",
        "colab": {
          "base_uri": "https://localhost:8080/",
          "height": 1000
        }
      },
      "source": [
        "dir(my_set)"
      ],
      "execution_count": 0,
      "outputs": [
        {
          "output_type": "execute_result",
          "data": {
            "text/plain": [
              "['__and__',\n",
              " '__class__',\n",
              " '__contains__',\n",
              " '__delattr__',\n",
              " '__dir__',\n",
              " '__doc__',\n",
              " '__eq__',\n",
              " '__format__',\n",
              " '__ge__',\n",
              " '__getattribute__',\n",
              " '__gt__',\n",
              " '__hash__',\n",
              " '__iand__',\n",
              " '__init__',\n",
              " '__init_subclass__',\n",
              " '__ior__',\n",
              " '__isub__',\n",
              " '__iter__',\n",
              " '__ixor__',\n",
              " '__le__',\n",
              " '__len__',\n",
              " '__lt__',\n",
              " '__ne__',\n",
              " '__new__',\n",
              " '__or__',\n",
              " '__rand__',\n",
              " '__reduce__',\n",
              " '__reduce_ex__',\n",
              " '__repr__',\n",
              " '__ror__',\n",
              " '__rsub__',\n",
              " '__rxor__',\n",
              " '__setattr__',\n",
              " '__sizeof__',\n",
              " '__str__',\n",
              " '__sub__',\n",
              " '__subclasshook__',\n",
              " '__xor__',\n",
              " 'add',\n",
              " 'clear',\n",
              " 'copy',\n",
              " 'difference',\n",
              " 'difference_update',\n",
              " 'discard',\n",
              " 'intersection',\n",
              " 'intersection_update',\n",
              " 'isdisjoint',\n",
              " 'issubset',\n",
              " 'issuperset',\n",
              " 'pop',\n",
              " 'remove',\n",
              " 'symmetric_difference',\n",
              " 'symmetric_difference_update',\n",
              " 'union',\n",
              " 'update']"
            ]
          },
          "metadata": {
            "tags": []
          },
          "execution_count": 11
        }
      ]
    },
    {
      "cell_type": "code",
      "metadata": {
        "id": "Bth3QGev0FGf",
        "colab_type": "code",
        "outputId": "711ae5ff-7282-404e-973c-e5603d46bfe9",
        "colab": {
          "base_uri": "https://localhost:8080/",
          "height": 1000
        }
      },
      "source": [
        "help(my_set)"
      ],
      "execution_count": 0,
      "outputs": [
        {
          "output_type": "stream",
          "text": [
            "Help on set object:\n",
            "\n",
            "class set(object)\n",
            " |  set() -> new empty set object\n",
            " |  set(iterable) -> new set object\n",
            " |  \n",
            " |  Build an unordered collection of unique elements.\n",
            " |  \n",
            " |  Methods defined here:\n",
            " |  \n",
            " |  __and__(self, value, /)\n",
            " |      Return self&value.\n",
            " |  \n",
            " |  __contains__(...)\n",
            " |      x.__contains__(y) <==> y in x.\n",
            " |  \n",
            " |  __eq__(self, value, /)\n",
            " |      Return self==value.\n",
            " |  \n",
            " |  __ge__(self, value, /)\n",
            " |      Return self>=value.\n",
            " |  \n",
            " |  __getattribute__(self, name, /)\n",
            " |      Return getattr(self, name).\n",
            " |  \n",
            " |  __gt__(self, value, /)\n",
            " |      Return self>value.\n",
            " |  \n",
            " |  __iand__(self, value, /)\n",
            " |      Return self&=value.\n",
            " |  \n",
            " |  __init__(self, /, *args, **kwargs)\n",
            " |      Initialize self.  See help(type(self)) for accurate signature.\n",
            " |  \n",
            " |  __ior__(self, value, /)\n",
            " |      Return self|=value.\n",
            " |  \n",
            " |  __isub__(self, value, /)\n",
            " |      Return self-=value.\n",
            " |  \n",
            " |  __iter__(self, /)\n",
            " |      Implement iter(self).\n",
            " |  \n",
            " |  __ixor__(self, value, /)\n",
            " |      Return self^=value.\n",
            " |  \n",
            " |  __le__(self, value, /)\n",
            " |      Return self<=value.\n",
            " |  \n",
            " |  __len__(self, /)\n",
            " |      Return len(self).\n",
            " |  \n",
            " |  __lt__(self, value, /)\n",
            " |      Return self<value.\n",
            " |  \n",
            " |  __ne__(self, value, /)\n",
            " |      Return self!=value.\n",
            " |  \n",
            " |  __new__(*args, **kwargs) from builtins.type\n",
            " |      Create and return a new object.  See help(type) for accurate signature.\n",
            " |  \n",
            " |  __or__(self, value, /)\n",
            " |      Return self|value.\n",
            " |  \n",
            " |  __rand__(self, value, /)\n",
            " |      Return value&self.\n",
            " |  \n",
            " |  __reduce__(...)\n",
            " |      Return state information for pickling.\n",
            " |  \n",
            " |  __repr__(self, /)\n",
            " |      Return repr(self).\n",
            " |  \n",
            " |  __ror__(self, value, /)\n",
            " |      Return value|self.\n",
            " |  \n",
            " |  __rsub__(self, value, /)\n",
            " |      Return value-self.\n",
            " |  \n",
            " |  __rxor__(self, value, /)\n",
            " |      Return value^self.\n",
            " |  \n",
            " |  __sizeof__(...)\n",
            " |      S.__sizeof__() -> size of S in memory, in bytes\n",
            " |  \n",
            " |  __sub__(self, value, /)\n",
            " |      Return self-value.\n",
            " |  \n",
            " |  __xor__(self, value, /)\n",
            " |      Return self^value.\n",
            " |  \n",
            " |  add(...)\n",
            " |      Add an element to a set.\n",
            " |      \n",
            " |      This has no effect if the element is already present.\n",
            " |  \n",
            " |  clear(...)\n",
            " |      Remove all elements from this set.\n",
            " |  \n",
            " |  copy(...)\n",
            " |      Return a shallow copy of a set.\n",
            " |  \n",
            " |  difference(...)\n",
            " |      Return the difference of two or more sets as a new set.\n",
            " |      \n",
            " |      (i.e. all elements that are in this set but not the others.)\n",
            " |  \n",
            " |  difference_update(...)\n",
            " |      Remove all elements of another set from this set.\n",
            " |  \n",
            " |  discard(...)\n",
            " |      Remove an element from a set if it is a member.\n",
            " |      \n",
            " |      If the element is not a member, do nothing.\n",
            " |  \n",
            " |  intersection(...)\n",
            " |      Return the intersection of two sets as a new set.\n",
            " |      \n",
            " |      (i.e. all elements that are in both sets.)\n",
            " |  \n",
            " |  intersection_update(...)\n",
            " |      Update a set with the intersection of itself and another.\n",
            " |  \n",
            " |  isdisjoint(...)\n",
            " |      Return True if two sets have a null intersection.\n",
            " |  \n",
            " |  issubset(...)\n",
            " |      Report whether another set contains this set.\n",
            " |  \n",
            " |  issuperset(...)\n",
            " |      Report whether this set contains another set.\n",
            " |  \n",
            " |  pop(...)\n",
            " |      Remove and return an arbitrary set element.\n",
            " |      Raises KeyError if the set is empty.\n",
            " |  \n",
            " |  remove(...)\n",
            " |      Remove an element from a set; it must be a member.\n",
            " |      \n",
            " |      If the element is not a member, raise a KeyError.\n",
            " |  \n",
            " |  symmetric_difference(...)\n",
            " |      Return the symmetric difference of two sets as a new set.\n",
            " |      \n",
            " |      (i.e. all elements that are in exactly one of the sets.)\n",
            " |  \n",
            " |  symmetric_difference_update(...)\n",
            " |      Update a set with the symmetric difference of itself and another.\n",
            " |  \n",
            " |  union(...)\n",
            " |      Return the union of sets as a new set.\n",
            " |      \n",
            " |      (i.e. all elements that are in either set.)\n",
            " |  \n",
            " |  update(...)\n",
            " |      Update a set with the union of itself and others.\n",
            " |  \n",
            " |  ----------------------------------------------------------------------\n",
            " |  Data and other attributes defined here:\n",
            " |  \n",
            " |  __hash__ = None\n",
            "\n"
          ],
          "name": "stdout"
        }
      ]
    },
    {
      "cell_type": "code",
      "metadata": {
        "id": "E8tJBCxm2u5O",
        "colab_type": "code",
        "colab": {}
      },
      "source": [
        ""
      ],
      "execution_count": 0,
      "outputs": []
    },
    {
      "cell_type": "markdown",
      "metadata": {
        "id": "gk8NwmiK5mjj",
        "colab_type": "text"
      },
      "source": [
        "### Video Module 1 info"
      ]
    },
    {
      "cell_type": "code",
      "metadata": {
        "id": "OHcfcRaE5qOF",
        "colab_type": "code",
        "outputId": "0216604b-a8b3-4c4d-8442-0636ef6bac4c",
        "colab": {
          "base_uri": "https://localhost:8080/"
        }
      },
      "source": [
        "from scipy import stats\n",
        "dir(stats)"
      ],
      "execution_count": 0,
      "outputs": [
        {
          "output_type": "execute_result",
          "data": {
            "text/plain": [
              "['PearsonRConstantInputWarning',\n",
              " 'PearsonRNearConstantInputWarning',\n",
              " '__all__',\n",
              " '__builtins__',\n",
              " '__cached__',\n",
              " '__doc__',\n",
              " '__file__',\n",
              " '__loader__',\n",
              " '__name__',\n",
              " '__package__',\n",
              " '__path__',\n",
              " '__spec__',\n",
              " '_binned_statistic',\n",
              " '_constants',\n",
              " '_continuous_distns',\n",
              " '_discrete_distns',\n",
              " '_distn_infrastructure',\n",
              " '_distr_params',\n",
              " '_hypotests',\n",
              " '_multivariate',\n",
              " '_rvs_sampling',\n",
              " '_stats',\n",
              " '_stats_mstats_common',\n",
              " '_tukeylambda_stats',\n",
              " 'absolute_import',\n",
              " 'alpha',\n",
              " 'anderson',\n",
              " 'anderson_ksamp',\n",
              " 'anglit',\n",
              " 'ansari',\n",
              " 'arcsine',\n",
              " 'argus',\n",
              " 'bartlett',\n",
              " 'bayes_mvs',\n",
              " 'bernoulli',\n",
              " 'beta',\n",
              " 'betaprime',\n",
              " 'binned_statistic',\n",
              " 'binned_statistic_2d',\n",
              " 'binned_statistic_dd',\n",
              " 'binom',\n",
              " 'binom_test',\n",
              " 'boltzmann',\n",
              " 'boxcox',\n",
              " 'boxcox_llf',\n",
              " 'boxcox_normmax',\n",
              " 'boxcox_normplot',\n",
              " 'bradford',\n",
              " 'brunnermunzel',\n",
              " 'burr',\n",
              " 'burr12',\n",
              " 'cauchy',\n",
              " 'chi',\n",
              " 'chi2',\n",
              " 'chi2_contingency',\n",
              " 'chisquare',\n",
              " 'circmean',\n",
              " 'circstd',\n",
              " 'circvar',\n",
              " 'combine_pvalues',\n",
              " 'contingency',\n",
              " 'cosine',\n",
              " 'crystalball',\n",
              " 'cumfreq',\n",
              " 'describe',\n",
              " 'dgamma',\n",
              " 'dirichlet',\n",
              " 'distributions',\n",
              " 'division',\n",
              " 'dlaplace',\n",
              " 'dweibull',\n",
              " 'energy_distance',\n",
              " 'entropy',\n",
              " 'epps_singleton_2samp',\n",
              " 'erlang',\n",
              " 'expon',\n",
              " 'exponnorm',\n",
              " 'exponpow',\n",
              " 'exponweib',\n",
              " 'f',\n",
              " 'f_oneway',\n",
              " 'fatiguelife',\n",
              " 'find_repeats',\n",
              " 'fisher_exact',\n",
              " 'fisk',\n",
              " 'fligner',\n",
              " 'foldcauchy',\n",
              " 'foldnorm',\n",
              " 'frechet_l',\n",
              " 'frechet_r',\n",
              " 'friedmanchisquare',\n",
              " 'gamma',\n",
              " 'gausshyper',\n",
              " 'gaussian_kde',\n",
              " 'genexpon',\n",
              " 'genextreme',\n",
              " 'gengamma',\n",
              " 'genhalflogistic',\n",
              " 'genlogistic',\n",
              " 'gennorm',\n",
              " 'genpareto',\n",
              " 'geom',\n",
              " 'gilbrat',\n",
              " 'gmean',\n",
              " 'gompertz',\n",
              " 'gstd',\n",
              " 'gumbel_l',\n",
              " 'gumbel_r',\n",
              " 'halfcauchy',\n",
              " 'halfgennorm',\n",
              " 'halflogistic',\n",
              " 'halfnorm',\n",
              " 'hmean',\n",
              " 'hypergeom',\n",
              " 'hypsecant',\n",
              " 'invgamma',\n",
              " 'invgauss',\n",
              " 'invweibull',\n",
              " 'invwishart',\n",
              " 'iqr',\n",
              " 'itemfreq',\n",
              " 'jarque_bera',\n",
              " 'johnsonsb',\n",
              " 'johnsonsu',\n",
              " 'kappa3',\n",
              " 'kappa4',\n",
              " 'kde',\n",
              " 'kendalltau',\n",
              " 'kruskal',\n",
              " 'ks_2samp',\n",
              " 'ksone',\n",
              " 'kstat',\n",
              " 'kstatvar',\n",
              " 'kstest',\n",
              " 'kstwobign',\n",
              " 'kurtosis',\n",
              " 'kurtosistest',\n",
              " 'laplace',\n",
              " 'levene',\n",
              " 'levy',\n",
              " 'levy_l',\n",
              " 'levy_stable',\n",
              " 'linregress',\n",
              " 'loggamma',\n",
              " 'logistic',\n",
              " 'loglaplace',\n",
              " 'lognorm',\n",
              " 'logser',\n",
              " 'lomax',\n",
              " 'mannwhitneyu',\n",
              " 'matrix_normal',\n",
              " 'maxwell',\n",
              " 'median_absolute_deviation',\n",
              " 'median_test',\n",
              " 'mielke',\n",
              " 'mode',\n",
              " 'moment',\n",
              " 'mood',\n",
              " 'morestats',\n",
              " 'moyal',\n",
              " 'mstats',\n",
              " 'mstats_basic',\n",
              " 'mstats_extras',\n",
              " 'multinomial',\n",
              " 'multivariate_normal',\n",
              " 'mvn',\n",
              " 'mvsdist',\n",
              " 'nakagami',\n",
              " 'nbinom',\n",
              " 'ncf',\n",
              " 'nct',\n",
              " 'ncx2',\n",
              " 'norm',\n",
              " 'normaltest',\n",
              " 'norminvgauss',\n",
              " 'obrientransform',\n",
              " 'ortho_group',\n",
              " 'pareto',\n",
              " 'pearson3',\n",
              " 'pearsonr',\n",
              " 'percentileofscore',\n",
              " 'planck',\n",
              " 'pointbiserialr',\n",
              " 'poisson',\n",
              " 'power_divergence',\n",
              " 'powerlaw',\n",
              " 'powerlognorm',\n",
              " 'powernorm',\n",
              " 'ppcc_max',\n",
              " 'ppcc_plot',\n",
              " 'print_function',\n",
              " 'probplot',\n",
              " 'randint',\n",
              " 'random_correlation',\n",
              " 'rankdata',\n",
              " 'ranksums',\n",
              " 'rayleigh',\n",
              " 'rdist',\n",
              " 'recipinvgauss',\n",
              " 'reciprocal',\n",
              " 'relfreq',\n",
              " 'rice',\n",
              " 'rv_continuous',\n",
              " 'rv_discrete',\n",
              " 'rv_histogram',\n",
              " 'rvs_ratio_uniforms',\n",
              " 'scoreatpercentile',\n",
              " 'sem',\n",
              " 'semicircular',\n",
              " 'shapiro',\n",
              " 'siegelslopes',\n",
              " 'sigmaclip',\n",
              " 'skellam',\n",
              " 'skew',\n",
              " 'skewnorm',\n",
              " 'skewtest',\n",
              " 'spearmanr',\n",
              " 'special_ortho_group',\n",
              " 'statlib',\n",
              " 'stats',\n",
              " 't',\n",
              " 'test',\n",
              " 'theilslopes',\n",
              " 'tiecorrect',\n",
              " 'tmax',\n",
              " 'tmean',\n",
              " 'tmin',\n",
              " 'trapz',\n",
              " 'triang',\n",
              " 'trim1',\n",
              " 'trim_mean',\n",
              " 'trimboth',\n",
              " 'truncexpon',\n",
              " 'truncnorm',\n",
              " 'tsem',\n",
              " 'tstd',\n",
              " 'ttest_1samp',\n",
              " 'ttest_ind',\n",
              " 'ttest_ind_from_stats',\n",
              " 'ttest_rel',\n",
              " 'tukeylambda',\n",
              " 'tvar',\n",
              " 'uniform',\n",
              " 'unitary_group',\n",
              " 'variation',\n",
              " 'vonmises',\n",
              " 'vonmises_line',\n",
              " 'wald',\n",
              " 'wasserstein_distance',\n",
              " 'weibull_max',\n",
              " 'weibull_min',\n",
              " 'weightedtau',\n",
              " 'wilcoxon',\n",
              " 'wishart',\n",
              " 'wrapcauchy',\n",
              " 'yeojohnson',\n",
              " 'yeojohnson_llf',\n",
              " 'yeojohnson_normmax',\n",
              " 'yeojohnson_normplot',\n",
              " 'yulesimon',\n",
              " 'zipf',\n",
              " 'zmap',\n",
              " 'zscore']"
            ]
          },
          "metadata": {
            "tags": []
          },
          "execution_count": 13
        }
      ]
    },
    {
      "cell_type": "code",
      "metadata": {
        "id": "fBBCEmXt5qQh",
        "colab_type": "code",
        "outputId": "48eb20ae-7674-41fb-f063-64f0e433b4a6",
        "colab": {
          "base_uri": "https://localhost:8080/"
        }
      },
      "source": [
        "norm = stats.norm()\n",
        "print(norm.mean())\n",
        "print(norm.std())\n",
        "print(norm.var())"
      ],
      "execution_count": 0,
      "outputs": [
        {
          "output_type": "stream",
          "text": [
            "0.0\n",
            "1.0\n",
            "1.0\n"
          ],
          "name": "stdout"
        }
      ]
    },
    {
      "cell_type": "code",
      "metadata": {
        "id": "ITxzzJlV5qS_",
        "colab_type": "code",
        "outputId": "a865758b-86ff-43be-8826-3fc54772c8a8",
        "colab": {
          "base_uri": "https://localhost:8080/"
        }
      },
      "source": [
        "# And a new friend - t\n",
        "t1 = stats.t(5)  # 5 is df \"shape\" parameter\n",
        "print(t1.mean())\n",
        "print(t1.std())\n",
        "print(t1.var())\n",
        "\n",
        "# so t has same mean as normal but larger standard deviation and variance\n",
        "# The t distribution is \"normal-ish\" - the larger parameter (which reflects its degrees of freedom - more input data/features will increase it), the closer to the true normal"
      ],
      "execution_count": 0,
      "outputs": [
        {
          "output_type": "stream",
          "text": [
            "0.0\n",
            "1.2909944487358056\n",
            "1.6666666666666667\n"
          ],
          "name": "stdout"
        }
      ]
    },
    {
      "cell_type": "code",
      "metadata": {
        "id": "svWgBfHg5qVE",
        "colab_type": "code",
        "colab": {}
      },
      "source": [
        "# parametrics means we are making assumptions that this process we are looking at is from or based on a distribution with the parameters\n",
        "# nonparamterics based on data directly"
      ],
      "execution_count": 0,
      "outputs": []
    },
    {
      "cell_type": "code",
      "metadata": {
        "id": "W8E_s3oe6j0y",
        "colab_type": "code",
        "outputId": "cf9ad6da-c94e-467d-b86b-bc284225fd22",
        "colab": {
          "base_uri": "https://localhost:8080/"
        }
      },
      "source": [
        "t2 = stats.t(30) # will be closer to normal\n",
        "print(t2.mean())\n",
        "print(t2.std())\n",
        "print(t2.var())"
      ],
      "execution_count": 0,
      "outputs": [
        {
          "output_type": "stream",
          "text": [
            "0.0\n",
            "1.0350983390135313\n",
            "1.0714285714285714\n"
          ],
          "name": "stdout"
        }
      ]
    },
    {
      "cell_type": "code",
      "metadata": {
        "id": "0HJJwKlx6j3E",
        "colab_type": "code",
        "colab": {}
      },
      "source": [
        ""
      ],
      "execution_count": 0,
      "outputs": []
    },
    {
      "cell_type": "code",
      "metadata": {
        "id": "5QXR_y9O6j5n",
        "colab_type": "code",
        "colab": {}
      },
      "source": [
        ""
      ],
      "execution_count": 0,
      "outputs": []
    },
    {
      "cell_type": "code",
      "metadata": {
        "id": "Gx74NOcS6j8b",
        "colab_type": "code",
        "colab": {}
      },
      "source": [
        ""
      ],
      "execution_count": 0,
      "outputs": []
    },
    {
      "cell_type": "markdown",
      "metadata": {
        "id": "_mPb5Ozu7Loe",
        "colab_type": "text"
      },
      "source": [
        "### Video Aaron Gallant\n",
        "- binomial distribution"
      ]
    },
    {
      "cell_type": "code",
      "metadata": {
        "id": "dG3L8vOM7M4K",
        "colab_type": "code",
        "colab": {}
      },
      "source": [
        "# The t test is the hypothesis test to know\n",
        "# The t test lets you compare whether or not the expected value, mean of one sample is different from another sample, with few assumptions\n",
        "# The z test uses the normal distribution but has more assumptions and assumes you know the population variance\n",
        "# As you get more data, the t tests acts like the z test"
      ],
      "execution_count": 0,
      "outputs": []
    },
    {
      "cell_type": "code",
      "metadata": {
        "id": "4FpwZFP97M6q",
        "colab_type": "code",
        "colab": {}
      },
      "source": [
        "# Coke or pepsi experiment\n",
        "# This will be represented as a binomial random variable\n",
        "# We want a list of 30 observations (sample size n = 30)\n"
      ],
      "execution_count": 0,
      "outputs": []
    },
    {
      "cell_type": "code",
      "metadata": {
        "id": "mix00pvV7M9P",
        "colab_type": "code",
        "outputId": "03eaf52d-9c7f-4516-d10f-5a1c95ebede2",
        "colab": {
          "base_uri": "https://localhost:8080/"
        }
      },
      "source": [
        "import random\n",
        "help(random.randint)"
      ],
      "execution_count": 0,
      "outputs": [
        {
          "output_type": "stream",
          "text": [
            "Help on method randint in module random:\n",
            "\n",
            "randint(a, b) method of random.Random instance\n",
            "    Return random integer in range [a, b], including both end points.\n",
            "\n"
          ],
          "name": "stdout"
        }
      ]
    },
    {
      "cell_type": "code",
      "metadata": {
        "id": "5UyCQy4NCeaS",
        "colab_type": "code",
        "colab": {}
      },
      "source": [
        "# Null hypothesis: There is no favorite"
      ],
      "execution_count": 0,
      "outputs": []
    },
    {
      "cell_type": "code",
      "metadata": {
        "id": "SA4mp5a-7M_q",
        "colab_type": "code",
        "colab": {}
      },
      "source": [
        "# 1. Start by generating random numbers"
      ],
      "execution_count": 0,
      "outputs": []
    },
    {
      "cell_type": "code",
      "metadata": {
        "id": "LjcUveT0BQ3A",
        "colab_type": "code",
        "outputId": "3b26c22d-cffe-440b-d0e2-b26f74b27024",
        "colab": {
          "base_uri": "https://localhost:8080/"
        }
      },
      "source": [
        "# 0 = likes Pepsi\n",
        "# 1 = likes Coke\n",
        "#random.randint(0, 1)\n",
        "\n",
        "# set a seed for this purpose\n",
        "random.seed(10)\n",
        "\n",
        "\n",
        "sample = [random.randint(0,1) for _ in range(30)]\n",
        "print(sample)  # print keeps it from putting values vertically"
      ],
      "execution_count": 0,
      "outputs": [
        {
          "output_type": "stream",
          "text": [
            "[0, 1, 1, 0, 0, 1, 1, 1, 0, 0, 1, 1, 0, 0, 1, 0, 1, 0, 1, 1, 1, 1, 1, 1, 0, 1, 1, 0, 1, 0]\n"
          ],
          "name": "stdout"
        }
      ]
    },
    {
      "cell_type": "code",
      "metadata": {
        "id": "Mlz_YfeQBQ5e",
        "colab_type": "code",
        "outputId": "ba4c056a-b681-4c62-c1c5-87ecf6c8d184",
        "colab": {
          "base_uri": "https://localhost:8080/"
        }
      },
      "source": [
        "# put sample in a df\n",
        "import pandas as pd\n",
        "df = pd.DataFrame(sample)\n",
        "df.describe()\n",
        "\n",
        "# in this sample, mean of .60 means 60% like Coke for seed 10\n",
        "# in this sample, mean of .30 means 30% like Coke for seed 42"
      ],
      "execution_count": 0,
      "outputs": [
        {
          "output_type": "execute_result",
          "data": {
            "text/html": [
              "<div>\n",
              "<style scoped>\n",
              "    .dataframe tbody tr th:only-of-type {\n",
              "        vertical-align: middle;\n",
              "    }\n",
              "\n",
              "    .dataframe tbody tr th {\n",
              "        vertical-align: top;\n",
              "    }\n",
              "\n",
              "    .dataframe thead th {\n",
              "        text-align: right;\n",
              "    }\n",
              "</style>\n",
              "<table border=\"1\" class=\"dataframe\">\n",
              "  <thead>\n",
              "    <tr style=\"text-align: right;\">\n",
              "      <th></th>\n",
              "      <th>0</th>\n",
              "    </tr>\n",
              "  </thead>\n",
              "  <tbody>\n",
              "    <tr>\n",
              "      <th>count</th>\n",
              "      <td>30.000000</td>\n",
              "    </tr>\n",
              "    <tr>\n",
              "      <th>mean</th>\n",
              "      <td>0.600000</td>\n",
              "    </tr>\n",
              "    <tr>\n",
              "      <th>std</th>\n",
              "      <td>0.498273</td>\n",
              "    </tr>\n",
              "    <tr>\n",
              "      <th>min</th>\n",
              "      <td>0.000000</td>\n",
              "    </tr>\n",
              "    <tr>\n",
              "      <th>25%</th>\n",
              "      <td>0.000000</td>\n",
              "    </tr>\n",
              "    <tr>\n",
              "      <th>50%</th>\n",
              "      <td>1.000000</td>\n",
              "    </tr>\n",
              "    <tr>\n",
              "      <th>75%</th>\n",
              "      <td>1.000000</td>\n",
              "    </tr>\n",
              "    <tr>\n",
              "      <th>max</th>\n",
              "      <td>1.000000</td>\n",
              "    </tr>\n",
              "  </tbody>\n",
              "</table>\n",
              "</div>"
            ],
            "text/plain": [
              "               0\n",
              "count  30.000000\n",
              "mean    0.600000\n",
              "std     0.498273\n",
              "min     0.000000\n",
              "25%     0.000000\n",
              "50%     1.000000\n",
              "75%     1.000000\n",
              "max     1.000000"
            ]
          },
          "metadata": {
            "tags": []
          },
          "execution_count": 23
        }
      ]
    },
    {
      "cell_type": "code",
      "metadata": {
        "id": "YQxXVX3NBQ8Q",
        "colab_type": "code",
        "outputId": "ed58caec-8a26-4032-e475-26594acb49ba",
        "colab": {
          "base_uri": "https://localhost:8080/"
        }
      },
      "source": [
        "# Make a histogram\n",
        "df.plot.hist();"
      ],
      "execution_count": 0,
      "outputs": [
        {
          "output_type": "display_data",
          "data": {
            "image/png": "[encoded data removed]",
            "text/plain": [
              "<Figure size 432x288 with 1 Axes>"
            ]
          },
          "metadata": {
            "tags": []
          }
        }
      ]
    },
    {
      "cell_type": "code",
      "metadata": {
        "id": "OR41K2BkBQ-6",
        "colab_type": "code",
        "colab": {}
      },
      "source": [
        "# Now lets test it (remember this is just a binomial distribution)"
      ],
      "execution_count": 0,
      "outputs": []
    },
    {
      "cell_type": "code",
      "metadata": {
        "id": "7WTBNuw7EJ_n",
        "colab_type": "code",
        "colab": {}
      },
      "source": [
        "import scipy"
      ],
      "execution_count": 0,
      "outputs": []
    },
    {
      "cell_type": "code",
      "metadata": {
        "id": "Z7bAQW32EG8v",
        "colab_type": "code",
        "outputId": "69f1af28-1bc1-4205-8d95-974c92c792a0",
        "colab": {
          "base_uri": "https://localhost:8080/"
        }
      },
      "source": [
        "dir(scipy)"
      ],
      "execution_count": 0,
      "outputs": [
        {
          "output_type": "execute_result",
          "data": {
            "text/plain": [
              "['ALLOW_THREADS',\n",
              " 'AxisError',\n",
              " 'BUFSIZE',\n",
              " 'CLIP',\n",
              " 'ComplexWarning',\n",
              " 'DataSource',\n",
              " 'ERR_CALL',\n",
              " 'ERR_DEFAULT',\n",
              " 'ERR_IGNORE',\n",
              " 'ERR_LOG',\n",
              " 'ERR_PRINT',\n",
              " 'ERR_RAISE',\n",
              " 'ERR_WARN',\n",
              " 'FLOATING_POINT_SUPPORT',\n",
              " 'FPE_DIVIDEBYZERO',\n",
              " 'FPE_INVALID',\n",
              " 'FPE_OVERFLOW',\n",
              " 'FPE_UNDERFLOW',\n",
              " 'False_',\n",
              " 'Inf',\n",
              " 'Infinity',\n",
              " 'LowLevelCallable',\n",
              " 'MAXDIMS',\n",
              " 'MAY_SHARE_BOUNDS',\n",
              " 'MAY_SHARE_EXACT',\n",
              " 'MachAr',\n",
              " 'ModuleDeprecationWarning',\n",
              " 'NAN',\n",
              " 'NINF',\n",
              " 'NZERO',\n",
              " 'NaN',\n",
              " 'PINF',\n",
              " 'PZERO',\n",
              " 'RAISE',\n",
              " 'RankWarning',\n",
              " 'SHIFT_DIVIDEBYZERO',\n",
              " 'SHIFT_INVALID',\n",
              " 'SHIFT_OVERFLOW',\n",
              " 'SHIFT_UNDERFLOW',\n",
              " 'ScalarType',\n",
              " 'TooHardError',\n",
              " 'True_',\n",
              " 'UFUNC_BUFSIZE_DEFAULT',\n",
              " 'UFUNC_PYVALS_NAME',\n",
              " 'VisibleDeprecationWarning',\n",
              " 'WRAP',\n",
              " '_UFUNC_API',\n",
              " '__SCIPY_SETUP__',\n",
              " '__all__',\n",
              " '__builtins__',\n",
              " '__cached__',\n",
              " '__config__',\n",
              " '__doc__',\n",
              " '__file__',\n",
              " '__loader__',\n",
              " '__name__',\n",
              " '__numpy_version__',\n",
              " '__package__',\n",
              " '__path__',\n",
              " '__spec__',\n",
              " '__version__',\n",
              " '_add_newdoc_ufunc',\n",
              " '_arg',\n",
              " '_distributor_init',\n",
              " '_lib',\n",
              " 'absolute',\n",
              " 'absolute_import',\n",
              " 'add',\n",
              " 'add_docstring',\n",
              " 'add_newdoc',\n",
              " 'add_newdoc_ufunc',\n",
              " 'alen',\n",
              " 'all',\n",
              " 'allclose',\n",
              " 'alltrue',\n",
              " 'amax',\n",
              " 'amin',\n",
              " 'angle',\n",
              " 'any',\n",
              " 'append',\n",
              " 'apply_along_axis',\n",
              " 'apply_over_axes',\n",
              " 'arange',\n",
              " 'arccos',\n",
              " 'arccosh',\n",
              " 'arcsin',\n",
              " 'arcsinh',\n",
              " 'arctan',\n",
              " 'arctan2',\n",
              " 'arctanh',\n",
              " 'argmax',\n",
              " 'argmin',\n",
              " 'argpartition',\n",
              " 'argsort',\n",
              " 'argwhere',\n",
              " 'around',\n",
              " 'array',\n",
              " 'array2string',\n",
              " 'array_equal',\n",
              " 'array_equiv',\n",
              " 'array_repr',\n",
              " 'array_split',\n",
              " 'array_str',\n",
              " 'asanyarray',\n",
              " 'asarray',\n",
              " 'asarray_chkfinite',\n",
              " 'ascontiguousarray',\n",
              " 'asfarray',\n",
              " 'asfortranarray',\n",
              " 'asmatrix',\n",
              " 'asscalar',\n",
              " 'atleast_1d',\n",
              " 'atleast_2d',\n",
              " 'atleast_3d',\n",
              " 'average',\n",
              " 'bartlett',\n",
              " 'base_repr',\n",
              " 'binary_repr',\n",
              " 'bincount',\n",
              " 'bitwise_and',\n",
              " 'bitwise_not',\n",
              " 'bitwise_or',\n",
              " 'bitwise_xor',\n",
              " 'blackman',\n",
              " 'block',\n",
              " 'bmat',\n",
              " 'bool8',\n",
              " 'bool_',\n",
              " 'broadcast',\n",
              " 'broadcast_arrays',\n",
              " 'broadcast_to',\n",
              " 'busday_count',\n",
              " 'busday_offset',\n",
              " 'busdaycalendar',\n",
              " 'byte',\n",
              " 'byte_bounds',\n",
              " 'bytes0',\n",
              " 'bytes_',\n",
              " 'c_',\n",
              " 'can_cast',\n",
              " 'cast',\n",
              " 'cbrt',\n",
              " 'cdouble',\n",
              " 'ceil',\n",
              " 'cfloat',\n",
              " 'char',\n",
              " 'character',\n",
              " 'chararray',\n",
              " 'choose',\n",
              " 'clip',\n",
              " 'clongdouble',\n",
              " 'clongfloat',\n",
              " 'column_stack',\n",
              " 'common_type',\n",
              " 'compare_chararrays',\n",
              " 'complex128',\n",
              " 'complex256',\n",
              " 'complex64',\n",
              " 'complex_',\n",
              " 'complexfloating',\n",
              " 'compress',\n",
              " 'concatenate',\n",
              " 'conj',\n",
              " 'conjugate',\n",
              " 'convolve',\n",
              " 'copy',\n",
              " 'copysign',\n",
              " 'copyto',\n",
              " 'corrcoef',\n",
              " 'correlate',\n",
              " 'cos',\n",
              " 'cosh',\n",
              " 'count_nonzero',\n",
              " 'cov',\n",
              " 'cross',\n",
              " 'csingle',\n",
              " 'ctypeslib',\n",
              " 'cumprod',\n",
              " 'cumproduct',\n",
              " 'cumsum',\n",
              " 'datetime64',\n",
              " 'datetime_as_string',\n",
              " 'datetime_data',\n",
              " 'deg2rad',\n",
              " 'degrees',\n",
              " 'delete',\n",
              " 'deprecate',\n",
              " 'deprecate_with_doc',\n",
              " 'diag',\n",
              " 'diag_indices',\n",
              " 'diag_indices_from',\n",
              " 'diagflat',\n",
              " 'diagonal',\n",
              " 'diff',\n",
              " 'digitize',\n",
              " 'disp',\n",
              " 'divide',\n",
              " 'division',\n",
              " 'divmod',\n",
              " 'dot',\n",
              " 'double',\n",
              " 'dsplit',\n",
              " 'dstack',\n",
              " 'dtype',\n",
              " 'e',\n",
              " 'ediff1d',\n",
              " 'einsum',\n",
              " 'einsum_path',\n",
              " 'emath',\n",
              " 'empty',\n",
              " 'empty_like',\n",
              " 'equal',\n",
              " 'errstate',\n",
              " 'euler_gamma',\n",
              " 'exp',\n",
              " 'exp2',\n",
              " 'expand_dims',\n",
              " 'expm1',\n",
              " 'extract',\n",
              " 'eye',\n",
              " 'fabs',\n",
              " 'fastCopyAndTranspose',\n",
              " 'fft',\n",
              " 'fill_diagonal',\n",
              " 'find_common_type',\n",
              " 'finfo',\n",
              " 'fix',\n",
              " 'flatiter',\n",
              " 'flatnonzero',\n",
              " 'flexible',\n",
              " 'flip',\n",
              " 'fliplr',\n",
              " 'flipud',\n",
              " 'float128',\n",
              " 'float16',\n",
              " 'float32',\n",
              " 'float64',\n",
              " 'float_',\n",
              " 'float_power',\n",
              " 'floating',\n",
              " 'floor',\n",
              " 'floor_divide',\n",
              " 'fmax',\n",
              " 'fmin',\n",
              " 'fmod',\n",
              " 'format_float_positional',\n",
              " 'format_float_scientific',\n",
              " 'format_parser',\n",
              " 'frexp',\n",
              " 'frombuffer',\n",
              " 'fromfile',\n",
              " 'fromfunction',\n",
              " 'fromiter',\n",
              " 'frompyfunc',\n",
              " 'fromregex',\n",
              " 'fromstring',\n",
              " 'full',\n",
              " 'full_like',\n",
              " 'fv',\n",
              " 'gcd',\n",
              " 'generic',\n",
              " 'genfromtxt',\n",
              " 'geomspace',\n",
              " 'get_array_wrap',\n",
              " 'get_include',\n",
              " 'get_printoptions',\n",
              " 'getbufsize',\n",
              " 'geterr',\n",
              " 'geterrcall',\n",
              " 'geterrobj',\n",
              " 'gradient',\n",
              " 'greater',\n",
              " 'greater_equal',\n",
              " 'half',\n",
              " 'hamming',\n",
              " 'hanning',\n",
              " 'heaviside',\n",
              " 'histogram',\n",
              " 'histogram2d',\n",
              " 'histogram_bin_edges',\n",
              " 'histogramdd',\n",
              " 'hsplit',\n",
              " 'hstack',\n",
              " 'hypot',\n",
              " 'i0',\n",
              " 'identity',\n",
              " 'ifft',\n",
              " 'iinfo',\n",
              " 'imag',\n",
              " 'in1d',\n",
              " 'index_exp',\n",
              " 'indices',\n",
              " 'inexact',\n",
              " 'inf',\n",
              " 'info',\n",
              " 'infty',\n",
              " 'inner',\n",
              " 'insert',\n",
              " 'int0',\n",
              " 'int16',\n",
              " 'int32',\n",
              " 'int64',\n",
              " 'int8',\n",
              " 'int_',\n",
              " 'int_asbuffer',\n",
              " 'intc',\n",
              " 'integer',\n",
              " 'integrate',\n",
              " 'interp',\n",
              " 'interpolate',\n",
              " 'intersect1d',\n",
              " 'intp',\n",
              " 'invert',\n",
              " 'ipmt',\n",
              " 'irr',\n",
              " 'is_busday',\n",
              " 'isclose',\n",
              " 'iscomplex',\n",
              " 'iscomplexobj',\n",
              " 'isfinite',\n",
              " 'isfortran',\n",
              " 'isin',\n",
              " 'isinf',\n",
              " 'isnan',\n",
              " 'isnat',\n",
              " 'isneginf',\n",
              " 'isposinf',\n",
              " 'isreal',\n",
              " 'isrealobj',\n",
              " 'isscalar',\n",
              " 'issctype',\n",
              " 'issubclass_',\n",
              " 'issubdtype',\n",
              " 'issubsctype',\n",
              " 'iterable',\n",
              " 'ix_',\n",
              " 'kaiser',\n",
              " 'kron',\n",
              " 'lcm',\n",
              " 'ldexp',\n",
              " 'left_shift',\n",
              " 'less',\n",
              " 'less_equal',\n",
              " 'lexsort',\n",
              " 'linalg',\n",
              " 'linspace',\n",
              " 'little_endian',\n",
              " 'load',\n",
              " 'loads',\n",
              " 'loadtxt',\n",
              " 'log',\n",
              " 'log10',\n",
              " 'log1p',\n",
              " 'log2',\n",
              " 'logaddexp',\n",
              " 'logaddexp2',\n",
              " 'logical_and',\n",
              " 'logical_not',\n",
              " 'logical_or',\n",
              " 'logical_xor',\n",
              " 'logn',\n",
              " 'logspace',\n",
              " 'long',\n",
              " 'longcomplex',\n",
              " 'longdouble',\n",
              " 'longfloat',\n",
              " 'longlong',\n",
              " 'lookfor',\n",
              " 'ma',\n",
              " 'mafromtxt',\n",
              " 'mask_indices',\n",
              " 'mat',\n",
              " 'math',\n",
              " 'matmul',\n",
              " 'matrix',\n",
              " 'maximum',\n",
              " 'maximum_sctype',\n",
              " 'may_share_memory',\n",
              " 'mean',\n",
              " 'median',\n",
              " 'memmap',\n",
              " 'meshgrid',\n",
              " 'mgrid',\n",
              " 'min_scalar_type',\n",
              " 'minimum',\n",
              " 'mintypecode',\n",
              " 'mirr',\n",
              " 'misc',\n",
              " 'mod',\n",
              " 'modf',\n",
              " 'moveaxis',\n",
              " 'msort',\n",
              " 'multiply',\n",
              " 'nan',\n",
              " 'nan_to_num',\n",
              " 'nanargmax',\n",
              " 'nanargmin',\n",
              " 'nancumprod',\n",
              " 'nancumsum',\n",
              " 'nanmax',\n",
              " 'nanmean',\n",
              " 'nanmedian',\n",
              " 'nanmin',\n",
              " 'nanpercentile',\n",
              " 'nanprod',\n",
              " 'nanquantile',\n",
              " 'nanstd',\n",
              " 'nansum',\n",
              " 'nanvar',\n",
              " 'nbytes',\n",
              " 'ndarray',\n",
              " 'ndenumerate',\n",
              " 'ndfromtxt',\n",
              " 'ndim',\n",
              " 'ndindex',\n",
              " 'nditer',\n",
              " 'negative',\n",
              " 'nested_iters',\n",
              " 'newaxis',\n",
              " 'nextafter',\n",
              " 'nonzero',\n",
              " 'not_equal',\n",
              " 'nper',\n",
              " 'npv',\n",
              " 'number',\n",
              " 'obj2sctype',\n",
              " 'object0',\n",
              " 'object_',\n",
              " 'ogrid',\n",
              " 'ones',\n",
              " 'ones_like',\n",
              " 'optimize',\n",
              " 'outer',\n",
              " 'packbits',\n",
              " 'pad',\n",
              " 'partition',\n",
              " 'percentile',\n",
              " 'pi',\n",
              " 'piecewise',\n",
              " 'place',\n",
              " 'pmt',\n",
              " 'poly',\n",
              " 'poly1d',\n",
              " 'polyadd',\n",
              " 'polyder',\n",
              " 'polydiv',\n",
              " 'polyfit',\n",
              " 'polyint',\n",
              " 'polymul',\n",
              " 'polysub',\n",
              " 'polyval',\n",
              " 'positive',\n",
              " 'power',\n",
              " 'ppmt',\n",
              " 'print_function',\n",
              " 'printoptions',\n",
              " 'prod',\n",
              " 'product',\n",
              " 'promote_types',\n",
              " 'ptp',\n",
              " 'put',\n",
              " 'put_along_axis',\n",
              " 'putmask',\n",
              " 'pv',\n",
              " 'quantile',\n",
              " 'r_',\n",
              " 'rad2deg',\n",
              " 'radians',\n",
              " 'rand',\n",
              " 'randn',\n",
              " 'random',\n",
              " 'rank',\n",
              " 'rate',\n",
              " 'ravel',\n",
              " 'ravel_multi_index',\n",
              " 'real',\n",
              " 'real_if_close',\n",
              " 'rec',\n",
              " 'recarray',\n",
              " 'recfromcsv',\n",
              " 'recfromtxt',\n",
              " 'reciprocal',\n",
              " 'record',\n",
              " 'remainder',\n",
              " 'repeat',\n",
              " 'require',\n",
              " 'reshape',\n",
              " 'resize',\n",
              " 'result_type',\n",
              " 'right_shift',\n",
              " 'rint',\n",
              " 'roll',\n",
              " 'rollaxis',\n",
              " 'roots',\n",
              " 'rot90',\n",
              " 'round_',\n",
              " 'row_stack',\n",
              " 's_',\n",
              " 'safe_eval',\n",
              " 'save',\n",
              " 'savetxt',\n",
              " 'savez',\n",
              " 'savez_compressed',\n",
              " 'sctype2char',\n",
              " 'sctypeDict',\n",
              " 'sctypeNA',\n",
              " 'sctypes',\n",
              " 'searchsorted',\n",
              " 'select',\n",
              " 'set_numeric_ops',\n",
              " 'set_printoptions',\n",
              " 'set_string_function',\n",
              " 'setbufsize',\n",
              " 'setdiff1d',\n",
              " 'seterr',\n",
              " 'seterrcall',\n",
              " 'seterrobj',\n",
              " 'setxor1d',\n",
              " 'shape',\n",
              " 'shares_memory',\n",
              " 'short',\n",
              " 'show_config',\n",
              " 'show_numpy_config',\n",
              " 'sign',\n",
              " 'signbit',\n",
              " 'signedinteger',\n",
              " 'sin',\n",
              " 'sinc',\n",
              " 'single',\n",
              " 'singlecomplex',\n",
              " 'sinh',\n",
              " 'size',\n",
              " 'sometrue',\n",
              " 'sort',\n",
              " 'sort_complex',\n",
              " 'source',\n",
              " 'spacing',\n",
              " 'sparse',\n",
              " 'spatial',\n",
              " 'special',\n",
              " 'split',\n",
              " 'sqrt',\n",
              " 'square',\n",
              " 'squeeze',\n",
              " 'stack',\n",
              " 'stats',\n",
              " 'std',\n",
              " 'str0',\n",
              " 'str_',\n",
              " 'string_',\n",
              " 'subtract',\n",
              " 'sum',\n",
              " 'swapaxes',\n",
              " 'take',\n",
              " 'take_along_axis',\n",
              " 'tan',\n",
              " 'tanh',\n",
              " 'tensordot',\n",
              " 'test',\n",
              " 'tile',\n",
              " 'timedelta64',\n",
              " 'trace',\n",
              " 'tracemalloc_domain',\n",
              " 'transpose',\n",
              " 'trapz',\n",
              " 'tri',\n",
              " 'tril',\n",
              " 'tril_indices',\n",
              " 'tril_indices_from',\n",
              " 'trim_zeros',\n",
              " 'triu',\n",
              " 'triu_indices',\n",
              " 'triu_indices_from',\n",
              " 'true_divide',\n",
              " 'trunc',\n",
              " 'typeDict',\n",
              " 'typeNA',\n",
              " 'typecodes',\n",
              " 'typename',\n",
              " 'ubyte',\n",
              " 'ufunc',\n",
              " 'uint',\n",
              " 'uint0',\n",
              " 'uint16',\n",
              " 'uint32',\n",
              " 'uint64',\n",
              " 'uint8',\n",
              " 'uintc',\n",
              " 'uintp',\n",
              " 'ulonglong',\n",
              " 'unicode',\n",
              " 'unicode_',\n",
              " 'union1d',\n",
              " 'unique',\n",
              " 'unpackbits',\n",
              " 'unravel_index',\n",
              " 'unsignedinteger',\n",
              " 'unwrap',\n",
              " 'ushort',\n",
              " 'vander',\n",
              " 'var',\n",
              " 'vdot',\n",
              " 'vectorize',\n",
              " 'version',\n",
              " 'void',\n",
              " 'void0',\n",
              " 'vsplit',\n",
              " 'vstack',\n",
              " 'where',\n",
              " 'who',\n",
              " 'zeros',\n",
              " 'zeros_like']"
            ]
          },
          "metadata": {
            "tags": []
          },
          "execution_count": 27
        }
      ]
    },
    {
      "cell_type": "code",
      "metadata": {
        "id": "xVlA8WWzBRBV",
        "colab_type": "code",
        "outputId": "d064290f-bdb4-425a-b1f1-972fd19d45d8",
        "colab": {
          "base_uri": "https://localhost:8080/"
        }
      },
      "source": [
        "help(scipy.stats.ttest_1samp)  # we care about stats particularly in scipy with the different t tests, in this case ttest_1samp \n",
        "\n",
        "# ttest_1samp(a, popmean, axis=0, nan_policy='propagate')\n",
        "\n",
        "# Calculate the T-test for the mean of ONE group of scores\n",
        "#    and notice it says this is a two-sided test for the null hypothesis that the expected value (mean) of a sample of independent obserations 'a',\n",
        "#    is equal to the given population mean, 'popmean' (mu, but it is also our null hypothesis)\n",
        "\n",
        "# A two sample t-test null hypothesis is that the two different sample means are the same, so you pass the two different samples and it calculates mean of each and tests whether or not the means are close to each other based on the t distribution\n",
        "#    and in this case you dont need to give a null hypothesis\n",
        "\n",
        "# In a 1sample you do have to specify a null hypothesis - in this case the null hypothesis is: 0.5 showing that there is not a significant difference\n"
      ],
      "execution_count": 0,
      "outputs": [
        {
          "output_type": "stream",
          "text": [
            "Help on function ttest_1samp in module scipy.stats.stats:\n",
            "\n",
            "ttest_1samp(a, popmean, axis=0, nan_policy='propagate')\n",
            "    Calculate the T-test for the mean of ONE group of scores.\n",
            "    \n",
            "    This is a two-sided test for the null hypothesis that the expected value\n",
            "    (mean) of a sample of independent observations `a` is equal to the given\n",
            "    population mean, `popmean`.\n",
            "    \n",
            "    Parameters\n",
            "    ----------\n",
            "    a : array_like\n",
            "        sample observation\n",
            "    popmean : float or array_like\n",
            "        expected value in null hypothesis. If array_like, then it must have the\n",
            "        same shape as `a` excluding the axis dimension\n",
            "    axis : int or None, optional\n",
            "        Axis along which to compute test. If None, compute over the whole\n",
            "        array `a`.\n",
            "    nan_policy : {'propagate', 'raise', 'omit'}, optional\n",
            "        Defines how to handle when input contains nan. 'propagate' returns nan,\n",
            "        'raise' throws an error, 'omit' performs the calculations ignoring nan\n",
            "        values. Default is 'propagate'.\n",
            "    \n",
            "    Returns\n",
            "    -------\n",
            "    statistic : float or array\n",
            "        t-statistic\n",
            "    pvalue : float or array\n",
            "        two-tailed p-value\n",
            "    \n",
            "    Examples\n",
            "    --------\n",
            "    >>> from scipy import stats\n",
            "    \n",
            "    >>> np.random.seed(7654567)  # fix seed to get the same result\n",
            "    >>> rvs = stats.norm.rvs(loc=5, scale=10, size=(50,2))\n",
            "    \n",
            "    Test if mean of random sample is equal to true mean, and different mean.\n",
            "    We reject the null hypothesis in the second case and don't reject it in\n",
            "    the first case.\n",
            "    \n",
            "    >>> stats.ttest_1samp(rvs,5.0)\n",
            "    (array([-0.68014479, -0.04323899]), array([ 0.49961383,  0.96568674]))\n",
            "    >>> stats.ttest_1samp(rvs,0.0)\n",
            "    (array([ 2.77025808,  4.11038784]), array([ 0.00789095,  0.00014999]))\n",
            "    \n",
            "    Examples using axis and non-scalar dimension for population mean.\n",
            "    \n",
            "    >>> stats.ttest_1samp(rvs,[5.0,0.0])\n",
            "    (array([-0.68014479,  4.11038784]), array([  4.99613833e-01,   1.49986458e-04]))\n",
            "    >>> stats.ttest_1samp(rvs.T,[5.0,0.0],axis=1)\n",
            "    (array([-0.68014479,  4.11038784]), array([  4.99613833e-01,   1.49986458e-04]))\n",
            "    >>> stats.ttest_1samp(rvs,[[5.0],[0.0]])\n",
            "    (array([[-0.68014479, -0.04323899],\n",
            "           [ 2.77025808,  4.11038784]]), array([[  4.99613833e-01,   9.65686743e-01],\n",
            "           [  7.89094663e-03,   1.49986458e-04]]))\n",
            "\n"
          ],
          "name": "stdout"
        }
      ]
    },
    {
      "cell_type": "code",
      "metadata": {
        "id": "W8eAPryHDkMR",
        "colab_type": "code",
        "outputId": "a9ad738f-ae50-4a8e-b62c-9188c336ccfa",
        "colab": {
          "base_uri": "https://localhost:8080/"
        }
      },
      "source": [
        "# Run the test\n",
        "scipy.stats.ttest_1samp(df[0], 0.5)"
      ],
      "execution_count": 0,
      "outputs": [
        {
          "output_type": "execute_result",
          "data": {
            "text/plain": [
              "Ttest_1sampResult(statistic=1.0992421631894096, pvalue=0.2807046476465548)"
            ]
          },
          "metadata": {
            "tags": []
          },
          "execution_count": 29
        }
      ]
    },
    {
      "cell_type": "code",
      "metadata": {
        "id": "SKZNOcwIGppC",
        "colab_type": "code",
        "colab": {}
      },
      "source": [
        "# For seed 42:\n",
        "# how do we interpret the T-test result above?\n",
        "# the small p-value, 0.02577 tells us we reject the null hypothesis\n",
        "# the negative test statistic, -2.350, tells us that it is different in favoring values below 0.5, or in this case Pepsi, which is 0\n",
        "\n",
        "# For seed 10:\n",
        "# the large p-value says we must fail to reject the null hypothesis\n",
        "# the larger test statistic shows we are going in the postiive direction towards 1, towards Coke which we made = to 1\n"
      ],
      "execution_count": 0,
      "outputs": []
    },
    {
      "cell_type": "code",
      "metadata": {
        "id": "-bV6Hn8VH2cR",
        "colab_type": "code",
        "colab": {}
      },
      "source": [
        "# Challenge - put the entire above experiment into a loop, and run it a bunch of times for a bunch of different seeds and see how often the p value holds\n",
        "# random.seed(10)\n",
        "# sample = [random.randint(0,1) for _ in range(30)]\n",
        "# print(sample)\n",
        "# scipy.stats.ttest_1samp(df[0], 0.5)"
      ],
      "execution_count": 0,
      "outputs": []
    },
    {
      "cell_type": "code",
      "metadata": {
        "id": "J60yj5jeH2fV",
        "colab_type": "code",
        "colab": {}
      },
      "source": [
        "def bi_test(pop_mean, seed, iter_times):\n",
        "  p_list = []\n",
        "  for _ in range(iter_times):\n",
        "    random.seed(seed)\n",
        "    sample = [random.randint(0,1) for _ in range(30)]\n",
        "    print(sample)\n",
        "    t = scipy.stats.ttest_1samp(sample, pop_mean)\n",
        "    p_list.append(t)\n",
        "  print(p_list)\n",
        "    "
      ],
      "execution_count": 0,
      "outputs": []
    },
    {
      "cell_type": "code",
      "metadata": {
        "id": "0AaoGHteH2h0",
        "colab_type": "code",
        "outputId": "6a8397e0-8acc-4029-81e5-f8373b0b863f",
        "colab": {
          "base_uri": "https://localhost:8080/"
        }
      },
      "source": [
        "bi_test(.05, 42, 1); # work on above function"
      ],
      "execution_count": 0,
      "outputs": [
        {
          "output_type": "stream",
          "text": [
            "[0, 0, 1, 0, 0, 0, 0, 0, 1, 0, 0, 0, 0, 0, 0, 0, 1, 0, 1, 1, 0, 0, 1, 1, 1, 0, 0, 1, 0, 0]\n",
            "[Ttest_1sampResult(statistic=2.937848256965016, pvalue=0.00641773836852586)]\n"
          ],
          "name": "stdout"
        }
      ]
    },
    {
      "cell_type": "markdown",
      "metadata": {
        "id": "U-LCgvvRrgFy",
        "colab_type": "text"
      },
      "source": [
        "### Example using generated data"
      ]
    },
    {
      "cell_type": "code",
      "metadata": {
        "id": "HiOPBeofczL_",
        "colab_type": "code",
        "outputId": "8e1018f4-a4db-4143-ee7c-ab5d205e5a60",
        "colab": {
          "base_uri": "https://localhost:8080/"
        }
      },
      "source": [
        "# let's try to calculate test statistic from scratch\n",
        "# t statistic is difference in means divided by sample standard error\n",
        "# Lets reproduce t statistic\n",
        "from math import sqrt\n",
        "(df[0].mean() - 0.5) / (df[0].std()/ (sqrt(30)))\n",
        "\n",
        "# so its difference between sample mean, .60, and the true mean, 0.5 divided by standard error to give us the test statistic which is the x on the student-t interactive site\n"
      ],
      "execution_count": 0,
      "outputs": [
        {
          "output_type": "execute_result",
          "data": {
            "text/plain": [
              "1.0992421631894094"
            ]
          },
          "metadata": {
            "tags": []
          },
          "execution_count": 33
        }
      ]
    },
    {
      "cell_type": "code",
      "metadata": {
        "id": "6EvE72hdnAbO",
        "colab_type": "code",
        "outputId": "5ed8b401-19e8-44cc-d58a-3538952b94d5",
        "colab": {
          "base_uri": "https://localhost:8080/"
        }
      },
      "source": [
        "# Lets make some data\n",
        "survey_data = [0,1,0,1,0,0,0,1,1,0,0,1,1,1,1,1,1,1,\n",
        "              0,0,1,1,1,1,1,1,1,1,1,0,1,1,1,1,1,1,\n",
        "              1,0,1,0,1,1,0,1,0,1,1,0,0,0]\n",
        "\n",
        "# Try with scipy first\n",
        "scipy.stats.ttest_1samp(survey_data, 0.5)"
      ],
      "execution_count": 0,
      "outputs": [
        {
          "output_type": "execute_result",
          "data": {
            "text/plain": [
              "Ttest_1sampResult(statistic=2.364321853156195, pvalue=0.02207003200903075)"
            ]
          },
          "metadata": {
            "tags": []
          },
          "execution_count": 34
        }
      ]
    },
    {
      "cell_type": "code",
      "metadata": {
        "id": "yIALma5JczVO",
        "colab_type": "code",
        "colab": {}
      },
      "source": [
        "# Lets make a reusable function and do it from scratch - try with both scipy and ours\n",
        "def std(sample, mean):\n",
        "  std = 0\n",
        "  for obs in sample:\n",
        "    std += (obs - mean)**2\n",
        "  return (std / (len(sample)-1))**(1/2)\n",
        "\n",
        "def calculate_t_stat(sample, null_hyp):\n",
        "  sample_mean = sum(sample) / len(sample)\n",
        "  sample_std = std(sample, sample_mean)\n",
        "  return(sample_mean - null_hyp) / (sample_std / (len(sample)**(1/2)))\n",
        "  \n",
        "# 2 things that increase deviation: 1. lots of outliers, greater spread 2. smaller sample  "
      ],
      "execution_count": 0,
      "outputs": []
    },
    {
      "cell_type": "code",
      "metadata": {
        "id": "erF6082GH2m0",
        "colab_type": "code",
        "outputId": "94d1859c-bbfc-44a9-8f5c-70b9c22631be",
        "colab": {
          "base_uri": "https://localhost:8080/"
        }
      },
      "source": [
        "calculate_t_stat(survey_data, 0.5)"
      ],
      "execution_count": 0,
      "outputs": [
        {
          "output_type": "execute_result",
          "data": {
            "text/plain": [
              "2.364321853156195"
            ]
          },
          "metadata": {
            "tags": []
          },
          "execution_count": 36
        }
      ]
    },
    {
      "cell_type": "markdown",
      "metadata": {
        "id": "s8lA3_VnsR8C",
        "colab_type": "text"
      },
      "source": [
        "As $n \\rightarrow \\infty$, $\\hat{\\mu} \\approx \\mu$\n",
        "\n",
        "(\"mu hat\" is the sample mean, mu is the \"true\" \n",
        "population mean)"
      ]
    },
    {
      "cell_type": "code",
      "metadata": {
        "id": "_M4ongyWwU-c",
        "colab_type": "code",
        "outputId": "13de9fd3-6645-4bd1-9709-e94873e91301",
        "colab": {
          "base_uri": "https://localhost:8080/"
        }
      },
      "source": [
        "# Lets get the p-value\n",
        "t = scipy.stats.t(len(survey_data))\n",
        "s = t.cdf(calculate_t_stat(survey_data, 0.5))\n",
        "result = (s-1) / 2\n",
        "result"
      ],
      "execution_count": 0,
      "outputs": [
        {
          "output_type": "execute_result",
          "data": {
            "text/plain": [
              "-0.005496864338382701"
            ]
          },
          "metadata": {
            "tags": []
          },
          "execution_count": 37
        }
      ]
    },
    {
      "cell_type": "code",
      "metadata": {
        "id": "jgU_jfPSH2pP",
        "colab_type": "code",
        "outputId": "13343e23-c96d-46ab-f0bf-5a8c044838b0",
        "colab": {
          "base_uri": "https://localhost:8080/"
        }
      },
      "source": [
        "pd.DataFrame(survey_data).describe()"
      ],
      "execution_count": 0,
      "outputs": [
        {
          "output_type": "execute_result",
          "data": {
            "text/html": [
              "<div>\n",
              "<style scoped>\n",
              "    .dataframe tbody tr th:only-of-type {\n",
              "        vertical-align: middle;\n",
              "    }\n",
              "\n",
              "    .dataframe tbody tr th {\n",
              "        vertical-align: top;\n",
              "    }\n",
              "\n",
              "    .dataframe thead th {\n",
              "        text-align: right;\n",
              "    }\n",
              "</style>\n",
              "<table border=\"1\" class=\"dataframe\">\n",
              "  <thead>\n",
              "    <tr style=\"text-align: right;\">\n",
              "      <th></th>\n",
              "      <th>0</th>\n",
              "    </tr>\n",
              "  </thead>\n",
              "  <tbody>\n",
              "    <tr>\n",
              "      <th>count</th>\n",
              "      <td>50.000000</td>\n",
              "    </tr>\n",
              "    <tr>\n",
              "      <th>mean</th>\n",
              "      <td>0.660000</td>\n",
              "    </tr>\n",
              "    <tr>\n",
              "      <th>std</th>\n",
              "      <td>0.478518</td>\n",
              "    </tr>\n",
              "    <tr>\n",
              "      <th>min</th>\n",
              "      <td>0.000000</td>\n",
              "    </tr>\n",
              "    <tr>\n",
              "      <th>25%</th>\n",
              "      <td>0.000000</td>\n",
              "    </tr>\n",
              "    <tr>\n",
              "      <th>50%</th>\n",
              "      <td>1.000000</td>\n",
              "    </tr>\n",
              "    <tr>\n",
              "      <th>75%</th>\n",
              "      <td>1.000000</td>\n",
              "    </tr>\n",
              "    <tr>\n",
              "      <th>max</th>\n",
              "      <td>1.000000</td>\n",
              "    </tr>\n",
              "  </tbody>\n",
              "</table>\n",
              "</div>"
            ],
            "text/plain": [
              "               0\n",
              "count  50.000000\n",
              "mean    0.660000\n",
              "std     0.478518\n",
              "min     0.000000\n",
              "25%     0.000000\n",
              "50%     1.000000\n",
              "75%     1.000000\n",
              "max     1.000000"
            ]
          },
          "metadata": {
            "tags": []
          },
          "execution_count": 38
        }
      ]
    },
    {
      "cell_type": "code",
      "metadata": {
        "id": "mAvp5ur6mPAJ",
        "colab_type": "code",
        "colab": {}
      },
      "source": [
        ""
      ],
      "execution_count": 0,
      "outputs": []
    },
    {
      "cell_type": "markdown",
      "metadata": {
        "id": "uS5QelejzFOo",
        "colab_type": "text"
      },
      "source": [
        "### Demonstrate Mastery\n",
        "To demonstrate mastery of this module, you need to complete and pass a code review on each of the following:\n",
        "\n",
        "Objective challenge:\n",
        "Write Python functions to calculate both the number of combinations and the number of permutations for given $n$ and $k$ (yes, these functions definitely exist out there - code your own, and compare!).\n",
        "\n",
        "Objective challenge:\n",
        "Using scipy.stats.ttest_1samp, perform a t-test on the above scenario, with the following data as input:\n",
        "\n",
        "Copy\n",
        "[0, 1, 0, 1, 0, 0, 0, 1, 1, 0, 0, 1, 1, 1, 1, 1, 1, 1, 0, 0,\n",
        " 1, 1, 1, 1, 1, 1, 1, 1, 1, 0, 1, 1, 1, 1, 1, 1, 1, 0, 1, 0, 1,\n",
        " 1, 0, 1, 0, 1, 1, 0, 0, 0]\n",
        "This list represents 50 respondents to the survey, where a 1 indicates preference for Pepsi and a 0 indicates preferences for Coke.\n",
        "\n",
        "After you perform the test, try to interpret your results - one hint is that, for most statistical tests, a larger test statistic means more “significant” or unusual results."
      ]
    },
    {
      "cell_type": "markdown",
      "metadata": {
        "id": "mGcjXy6g5DJu",
        "colab_type": "text"
      },
      "source": [
        "### Permutations and Combinations"
      ]
    },
    {
      "cell_type": "code",
      "metadata": {
        "id": "gU21AkbN4Bo3",
        "colab_type": "code",
        "colab": {}
      },
      "source": [
        "from scipy import stats\n",
        "import math as m"
      ],
      "execution_count": 0,
      "outputs": []
    },
    {
      "cell_type": "code",
      "metadata": {
        "id": "2c9OAjDLqM3d",
        "colab_type": "code",
        "colab": {}
      },
      "source": [
        "#Functions to calculate both the number of combinations and number of permutations for given n and k"
      ],
      "execution_count": 0,
      "outputs": []
    },
    {
      "cell_type": "code",
      "metadata": {
        "id": "mNxwSlgBqM6l",
        "colab_type": "code",
        "outputId": "8a5385cf-59bb-4be4-e091-c5cca192e6b2",
        "colab": {
          "base_uri": "https://localhost:8080/"
        }
      },
      "source": [
        "# Let's say we have a lock with 10 numbers and we want to know how many ways can you choose 3 of them with repetition\n",
        "# Permutation with repetition = formula: n exponent k\n",
        "n = 10\n",
        "k = 3\n",
        "result = n**k\n",
        "result"
      ],
      "execution_count": 0,
      "outputs": [
        {
          "output_type": "execute_result",
          "data": {
            "text/plain": [
              "1000"
            ]
          },
          "metadata": {
            "tags": []
          },
          "execution_count": 41
        }
      ]
    },
    {
      "cell_type": "code",
      "metadata": {
        "id": "EHt5qRp0-Gcm",
        "colab_type": "code",
        "outputId": "6f4573c7-4d26-4374-a86e-9ee35026dacb",
        "colab": {
          "base_uri": "https://localhost:8080/"
        }
      },
      "source": [
        "# function for permutation with repetition\n",
        "def perm_rep(n, k):\n",
        "  return n**k\n",
        "\n",
        "perm_rep(10,3)"
      ],
      "execution_count": 0,
      "outputs": [
        {
          "output_type": "execute_result",
          "data": {
            "text/plain": [
              "1000"
            ]
          },
          "metadata": {
            "tags": []
          },
          "execution_count": 42
        }
      ]
    },
    {
      "cell_type": "code",
      "metadata": {
        "id": "XasJnUN53PrP",
        "colab_type": "code",
        "outputId": "c98cc462-d44f-490b-9c74-30ef011a6445",
        "colab": {
          "base_uri": "https://localhost:8080/"
        }
      },
      "source": [
        "# Let's say we have 16 pool balls and we want to know what order 16 balls could be in\n",
        "# Permutation without repetition = formula: n!/(n-k)!\n",
        "n = 16\n",
        "k = 16\n",
        "result = m.factorial(n) / m.factorial(n-k)\n",
        "result"
      ],
      "execution_count": 0,
      "outputs": [
        {
          "output_type": "execute_result",
          "data": {
            "text/plain": [
              "20922789888000.0"
            ]
          },
          "metadata": {
            "tags": []
          },
          "execution_count": 43
        }
      ]
    },
    {
      "cell_type": "code",
      "metadata": {
        "id": "1UT6HWtr4kzj",
        "colab_type": "code",
        "outputId": "e1999218-0573-42ed-b5d5-6f4cea5570e8",
        "colab": {
          "base_uri": "https://localhost:8080/"
        }
      },
      "source": [
        "# What if we want to know just 3 balls out of 16\n",
        "# Permutation without repitition = formula: n!/(n-k)!\n",
        "n = 16\n",
        "k = 3\n",
        "result = m.factorial(n) / m.factorial(n-k)\n",
        "result"
      ],
      "execution_count": 0,
      "outputs": [
        {
          "output_type": "execute_result",
          "data": {
            "text/plain": [
              "3360.0"
            ]
          },
          "metadata": {
            "tags": []
          },
          "execution_count": 44
        }
      ]
    },
    {
      "cell_type": "code",
      "metadata": {
        "id": "CuKGCVvQ-aw7",
        "colab_type": "code",
        "outputId": "eee1667a-05e8-4a27-e04a-372b1e67f381",
        "colab": {
          "base_uri": "https://localhost:8080/"
        }
      },
      "source": [
        "# function for permutation without repetition\n",
        "def perm_no_rep(n,k):\n",
        "  return m.factorial(n) / m.factorial(n-k)\n",
        "\n",
        "print(perm_no_rep(16,3), 'and', perm_no_rep(16,16))"
      ],
      "execution_count": 0,
      "outputs": [
        {
          "output_type": "stream",
          "text": [
            "3360.0 and 20922789888000.0\n"
          ],
          "name": "stdout"
        }
      ]
    },
    {
      "cell_type": "code",
      "metadata": {
        "id": "dIlnA8pV3Pt_",
        "colab_type": "code",
        "outputId": "23c6b104-b221-4393-9c2f-694febf573cb",
        "colab": {
          "base_uri": "https://localhost:8080/"
        }
      },
      "source": [
        "# we want to know which 3 pool balls are chosen, not the order. We know that 3 out of 16 gave us 3,360 permutations. But many of those are the same to us now, because we don’t care about what order\n",
        "# Combination without repetition = formula:  n!/ k!(n-k)!\n",
        "n = 16\n",
        "k = 3\n",
        "result = m.factorial(n) / ((m.factorial(k) * (m.factorial(n-k))))\n",
        "result"
      ],
      "execution_count": 0,
      "outputs": [
        {
          "output_type": "execute_result",
          "data": {
            "text/plain": [
              "560.0"
            ]
          },
          "metadata": {
            "tags": []
          },
          "execution_count": 46
        }
      ]
    },
    {
      "cell_type": "code",
      "metadata": {
        "id": "HghqP33e-m2P",
        "colab_type": "code",
        "outputId": "e2ff2e58-135f-437d-e454-92c0dd96079f",
        "colab": {
          "base_uri": "https://localhost:8080/"
        }
      },
      "source": [
        "# function for combination without repetition\n",
        "def comb_no_rep(n,k):\n",
        "  return m.factorial(n) / ((m.factorial(k) * (m.factorial(n-k))))\n",
        "\n",
        "comb_no_rep(16,3)"
      ],
      "execution_count": 0,
      "outputs": [
        {
          "output_type": "execute_result",
          "data": {
            "text/plain": [
              "560.0"
            ]
          },
          "metadata": {
            "tags": []
          },
          "execution_count": 47
        }
      ]
    },
    {
      "cell_type": "code",
      "metadata": {
        "id": "quWHUXgW3Pwl",
        "colab_type": "code",
        "outputId": "7ee47d37-f360-4abd-8956-e0bad0345876",
        "colab": {
          "base_uri": "https://localhost:8080/"
        }
      },
      "source": [
        "# we have five flavors of ice cream: banana, chocolate, lemon, strawberry and vanilla\n",
        "# we have 3 scoops, how many variations will there be\n",
        "# Combination with repetition = formula: (k + n - 1) / (k! * (n-1)!)\n",
        "n = 5\n",
        "k = 3\n",
        "result = (m.factorial(k + n - 1)) / (m.factorial(k) * m.factorial(n-1))\n",
        "result"
      ],
      "execution_count": 0,
      "outputs": [
        {
          "output_type": "execute_result",
          "data": {
            "text/plain": [
              "35.0"
            ]
          },
          "metadata": {
            "tags": []
          },
          "execution_count": 48
        }
      ]
    },
    {
      "cell_type": "code",
      "metadata": {
        "id": "SCvOyeO_-8BE",
        "colab_type": "code",
        "outputId": "15dbede3-42fb-4a21-91cf-934528bed9c9",
        "colab": {
          "base_uri": "https://localhost:8080/"
        }
      },
      "source": [
        "# function for combination with repetition\n",
        "def comb_rep(n,k):\n",
        "  return (m.factorial(k + n - 1)) / (m.factorial(k) * m.factorial(n-1))\n",
        "\n",
        "comb_rep(5,3)"
      ],
      "execution_count": 0,
      "outputs": [
        {
          "output_type": "execute_result",
          "data": {
            "text/plain": [
              "35.0"
            ]
          },
          "metadata": {
            "tags": []
          },
          "execution_count": 49
        }
      ]
    },
    {
      "cell_type": "code",
      "metadata": {
        "id": "WiS1J3QPqNCT",
        "colab_type": "code",
        "outputId": "1deca04a-1eea-4264-b875-4f80976471c3",
        "colab": {
          "base_uri": "https://localhost:8080/"
        }
      },
      "source": [
        "# Figure out 52 cards example\n",
        "# Combinations are a bit closer to sampling and statistics, while permutations are cool and fundamental but a bit further removed from most data science\n",
        "# Deck of 52 cards: \n",
        "#    1. How many ways are there to make subsets of size k from an overall set of n?  --without rep, without order\n",
        "comb_no_rep(52, 5)"
      ],
      "execution_count": 0,
      "outputs": [
        {
          "output_type": "execute_result",
          "data": {
            "text/plain": [
              "2598960.0"
            ]
          },
          "metadata": {
            "tags": []
          },
          "execution_count": 50
        }
      ]
    },
    {
      "cell_type": "code",
      "metadata": {
        "id": "ZEUxLcF9A4BS",
        "colab_type": "code",
        "outputId": "0b0d8187-2b10-4497-ff83-0b9c2174441e",
        "colab": {
          "base_uri": "https://localhost:8080/"
        }
      },
      "source": [
        "# 2. How many different unique ways are there to order any 5 cards\n",
        "perm_no_rep(52,52)"
      ],
      "execution_count": 0,
      "outputs": [
        {
          "output_type": "execute_result",
          "data": {
            "text/plain": [
              "8.065817517094388e+67"
            ]
          },
          "metadata": {
            "tags": []
          },
          "execution_count": 51
        }
      ]
    },
    {
      "cell_type": "code",
      "metadata": {
        "id": "N3Z76w6UA4ER",
        "colab_type": "code",
        "colab": {}
      },
      "source": [
        ""
      ],
      "execution_count": 0,
      "outputs": []
    },
    {
      "cell_type": "code",
      "metadata": {
        "id": "6iK1dhAbA4IW",
        "colab_type": "code",
        "colab": {}
      },
      "source": [
        ""
      ],
      "execution_count": 0,
      "outputs": []
    },
    {
      "cell_type": "markdown",
      "metadata": {
        "id": "98mH0_yD_QNX",
        "colab_type": "text"
      },
      "source": [
        "### Coke vs Pepsi"
      ]
    },
    {
      "cell_type": "code",
      "metadata": {
        "id": "3mGbsa-pmPC8",
        "colab_type": "code",
        "colab": {}
      },
      "source": [
        "# Coke vs Pepsi\n",
        "df =pd.DataFrame(data=[0, 1, 0, 1, 0, 0, 0, 1, 1, 0, 0, 1, 1, 1, 1, 1, 1, 1, 0, 0,\n",
        " 1, 1, 1, 1, 1, 1, 1, 1, 1, 0, 1, 1, 1, 1, 1, 1, 1, 0, 1, 0, 1,\n",
        " 1, 0, 1, 0, 1, 1, 0, 0, 0])"
      ],
      "execution_count": 0,
      "outputs": []
    },
    {
      "cell_type": "code",
      "metadata": {
        "id": "vEGNOOW2mPGg",
        "colab_type": "code",
        "outputId": "796c91ad-ec74-4fd9-c685-86075f8cef2f",
        "colab": {
          "base_uri": "https://localhost:8080/",
          "height": 198
        }
      },
      "source": [
        "df.head()"
      ],
      "execution_count": 0,
      "outputs": [
        {
          "output_type": "execute_result",
          "data": {
            "text/html": [
              "<div>\n",
              "<style scoped>\n",
              "    .dataframe tbody tr th:only-of-type {\n",
              "        vertical-align: middle;\n",
              "    }\n",
              "\n",
              "    .dataframe tbody tr th {\n",
              "        vertical-align: top;\n",
              "    }\n",
              "\n",
              "    .dataframe thead th {\n",
              "        text-align: right;\n",
              "    }\n",
              "</style>\n",
              "<table border=\"1\" class=\"dataframe\">\n",
              "  <thead>\n",
              "    <tr style=\"text-align: right;\">\n",
              "      <th></th>\n",
              "      <th>0</th>\n",
              "    </tr>\n",
              "  </thead>\n",
              "  <tbody>\n",
              "    <tr>\n",
              "      <th>0</th>\n",
              "      <td>0</td>\n",
              "    </tr>\n",
              "    <tr>\n",
              "      <th>1</th>\n",
              "      <td>1</td>\n",
              "    </tr>\n",
              "    <tr>\n",
              "      <th>2</th>\n",
              "      <td>0</td>\n",
              "    </tr>\n",
              "    <tr>\n",
              "      <th>3</th>\n",
              "      <td>1</td>\n",
              "    </tr>\n",
              "    <tr>\n",
              "      <th>4</th>\n",
              "      <td>0</td>\n",
              "    </tr>\n",
              "  </tbody>\n",
              "</table>\n",
              "</div>"
            ],
            "text/plain": [
              "   0\n",
              "0  0\n",
              "1  1\n",
              "2  0\n",
              "3  1\n",
              "4  0"
            ]
          },
          "metadata": {
            "tags": []
          },
          "execution_count": 53
        }
      ]
    },
    {
      "cell_type": "code",
      "metadata": {
        "id": "uMEu_56omPIw",
        "colab_type": "code",
        "outputId": "ca3e4711-9c54-42d1-a97e-6229658a18e9",
        "colab": {
          "base_uri": "https://localhost:8080/",
          "height": 288
        }
      },
      "source": [
        "df.describe()"
      ],
      "execution_count": 0,
      "outputs": [
        {
          "output_type": "execute_result",
          "data": {
            "text/html": [
              "<div>\n",
              "<style scoped>\n",
              "    .dataframe tbody tr th:only-of-type {\n",
              "        vertical-align: middle;\n",
              "    }\n",
              "\n",
              "    .dataframe tbody tr th {\n",
              "        vertical-align: top;\n",
              "    }\n",
              "\n",
              "    .dataframe thead th {\n",
              "        text-align: right;\n",
              "    }\n",
              "</style>\n",
              "<table border=\"1\" class=\"dataframe\">\n",
              "  <thead>\n",
              "    <tr style=\"text-align: right;\">\n",
              "      <th></th>\n",
              "      <th>0</th>\n",
              "    </tr>\n",
              "  </thead>\n",
              "  <tbody>\n",
              "    <tr>\n",
              "      <th>count</th>\n",
              "      <td>50.000000</td>\n",
              "    </tr>\n",
              "    <tr>\n",
              "      <th>mean</th>\n",
              "      <td>0.660000</td>\n",
              "    </tr>\n",
              "    <tr>\n",
              "      <th>std</th>\n",
              "      <td>0.478518</td>\n",
              "    </tr>\n",
              "    <tr>\n",
              "      <th>min</th>\n",
              "      <td>0.000000</td>\n",
              "    </tr>\n",
              "    <tr>\n",
              "      <th>25%</th>\n",
              "      <td>0.000000</td>\n",
              "    </tr>\n",
              "    <tr>\n",
              "      <th>50%</th>\n",
              "      <td>1.000000</td>\n",
              "    </tr>\n",
              "    <tr>\n",
              "      <th>75%</th>\n",
              "      <td>1.000000</td>\n",
              "    </tr>\n",
              "    <tr>\n",
              "      <th>max</th>\n",
              "      <td>1.000000</td>\n",
              "    </tr>\n",
              "  </tbody>\n",
              "</table>\n",
              "</div>"
            ],
            "text/plain": [
              "               0\n",
              "count  50.000000\n",
              "mean    0.660000\n",
              "std     0.478518\n",
              "min     0.000000\n",
              "25%     0.000000\n",
              "50%     1.000000\n",
              "75%     1.000000\n",
              "max     1.000000"
            ]
          },
          "metadata": {
            "tags": []
          },
          "execution_count": 54
        }
      ]
    },
    {
      "cell_type": "code",
      "metadata": {
        "id": "gkKVNQhomPLV",
        "colab_type": "code",
        "outputId": "be291b90-b841-4c80-84ac-ee2801a61c09",
        "colab": {
          "base_uri": "https://localhost:8080/",
          "height": 54
        }
      },
      "source": [
        "df_mean = df.sum() / len(df)\n",
        "df_mean"
      ],
      "execution_count": 0,
      "outputs": [
        {
          "output_type": "execute_result",
          "data": {
            "text/plain": [
              "0    0.66\n",
              "dtype: float64"
            ]
          },
          "metadata": {
            "tags": []
          },
          "execution_count": 55
        }
      ]
    },
    {
      "cell_type": "code",
      "metadata": {
        "id": "CvVjn6gFmPNz",
        "colab_type": "code",
        "outputId": "cfba6d88-82ca-4d9a-84d7-27cb98725866",
        "colab": {
          "base_uri": "https://localhost:8080/",
          "height": 54
        }
      },
      "source": [
        "df.mean()"
      ],
      "execution_count": 0,
      "outputs": [
        {
          "output_type": "execute_result",
          "data": {
            "text/plain": [
              "0    0.66\n",
              "dtype: float64"
            ]
          },
          "metadata": {
            "tags": []
          },
          "execution_count": 56
        }
      ]
    },
    {
      "cell_type": "code",
      "metadata": {
        "id": "XgKTvd98mPP4",
        "colab_type": "code",
        "outputId": "9e60e758-4322-47ef-d469-d4539aad37c7",
        "colab": {
          "base_uri": "https://localhost:8080/",
          "height": 54
        }
      },
      "source": [
        "df.var()"
      ],
      "execution_count": 0,
      "outputs": [
        {
          "output_type": "execute_result",
          "data": {
            "text/plain": [
              "0    0.22898\n",
              "dtype: float64"
            ]
          },
          "metadata": {
            "tags": []
          },
          "execution_count": 57
        }
      ]
    },
    {
      "cell_type": "code",
      "metadata": {
        "id": "zt9FNpVKmPSR",
        "colab_type": "code",
        "outputId": "fc987bdd-793a-472e-d094-56b50356b2e8",
        "colab": {
          "base_uri": "https://localhost:8080/",
          "height": 54
        }
      },
      "source": [
        "df.std()"
      ],
      "execution_count": 0,
      "outputs": [
        {
          "output_type": "execute_result",
          "data": {
            "text/plain": [
              "0    0.478518\n",
              "dtype: float64"
            ]
          },
          "metadata": {
            "tags": []
          },
          "execution_count": 58
        }
      ]
    },
    {
      "cell_type": "code",
      "metadata": {
        "id": "yvf-oNnSp7AM",
        "colab_type": "code",
        "colab": {}
      },
      "source": [
        "# Null is there is no favorite for Coke and Pepsi"
      ],
      "execution_count": 0,
      "outputs": []
    },
    {
      "cell_type": "code",
      "metadata": {
        "id": "mDG65KNQ66IE",
        "colab_type": "code",
        "outputId": "85f57daa-ae77-4da0-f3ce-9ad1ee409f02",
        "colab": {
          "base_uri": "https://localhost:8080/",
          "height": 35
        }
      },
      "source": [
        "scipy.stats.ttest_1samp(df, 0.5)"
      ],
      "execution_count": 0,
      "outputs": [
        {
          "output_type": "execute_result",
          "data": {
            "text/plain": [
              "Ttest_1sampResult(statistic=array([2.36432185]), pvalue=array([0.02207003]))"
            ]
          },
          "metadata": {
            "tags": []
          },
          "execution_count": 60
        }
      ]
    },
    {
      "cell_type": "code",
      "metadata": {
        "id": "QFXwR1f0qBoH",
        "colab_type": "code",
        "colab": {}
      },
      "source": [
        "# based on the above we would reject the null"
      ],
      "execution_count": 0,
      "outputs": []
    },
    {
      "cell_type": "code",
      "metadata": {
        "id": "m-ojoLPk66Kx",
        "colab_type": "code",
        "colab": {}
      },
      "source": [
        "def std(sample, mean):\n",
        "  std = 0\n",
        "  for obs in sample:\n",
        "    std += (obs - mean)**2\n",
        "  return (std / (len(sample)-1))**(1/2)\n",
        "\n",
        "def calculate_t_stat(sample, null_hyp):\n",
        "  sample_mean = sum(sample) / len(sample)\n",
        "  sample_std = std(sample, sample_mean)\n",
        "  return(sample_mean - mean) / (sample_std / (len(sample)**(1/2)))"
      ],
      "execution_count": 0,
      "outputs": []
    },
    {
      "cell_type": "code",
      "metadata": {
        "id": "RJDf8yfD_mPX",
        "colab_type": "code",
        "outputId": "73b3cdbc-088f-4693-8dbb-27d1c676df4d",
        "colab": {
          "base_uri": "https://localhost:8080/",
          "height": 262
        }
      },
      "source": [
        "calculate_t_stat(df, 0.5)"
      ],
      "execution_count": 0,
      "outputs": [
        {
          "output_type": "error",
          "ename": "NameError",
          "evalue": "ignored",
          "traceback": [
            "\u001b[0;31m---------------------------------------------------------------------------\u001b[0m",
            "\u001b[0;31mNameError\u001b[0m                                 Traceback (most recent call last)",
            "\u001b[0;32m<ipython-input-63-09be41b89b0d>\u001b[0m in \u001b[0;36m<module>\u001b[0;34m()\u001b[0m\n\u001b[0;32m----> 1\u001b[0;31m \u001b[0mcalculate_t_stat\u001b[0m\u001b[0;34m(\u001b[0m\u001b[0mdf\u001b[0m\u001b[0;34m,\u001b[0m \u001b[0;36m0.5\u001b[0m\u001b[0;34m)\u001b[0m\u001b[0;34m\u001b[0m\u001b[0;34m\u001b[0m\u001b[0m\n\u001b[0m",
            "\u001b[0;32m<ipython-input-62-877483cdfa7e>\u001b[0m in \u001b[0;36mcalculate_t_stat\u001b[0;34m(sample, null_hyp)\u001b[0m\n\u001b[1;32m      8\u001b[0m   \u001b[0msample_mean\u001b[0m \u001b[0;34m=\u001b[0m \u001b[0msum\u001b[0m\u001b[0;34m(\u001b[0m\u001b[0msample\u001b[0m\u001b[0;34m)\u001b[0m \u001b[0;34m/\u001b[0m \u001b[0mlen\u001b[0m\u001b[0;34m(\u001b[0m\u001b[0msample\u001b[0m\u001b[0;34m)\u001b[0m\u001b[0;34m\u001b[0m\u001b[0;34m\u001b[0m\u001b[0m\n\u001b[1;32m      9\u001b[0m   \u001b[0msample_std\u001b[0m \u001b[0;34m=\u001b[0m \u001b[0mstd\u001b[0m\u001b[0;34m(\u001b[0m\u001b[0msample\u001b[0m\u001b[0;34m,\u001b[0m \u001b[0msample_mean\u001b[0m\u001b[0;34m)\u001b[0m\u001b[0;34m\u001b[0m\u001b[0;34m\u001b[0m\u001b[0m\n\u001b[0;32m---> 10\u001b[0;31m   \u001b[0;32mreturn\u001b[0m\u001b[0;34m(\u001b[0m\u001b[0msample_mean\u001b[0m \u001b[0;34m-\u001b[0m \u001b[0mmean\u001b[0m\u001b[0;34m)\u001b[0m \u001b[0;34m/\u001b[0m \u001b[0;34m(\u001b[0m\u001b[0msample_std\u001b[0m \u001b[0;34m/\u001b[0m \u001b[0;34m(\u001b[0m\u001b[0mlen\u001b[0m\u001b[0;34m(\u001b[0m\u001b[0msample\u001b[0m\u001b[0;34m)\u001b[0m\u001b[0;34m**\u001b[0m\u001b[0;34m(\u001b[0m\u001b[0;36m1\u001b[0m\u001b[0;34m/\u001b[0m\u001b[0;36m2\u001b[0m\u001b[0;34m)\u001b[0m\u001b[0;34m)\u001b[0m\u001b[0;34m)\u001b[0m\u001b[0;34m\u001b[0m\u001b[0;34m\u001b[0m\u001b[0m\n\u001b[0m",
            "\u001b[0;31mNameError\u001b[0m: name 'mean' is not defined"
          ]
        }
      ]
    },
    {
      "cell_type": "code",
      "metadata": {
        "id": "r7dUM-Jj66Nj",
        "colab_type": "code",
        "colab": {}
      },
      "source": [
        "# Lets get the p-value\n",
        "t = scipy.stats.t(len(survey_data))\n",
        "s = t.cdf(calculate_t_stat(survey_data, 0.5))\n",
        "result = (s-1) / 2\n",
        "result"
      ],
      "execution_count": 0,
      "outputs": []
    },
    {
      "cell_type": "code",
      "metadata": {
        "id": "MbAsqhdN66Ur",
        "colab_type": "code",
        "colab": {}
      },
      "source": [
        ""
      ],
      "execution_count": 0,
      "outputs": []
    },
    {
      "cell_type": "markdown",
      "metadata": {
        "id": "VyE3GxOrBsLz",
        "colab_type": "text"
      },
      "source": [
        "### Bernoulli Distribution"
      ]
    },
    {
      "cell_type": "markdown",
      "metadata": {
        "id": "brMEUblFCADk",
        "colab_type": "text"
      },
      "source": [
        "The Bernoulli Distribution is the discrete probability distribution of a random variable which takes the value of 1 with probability p and the value of 0 with probability of q = 1-p, that is, the probability distribution of any single experiment that asks a yes-no question: the question results in a boolean-valued outcome, a single bit whose value is success/yes/true/one with probability p and failure/no/false/zero with probability q.\n",
        "\n",
        "- It can represent a coin toss wher 1 and 0 would represent \"heads\" and \"tails\" or vice versa.\n",
        "\n",
        "- The Bernoulli distribution is a special case of the binomial distribution where a single trial is conducted (so n would be 1).\n",
        "\n",
        "- It is also a special case of the two-point distribution, for which the possible outcomes need not be 0 and 1\n",
        "\n",
        "Properties\n",
        "\n",
        "- Pr(X=1) = p = 1 = 1-Pr(X=0) = 1-q\n",
        "\n",
        "- The maximum likelihood estimator of p based on a random sample is the sample mean\n",
        "\n",
        "Mean\n",
        "\n",
        "- The expected value of a Bernoulli random variable X is: E(X) = p\n",
        "\n",
        "Variance\n",
        "\n",
        "- The variance of a Bernoulli distributed X is:  Var[X] = pq = p(1-p)\n",
        "\n"
      ]
    },
    {
      "cell_type": "markdown",
      "metadata": {
        "id": "61huCem9EL6i",
        "colab_type": "text"
      },
      "source": [
        "### Binomial Distribution\n",
        "\n",
        "The binomial distribution with parameters n and p is the discrete probability distribution of the number of successes in a sequence o fn indenpendent experiments, asking a yes-no question, and each with its own boolean-valued outcome: success/yes/true/one(with probability p) or failure/no/false/zero (with probability q = 1-p()\n",
        "\n",
        "- A single success/failure experiment is also called a Bernoulli trial\n",
        "\n",
        "- The binomial distribution is frequently used to model the number of successes in a sample size n drawn with replacement from a population of size N.\n",
        "\n",
        "- If the sampling is carried out without replacement, the draws are not independent and so the resulting distribution is an hypergeometric distribution, not a binomial one.\n",
        "\n",
        "- However, for N much larger than n, the binomial distribution remains a good approximation\n",
        "\n",
        "Expected value: E[X] = np\n",
        "\n",
        "Variance: Var(X) = np(1-p)\n",
        "\n",
        "So:\n",
        "\n",
        "n = number of trials\n",
        "p = success probability for each trial\n"
      ]
    },
    {
      "cell_type": "code",
      "metadata": {
        "id": "e1pLg6zB66ae",
        "colab_type": "code",
        "colab": {}
      },
      "source": [
        "# Suppose a die is tossed 5 times, what is the probability of getting exactly 2 fours?\n",
        "# x = 2 (number of successes), n = 5 (number of trials), P = 0.167 (probability of success on a single trial)\n",
        "# combination(not repetitive?) * (0.167)squared * (0.833)cubed  since the formula is combination (n,x) times prob of x times (1-P)to the n-x\n",
        "\n",
        "# Binomial Probability (P(X=x))\n",
        "n = 5\n",
        "P = 0.167\n",
        "x = 2\n",
        "first_term = m.factorial(n) / ((m.factorial(x) * (m.factorial(n-x))))\n",
        "second_term = P**x\n",
        "third_term = (1-P)**(n-x)\n",
        "answer = first_term * second_term * third_term\n",
        "answer\n"
      ],
      "execution_count": 0,
      "outputs": []
    },
    {
      "cell_type": "code",
      "metadata": {
        "id": "do6ji307jZup",
        "colab_type": "code",
        "colab": {}
      },
      "source": [
        "# scipy.stats.binom(k, n, p)\n",
        "from scipy import stats\n",
        "answer1 = scipy.stats.binom(2, 5, .167)\n",
        "answer1"
      ],
      "execution_count": 0,
      "outputs": []
    },
    {
      "cell_type": "code",
      "metadata": {
        "id": "gd13TML0jZ3h",
        "colab_type": "code",
        "colab": {}
      },
      "source": [
        "# using scipy.stats.binom = factorial(n k) * p to k squared* (1-P) to the n-k\n",
        "p = .167\n",
        "n = 5\n",
        "k = 2\n",
        "answer = (m.factorial(n) / ((m.factorial(k) * (m.factorial(n-k)))))*(p**k) * (1-P)**(n-k)\n",
        "answer"
      ],
      "execution_count": 0,
      "outputs": []
    },
    {
      "cell_type": "code",
      "metadata": {
        "id": "b9Dx_QIam1co",
        "colab_type": "code",
        "colab": {}
      },
      "source": [
        "from scipy.stats import binom\n",
        "#n= 5, p = .167, size=100\n",
        "binom.pmf(n=5, p=.167, k=2)"
      ],
      "execution_count": 0,
      "outputs": []
    },
    {
      "cell_type": "code",
      "metadata": {
        "id": "sUAwI8PWhTzm",
        "colab_type": "code",
        "colab": {}
      },
      "source": [
        "# Draw samples from a binomial distribution (n= number of times, p = probability, size= number of samples)\n",
        "# numpy.random.binomial(n, p, size=None)\n",
        "# result of flipping a coin 10 times, tested 1000 times\n",
        "\n",
        "import numpy as np\n",
        "np.random.binomial(10, 0.5, 1000)"
      ],
      "execution_count": 0,
      "outputs": []
    },
    {
      "cell_type": "code",
      "metadata": {
        "id": "qYBhO9PSezrY",
        "colab_type": "code",
        "colab": {}
      },
      "source": [
        "help(stats)"
      ],
      "execution_count": 0,
      "outputs": []
    },
    {
      "cell_type": "code",
      "metadata": {
        "id": "CN10CO6Hezt-",
        "colab_type": "code",
        "colab": {}
      },
      "source": [
        "# Probability mass function\n",
        "from scipy.stats import binom\n",
        "import matplotlib.pyplot as plt\n",
        "\n",
        "fig, ax = plt.subplots(1, 1)\n",
        "n, p = 5, 0.4\n",
        "mean, var, skew, kurt = binom.stats(n, p, moments='mvsk')\n",
        "\n",
        "x = np.arange(binom.ppf(0.01, n, p),\n",
        "             binom.ppf(0.99, n, p))\n",
        "ax.plot(x, binom.pmf(x, n, p), 'bo', ms=8, label='binom pmf')\n",
        "ax.vlines(x, 0, binom.pmf(x, n, p), colors='b', lw=5, alpha=0.5)\n",
        "\n",
        "rv = binom(n, p)\n",
        "ax.vlines(x, 0, rv.pmf(x), colors='r', linestyles='-', lw=1,\n",
        "         label='frozen pmf')\n",
        "ax.legend(loc='best', frameon=False)\n",
        "plt.show()"
      ],
      "execution_count": 0,
      "outputs": []
    },
    {
      "cell_type": "code",
      "metadata": {
        "id": "Ild6BqSfezwN",
        "colab_type": "code",
        "colab": {}
      },
      "source": [
        ""
      ],
      "execution_count": 0,
      "outputs": []
    },
    {
      "cell_type": "code",
      "metadata": {
        "id": "yuIgYDAjez1C",
        "colab_type": "code",
        "colab": {}
      },
      "source": [
        ""
      ],
      "execution_count": 0,
      "outputs": []
    },
    {
      "cell_type": "markdown",
      "metadata": {
        "id": "LqGH2JLnsBud",
        "colab_type": "text"
      },
      "source": [
        "### Expected Value\n",
        "\n",
        "In probability theory, the expected value of a random variable is a key aspect of its probability distribution.\n",
        "\n",
        "- A random variable's expected value represents the average of a large number of independent realizations of the random variable\n",
        "\n",
        "- Also known as the expectation, mathematical expectation, mean, or first moment"
      ]
    },
    {
      "cell_type": "code",
      "metadata": {
        "id": "sRPn5FT3oWgO",
        "colab_type": "code",
        "colab": {}
      },
      "source": [
        "# you take 20 question multiple-choice test with A,B,C,D as answers and you guess all \"A\"\n",
        "# You can expect to get 25% right (5 out of 20)\n",
        "# Expected value: Probability (P) of getting a question right if you guess: .25, number of questions on test, n, = 20\n",
        "# so P = .25, n = 20\n",
        "# P x n = .25 x 20 = 5   (n may be shown as X)\n",
        "\n",
        "P = .25\n",
        "n = 20\n",
        "exp_value = P * n\n",
        "exp_value"
      ],
      "execution_count": 0,
      "outputs": []
    },
    {
      "cell_type": "code",
      "metadata": {
        "id": "vyIsYSdJoWnS",
        "colab_type": "code",
        "colab": {}
      },
      "source": [
        "# In probability, the average value of some random variable X is called the expected value or the expectation.\n",
        "# The expected value uses the notation E with square brackets around the name of the variable\n",
        "\n",
        "# Basic Expected Value Formula:  E[X] = P(x) * n\n",
        "\n",
        "# Expected Value Formula of a Binomial Random variable:   P(x) * X where X is the number of trials and P(x) is the probability of success\n",
        "#   if you toss a coin 10 times, the prob. of getting a heads each trial 1/2 so the expected value(the number of heads you can expect to get in 10 coin tosses) is:\n",
        "#   P(x) * X = 5 * 10 = 5"
      ],
      "execution_count": 0,
      "outputs": []
    },
    {
      "cell_type": "code",
      "metadata": {
        "id": "tEgtVlTeoXD5",
        "colab_type": "code",
        "colab": {}
      },
      "source": [
        ""
      ],
      "execution_count": 0,
      "outputs": []
    },
    {
      "cell_type": "markdown",
      "metadata": {
        "id": "r8bW5CbCtjoZ",
        "colab_type": "text"
      },
      "source": [
        "### Variance\n",
        "\n",
        "Variance Function, var(), is used to calculate the varianc of:\n",
        "- given set of numbers\n",
        "- variance of column and variance of rows\n",
        "\n",
        "#### Defined\n",
        "-Standard deviation is the square root of variance\n",
        "\n",
        "-Variance is the average of squared difference of values in a data set from the mean value\n",
        "\n",
        "#### Skewness\n",
        "- If index is between -1 and 1, the distribution is symmetric\n",
        "\n",
        "- If index is -1 or less, then it is skewed to the left\n",
        "\n",
        "- If index is at 1 or greater, then it is skewed to right\n"
      ]
    },
    {
      "cell_type": "code",
      "metadata": {
        "id": "sFgB_xgIoXGg",
        "colab_type": "code",
        "colab": {}
      },
      "source": [
        "# calculate variance\n",
        "import numpy as np\n",
        "a = [1,9,5,6,8,7]\n",
        "np.var(a)"
      ],
      "execution_count": 0,
      "outputs": []
    },
    {
      "cell_type": "code",
      "metadata": {
        "id": "jVhYiH5QoXJX",
        "colab_type": "code",
        "colab": {}
      },
      "source": [
        "print(np.var([4, -11, -5, 16, 5, 7, 9]))"
      ],
      "execution_count": 0,
      "outputs": []
    },
    {
      "cell_type": "code",
      "metadata": {
        "id": "OziPln8coXMu",
        "colab_type": "code",
        "colab": {}
      },
      "source": [
        "# Variance of df\n",
        "import pandas as pd\n",
        "import numpy as np\n",
        "\n",
        "d = {'Name':['Alisa', 'Bobby', 'Cathrine', 'Madonna', 'Rocky', 'Sebastian','Jaqluine','Rahul', 'David', 'Andrew', 'Ajay', 'Teresa'], \n",
        "    'Score1':[62,47,55,74,31,77,85,63,42,32,71,57],\n",
        "    'Score2':[89,87,67,55,47,72,76,79,44,92,99,69],\n",
        "    'Score3':[56,86,77,45,73,62,74,89,71,67,97,69]}\n",
        "df=pd.DataFrame(d)\n",
        "df"
      ],
      "execution_count": 0,
      "outputs": []
    },
    {
      "cell_type": "code",
      "metadata": {
        "id": "7bH9CtPdvBKQ",
        "colab_type": "code",
        "colab": {}
      },
      "source": [
        "df.var(axis=0) # column wise"
      ],
      "execution_count": 0,
      "outputs": []
    },
    {
      "cell_type": "code",
      "metadata": {
        "id": "_MjGpqNovjjq",
        "colab_type": "code",
        "colab": {}
      },
      "source": [
        "df.var(axis=1) # row wise"
      ],
      "execution_count": 0,
      "outputs": []
    },
    {
      "cell_type": "code",
      "metadata": {
        "id": "ySumMJpfvqC7",
        "colab_type": "code",
        "colab": {}
      },
      "source": [
        "# specific column\n",
        "df.loc[:, \"Score1\"].var()"
      ],
      "execution_count": 0,
      "outputs": []
    },
    {
      "cell_type": "code",
      "metadata": {
        "id": "AGlK948Hv0UG",
        "colab_type": "code",
        "colab": {}
      },
      "source": [
        "df.skew()"
      ],
      "execution_count": 0,
      "outputs": []
    },
    {
      "cell_type": "code",
      "metadata": {
        "id": "2q7Y7OIIxA2o",
        "colab_type": "code",
        "colab": {}
      },
      "source": [
        ""
      ],
      "execution_count": 0,
      "outputs": []
    },
    {
      "cell_type": "markdown",
      "metadata": {
        "id": "7rE3cBvR88BT",
        "colab_type": "text"
      },
      "source": [
        "### Lecture Notebook Module 1"
      ]
    },
    {
      "cell_type": "markdown",
      "metadata": {
        "id": "040-UNdT9Ho-",
        "colab_type": "text"
      },
      "source": [
        "#### Descriptive Statistics"
      ]
    },
    {
      "cell_type": "code",
      "metadata": {
        "id": "ciq9M18f8-4T",
        "colab_type": "code",
        "colab": {}
      },
      "source": [
        "import pandas as pd\n",
        "df = pd.DataFrame({'a':[1,2,3,4,5], 'b':[2,4,6,8,10], 'c':[1,5,2,7,3]})\n",
        "df.head()"
      ],
      "execution_count": 0,
      "outputs": []
    },
    {
      "cell_type": "code",
      "metadata": {
        "id": "0yZSeU438-6z",
        "colab_type": "code",
        "colab": {}
      },
      "source": [
        "# Quick look at summary stats\n",
        "df.describe()"
      ],
      "execution_count": 0,
      "outputs": []
    },
    {
      "cell_type": "code",
      "metadata": {
        "id": "qL0HTnpI8-9I",
        "colab_type": "code",
        "colab": {}
      },
      "source": [
        "# Mean of column a, b, c separately\n",
        "print(df['a'].mean()), print(df['b'].mean()), print(df['c'].mean())\n"
      ],
      "execution_count": 0,
      "outputs": []
    },
    {
      "cell_type": "code",
      "metadata": {
        "id": "TxDZ6HRe8-_m",
        "colab_type": "code",
        "colab": {}
      },
      "source": [
        "# Get min, max\n",
        "print(df['a'].max(), print(df['b'].min()))"
      ],
      "execution_count": 0,
      "outputs": []
    },
    {
      "cell_type": "markdown",
      "metadata": {
        "id": "LkTIsK8d-Rh3",
        "colab_type": "text"
      },
      "source": [
        "#### Statistical Inference\n",
        "Statistical inference is the act of generalizing from a sample to a population with calculate degree of certainty\n",
        "\n",
        "- we want to learn about population parameters using statistics calculate in the sample\n"
      ]
    },
    {
      "cell_type": "markdown",
      "metadata": {
        "id": "212uDMBy-4km",
        "colab_type": "text"
      },
      "source": [
        "#### Normal Distribution\n",
        "\n",
        "- A probability distribution of a continuous real valued random-variable.\n",
        "\n",
        "- The normal distribution properties make it useful for the Centeral Limit Theorem, because if we assume a variable follows the normal distribution, we can make certain conclusions based on probabilities"
      ]
    },
    {
      "cell_type": "code",
      "metadata": {
        "id": "PieWJtSL-pyE",
        "colab_type": "code",
        "colab": {}
      },
      "source": [
        "# Create random sample from normal distribution\n",
        "\n",
        "import numpy as np\n",
        "mu = 0     # mean\n",
        "sigma = 0.1 # standard deviation\n",
        "\n",
        "sample = np.random.normal(mu, sigma, 1000)"
      ],
      "execution_count": 0,
      "outputs": []
    },
    {
      "cell_type": "code",
      "metadata": {
        "id": "oznl-TUT8_Cl",
        "colab_type": "code",
        "colab": {}
      },
      "source": [
        "# Get shape\n",
        "sample.shape"
      ],
      "execution_count": 0,
      "outputs": []
    },
    {
      "cell_type": "code",
      "metadata": {
        "id": "MjQ1hbVt_oBA",
        "colab_type": "code",
        "colab": {}
      },
      "source": [
        "# Verify the mean of our sample\n",
        "abs(mu-np.mean(sample)) < 0.01"
      ],
      "execution_count": 0,
      "outputs": []
    },
    {
      "cell_type": "code",
      "metadata": {
        "id": "P1YcIlAP_sgt",
        "colab_type": "code",
        "colab": {}
      },
      "source": [
        "# Verify the variance of our sample\n",
        "abs(sigma-np.std(sample, ddof=1)) < 0.01"
      ],
      "execution_count": 0,
      "outputs": []
    },
    {
      "cell_type": "code",
      "metadata": {
        "id": "lfXtgt4G_zp3",
        "colab_type": "code",
        "colab": {}
      },
      "source": [
        "# Plot it\n",
        "import seaborn as sns\n",
        "from matplotlib.pyplot import style\n",
        "\n",
        "style.use('fivethirtyeight')\n",
        "\n",
        "ax = sns.distplot(sample, color='r')\n",
        "ax.axvline(np.percentile(sample, 97.5), 0)\n",
        "ax.axvline(np.percentile(sample, 2.5), 0);"
      ],
      "execution_count": 0,
      "outputs": []
    },
    {
      "cell_type": "markdown",
      "metadata": {
        "id": "38b4Qed5ATbu",
        "colab_type": "text"
      },
      "source": [
        "![The Normal Distribution](https://upload.wikimedia.org/wikipedia/commons/thumb/a/a9/Empirical_Rule.PNG/350px-Empirical_Rule.png)"
      ]
    },
    {
      "cell_type": "code",
      "metadata": {
        "id": "LfK2WAb-AGCw",
        "colab_type": "code",
        "colab": {}
      },
      "source": [
        "# Central Limit Theorem\n",
        "#    CLT establishes that, in some situations, when independent random variables are added, their properly normalized sum tends toward a normal distribution (\"a bell curve\") \n",
        "#        even if the original variables themselves are not normally distributed\n"
      ],
      "execution_count": 0,
      "outputs": []
    },
    {
      "cell_type": "code",
      "metadata": {
        "id": "pIcy3yfjBcmV",
        "colab_type": "code",
        "colab": {}
      },
      "source": [
        "# Makes random normal distribution\n",
        "# Do for just 1 person\n",
        "person1_cals = np.random.normal(2500, 100, size=365)   # (mean, std, total # of days)"
      ],
      "execution_count": 0,
      "outputs": []
    },
    {
      "cell_type": "code",
      "metadata": {
        "id": "pcDiwTThBQUh",
        "colab_type": "code",
        "colab": {}
      },
      "source": [
        "# Make histogram\n",
        "import matplotlib.pyplot as plt\n",
        "plt.hist(person1_cals, bins=20);"
      ],
      "execution_count": 0,
      "outputs": []
    },
    {
      "cell_type": "code",
      "metadata": {
        "id": "VsdN89vuBQW-",
        "colab_type": "code",
        "colab": {}
      },
      "source": [
        "# get mean\n",
        "person1_cals.mean()"
      ],
      "execution_count": 0,
      "outputs": []
    },
    {
      "cell_type": "code",
      "metadata": {
        "id": "gqDYijdoBQaG",
        "colab_type": "code",
        "colab": {}
      },
      "source": [
        "# Same but for 200 people\n",
        "N = 200\n",
        "people_cals = [np.random.normal(2500, 100, size=365) for _ in range(N)]\n"
      ],
      "execution_count": 0,
      "outputs": []
    },
    {
      "cell_type": "code",
      "metadata": {
        "id": "tuai5QToB8OU",
        "colab_type": "code",
        "colab": {}
      },
      "source": [
        "# Get mean for each person in the distribution\n",
        "people_mean_cals = [person.mean() for person in people_cals]"
      ],
      "execution_count": 0,
      "outputs": []
    },
    {
      "cell_type": "code",
      "metadata": {
        "id": "B9HPbMpZCGdU",
        "colab_type": "code",
        "colab": {}
      },
      "source": [
        "# Get 10 results \n",
        "people_mean_cals[:10]"
      ],
      "execution_count": 0,
      "outputs": []
    },
    {
      "cell_type": "code",
      "metadata": {
        "id": "e7xH14ryCHzy",
        "colab_type": "code",
        "colab": {}
      },
      "source": [
        "# Make histogram\n",
        "plt.hist(people_mean_cals, bins=20);"
      ],
      "execution_count": 0,
      "outputs": []
    },
    {
      "cell_type": "markdown",
      "metadata": {
        "id": "hTT12S4pCXlh",
        "colab_type": "text"
      },
      "source": [
        "### Student T-test\n",
        "\n",
        "- Assuming data comes from a Normal distribution, the t-test provides a way to test whether the sample mean is a good estimate of the population mean\n",
        "\n",
        "- The t-distribution is essentially a distribution of means of normally distributed data.\n",
        "\n",
        "- When we use the t-statistic, we are checking that a mean falls within a certain $\\alpha$ probability of the mean of means"
      ]
    },
    {
      "cell_type": "code",
      "metadata": {
        "id": "5wmIxOvACVIC",
        "colab_type": "code",
        "colab": {}
      },
      "source": [
        "# Create random t distributions based on degrees of freedom\n",
        "t_df10 = np.random.standard_t(df=10, size=10)    # df=10 is 10 degrees of freedom\n",
        "t_df100 = np.random.standard_t(df=100, size=100) \n",
        "t_df1000 = np.random.standard_t(df=1000, size=1000)"
      ],
      "execution_count": 0,
      "outputs": []
    },
    {
      "cell_type": "code",
      "metadata": {
        "id": "zxZ0MqQqDbh0",
        "colab_type": "code",
        "colab": {}
      },
      "source": [
        "# Make kde plot\n",
        "sns.kdeplot(t_df10, color='r')\n",
        "sns.kdeplot(t_df100, color='y')\n",
        "sns.kdeplot(t_df1000, color='b');"
      ],
      "execution_count": 0,
      "outputs": []
    },
    {
      "cell_type": "code",
      "metadata": {
        "id": "NeYVsRiCDlgK",
        "colab_type": "code",
        "colab": {}
      },
      "source": [
        "# Ways to print using f strings and more\n",
        "print('text1' + ' ' + 'text2')\n",
        "a = 3.03242\n",
        "print('my number is %s' %a)\n",
        "print('my number is {:.2f}'.format(a))\n",
        "print(f'my number is {a:.1f}')"
      ],
      "execution_count": 0,
      "outputs": []
    },
    {
      "cell_type": "code",
      "metadata": {
        "id": "3MN624QQD3Zc",
        "colab_type": "code",
        "colab": {}
      },
      "source": [
        "# Displays mean, std, var for each ddof\n",
        "i = 10\n",
        "for sample in [t_df10, t_df100, t_df1000]:\n",
        "  print(f\"t - distribution with {i} degrees of freedom\")\n",
        "  print(\"---\" *10)\n",
        "  print(f\"Mean: {sample.mean()}\")\n",
        "  print(f\"Standard Deviation: {sample.std()}\")\n",
        "  print(f\"Variance: {sample.var()}\")\n",
        "  i = i*10"
      ],
      "execution_count": 0,
      "outputs": []
    },
    {
      "cell_type": "code",
      "metadata": {
        "id": "7cxCZvtyEpcU",
        "colab_type": "code",
        "colab": {}
      },
      "source": [
        "# To better reflect tendencies of small data and situations with unknown population standard deviation is why the t is different from normal\n",
        "# The normal distribution is still the nice pure ideal(thanks to CLT) but the t-distribution is much more useflul in many real-world situations"
      ],
      "execution_count": 0,
      "outputs": []
    },
    {
      "cell_type": "markdown",
      "metadata": {
        "id": "gdAXvya7E-zz",
        "colab_type": "text"
      },
      "source": [
        "### Live Lecture - Perform and interpret a t-test\n",
        "\n",
        "- Generate our own data so we can know and alter the \"ground truth\" that the t-test should find\n",
        "\n",
        "- Learn about p-values and how to interpret \"statistical significance\" based on the output of a hypothesis test\n",
        "\n",
        "- Dig deeper to see how the test statistic is calculated based on the sample error\n",
        "\n",
        "- Visually see what it looks like ot have 1 or 2 \"tailed\" t-tests"
      ]
    },
    {
      "cell_type": "code",
      "metadata": {
        "id": "x-uNKEMDFCja",
        "colab_type": "code",
        "colab": {}
      },
      "source": [
        "from scipy.stats import ttest_ind, ttest_ind_from_stats, ttest_rel"
      ],
      "execution_count": 0,
      "outputs": []
    },
    {
      "cell_type": "code",
      "metadata": {
        "id": "rFQXXuXpFCmH",
        "colab_type": "code",
        "outputId": "91047828-dbaa-473b-d3d4-e46edd0af494",
        "colab": {
          "base_uri": "https://localhost:8080/",
          "height": 72
        }
      },
      "source": [
        "# Average cooking times were 180 (5 std) and 178.5 (4.25 std) seconds\n",
        "mu1 = 180\n",
        "sigma1 = 5\n",
        "n1 = 1000\n",
        "sample1 = np.random.normal(size=n1, scale=sigma1, loc=mu1)\n",
        "sample1[:10]"
      ],
      "execution_count": 0,
      "outputs": [
        {
          "output_type": "execute_result",
          "data": {
            "text/plain": [
              "array([185.14006921, 180.3920341 , 174.40547069, 175.46430534,\n",
              "       179.86720968, 174.2471339 , 179.94651299, 180.74156754,\n",
              "       176.04024516, 177.22090563])"
            ]
          },
          "metadata": {
            "tags": []
          },
          "execution_count": 81
        }
      ]
    },
    {
      "cell_type": "code",
      "metadata": {
        "id": "W_ynhn1oFCoj",
        "colab_type": "code",
        "outputId": "958a7e43-1a47-49b8-efe5-955e92dd1e54",
        "colab": {
          "base_uri": "https://localhost:8080/",
          "height": 72
        }
      },
      "source": [
        "mu2 = 180\n",
        "sigma2 = 5\n",
        "n2 = 1000\n",
        "sample2 = np.random.normal(size=n2, scale=sigma2, loc=mu2)\n",
        "sample2[:10]"
      ],
      "execution_count": 0,
      "outputs": [
        {
          "output_type": "execute_result",
          "data": {
            "text/plain": [
              "array([181.87818398, 182.83473375, 173.49006928, 180.70079071,\n",
              "       176.99086885, 185.40289647, 183.28378638, 180.04760649,\n",
              "       182.39413225, 171.92684704])"
            ]
          },
          "metadata": {
            "tags": []
          },
          "execution_count": 82
        }
      ]
    },
    {
      "cell_type": "code",
      "metadata": {
        "id": "FMcZAXkeFCrd",
        "colab_type": "code",
        "outputId": "aeda3c8f-eefa-4e37-83e3-3081a4436e87",
        "colab": {
          "base_uri": "https://localhost:8080/",
          "height": 269
        }
      },
      "source": [
        "# Create distplots in sns\n",
        "import seaborn as sns\n",
        "sns.distplot(sample1, color='r')\n",
        "sns.distplot(sample2, color='b');"
      ],
      "execution_count": 0,
      "outputs": [
        {
          "output_type": "display_data",
          "data": {
            "image/png": "[encoded data removed]",
            "text/plain": [
              "<Figure size 432x288 with 1 Axes>"
            ]
          },
          "metadata": {
            "tags": []
          }
        }
      ]
    },
    {
      "cell_type": "markdown",
      "metadata": {
        "id": "bltCdnQ2JLd8",
        "colab_type": "text"
      },
      "source": [
        "#### Four parts of T-tests\n",
        "\n",
        "- Null Hypothesis (aka boring hypothesis): $\\mu1 == \\mu2$\n",
        "\n",
        "- Alternative Hypothesis: e.g. $\\mu =/= \\mu2$\n",
        "\n",
        "- t-statistic\n",
        "\n",
        "- p-value"
      ]
    },
    {
      "cell_type": "code",
      "metadata": {
        "id": "HC8_cd7cI6cG",
        "colab_type": "code",
        "outputId": "c539cf5a-f8fa-4f60-f210-440f984d0c20",
        "colab": {
          "base_uri": "https://localhost:8080/",
          "height": 35
        }
      },
      "source": [
        "# Check t-statistic and p-value for each sample\n",
        "ttest_ind(sample1, sample2)"
      ],
      "execution_count": 0,
      "outputs": [
        {
          "output_type": "execute_result",
          "data": {
            "text/plain": [
              "Ttest_indResult(statistic=0.864912922592702, pvalue=0.3871904149975155)"
            ]
          },
          "metadata": {
            "tags": []
          },
          "execution_count": 84
        }
      ]
    },
    {
      "cell_type": "code",
      "metadata": {
        "id": "d2gV3-IrI6et",
        "colab_type": "code",
        "colab": {}
      },
      "source": [
        "# Plot p-values\n",
        "pvalue_list = []\n",
        "\n",
        "for _ in range(100):\n",
        "  mu1 = 180\n",
        "  sigma1= 5\n",
        "  n1 = 100\n",
        "  sample1 = np.random.normal(mu1, sigma1, size=n1)\n",
        "  \n",
        "  mu2=178.5\n",
        "  sigma2 = 4.25\n",
        "  sample2 = np.random.normal(mu2, sigma2, size=n2)\n",
        "  _, pvalue = ttest_ind(sample1, sample2)\n",
        "  pvalue_list.append(pvalue)"
      ],
      "execution_count": 0,
      "outputs": []
    },
    {
      "cell_type": "code",
      "metadata": {
        "id": "HHjgDlJGI6hn",
        "colab_type": "code",
        "outputId": "7fffd0b5-e2a0-4a72-afcb-19b303760095",
        "colab": {
          "base_uri": "https://localhost:8080/",
          "height": 287
        }
      },
      "source": [
        "plt.scatter(list(range(100)), pvalue_list)\n",
        "plt.axhline(y=0.05, color='r')"
      ],
      "execution_count": 0,
      "outputs": [
        {
          "output_type": "execute_result",
          "data": {
            "text/plain": [
              "<matplotlib.lines.Line2D at 0x7fa124254a20>"
            ]
          },
          "metadata": {
            "tags": []
          },
          "execution_count": 86
        },
        {
          "output_type": "display_data",
          "data": {
            "image/png": "[encoded data removed]",
            "text/plain": [
              "<Figure size 432x288 with 1 Axes>"
            ]
          },
          "metadata": {
            "tags": []
          }
        }
      ]
    },
    {
      "cell_type": "code",
      "metadata": {
        "id": "YBeVqp8KI6jz",
        "colab_type": "code",
        "outputId": "59ece845-ed70-418a-9581-a1bedeaed3fe",
        "colab": {
          "base_uri": "https://localhost:8080/",
          "height": 35
        }
      },
      "source": [
        "# get number of p-values greater than 0.05\n",
        "pvalue_arr = np.array(pvalue_list)\n",
        "np.sum(pvalue_arr > 0.05)"
      ],
      "execution_count": 0,
      "outputs": [
        {
          "output_type": "execute_result",
          "data": {
            "text/plain": [
              "10"
            ]
          },
          "metadata": {
            "tags": []
          },
          "execution_count": 87
        }
      ]
    },
    {
      "cell_type": "markdown",
      "metadata": {
        "id": "5ABIwoZjLMw_",
        "colab_type": "text"
      },
      "source": [
        "#### Type 1 vs Type 2 error\n",
        "\n",
        "- Type 1 error: is the rejection of a true null hypothesis (false positive)\n",
        "\n",
        "- Type 2 error: is failing to reject a false null hypothesis (false negative)"
      ]
    },
    {
      "cell_type": "markdown",
      "metadata": {
        "id": "ni0I2OwmNOz4",
        "colab_type": "text"
      },
      "source": [
        ""
      ]
    },
    {
      "cell_type": "markdown",
      "metadata": {
        "id": "ROHrKitSLnft",
        "colab_type": "text"
      },
      "source": [
        "#### Test statistic\n",
        "\n",
        "- used to determine whether the mean of a population significantly differs from a specific value (called teh hypothesized mean) or from the mean of another population\n",
        "\n",
        "- numerator is the signal: the difference between the mean of your sample(xbar) and the hypothesised mean of the population(mu)\n",
        "\n",
        "- denominator is the noise: the standard deviation(s) divided by the square root of your sample size(n)\n",
        "\n",
        "- if signal to noise is weak, the (absolute)size of the t-value will be smaller, so not statistically significant\n",
        "\n",
        "- if signal to noise is strong, the (absolute) size of the t-value will be larger so the difference between xbar and mu is more likely to be statistically significant"
      ]
    },
    {
      "cell_type": "markdown",
      "metadata": {
        "id": "Z0Jk9vM6NRsE",
        "colab_type": "text"
      },
      "source": [
        ""
      ]
    },
    {
      "cell_type": "markdown",
      "metadata": {
        "id": "ay0BOz_iMuRb",
        "colab_type": "text"
      },
      "source": [
        "#### P-value\n",
        "\n",
        "- the p-value is the probability that the test-statistic exceeds or equals the value of the test-statistic derived from a randomly drawn sampe under the null hypothesis"
      ]
    },
    {
      "cell_type": "code",
      "metadata": {
        "id": "FCOYaUh0FCuF",
        "colab_type": "code",
        "colab": {}
      },
      "source": [
        ""
      ],
      "execution_count": 0,
      "outputs": []
    },
    {
      "cell_type": "markdown",
      "metadata": {
        "id": "EhrNk-CONV9u",
        "colab_type": "text"
      },
      "source": [
        "#### One tail vs Two tail test\n",
        "\n",
        "- two tail test: you are testing for the possibility of the relationship in both directions\n",
        "\n",
        "- one tail test: you are testing in one direction of interest"
      ]
    },
    {
      "cell_type": "code",
      "metadata": {
        "id": "zOCkmLx8NvCU",
        "colab_type": "code",
        "colab": {}
      },
      "source": [
        ""
      ],
      "execution_count": 0,
      "outputs": []
    },
    {
      "cell_type": "markdown",
      "metadata": {
        "id": "jCBZXfbBN0SH",
        "colab_type": "text"
      },
      "source": [
        "#### One sample vs Two sample\n",
        "\n",
        "- One sample t test is for repeated measures. One group takes a test before and after receiving a new educational intervention, then you compare the before scores to the after scores to dtermine if the intervention had a statistically significant effect\n",
        "\n",
        "- Two sample t test is for independent groups. Group A receives the educational intervention while Group B does not. Both groups A and B take the same teset and you compare the test socres of the two groups to each other\n"
      ]
    },
    {
      "cell_type": "code",
      "metadata": {
        "id": "sypAoBC9N3Kd",
        "colab_type": "code",
        "colab": {}
      },
      "source": [
        ""
      ],
      "execution_count": 0,
      "outputs": []
    },
    {
      "cell_type": "markdown",
      "metadata": {
        "id": "adaEhQ5xO0k2",
        "colab_type": "text"
      },
      "source": [
        "#### EXAMPLE DATASET\n",
        "\n",
        "- https://www.kaggle.com/russellyates88/suicide-rates-overview-1985-to-2016"
      ]
    },
    {
      "cell_type": "code",
      "metadata": {
        "id": "hC2AMG9BPA-1",
        "colab_type": "code",
        "outputId": "29152b59-25cc-4200-f9f8-0566682f7c93",
        "colab": {
          "resources": {
            "http://localhost:8080/nbextensions/google.colab/files.js": {
              "data": "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",
              "ok": true,
              "headers": [
                [
                  "content-type",
                  "application/javascript"
                ]
              ],
              "status": 200,
              "status_text": ""
            }
          },
          "base_uri": "https://localhost:8080/",
          "height": 75
        }
      },
      "source": [
        "from google.colab import files\n",
        "uploaded = files.upload()"
      ],
      "execution_count": 0,
      "outputs": [
        {
          "output_type": "display_data",
          "data": {
            "text/html": [
              "\n",
              "     <input type=\"file\" id=\"files-70b4b91a-cf68-4a0d-a655-157105b56d8e\" name=\"files[]\" multiple disabled />\n",
              "     <output id=\"result-70b4b91a-cf68-4a0d-a655-157105b56d8e\">\n",
              "      Upload widget is only available when the cell has been executed in the\n",
              "      current browser session. Please rerun this cell to enable.\n",
              "      </output>\n",
              "      <script src=\"/nbextensions/google.colab/files.js\"></script> "
            ],
            "text/plain": [
              "<IPython.core.display.HTML object>"
            ]
          },
          "metadata": {
            "tags": []
          }
        },
        {
          "output_type": "stream",
          "text": [
            "Saving master.csv to master.csv\n"
          ],
          "name": "stdout"
        }
      ]
    },
    {
      "cell_type": "code",
      "metadata": {
        "id": "CKkDKCMNPBUy",
        "colab_type": "code",
        "outputId": "5f9b15ee-4f1c-4517-f1ec-6e52265a2dfe",
        "colab": {
          "base_uri": "https://localhost:8080/",
          "height": 198
        }
      },
      "source": [
        "# create the dataframe\n",
        "df = pd.read_csv('master.csv')\n",
        "df.head()"
      ],
      "execution_count": 0,
      "outputs": [
        {
          "output_type": "execute_result",
          "data": {
            "text/html": [
              "<div>\n",
              "<style scoped>\n",
              "    .dataframe tbody tr th:only-of-type {\n",
              "        vertical-align: middle;\n",
              "    }\n",
              "\n",
              "    .dataframe tbody tr th {\n",
              "        vertical-align: top;\n",
              "    }\n",
              "\n",
              "    .dataframe thead th {\n",
              "        text-align: right;\n",
              "    }\n",
              "</style>\n",
              "<table border=\"1\" class=\"dataframe\">\n",
              "  <thead>\n",
              "    <tr style=\"text-align: right;\">\n",
              "      <th></th>\n",
              "      <th>country</th>\n",
              "      <th>year</th>\n",
              "      <th>sex</th>\n",
              "      <th>age</th>\n",
              "      <th>suicides_no</th>\n",
              "      <th>population</th>\n",
              "      <th>suicides/100k pop</th>\n",
              "      <th>country-year</th>\n",
              "      <th>HDI for year</th>\n",
              "      <th>gdp_for_year ($)</th>\n",
              "      <th>gdp_per_capita ($)</th>\n",
              "      <th>generation</th>\n",
              "    </tr>\n",
              "  </thead>\n",
              "  <tbody>\n",
              "    <tr>\n",
              "      <th>0</th>\n",
              "      <td>Albania</td>\n",
              "      <td>1987</td>\n",
              "      <td>male</td>\n",
              "      <td>15-24 years</td>\n",
              "      <td>21</td>\n",
              "      <td>312900</td>\n",
              "      <td>6.71</td>\n",
              "      <td>Albania1987</td>\n",
              "      <td>NaN</td>\n",
              "      <td>2,156,624,900</td>\n",
              "      <td>796</td>\n",
              "      <td>Generation X</td>\n",
              "    </tr>\n",
              "    <tr>\n",
              "      <th>1</th>\n",
              "      <td>Albania</td>\n",
              "      <td>1987</td>\n",
              "      <td>male</td>\n",
              "      <td>35-54 years</td>\n",
              "      <td>16</td>\n",
              "      <td>308000</td>\n",
              "      <td>5.19</td>\n",
              "      <td>Albania1987</td>\n",
              "      <td>NaN</td>\n",
              "      <td>2,156,624,900</td>\n",
              "      <td>796</td>\n",
              "      <td>Silent</td>\n",
              "    </tr>\n",
              "    <tr>\n",
              "      <th>2</th>\n",
              "      <td>Albania</td>\n",
              "      <td>1987</td>\n",
              "      <td>female</td>\n",
              "      <td>15-24 years</td>\n",
              "      <td>14</td>\n",
              "      <td>289700</td>\n",
              "      <td>4.83</td>\n",
              "      <td>Albania1987</td>\n",
              "      <td>NaN</td>\n",
              "      <td>2,156,624,900</td>\n",
              "      <td>796</td>\n",
              "      <td>Generation X</td>\n",
              "    </tr>\n",
              "    <tr>\n",
              "      <th>3</th>\n",
              "      <td>Albania</td>\n",
              "      <td>1987</td>\n",
              "      <td>male</td>\n",
              "      <td>75+ years</td>\n",
              "      <td>1</td>\n",
              "      <td>21800</td>\n",
              "      <td>4.59</td>\n",
              "      <td>Albania1987</td>\n",
              "      <td>NaN</td>\n",
              "      <td>2,156,624,900</td>\n",
              "      <td>796</td>\n",
              "      <td>G.I. Generation</td>\n",
              "    </tr>\n",
              "    <tr>\n",
              "      <th>4</th>\n",
              "      <td>Albania</td>\n",
              "      <td>1987</td>\n",
              "      <td>male</td>\n",
              "      <td>25-34 years</td>\n",
              "      <td>9</td>\n",
              "      <td>274300</td>\n",
              "      <td>3.28</td>\n",
              "      <td>Albania1987</td>\n",
              "      <td>NaN</td>\n",
              "      <td>2,156,624,900</td>\n",
              "      <td>796</td>\n",
              "      <td>Boomers</td>\n",
              "    </tr>\n",
              "  </tbody>\n",
              "</table>\n",
              "</div>"
            ],
            "text/plain": [
              "   country  year  ... gdp_per_capita ($)       generation\n",
              "0  Albania  1987  ...                796     Generation X\n",
              "1  Albania  1987  ...                796           Silent\n",
              "2  Albania  1987  ...                796     Generation X\n",
              "3  Albania  1987  ...                796  G.I. Generation\n",
              "4  Albania  1987  ...                796          Boomers\n",
              "\n",
              "[5 rows x 12 columns]"
            ]
          },
          "metadata": {
            "tags": []
          },
          "execution_count": 90
        }
      ]
    },
    {
      "cell_type": "code",
      "metadata": {
        "id": "GX4hFAPsPBXj",
        "colab_type": "code",
        "outputId": "8920340a-47db-4019-d4b4-38f7955478bb",
        "colab": {
          "base_uri": "https://localhost:8080/",
          "height": 35
        }
      },
      "source": [
        "# Check shape, max\n",
        "print(df.shape, df['year'].max())"
      ],
      "execution_count": 0,
      "outputs": [
        {
          "output_type": "stream",
          "text": [
            "(27820, 12) 2016\n"
          ],
          "name": "stdout"
        }
      ]
    },
    {
      "cell_type": "code",
      "metadata": {
        "id": "HhY--FWuP94w",
        "colab_type": "code",
        "outputId": "7072a462-fd5c-4f6d-d6fa-f7a650800720",
        "colab": {
          "base_uri": "https://localhost:8080/",
          "height": 417
        }
      },
      "source": [
        "# Check unique values for country\n",
        "df['country'].unique()"
      ],
      "execution_count": 0,
      "outputs": [
        {
          "output_type": "execute_result",
          "data": {
            "text/plain": [
              "array(['Albania', 'Antigua and Barbuda', 'Argentina', 'Armenia', 'Aruba',\n",
              "       'Australia', 'Austria', 'Azerbaijan', 'Bahamas', 'Bahrain',\n",
              "       'Barbados', 'Belarus', 'Belgium', 'Belize',\n",
              "       'Bosnia and Herzegovina', 'Brazil', 'Bulgaria', 'Cabo Verde',\n",
              "       'Canada', 'Chile', 'Colombia', 'Costa Rica', 'Croatia', 'Cuba',\n",
              "       'Cyprus', 'Czech Republic', 'Denmark', 'Dominica', 'Ecuador',\n",
              "       'El Salvador', 'Estonia', 'Fiji', 'Finland', 'France', 'Georgia',\n",
              "       'Germany', 'Greece', 'Grenada', 'Guatemala', 'Guyana', 'Hungary',\n",
              "       'Iceland', 'Ireland', 'Israel', 'Italy', 'Jamaica', 'Japan',\n",
              "       'Kazakhstan', 'Kiribati', 'Kuwait', 'Kyrgyzstan', 'Latvia',\n",
              "       'Lithuania', 'Luxembourg', 'Macau', 'Maldives', 'Malta',\n",
              "       'Mauritius', 'Mexico', 'Mongolia', 'Montenegro', 'Netherlands',\n",
              "       'New Zealand', 'Nicaragua', 'Norway', 'Oman', 'Panama', 'Paraguay',\n",
              "       'Philippines', 'Poland', 'Portugal', 'Puerto Rico', 'Qatar',\n",
              "       'Republic of Korea', 'Romania', 'Russian Federation',\n",
              "       'Saint Kitts and Nevis', 'Saint Lucia',\n",
              "       'Saint Vincent and Grenadines', 'San Marino', 'Serbia',\n",
              "       'Seychelles', 'Singapore', 'Slovakia', 'Slovenia', 'South Africa',\n",
              "       'Spain', 'Sri Lanka', 'Suriname', 'Sweden', 'Switzerland',\n",
              "       'Thailand', 'Trinidad and Tobago', 'Turkey', 'Turkmenistan',\n",
              "       'Ukraine', 'United Arab Emirates', 'United Kingdom',\n",
              "       'United States', 'Uruguay', 'Uzbekistan'], dtype=object)"
            ]
          },
          "metadata": {
            "tags": []
          },
          "execution_count": 92
        }
      ]
    },
    {
      "cell_type": "code",
      "metadata": {
        "id": "cJlMt82FQCd-",
        "colab_type": "code",
        "outputId": "dd1a4ddf-bb76-44fd-d882-30547b64c746",
        "colab": {
          "base_uri": "https://localhost:8080/",
          "height": 198
        }
      },
      "source": [
        "# Subset based on year 2016\n",
        "df_2016 = df[df['year']==2016]\n",
        "df_2016.head()"
      ],
      "execution_count": 0,
      "outputs": [
        {
          "output_type": "execute_result",
          "data": {
            "text/html": [
              "<div>\n",
              "<style scoped>\n",
              "    .dataframe tbody tr th:only-of-type {\n",
              "        vertical-align: middle;\n",
              "    }\n",
              "\n",
              "    .dataframe tbody tr th {\n",
              "        vertical-align: top;\n",
              "    }\n",
              "\n",
              "    .dataframe thead th {\n",
              "        text-align: right;\n",
              "    }\n",
              "</style>\n",
              "<table border=\"1\" class=\"dataframe\">\n",
              "  <thead>\n",
              "    <tr style=\"text-align: right;\">\n",
              "      <th></th>\n",
              "      <th>country</th>\n",
              "      <th>year</th>\n",
              "      <th>sex</th>\n",
              "      <th>age</th>\n",
              "      <th>suicides_no</th>\n",
              "      <th>population</th>\n",
              "      <th>suicides/100k pop</th>\n",
              "      <th>country-year</th>\n",
              "      <th>HDI for year</th>\n",
              "      <th>gdp_for_year ($)</th>\n",
              "      <th>gdp_per_capita ($)</th>\n",
              "      <th>generation</th>\n",
              "    </tr>\n",
              "  </thead>\n",
              "  <tbody>\n",
              "    <tr>\n",
              "      <th>1248</th>\n",
              "      <td>Armenia</td>\n",
              "      <td>2016</td>\n",
              "      <td>male</td>\n",
              "      <td>75+ years</td>\n",
              "      <td>12</td>\n",
              "      <td>61956</td>\n",
              "      <td>19.37</td>\n",
              "      <td>Armenia2016</td>\n",
              "      <td>NaN</td>\n",
              "      <td>10,546,135,160</td>\n",
              "      <td>3788</td>\n",
              "      <td>Silent</td>\n",
              "    </tr>\n",
              "    <tr>\n",
              "      <th>1249</th>\n",
              "      <td>Armenia</td>\n",
              "      <td>2016</td>\n",
              "      <td>male</td>\n",
              "      <td>55-74 years</td>\n",
              "      <td>16</td>\n",
              "      <td>237813</td>\n",
              "      <td>6.73</td>\n",
              "      <td>Armenia2016</td>\n",
              "      <td>NaN</td>\n",
              "      <td>10,546,135,160</td>\n",
              "      <td>3788</td>\n",
              "      <td>Boomers</td>\n",
              "    </tr>\n",
              "    <tr>\n",
              "      <th>1250</th>\n",
              "      <td>Armenia</td>\n",
              "      <td>2016</td>\n",
              "      <td>male</td>\n",
              "      <td>35-54 years</td>\n",
              "      <td>16</td>\n",
              "      <td>350633</td>\n",
              "      <td>4.56</td>\n",
              "      <td>Armenia2016</td>\n",
              "      <td>NaN</td>\n",
              "      <td>10,546,135,160</td>\n",
              "      <td>3788</td>\n",
              "      <td>Generation X</td>\n",
              "    </tr>\n",
              "    <tr>\n",
              "      <th>1251</th>\n",
              "      <td>Armenia</td>\n",
              "      <td>2016</td>\n",
              "      <td>male</td>\n",
              "      <td>15-24 years</td>\n",
              "      <td>5</td>\n",
              "      <td>202220</td>\n",
              "      <td>2.47</td>\n",
              "      <td>Armenia2016</td>\n",
              "      <td>NaN</td>\n",
              "      <td>10,546,135,160</td>\n",
              "      <td>3788</td>\n",
              "      <td>Millenials</td>\n",
              "    </tr>\n",
              "    <tr>\n",
              "      <th>1252</th>\n",
              "      <td>Armenia</td>\n",
              "      <td>2016</td>\n",
              "      <td>female</td>\n",
              "      <td>75+ years</td>\n",
              "      <td>2</td>\n",
              "      <td>102414</td>\n",
              "      <td>1.95</td>\n",
              "      <td>Armenia2016</td>\n",
              "      <td>NaN</td>\n",
              "      <td>10,546,135,160</td>\n",
              "      <td>3788</td>\n",
              "      <td>Silent</td>\n",
              "    </tr>\n",
              "  </tbody>\n",
              "</table>\n",
              "</div>"
            ],
            "text/plain": [
              "      country  year  ... gdp_per_capita ($)    generation\n",
              "1248  Armenia  2016  ...               3788        Silent\n",
              "1249  Armenia  2016  ...               3788       Boomers\n",
              "1250  Armenia  2016  ...               3788  Generation X\n",
              "1251  Armenia  2016  ...               3788    Millenials\n",
              "1252  Armenia  2016  ...               3788        Silent\n",
              "\n",
              "[5 rows x 12 columns]"
            ]
          },
          "metadata": {
            "tags": []
          },
          "execution_count": 93
        }
      ]
    },
    {
      "cell_type": "code",
      "metadata": {
        "id": "iG-yJNo9QKtZ",
        "colab_type": "code",
        "outputId": "444a554c-2943-4c1c-f896-2498a38ddbf0",
        "colab": {
          "base_uri": "https://localhost:8080/",
          "height": 35
        }
      },
      "source": [
        "# Check shape\n",
        "df_2016.shape"
      ],
      "execution_count": 0,
      "outputs": [
        {
          "output_type": "execute_result",
          "data": {
            "text/plain": [
              "(160, 12)"
            ]
          },
          "metadata": {
            "tags": []
          },
          "execution_count": 94
        }
      ]
    },
    {
      "cell_type": "code",
      "metadata": {
        "id": "j0NAsEheQNse",
        "colab_type": "code",
        "outputId": "a48a2219-6018-46b4-e83d-34ff9dad856d",
        "colab": {
          "base_uri": "https://localhost:8080/",
          "height": 90
        }
      },
      "source": [
        "# Get unique countries in 2016\n",
        "df_2016['country'].unique()"
      ],
      "execution_count": 0,
      "outputs": [
        {
          "output_type": "execute_result",
          "data": {
            "text/plain": [
              "array(['Armenia', 'Austria', 'Croatia', 'Cyprus', 'Czech Republic',\n",
              "       'Grenada', 'Hungary', 'Iceland', 'Lithuania', 'Mauritius',\n",
              "       'Mongolia', 'Netherlands', 'Qatar', 'Romania', 'Sweden',\n",
              "       'Thailand'], dtype=object)"
            ]
          },
          "metadata": {
            "tags": []
          },
          "execution_count": 97
        }
      ]
    },
    {
      "cell_type": "code",
      "metadata": {
        "id": "h0UoHEyGQT1v",
        "colab_type": "code",
        "colab": {}
      },
      "source": [
        "# subset into male and female\n",
        "df_male = df_2016[df_2016['sex'] == 'male']\n",
        "df_female=df_2016[df_2016['sex'] == 'female']"
      ],
      "execution_count": 0,
      "outputs": []
    },
    {
      "cell_type": "code",
      "metadata": {
        "id": "kLzb6kZtQgVx",
        "colab_type": "code",
        "outputId": "2e65fd75-de1d-446f-8628-f6445838cf76",
        "colab": {
          "base_uri": "https://localhost:8080/",
          "height": 35
        }
      },
      "source": [
        "# Check shapes\n",
        "print(df_male.shape, ' ', df_female.shape)"
      ],
      "execution_count": 0,
      "outputs": [
        {
          "output_type": "stream",
          "text": [
            "(80, 12)   (80, 12)\n"
          ],
          "name": "stdout"
        }
      ]
    },
    {
      "cell_type": "code",
      "metadata": {
        "id": "cMIKbX-2Qxox",
        "colab_type": "code",
        "outputId": "478c024d-1418-40b4-b53e-9db6a758e5d6",
        "colab": {
          "base_uri": "https://localhost:8080/",
          "height": 345
        }
      },
      "source": [
        "# Group by two featuers, country and age and get mean and get column suicides\n",
        "df_female_group = df_female.groupby(['country', 'age'], as_index=False).mean().groupby('country')['suicides/100k pop'].mean()\n",
        "df_female_group"
      ],
      "execution_count": 0,
      "outputs": [
        {
          "output_type": "execute_result",
          "data": {
            "text/plain": [
              "country\n",
              "Armenia            1.174\n",
              "Austria            7.520\n",
              "Croatia            8.374\n",
              "Cyprus             1.012\n",
              "Czech Republic     5.344\n",
              "Grenada            0.000\n",
              "Hungary           10.206\n",
              "Iceland            2.936\n",
              "Lithuania          8.916\n",
              "Mauritius          2.560\n",
              "Mongolia           5.636\n",
              "Netherlands        8.066\n",
              "Qatar              0.576\n",
              "Romania            3.506\n",
              "Sweden             8.204\n",
              "Thailand           3.068\n",
              "Name: suicides/100k pop, dtype: float64"
            ]
          },
          "metadata": {
            "tags": []
          },
          "execution_count": 103
        }
      ]
    },
    {
      "cell_type": "code",
      "metadata": {
        "id": "W1FYqjXMRCrC",
        "colab_type": "code",
        "outputId": "35697468-8450-4694-b640-29d166cdda9c",
        "colab": {
          "base_uri": "https://localhost:8080/",
          "height": 35
        }
      },
      "source": [
        "# Get Armenia suicides to check if valid above\n",
        "df_female[df_female['country'] == 'Armenia']['suicides/100k pop'].mean()"
      ],
      "execution_count": 0,
      "outputs": [
        {
          "output_type": "execute_result",
          "data": {
            "text/plain": [
              "1.174"
            ]
          },
          "metadata": {
            "tags": []
          },
          "execution_count": 104
        }
      ]
    },
    {
      "cell_type": "code",
      "metadata": {
        "id": "uZih1ATpRXtk",
        "colab_type": "code",
        "outputId": "c05864f1-daa4-4b36-c700-e737a618be33",
        "colab": {
          "base_uri": "https://localhost:8080/",
          "height": 345
        }
      },
      "source": [
        "# Get same for males\n",
        "df_male_group = df_male.groupby(['country', 'age'], as_index=False).mean().groupby('country')['suicides/100k pop'].mean()\n",
        "df_male_group"
      ],
      "execution_count": 0,
      "outputs": [
        {
          "output_type": "execute_result",
          "data": {
            "text/plain": [
              "country\n",
              "Armenia            6.938\n",
              "Austria           29.126\n",
              "Croatia           34.338\n",
              "Cyprus             8.418\n",
              "Czech Republic    27.008\n",
              "Grenada            0.000\n",
              "Hungary           38.062\n",
              "Iceland           24.678\n",
              "Lithuania         63.428\n",
              "Mauritius         17.300\n",
              "Mongolia          31.242\n",
              "Netherlands       17.412\n",
              "Qatar              2.710\n",
              "Romania           19.760\n",
              "Sweden            19.564\n",
              "Thailand          12.396\n",
              "Name: suicides/100k pop, dtype: float64"
            ]
          },
          "metadata": {
            "tags": []
          },
          "execution_count": 105
        }
      ]
    },
    {
      "cell_type": "code",
      "metadata": {
        "id": "KDOI15CvRfyV",
        "colab_type": "code",
        "outputId": "c83a1409-220b-4ece-dd97-e1f9659d49f3",
        "colab": {
          "base_uri": "https://localhost:8080/",
          "height": 35
        }
      },
      "source": [
        "# Check\n",
        "df_male[df_male['country']=='Armenia']['suicides/100k pop'].mean()"
      ],
      "execution_count": 0,
      "outputs": [
        {
          "output_type": "execute_result",
          "data": {
            "text/plain": [
              "6.938000000000001"
            ]
          },
          "metadata": {
            "tags": []
          },
          "execution_count": 107
        }
      ]
    },
    {
      "cell_type": "code",
      "metadata": {
        "id": "PyJiHkhuRrGJ",
        "colab_type": "code",
        "outputId": "2cb4c03f-95f3-42cc-a115-4b65027da7f3",
        "colab": {
          "base_uri": "https://localhost:8080/",
          "height": 35
        }
      },
      "source": [
        "# Get test\n",
        "ttest_ind(df_female_group, df_male_group)"
      ],
      "execution_count": 0,
      "outputs": [
        {
          "output_type": "execute_result",
          "data": {
            "text/plain": [
              "Ttest_indResult(statistic=-4.2791492382884435, pvalue=0.00017639850827717496)"
            ]
          },
          "metadata": {
            "tags": []
          },
          "execution_count": 108
        }
      ]
    },
    {
      "cell_type": "code",
      "metadata": {
        "id": "nKE-AjisRyD0",
        "colab_type": "code",
        "outputId": "6c23bd34-a938-4fe4-e72d-ef1475417e44",
        "colab": {
          "base_uri": "https://localhost:8080/",
          "height": 35
        }
      },
      "source": [
        "# do with equal_var as False\n",
        "# equal var = True : performs a standard independent 2 sample test that assumes equal populatin variances\n",
        "# equal var = False: performs a Welch's t-test, which does not assume equal population variances\n",
        "\n",
        "ttest_ind(df_female_group, df_male_group, equal_var=False)"
      ],
      "execution_count": 0,
      "outputs": [
        {
          "output_type": "execute_result",
          "data": {
            "text/plain": [
              "Ttest_indResult(statistic=-4.2791492382884435, pvalue=0.0005475986477063533)"
            ]
          },
          "metadata": {
            "tags": []
          },
          "execution_count": 109
        }
      ]
    },
    {
      "cell_type": "code",
      "metadata": {
        "id": "CA3VMqmaR8Bl",
        "colab_type": "code",
        "colab": {}
      },
      "source": [
        ""
      ],
      "execution_count": 0,
      "outputs": []
    },
    {
      "cell_type": "markdown",
      "metadata": {
        "id": "JWLsEF3ESGMs",
        "colab_type": "text"
      },
      "source": [
        "## Module 2 - Sampling, Confidence Intervals and Hypothesis Testing\n",
        "\n",
        "- Sampling\n",
        "\n",
        "- Confidence Intervals\n",
        "\n",
        "- Hypothesis Testing\n",
        "\n",
        "- use hypothesis testing to determine an outcome is significant or just result of chance"
      ]
    },
    {
      "cell_type": "markdown",
      "metadata": {
        "id": "MBYmPl4EY6HX",
        "colab_type": "text"
      },
      "source": [
        "### Sampling\n",
        "\n",
        "- **Sampling**: the process that is related to the selection of individual observations. It helps us make statistical inferences about the population. We assume that samples are drawn from the population and sample means and population means are equal\n",
        "\n",
        "- **Sampling- IID:** IID stands for \"independent and identically distributed\" - and it's what we want our sampling process to be\n",
        " - Independent: any given observation is uninfluenced by the occurrence or non-occurrence of any other observation\n",
        " - Is your sampling process documented?\n",
        " - Is it reproducible?\n",
        " - Is it correlated with your class labels?\n",
        " - Is it correlated with any of your features?\n",
        " - If No to any of the above, doesnt mean you are stuck but need to dig in and be careful\n",
        "\n",
        "- **Sample size**: given that a sample is a group of individual observations drawn from a population, the # of individual units or observations that constitute a sample is known as the sample size\n",
        "\n",
        " - Since the intent of the sample is to provide a representative picture of the entire population, the larger the sample size, the more accurate is the measurement and the more confidence we have that the sample is actually representative of the whole population.\n",
        "\n",
        "- **Rules of thumb for Sample Size**:\n",
        " - More is better but you may  not need as much as you think\n",
        " - Around n > 30, most things approach normality\n",
        " - Around n > 500, you can get \"statistical significance\"\n",
        " - Keep in mind, lots of data --> finding statistically significant but substantively trivial results\n",
        " - But dividing into many categories needs more data\n",
        " \n",
        "- **Pointers if you want to go deeper**\n",
        " - Sample too small? Try resampling, specifically bootstrapping\n",
        " - Sample biased? You can reweight observations based on known population distributions, or look up other nonbalanced techniques\n",
        "\n",
        "- **Standard error (SE)**: tells you how far your sample mean deviates from the population mean\n",
        "\n",
        " - The Standard error is very similar to the Standard Deviation. Both are measure of spread. The higher the number, the more spread out your data is. But the key difference is that the standard error uses statisticis (i.e. sample data) whereas the standard deviation uses population data.\n",
        "\n",
        " - The Standard Deviation of the sampling distribution of the sample mean is also called the Standard Error of the mean and is computed as follows:  **Standard Deviation of sampling distribution of sample mean / square of n (i.e. sample size)**\n",
        "\n",
        "\n"
      ]
    },
    {
      "cell_type": "code",
      "metadata": {
        "id": "7oeQxONJj02r",
        "colab_type": "code",
        "colab": {}
      },
      "source": [
        ""
      ],
      "execution_count": 0,
      "outputs": []
    },
    {
      "cell_type": "markdown",
      "metadata": {
        "id": "Fiyenb4TgaA7",
        "colab_type": "text"
      },
      "source": [
        "### Other available Hypothesis tests"
      ]
    },
    {
      "cell_type": "markdown",
      "metadata": {
        "id": "sd8FgDKcgfv8",
        "colab_type": "text"
      },
      "source": [
        "#### Chi-Square test"
      ]
    },
    {
      "cell_type": "code",
      "metadata": {
        "id": "40GxCWyFSJP9",
        "colab_type": "code",
        "outputId": "7ec40380-aaa9-4254-fbb1-263f89a17618",
        "colab": {
          "base_uri": "https://localhost:8080/",
          "height": 254
        }
      },
      "source": [
        "import numpy as np\n",
        "from scipy.stats import chisquare # one-way chi square test\n",
        "\n",
        "# Chi square can take any crosstab/table and test the independence of rows/cols\n",
        "# The null hypothesis is that the rows/cols are independent -> low chi square\n",
        "# The alternative is that there is a dependence -> high chi square\n",
        "# Be aware! Chi square does *not* tell you direction/causation\n",
        "# Chi square in this case doesnt tell us the direction, just something is going on or\n",
        "#   just tells us the gender and seating preference are not independent\n",
        "# Chi square is always a 1 tail test (it doesnt have a left tail)\n",
        "#   Always stops at zero because its the sum of squares, sum of squares of the\n",
        "#     standard normals \n",
        "# As k increases starts looking like a curve and higher the k, starts acting \n",
        "#   like a normal distribution (k >500)\n",
        "# Expected value of chi squared is k\n",
        "\n",
        "ind_obs = np.array([[1,1], [2,2]]).T\n",
        "print(ind_obs)\n",
        "print(chisquare(ind_obs, axis=None))\n",
        "\n",
        "print('\\n')\n",
        "\n",
        "dep_obs = np.array([[16,18,16,14,12,12], [32,24,16,28,20,24]]).T\n",
        "print(dep_obs)\n",
        "print(chisquare(dep_obs, axis=None))\n",
        "\n",
        "# Alternative to first table\n",
        "'''\n",
        "           Ins   Outs\n",
        "Male     [[2      1]\n",
        "Female    [1      2]]\n",
        "\n",
        "'''"
      ],
      "execution_count": 0,
      "outputs": [
        {
          "output_type": "stream",
          "text": [
            "[[1 2]\n",
            " [1 2]]\n",
            "Power_divergenceResult(statistic=0.6666666666666666, pvalue=0.8810148425137847)\n",
            "\n",
            "\n",
            "[[16 32]\n",
            " [18 24]\n",
            " [16 16]\n",
            " [14 28]\n",
            " [12 20]\n",
            " [12 24]]\n",
            "Power_divergenceResult(statistic=23.31034482758621, pvalue=0.015975692534127565)\n"
          ],
          "name": "stdout"
        },
        {
          "output_type": "execute_result",
          "data": {
            "text/plain": [
              "'\\n           Ins   Outs\\nMale     [[2      1]\\nFemale    [1      2]]\\n\\n'"
            ]
          },
          "metadata": {
            "tags": []
          },
          "execution_count": 141
        }
      ]
    },
    {
      "cell_type": "markdown",
      "metadata": {
        "id": "kNrsmz5Ah3qx",
        "colab_type": "text"
      },
      "source": [
        "#### Distribution tests\n",
        "- We often assume that something is normal, but it can be important to check\n",
        "- For example, later on with predictive modeling, a typical assumption is that residuals (prediction errors) are normal - checking is a good diagnostic"
      ]
    },
    {
      "cell_type": "code",
      "metadata": {
        "id": "lwqbsCiWSJSc",
        "colab_type": "code",
        "outputId": "e9db378b-e031-43d6-8599-da9d9f90c175",
        "colab": {
          "base_uri": "https://localhost:8080/",
          "height": 35
        }
      },
      "source": [
        "from scipy.stats import normaltest\n",
        "# Poisson models arrival times (such as when a bus shows up) and is related to the binomial (coinflip)\n",
        "sample = np.random.poisson(5, 1000)\n",
        "print(normaltest(sample))   # pretty clearly not normal\n",
        "\n",
        "# high p rejects it is normally distributed and need to change something about our approach if we assumed this was normally distributed"
      ],
      "execution_count": 0,
      "outputs": [
        {
          "output_type": "stream",
          "text": [
            "NormaltestResult(statistic=38.64526582509289, pvalue=4.057767414264779e-09)\n"
          ],
          "name": "stdout"
        }
      ]
    },
    {
      "cell_type": "markdown",
      "metadata": {
        "id": "omLJJY8hiYt9",
        "colab_type": "text"
      },
      "source": [
        "#### Kruskal-Wallis H-test\n",
        "- compare the median rank between 2+ groups\n",
        "- can be applied to ranking decisions/outcomes/recommendations\n",
        "- the underlying math comes from chi-square distribution, and is best for n > 5"
      ]
    },
    {
      "cell_type": "code",
      "metadata": {
        "id": "2xOnqoXHiVz8",
        "colab_type": "code",
        "outputId": "55112929-72c8-48ed-9816-2b79b5216384",
        "colab": {
          "base_uri": "https://localhost:8080/",
          "height": 54
        }
      },
      "source": [
        "# \n",
        "\n",
        "from scipy.stats import kruskal\n",
        "x1 = [1,3,5,7,9]\n",
        "y1 = [2,4,6,8,10]\n",
        "print(kruskal(x1,y1))   # x1 is a little better, but not \"significantly\" so\n",
        "\n",
        "x2 = [1,1,1]\n",
        "y2 = [2,2,2]\n",
        "z = [2,2]   # hey, a third group, and of different size!\n",
        "print(kruskal(x2, y2,z)) # x clearly dominates, compares first group with other 2"
      ],
      "execution_count": 0,
      "outputs": [
        {
          "output_type": "stream",
          "text": [
            "KruskalResult(statistic=0.2727272727272734, pvalue=0.6015081344405895)\n",
            "KruskalResult(statistic=7.0, pvalue=0.0301973834223185)\n"
          ],
          "name": "stdout"
        }
      ]
    },
    {
      "cell_type": "markdown",
      "metadata": {
        "id": "pjt_GRvlj92j",
        "colab_type": "text"
      },
      "source": [
        "### Hypothesis Testing\n",
        "- An assumption is made about a population\n",
        "- A random sample is collected from the population\n",
        "- Measurements around the sample are derived\n",
        "- You check whether or not the measurements support the assumption"
      ]
    },
    {
      "cell_type": "markdown",
      "metadata": {
        "id": "WkalhHWvkdMX",
        "colab_type": "text"
      },
      "source": [
        "#### Example scenario\n",
        "- About 1000 adult residents inhabit a small resident town in the East Bay. Out of the adult residents, 50% are women, 50% are men.\n",
        "- Every year a HOA committee gets formed that includes 10 adults. The HOA committee is selected from the pool of residents that constitute the HOA. \n",
        "- The resident male adults have complained that they are getting selected more often to the committee than the resident female adults. \n",
        "- An independent panel is created to investigate the claim. They use the newly selected pool of members as a sample\n",
        "- They find that in that pool of 10 members, 7 are men, 3 are women\n",
        "- The HOA contends this happend by chance. The resident male adults disagree"
      ]
    },
    {
      "cell_type": "code",
      "metadata": {
        "id": "39-lCdySkAJ7",
        "colab_type": "code",
        "colab": {}
      },
      "source": [
        "# Step 1: Come up with the Hypothesis\n",
        "#    Ho represents the status-quo in that the HOA committee did happen by chance, in other words, the chance of an adult being picked for the committee was at least 50%\n",
        "#    Our null hypothesis, Ho: p is less than or equal to 0.50, in other words, adult males had a 50% chance, or even less than a 50% chance, of being chosen to the HOA committee\n",
        "#    The alternative hypothesis, H1:is the opposite of the null, adult males did not have a 50% chance of being chosen to the HOA committee. The chance of an adult male being selected is greater than 50%, so p > 0.50"
      ],
      "execution_count": 0,
      "outputs": []
    },
    {
      "cell_type": "code",
      "metadata": {
        "id": "MMAxn6MUkAMz",
        "colab_type": "code",
        "colab": {}
      },
      "source": [
        "# Step 2: Specify the significance level: \n",
        "#    The significance level defines the threshold for the Hyopthesis Test. \n",
        "#    For this example, we specify the significance level to be 5%\n",
        "#    If the likelihood of 7 or more adult males ending up on the HOA committee has lower than a 5% chance of happening at random, then we can reject the null hypothesis"
      ],
      "execution_count": 0,
      "outputs": []
    },
    {
      "cell_type": "code",
      "metadata": {
        "id": "NxIh48XqkAPq",
        "colab_type": "code",
        "colab": {}
      },
      "source": [
        "# Step 3: Find the test statistic which enables us to ascertain the validity of the null hypothesis\n",
        "#   The test statistic measures the level of agreement between a sample of data (i.e. the newly selected pool of HOA committee members) and the null hypothesis\n",
        "#   Once we have the test statistic, we compute the p-value of the test statistic\n",
        "#     the p-value is the probability that this outcome, 7 adult males and 3 adult females, could occur by chance.\n",
        "#     For htis example, assume p-value is 0.0015 or 15%"
      ],
      "execution_count": 0,
      "outputs": []
    },
    {
      "cell_type": "code",
      "metadata": {
        "id": "KsBvHQJxmpri",
        "colab_type": "code",
        "colab": {}
      },
      "source": [
        "# Step 4: We compare the p-value with the significance level\n",
        "#   In this case, there is only a 15% chance that at random 7 or more adult males would be selected for a committee of 10 members\n",
        "#   Given that the significance level is 0.05, or 5%; the p value falls short of our significance level and thence, we must reject the null hypothesis\n",
        "#   This means that we believe that something is making it much more likely for an adult male to be selected v/s an adult fmeale."
      ],
      "execution_count": 0,
      "outputs": []
    },
    {
      "cell_type": "markdown",
      "metadata": {
        "id": "k8AdE1KvnQgl",
        "colab_type": "text"
      },
      "source": [
        "#### Test statistic\n",
        "A test statistic is a random variable that is calculated from sample data and used in a hypothesis test\n",
        "\n",
        "- You use it to determine whether to reject the null hypothesis\n",
        "- The test statistic compares your data with what is expected under the null hypothesis\n",
        "- The test statistic is used to create the p-value\n",
        "\n",
        "A test statistic measures the degreee of agreement between a sample of data and the null hypotheiss"
      ]
    },
    {
      "cell_type": "code",
      "metadata": {
        "id": "CWwUIVpqntWl",
        "colab_type": "code",
        "colab": {}
      },
      "source": [
        ""
      ],
      "execution_count": 0,
      "outputs": []
    },
    {
      "cell_type": "markdown",
      "metadata": {
        "id": "OmgimjBYn6Gl",
        "colab_type": "text"
      },
      "source": [
        "#### Hypothesis Testing article\n",
        "- **Hypothesis**: an educated guess about something in the world around you\n",
        " - it should be testable, either by experiment or observation\n",
        "- **Hypothesis statement**: should like (\"If I...(do this to an independent variable)...then (this will happen to the dependent variable)\")\n",
        "- **A good hypothesis statement should include**:\n",
        " - an \"if\" and \"then\" statement\n",
        " - both the independent and dependent variables\n",
        " - be testable by experiment, survey or other scientifically sound technique\n",
        " - be based on information in prior research\n",
        " - have design criteria (for engineering or programming projects)\n",
        "- **Hypothesis testing**: a way for you to test the results of a survey or experiment to see if you have meaningful results\n",
        " - you are basically testing whether your results are valid by figuring out the odds that your results happened by chance\n",
        "- Null hypothesis: is considered the accepted fact"
      ]
    },
    {
      "cell_type": "markdown",
      "metadata": {
        "id": "YRIe7r4TuSoX",
        "colab_type": "text"
      },
      "source": [
        "### Lecture video with Aaron Gallant"
      ]
    },
    {
      "cell_type": "markdown",
      "metadata": {
        "id": "Bd0KBftmv4gs",
        "colab_type": "text"
      },
      "source": [
        "#### Assignment - Build a confidence interval\n",
        "\n",
        "A confidence interval refers to a neighborhood around some point estimate, the size of which is determined by the desired p-value. For instance, we might say that 52% of Americans prefer tacos to burritos, with a 95% confidence interval of +/- 5%.\n",
        "\n",
        "52% (0.52) is the point estimate, and +/- 5% (the interval $[0.47, 0.57]$) is the confidence interval. \"95% confidence\" means a p-value $\\leq 1 - 0.95 = 0.05$.\n",
        "\n",
        "In this case, the confidence interval includes $0.5$ - which is the natural null hypothesis (that half of Americans prefer tacos and half burritos, thus there is no clear favorite). So in this case, we could use the confidence interval to report that we've failed to reject the null hypothesis.\n",
        "\n",
        "But providing the full analysis with a confidence interval, including a graphical representation of it, can be a helpful and powerful way to tell your story. Done well, it is also more intuitive to a layperson than simply saying \"fail to reject the null hypothesis\" - it shows that in fact the data does *not* give a single clear result (the point estimate) but a whole range of possibilities.\n",
        "\n",
        "How is a confidence interval built, and how should it be interpreted? It does *not* mean that 95% of the data lies in that interval - instead, the frequentist interpretation is \"if we were to repeat this experiment 100 times, we would expect the average result to lie in this interval ~95 times.\"\n",
        "\n",
        "For a 95% confidence interval and a normal(-ish) distribution, you can simply remember that +/-2 standard deviations contains 95% of the probability mass, and so the 95% confidence interval based on a given sample is centered at the mean (point estimate) and has a range of +/- 2 (or technically 1.96) standard deviations.\n",
        "\n",
        "Different distributions/assumptions (90% confidence, 99% confidence) will require different math, but the overall process and interpretation (with a frequentist approach) will be the same.\n",
        "\n",
        "Your assignment - using the data from the prior module ([congressional voting records](https://archive.ics.uci.edu/ml/datasets/Congressional+Voting+Records)):"
      ]
    },
    {
      "cell_type": "code",
      "metadata": {
        "id": "VtKyVDqMvioM",
        "colab_type": "code",
        "colab": {}
      },
      "source": [
        "import pandas as pd\n",
        "import numpy as np\n",
        "import matplotlib.pyplot as plt"
      ],
      "execution_count": 0,
      "outputs": []
    },
    {
      "cell_type": "code",
      "metadata": {
        "id": "_yZY2gruviq4",
        "colab_type": "code",
        "colab": {}
      },
      "source": [
        "cols= [\n",
        "    'Class Name',\n",
        "    'handicapped-infants',\n",
        "    'water-project-cost-sharing',\n",
        "    'adoption-of-the-budget-resolution',\n",
        "    'physician-fee-freeze',\n",
        "    'el-salvador-aid',\n",
        "    'religious-groups-in-schools',\n",
        "    'anti-satellite-test-ban',\n",
        "    'aid-to-nicaraguan-contras',\n",
        "    'mx-missile',\n",
        "    'immigration',\n",
        "    'synfuels-corporation-cutback',\n",
        "    'education-spending',\n",
        "    'superfund-right-to-sue',\n",
        "    'crime',\n",
        "    'duty-free-exports',\n",
        "    'export-administration-act-south-africa'\n",
        "]\n",
        "df = pd.read_csv('https://archive.ics.uci.edu/ml/machine-learning-databases/voting-records/house-votes-84.data', names=cols)"
      ],
      "execution_count": 0,
      "outputs": []
    },
    {
      "cell_type": "code",
      "metadata": {
        "id": "S2sCtFo6viul",
        "colab_type": "code",
        "outputId": "a2b73a0c-8ddd-41a8-a3cd-45959ee02c2a",
        "colab": {
          "base_uri": "https://localhost:8080/",
          "height": 233
        }
      },
      "source": [
        "df.head()"
      ],
      "execution_count": 0,
      "outputs": [
        {
          "output_type": "execute_result",
          "data": {
            "text/html": [
              "<div>\n",
              "<style scoped>\n",
              "    .dataframe tbody tr th:only-of-type {\n",
              "        vertical-align: middle;\n",
              "    }\n",
              "\n",
              "    .dataframe tbody tr th {\n",
              "        vertical-align: top;\n",
              "    }\n",
              "\n",
              "    .dataframe thead th {\n",
              "        text-align: right;\n",
              "    }\n",
              "</style>\n",
              "<table border=\"1\" class=\"dataframe\">\n",
              "  <thead>\n",
              "    <tr style=\"text-align: right;\">\n",
              "      <th></th>\n",
              "      <th>Class Name</th>\n",
              "      <th>handicapped-infants</th>\n",
              "      <th>water-project-cost-sharing</th>\n",
              "      <th>adoption-of-the-budget-resolution</th>\n",
              "      <th>physician-fee-freeze</th>\n",
              "      <th>el-salvador-aid</th>\n",
              "      <th>religious-groups-in-schools</th>\n",
              "      <th>anti-satellite-test-ban</th>\n",
              "      <th>aid-to-nicaraguan-contras</th>\n",
              "      <th>mx-missile</th>\n",
              "      <th>immigration</th>\n",
              "      <th>synfuels-corporation-cutback</th>\n",
              "      <th>education-spending</th>\n",
              "      <th>superfund-right-to-sue</th>\n",
              "      <th>crime</th>\n",
              "      <th>duty-free-exports</th>\n",
              "      <th>export-administration-act-south-africa</th>\n",
              "    </tr>\n",
              "  </thead>\n",
              "  <tbody>\n",
              "    <tr>\n",
              "      <th>0</th>\n",
              "      <td>republican</td>\n",
              "      <td>n</td>\n",
              "      <td>y</td>\n",
              "      <td>n</td>\n",
              "      <td>y</td>\n",
              "      <td>y</td>\n",
              "      <td>y</td>\n",
              "      <td>n</td>\n",
              "      <td>n</td>\n",
              "      <td>n</td>\n",
              "      <td>y</td>\n",
              "      <td>?</td>\n",
              "      <td>y</td>\n",
              "      <td>y</td>\n",
              "      <td>y</td>\n",
              "      <td>n</td>\n",
              "      <td>y</td>\n",
              "    </tr>\n",
              "    <tr>\n",
              "      <th>1</th>\n",
              "      <td>republican</td>\n",
              "      <td>n</td>\n",
              "      <td>y</td>\n",
              "      <td>n</td>\n",
              "      <td>y</td>\n",
              "      <td>y</td>\n",
              "      <td>y</td>\n",
              "      <td>n</td>\n",
              "      <td>n</td>\n",
              "      <td>n</td>\n",
              "      <td>n</td>\n",
              "      <td>n</td>\n",
              "      <td>y</td>\n",
              "      <td>y</td>\n",
              "      <td>y</td>\n",
              "      <td>n</td>\n",
              "      <td>?</td>\n",
              "    </tr>\n",
              "    <tr>\n",
              "      <th>2</th>\n",
              "      <td>democrat</td>\n",
              "      <td>?</td>\n",
              "      <td>y</td>\n",
              "      <td>y</td>\n",
              "      <td>?</td>\n",
              "      <td>y</td>\n",
              "      <td>y</td>\n",
              "      <td>n</td>\n",
              "      <td>n</td>\n",
              "      <td>n</td>\n",
              "      <td>n</td>\n",
              "      <td>y</td>\n",
              "      <td>n</td>\n",
              "      <td>y</td>\n",
              "      <td>y</td>\n",
              "      <td>n</td>\n",
              "      <td>n</td>\n",
              "    </tr>\n",
              "    <tr>\n",
              "      <th>3</th>\n",
              "      <td>democrat</td>\n",
              "      <td>n</td>\n",
              "      <td>y</td>\n",
              "      <td>y</td>\n",
              "      <td>n</td>\n",
              "      <td>?</td>\n",
              "      <td>y</td>\n",
              "      <td>n</td>\n",
              "      <td>n</td>\n",
              "      <td>n</td>\n",
              "      <td>n</td>\n",
              "      <td>y</td>\n",
              "      <td>n</td>\n",
              "      <td>y</td>\n",
              "      <td>n</td>\n",
              "      <td>n</td>\n",
              "      <td>y</td>\n",
              "    </tr>\n",
              "    <tr>\n",
              "      <th>4</th>\n",
              "      <td>democrat</td>\n",
              "      <td>y</td>\n",
              "      <td>y</td>\n",
              "      <td>y</td>\n",
              "      <td>n</td>\n",
              "      <td>y</td>\n",
              "      <td>y</td>\n",
              "      <td>n</td>\n",
              "      <td>n</td>\n",
              "      <td>n</td>\n",
              "      <td>n</td>\n",
              "      <td>y</td>\n",
              "      <td>?</td>\n",
              "      <td>y</td>\n",
              "      <td>y</td>\n",
              "      <td>y</td>\n",
              "      <td>y</td>\n",
              "    </tr>\n",
              "  </tbody>\n",
              "</table>\n",
              "</div>"
            ],
            "text/plain": [
              "   Class Name  ... export-administration-act-south-africa\n",
              "0  republican  ...                                      y\n",
              "1  republican  ...                                      ?\n",
              "2    democrat  ...                                      n\n",
              "3    democrat  ...                                      y\n",
              "4    democrat  ...                                      y\n",
              "\n",
              "[5 rows x 17 columns]"
            ]
          },
          "metadata": {
            "tags": []
          },
          "execution_count": 126
        }
      ]
    },
    {
      "cell_type": "code",
      "metadata": {
        "id": "hzKSng293VXy",
        "colab_type": "code",
        "colab": {}
      },
      "source": [
        "# Null hypothesis: deomcrats and republicans voted the same way\n",
        "# Alternate hypothesis: democrats and republicans did not vote the same way - 2 sample\n",
        "\n",
        "# different approach: Alternate hypothesis: democrats votes yes more than republicans - 1 sample but did this for each issue\n",
        "\n",
        "# 2 sample dont need to specify a null hypothesis - the null hypothesis is that these 2 samples have the same sample value\n",
        "# 1 sample approach requires something to compare it to "
      ],
      "execution_count": 0,
      "outputs": []
    },
    {
      "cell_type": "code",
      "metadata": {
        "id": "2Kmlt2tQwkb5",
        "colab_type": "code",
        "outputId": "8adae2a7-4680-48c0-f171-94fc362242ed",
        "colab": {
          "base_uri": "https://localhost:8080/",
          "height": 345
        }
      },
      "source": [
        "df = df.replace({'?':np.nan, 'n':0, 'y':1})\n",
        "df.isnull().sum() / len(df)"
      ],
      "execution_count": 0,
      "outputs": [
        {
          "output_type": "execute_result",
          "data": {
            "text/plain": [
              "Class Name                                0.000000\n",
              "handicapped-infants                       0.027586\n",
              "water-project-cost-sharing                0.110345\n",
              "adoption-of-the-budget-resolution         0.025287\n",
              "physician-fee-freeze                      0.025287\n",
              "el-salvador-aid                           0.034483\n",
              "religious-groups-in-schools               0.025287\n",
              "anti-satellite-test-ban                   0.032184\n",
              "aid-to-nicaraguan-contras                 0.034483\n",
              "mx-missile                                0.050575\n",
              "immigration                               0.016092\n",
              "synfuels-corporation-cutback              0.048276\n",
              "education-spending                        0.071264\n",
              "superfund-right-to-sue                    0.057471\n",
              "crime                                     0.039080\n",
              "duty-free-exports                         0.064368\n",
              "export-administration-act-south-africa    0.239080\n",
              "dtype: float64"
            ]
          },
          "metadata": {
            "tags": []
          },
          "execution_count": 127
        }
      ]
    },
    {
      "cell_type": "code",
      "metadata": {
        "id": "7zaT5vQOsDjO",
        "colab_type": "code",
        "colab": {}
      },
      "source": [
        "def assess_t_stats(df, **kwargs):\n",
        "  results=[]\n",
        "  for col in df.select_dtypes(include=np.number):\n",
        "    result = scipy.stats.ttest_ind(df.loc[df['Class Name'] == 'democrat', col],\n",
        "                                  df.loc[df['Class Name'] == 'republican', col],\n",
        "                                  **kwargs)\n",
        "    results.append({'issue':col,\n",
        "                   'statistic':result.statistic,\n",
        "                   'pvalue':result.pvalue})\n",
        "  return pd.DataFrame(results).sort_values(['pvalue', 'statistic'])"
      ],
      "execution_count": 0,
      "outputs": []
    },
    {
      "cell_type": "code",
      "metadata": {
        "id": "7SnJ58aSsDld",
        "colab_type": "code",
        "outputId": "b6483b94-be3d-4261-e0ca-a3216d391562",
        "colab": {
          "base_uri": "https://localhost:8080/",
          "height": 528
        }
      },
      "source": [
        "# negative sign means republicans in this case (1st sample passed in gets positive sign, second gets - sign)\n",
        "assess_t_stats(df, nan_policy='omit', equal_var=False)"
      ],
      "execution_count": 0,
      "outputs": [
        {
          "output_type": "execute_result",
          "data": {
            "text/html": [
              "<div>\n",
              "<style scoped>\n",
              "    .dataframe tbody tr th:only-of-type {\n",
              "        vertical-align: middle;\n",
              "    }\n",
              "\n",
              "    .dataframe tbody tr th {\n",
              "        vertical-align: top;\n",
              "    }\n",
              "\n",
              "    .dataframe thead th {\n",
              "        text-align: right;\n",
              "    }\n",
              "</style>\n",
              "<table border=\"1\" class=\"dataframe\">\n",
              "  <thead>\n",
              "    <tr style=\"text-align: right;\">\n",
              "      <th></th>\n",
              "      <th>issue</th>\n",
              "      <th>pvalue</th>\n",
              "      <th>statistic</th>\n",
              "    </tr>\n",
              "  </thead>\n",
              "  <tbody>\n",
              "    <tr>\n",
              "      <th>3</th>\n",
              "      <td>physician-fee-freeze</td>\n",
              "      <td>8.820761e-193</td>\n",
              "      <td>-56.704806</td>\n",
              "    </tr>\n",
              "    <tr>\n",
              "      <th>4</th>\n",
              "      <td>el-salvador-aid</td>\n",
              "      <td>2.898373e-79</td>\n",
              "      <td>-23.907288</td>\n",
              "    </tr>\n",
              "    <tr>\n",
              "      <th>2</th>\n",
              "      <td>adoption-of-the-budget-resolution</td>\n",
              "      <td>1.946704e-69</td>\n",
              "      <td>22.793246</td>\n",
              "    </tr>\n",
              "    <tr>\n",
              "      <th>11</th>\n",
              "      <td>education-spending</td>\n",
              "      <td>3.568751e-62</td>\n",
              "      <td>-20.724816</td>\n",
              "    </tr>\n",
              "    <tr>\n",
              "      <th>13</th>\n",
              "      <td>crime</td>\n",
              "      <td>6.862816e-58</td>\n",
              "      <td>-19.927656</td>\n",
              "    </tr>\n",
              "    <tr>\n",
              "      <th>7</th>\n",
              "      <td>aid-to-nicaraguan-contras</td>\n",
              "      <td>2.288121e-52</td>\n",
              "      <td>18.254856</td>\n",
              "    </tr>\n",
              "    <tr>\n",
              "      <th>8</th>\n",
              "      <td>mx-missile</td>\n",
              "      <td>4.289262e-51</td>\n",
              "      <td>17.409048</td>\n",
              "    </tr>\n",
              "    <tr>\n",
              "      <th>14</th>\n",
              "      <td>duty-free-exports</td>\n",
              "      <td>3.812922e-38</td>\n",
              "      <td>14.376245</td>\n",
              "    </tr>\n",
              "    <tr>\n",
              "      <th>12</th>\n",
              "      <td>superfund-right-to-sue</td>\n",
              "      <td>7.597900e-38</td>\n",
              "      <td>-14.352567</td>\n",
              "    </tr>\n",
              "    <tr>\n",
              "      <th>6</th>\n",
              "      <td>anti-satellite-test-ban</td>\n",
              "      <td>1.362781e-29</td>\n",
              "      <td>12.467493</td>\n",
              "    </tr>\n",
              "    <tr>\n",
              "      <th>5</th>\n",
              "      <td>religious-groups-in-schools</td>\n",
              "      <td>4.830932e-24</td>\n",
              "      <td>-10.767025</td>\n",
              "    </tr>\n",
              "    <tr>\n",
              "      <th>0</th>\n",
              "      <td>handicapped-infants</td>\n",
              "      <td>5.429019e-20</td>\n",
              "      <td>9.662337</td>\n",
              "    </tr>\n",
              "    <tr>\n",
              "      <th>10</th>\n",
              "      <td>synfuels-corporation-cutback</td>\n",
              "      <td>6.298960e-18</td>\n",
              "      <td>9.040574</td>\n",
              "    </tr>\n",
              "    <tr>\n",
              "      <th>15</th>\n",
              "      <td>export-administration-act-south-africa</td>\n",
              "      <td>1.042864e-09</td>\n",
              "      <td>6.397887</td>\n",
              "    </tr>\n",
              "    <tr>\n",
              "      <th>9</th>\n",
              "      <td>immigration</td>\n",
              "      <td>8.318509e-02</td>\n",
              "      <td>-1.737470</td>\n",
              "    </tr>\n",
              "    <tr>\n",
              "      <th>1</th>\n",
              "      <td>water-project-cost-sharing</td>\n",
              "      <td>9.291868e-01</td>\n",
              "      <td>-0.088940</td>\n",
              "    </tr>\n",
              "  </tbody>\n",
              "</table>\n",
              "</div>"
            ],
            "text/plain": [
              "                                     issue         pvalue  statistic\n",
              "3                     physician-fee-freeze  8.820761e-193 -56.704806\n",
              "4                          el-salvador-aid   2.898373e-79 -23.907288\n",
              "2        adoption-of-the-budget-resolution   1.946704e-69  22.793246\n",
              "11                      education-spending   3.568751e-62 -20.724816\n",
              "13                                   crime   6.862816e-58 -19.927656\n",
              "7                aid-to-nicaraguan-contras   2.288121e-52  18.254856\n",
              "8                               mx-missile   4.289262e-51  17.409048\n",
              "14                       duty-free-exports   3.812922e-38  14.376245\n",
              "12                  superfund-right-to-sue   7.597900e-38 -14.352567\n",
              "6                  anti-satellite-test-ban   1.362781e-29  12.467493\n",
              "5              religious-groups-in-schools   4.830932e-24 -10.767025\n",
              "0                      handicapped-infants   5.429019e-20   9.662337\n",
              "10            synfuels-corporation-cutback   6.298960e-18   9.040574\n",
              "15  export-administration-act-south-africa   1.042864e-09   6.397887\n",
              "9                              immigration   8.318509e-02  -1.737470\n",
              "1               water-project-cost-sharing   9.291868e-01  -0.088940"
            ]
          },
          "metadata": {
            "tags": []
          },
          "execution_count": 129
        }
      ]
    },
    {
      "cell_type": "code",
      "metadata": {
        "id": "-kwi0ZbA0KRp",
        "colab_type": "code",
        "outputId": "1ce5f6ad-b6af-4e04-8269-5f0b969019b6",
        "colab": {
          "base_uri": "https://localhost:8080/",
          "height": 126
        }
      },
      "source": [
        "df.groupby('Class Name')['education-spending'].value_counts()"
      ],
      "execution_count": 0,
      "outputs": [
        {
          "output_type": "execute_result",
          "data": {
            "text/plain": [
              "Class Name  education-spending\n",
              "democrat    0.0                   213\n",
              "            1.0                    36\n",
              "republican  1.0                   135\n",
              "            0.0                    20\n",
              "Name: education-spending, dtype: int64"
            ]
          },
          "metadata": {
            "tags": []
          },
          "execution_count": 135
        }
      ]
    },
    {
      "cell_type": "code",
      "metadata": {
        "id": "hJUd2Uct0KUq",
        "colab_type": "code",
        "outputId": "af4064de-27d5-49aa-e9cd-db211b99a4cf",
        "colab": {
          "base_uri": "https://localhost:8080/",
          "height": 126
        }
      },
      "source": [
        "df.groupby('Class Name')['physician-fee-freeze'].value_counts()"
      ],
      "execution_count": 0,
      "outputs": [
        {
          "output_type": "execute_result",
          "data": {
            "text/plain": [
              "Class Name  physician-fee-freeze\n",
              "democrat    0.0                     245\n",
              "            1.0                      14\n",
              "republican  1.0                     163\n",
              "            0.0                       2\n",
              "Name: physician-fee-freeze, dtype: int64"
            ]
          },
          "metadata": {
            "tags": []
          },
          "execution_count": 136
        }
      ]
    },
    {
      "cell_type": "code",
      "metadata": {
        "id": "UyxT6thQsDn-",
        "colab_type": "code",
        "colab": {}
      },
      "source": [
        "# Every issue except immigration and water-project-cost-sharing had statistically different voting across democrat and republican groups\n",
        "# Since the dataset columns contain 3-25% no-votes, I wonder whether either party disproportionately did not vote on any given topic"
      ],
      "execution_count": 0,
      "outputs": []
    },
    {
      "cell_type": "code",
      "metadata": {
        "id": "v4kT1NLDz2Ai",
        "colab_type": "code",
        "outputId": "a22fb9c9-6580-44bf-e8ec-f08e24f97516",
        "colab": {
          "base_uri": "https://localhost:8080/",
          "height": 528
        }
      },
      "source": [
        "# looking at null values \n",
        "df_voted = ~df.iloc[:, 1:50].isnull() * 1\n",
        "for col in df_voted:\n",
        "  df_voted[col] = pd.to_numeric(df_voted[col])\n",
        "df_voted = pd.concat([df['Class Name'], df_voted], axis=1)\n",
        "assess_t_stats(df_voted, nan_policy='omit', equal_var=False)"
      ],
      "execution_count": 0,
      "outputs": [
        {
          "output_type": "execute_result",
          "data": {
            "text/html": [
              "<div>\n",
              "<style scoped>\n",
              "    .dataframe tbody tr th:only-of-type {\n",
              "        vertical-align: middle;\n",
              "    }\n",
              "\n",
              "    .dataframe tbody tr th {\n",
              "        vertical-align: top;\n",
              "    }\n",
              "\n",
              "    .dataframe thead th {\n",
              "        text-align: right;\n",
              "    }\n",
              "</style>\n",
              "<table border=\"1\" class=\"dataframe\">\n",
              "  <thead>\n",
              "    <tr style=\"text-align: right;\">\n",
              "      <th></th>\n",
              "      <th>issue</th>\n",
              "      <th>pvalue</th>\n",
              "      <th>statistic</th>\n",
              "    </tr>\n",
              "  </thead>\n",
              "  <tbody>\n",
              "    <tr>\n",
              "      <th>15</th>\n",
              "      <td>export-administration-act-south-africa</td>\n",
              "      <td>0.000006</td>\n",
              "      <td>-4.576925</td>\n",
              "    </tr>\n",
              "    <tr>\n",
              "      <th>8</th>\n",
              "      <td>mx-missile</td>\n",
              "      <td>0.004804</td>\n",
              "      <td>-2.835053</td>\n",
              "    </tr>\n",
              "    <tr>\n",
              "      <th>7</th>\n",
              "      <td>aid-to-nicaraguan-contras</td>\n",
              "      <td>0.014734</td>\n",
              "      <td>2.458408</td>\n",
              "    </tr>\n",
              "    <tr>\n",
              "      <th>4</th>\n",
              "      <td>el-salvador-aid</td>\n",
              "      <td>0.097723</td>\n",
              "      <td>-1.659582</td>\n",
              "    </tr>\n",
              "    <tr>\n",
              "      <th>5</th>\n",
              "      <td>religious-groups-in-schools</td>\n",
              "      <td>0.117175</td>\n",
              "      <td>-1.569881</td>\n",
              "    </tr>\n",
              "    <tr>\n",
              "      <th>0</th>\n",
              "      <td>handicapped-infants</td>\n",
              "      <td>0.293876</td>\n",
              "      <td>-1.050963</td>\n",
              "    </tr>\n",
              "    <tr>\n",
              "      <th>3</th>\n",
              "      <td>physician-fee-freeze</td>\n",
              "      <td>0.408738</td>\n",
              "      <td>-0.826957</td>\n",
              "    </tr>\n",
              "    <tr>\n",
              "      <th>14</th>\n",
              "      <td>duty-free-exports</td>\n",
              "      <td>0.641402</td>\n",
              "      <td>0.466165</td>\n",
              "    </tr>\n",
              "    <tr>\n",
              "      <th>1</th>\n",
              "      <td>water-project-cost-sharing</td>\n",
              "      <td>0.651043</td>\n",
              "      <td>0.452715</td>\n",
              "    </tr>\n",
              "    <tr>\n",
              "      <th>10</th>\n",
              "      <td>synfuels-corporation-cutback</td>\n",
              "      <td>0.689333</td>\n",
              "      <td>0.400109</td>\n",
              "    </tr>\n",
              "    <tr>\n",
              "      <th>11</th>\n",
              "      <td>education-spending</td>\n",
              "      <td>0.699173</td>\n",
              "      <td>0.386766</td>\n",
              "    </tr>\n",
              "    <tr>\n",
              "      <th>6</th>\n",
              "      <td>anti-satellite-test-ban</td>\n",
              "      <td>0.746275</td>\n",
              "      <td>0.323824</td>\n",
              "    </tr>\n",
              "    <tr>\n",
              "      <th>9</th>\n",
              "      <td>immigration</td>\n",
              "      <td>0.820559</td>\n",
              "      <td>0.227006</td>\n",
              "    </tr>\n",
              "    <tr>\n",
              "      <th>13</th>\n",
              "      <td>crime</td>\n",
              "      <td>0.827801</td>\n",
              "      <td>0.217690</td>\n",
              "    </tr>\n",
              "    <tr>\n",
              "      <th>2</th>\n",
              "      <td>adoption-of-the-budget-resolution</td>\n",
              "      <td>0.875323</td>\n",
              "      <td>-0.157010</td>\n",
              "    </tr>\n",
              "    <tr>\n",
              "      <th>12</th>\n",
              "      <td>superfund-right-to-sue</td>\n",
              "      <td>0.885082</td>\n",
              "      <td>0.144636</td>\n",
              "    </tr>\n",
              "  </tbody>\n",
              "</table>\n",
              "</div>"
            ],
            "text/plain": [
              "                                     issue    pvalue  statistic\n",
              "15  export-administration-act-south-africa  0.000006  -4.576925\n",
              "8                               mx-missile  0.004804  -2.835053\n",
              "7                aid-to-nicaraguan-contras  0.014734   2.458408\n",
              "4                          el-salvador-aid  0.097723  -1.659582\n",
              "5              religious-groups-in-schools  0.117175  -1.569881\n",
              "0                      handicapped-infants  0.293876  -1.050963\n",
              "3                     physician-fee-freeze  0.408738  -0.826957\n",
              "14                       duty-free-exports  0.641402   0.466165\n",
              "1               water-project-cost-sharing  0.651043   0.452715\n",
              "10            synfuels-corporation-cutback  0.689333   0.400109\n",
              "11                      education-spending  0.699173   0.386766\n",
              "6                  anti-satellite-test-ban  0.746275   0.323824\n",
              "9                              immigration  0.820559   0.227006\n",
              "13                                   crime  0.827801   0.217690\n",
              "2        adoption-of-the-budget-resolution  0.875323  -0.157010\n",
              "12                  superfund-right-to-sue  0.885082   0.144636"
            ]
          },
          "metadata": {
            "tags": []
          },
          "execution_count": 138
        }
      ]
    },
    {
      "cell_type": "code",
      "metadata": {
        "id": "16jTmQzs0frV",
        "colab_type": "code",
        "colab": {}
      },
      "source": [
        "# it appears there may have been strategic non-voting in export-administration-act-south-africa and mx-missle\n",
        "# Top 2 republicans mnost likely not voted strategically, the 3rd one the democrats did not vote strategically"
      ],
      "execution_count": 0,
      "outputs": []
    },
    {
      "cell_type": "markdown",
      "metadata": {
        "id": "b375tJcX5bZM",
        "colab_type": "text"
      },
      "source": [
        "#### Live lecture work"
      ]
    },
    {
      "cell_type": "markdown",
      "metadata": {
        "id": "oVd8Hn--BaX2",
        "colab_type": "text"
      },
      "source": [
        "##### CHI SQUARE"
      ]
    },
    {
      "cell_type": "code",
      "metadata": {
        "id": "ztp_3ef90fzr",
        "colab_type": "code",
        "outputId": "c95a40a4-93b2-41cf-ddb2-3e9f2d3433b9",
        "colab": {
          "base_uri": "https://localhost:8080/",
          "height": 35
        }
      },
      "source": [
        "# playing with distributions - Chi squared\n",
        "from scipy.stats import chi2\n",
        "\n",
        "chi2_5 = chi2(5)  # 5 degrees of freedom\n",
        "chi2_5\n",
        "# frozen means its frozen to these parameters"
      ],
      "execution_count": 0,
      "outputs": [
        {
          "output_type": "execute_result",
          "data": {
            "text/plain": [
              "<scipy.stats._distn_infrastructure.rv_frozen at 0x7fa123b92b70>"
            ]
          },
          "metadata": {
            "tags": []
          },
          "execution_count": 146
        }
      ]
    },
    {
      "cell_type": "code",
      "metadata": {
        "id": "X6_oo8wjzmhU",
        "colab_type": "code",
        "outputId": "aa22fa07-bf77-4de0-f78b-3d568e391b48",
        "colab": {
          "base_uri": "https://localhost:8080/",
          "height": 35
        }
      },
      "source": [
        "chi2_5.mean()"
      ],
      "execution_count": 0,
      "outputs": [
        {
          "output_type": "execute_result",
          "data": {
            "text/plain": [
              "5.0"
            ]
          },
          "metadata": {
            "tags": []
          },
          "execution_count": 148
        }
      ]
    },
    {
      "cell_type": "code",
      "metadata": {
        "id": "8XNSROmk8gy6",
        "colab_type": "code",
        "outputId": "11ffd6ce-7e42-4e07-f671-bb56497f85db",
        "colab": {
          "base_uri": "https://localhost:8080/",
          "height": 35
        }
      },
      "source": [
        "chi2_5.median()"
      ],
      "execution_count": 0,
      "outputs": [
        {
          "output_type": "execute_result",
          "data": {
            "text/plain": [
              "4.351460191095526"
            ]
          },
          "metadata": {
            "tags": []
          },
          "execution_count": 150
        }
      ]
    },
    {
      "cell_type": "code",
      "metadata": {
        "id": "xtSQKlCP8iv3",
        "colab_type": "code",
        "colab": {}
      },
      "source": [
        "# median is less than mean so this means that it is skewed right (right tail)"
      ],
      "execution_count": 0,
      "outputs": []
    },
    {
      "cell_type": "code",
      "metadata": {
        "id": "om_SvuD68tZ5",
        "colab_type": "code",
        "outputId": "24286747-5d85-49b3-e838-18253b5d40bd",
        "colab": {
          "base_uri": "https://localhost:8080/",
          "height": 54
        }
      },
      "source": [
        "chi2_500 = chi2(500)\n",
        "print(chi2_500.mean())  # mean is 500, that parameter\n",
        "print(chi2_500.median())"
      ],
      "execution_count": 0,
      "outputs": [
        {
          "output_type": "stream",
          "text": [
            "500.0\n",
            "499.3334915888738\n"
          ],
          "name": "stdout"
        }
      ]
    },
    {
      "cell_type": "code",
      "metadata": {
        "id": "28dMP3G-8tha",
        "colab_type": "code",
        "outputId": "25bc2855-72e8-49d3-af3c-5d4d32b6514e",
        "colab": {
          "base_uri": "https://localhost:8080/",
          "height": 508
        }
      },
      "source": [
        "dir(chi2_5.pdf)"
      ],
      "execution_count": 0,
      "outputs": [
        {
          "output_type": "execute_result",
          "data": {
            "text/plain": [
              "['__call__',\n",
              " '__class__',\n",
              " '__delattr__',\n",
              " '__dir__',\n",
              " '__doc__',\n",
              " '__eq__',\n",
              " '__format__',\n",
              " '__func__',\n",
              " '__ge__',\n",
              " '__get__',\n",
              " '__getattribute__',\n",
              " '__gt__',\n",
              " '__hash__',\n",
              " '__init__',\n",
              " '__init_subclass__',\n",
              " '__le__',\n",
              " '__lt__',\n",
              " '__ne__',\n",
              " '__new__',\n",
              " '__reduce__',\n",
              " '__reduce_ex__',\n",
              " '__repr__',\n",
              " '__self__',\n",
              " '__setattr__',\n",
              " '__sizeof__',\n",
              " '__str__',\n",
              " '__subclasshook__']"
            ]
          },
          "metadata": {
            "tags": []
          },
          "execution_count": 152
        }
      ]
    },
    {
      "cell_type": "code",
      "metadata": {
        "id": "5jgMtHgo9707",
        "colab_type": "code",
        "outputId": "f7c25acd-b7af-47fd-f224-652595dbe8aa",
        "colab": {
          "base_uri": "https://localhost:8080/",
          "height": 269
        }
      },
      "source": [
        "# From cole\n",
        "import scipy\n",
        "import numpy\n",
        "import matplotlib.pyplot as plt\n",
        "\n",
        "data = scipy.stats.norm.rvs(size=100000, loc=0, scale=1.5, random_state=123)\n",
        "X = np.linspace(-5.0, 5.0, 100)\n",
        "hist = np.histogram(data, bins=100)\n",
        "hist_dist = scipy.stats.rv_histogram(hist)\n",
        "plt.plot(X, hist_dist.pdf(X), label='PDF');"
      ],
      "execution_count": 0,
      "outputs": [
        {
          "output_type": "display_data",
          "data": {
            "image/png": "[encoded data removed]",
            "text/plain": [
              "<Figure size 432x288 with 1 Axes>"
            ]
          },
          "metadata": {
            "tags": []
          }
        }
      ]
    },
    {
      "cell_type": "code",
      "metadata": {
        "id": "7wJQsk8j_CLe",
        "colab_type": "code",
        "outputId": "194a3265-0ec9-44c4-81d6-c1f1ee3592d8",
        "colab": {
          "base_uri": "https://localhost:8080/",
          "height": 54
        }
      },
      "source": [
        "# lets sample our chi squared 500 first before doing a normal test\n",
        "chi2_500.rvs(10000)"
      ],
      "execution_count": 0,
      "outputs": [
        {
          "output_type": "execute_result",
          "data": {
            "text/plain": [
              "array([564.02373675, 497.98580661, 561.05459707, ..., 502.59548413,\n",
              "       478.23238068, 567.26209887])"
            ]
          },
          "metadata": {
            "tags": []
          },
          "execution_count": 162
        }
      ]
    },
    {
      "cell_type": "code",
      "metadata": {
        "id": "j3Nnn_2e-NTQ",
        "colab_type": "code",
        "outputId": "46a5b737-1f49-489a-a1d2-066bd83c202a",
        "colab": {
          "base_uri": "https://localhost:8080/",
          "height": 35
        }
      },
      "source": [
        "# how do i test how normal the chi square -- - can use QQ plot or normal test which is better\n",
        "\n",
        "from scipy.stats import normaltest\n",
        "\n",
        "print(normaltest(chi2_500.rvs(500)))"
      ],
      "execution_count": 0,
      "outputs": [
        {
          "output_type": "stream",
          "text": [
            "NormaltestResult(statistic=0.4819003653623846, pvalue=0.7858807758863331)\n"
          ],
          "name": "stdout"
        }
      ]
    },
    {
      "cell_type": "code",
      "metadata": {
        "id": "6vpm32eW_Y76",
        "colab_type": "code",
        "colab": {}
      },
      "source": [
        "# If only 50 values, too little data for normal test to figure out\n",
        "# most of the time, chi 2 looks normal\n",
        "# tells you yes normal or not normal"
      ],
      "execution_count": 0,
      "outputs": []
    },
    {
      "cell_type": "code",
      "metadata": {
        "id": "EQAv1r3FBfsd",
        "colab_type": "code",
        "outputId": "d09faff0-eea3-4a63-bd05-116e5efc04ce",
        "colab": {
          "base_uri": "https://localhost:8080/",
          "height": 108
        }
      },
      "source": [
        "# Let's calculate chi square test stat by hand first\n",
        "# 1 male wants to eat outside, 2 inside\n",
        "# 2 femals want to eat outside, 1 inside\n",
        "chi_data = [[1,2], [2,1]]\n",
        "\n",
        "import pandas as pd\n",
        "chi_data = pd.DataFrame(chi_data, columns=['Outside', 'Inside'])\n",
        "chi_data\n",
        "\n",
        "# Calcluate the expected values by calculating the margins, the expectation is the product of the margins"
      ],
      "execution_count": 0,
      "outputs": [
        {
          "output_type": "execute_result",
          "data": {
            "text/html": [
              "<div>\n",
              "<style scoped>\n",
              "    .dataframe tbody tr th:only-of-type {\n",
              "        vertical-align: middle;\n",
              "    }\n",
              "\n",
              "    .dataframe tbody tr th {\n",
              "        vertical-align: top;\n",
              "    }\n",
              "\n",
              "    .dataframe thead th {\n",
              "        text-align: right;\n",
              "    }\n",
              "</style>\n",
              "<table border=\"1\" class=\"dataframe\">\n",
              "  <thead>\n",
              "    <tr style=\"text-align: right;\">\n",
              "      <th></th>\n",
              "      <th>Outside</th>\n",
              "      <th>Inside</th>\n",
              "    </tr>\n",
              "  </thead>\n",
              "  <tbody>\n",
              "    <tr>\n",
              "      <th>0</th>\n",
              "      <td>1</td>\n",
              "      <td>2</td>\n",
              "    </tr>\n",
              "    <tr>\n",
              "      <th>1</th>\n",
              "      <td>2</td>\n",
              "      <td>1</td>\n",
              "    </tr>\n",
              "  </tbody>\n",
              "</table>\n",
              "</div>"
            ],
            "text/plain": [
              "   Outside  Inside\n",
              "0        1       2\n",
              "1        2       1"
            ]
          },
          "metadata": {
            "tags": []
          },
          "execution_count": 167
        }
      ]
    },
    {
      "cell_type": "code",
      "metadata": {
        "id": "qty815MtBs09",
        "colab_type": "code",
        "outputId": "a3df3f6c-a10e-4af3-e397-5aecec38e0f3",
        "colab": {
          "base_uri": "https://localhost:8080/",
          "height": 35
        }
      },
      "source": [
        "# Calculate margins manually\n",
        "# Total number of males (first row) = 3\n",
        "# Total number of females (second row) = 3\n",
        "# Total number of people who prefer outside = 3\n",
        "# Total number of people who prefer inside = 3\n",
        "\n",
        "# Now lets think about margin proportions\n",
        "# Proportions of males = 3 males / (3 males + 3 females) = 3/6 = 1/2 = 0.5\n",
        "# All the other rows/cols also have .5 proportion margins\n",
        "\n",
        "# Calculate how many people expect if null is true to be in any given set (product of margin times overall sample size)\n",
        "# Expected value for top left cell (males who want to eat outside) = \n",
        "#    (0.5 (proportion of males) * 0.5(proporotion of outside-eaters) * 6 = 1.5)\n",
        "\n",
        "# we know expected value of all cells in this case is 1.5 (because margins are all the same)\n",
        "\n",
        "# Calculate the chi square test statistic\n",
        "# It is the sum of square devation from these Expected values\n",
        "\n",
        "# Sum of squar deviation manually is\n",
        "expected_values = [[1.5, 1.5], [1.5,1.5]]\n",
        "deviation = (((0.5)**2)/1.5) * 4 # 0.5 ^ 2 deviation per cell, scaled and added\n",
        "print(deviation)\n",
        "\n"
      ],
      "execution_count": 0,
      "outputs": [
        {
          "output_type": "stream",
          "text": [
            "0.6666666666666666\n"
          ],
          "name": "stdout"
        }
      ]
    },
    {
      "cell_type": "code",
      "metadata": {
        "id": "f95CDYmXHTua",
        "colab_type": "code",
        "colab": {}
      },
      "source": [
        "# close but not all the way\n",
        "# https://en.wikipedia.org/wiki/Pearson%27s_chi-squared_test"
      ],
      "execution_count": 0,
      "outputs": []
    },
    {
      "cell_type": "code",
      "metadata": {
        "id": "fjD9wzzeFbRc",
        "colab_type": "code",
        "outputId": "db56dd50-3b93-47f9-ba95-c1681cdb17c7",
        "colab": {
          "base_uri": "https://localhost:8080/",
          "height": 35
        }
      },
      "source": [
        "# lets do a little more properly, not fully from scratch\n",
        "def lazy_chisquare(observed, expected):\n",
        "  chisquare=0\n",
        "  for row_obs, row_exp in zip(observed, expected):\n",
        "    for obs, exp in zip(row_obs, row_exp):\n",
        "      chisquare += (obs-exp)**2 / exp\n",
        "  return chisquare\n",
        "  \n",
        "chi_data = [[1,2], [2,1]]\n",
        "expected_values = [[1.5, 1.5], [1.5, 1.5]]\n",
        "lazy_chisquare(chi_data, expected_values)"
      ],
      "execution_count": 0,
      "outputs": [
        {
          "output_type": "execute_result",
          "data": {
            "text/plain": [
              "0.6666666666666666"
            ]
          },
          "metadata": {
            "tags": []
          },
          "execution_count": 174
        }
      ]
    },
    {
      "cell_type": "code",
      "metadata": {
        "id": "cMzogc7dHXxh",
        "colab_type": "code",
        "colab": {}
      },
      "source": [
        "# How do we interpret?\n",
        "# https://homepage.divms.uiowa.edu/~mbognar/applets/chisq.html\n",
        "# n-1 degrees of freedom (where n=number of *cells in table)"
      ],
      "execution_count": 0,
      "outputs": []
    },
    {
      "cell_type": "code",
      "metadata": {
        "id": "WwyNU4gdEH7x",
        "colab_type": "code",
        "outputId": "512b290c-c624-4d21-ab49-f05f21b60fdf",
        "colab": {
          "base_uri": "https://localhost:8080/",
          "height": 35
        }
      },
      "source": [
        "# chi2 refers to distribution and chisquare refers to the chi square test\n",
        "# lets run with scipy so we have a target\n",
        "from scipy.stats import chisquare # one way chi square test\n",
        "chisquare(chi_data, axis=None)"
      ],
      "execution_count": 0,
      "outputs": [
        {
          "output_type": "execute_result",
          "data": {
            "text/plain": [
              "Power_divergenceResult(statistic=0.6666666666666666, pvalue=0.8810148425137847)"
            ]
          },
          "metadata": {
            "tags": []
          },
          "execution_count": 170
        }
      ]
    },
    {
      "cell_type": "code",
      "metadata": {
        "id": "asWrMD7mEVul",
        "colab_type": "code",
        "colab": {}
      },
      "source": [
        "# To get p-value\n",
        "# degrees of freedom is the number of cells - 1 (4-1 = 3 in this case)"
      ],
      "execution_count": 0,
      "outputs": []
    },
    {
      "cell_type": "markdown",
      "metadata": {
        "id": "gGDq-YPlIxqI",
        "colab_type": "text"
      },
      "source": [
        "##### Confidence Intervals\n",
        "- alpha (pick at this cutoff)--- alpha is the p-value\n",
        "- so if p is 0.5, we making a cutoff with alpha/2 which is one tail, -alpha/2 is left tail\n",
        "- confidence interval \n",
        "- if alpha is 0.5, then 1-alpha is .95 represents the 95% confidence level\n",
        "- 0, mean of normal is our point estimate\n",
        "- 95% of probability mass value lives between the alpha/2 tails"
      ]
    },
    {
      "cell_type": "markdown",
      "metadata": {
        "id": "Ij3CkmszIjRE",
        "colab_type": "text"
      },
      "source": [
        "###### example\n",
        "Let's say there are 2 bills on the ballot (i.e. Parcel Tax Bill A and Parcel Tax Bill B).\n",
        "- What is the likelihood that Parcel Tax Bill A will be voted in?\n",
        "-The country of 'Contra Costa' has 100,000 voters. If it were possible, we would poll each one of the likely voters to figure out which bill they would support. From that, we would uncover the population proportion(p) or percent of the population that support Parcel TAx A. However, polling each one of the voters is not possible.\n",
        "- Thus, we resort to sampling and take a poll of 100 voters (i.e. sample size: 100).\n",
        "- then we computer the sample proportion(also called p-hat) to determine the proportion of voters from within the sample that would support Parcel Tax A.\n",
        "\n",
        "Now, let's go ahead an draw the sampling distribution of the sample proportions.\n",
        "- the sample proportion is a single dot on ths distribution\n",
        "- we are going to build an interval centered on the sample's p-hat (i.e. the interval will have a lower and uppper limti) and hope that the true popultion proporiton falls within that interval\n",
        "- a 95% Confidence interval would imply that 95% of my samples would have an interval within range of population proportion (i.e. p), in other words, when we gather a sample with a certain sample p-hat and then we create an interval around that p-hat, we are 95% certain that the real population proportion lies between the lower and upper limit of that interval.\n",
        "\n",
        "Building on the scenario above, the chief proponent of Parcel Tax Bill A is interested in determining what is the likelihood of Parcel Tax Bill A being voted into law. So she requests her team to conduct a poll.\n",
        "- the team polls a random sample of 1000 voters and checks whether they will be voting for Parcel Tax A or Pacel Tax B.\n",
        "- 57% of the 1000 voters polled said they planned on voting for Parcel Tax Bill A\n",
        "- Anything over 50% in the ballot would result in a win for Parcel Tax Bill A\n",
        "- Based on the results of the poll, things look promising for Parcel Tax A, but remember, this was only one sample size of 1000\n",
        "- This small pre-ballot poll did not provide the actual proportion of votes Parcel Tax A will get on the day of the ballot, but perhaps it is close\n",
        "\n",
        "Let's use our sample proportion to create an interval that most likely includes the actual proportion of votes that Parcel Tax A will get on the day of the ballot.\n",
        "- To construct a 95% Confidence Interval centered on the sample proportion assuming a normal distribution means that 2.5% of the area under the curve on the right side of the curve would not be included and 2.5% of the area under the curve on the left side of the curve would not be included.\n",
        "\n",
        "Now we proceed with determining upper and lower limits of the interval. In order to do that, we will find the z-score using the Standard Normal Distribution Table.\n",
        "- In this table we locate 0.975 because that will give us 97.5% of the data points that are to the left of the point, which means 2.5% are to tehpoint of this point.\n",
        "- therefore, if we go 1.96 standard deviations in either direction from the sample proportion, 95% of the area will fall between these two limits\n",
        "\n",
        "In our case, the sample proportion is 0.57 so the limits can be defined as follows:\n",
        "-UL = 0.57 + 1.96 times Standard Deviation\n",
        "-LL = 0.57 + 1.96 times Standard Deviation\n",
        "\n",
        "Since we do not know the population's standard deviation, we will use the Standard Error instead.\n",
        "- SE(p-hat) = square root[p-hat) * (1-p-hat)/n]\n",
        "- SE(p-hat) = 0.0156\n",
        "- UL = 0.57 + (1.96 * 0.0156) = 0.60\n",
        "- LL = 0.57 - (1.96 * 0.0156) = 0.54\n",
        "\n",
        "If the results of the ballot were identical to anything within our 95% confidence interval, Parcel Tax A wins.\n",
        "- in other words, there is now a 95% chance that on the day of the ballot, Parcet Tax A will receive between 54% and 60% of the vote"
      ]
    },
    {
      "cell_type": "code",
      "metadata": {
        "id": "pQAZ5LQEQmvB",
        "colab_type": "code",
        "colab": {}
      },
      "source": [
        ""
      ],
      "execution_count": 0,
      "outputs": []
    },
    {
      "cell_type": "markdown",
      "metadata": {
        "id": "wSQE7ZIyQglp",
        "colab_type": "text"
      },
      "source": [
        "###### Confidence Intervals - coinflip example"
      ]
    },
    {
      "cell_type": "code",
      "metadata": {
        "id": "ac5nTUczImsR",
        "colab_type": "code",
        "colab": {}
      },
      "source": [
        "# Confidence intervals!\n",
        "# Similar to hypothesis testing, but centered at sample mean\n",
        "# Generally better than reporting the \"point estimate\" (sample mean)\n",
        "# Why? Because point estimate aren't always perfect\n",
        "import numpy as np\n",
        "from scipy import stats\n",
        "\n",
        "def confidence_interval(data, confidence=0.95):\n",
        "  \"\"\"\n",
        "  Calcluate a confidence interval around a sample mean for given data.\n",
        "  Using t-distribution and two-tailed test, default is 95% confidence.\n",
        "  \n",
        "  Arguments:\n",
        "     data  - iterable (list or numpy array) of sample observations\n",
        "     confidence - level of confidence for the interval\n",
        "   \n",
        "  Returns:\n",
        "     tuple of (mean, lower bound, upper bound)\n",
        "  \"\"\"\n",
        "  data = np.array(data)\n",
        "  mean = np.mean(data)\n",
        "  n = len(data)\n",
        "  stderr = stats.sem(data)\n",
        "  interval = stderr * stats.t.ppf((1 + confidence) /2., n-1)\n",
        "  return (mean, mean - interval, mean + interval)\n",
        "\n",
        "def report_confidence_interval(confidence_interval):\n",
        "  \"\"\"\n",
        "  Return a string with a pretty report of a confidence interval.\n",
        "  \n",
        "  Arguments:\n",
        "     confidence_interval - tuple of (mean, lower bound, upper bound)\n",
        "     \n",
        "  Returns:\n",
        "     None, but prints to screen the report\n",
        "  \"\"\"\n",
        "  # print('Mean: {}'.format(confidence_interval([0]))\n",
        "  # print('Lower Bound: {}'.format(confidence_interval[1]))\n",
        "  # print('Upper Bound: {}'.format(confidence_interval[2]))\n",
        "  s = \"our mean lies in the interval [{:.2}, {:.2}]\".format(\n",
        "        confidence_interval[1], confidence_interval[2])\n",
        "  return s"
      ],
      "execution_count": 0,
      "outputs": []
    },
    {
      "cell_type": "code",
      "metadata": {
        "id": "dnrjaG3BOEJU",
        "colab_type": "code",
        "outputId": "caae4c2e-9ff9-449e-fbda-e2da52cea2f3",
        "colab": {
          "base_uri": "https://localhost:8080/",
          "height": 35
        }
      },
      "source": [
        "# Note: below is a way to combine integer with a string and print it out all at once\n",
        "x = 2\n",
        "print('x is: {}'.format(x))"
      ],
      "execution_count": 0,
      "outputs": [
        {
          "output_type": "stream",
          "text": [
            "x is: 2\n"
          ],
          "name": "stdout"
        }
      ]
    },
    {
      "cell_type": "code",
      "metadata": {
        "id": "uKP3mY3KOML_",
        "colab_type": "code",
        "outputId": "64d58c38-31b7-4090-9713-d487de79afc8",
        "colab": {
          "base_uri": "https://localhost:8080/",
          "height": 72
        }
      },
      "source": [
        "# Example - lets do a hypothesis test\n",
        "#coinflips\n",
        "coinflips = np.random.binomial(n=1, p=0.5, size=100)\n",
        "print(coinflips)"
      ],
      "execution_count": 0,
      "outputs": [
        {
          "output_type": "stream",
          "text": [
            "[1 0 0 1 0 1 0 0 1 1 0 1 0 0 1 1 1 1 1 1 1 1 0 1 1 1 0 0 1 0 0 0 0 1 1 0 0\n",
            " 0 1 0 0 1 1 1 0 1 0 0 0 0 0 1 0 1 1 1 0 0 1 1 1 0 1 0 0 1 0 1 1 1 1 1 1 1\n",
            " 1 1 1 0 0 1 0 1 0 0 0 0 0 0 1 0 0 1 0 0 0 1 1 1 1 1]\n"
          ],
          "name": "stdout"
        }
      ]
    },
    {
      "cell_type": "code",
      "metadata": {
        "id": "1tz7LuavOWr7",
        "colab_type": "code",
        "outputId": "f65af91e-557b-409d-daf0-5c52efa0fe15",
        "colab": {
          "base_uri": "https://localhost:8080/",
          "height": 35
        }
      },
      "source": [
        "# null is value will be 0.5\n",
        "stats.ttest_1samp(coinflips, 0.5)"
      ],
      "execution_count": 0,
      "outputs": [
        {
          "output_type": "execute_result",
          "data": {
            "text/plain": [
              "Ttest_1sampResult(statistic=0.5980699588110716, pvalue=0.5511590111236772)"
            ]
          },
          "metadata": {
            "tags": []
          },
          "execution_count": 199
        }
      ]
    },
    {
      "cell_type": "code",
      "metadata": {
        "id": "2Ij7-pXPOuov",
        "colab_type": "code",
        "outputId": "ae62c34e-9bf4-4f30-a7ff-0820a4aea20b",
        "colab": {
          "base_uri": "https://localhost:8080/",
          "height": 288
        }
      },
      "source": [
        "df = pd.DataFrame(coinflips)\n",
        "df.describe()"
      ],
      "execution_count": 0,
      "outputs": [
        {
          "output_type": "execute_result",
          "data": {
            "text/html": [
              "<div>\n",
              "<style scoped>\n",
              "    .dataframe tbody tr th:only-of-type {\n",
              "        vertical-align: middle;\n",
              "    }\n",
              "\n",
              "    .dataframe tbody tr th {\n",
              "        vertical-align: top;\n",
              "    }\n",
              "\n",
              "    .dataframe thead th {\n",
              "        text-align: right;\n",
              "    }\n",
              "</style>\n",
              "<table border=\"1\" class=\"dataframe\">\n",
              "  <thead>\n",
              "    <tr style=\"text-align: right;\">\n",
              "      <th></th>\n",
              "      <th>0</th>\n",
              "    </tr>\n",
              "  </thead>\n",
              "  <tbody>\n",
              "    <tr>\n",
              "      <th>count</th>\n",
              "      <td>100.000000</td>\n",
              "    </tr>\n",
              "    <tr>\n",
              "      <th>mean</th>\n",
              "      <td>0.530000</td>\n",
              "    </tr>\n",
              "    <tr>\n",
              "      <th>std</th>\n",
              "      <td>0.501614</td>\n",
              "    </tr>\n",
              "    <tr>\n",
              "      <th>min</th>\n",
              "      <td>0.000000</td>\n",
              "    </tr>\n",
              "    <tr>\n",
              "      <th>25%</th>\n",
              "      <td>0.000000</td>\n",
              "    </tr>\n",
              "    <tr>\n",
              "      <th>50%</th>\n",
              "      <td>1.000000</td>\n",
              "    </tr>\n",
              "    <tr>\n",
              "      <th>75%</th>\n",
              "      <td>1.000000</td>\n",
              "    </tr>\n",
              "    <tr>\n",
              "      <th>max</th>\n",
              "      <td>1.000000</td>\n",
              "    </tr>\n",
              "  </tbody>\n",
              "</table>\n",
              "</div>"
            ],
            "text/plain": [
              "                0\n",
              "count  100.000000\n",
              "mean     0.530000\n",
              "std      0.501614\n",
              "min      0.000000\n",
              "25%      0.000000\n",
              "50%      1.000000\n",
              "75%      1.000000\n",
              "max      1.000000"
            ]
          },
          "metadata": {
            "tags": []
          },
          "execution_count": 200
        }
      ]
    },
    {
      "cell_type": "code",
      "metadata": {
        "id": "l8LuCAa5PBcZ",
        "colab_type": "code",
        "outputId": "9afc6de1-05e2-4fd2-ec44-ce31198b7f48",
        "colab": {
          "base_uri": "https://localhost:8080/",
          "height": 35
        }
      },
      "source": [
        "coinflip_interval = confidence_interval(coinflips, confidence=0.95) # default is 95%\n",
        "coinflip_interval"
      ],
      "execution_count": 0,
      "outputs": [
        {
          "output_type": "execute_result",
          "data": {
            "text/plain": [
              "(0.53, 0.43046898750173684, 0.6295310124982633)"
            ]
          },
          "metadata": {
            "tags": []
          },
          "execution_count": 201
        }
      ]
    },
    {
      "cell_type": "code",
      "metadata": {
        "id": "2r2N2kfxPBgP",
        "colab_type": "code",
        "colab": {}
      },
      "source": [
        "# if we could repeat this experiement, we would expect the value to fall between .43 and 0.62 confidence intervals above"
      ],
      "execution_count": 0,
      "outputs": []
    },
    {
      "cell_type": "code",
      "metadata": {
        "id": "cRN4SYLLPT0B",
        "colab_type": "code",
        "outputId": "91bac38c-30fa-425e-f22c-d6481180ecb0",
        "colab": {
          "base_uri": "https://localhost:8080/",
          "height": 35
        }
      },
      "source": [
        "report_confidence_interval(coinflip_interval)"
      ],
      "execution_count": 0,
      "outputs": [
        {
          "output_type": "execute_result",
          "data": {
            "text/plain": [
              "'our mean lies in the interval [0.43, 0.63]'"
            ]
          },
          "metadata": {
            "tags": []
          },
          "execution_count": 204
        }
      ]
    },
    {
      "cell_type": "code",
      "metadata": {
        "id": "HGBsbLNXMKPc",
        "colab_type": "code",
        "outputId": "a14c745c-1eed-485a-ffb8-0d1d7b9f9dcc",
        "colab": {
          "base_uri": "https://localhost:8080/",
          "height": 254
        }
      },
      "source": [
        "help(confidence_interval)"
      ],
      "execution_count": 0,
      "outputs": [
        {
          "output_type": "stream",
          "text": [
            "Help on function confidence_interval in module __main__:\n",
            "\n",
            "confidence_interval(data, confidence=0.95)\n",
            "    Calcluate a confidence interval around a sample mean for given data.\n",
            "    Using t-distribution and two-tailed test, default is 95% confidence.\n",
            "    \n",
            "    Arguments:\n",
            "       data  - iterable (list or numpy array) of sample observations\n",
            "       confidence - level of confidence for the interval\n",
            "     \n",
            "    Returns:\n",
            "       tuple of (mean, lower bound, upper bound)\n",
            "\n"
          ],
          "name": "stdout"
        }
      ]
    },
    {
      "cell_type": "code",
      "metadata": {
        "id": "3qW0xpLNNTgZ",
        "colab_type": "code",
        "outputId": "4005381d-a5f2-469d-b7d3-03de80174da1",
        "colab": {
          "base_uri": "https://localhost:8080/",
          "height": 417
        }
      },
      "source": [
        "help(stats.t.ppf)   # ppf---percent point function --- you give a quantile and it gives back a probability for the tails "
      ],
      "execution_count": 0,
      "outputs": [
        {
          "output_type": "stream",
          "text": [
            "Help on method ppf in module scipy.stats._distn_infrastructure:\n",
            "\n",
            "ppf(q, *args, **kwds) method of scipy.stats._continuous_distns.t_gen instance\n",
            "    Percent point function (inverse of `cdf`) at q of the given RV.\n",
            "    \n",
            "    Parameters\n",
            "    ----------\n",
            "    q : array_like\n",
            "        lower tail probability\n",
            "    arg1, arg2, arg3,... : array_like\n",
            "        The shape parameter(s) for the distribution (see docstring of the\n",
            "        instance object for more information)\n",
            "    loc : array_like, optional\n",
            "        location parameter (default=0)\n",
            "    scale : array_like, optional\n",
            "        scale parameter (default=1)\n",
            "    \n",
            "    Returns\n",
            "    -------\n",
            "    x : array_like\n",
            "        quantile corresponding to the lower tail probability q.\n",
            "\n"
          ],
          "name": "stdout"
        }
      ]
    },
    {
      "cell_type": "code",
      "metadata": {
        "id": "daMF_KsPNn4W",
        "colab_type": "code",
        "colab": {}
      },
      "source": [
        ""
      ],
      "execution_count": 0,
      "outputs": []
    },
    {
      "cell_type": "markdown",
      "metadata": {
        "id": "PN1c_PCJRGKd",
        "colab_type": "text"
      },
      "source": [
        "## Module 3 - Introduction to Bayesian Inference\n",
        "- Be able to derive Bayes' theorem from the Law of Conditional Probability\n",
        "- Calculate Bayesian confidence intervals"
      ]
    },
    {
      "cell_type": "markdown",
      "metadata": {
        "id": "VT0KVisGS2jS",
        "colab_type": "text"
      },
      "source": [
        "### Bayes Theorem broken down \n",
        "P(A|B) = P(B|A) * P(A) / P(B)\n",
        "\n",
        "- A      - the event/hypothesis we care about\n",
        "- P(A)   - our prior belief in (the likelihood of) A - (prior)\n",
        "- B      - information/evidence we observe\n",
        "- P(B)   - the (total) likelihood of B   (total probability of B)\n",
        "- P(B|A) - the likelihood of B if A is true/occurs \n",
        "- P(A|B) - the likelihood of A if B is true/occurs - (posterior)\n",
        "\n",
        "In words: the probability of A given B is probability of their intersection (A and B happening together) divided by the total probability of B\n",
        "\n",
        "If the P(B) = 1 (always happen), the equation reduces to P(A|B) = P(A)"
      ]
    },
    {
      "cell_type": "markdown",
      "metadata": {
        "id": "tB1o1aUlWQue",
        "colab_type": "text"
      },
      "source": [
        "#### Hypothesis as Belief\n",
        "- Much of the power of Bayesian approaches is their flexibility - we can use almost anything we want in place of A and B, including hypothesis and data\n",
        "\n",
        "- The other main strength of Bayes is that it gives us, intuitively, what we want - a probability of belief. \n",
        " - That's what most people naturally assume \"confidence\" is, and how they use the word \"probable\" in conversation."
      ]
    },
    {
      "cell_type": "code",
      "metadata": {
        "id": "SFMzwVgpY2_s",
        "colab_type": "code",
        "colab": {}
      },
      "source": [
        ""
      ],
      "execution_count": 0,
      "outputs": []
    },
    {
      "cell_type": "markdown",
      "metadata": {
        "id": "d1muP9jlXWUM",
        "colab_type": "text"
      },
      "source": [
        "#### Breathalyzer test example\n",
        "P(Drunk|Positive) = P(Positive|Drunk) * P(Drunk) / P(Positive) = 1 x 0.001 / 0.08 = 0.0125\n",
        "\n",
        "- A - probability that someone is drunk- our hypothesis that we are testing\n",
        "- B - is the evidence, someone tested positive to being drunk on analyzer\n",
        "- P(A|B) = ?\n",
        "- P(B|A) = 100% so 1 \n",
        "- P(A) Prior probability they are drunk (belief) = 1/1000 = 0.001\n",
        "- P(B) overall total probability they of the test overall = 0.08 (8% of false positives)"
      ]
    },
    {
      "cell_type": "code",
      "metadata": {
        "id": "LW7fLhL_Y3m6",
        "colab_type": "code",
        "colab": {}
      },
      "source": [
        ""
      ],
      "execution_count": 0,
      "outputs": []
    },
    {
      "cell_type": "markdown",
      "metadata": {
        "id": "FzbeLt0sY-IH",
        "colab_type": "text"
      },
      "source": [
        "#### scipy.stats.bayes_mvs\n",
        "scipy.stats.bayes_mvs(data, alpha=0.9)\n",
        "- bayesian confidence intervals for the mean, var, and std\n",
        "\n",
        "Parameters:\n",
        "- **data**: array_like\n",
        " - input data, if multi-dimensional it is flattened to 1-D by bayes_mvs. Requires 2 or more data points\n",
        "-**alpha**: float, optional\n",
        " - probability that the returned confidence interval contains the true parameter\n",
        " \n",
        "Returns:\n",
        "-mean_cntr\n",
        "-var_cntr\n",
        "-std_cntr"
      ]
    },
    {
      "cell_type": "code",
      "metadata": {
        "id": "TuG0j6UdaYaX",
        "colab_type": "code",
        "colab": {}
      },
      "source": [
        ""
      ],
      "execution_count": 0,
      "outputs": []
    },
    {
      "cell_type": "markdown",
      "metadata": {
        "id": "R9odkWMpZ7wn",
        "colab_type": "text"
      },
      "source": [
        "#### The Law of Total Probability\n",
        "- By definition: The total probability of all outcomes (events) if some variable (event space) is 1\n",
        "\n",
        "- The Law of Probability takes this further: \n",
        " - the total probability of A is equal to the sum of the conditional probability of A on any given event B times the probabiliyt of that event B, and summed over all possible events in B."
      ]
    },
    {
      "cell_type": "code",
      "metadata": {
        "id": "QGbqpSL1aX6u",
        "colab_type": "code",
        "colab": {}
      },
      "source": [
        ""
      ],
      "execution_count": 0,
      "outputs": []
    },
    {
      "cell_type": "markdown",
      "metadata": {
        "id": "sd3TLpG1aHAW",
        "colab_type": "text"
      },
      "source": [
        "#### The Law of Conditional Probability\n",
        "-The total probability of A given B, is all the little pieces of it intersected with B, added together\n",
        " - the conditional probabiliyt is then just that again, but divided by the probabiliyt of B itself happening in the first place"
      ]
    },
    {
      "cell_type": "code",
      "metadata": {
        "id": "LTwRj3D2Zksu",
        "colab_type": "code",
        "colab": {}
      },
      "source": [
        ""
      ],
      "execution_count": 0,
      "outputs": []
    },
    {
      "cell_type": "markdown",
      "metadata": {
        "id": "Zn-oFv96aekU",
        "colab_type": "text"
      },
      "source": [
        "#### Bayes Theorem\n",
        "-The probability of A conditioned on B is the probability of B conditioned on A, times the probability of A and divided by the probability of B.\n",
        " - these unconditioned probabilities are referred to as \"prior beliefs\", and the conditional probabilities as \"updated\""
      ]
    },
    {
      "cell_type": "code",
      "metadata": {
        "id": "S7IM3-KTa7DE",
        "colab_type": "code",
        "colab": {}
      },
      "source": [
        ""
      ],
      "execution_count": 0,
      "outputs": []
    },
    {
      "cell_type": "markdown",
      "metadata": {
        "id": "bt9rXNbVVNJV",
        "colab_type": "text"
      },
      "source": [
        "#### Deriving Bayes (with latec)\n",
        "\n",
        "Notice that $P(A|B)$ appears in the above laws - in Bayesian terms, this is the belief in $A$ updated for the evidence $B$. So all we need to do is solve for this term to derive Bayes Theorem.\n",
        "\n",
        "$x = 2$  is an inline equation\n",
        "\n",
        "$$\n",
        "x=2\n",
        "$$\n",
        "\n",
        "is a block equation\n",
        "\n",
        "$$\n",
        "\\begin{aligned}\n",
        "x &=2\\\\\n",
        "&= 1 + 1\n",
        "\\end{aligned}\n",
        "$$\n",
        "\n",
        "Now let's derive Bayes!\n",
        "\n",
        "$$\n",
        "\\begin{aligned}\n",
        "P(A|B) &= \\frac{P(A \\cap B)}{P(B)}\\\\\n",
        "\\Rightarrow P(A|B)P(B) &= P(A \\cap B) \\\\\n",
        "P(B|A) &= \\frac{P(B \\cap A)}{P(A)} \\\\\n",
        "\\Rightarrow P(B|A)P(A) &= P(B \\cap A)\\\\\n",
        "P(A \\cap B) &= P(B \\cap A)\\\\\n",
        "\\Rightarrow P(A|B)P(B) &= P(B|A)P(A)\n",
        "\\\\ \n",
        "\\Rightarrow P(A|B) &= \\frac{P(B|A) \\times\n",
        "P(A)}{P(B)}\n",
        "\\end{aligned}\n",
        "$$\n",
        "\n",
        "\n"
      ]
    },
    {
      "cell_type": "code",
      "metadata": {
        "id": "giLqcAcyRR3X",
        "colab_type": "code",
        "colab": {}
      },
      "source": [
        ""
      ],
      "execution_count": 0,
      "outputs": []
    },
    {
      "cell_type": "markdown",
      "metadata": {
        "id": "CMOyZC__jabV",
        "colab_type": "text"
      },
      "source": [
        "### Calculate Bayesian Confidence Intervals"
      ]
    },
    {
      "cell_type": "code",
      "metadata": {
        "id": "-GQZPDR6S03c",
        "colab_type": "code",
        "colab": {}
      },
      "source": [
        "# Activity 2 = use Scipy to calculate Bayesian Confidence intervals\n",
        "# https://docs.scipy.org/doc/scipy/reference/generated/scipy.stats.bayes_mvs.html"
      ],
      "execution_count": 0,
      "outputs": []
    },
    {
      "cell_type": "code",
      "metadata": {
        "id": "1017S0oES0_Z",
        "colab_type": "code",
        "outputId": "f2d74fad-4cf9-4e04-826f-d6d8d1f4b394",
        "colab": {
          "base_uri": "https://localhost:8080/",
          "height": 35
        }
      },
      "source": [
        "# 10 draws one time - single coin flip, 10 draws--10 samples, basically one Bernoulli\n",
        "from scipy import stats\n",
        "import numpy as np\n",
        "\n",
        "coinflips = np.random.binomial(n=1, p=0.5, size=10)\n",
        "print(coinflips)"
      ],
      "execution_count": 0,
      "outputs": [
        {
          "output_type": "stream",
          "text": [
            "[0 1 1 1 0 0 0 1 0 0]\n"
          ],
          "name": "stdout"
        }
      ]
    },
    {
      "cell_type": "code",
      "metadata": {
        "id": "vUytcr-NS1C_",
        "colab_type": "code",
        "outputId": "585e6675-09d7-4c62-9b6e-123d922192c4",
        "colab": {
          "base_uri": "https://localhost:8080/",
          "height": 35
        }
      },
      "source": [
        "# Change n to 10 means it is still 10 observations, sample size of 10, but each observation is the sum of 10 coinflips, the the sum of ten Bernoulli's\n",
        "from scipy import stats\n",
        "import numpy as np\n",
        "\n",
        "coinflips = np.random.binomial(n=10, p=0.5, size=10)\n",
        "print(coinflips)"
      ],
      "execution_count": 0,
      "outputs": [
        {
          "output_type": "stream",
          "text": [
            "[3 6 7 6 6 7 3 5 6 5]\n"
          ],
          "name": "stdout"
        }
      ]
    },
    {
      "cell_type": "code",
      "metadata": {
        "id": "UacjrHC4S1GF",
        "colab_type": "code",
        "outputId": "b0ff4f7b-c447-4444-f98b-e1b697df1562",
        "colab": {
          "base_uri": "https://localhost:8080/",
          "height": 72
        }
      },
      "source": [
        "# now 100\n",
        "coinflips = np.random.binomial(n=1, p=0.5, size=100)\n",
        "print(coinflips)"
      ],
      "execution_count": 0,
      "outputs": [
        {
          "output_type": "stream",
          "text": [
            "[1 1 0 0 1 1 1 1 1 1 1 1 0 1 0 1 0 0 1 0 1 0 0 1 1 0 1 1 0 0 0 1 1 0 1 0 0\n",
            " 0 0 1 0 0 1 0 0 1 1 1 1 0 0 0 0 0 1 1 1 1 0 1 1 0 1 0 1 1 0 0 1 0 0 1 1 0\n",
            " 1 1 1 1 0 0 0 0 1 1 0 0 0 1 1 1 0 0 1 0 0 0 1 1 1 1]\n"
          ],
          "name": "stdout"
        }
      ]
    },
    {
      "cell_type": "code",
      "metadata": {
        "id": "m8adxzPfkYuK",
        "colab_type": "code",
        "colab": {}
      },
      "source": [
        "# confidence interval\n",
        "def confidence_interval(data, confidence=0.95):\n",
        "  \"\"\"\n",
        "  Takes data, returns (mean, lower, upper)\n",
        "  \"\"\"\n",
        "  mean = sum(data) / len(data)\n",
        "  data = np.array(data)\n",
        "  stderr = stats.sem(data)\n",
        "  interval = stderr * stats.t.ppf((1 + confidence) /2., n-1)\n",
        "  return (mean, mean - interval, mean + interval)\n"
      ],
      "execution_count": 0,
      "outputs": []
    },
    {
      "cell_type": "code",
      "metadata": {
        "id": "X9xH3wLKkYwx",
        "colab_type": "code",
        "outputId": "ec26501b-eb84-423e-c3be-36d31909d8f3",
        "colab": {
          "base_uri": "https://localhost:8080/",
          "height": 35
        }
      },
      "source": [
        "# Frequentist\n",
        "confidence_interval(coinflips)"
      ],
      "execution_count": 0,
      "outputs": [
        {
          "output_type": "execute_result",
          "data": {
            "text/plain": [
              "(0.53, 0.39072974920606884, 0.6692702507939312)"
            ]
          },
          "metadata": {
            "tags": []
          },
          "execution_count": 212
        }
      ]
    },
    {
      "cell_type": "code",
      "metadata": {
        "id": "1KLObhy6kYzH",
        "colab_type": "code",
        "outputId": "a2521191-529b-45c0-83ae-c5b23328122e",
        "colab": {
          "base_uri": "https://localhost:8080/",
          "height": 72
        }
      },
      "source": [
        "# Bayesian\n",
        "stats.bayes_mvs(coinflips)"
      ],
      "execution_count": 0,
      "outputs": [
        {
          "output_type": "execute_result",
          "data": {
            "text/plain": [
              "(Mean(statistic=0.53, minmax=(0.4467125284491557, 0.6132874715508443)),\n",
              " Variance(statistic=0.25680412371134015, minmax=(0.20215017434095597, 0.323311952657888)),\n",
              " Std_dev(statistic=0.5054540733507159, minmax=(0.4496111368070813, 0.5686052696360525)))"
            ]
          },
          "metadata": {
            "tags": []
          },
          "execution_count": 213
        }
      ]
    },
    {
      "cell_type": "code",
      "metadata": {
        "id": "FyALkdYvkY12",
        "colab_type": "code",
        "colab": {}
      },
      "source": [
        "# Mean is a mean for both, but the confidence interval is narrower for bayesian approach \n",
        "#   and gives confidence around variance (2nd line) which means the variance can vary\n",
        "#   statistic = 0.2568 represents the true variance p(1-p) = pq for Bourn. with a confidence interval"
      ],
      "execution_count": 0,
      "outputs": []
    },
    {
      "cell_type": "code",
      "metadata": {
        "id": "qmF6LHZORR9C",
        "colab_type": "code",
        "outputId": "f56aca67-0bed-4209-eb02-f8e6b383abfc",
        "colab": {
          "base_uri": "https://localhost:8080/",
          "height": 72
        }
      },
      "source": [
        "# if we change to size 5\n",
        "coinflips = np.random.binomial(n=1, p=0.5, size=100)\n",
        "print(coinflips)"
      ],
      "execution_count": 0,
      "outputs": [
        {
          "output_type": "stream",
          "text": [
            "[1 1 0 0 0 1 0 1 0 1 0 0 1 0 1 1 1 1 1 0 0 1 0 0 1 0 1 1 1 0 0 0 1 0 0 1 1\n",
            " 0 0 0 0 1 0 1 1 0 0 1 1 1 0 0 0 1 0 1 1 1 1 0 0 0 1 1 0 1 1 0 0 0 0 0 1 1\n",
            " 0 0 0 0 0 1 1 0 0 0 0 0 0 1 1 0 1 1 1 1 1 0 1 1 0 1]\n"
          ],
          "name": "stdout"
        }
      ]
    },
    {
      "cell_type": "code",
      "metadata": {
        "id": "p0E0wrn-nXR0",
        "colab_type": "code",
        "outputId": "915f4e0d-f0c4-4758-b0a5-5663b82bfa8f",
        "colab": {
          "base_uri": "https://localhost:8080/",
          "height": 35
        }
      },
      "source": [
        "# Frequentist\n",
        "confidence_interval(coinflips)"
      ],
      "execution_count": 0,
      "outputs": [
        {
          "output_type": "execute_result",
          "data": {
            "text/plain": [
              "(0.48, 0.3405900458398226, 0.6194099541601774)"
            ]
          },
          "metadata": {
            "tags": []
          },
          "execution_count": 218
        }
      ]
    },
    {
      "cell_type": "code",
      "metadata": {
        "id": "B1TW9I9DnXUQ",
        "colab_type": "code",
        "outputId": "708a48b6-e168-4955-e716-f646c04ff004",
        "colab": {
          "base_uri": "https://localhost:8080/",
          "height": 72
        }
      },
      "source": [
        "# Bayesian\n",
        "stats.bayes_mvs(coinflips, alpha=0.99)"
      ],
      "execution_count": 0,
      "outputs": [
        {
          "output_type": "execute_result",
          "data": {
            "text/plain": [
              "(Mean(statistic=0.48, minmax=(0.34812378764657276, 0.6118762123534272)),\n",
              " Variance(statistic=0.2573195876288659, minmax=(0.17958542085989448, 0.3752813183314565)),\n",
              " Std_dev(statistic=0.5059610993316946, minmax=(0.4237752008552347, 0.6126020880893702)))"
            ]
          },
          "metadata": {
            "tags": []
          },
          "execution_count": 220
        }
      ]
    },
    {
      "cell_type": "code",
      "metadata": {
        "id": "BW51Zs-1nXXm",
        "colab_type": "code",
        "outputId": "1629e06b-b5b5-416a-9e0c-19c8811daf7b",
        "colab": {
          "base_uri": "https://localhost:8080/",
          "height": 72
        }
      },
      "source": [
        "# frozen \n",
        "coinflips_dist = stats.mvsdist(coinflips)\n",
        "coinflips_dist"
      ],
      "execution_count": 0,
      "outputs": [
        {
          "output_type": "execute_result",
          "data": {
            "text/plain": [
              "(<scipy.stats._distn_infrastructure.rv_frozen at 0x7fa1239f1d68>,\n",
              " <scipy.stats._distn_infrastructure.rv_frozen at 0x7fa12420a898>,\n",
              " <scipy.stats._distn_infrastructure.rv_frozen at 0x7fa124133e10>)"
            ]
          },
          "metadata": {
            "tags": []
          },
          "execution_count": 223
        }
      ]
    },
    {
      "cell_type": "code",
      "metadata": {
        "id": "yPyeftjHpVE8",
        "colab_type": "code",
        "colab": {}
      },
      "source": [
        "# we get frozen so we can do this to fix that\n",
        "coinflips_mean_dist, coinflips_var_dist, coinflips_std_dist  = stats.mvsdist(coinflips)"
      ],
      "execution_count": 0,
      "outputs": []
    },
    {
      "cell_type": "code",
      "metadata": {
        "id": "-JgC4ixSpVkE",
        "colab_type": "code",
        "outputId": "46d7de64-0469-4242-b20a-cb78180edd6a",
        "colab": {
          "base_uri": "https://localhost:8080/",
          "height": 54
        }
      },
      "source": [
        "coinflips_mean_dist.rvs(10)  # bootstrapping is sampling wiht replacement---simulated 10 means "
      ],
      "execution_count": 0,
      "outputs": [
        {
          "output_type": "execute_result",
          "data": {
            "text/plain": [
              "array([0.50048705, 0.50194688, 0.42349345, 0.49161503, 0.49382858,\n",
              "       0.57558843, 0.46106268, 0.43212803, 0.50485961, 0.56152421])"
            ]
          },
          "metadata": {
            "tags": []
          },
          "execution_count": 235
        }
      ]
    },
    {
      "cell_type": "code",
      "metadata": {
        "id": "5ivz0Z7LpVm9",
        "colab_type": "code",
        "colab": {}
      },
      "source": [
        "# bootstrapping- we fit a distribution purely empirical (simulates it)- gives the empirical mean"
      ],
      "execution_count": 0,
      "outputs": []
    },
    {
      "cell_type": "code",
      "metadata": {
        "id": "zNUY4iu7qS98",
        "colab_type": "code",
        "outputId": "74c2ce32-7688-4598-bd58-85a18ba433e9",
        "colab": {
          "base_uri": "https://localhost:8080/",
          "height": 288
        }
      },
      "source": [
        "import pandas as pd\n",
        "pd.DataFrame(coinflips).describe()"
      ],
      "execution_count": 0,
      "outputs": [
        {
          "output_type": "execute_result",
          "data": {
            "text/html": [
              "<div>\n",
              "<style scoped>\n",
              "    .dataframe tbody tr th:only-of-type {\n",
              "        vertical-align: middle;\n",
              "    }\n",
              "\n",
              "    .dataframe tbody tr th {\n",
              "        vertical-align: top;\n",
              "    }\n",
              "\n",
              "    .dataframe thead th {\n",
              "        text-align: right;\n",
              "    }\n",
              "</style>\n",
              "<table border=\"1\" class=\"dataframe\">\n",
              "  <thead>\n",
              "    <tr style=\"text-align: right;\">\n",
              "      <th></th>\n",
              "      <th>0</th>\n",
              "    </tr>\n",
              "  </thead>\n",
              "  <tbody>\n",
              "    <tr>\n",
              "      <th>count</th>\n",
              "      <td>100.000000</td>\n",
              "    </tr>\n",
              "    <tr>\n",
              "      <th>mean</th>\n",
              "      <td>0.480000</td>\n",
              "    </tr>\n",
              "    <tr>\n",
              "      <th>std</th>\n",
              "      <td>0.502117</td>\n",
              "    </tr>\n",
              "    <tr>\n",
              "      <th>min</th>\n",
              "      <td>0.000000</td>\n",
              "    </tr>\n",
              "    <tr>\n",
              "      <th>25%</th>\n",
              "      <td>0.000000</td>\n",
              "    </tr>\n",
              "    <tr>\n",
              "      <th>50%</th>\n",
              "      <td>0.000000</td>\n",
              "    </tr>\n",
              "    <tr>\n",
              "      <th>75%</th>\n",
              "      <td>1.000000</td>\n",
              "    </tr>\n",
              "    <tr>\n",
              "      <th>max</th>\n",
              "      <td>1.000000</td>\n",
              "    </tr>\n",
              "  </tbody>\n",
              "</table>\n",
              "</div>"
            ],
            "text/plain": [
              "                0\n",
              "count  100.000000\n",
              "mean     0.480000\n",
              "std      0.502117\n",
              "min      0.000000\n",
              "25%      0.000000\n",
              "50%      0.000000\n",
              "75%      1.000000\n",
              "max      1.000000"
            ]
          },
          "metadata": {
            "tags": []
          },
          "execution_count": 238
        }
      ]
    },
    {
      "cell_type": "code",
      "metadata": {
        "id": "jBqJFHHBqdRc",
        "colab_type": "code",
        "outputId": "80bc73d8-795a-4eb1-e530-c42f61727ca8",
        "colab": {
          "base_uri": "https://localhost:8080/",
          "height": 35
        }
      },
      "source": [
        "coinflips_std_dist.std()"
      ],
      "execution_count": 0,
      "outputs": [
        {
          "output_type": "execute_result",
          "data": {
            "text/plain": [
              "0.036372429007820894"
            ]
          },
          "metadata": {
            "tags": []
          },
          "execution_count": 240
        }
      ]
    },
    {
      "cell_type": "markdown",
      "metadata": {
        "id": "Z4jJ0hLtSlnL",
        "colab_type": "text"
      },
      "source": [
        "## Module 4 - Real-World Experiment Design\n",
        "- deploy a simple static (front-end) A/B-instrumented webpage\n",
        "- evaluate and summarize findings from real-world A/B test dat"
      ]
    },
    {
      "cell_type": "code",
      "metadata": {
        "id": "GI-S3OBDSzwL",
        "colab_type": "code",
        "colab": {}
      },
      "source": [
        "# https://github.com/LambdaSchool/AB-Demo\n",
        "# 1. Fork it\n",
        "# 2. Two files: \n",
        "#     a. index.html - file we deploy online, some html, css and javascript\n",
        "#                     \n",
        "#     b. aBaylytics - line 103: variantId = Math.floor(Math.random() * variants.length) Math.floor returns floating point number between 0 and 1, variants.lenght returns number of variants, sets cookie, Math.random returns random\n",
        "\n",
        "# Got to settings on github page, scroll down to GitHubPages and change Source to master branch\n",
        "# Go to realtime in Google analytics --"
      ],
      "execution_count": 0,
      "outputs": []
    },
    {
      "cell_type": "code",
      "metadata": {
        "id": "8klBFXoXSzyu",
        "colab_type": "code",
        "colab": {}
      },
      "source": [
        ""
      ],
      "execution_count": 0,
      "outputs": []
    },
    {
      "cell_type": "code",
      "metadata": {
        "id": "NffXPwbtSz1S",
        "colab_type": "code",
        "colab": {}
      },
      "source": [
        ""
      ],
      "execution_count": 0,
      "outputs": []
    },
    {
      "cell_type": "code",
      "metadata": {
        "id": "lpQCclgfSz34",
        "colab_type": "code",
        "colab": {}
      },
      "source": [
        ""
      ],
      "execution_count": 0,
      "outputs": []
    },
    {
      "cell_type": "code",
      "metadata": {
        "id": "zKeHzftOqgAl",
        "colab_type": "code",
        "colab": {}
      },
      "source": [
        ""
      ],
      "execution_count": 0,
      "outputs": []
    },
    {
      "cell_type": "code",
      "metadata": {
        "id": "-AsJc8HaqgDH",
        "colab_type": "code",
        "colab": {}
      },
      "source": [
        ""
      ],
      "execution_count": 0,
      "outputs": []
    }
  ]
}